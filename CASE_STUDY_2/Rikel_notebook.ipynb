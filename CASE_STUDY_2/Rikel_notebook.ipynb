{
 "cells": [
  {
   "cell_type": "markdown",
   "metadata": {},
   "source": [
    "Caret is the Sklearn equivalent for R it's a great R package which provides general interface to more than 150 ML algorithms. It also provides great functions to sample the data (for training and testing), preprocessing, evaluating the model etc.,\n",
    "\n",
    "For more info on Caret goto:\n",
    "https://www.youtube.com/watch?v=7Jbb2ItbTC4 \n"
   ]
  },
  {
   "cell_type": "code",
   "execution_count": 1,
   "metadata": {},
   "outputs": [
    {
     "name": "stderr",
     "output_type": "stream",
     "text": [
      "Loading required package: lattice\n",
      "Loading required package: ggplot2\n",
      "Registered S3 methods overwritten by 'ggplot2':\n",
      "  method         from \n",
      "  [.quosures     rlang\n",
      "  c.quosures     rlang\n",
      "  print.quosures rlang\n"
     ]
    }
   ],
   "source": [
    "library(caret)"
   ]
  },
  {
   "cell_type": "code",
   "execution_count": 2,
   "metadata": {},
   "outputs": [],
   "source": [
    "library(e1071)#support package to caret"
   ]
  },
  {
   "cell_type": "markdown",
   "metadata": {},
   "source": [
    "# 0. Load data"
   ]
  },
  {
   "cell_type": "code",
   "execution_count": 3,
   "metadata": {},
   "outputs": [],
   "source": [
    "# library(ISLR) #using smarket: Daily percentage returns for the S&P 500 stock index between 2001 and 2005"
   ]
  },
  {
   "cell_type": "code",
   "execution_count": 19,
   "metadata": {},
   "outputs": [],
   "source": [
    "#import and read data\n",
    "df <- read.csv(\"Offlinedf.csv\", header = TRUE)"
   ]
  },
  {
   "cell_type": "markdown",
   "metadata": {},
   "source": [
    "# 1. Data description"
   ]
  },
  {
   "cell_type": "code",
   "execution_count": 20,
   "metadata": {},
   "outputs": [
    {
     "data": {
      "text/html": [
       "<table>\n",
       "<thead><tr><th scope=col>X</th><th scope=col>posX</th><th scope=col>posY</th><th scope=col>angle</th><th scope=col>X00.14.bf.b1.97.8a</th><th scope=col>X00.14.bf.b1.97.90</th><th scope=col>X00.0f.a3.39.e1.c0</th><th scope=col>X00.14.bf.b1.97.8d</th><th scope=col>X00.14.bf.b1.97.81</th><th scope=col>X00.14.bf.3b.c7.c6</th><th scope=col>X00.0f.a3.39.dd.cd</th></tr></thead>\n",
       "<tbody>\n",
       "\t<tr><td>1        </td><td>0        </td><td>0        </td><td>0        </td><td>-41.98489</td><td>-57.20774</td><td>-51.15455</td><td>-64.55649</td><td>-62.84349</td><td>-65.38813</td><td>-68.13182</td></tr>\n",
       "\t<tr><td>2        </td><td>0        </td><td>1        </td><td>0        </td><td>-44.97125</td><td>-58.22891</td><td>-50.57273</td><td>-61.07673</td><td>-67.18656</td><td>-65.19788</td><td>-70.33636</td></tr>\n",
       "\t<tr><td>3        </td><td>0        </td><td>2        </td><td>0        </td><td>-47.72008</td><td>-58.70679</td><td>-59.95455</td><td>-61.81601</td><td>-61.18764</td><td>-61.26058</td><td>-68.49831</td></tr>\n",
       "\t<tr><td>4        </td><td>0        </td><td>3        </td><td>0        </td><td>-51.10097</td><td>-56.79017</td><td>-55.53636</td><td>-58.28706</td><td>-56.71622</td><td>-62.36238</td><td>-69.08939</td></tr>\n",
       "\t<tr><td>5        </td><td>0        </td><td>4        </td><td>0        </td><td>-49.08489</td><td>-53.58976</td><td>-48.09091</td><td>-63.42386</td><td>-57.11135</td><td>-64.77592</td><td>-68.96818</td></tr>\n",
       "\t<tr><td>6        </td><td>0        </td><td>7        </td><td>0        </td><td>-46.97932</td><td>-62.51826</td><td>-57.30000</td><td>-55.15113</td><td>-64.02953</td><td>-64.57951</td><td>-71.43636</td></tr>\n",
       "</tbody>\n",
       "</table>\n"
      ],
      "text/latex": [
       "\\begin{tabular}{r|lllllllllll}\n",
       " X & posX & posY & angle & X00.14.bf.b1.97.8a & X00.14.bf.b1.97.90 & X00.0f.a3.39.e1.c0 & X00.14.bf.b1.97.8d & X00.14.bf.b1.97.81 & X00.14.bf.3b.c7.c6 & X00.0f.a3.39.dd.cd\\\\\n",
       "\\hline\n",
       "\t 1         & 0         & 0         & 0         & -41.98489 & -57.20774 & -51.15455 & -64.55649 & -62.84349 & -65.38813 & -68.13182\\\\\n",
       "\t 2         & 0         & 1         & 0         & -44.97125 & -58.22891 & -50.57273 & -61.07673 & -67.18656 & -65.19788 & -70.33636\\\\\n",
       "\t 3         & 0         & 2         & 0         & -47.72008 & -58.70679 & -59.95455 & -61.81601 & -61.18764 & -61.26058 & -68.49831\\\\\n",
       "\t 4         & 0         & 3         & 0         & -51.10097 & -56.79017 & -55.53636 & -58.28706 & -56.71622 & -62.36238 & -69.08939\\\\\n",
       "\t 5         & 0         & 4         & 0         & -49.08489 & -53.58976 & -48.09091 & -63.42386 & -57.11135 & -64.77592 & -68.96818\\\\\n",
       "\t 6         & 0         & 7         & 0         & -46.97932 & -62.51826 & -57.30000 & -55.15113 & -64.02953 & -64.57951 & -71.43636\\\\\n",
       "\\end{tabular}\n"
      ],
      "text/markdown": [
       "\n",
       "| X | posX | posY | angle | X00.14.bf.b1.97.8a | X00.14.bf.b1.97.90 | X00.0f.a3.39.e1.c0 | X00.14.bf.b1.97.8d | X00.14.bf.b1.97.81 | X00.14.bf.3b.c7.c6 | X00.0f.a3.39.dd.cd |\n",
       "|---|---|---|---|---|---|---|---|---|---|---|\n",
       "| 1         | 0         | 0         | 0         | -41.98489 | -57.20774 | -51.15455 | -64.55649 | -62.84349 | -65.38813 | -68.13182 |\n",
       "| 2         | 0         | 1         | 0         | -44.97125 | -58.22891 | -50.57273 | -61.07673 | -67.18656 | -65.19788 | -70.33636 |\n",
       "| 3         | 0         | 2         | 0         | -47.72008 | -58.70679 | -59.95455 | -61.81601 | -61.18764 | -61.26058 | -68.49831 |\n",
       "| 4         | 0         | 3         | 0         | -51.10097 | -56.79017 | -55.53636 | -58.28706 | -56.71622 | -62.36238 | -69.08939 |\n",
       "| 5         | 0         | 4         | 0         | -49.08489 | -53.58976 | -48.09091 | -63.42386 | -57.11135 | -64.77592 | -68.96818 |\n",
       "| 6         | 0         | 7         | 0         | -46.97932 | -62.51826 | -57.30000 | -55.15113 | -64.02953 | -64.57951 | -71.43636 |\n",
       "\n"
      ],
      "text/plain": [
       "  X posX posY angle X00.14.bf.b1.97.8a X00.14.bf.b1.97.90 X00.0f.a3.39.e1.c0\n",
       "1 1 0    0    0     -41.98489          -57.20774          -51.15455         \n",
       "2 2 0    1    0     -44.97125          -58.22891          -50.57273         \n",
       "3 3 0    2    0     -47.72008          -58.70679          -59.95455         \n",
       "4 4 0    3    0     -51.10097          -56.79017          -55.53636         \n",
       "5 5 0    4    0     -49.08489          -53.58976          -48.09091         \n",
       "6 6 0    7    0     -46.97932          -62.51826          -57.30000         \n",
       "  X00.14.bf.b1.97.8d X00.14.bf.b1.97.81 X00.14.bf.3b.c7.c6 X00.0f.a3.39.dd.cd\n",
       "1 -64.55649          -62.84349          -65.38813          -68.13182         \n",
       "2 -61.07673          -67.18656          -65.19788          -70.33636         \n",
       "3 -61.81601          -61.18764          -61.26058          -68.49831         \n",
       "4 -58.28706          -56.71622          -62.36238          -69.08939         \n",
       "5 -63.42386          -57.11135          -64.77592          -68.96818         \n",
       "6 -55.15113          -64.02953          -64.57951          -71.43636         "
      ]
     },
     "metadata": {},
     "output_type": "display_data"
    }
   ],
   "source": [
    "head(df)"
   ]
  },
  {
   "cell_type": "markdown",
   "metadata": {},
   "source": [
    "\n",
    "\n",
    "Description:\n",
    "\n",
    "\n"
   ]
  },
  {
   "cell_type": "markdown",
   "metadata": {},
   "source": [
    "# 2. DATA EXPLORATION"
   ]
  },
  {
   "cell_type": "code",
   "execution_count": 26,
   "metadata": {},
   "outputs": [
    {
     "name": "stdout",
     "output_type": "stream",
     "text": [
      "'data.frame':\t166 obs. of  11 variables:\n",
      " $ X                 : int  1 2 3 4 5 6 7 8 9 10 ...\n",
      " $ posX              : int  0 0 0 0 0 0 0 0 0 0 ...\n",
      " $ posY              : int  0 1 2 3 4 7 8 9 10 11 ...\n",
      " $ angle             : int  0 0 0 0 0 0 0 0 0 0 ...\n",
      " $ X00.14.bf.b1.97.8a: num  -42 -45 -47.7 -51.1 -49.1 ...\n",
      " $ X00.14.bf.b1.97.90: num  -57.2 -58.2 -58.7 -56.8 -53.6 ...\n",
      " $ X00.0f.a3.39.e1.c0: num  -51.2 -50.6 -60 -55.5 -48.1 ...\n",
      " $ X00.14.bf.b1.97.8d: num  -64.6 -61.1 -61.8 -58.3 -63.4 ...\n",
      " $ X00.14.bf.b1.97.81: num  -62.8 -67.2 -61.2 -56.7 -57.1 ...\n",
      " $ X00.14.bf.3b.c7.c6: num  -65.4 -65.2 -61.3 -62.4 -64.8 ...\n",
      " $ X00.0f.a3.39.dd.cd: num  -68.1 -70.3 -68.5 -69.1 -69 ...\n"
     ]
    }
   ],
   "source": [
    "str(df)"
   ]
  },
  {
   "cell_type": "code",
   "execution_count": 27,
   "metadata": {},
   "outputs": [
    {
     "data": {
      "text/plain": [
       "       X               posX            posY            angle  \n",
       " Min.   :  1.00   Min.   : 0.00   Min.   : 0.000   Min.   :0  \n",
       " 1st Qu.: 42.25   1st Qu.: 3.00   1st Qu.: 3.000   1st Qu.:0  \n",
       " Median : 83.50   Median :13.00   Median : 6.500   Median :0  \n",
       " Mean   : 83.50   Mean   :14.25   Mean   : 5.916   Mean   :0  \n",
       " 3rd Qu.:124.75   3rd Qu.:23.00   3rd Qu.: 8.000   3rd Qu.:0  \n",
       " Max.   :166.00   Max.   :33.00   Max.   :13.000   Max.   :0  \n",
       " X00.14.bf.b1.97.8a X00.14.bf.b1.97.90 X00.0f.a3.39.e1.c0 X00.14.bf.b1.97.8d\n",
       " Min.   :-70.02     Min.   :-79.51     Min.   :-64.21     Min.   :-67.31    \n",
       " 1st Qu.:-61.70     1st Qu.:-73.68     1st Qu.:-57.06     1st Qu.:-58.93    \n",
       " Median :-57.49     Median :-68.75     Median :-53.50     Median :-55.16    \n",
       " Mean   :-56.44     Mean   :-66.26     Mean   :-53.38     Mean   :-54.86    \n",
       " 3rd Qu.:-51.13     3rd Qu.:-59.09     3rd Qu.:-49.87     3rd Qu.:-51.36    \n",
       " Max.   :-40.37     Max.   :-40.23     Max.   :-42.79     Max.   :-39.76    \n",
       " X00.14.bf.b1.97.81 X00.14.bf.3b.c7.c6 X00.0f.a3.39.dd.cd\n",
       " Min.   :-69.90     Min.   :-70.31     Min.   :-83.00    \n",
       " 1st Qu.:-60.75     1st Qu.:-63.75     1st Qu.:-76.55    \n",
       " Median :-56.53     Median :-60.99     Median :-70.33    \n",
       " Mean   :-56.65     Mean   :-60.01     Mean   :-70.31    \n",
       " 3rd Qu.:-52.41     3rd Qu.:-56.44     3rd Qu.:-65.43    \n",
       " Max.   :-43.98     Max.   :-47.12     Max.   :-53.67    "
      ]
     },
     "metadata": {},
     "output_type": "display_data"
    }
   ],
   "source": [
    "summary(df)"
   ]
  },
  {
   "cell_type": "code",
   "execution_count": 25,
   "metadata": {},
   "outputs": [
    {
     "data": {
      "text/html": [
       "<ol class=list-inline>\n",
       "\t<li>'X'</li>\n",
       "\t<li>'posX'</li>\n",
       "\t<li>'posY'</li>\n",
       "\t<li>'angle'</li>\n",
       "\t<li>'X00.14.bf.b1.97.8a'</li>\n",
       "\t<li>'X00.14.bf.b1.97.90'</li>\n",
       "\t<li>'X00.0f.a3.39.e1.c0'</li>\n",
       "\t<li>'X00.14.bf.b1.97.8d'</li>\n",
       "\t<li>'X00.14.bf.b1.97.81'</li>\n",
       "\t<li>'X00.14.bf.3b.c7.c6'</li>\n",
       "\t<li>'X00.0f.a3.39.dd.cd'</li>\n",
       "</ol>\n"
      ],
      "text/latex": [
       "\\begin{enumerate*}\n",
       "\\item 'X'\n",
       "\\item 'posX'\n",
       "\\item 'posY'\n",
       "\\item 'angle'\n",
       "\\item 'X00.14.bf.b1.97.8a'\n",
       "\\item 'X00.14.bf.b1.97.90'\n",
       "\\item 'X00.0f.a3.39.e1.c0'\n",
       "\\item 'X00.14.bf.b1.97.8d'\n",
       "\\item 'X00.14.bf.b1.97.81'\n",
       "\\item 'X00.14.bf.3b.c7.c6'\n",
       "\\item 'X00.0f.a3.39.dd.cd'\n",
       "\\end{enumerate*}\n"
      ],
      "text/markdown": [
       "1. 'X'\n",
       "2. 'posX'\n",
       "3. 'posY'\n",
       "4. 'angle'\n",
       "5. 'X00.14.bf.b1.97.8a'\n",
       "6. 'X00.14.bf.b1.97.90'\n",
       "7. 'X00.0f.a3.39.e1.c0'\n",
       "8. 'X00.14.bf.b1.97.8d'\n",
       "9. 'X00.14.bf.b1.97.81'\n",
       "10. 'X00.14.bf.3b.c7.c6'\n",
       "11. 'X00.0f.a3.39.dd.cd'\n",
       "\n",
       "\n"
      ],
      "text/plain": [
       " [1] \"X\"                  \"posX\"               \"posY\"              \n",
       " [4] \"angle\"              \"X00.14.bf.b1.97.8a\" \"X00.14.bf.b1.97.90\"\n",
       " [7] \"X00.0f.a3.39.e1.c0\" \"X00.14.bf.b1.97.8d\" \"X00.14.bf.b1.97.81\"\n",
       "[10] \"X00.14.bf.3b.c7.c6\" \"X00.0f.a3.39.dd.cd\""
      ]
     },
     "metadata": {},
     "output_type": "display_data"
    }
   ],
   "source": [
    "colnames(df, do.NULL = TRUE, prefix = \"col\")"
   ]
  },
  {
   "cell_type": "markdown",
   "metadata": {},
   "source": [
    "# 3. PREPROCESSING\n",
    "(clean up the data to get it ready to pass it in the machine)"
   ]
  },
  {
   "cell_type": "code",
   "execution_count": 45,
   "metadata": {},
   "outputs": [
    {
     "name": "stdout",
     "output_type": "stream",
     "text": [
      " logi [1:166, 1:11] FALSE FALSE FALSE FALSE FALSE FALSE ...\n",
      " - attr(*, \"dimnames\")=List of 2\n",
      "  ..$ : NULL\n",
      "  ..$ : chr [1:11] \"X\" \"posX\" \"posY\" \"angle\" ...\n"
     ]
    }
   ],
   "source": [
    "# check for na and impute or remove na \n",
    "is.na(df)"
   ]
  },
  {
   "cell_type": "code",
   "execution_count": 50,
   "metadata": {},
   "outputs": [],
   "source": [
    "#2. TODO: variable imputation check and replace missing value using knn\n",
    "#remove na quick fix\n",
    "df2 <- na.omit(df) "
   ]
  },
  {
   "cell_type": "code",
   "execution_count": 51,
   "metadata": {},
   "outputs": [
    {
     "name": "stdout",
     "output_type": "stream",
     "text": [
      "'data.frame':\t166 obs. of  11 variables:\n",
      " $ X                 : int  1 2 3 4 5 6 7 8 9 10 ...\n",
      " $ posX              : int  0 0 0 0 0 0 0 0 0 0 ...\n",
      " $ posY              : int  0 1 2 3 4 7 8 9 10 11 ...\n",
      " $ angle             : int  0 0 0 0 0 0 0 0 0 0 ...\n",
      " $ X00.14.bf.b1.97.8a: num  -42 -45 -47.7 -51.1 -49.1 ...\n",
      " $ X00.14.bf.b1.97.90: num  -57.2 -58.2 -58.7 -56.8 -53.6 ...\n",
      " $ X00.0f.a3.39.e1.c0: num  -51.2 -50.6 -60 -55.5 -48.1 ...\n",
      " $ X00.14.bf.b1.97.8d: num  -64.6 -61.1 -61.8 -58.3 -63.4 ...\n",
      " $ X00.14.bf.b1.97.81: num  -62.8 -67.2 -61.2 -56.7 -57.1 ...\n",
      " $ X00.14.bf.3b.c7.c6: num  -65.4 -65.2 -61.3 -62.4 -64.8 ...\n",
      " $ X00.0f.a3.39.dd.cd: num  -68.1 -70.3 -68.5 -69.1 -69 ...\n"
     ]
    }
   ],
   "source": [
    "str(df2) ### no value remove"
   ]
  },
  {
   "cell_type": "code",
   "execution_count": 6,
   "metadata": {},
   "outputs": [],
   "source": [
    "# 1. Split train and test set"
   ]
  },
  {
   "cell_type": "code",
   "execution_count": 57,
   "metadata": {},
   "outputs": [],
   "source": [
    "set.seed(300) \n",
    "#Spliting data as training and test set. Using createDataPartition() function from caret\n",
    "indxTrain <- createDataPartition(y = df$posY,p = 0.75,list = FALSE)\n",
    "training <- df[indxTrain,]\n",
    "testing <- df[-indxTrain,]"
   ]
  },
  {
   "cell_type": "code",
   "execution_count": 60,
   "metadata": {},
   "outputs": [
    {
     "name": "stdout",
     "output_type": "stream",
     "text": [
      "'data.frame':\t126 obs. of  11 variables:\n",
      " $ X                 : int  1 2 3 5 6 9 10 11 12 13 ...\n",
      " $ posX              : int  0 0 0 0 0 0 0 0 0 1 ...\n",
      " $ posY              : int  0 1 2 4 7 10 11 12 13 0 ...\n",
      " $ angle             : int  0 0 0 0 0 0 0 0 0 0 ...\n",
      " $ X00.14.bf.b1.97.8a: num  -42 -45 -47.7 -49.1 -47 ...\n",
      " $ X00.14.bf.b1.97.90: num  -57.2 -58.2 -58.7 -53.6 -62.5 ...\n",
      " $ X00.0f.a3.39.e1.c0: num  -51.2 -50.6 -60 -48.1 -57.3 ...\n",
      " $ X00.14.bf.b1.97.8d: num  -64.6 -61.1 -61.8 -63.4 -55.2 ...\n",
      " $ X00.14.bf.b1.97.81: num  -62.8 -67.2 -61.2 -57.1 -64 ...\n",
      " $ X00.14.bf.3b.c7.c6: num  -65.4 -65.2 -61.3 -64.8 -64.6 ...\n",
      " $ X00.0f.a3.39.dd.cd: num  -68.1 -70.3 -68.5 -69 -71.4 ...\n"
     ]
    }
   ],
   "source": [
    "str(training)"
   ]
  },
  {
   "cell_type": "code",
   "execution_count": 66,
   "metadata": {},
   "outputs": [
    {
     "data": {
      "text/plain": [
       "Created from 126 samples and 10 variables\n",
       "\n",
       "Pre-processing:\n",
       "  - centered (10)\n",
       "  - ignored (0)\n",
       "  - scaled (10)\n"
      ]
     },
     "metadata": {},
     "output_type": "display_data"
    }
   ],
   "source": [
    "# variabe standardization or normalized or (centered and scaled). using the caret pre-process  object\n",
    "trainX <- training[,names(training)!= \"angle\"] ## remove not numerical column\n",
    "preProcObj <- preProcess(x = trainX,method = c(\"center\", \"scale\"))\n",
    "preProcObj"
   ]
  },
  {
   "cell_type": "code",
   "execution_count": 67,
   "metadata": {},
   "outputs": [],
   "source": [
    "preProc_trainX <- predict(preProcObj, trainX)"
   ]
  },
  {
   "cell_type": "code",
   "execution_count": 68,
   "metadata": {},
   "outputs": [
    {
     "data": {
      "text/html": [
       "<table>\n",
       "<thead><tr><th></th><th scope=col>X</th><th scope=col>posX</th><th scope=col>posY</th><th scope=col>X00.14.bf.b1.97.8a</th><th scope=col>X00.14.bf.b1.97.90</th><th scope=col>X00.0f.a3.39.e1.c0</th><th scope=col>X00.14.bf.b1.97.8d</th><th scope=col>X00.14.bf.b1.97.81</th><th scope=col>X00.14.bf.3b.c7.c6</th><th scope=col>X00.0f.a3.39.dd.cd</th></tr></thead>\n",
       "<tbody>\n",
       "\t<tr><th scope=row>1</th><td>-1.659021   </td><td>-1.289539   </td><td>-2.1100743  </td><td>1.9044714   </td><td>0.8973503   </td><td> 0.4484205  </td><td>-1.696633826</td><td>-1.04925819 </td><td>-1.0151552  </td><td> 0.27643033 </td></tr>\n",
       "\t<tr><th scope=row>2</th><td>-1.638267   </td><td>-1.289539   </td><td>-1.7527230  </td><td>1.4999809   </td><td>0.7905687   </td><td> 0.5755244  </td><td>-1.071775361</td><td>-1.81037445 </td><td>-0.9794307  </td><td>-0.04431562 </td></tr>\n",
       "\t<tr><th scope=row>3</th><td>-1.617512   </td><td>-1.289539   </td><td>-1.3953717  </td><td>1.1276640   </td><td>0.7405972   </td><td>-1.4740264  </td><td>-1.204528599</td><td>-0.75907261 </td><td>-0.2401244  </td><td> 0.22310905 </td></tr>\n",
       "\t<tr><th scope=row>5</th><td>-1.576004   </td><td>-1.289539   </td><td>-0.6806691  </td><td>0.9428061   </td><td>1.2756749   </td><td> 1.1177021  </td><td>-1.493248391</td><td>-0.04470837 </td><td>-0.9001997  </td><td> 0.15474527 </td></tr>\n",
       "\t<tr><th scope=row>6</th><td>-1.555250   </td><td>-1.289539   </td><td> 0.3913847  </td><td>1.2279965   </td><td>0.3420400   </td><td>-0.8941147  </td><td>-0.007720591</td><td>-1.25710941 </td><td>-0.8633196  </td><td>-0.20435793 </td></tr>\n",
       "\t<tr><th scope=row>9</th><td>-1.492987   </td><td>-1.289539   </td><td> 1.4634386  </td><td>1.2972688   </td><td>1.6833057   </td><td>-0.6538089  </td><td>-1.923320589</td><td>-0.99859798 </td><td>-0.7975301  </td><td> 0.12101735 </td></tr>\n",
       "</tbody>\n",
       "</table>\n"
      ],
      "text/latex": [
       "\\begin{tabular}{r|llllllllll}\n",
       "  & X & posX & posY & X00.14.bf.b1.97.8a & X00.14.bf.b1.97.90 & X00.0f.a3.39.e1.c0 & X00.14.bf.b1.97.8d & X00.14.bf.b1.97.81 & X00.14.bf.3b.c7.c6 & X00.0f.a3.39.dd.cd\\\\\n",
       "\\hline\n",
       "\t1 & -1.659021    & -1.289539    & -2.1100743   & 1.9044714    & 0.8973503    &  0.4484205   & -1.696633826 & -1.04925819  & -1.0151552   &  0.27643033 \\\\\n",
       "\t2 & -1.638267    & -1.289539    & -1.7527230   & 1.4999809    & 0.7905687    &  0.5755244   & -1.071775361 & -1.81037445  & -0.9794307   & -0.04431562 \\\\\n",
       "\t3 & -1.617512    & -1.289539    & -1.3953717   & 1.1276640    & 0.7405972    & -1.4740264   & -1.204528599 & -0.75907261  & -0.2401244   &  0.22310905 \\\\\n",
       "\t5 & -1.576004    & -1.289539    & -0.6806691   & 0.9428061    & 1.2756749    &  1.1177021   & -1.493248391 & -0.04470837  & -0.9001997   &  0.15474527 \\\\\n",
       "\t6 & -1.555250    & -1.289539    &  0.3913847   & 1.2279965    & 0.3420400    & -0.8941147   & -0.007720591 & -1.25710941  & -0.8633196   & -0.20435793 \\\\\n",
       "\t9 & -1.492987    & -1.289539    &  1.4634386   & 1.2972688    & 1.6833057    & -0.6538089   & -1.923320589 & -0.99859798  & -0.7975301   &  0.12101735 \\\\\n",
       "\\end{tabular}\n"
      ],
      "text/markdown": [
       "\n",
       "| <!--/--> | X | posX | posY | X00.14.bf.b1.97.8a | X00.14.bf.b1.97.90 | X00.0f.a3.39.e1.c0 | X00.14.bf.b1.97.8d | X00.14.bf.b1.97.81 | X00.14.bf.3b.c7.c6 | X00.0f.a3.39.dd.cd |\n",
       "|---|---|---|---|---|---|---|---|---|---|---|\n",
       "| 1 | -1.659021    | -1.289539    | -2.1100743   | 1.9044714    | 0.8973503    |  0.4484205   | -1.696633826 | -1.04925819  | -1.0151552   |  0.27643033  |\n",
       "| 2 | -1.638267    | -1.289539    | -1.7527230   | 1.4999809    | 0.7905687    |  0.5755244   | -1.071775361 | -1.81037445  | -0.9794307   | -0.04431562  |\n",
       "| 3 | -1.617512    | -1.289539    | -1.3953717   | 1.1276640    | 0.7405972    | -1.4740264   | -1.204528599 | -0.75907261  | -0.2401244   |  0.22310905  |\n",
       "| 5 | -1.576004    | -1.289539    | -0.6806691   | 0.9428061    | 1.2756749    |  1.1177021   | -1.493248391 | -0.04470837  | -0.9001997   |  0.15474527  |\n",
       "| 6 | -1.555250    | -1.289539    |  0.3913847   | 1.2279965    | 0.3420400    | -0.8941147   | -0.007720591 | -1.25710941  | -0.8633196   | -0.20435793  |\n",
       "| 9 | -1.492987    | -1.289539    |  1.4634386   | 1.2972688    | 1.6833057    | -0.6538089   | -1.923320589 | -0.99859798  | -0.7975301   |  0.12101735  |\n",
       "\n"
      ],
      "text/plain": [
       "  X         posX      posY       X00.14.bf.b1.97.8a X00.14.bf.b1.97.90\n",
       "1 -1.659021 -1.289539 -2.1100743 1.9044714          0.8973503         \n",
       "2 -1.638267 -1.289539 -1.7527230 1.4999809          0.7905687         \n",
       "3 -1.617512 -1.289539 -1.3953717 1.1276640          0.7405972         \n",
       "5 -1.576004 -1.289539 -0.6806691 0.9428061          1.2756749         \n",
       "6 -1.555250 -1.289539  0.3913847 1.2279965          0.3420400         \n",
       "9 -1.492987 -1.289539  1.4634386 1.2972688          1.6833057         \n",
       "  X00.0f.a3.39.e1.c0 X00.14.bf.b1.97.8d X00.14.bf.b1.97.81 X00.14.bf.3b.c7.c6\n",
       "1  0.4484205         -1.696633826       -1.04925819        -1.0151552        \n",
       "2  0.5755244         -1.071775361       -1.81037445        -0.9794307        \n",
       "3 -1.4740264         -1.204528599       -0.75907261        -0.2401244        \n",
       "5  1.1177021         -1.493248391       -0.04470837        -0.9001997        \n",
       "6 -0.8941147         -0.007720591       -1.25710941        -0.8633196        \n",
       "9 -0.6538089         -1.923320589       -0.99859798        -0.7975301        \n",
       "  X00.0f.a3.39.dd.cd\n",
       "1  0.27643033       \n",
       "2 -0.04431562       \n",
       "3  0.22310905       \n",
       "5  0.15474527       \n",
       "6 -0.20435793       \n",
       "9  0.12101735       "
      ]
     },
     "metadata": {},
     "output_type": "display_data"
    }
   ],
   "source": [
    "head(preProc_trainX)"
   ]
  },
  {
   "cell_type": "code",
   "execution_count": 69,
   "metadata": {
    "scrolled": true
   },
   "outputs": [
    {
     "data": {
      "text/plain": [
       "       X                  posX              posY         X00.14.bf.b1.97.8a\n",
       " Min.   :-1.659021   Min.   :-1.2895   Min.   :-2.1101   Min.   :-1.8933   \n",
       " 1st Qu.:-0.885926   1st Qu.:-1.1012   1st Qu.:-1.0380   1st Qu.:-0.7026   \n",
       " Median :-0.009059   Median :-0.1121   Median : 0.2127   Median :-0.1469   \n",
       " Mean   : 0.000000   Mean   : 0.0000   Mean   : 0.0000   Mean   : 0.0000   \n",
       " 3rd Qu.: 0.826299   3rd Qu.: 0.8769   3rd Qu.: 0.7487   3rd Qu.: 0.8738   \n",
       " Max.   : 1.765427   Max.   : 1.8188   Max.   : 2.5355   Max.   : 2.1226   \n",
       " X00.14.bf.b1.97.90 X00.0f.a3.39.e1.c0 X00.14.bf.b1.97.8d X00.14.bf.b1.97.81\n",
       " Min.   :-1.4344    Min.   :-2.40347   Min.   :-2.19186   Min.   :-2.2712   \n",
       " 1st Qu.:-0.8881    1st Qu.:-0.77992   1st Qu.:-0.66842   1st Qu.:-0.6611   \n",
       " Median :-0.2820    Median : 0.01608   Median :-0.07329   Median :-0.0161   \n",
       " Mean   : 0.0000    Mean   : 0.00000   Mean   : 0.00000   Mean   : 0.0000   \n",
       " 3rd Qu.: 0.7383    3rd Qu.: 0.72150   3rd Qu.: 0.57374   3rd Qu.: 0.5794   \n",
       " Max.   : 2.6724    Max.   : 2.27554   Max.   : 2.75569   Max.   : 2.2241   \n",
       " X00.14.bf.3b.c7.c6 X00.0f.a3.39.dd.cd\n",
       " Min.   :-1.9398    Min.   :-1.88706  \n",
       " 1st Qu.:-0.7024    1st Qu.:-0.88220  \n",
       " Median :-0.2099    Median :-0.02654  \n",
       " Mean   : 0.0000    Mean   : 0.00000  \n",
       " 3rd Qu.: 0.6658    3rd Qu.: 0.75976  \n",
       " Max.   : 2.4151    Max.   : 2.38037  "
      ]
     },
     "metadata": {},
     "output_type": "display_data"
    }
   ],
   "source": [
    "summary(preProc_trainX)"
   ]
  },
  {
   "cell_type": "markdown",
   "metadata": {},
   "source": [
    "# 4. FIT MODEL & PREDICT"
   ]
  },
  {
   "cell_type": "code",
   "execution_count": 33,
   "metadata": {},
   "outputs": [],
   "source": [
    "# multi-variate knn-reg\n",
    "#predictor (dependent variable ): tem <- df[c(\"posX\",\"posY\")]\n",
    "#knn.reg(train, test = NULL, y, k = 3, algorithm=c(\"kd_tree\", \n",
    "#         \"cover_tree\", \"brute\"))"
   ]
  },
  {
   "cell_type": "code",
   "execution_count": 73,
   "metadata": {},
   "outputs": [
    {
     "data": {
      "text/plain": [
       "k-Nearest Neighbors \n",
       "\n",
       "126 samples\n",
       "  9 predictor\n",
       "\n",
       "Pre-processing: centered (8), scaled (8) \n",
       "Resampling: Cross-Validated (10 fold, repeated 3 times) \n",
       "Summary of sample sizes: 114, 114, 114, 114, 113, 114, ... \n",
       "Resampling results across tuning parameters:\n",
       "\n",
       "  k   RMSE      Rsquared   MAE     \n",
       "   5  2.716024  0.9440394  2.227332\n",
       "   7  2.650438  0.9472155  2.207230\n",
       "   9  2.691576  0.9471843  2.239333\n",
       "  11  2.765788  0.9435548  2.315404\n",
       "  13  2.895297  0.9378326  2.414175\n",
       "  15  3.020904  0.9319561  2.530275\n",
       "  17  3.117368  0.9283115  2.610798\n",
       "  19  3.217065  0.9238760  2.706929\n",
       "  21  3.301822  0.9212827  2.798961\n",
       "  23  3.407500  0.9164936  2.897397\n",
       "  25  3.488158  0.9133447  2.978976\n",
       "  27  3.577728  0.9094007  3.054768\n",
       "  29  3.645782  0.9060250  3.121095\n",
       "  31  3.721265  0.9024123  3.177168\n",
       "  33  3.762390  0.9007355  3.203056\n",
       "  35  3.801445  0.8991293  3.233293\n",
       "  37  3.830315  0.8997095  3.239447\n",
       "  39  3.884289  0.8984485  3.274489\n",
       "  41  3.964831  0.8971084  3.325787\n",
       "  43  4.061732  0.8965864  3.377548\n",
       "\n",
       "RMSE was used to select the optimal model using the smallest value.\n",
       "The final value used for the model was k = 7."
      ]
     },
     "metadata": {},
     "output_type": "display_data"
    }
   ],
   "source": [
    "set.seed(400)\n",
    "ctrl <- trainControl(method=\"repeatedcv\",repeats = 3) # default 10 fold cross validation during training and do 3 time the 10 fold CV\n",
    "knnFit <- train(posX+posY ~ ., data = trainX, method = \"knn\", trControl = ctrl, preProcess = c(\"center\",\"scale\"), tuneLength = 20)##tuneLengh to atomatically try 20  k value\n",
    "\n",
    "#Output of kNN fit\n",
    "knnFit"
   ]
  },
  {
   "cell_type": "code",
   "execution_count": 71,
   "metadata": {},
   "outputs": [
    {
     "data": {
      "image/png": "[encoded data removed]",
      "text/plain": [
       "plot without title"
      ]
     },
     "metadata": {},
     "output_type": "display_data"
    }
   ],
   "source": [
    "#Plotting yields Number of Neighbours Vs accuracy (based on repeated cross validation)\n",
    "plot(knnFit)"
   ]
  },
  {
   "cell_type": "code",
   "execution_count": 74,
   "metadata": {},
   "outputs": [
    {
     "ename": "ERROR",
     "evalue": "Error: `data` and `reference` should be factors with the same levels.\n",
     "output_type": "error",
     "traceback": [
      "Error: `data` and `reference` should be factors with the same levels.\nTraceback:\n",
      "1. confusionMatrix(knnPredict, testing$Direction)",
      "2. confusionMatrix.default(knnPredict, testing$Direction)",
      "3. stop(\"`data` and `reference` should be factors with the same levels.\", \n .     call. = FALSE)"
     ]
    }
   ],
   "source": [
    "knnPredict <- predict(knnFit,newdata = testing )\n",
    "#Get the confusion matrix to see accuracy value and other parameter values\n",
    "confusionMatrix(knnPredict, testing$Direction )"
   ]
  },
  {
   "cell_type": "code",
   "execution_count": null,
   "metadata": {},
   "outputs": [],
   "source": [
    "#### run the model removing one at the time \n",
    "00:0f:a3:39:dd:cd\n",
    "\n",
    "00:0f:a3:39:e1:c0\n"
   ]
  }
 ],
 "metadata": {
  "kernelspec": {
   "display_name": "R",
   "language": "R",
   "name": "ir"
  },
  "language_info": {
   "codemirror_mode": "r",
   "file_extension": ".r",
   "mimetype": "text/x-r-source",
   "name": "R",
   "pygments_lexer": "r",
   "version": "3.6.1"
  }
 },
 "nbformat": 4,
 "nbformat_minor": 4
}
