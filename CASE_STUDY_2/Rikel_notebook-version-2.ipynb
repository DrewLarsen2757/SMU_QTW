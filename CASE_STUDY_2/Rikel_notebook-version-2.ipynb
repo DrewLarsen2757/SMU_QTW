{
 "cells": [
  {
   "cell_type": "markdown",
   "metadata": {},
   "source": [
    "Caret is the Sklearn equivalent for R it's a great R package which provides general interface to more than 150 ML algorithms. It also provides great functions to sample the data (for training and testing), preprocessing, evaluating the model etc.,\n",
    "\n",
    "For more info on Caret goto:\n",
    "https://www.youtube.com/watch?v=7Jbb2ItbTC4 \n"
   ]
  },
  {
   "cell_type": "code",
   "execution_count": 7,
   "metadata": {},
   "outputs": [
    {
     "name": "stderr",
     "output_type": "stream",
     "text": [
      "Loading required package: lattice\n",
      "Loading required package: ggplot2\n",
      "Registered S3 methods overwritten by 'ggplot2':\n",
      "  method         from \n",
      "  [.quosures     rlang\n",
      "  c.quosures     rlang\n",
      "  print.quosures rlang\n"
     ]
    }
   ],
   "source": [
    "library(caret)"
   ]
  },
  {
   "cell_type": "code",
   "execution_count": 8,
   "metadata": {},
   "outputs": [],
   "source": [
    "library(e1071)#support package to caret"
   ]
  },
  {
   "cell_type": "markdown",
   "metadata": {},
   "source": [
    "# 0. Load data"
   ]
  },
  {
   "cell_type": "code",
   "execution_count": 9,
   "metadata": {},
   "outputs": [],
   "source": [
    "# library(ISLR) #using smarket: Daily percentage returns for the S&P 500 stock index between 2001 and 2005"
   ]
  },
  {
   "cell_type": "code",
   "execution_count": 90,
   "metadata": {},
   "outputs": [],
   "source": [
    "#import and read data\n",
    "df <- read.csv(\"fullofflinedf.csv\", header = TRUE)"
   ]
  },
  {
   "cell_type": "markdown",
   "metadata": {},
   "source": [
    "# 1. Data description"
   ]
  },
  {
   "cell_type": "code",
   "execution_count": 91,
   "metadata": {},
   "outputs": [
    {
     "data": {
      "text/html": [
       "<table>\n",
       "<thead><tr><th scope=col>X</th><th scope=col>posX</th><th scope=col>posY</th><th scope=col>angle</th><th scope=col>X00.14.bf.b1.97.8a</th><th scope=col>X00.14.bf.b1.97.90</th><th scope=col>X00.0f.a3.39.e1.c0</th><th scope=col>X00.14.bf.b1.97.8d</th><th scope=col>X00.14.bf.b1.97.81</th><th scope=col>X00.14.bf.3b.c7.c6</th><th scope=col>X00.0f.a3.39.dd.cd</th></tr></thead>\n",
       "<tbody>\n",
       "\t<tr><td>1        </td><td>0        </td><td>0        </td><td>0        </td><td>-41.98489</td><td>-57.20774</td><td>-51.15455</td><td>-64.55649</td><td>-62.84349</td><td>-65.38813</td><td>-68.13182</td></tr>\n",
       "\t<tr><td>2        </td><td>0        </td><td>1        </td><td>0        </td><td>-44.97125</td><td>-58.22891</td><td>-50.57273</td><td>-61.07673</td><td>-67.18656</td><td>-65.19788</td><td>-70.33636</td></tr>\n",
       "\t<tr><td>3        </td><td>0        </td><td>2        </td><td>0        </td><td>-47.72008</td><td>-58.70679</td><td>-59.95455</td><td>-61.81601</td><td>-61.18764</td><td>-61.26058</td><td>-68.49831</td></tr>\n",
       "\t<tr><td>4        </td><td>0        </td><td>3        </td><td>0        </td><td>-51.10097</td><td>-56.79017</td><td>-55.53636</td><td>-58.28706</td><td>-56.71622</td><td>-62.36238</td><td>-69.08939</td></tr>\n",
       "\t<tr><td>5        </td><td>0        </td><td>4        </td><td>0        </td><td>-49.08489</td><td>-53.58976</td><td>-48.09091</td><td>-63.42386</td><td>-57.11135</td><td>-64.77592</td><td>-68.96818</td></tr>\n",
       "\t<tr><td>6        </td><td>0        </td><td>7        </td><td>0        </td><td>-46.97932</td><td>-62.51826</td><td>-57.30000</td><td>-55.15113</td><td>-64.02953</td><td>-64.57951</td><td>-71.43636</td></tr>\n",
       "</tbody>\n",
       "</table>\n"
      ],
      "text/latex": [
       "\\begin{tabular}{r|lllllllllll}\n",
       " X & posX & posY & angle & X00.14.bf.b1.97.8a & X00.14.bf.b1.97.90 & X00.0f.a3.39.e1.c0 & X00.14.bf.b1.97.8d & X00.14.bf.b1.97.81 & X00.14.bf.3b.c7.c6 & X00.0f.a3.39.dd.cd\\\\\n",
       "\\hline\n",
       "\t 1         & 0         & 0         & 0         & -41.98489 & -57.20774 & -51.15455 & -64.55649 & -62.84349 & -65.38813 & -68.13182\\\\\n",
       "\t 2         & 0         & 1         & 0         & -44.97125 & -58.22891 & -50.57273 & -61.07673 & -67.18656 & -65.19788 & -70.33636\\\\\n",
       "\t 3         & 0         & 2         & 0         & -47.72008 & -58.70679 & -59.95455 & -61.81601 & -61.18764 & -61.26058 & -68.49831\\\\\n",
       "\t 4         & 0         & 3         & 0         & -51.10097 & -56.79017 & -55.53636 & -58.28706 & -56.71622 & -62.36238 & -69.08939\\\\\n",
       "\t 5         & 0         & 4         & 0         & -49.08489 & -53.58976 & -48.09091 & -63.42386 & -57.11135 & -64.77592 & -68.96818\\\\\n",
       "\t 6         & 0         & 7         & 0         & -46.97932 & -62.51826 & -57.30000 & -55.15113 & -64.02953 & -64.57951 & -71.43636\\\\\n",
       "\\end{tabular}\n"
      ],
      "text/markdown": [
       "\n",
       "| X | posX | posY | angle | X00.14.bf.b1.97.8a | X00.14.bf.b1.97.90 | X00.0f.a3.39.e1.c0 | X00.14.bf.b1.97.8d | X00.14.bf.b1.97.81 | X00.14.bf.3b.c7.c6 | X00.0f.a3.39.dd.cd |\n",
       "|---|---|---|---|---|---|---|---|---|---|---|\n",
       "| 1         | 0         | 0         | 0         | -41.98489 | -57.20774 | -51.15455 | -64.55649 | -62.84349 | -65.38813 | -68.13182 |\n",
       "| 2         | 0         | 1         | 0         | -44.97125 | -58.22891 | -50.57273 | -61.07673 | -67.18656 | -65.19788 | -70.33636 |\n",
       "| 3         | 0         | 2         | 0         | -47.72008 | -58.70679 | -59.95455 | -61.81601 | -61.18764 | -61.26058 | -68.49831 |\n",
       "| 4         | 0         | 3         | 0         | -51.10097 | -56.79017 | -55.53636 | -58.28706 | -56.71622 | -62.36238 | -69.08939 |\n",
       "| 5         | 0         | 4         | 0         | -49.08489 | -53.58976 | -48.09091 | -63.42386 | -57.11135 | -64.77592 | -68.96818 |\n",
       "| 6         | 0         | 7         | 0         | -46.97932 | -62.51826 | -57.30000 | -55.15113 | -64.02953 | -64.57951 | -71.43636 |\n",
       "\n"
      ],
      "text/plain": [
       "  X posX posY angle X00.14.bf.b1.97.8a X00.14.bf.b1.97.90 X00.0f.a3.39.e1.c0\n",
       "1 1 0    0    0     -41.98489          -57.20774          -51.15455         \n",
       "2 2 0    1    0     -44.97125          -58.22891          -50.57273         \n",
       "3 3 0    2    0     -47.72008          -58.70679          -59.95455         \n",
       "4 4 0    3    0     -51.10097          -56.79017          -55.53636         \n",
       "5 5 0    4    0     -49.08489          -53.58976          -48.09091         \n",
       "6 6 0    7    0     -46.97932          -62.51826          -57.30000         \n",
       "  X00.14.bf.b1.97.8d X00.14.bf.b1.97.81 X00.14.bf.3b.c7.c6 X00.0f.a3.39.dd.cd\n",
       "1 -64.55649          -62.84349          -65.38813          -68.13182         \n",
       "2 -61.07673          -67.18656          -65.19788          -70.33636         \n",
       "3 -61.81601          -61.18764          -61.26058          -68.49831         \n",
       "4 -58.28706          -56.71622          -62.36238          -69.08939         \n",
       "5 -63.42386          -57.11135          -64.77592          -68.96818         \n",
       "6 -55.15113          -64.02953          -64.57951          -71.43636         "
      ]
     },
     "metadata": {},
     "output_type": "display_data"
    }
   ],
   "source": [
    "head(df)"
   ]
  },
  {
   "cell_type": "markdown",
   "metadata": {},
   "source": [
    "\n",
    "\n",
    "Description:\n",
    "\n",
    "\n"
   ]
  },
  {
   "cell_type": "markdown",
   "metadata": {},
   "source": [
    "# 2. DATA EXPLORATION"
   ]
  },
  {
   "cell_type": "code",
   "execution_count": 92,
   "metadata": {},
   "outputs": [
    {
     "name": "stdout",
     "output_type": "stream",
     "text": [
      "'data.frame':\t1328 obs. of  11 variables:\n",
      " $ X                 : int  1 2 3 4 5 6 7 8 9 10 ...\n",
      " $ posX              : int  0 0 0 0 0 0 0 0 0 0 ...\n",
      " $ posY              : int  0 1 2 3 4 7 8 9 10 11 ...\n",
      " $ angle             : int  0 0 0 0 0 0 0 0 0 0 ...\n",
      " $ X00.14.bf.b1.97.8a: num  -42 -45 -47.7 -51.1 -49.1 ...\n",
      " $ X00.14.bf.b1.97.90: num  -57.2 -58.2 -58.7 -56.8 -53.6 ...\n",
      " $ X00.0f.a3.39.e1.c0: num  -51.2 -50.6 -60 -55.5 -48.1 ...\n",
      " $ X00.14.bf.b1.97.8d: num  -64.6 -61.1 -61.8 -58.3 -63.4 ...\n",
      " $ X00.14.bf.b1.97.81: num  -62.8 -67.2 -61.2 -56.7 -57.1 ...\n",
      " $ X00.14.bf.3b.c7.c6: num  -65.4 -65.2 -61.3 -62.4 -64.8 ...\n",
      " $ X00.0f.a3.39.dd.cd: num  -68.1 -70.3 -68.5 -69.1 -69 ...\n"
     ]
    }
   ],
   "source": [
    "str(df)"
   ]
  },
  {
   "cell_type": "code",
   "execution_count": 93,
   "metadata": {},
   "outputs": [
    {
     "data": {
      "text/plain": [
       "       X               posX            posY            angle       \n",
       " Min.   :   1.0   Min.   : 0.00   Min.   : 0.000   Min.   :  0.00  \n",
       " 1st Qu.: 332.8   1st Qu.: 3.00   1st Qu.: 3.000   1st Qu.: 45.00  \n",
       " Median : 664.5   Median :13.00   Median : 6.500   Median : 45.00  \n",
       " Mean   : 664.5   Mean   :14.25   Mean   : 5.916   Mean   : 73.12  \n",
       " 3rd Qu.: 996.2   3rd Qu.:23.00   3rd Qu.: 8.000   3rd Qu.:101.25  \n",
       " Max.   :1328.0   Max.   :33.00   Max.   :13.000   Max.   :180.00  \n",
       " X00.14.bf.b1.97.8a X00.14.bf.b1.97.90 X00.0f.a3.39.e1.c0 X00.14.bf.b1.97.8d\n",
       " Min.   :-72.94     Min.   :-83.56     Min.   :-71.07     Min.   :-67.94    \n",
       " 1st Qu.:-62.45     1st Qu.:-73.49     1st Qu.:-57.39     1st Qu.:-57.55    \n",
       " Median :-58.51     Median :-68.80     Median :-53.81     Median :-52.92    \n",
       " Mean   :-57.08     Mean   :-66.79     Mean   :-53.79     Mean   :-53.05    \n",
       " 3rd Qu.:-52.42     3rd Qu.:-60.44     3rd Qu.:-50.51     3rd Qu.:-48.60    \n",
       " Max.   :-34.92     Max.   :-40.23     Max.   :-40.51     Max.   :-30.84    \n",
       " X00.14.bf.b1.97.81 X00.14.bf.3b.c7.c6 X00.0f.a3.39.dd.cd\n",
       " Min.   :-71.69     Min.   :-73.32     Min.   :-86.32    \n",
       " 1st Qu.:-59.53     1st Qu.:-64.13     1st Qu.:-76.44    \n",
       " Median :-56.02     Median :-61.39     Median :-70.33    \n",
       " Mean   :-55.82     Mean   :-60.73     Mean   :-70.28    \n",
       " 3rd Qu.:-52.00     3rd Qu.:-57.17     3rd Qu.:-64.60    \n",
       " Max.   :-36.62     Max.   :-45.60     Max.   :-51.76    "
      ]
     },
     "metadata": {},
     "output_type": "display_data"
    }
   ],
   "source": [
    "summary(df)"
   ]
  },
  {
   "cell_type": "code",
   "execution_count": 94,
   "metadata": {},
   "outputs": [
    {
     "data": {
      "text/html": [
       "<ol class=list-inline>\n",
       "\t<li>'X'</li>\n",
       "\t<li>'posX'</li>\n",
       "\t<li>'posY'</li>\n",
       "\t<li>'angle'</li>\n",
       "\t<li>'X00.14.bf.b1.97.8a'</li>\n",
       "\t<li>'X00.14.bf.b1.97.90'</li>\n",
       "\t<li>'X00.0f.a3.39.e1.c0'</li>\n",
       "\t<li>'X00.14.bf.b1.97.8d'</li>\n",
       "\t<li>'X00.14.bf.b1.97.81'</li>\n",
       "\t<li>'X00.14.bf.3b.c7.c6'</li>\n",
       "\t<li>'X00.0f.a3.39.dd.cd'</li>\n",
       "</ol>\n"
      ],
      "text/latex": [
       "\\begin{enumerate*}\n",
       "\\item 'X'\n",
       "\\item 'posX'\n",
       "\\item 'posY'\n",
       "\\item 'angle'\n",
       "\\item 'X00.14.bf.b1.97.8a'\n",
       "\\item 'X00.14.bf.b1.97.90'\n",
       "\\item 'X00.0f.a3.39.e1.c0'\n",
       "\\item 'X00.14.bf.b1.97.8d'\n",
       "\\item 'X00.14.bf.b1.97.81'\n",
       "\\item 'X00.14.bf.3b.c7.c6'\n",
       "\\item 'X00.0f.a3.39.dd.cd'\n",
       "\\end{enumerate*}\n"
      ],
      "text/markdown": [
       "1. 'X'\n",
       "2. 'posX'\n",
       "3. 'posY'\n",
       "4. 'angle'\n",
       "5. 'X00.14.bf.b1.97.8a'\n",
       "6. 'X00.14.bf.b1.97.90'\n",
       "7. 'X00.0f.a3.39.e1.c0'\n",
       "8. 'X00.14.bf.b1.97.8d'\n",
       "9. 'X00.14.bf.b1.97.81'\n",
       "10. 'X00.14.bf.3b.c7.c6'\n",
       "11. 'X00.0f.a3.39.dd.cd'\n",
       "\n",
       "\n"
      ],
      "text/plain": [
       " [1] \"X\"                  \"posX\"               \"posY\"              \n",
       " [4] \"angle\"              \"X00.14.bf.b1.97.8a\" \"X00.14.bf.b1.97.90\"\n",
       " [7] \"X00.0f.a3.39.e1.c0\" \"X00.14.bf.b1.97.8d\" \"X00.14.bf.b1.97.81\"\n",
       "[10] \"X00.14.bf.3b.c7.c6\" \"X00.0f.a3.39.dd.cd\""
      ]
     },
     "metadata": {},
     "output_type": "display_data"
    }
   ],
   "source": [
    "colnames(df, do.NULL = TRUE, prefix = \"col\")"
   ]
  },
  {
   "cell_type": "markdown",
   "metadata": {},
   "source": [
    "# 3. PREPROCESSING\n",
    "(clean up the data to get it ready to pass it in the machine)"
   ]
  },
  {
   "cell_type": "code",
   "execution_count": 95,
   "metadata": {},
   "outputs": [
    {
     "data": {
      "text/html": [
       "<table>\n",
       "<thead><tr><th scope=col>X</th><th scope=col>posX</th><th scope=col>posY</th><th scope=col>angle</th><th scope=col>X00.14.bf.b1.97.8a</th><th scope=col>X00.14.bf.b1.97.90</th><th scope=col>X00.0f.a3.39.e1.c0</th><th scope=col>X00.14.bf.b1.97.8d</th><th scope=col>X00.14.bf.b1.97.81</th><th scope=col>X00.14.bf.3b.c7.c6</th><th scope=col>X00.0f.a3.39.dd.cd</th></tr></thead>\n",
       "<tbody>\n",
       "\t<tr><td>FALSE</td><td>FALSE</td><td>FALSE</td><td>FALSE</td><td>FALSE</td><td>FALSE</td><td>FALSE</td><td>FALSE</td><td>FALSE</td><td>FALSE</td><td>FALSE</td></tr>\n",
       "\t<tr><td>FALSE</td><td>FALSE</td><td>FALSE</td><td>FALSE</td><td>FALSE</td><td>FALSE</td><td>FALSE</td><td>FALSE</td><td>FALSE</td><td>FALSE</td><td>FALSE</td></tr>\n",
       "\t<tr><td>FALSE</td><td>FALSE</td><td>FALSE</td><td>FALSE</td><td>FALSE</td><td>FALSE</td><td>FALSE</td><td>FALSE</td><td>FALSE</td><td>FALSE</td><td>FALSE</td></tr>\n",
       "\t<tr><td>FALSE</td><td>FALSE</td><td>FALSE</td><td>FALSE</td><td>FALSE</td><td>FALSE</td><td>FALSE</td><td>FALSE</td><td>FALSE</td><td>FALSE</td><td>FALSE</td></tr>\n",
       "\t<tr><td>FALSE</td><td>FALSE</td><td>FALSE</td><td>FALSE</td><td>FALSE</td><td>FALSE</td><td>FALSE</td><td>FALSE</td><td>FALSE</td><td>FALSE</td><td>FALSE</td></tr>\n",
       "\t<tr><td>FALSE</td><td>FALSE</td><td>FALSE</td><td>FALSE</td><td>FALSE</td><td>FALSE</td><td>FALSE</td><td>FALSE</td><td>FALSE</td><td>FALSE</td><td>FALSE</td></tr>\n",
       "\t<tr><td>FALSE</td><td>FALSE</td><td>FALSE</td><td>FALSE</td><td>FALSE</td><td>FALSE</td><td>FALSE</td><td>FALSE</td><td>FALSE</td><td>FALSE</td><td>FALSE</td></tr>\n",
       "\t<tr><td>FALSE</td><td>FALSE</td><td>FALSE</td><td>FALSE</td><td>FALSE</td><td>FALSE</td><td>FALSE</td><td>FALSE</td><td>FALSE</td><td>FALSE</td><td>FALSE</td></tr>\n",
       "\t<tr><td>FALSE</td><td>FALSE</td><td>FALSE</td><td>FALSE</td><td>FALSE</td><td>FALSE</td><td>FALSE</td><td>FALSE</td><td>FALSE</td><td>FALSE</td><td>FALSE</td></tr>\n",
       "\t<tr><td>FALSE</td><td>FALSE</td><td>FALSE</td><td>FALSE</td><td>FALSE</td><td>FALSE</td><td>FALSE</td><td>FALSE</td><td>FALSE</td><td>FALSE</td><td>FALSE</td></tr>\n",
       "\t<tr><td>FALSE</td><td>FALSE</td><td>FALSE</td><td>FALSE</td><td>FALSE</td><td>FALSE</td><td>FALSE</td><td>FALSE</td><td>FALSE</td><td>FALSE</td><td>FALSE</td></tr>\n",
       "\t<tr><td>FALSE</td><td>FALSE</td><td>FALSE</td><td>FALSE</td><td>FALSE</td><td>FALSE</td><td>FALSE</td><td>FALSE</td><td>FALSE</td><td>FALSE</td><td>FALSE</td></tr>\n",
       "\t<tr><td>FALSE</td><td>FALSE</td><td>FALSE</td><td>FALSE</td><td>FALSE</td><td>FALSE</td><td>FALSE</td><td>FALSE</td><td>FALSE</td><td>FALSE</td><td>FALSE</td></tr>\n",
       "\t<tr><td>FALSE</td><td>FALSE</td><td>FALSE</td><td>FALSE</td><td>FALSE</td><td>FALSE</td><td>FALSE</td><td>FALSE</td><td>FALSE</td><td>FALSE</td><td>FALSE</td></tr>\n",
       "\t<tr><td>FALSE</td><td>FALSE</td><td>FALSE</td><td>FALSE</td><td>FALSE</td><td>FALSE</td><td>FALSE</td><td>FALSE</td><td>FALSE</td><td>FALSE</td><td>FALSE</td></tr>\n",
       "\t<tr><td>FALSE</td><td>FALSE</td><td>FALSE</td><td>FALSE</td><td>FALSE</td><td>FALSE</td><td>FALSE</td><td>FALSE</td><td>FALSE</td><td>FALSE</td><td>FALSE</td></tr>\n",
       "\t<tr><td>FALSE</td><td>FALSE</td><td>FALSE</td><td>FALSE</td><td>FALSE</td><td>FALSE</td><td>FALSE</td><td>FALSE</td><td>FALSE</td><td>FALSE</td><td>FALSE</td></tr>\n",
       "\t<tr><td>FALSE</td><td>FALSE</td><td>FALSE</td><td>FALSE</td><td>FALSE</td><td>FALSE</td><td>FALSE</td><td>FALSE</td><td>FALSE</td><td>FALSE</td><td>FALSE</td></tr>\n",
       "\t<tr><td>FALSE</td><td>FALSE</td><td>FALSE</td><td>FALSE</td><td>FALSE</td><td>FALSE</td><td>FALSE</td><td>FALSE</td><td>FALSE</td><td>FALSE</td><td>FALSE</td></tr>\n",
       "\t<tr><td>FALSE</td><td>FALSE</td><td>FALSE</td><td>FALSE</td><td>FALSE</td><td>FALSE</td><td>FALSE</td><td>FALSE</td><td>FALSE</td><td>FALSE</td><td>FALSE</td></tr>\n",
       "\t<tr><td>FALSE</td><td>FALSE</td><td>FALSE</td><td>FALSE</td><td>FALSE</td><td>FALSE</td><td>FALSE</td><td>FALSE</td><td>FALSE</td><td>FALSE</td><td>FALSE</td></tr>\n",
       "\t<tr><td>FALSE</td><td>FALSE</td><td>FALSE</td><td>FALSE</td><td>FALSE</td><td>FALSE</td><td>FALSE</td><td>FALSE</td><td>FALSE</td><td>FALSE</td><td>FALSE</td></tr>\n",
       "\t<tr><td>FALSE</td><td>FALSE</td><td>FALSE</td><td>FALSE</td><td>FALSE</td><td>FALSE</td><td>FALSE</td><td>FALSE</td><td>FALSE</td><td>FALSE</td><td>FALSE</td></tr>\n",
       "\t<tr><td>FALSE</td><td>FALSE</td><td>FALSE</td><td>FALSE</td><td>FALSE</td><td>FALSE</td><td>FALSE</td><td>FALSE</td><td>FALSE</td><td>FALSE</td><td>FALSE</td></tr>\n",
       "\t<tr><td>FALSE</td><td>FALSE</td><td>FALSE</td><td>FALSE</td><td>FALSE</td><td>FALSE</td><td>FALSE</td><td>FALSE</td><td>FALSE</td><td>FALSE</td><td>FALSE</td></tr>\n",
       "\t<tr><td>FALSE</td><td>FALSE</td><td>FALSE</td><td>FALSE</td><td>FALSE</td><td>FALSE</td><td>FALSE</td><td>FALSE</td><td>FALSE</td><td>FALSE</td><td>FALSE</td></tr>\n",
       "\t<tr><td>FALSE</td><td>FALSE</td><td>FALSE</td><td>FALSE</td><td>FALSE</td><td>FALSE</td><td>FALSE</td><td>FALSE</td><td>FALSE</td><td>FALSE</td><td>FALSE</td></tr>\n",
       "\t<tr><td>FALSE</td><td>FALSE</td><td>FALSE</td><td>FALSE</td><td>FALSE</td><td>FALSE</td><td>FALSE</td><td>FALSE</td><td>FALSE</td><td>FALSE</td><td>FALSE</td></tr>\n",
       "\t<tr><td>FALSE</td><td>FALSE</td><td>FALSE</td><td>FALSE</td><td>FALSE</td><td>FALSE</td><td>FALSE</td><td>FALSE</td><td>FALSE</td><td>FALSE</td><td>FALSE</td></tr>\n",
       "\t<tr><td>FALSE</td><td>FALSE</td><td>FALSE</td><td>FALSE</td><td>FALSE</td><td>FALSE</td><td>FALSE</td><td>FALSE</td><td>FALSE</td><td>FALSE</td><td>FALSE</td></tr>\n",
       "\t<tr><td>...</td><td>...</td><td>...</td><td>...</td><td>...</td><td>...</td><td>...</td><td>...</td><td>...</td><td>...</td><td>...</td></tr>\n",
       "\t<tr><td>FALSE</td><td>FALSE</td><td>FALSE</td><td>FALSE</td><td>FALSE</td><td>FALSE</td><td>FALSE</td><td>FALSE</td><td>FALSE</td><td>FALSE</td><td>FALSE</td></tr>\n",
       "\t<tr><td>FALSE</td><td>FALSE</td><td>FALSE</td><td>FALSE</td><td>FALSE</td><td>FALSE</td><td>FALSE</td><td>FALSE</td><td>FALSE</td><td>FALSE</td><td>FALSE</td></tr>\n",
       "\t<tr><td>FALSE</td><td>FALSE</td><td>FALSE</td><td>FALSE</td><td>FALSE</td><td>FALSE</td><td>FALSE</td><td>FALSE</td><td>FALSE</td><td>FALSE</td><td>FALSE</td></tr>\n",
       "\t<tr><td>FALSE</td><td>FALSE</td><td>FALSE</td><td>FALSE</td><td>FALSE</td><td>FALSE</td><td>FALSE</td><td>FALSE</td><td>FALSE</td><td>FALSE</td><td>FALSE</td></tr>\n",
       "\t<tr><td>FALSE</td><td>FALSE</td><td>FALSE</td><td>FALSE</td><td>FALSE</td><td>FALSE</td><td>FALSE</td><td>FALSE</td><td>FALSE</td><td>FALSE</td><td>FALSE</td></tr>\n",
       "\t<tr><td>FALSE</td><td>FALSE</td><td>FALSE</td><td>FALSE</td><td>FALSE</td><td>FALSE</td><td>FALSE</td><td>FALSE</td><td>FALSE</td><td>FALSE</td><td>FALSE</td></tr>\n",
       "\t<tr><td>FALSE</td><td>FALSE</td><td>FALSE</td><td>FALSE</td><td>FALSE</td><td>FALSE</td><td>FALSE</td><td>FALSE</td><td>FALSE</td><td>FALSE</td><td>FALSE</td></tr>\n",
       "\t<tr><td>FALSE</td><td>FALSE</td><td>FALSE</td><td>FALSE</td><td>FALSE</td><td>FALSE</td><td>FALSE</td><td>FALSE</td><td>FALSE</td><td>FALSE</td><td>FALSE</td></tr>\n",
       "\t<tr><td>FALSE</td><td>FALSE</td><td>FALSE</td><td>FALSE</td><td>FALSE</td><td>FALSE</td><td>FALSE</td><td>FALSE</td><td>FALSE</td><td>FALSE</td><td>FALSE</td></tr>\n",
       "\t<tr><td>FALSE</td><td>FALSE</td><td>FALSE</td><td>FALSE</td><td>FALSE</td><td>FALSE</td><td>FALSE</td><td>FALSE</td><td>FALSE</td><td>FALSE</td><td>FALSE</td></tr>\n",
       "\t<tr><td>FALSE</td><td>FALSE</td><td>FALSE</td><td>FALSE</td><td>FALSE</td><td>FALSE</td><td>FALSE</td><td>FALSE</td><td>FALSE</td><td>FALSE</td><td>FALSE</td></tr>\n",
       "\t<tr><td>FALSE</td><td>FALSE</td><td>FALSE</td><td>FALSE</td><td>FALSE</td><td>FALSE</td><td>FALSE</td><td>FALSE</td><td>FALSE</td><td>FALSE</td><td>FALSE</td></tr>\n",
       "\t<tr><td>FALSE</td><td>FALSE</td><td>FALSE</td><td>FALSE</td><td>FALSE</td><td>FALSE</td><td>FALSE</td><td>FALSE</td><td>FALSE</td><td>FALSE</td><td>FALSE</td></tr>\n",
       "\t<tr><td>FALSE</td><td>FALSE</td><td>FALSE</td><td>FALSE</td><td>FALSE</td><td>FALSE</td><td>FALSE</td><td>FALSE</td><td>FALSE</td><td>FALSE</td><td>FALSE</td></tr>\n",
       "\t<tr><td>FALSE</td><td>FALSE</td><td>FALSE</td><td>FALSE</td><td>FALSE</td><td>FALSE</td><td>FALSE</td><td>FALSE</td><td>FALSE</td><td>FALSE</td><td>FALSE</td></tr>\n",
       "\t<tr><td>FALSE</td><td>FALSE</td><td>FALSE</td><td>FALSE</td><td>FALSE</td><td>FALSE</td><td>FALSE</td><td>FALSE</td><td>FALSE</td><td>FALSE</td><td>FALSE</td></tr>\n",
       "\t<tr><td>FALSE</td><td>FALSE</td><td>FALSE</td><td>FALSE</td><td>FALSE</td><td>FALSE</td><td>FALSE</td><td>FALSE</td><td>FALSE</td><td>FALSE</td><td>FALSE</td></tr>\n",
       "\t<tr><td>FALSE</td><td>FALSE</td><td>FALSE</td><td>FALSE</td><td>FALSE</td><td>FALSE</td><td>FALSE</td><td>FALSE</td><td>FALSE</td><td>FALSE</td><td>FALSE</td></tr>\n",
       "\t<tr><td>FALSE</td><td>FALSE</td><td>FALSE</td><td>FALSE</td><td>FALSE</td><td>FALSE</td><td>FALSE</td><td>FALSE</td><td>FALSE</td><td>FALSE</td><td>FALSE</td></tr>\n",
       "\t<tr><td>FALSE</td><td>FALSE</td><td>FALSE</td><td>FALSE</td><td>FALSE</td><td>FALSE</td><td>FALSE</td><td>FALSE</td><td>FALSE</td><td>FALSE</td><td>FALSE</td></tr>\n",
       "\t<tr><td>FALSE</td><td>FALSE</td><td>FALSE</td><td>FALSE</td><td>FALSE</td><td>FALSE</td><td>FALSE</td><td>FALSE</td><td>FALSE</td><td>FALSE</td><td>FALSE</td></tr>\n",
       "\t<tr><td>FALSE</td><td>FALSE</td><td>FALSE</td><td>FALSE</td><td>FALSE</td><td>FALSE</td><td>FALSE</td><td>FALSE</td><td>FALSE</td><td>FALSE</td><td>FALSE</td></tr>\n",
       "\t<tr><td>FALSE</td><td>FALSE</td><td>FALSE</td><td>FALSE</td><td>FALSE</td><td>FALSE</td><td>FALSE</td><td>FALSE</td><td>FALSE</td><td>FALSE</td><td>FALSE</td></tr>\n",
       "\t<tr><td>FALSE</td><td>FALSE</td><td>FALSE</td><td>FALSE</td><td>FALSE</td><td>FALSE</td><td>FALSE</td><td>FALSE</td><td>FALSE</td><td>FALSE</td><td>FALSE</td></tr>\n",
       "\t<tr><td>FALSE</td><td>FALSE</td><td>FALSE</td><td>FALSE</td><td>FALSE</td><td>FALSE</td><td>FALSE</td><td>FALSE</td><td>FALSE</td><td>FALSE</td><td>FALSE</td></tr>\n",
       "\t<tr><td>FALSE</td><td>FALSE</td><td>FALSE</td><td>FALSE</td><td>FALSE</td><td>FALSE</td><td>FALSE</td><td>FALSE</td><td>FALSE</td><td>FALSE</td><td>FALSE</td></tr>\n",
       "\t<tr><td>FALSE</td><td>FALSE</td><td>FALSE</td><td>FALSE</td><td>FALSE</td><td>FALSE</td><td>FALSE</td><td>FALSE</td><td>FALSE</td><td>FALSE</td><td>FALSE</td></tr>\n",
       "\t<tr><td>FALSE</td><td>FALSE</td><td>FALSE</td><td>FALSE</td><td>FALSE</td><td>FALSE</td><td>FALSE</td><td>FALSE</td><td>FALSE</td><td>FALSE</td><td>FALSE</td></tr>\n",
       "\t<tr><td>FALSE</td><td>FALSE</td><td>FALSE</td><td>FALSE</td><td>FALSE</td><td>FALSE</td><td>FALSE</td><td>FALSE</td><td>FALSE</td><td>FALSE</td><td>FALSE</td></tr>\n",
       "\t<tr><td>FALSE</td><td>FALSE</td><td>FALSE</td><td>FALSE</td><td>FALSE</td><td>FALSE</td><td>FALSE</td><td>FALSE</td><td>FALSE</td><td>FALSE</td><td>FALSE</td></tr>\n",
       "</tbody>\n",
       "</table>\n"
      ],
      "text/latex": [
       "\\begin{tabular}{lllllllllll}\n",
       " X & posX & posY & angle & X00.14.bf.b1.97.8a & X00.14.bf.b1.97.90 & X00.0f.a3.39.e1.c0 & X00.14.bf.b1.97.8d & X00.14.bf.b1.97.81 & X00.14.bf.3b.c7.c6 & X00.0f.a3.39.dd.cd\\\\\n",
       "\\hline\n",
       "\t FALSE & FALSE & FALSE & FALSE & FALSE & FALSE & FALSE & FALSE & FALSE & FALSE & FALSE\\\\\n",
       "\t FALSE & FALSE & FALSE & FALSE & FALSE & FALSE & FALSE & FALSE & FALSE & FALSE & FALSE\\\\\n",
       "\t FALSE & FALSE & FALSE & FALSE & FALSE & FALSE & FALSE & FALSE & FALSE & FALSE & FALSE\\\\\n",
       "\t FALSE & FALSE & FALSE & FALSE & FALSE & FALSE & FALSE & FALSE & FALSE & FALSE & FALSE\\\\\n",
       "\t FALSE & FALSE & FALSE & FALSE & FALSE & FALSE & FALSE & FALSE & FALSE & FALSE & FALSE\\\\\n",
       "\t FALSE & FALSE & FALSE & FALSE & FALSE & FALSE & FALSE & FALSE & FALSE & FALSE & FALSE\\\\\n",
       "\t FALSE & FALSE & FALSE & FALSE & FALSE & FALSE & FALSE & FALSE & FALSE & FALSE & FALSE\\\\\n",
       "\t FALSE & FALSE & FALSE & FALSE & FALSE & FALSE & FALSE & FALSE & FALSE & FALSE & FALSE\\\\\n",
       "\t FALSE & FALSE & FALSE & FALSE & FALSE & FALSE & FALSE & FALSE & FALSE & FALSE & FALSE\\\\\n",
       "\t FALSE & FALSE & FALSE & FALSE & FALSE & FALSE & FALSE & FALSE & FALSE & FALSE & FALSE\\\\\n",
       "\t FALSE & FALSE & FALSE & FALSE & FALSE & FALSE & FALSE & FALSE & FALSE & FALSE & FALSE\\\\\n",
       "\t FALSE & FALSE & FALSE & FALSE & FALSE & FALSE & FALSE & FALSE & FALSE & FALSE & FALSE\\\\\n",
       "\t FALSE & FALSE & FALSE & FALSE & FALSE & FALSE & FALSE & FALSE & FALSE & FALSE & FALSE\\\\\n",
       "\t FALSE & FALSE & FALSE & FALSE & FALSE & FALSE & FALSE & FALSE & FALSE & FALSE & FALSE\\\\\n",
       "\t FALSE & FALSE & FALSE & FALSE & FALSE & FALSE & FALSE & FALSE & FALSE & FALSE & FALSE\\\\\n",
       "\t FALSE & FALSE & FALSE & FALSE & FALSE & FALSE & FALSE & FALSE & FALSE & FALSE & FALSE\\\\\n",
       "\t FALSE & FALSE & FALSE & FALSE & FALSE & FALSE & FALSE & FALSE & FALSE & FALSE & FALSE\\\\\n",
       "\t FALSE & FALSE & FALSE & FALSE & FALSE & FALSE & FALSE & FALSE & FALSE & FALSE & FALSE\\\\\n",
       "\t FALSE & FALSE & FALSE & FALSE & FALSE & FALSE & FALSE & FALSE & FALSE & FALSE & FALSE\\\\\n",
       "\t FALSE & FALSE & FALSE & FALSE & FALSE & FALSE & FALSE & FALSE & FALSE & FALSE & FALSE\\\\\n",
       "\t FALSE & FALSE & FALSE & FALSE & FALSE & FALSE & FALSE & FALSE & FALSE & FALSE & FALSE\\\\\n",
       "\t FALSE & FALSE & FALSE & FALSE & FALSE & FALSE & FALSE & FALSE & FALSE & FALSE & FALSE\\\\\n",
       "\t FALSE & FALSE & FALSE & FALSE & FALSE & FALSE & FALSE & FALSE & FALSE & FALSE & FALSE\\\\\n",
       "\t FALSE & FALSE & FALSE & FALSE & FALSE & FALSE & FALSE & FALSE & FALSE & FALSE & FALSE\\\\\n",
       "\t FALSE & FALSE & FALSE & FALSE & FALSE & FALSE & FALSE & FALSE & FALSE & FALSE & FALSE\\\\\n",
       "\t FALSE & FALSE & FALSE & FALSE & FALSE & FALSE & FALSE & FALSE & FALSE & FALSE & FALSE\\\\\n",
       "\t FALSE & FALSE & FALSE & FALSE & FALSE & FALSE & FALSE & FALSE & FALSE & FALSE & FALSE\\\\\n",
       "\t FALSE & FALSE & FALSE & FALSE & FALSE & FALSE & FALSE & FALSE & FALSE & FALSE & FALSE\\\\\n",
       "\t FALSE & FALSE & FALSE & FALSE & FALSE & FALSE & FALSE & FALSE & FALSE & FALSE & FALSE\\\\\n",
       "\t FALSE & FALSE & FALSE & FALSE & FALSE & FALSE & FALSE & FALSE & FALSE & FALSE & FALSE\\\\\n",
       "\t ... & ... & ... & ... & ... & ... & ... & ... & ... & ... & ...\\\\\n",
       "\t FALSE & FALSE & FALSE & FALSE & FALSE & FALSE & FALSE & FALSE & FALSE & FALSE & FALSE\\\\\n",
       "\t FALSE & FALSE & FALSE & FALSE & FALSE & FALSE & FALSE & FALSE & FALSE & FALSE & FALSE\\\\\n",
       "\t FALSE & FALSE & FALSE & FALSE & FALSE & FALSE & FALSE & FALSE & FALSE & FALSE & FALSE\\\\\n",
       "\t FALSE & FALSE & FALSE & FALSE & FALSE & FALSE & FALSE & FALSE & FALSE & FALSE & FALSE\\\\\n",
       "\t FALSE & FALSE & FALSE & FALSE & FALSE & FALSE & FALSE & FALSE & FALSE & FALSE & FALSE\\\\\n",
       "\t FALSE & FALSE & FALSE & FALSE & FALSE & FALSE & FALSE & FALSE & FALSE & FALSE & FALSE\\\\\n",
       "\t FALSE & FALSE & FALSE & FALSE & FALSE & FALSE & FALSE & FALSE & FALSE & FALSE & FALSE\\\\\n",
       "\t FALSE & FALSE & FALSE & FALSE & FALSE & FALSE & FALSE & FALSE & FALSE & FALSE & FALSE\\\\\n",
       "\t FALSE & FALSE & FALSE & FALSE & FALSE & FALSE & FALSE & FALSE & FALSE & FALSE & FALSE\\\\\n",
       "\t FALSE & FALSE & FALSE & FALSE & FALSE & FALSE & FALSE & FALSE & FALSE & FALSE & FALSE\\\\\n",
       "\t FALSE & FALSE & FALSE & FALSE & FALSE & FALSE & FALSE & FALSE & FALSE & FALSE & FALSE\\\\\n",
       "\t FALSE & FALSE & FALSE & FALSE & FALSE & FALSE & FALSE & FALSE & FALSE & FALSE & FALSE\\\\\n",
       "\t FALSE & FALSE & FALSE & FALSE & FALSE & FALSE & FALSE & FALSE & FALSE & FALSE & FALSE\\\\\n",
       "\t FALSE & FALSE & FALSE & FALSE & FALSE & FALSE & FALSE & FALSE & FALSE & FALSE & FALSE\\\\\n",
       "\t FALSE & FALSE & FALSE & FALSE & FALSE & FALSE & FALSE & FALSE & FALSE & FALSE & FALSE\\\\\n",
       "\t FALSE & FALSE & FALSE & FALSE & FALSE & FALSE & FALSE & FALSE & FALSE & FALSE & FALSE\\\\\n",
       "\t FALSE & FALSE & FALSE & FALSE & FALSE & FALSE & FALSE & FALSE & FALSE & FALSE & FALSE\\\\\n",
       "\t FALSE & FALSE & FALSE & FALSE & FALSE & FALSE & FALSE & FALSE & FALSE & FALSE & FALSE\\\\\n",
       "\t FALSE & FALSE & FALSE & FALSE & FALSE & FALSE & FALSE & FALSE & FALSE & FALSE & FALSE\\\\\n",
       "\t FALSE & FALSE & FALSE & FALSE & FALSE & FALSE & FALSE & FALSE & FALSE & FALSE & FALSE\\\\\n",
       "\t FALSE & FALSE & FALSE & FALSE & FALSE & FALSE & FALSE & FALSE & FALSE & FALSE & FALSE\\\\\n",
       "\t FALSE & FALSE & FALSE & FALSE & FALSE & FALSE & FALSE & FALSE & FALSE & FALSE & FALSE\\\\\n",
       "\t FALSE & FALSE & FALSE & FALSE & FALSE & FALSE & FALSE & FALSE & FALSE & FALSE & FALSE\\\\\n",
       "\t FALSE & FALSE & FALSE & FALSE & FALSE & FALSE & FALSE & FALSE & FALSE & FALSE & FALSE\\\\\n",
       "\t FALSE & FALSE & FALSE & FALSE & FALSE & FALSE & FALSE & FALSE & FALSE & FALSE & FALSE\\\\\n",
       "\t FALSE & FALSE & FALSE & FALSE & FALSE & FALSE & FALSE & FALSE & FALSE & FALSE & FALSE\\\\\n",
       "\t FALSE & FALSE & FALSE & FALSE & FALSE & FALSE & FALSE & FALSE & FALSE & FALSE & FALSE\\\\\n",
       "\t FALSE & FALSE & FALSE & FALSE & FALSE & FALSE & FALSE & FALSE & FALSE & FALSE & FALSE\\\\\n",
       "\t FALSE & FALSE & FALSE & FALSE & FALSE & FALSE & FALSE & FALSE & FALSE & FALSE & FALSE\\\\\n",
       "\t FALSE & FALSE & FALSE & FALSE & FALSE & FALSE & FALSE & FALSE & FALSE & FALSE & FALSE\\\\\n",
       "\\end{tabular}\n"
      ],
      "text/markdown": [
       "\n",
       "| X | posX | posY | angle | X00.14.bf.b1.97.8a | X00.14.bf.b1.97.90 | X00.0f.a3.39.e1.c0 | X00.14.bf.b1.97.8d | X00.14.bf.b1.97.81 | X00.14.bf.3b.c7.c6 | X00.0f.a3.39.dd.cd |\n",
       "|---|---|---|---|---|---|---|---|---|---|---|\n",
       "| FALSE | FALSE | FALSE | FALSE | FALSE | FALSE | FALSE | FALSE | FALSE | FALSE | FALSE |\n",
       "| FALSE | FALSE | FALSE | FALSE | FALSE | FALSE | FALSE | FALSE | FALSE | FALSE | FALSE |\n",
       "| FALSE | FALSE | FALSE | FALSE | FALSE | FALSE | FALSE | FALSE | FALSE | FALSE | FALSE |\n",
       "| FALSE | FALSE | FALSE | FALSE | FALSE | FALSE | FALSE | FALSE | FALSE | FALSE | FALSE |\n",
       "| FALSE | FALSE | FALSE | FALSE | FALSE | FALSE | FALSE | FALSE | FALSE | FALSE | FALSE |\n",
       "| FALSE | FALSE | FALSE | FALSE | FALSE | FALSE | FALSE | FALSE | FALSE | FALSE | FALSE |\n",
       "| FALSE | FALSE | FALSE | FALSE | FALSE | FALSE | FALSE | FALSE | FALSE | FALSE | FALSE |\n",
       "| FALSE | FALSE | FALSE | FALSE | FALSE | FALSE | FALSE | FALSE | FALSE | FALSE | FALSE |\n",
       "| FALSE | FALSE | FALSE | FALSE | FALSE | FALSE | FALSE | FALSE | FALSE | FALSE | FALSE |\n",
       "| FALSE | FALSE | FALSE | FALSE | FALSE | FALSE | FALSE | FALSE | FALSE | FALSE | FALSE |\n",
       "| FALSE | FALSE | FALSE | FALSE | FALSE | FALSE | FALSE | FALSE | FALSE | FALSE | FALSE |\n",
       "| FALSE | FALSE | FALSE | FALSE | FALSE | FALSE | FALSE | FALSE | FALSE | FALSE | FALSE |\n",
       "| FALSE | FALSE | FALSE | FALSE | FALSE | FALSE | FALSE | FALSE | FALSE | FALSE | FALSE |\n",
       "| FALSE | FALSE | FALSE | FALSE | FALSE | FALSE | FALSE | FALSE | FALSE | FALSE | FALSE |\n",
       "| FALSE | FALSE | FALSE | FALSE | FALSE | FALSE | FALSE | FALSE | FALSE | FALSE | FALSE |\n",
       "| FALSE | FALSE | FALSE | FALSE | FALSE | FALSE | FALSE | FALSE | FALSE | FALSE | FALSE |\n",
       "| FALSE | FALSE | FALSE | FALSE | FALSE | FALSE | FALSE | FALSE | FALSE | FALSE | FALSE |\n",
       "| FALSE | FALSE | FALSE | FALSE | FALSE | FALSE | FALSE | FALSE | FALSE | FALSE | FALSE |\n",
       "| FALSE | FALSE | FALSE | FALSE | FALSE | FALSE | FALSE | FALSE | FALSE | FALSE | FALSE |\n",
       "| FALSE | FALSE | FALSE | FALSE | FALSE | FALSE | FALSE | FALSE | FALSE | FALSE | FALSE |\n",
       "| FALSE | FALSE | FALSE | FALSE | FALSE | FALSE | FALSE | FALSE | FALSE | FALSE | FALSE |\n",
       "| FALSE | FALSE | FALSE | FALSE | FALSE | FALSE | FALSE | FALSE | FALSE | FALSE | FALSE |\n",
       "| FALSE | FALSE | FALSE | FALSE | FALSE | FALSE | FALSE | FALSE | FALSE | FALSE | FALSE |\n",
       "| FALSE | FALSE | FALSE | FALSE | FALSE | FALSE | FALSE | FALSE | FALSE | FALSE | FALSE |\n",
       "| FALSE | FALSE | FALSE | FALSE | FALSE | FALSE | FALSE | FALSE | FALSE | FALSE | FALSE |\n",
       "| FALSE | FALSE | FALSE | FALSE | FALSE | FALSE | FALSE | FALSE | FALSE | FALSE | FALSE |\n",
       "| FALSE | FALSE | FALSE | FALSE | FALSE | FALSE | FALSE | FALSE | FALSE | FALSE | FALSE |\n",
       "| FALSE | FALSE | FALSE | FALSE | FALSE | FALSE | FALSE | FALSE | FALSE | FALSE | FALSE |\n",
       "| FALSE | FALSE | FALSE | FALSE | FALSE | FALSE | FALSE | FALSE | FALSE | FALSE | FALSE |\n",
       "| FALSE | FALSE | FALSE | FALSE | FALSE | FALSE | FALSE | FALSE | FALSE | FALSE | FALSE |\n",
       "| ... | ... | ... | ... | ... | ... | ... | ... | ... | ... | ... |\n",
       "| FALSE | FALSE | FALSE | FALSE | FALSE | FALSE | FALSE | FALSE | FALSE | FALSE | FALSE |\n",
       "| FALSE | FALSE | FALSE | FALSE | FALSE | FALSE | FALSE | FALSE | FALSE | FALSE | FALSE |\n",
       "| FALSE | FALSE | FALSE | FALSE | FALSE | FALSE | FALSE | FALSE | FALSE | FALSE | FALSE |\n",
       "| FALSE | FALSE | FALSE | FALSE | FALSE | FALSE | FALSE | FALSE | FALSE | FALSE | FALSE |\n",
       "| FALSE | FALSE | FALSE | FALSE | FALSE | FALSE | FALSE | FALSE | FALSE | FALSE | FALSE |\n",
       "| FALSE | FALSE | FALSE | FALSE | FALSE | FALSE | FALSE | FALSE | FALSE | FALSE | FALSE |\n",
       "| FALSE | FALSE | FALSE | FALSE | FALSE | FALSE | FALSE | FALSE | FALSE | FALSE | FALSE |\n",
       "| FALSE | FALSE | FALSE | FALSE | FALSE | FALSE | FALSE | FALSE | FALSE | FALSE | FALSE |\n",
       "| FALSE | FALSE | FALSE | FALSE | FALSE | FALSE | FALSE | FALSE | FALSE | FALSE | FALSE |\n",
       "| FALSE | FALSE | FALSE | FALSE | FALSE | FALSE | FALSE | FALSE | FALSE | FALSE | FALSE |\n",
       "| FALSE | FALSE | FALSE | FALSE | FALSE | FALSE | FALSE | FALSE | FALSE | FALSE | FALSE |\n",
       "| FALSE | FALSE | FALSE | FALSE | FALSE | FALSE | FALSE | FALSE | FALSE | FALSE | FALSE |\n",
       "| FALSE | FALSE | FALSE | FALSE | FALSE | FALSE | FALSE | FALSE | FALSE | FALSE | FALSE |\n",
       "| FALSE | FALSE | FALSE | FALSE | FALSE | FALSE | FALSE | FALSE | FALSE | FALSE | FALSE |\n",
       "| FALSE | FALSE | FALSE | FALSE | FALSE | FALSE | FALSE | FALSE | FALSE | FALSE | FALSE |\n",
       "| FALSE | FALSE | FALSE | FALSE | FALSE | FALSE | FALSE | FALSE | FALSE | FALSE | FALSE |\n",
       "| FALSE | FALSE | FALSE | FALSE | FALSE | FALSE | FALSE | FALSE | FALSE | FALSE | FALSE |\n",
       "| FALSE | FALSE | FALSE | FALSE | FALSE | FALSE | FALSE | FALSE | FALSE | FALSE | FALSE |\n",
       "| FALSE | FALSE | FALSE | FALSE | FALSE | FALSE | FALSE | FALSE | FALSE | FALSE | FALSE |\n",
       "| FALSE | FALSE | FALSE | FALSE | FALSE | FALSE | FALSE | FALSE | FALSE | FALSE | FALSE |\n",
       "| FALSE | FALSE | FALSE | FALSE | FALSE | FALSE | FALSE | FALSE | FALSE | FALSE | FALSE |\n",
       "| FALSE | FALSE | FALSE | FALSE | FALSE | FALSE | FALSE | FALSE | FALSE | FALSE | FALSE |\n",
       "| FALSE | FALSE | FALSE | FALSE | FALSE | FALSE | FALSE | FALSE | FALSE | FALSE | FALSE |\n",
       "| FALSE | FALSE | FALSE | FALSE | FALSE | FALSE | FALSE | FALSE | FALSE | FALSE | FALSE |\n",
       "| FALSE | FALSE | FALSE | FALSE | FALSE | FALSE | FALSE | FALSE | FALSE | FALSE | FALSE |\n",
       "| FALSE | FALSE | FALSE | FALSE | FALSE | FALSE | FALSE | FALSE | FALSE | FALSE | FALSE |\n",
       "| FALSE | FALSE | FALSE | FALSE | FALSE | FALSE | FALSE | FALSE | FALSE | FALSE | FALSE |\n",
       "| FALSE | FALSE | FALSE | FALSE | FALSE | FALSE | FALSE | FALSE | FALSE | FALSE | FALSE |\n",
       "| FALSE | FALSE | FALSE | FALSE | FALSE | FALSE | FALSE | FALSE | FALSE | FALSE | FALSE |\n",
       "| FALSE | FALSE | FALSE | FALSE | FALSE | FALSE | FALSE | FALSE | FALSE | FALSE | FALSE |\n",
       "\n"
      ],
      "text/plain": [
       "      X     posX  posY  angle X00.14.bf.b1.97.8a X00.14.bf.b1.97.90\n",
       " [1,] FALSE FALSE FALSE FALSE FALSE              FALSE             \n",
       " [2,] FALSE FALSE FALSE FALSE FALSE              FALSE             \n",
       " [3,] FALSE FALSE FALSE FALSE FALSE              FALSE             \n",
       " [4,] FALSE FALSE FALSE FALSE FALSE              FALSE             \n",
       " [5,] FALSE FALSE FALSE FALSE FALSE              FALSE             \n",
       " [6,] FALSE FALSE FALSE FALSE FALSE              FALSE             \n",
       " [7,] FALSE FALSE FALSE FALSE FALSE              FALSE             \n",
       " [8,] FALSE FALSE FALSE FALSE FALSE              FALSE             \n",
       " [9,] FALSE FALSE FALSE FALSE FALSE              FALSE             \n",
       "[10,] FALSE FALSE FALSE FALSE FALSE              FALSE             \n",
       "[11,] FALSE FALSE FALSE FALSE FALSE              FALSE             \n",
       "[12,] FALSE FALSE FALSE FALSE FALSE              FALSE             \n",
       "[13,] FALSE FALSE FALSE FALSE FALSE              FALSE             \n",
       "[14,] FALSE FALSE FALSE FALSE FALSE              FALSE             \n",
       "[15,] FALSE FALSE FALSE FALSE FALSE              FALSE             \n",
       "[16,] FALSE FALSE FALSE FALSE FALSE              FALSE             \n",
       "[17,] FALSE FALSE FALSE FALSE FALSE              FALSE             \n",
       "[18,] FALSE FALSE FALSE FALSE FALSE              FALSE             \n",
       "[19,] FALSE FALSE FALSE FALSE FALSE              FALSE             \n",
       "[20,] FALSE FALSE FALSE FALSE FALSE              FALSE             \n",
       "[21,] FALSE FALSE FALSE FALSE FALSE              FALSE             \n",
       "[22,] FALSE FALSE FALSE FALSE FALSE              FALSE             \n",
       "[23,] FALSE FALSE FALSE FALSE FALSE              FALSE             \n",
       "[24,] FALSE FALSE FALSE FALSE FALSE              FALSE             \n",
       "[25,] FALSE FALSE FALSE FALSE FALSE              FALSE             \n",
       "[26,] FALSE FALSE FALSE FALSE FALSE              FALSE             \n",
       "[27,] FALSE FALSE FALSE FALSE FALSE              FALSE             \n",
       "[28,] FALSE FALSE FALSE FALSE FALSE              FALSE             \n",
       "[29,] FALSE FALSE FALSE FALSE FALSE              FALSE             \n",
       "[30,] FALSE FALSE FALSE FALSE FALSE              FALSE             \n",
       "[31,] ...   ...   ...   ...   ...                ...               \n",
       "[32,] FALSE FALSE FALSE FALSE FALSE              FALSE             \n",
       "[33,] FALSE FALSE FALSE FALSE FALSE              FALSE             \n",
       "[34,] FALSE FALSE FALSE FALSE FALSE              FALSE             \n",
       "[35,] FALSE FALSE FALSE FALSE FALSE              FALSE             \n",
       "[36,] FALSE FALSE FALSE FALSE FALSE              FALSE             \n",
       "[37,] FALSE FALSE FALSE FALSE FALSE              FALSE             \n",
       "[38,] FALSE FALSE FALSE FALSE FALSE              FALSE             \n",
       "[39,] FALSE FALSE FALSE FALSE FALSE              FALSE             \n",
       "[40,] FALSE FALSE FALSE FALSE FALSE              FALSE             \n",
       "[41,] FALSE FALSE FALSE FALSE FALSE              FALSE             \n",
       "[42,] FALSE FALSE FALSE FALSE FALSE              FALSE             \n",
       "[43,] FALSE FALSE FALSE FALSE FALSE              FALSE             \n",
       "[44,] FALSE FALSE FALSE FALSE FALSE              FALSE             \n",
       "[45,] FALSE FALSE FALSE FALSE FALSE              FALSE             \n",
       "[46,] FALSE FALSE FALSE FALSE FALSE              FALSE             \n",
       "[47,] FALSE FALSE FALSE FALSE FALSE              FALSE             \n",
       "[48,] FALSE FALSE FALSE FALSE FALSE              FALSE             \n",
       "[49,] FALSE FALSE FALSE FALSE FALSE              FALSE             \n",
       "[50,] FALSE FALSE FALSE FALSE FALSE              FALSE             \n",
       "[51,] FALSE FALSE FALSE FALSE FALSE              FALSE             \n",
       "[52,] FALSE FALSE FALSE FALSE FALSE              FALSE             \n",
       "[53,] FALSE FALSE FALSE FALSE FALSE              FALSE             \n",
       "[54,] FALSE FALSE FALSE FALSE FALSE              FALSE             \n",
       "[55,] FALSE FALSE FALSE FALSE FALSE              FALSE             \n",
       "[56,] FALSE FALSE FALSE FALSE FALSE              FALSE             \n",
       "[57,] FALSE FALSE FALSE FALSE FALSE              FALSE             \n",
       "[58,] FALSE FALSE FALSE FALSE FALSE              FALSE             \n",
       "[59,] FALSE FALSE FALSE FALSE FALSE              FALSE             \n",
       "[60,] FALSE FALSE FALSE FALSE FALSE              FALSE             \n",
       "[61,] FALSE FALSE FALSE FALSE FALSE              FALSE             \n",
       "      X00.0f.a3.39.e1.c0 X00.14.bf.b1.97.8d X00.14.bf.b1.97.81\n",
       " [1,] FALSE              FALSE              FALSE             \n",
       " [2,] FALSE              FALSE              FALSE             \n",
       " [3,] FALSE              FALSE              FALSE             \n",
       " [4,] FALSE              FALSE              FALSE             \n",
       " [5,] FALSE              FALSE              FALSE             \n",
       " [6,] FALSE              FALSE              FALSE             \n",
       " [7,] FALSE              FALSE              FALSE             \n",
       " [8,] FALSE              FALSE              FALSE             \n",
       " [9,] FALSE              FALSE              FALSE             \n",
       "[10,] FALSE              FALSE              FALSE             \n",
       "[11,] FALSE              FALSE              FALSE             \n",
       "[12,] FALSE              FALSE              FALSE             \n",
       "[13,] FALSE              FALSE              FALSE             \n",
       "[14,] FALSE              FALSE              FALSE             \n",
       "[15,] FALSE              FALSE              FALSE             \n",
       "[16,] FALSE              FALSE              FALSE             \n",
       "[17,] FALSE              FALSE              FALSE             \n",
       "[18,] FALSE              FALSE              FALSE             \n",
       "[19,] FALSE              FALSE              FALSE             \n",
       "[20,] FALSE              FALSE              FALSE             \n",
       "[21,] FALSE              FALSE              FALSE             \n",
       "[22,] FALSE              FALSE              FALSE             \n",
       "[23,] FALSE              FALSE              FALSE             \n",
       "[24,] FALSE              FALSE              FALSE             \n",
       "[25,] FALSE              FALSE              FALSE             \n",
       "[26,] FALSE              FALSE              FALSE             \n",
       "[27,] FALSE              FALSE              FALSE             \n",
       "[28,] FALSE              FALSE              FALSE             \n",
       "[29,] FALSE              FALSE              FALSE             \n",
       "[30,] FALSE              FALSE              FALSE             \n",
       "[31,] ...                ...                ...               \n",
       "[32,] FALSE              FALSE              FALSE             \n",
       "[33,] FALSE              FALSE              FALSE             \n",
       "[34,] FALSE              FALSE              FALSE             \n",
       "[35,] FALSE              FALSE              FALSE             \n",
       "[36,] FALSE              FALSE              FALSE             \n",
       "[37,] FALSE              FALSE              FALSE             \n",
       "[38,] FALSE              FALSE              FALSE             \n",
       "[39,] FALSE              FALSE              FALSE             \n",
       "[40,] FALSE              FALSE              FALSE             \n",
       "[41,] FALSE              FALSE              FALSE             \n",
       "[42,] FALSE              FALSE              FALSE             \n",
       "[43,] FALSE              FALSE              FALSE             \n",
       "[44,] FALSE              FALSE              FALSE             \n",
       "[45,] FALSE              FALSE              FALSE             \n",
       "[46,] FALSE              FALSE              FALSE             \n",
       "[47,] FALSE              FALSE              FALSE             \n",
       "[48,] FALSE              FALSE              FALSE             \n",
       "[49,] FALSE              FALSE              FALSE             \n",
       "[50,] FALSE              FALSE              FALSE             \n",
       "[51,] FALSE              FALSE              FALSE             \n",
       "[52,] FALSE              FALSE              FALSE             \n",
       "[53,] FALSE              FALSE              FALSE             \n",
       "[54,] FALSE              FALSE              FALSE             \n",
       "[55,] FALSE              FALSE              FALSE             \n",
       "[56,] FALSE              FALSE              FALSE             \n",
       "[57,] FALSE              FALSE              FALSE             \n",
       "[58,] FALSE              FALSE              FALSE             \n",
       "[59,] FALSE              FALSE              FALSE             \n",
       "[60,] FALSE              FALSE              FALSE             \n",
       "[61,] FALSE              FALSE              FALSE             \n",
       "      X00.14.bf.3b.c7.c6 X00.0f.a3.39.dd.cd\n",
       " [1,] FALSE              FALSE             \n",
       " [2,] FALSE              FALSE             \n",
       " [3,] FALSE              FALSE             \n",
       " [4,] FALSE              FALSE             \n",
       " [5,] FALSE              FALSE             \n",
       " [6,] FALSE              FALSE             \n",
       " [7,] FALSE              FALSE             \n",
       " [8,] FALSE              FALSE             \n",
       " [9,] FALSE              FALSE             \n",
       "[10,] FALSE              FALSE             \n",
       "[11,] FALSE              FALSE             \n",
       "[12,] FALSE              FALSE             \n",
       "[13,] FALSE              FALSE             \n",
       "[14,] FALSE              FALSE             \n",
       "[15,] FALSE              FALSE             \n",
       "[16,] FALSE              FALSE             \n",
       "[17,] FALSE              FALSE             \n",
       "[18,] FALSE              FALSE             \n",
       "[19,] FALSE              FALSE             \n",
       "[20,] FALSE              FALSE             \n",
       "[21,] FALSE              FALSE             \n",
       "[22,] FALSE              FALSE             \n",
       "[23,] FALSE              FALSE             \n",
       "[24,] FALSE              FALSE             \n",
       "[25,] FALSE              FALSE             \n",
       "[26,] FALSE              FALSE             \n",
       "[27,] FALSE              FALSE             \n",
       "[28,] FALSE              FALSE             \n",
       "[29,] FALSE              FALSE             \n",
       "[30,] FALSE              FALSE             \n",
       "[31,] ...                ...               \n",
       "[32,] FALSE              FALSE             \n",
       "[33,] FALSE              FALSE             \n",
       "[34,] FALSE              FALSE             \n",
       "[35,] FALSE              FALSE             \n",
       "[36,] FALSE              FALSE             \n",
       "[37,] FALSE              FALSE             \n",
       "[38,] FALSE              FALSE             \n",
       "[39,] FALSE              FALSE             \n",
       "[40,] FALSE              FALSE             \n",
       "[41,] FALSE              FALSE             \n",
       "[42,] FALSE              FALSE             \n",
       "[43,] FALSE              FALSE             \n",
       "[44,] FALSE              FALSE             \n",
       "[45,] FALSE              FALSE             \n",
       "[46,] FALSE              FALSE             \n",
       "[47,] FALSE              FALSE             \n",
       "[48,] FALSE              FALSE             \n",
       "[49,] FALSE              FALSE             \n",
       "[50,] FALSE              FALSE             \n",
       "[51,] FALSE              FALSE             \n",
       "[52,] FALSE              FALSE             \n",
       "[53,] FALSE              FALSE             \n",
       "[54,] FALSE              FALSE             \n",
       "[55,] FALSE              FALSE             \n",
       "[56,] FALSE              FALSE             \n",
       "[57,] FALSE              FALSE             \n",
       "[58,] FALSE              FALSE             \n",
       "[59,] FALSE              FALSE             \n",
       "[60,] FALSE              FALSE             \n",
       "[61,] FALSE              FALSE             "
      ]
     },
     "metadata": {},
     "output_type": "display_data"
    }
   ],
   "source": [
    "# check for na and impute or remove na \n",
    "is.na(df)"
   ]
  },
  {
   "cell_type": "code",
   "execution_count": 96,
   "metadata": {},
   "outputs": [],
   "source": [
    "#2. TODO: variable imputation check and replace missing value using knn\n",
    "#remove na quick fix\n",
    "df2 <- na.omit(df) "
   ]
  },
  {
   "cell_type": "code",
   "execution_count": 97,
   "metadata": {},
   "outputs": [
    {
     "name": "stdout",
     "output_type": "stream",
     "text": [
      "'data.frame':\t1328 obs. of  11 variables:\n",
      " $ X                 : int  1 2 3 4 5 6 7 8 9 10 ...\n",
      " $ posX              : int  0 0 0 0 0 0 0 0 0 0 ...\n",
      " $ posY              : int  0 1 2 3 4 7 8 9 10 11 ...\n",
      " $ angle             : int  0 0 0 0 0 0 0 0 0 0 ...\n",
      " $ X00.14.bf.b1.97.8a: num  -42 -45 -47.7 -51.1 -49.1 ...\n",
      " $ X00.14.bf.b1.97.90: num  -57.2 -58.2 -58.7 -56.8 -53.6 ...\n",
      " $ X00.0f.a3.39.e1.c0: num  -51.2 -50.6 -60 -55.5 -48.1 ...\n",
      " $ X00.14.bf.b1.97.8d: num  -64.6 -61.1 -61.8 -58.3 -63.4 ...\n",
      " $ X00.14.bf.b1.97.81: num  -62.8 -67.2 -61.2 -56.7 -57.1 ...\n",
      " $ X00.14.bf.3b.c7.c6: num  -65.4 -65.2 -61.3 -62.4 -64.8 ...\n",
      " $ X00.0f.a3.39.dd.cd: num  -68.1 -70.3 -68.5 -69.1 -69 ...\n"
     ]
    }
   ],
   "source": [
    "str(df2) ### no value remove"
   ]
  },
  {
   "cell_type": "code",
   "execution_count": 98,
   "metadata": {},
   "outputs": [],
   "source": [
    "# 1. Split train and test set"
   ]
  },
  {
   "cell_type": "code",
   "execution_count": 99,
   "metadata": {},
   "outputs": [],
   "source": [
    "set.seed(300) \n",
    "#Spliting data as training and test set. Using createDataPartition() function from caret\n",
    "indxTrain <- createDataPartition(y = df$posY,p = 0.75,list = FALSE)\n",
    "training <- df[indxTrain,]\n",
    "testing <- df[-indxTrain,]"
   ]
  },
  {
   "cell_type": "code",
   "execution_count": 100,
   "metadata": {},
   "outputs": [
    {
     "name": "stdout",
     "output_type": "stream",
     "text": [
      "'data.frame':\t996 obs. of  11 variables:\n",
      " $ X                 : int  2 3 4 5 6 7 10 11 12 13 ...\n",
      " $ posX              : int  0 0 0 0 0 0 0 0 0 1 ...\n",
      " $ posY              : int  1 2 3 4 7 8 11 12 13 0 ...\n",
      " $ angle             : int  0 0 0 0 0 0 0 0 0 0 ...\n",
      " $ X00.14.bf.b1.97.8a: num  -45 -47.7 -51.1 -49.1 -47 ...\n",
      " $ X00.14.bf.b1.97.90: num  -58.2 -58.7 -56.8 -53.6 -62.5 ...\n",
      " $ X00.0f.a3.39.e1.c0: num  -50.6 -60 -55.5 -48.1 -57.3 ...\n",
      " $ X00.14.bf.b1.97.8d: num  -61.1 -61.8 -58.3 -63.4 -55.2 ...\n",
      " $ X00.14.bf.b1.97.81: num  -67.2 -61.2 -56.7 -57.1 -64 ...\n",
      " $ X00.14.bf.3b.c7.c6: num  -65.2 -61.3 -62.4 -64.8 -64.6 ...\n",
      " $ X00.0f.a3.39.dd.cd: num  -70.3 -68.5 -69.1 -69 -71.4 ...\n"
     ]
    }
   ],
   "source": [
    "str(training)"
   ]
  },
  {
   "cell_type": "code",
   "execution_count": 101,
   "metadata": {},
   "outputs": [
    {
     "data": {
      "text/plain": [
       "Created from 996 samples and 10 variables\n",
       "\n",
       "Pre-processing:\n",
       "  - centered (10)\n",
       "  - ignored (0)\n",
       "  - scaled (10)\n"
      ]
     },
     "metadata": {},
     "output_type": "display_data"
    }
   ],
   "source": [
    "# variabe standardization or normalized or (centered and scaled). using the caret pre-process  object\n",
    "trainX <- training[,names(training)!= \"angle\"] ## remove not numerical column\n",
    "preProcObj <- preProcess(x = trainX,method = c(\"center\", \"scale\"))\n",
    "preProcObj"
   ]
  },
  {
   "cell_type": "code",
   "execution_count": 102,
   "metadata": {},
   "outputs": [],
   "source": [
    "preProc_trainX <- predict(preProcObj, trainX)"
   ]
  },
  {
   "cell_type": "code",
   "execution_count": 103,
   "metadata": {},
   "outputs": [
    {
     "data": {
      "text/html": [
       "<table>\n",
       "<thead><tr><th></th><th scope=col>X</th><th scope=col>posX</th><th scope=col>posY</th><th scope=col>X00.14.bf.b1.97.8a</th><th scope=col>X00.14.bf.b1.97.90</th><th scope=col>X00.0f.a3.39.e1.c0</th><th scope=col>X00.14.bf.b1.97.8d</th><th scope=col>X00.14.bf.b1.97.81</th><th scope=col>X00.14.bf.3b.c7.c6</th><th scope=col>X00.0f.a3.39.dd.cd</th></tr></thead>\n",
       "<tbody>\n",
       "\t<tr><th scope=row>2</th><td>-1.715361   </td><td>-1.356032   </td><td>-1.8354694  </td><td>1.6480120   </td><td>0.9895636   </td><td> 0.6736333  </td><td>-1.2773893  </td><td>-1.9161961  </td><td>-0.87150354 </td><td> 0.007259305</td></tr>\n",
       "\t<tr><th scope=row>3</th><td>-1.712770   </td><td>-1.356032   </td><td>-1.4626105  </td><td>1.2760085   </td><td>0.9345691   </td><td>-1.2486594  </td><td>-1.3932194  </td><td>-0.9071202  </td><td>-0.09130918 </td><td> 0.263008667</td></tr>\n",
       "\t<tr><th scope=row>4</th><td>-1.710179   </td><td>-1.356032   </td><td>-1.0897515  </td><td>0.8184665   </td><td>1.1551318   </td><td>-0.3433936  </td><td>-0.8403099  </td><td>-0.1549845  </td><td>-0.30963519 </td><td> 0.180763956</td></tr>\n",
       "\t<tr><th scope=row>5</th><td>-1.707587   </td><td>-1.356032   </td><td>-0.7168925  </td><td>1.0913062   </td><td>1.5234308   </td><td> 1.1821468  </td><td>-1.6451338  </td><td>-0.2214488  </td><td>-0.78789059 </td><td> 0.197629536</td></tr>\n",
       "\t<tr><th scope=row>6</th><td>-1.704996   </td><td>-1.356032   </td><td> 0.4016844  </td><td>1.3762566   </td><td>0.4959504   </td><td>-0.7047549  </td><td>-0.3489783  </td><td>-1.3851532  </td><td>-0.74897086 </td><td>-0.145795831</td></tr>\n",
       "\t<tr><th scope=row>7</th><td>-1.702405   </td><td>-1.356032   </td><td> 0.7745434  </td><td>1.1807995   </td><td>1.5281150   </td><td> 0.8375498  </td><td>-1.0830931  </td><td>-1.0330409  </td><td>-1.04139945 </td><td> 0.317164332</td></tr>\n",
       "</tbody>\n",
       "</table>\n"
      ],
      "text/latex": [
       "\\begin{tabular}{r|llllllllll}\n",
       "  & X & posX & posY & X00.14.bf.b1.97.8a & X00.14.bf.b1.97.90 & X00.0f.a3.39.e1.c0 & X00.14.bf.b1.97.8d & X00.14.bf.b1.97.81 & X00.14.bf.3b.c7.c6 & X00.0f.a3.39.dd.cd\\\\\n",
       "\\hline\n",
       "\t2 & -1.715361    & -1.356032    & -1.8354694   & 1.6480120    & 0.9895636    &  0.6736333   & -1.2773893   & -1.9161961   & -0.87150354  &  0.007259305\\\\\n",
       "\t3 & -1.712770    & -1.356032    & -1.4626105   & 1.2760085    & 0.9345691    & -1.2486594   & -1.3932194   & -0.9071202   & -0.09130918  &  0.263008667\\\\\n",
       "\t4 & -1.710179    & -1.356032    & -1.0897515   & 0.8184665    & 1.1551318    & -0.3433936   & -0.8403099   & -0.1549845   & -0.30963519  &  0.180763956\\\\\n",
       "\t5 & -1.707587    & -1.356032    & -0.7168925   & 1.0913062    & 1.5234308    &  1.1821468   & -1.6451338   & -0.2214488   & -0.78789059  &  0.197629536\\\\\n",
       "\t6 & -1.704996    & -1.356032    &  0.4016844   & 1.3762566    & 0.4959504    & -0.7047549   & -0.3489783   & -1.3851532   & -0.74897086  & -0.145795831\\\\\n",
       "\t7 & -1.702405    & -1.356032    &  0.7745434   & 1.1807995    & 1.5281150    &  0.8375498   & -1.0830931   & -1.0330409   & -1.04139945  &  0.317164332\\\\\n",
       "\\end{tabular}\n"
      ],
      "text/markdown": [
       "\n",
       "| <!--/--> | X | posX | posY | X00.14.bf.b1.97.8a | X00.14.bf.b1.97.90 | X00.0f.a3.39.e1.c0 | X00.14.bf.b1.97.8d | X00.14.bf.b1.97.81 | X00.14.bf.3b.c7.c6 | X00.0f.a3.39.dd.cd |\n",
       "|---|---|---|---|---|---|---|---|---|---|---|\n",
       "| 2 | -1.715361    | -1.356032    | -1.8354694   | 1.6480120    | 0.9895636    |  0.6736333   | -1.2773893   | -1.9161961   | -0.87150354  |  0.007259305 |\n",
       "| 3 | -1.712770    | -1.356032    | -1.4626105   | 1.2760085    | 0.9345691    | -1.2486594   | -1.3932194   | -0.9071202   | -0.09130918  |  0.263008667 |\n",
       "| 4 | -1.710179    | -1.356032    | -1.0897515   | 0.8184665    | 1.1551318    | -0.3433936   | -0.8403099   | -0.1549845   | -0.30963519  |  0.180763956 |\n",
       "| 5 | -1.707587    | -1.356032    | -0.7168925   | 1.0913062    | 1.5234308    |  1.1821468   | -1.6451338   | -0.2214488   | -0.78789059  |  0.197629536 |\n",
       "| 6 | -1.704996    | -1.356032    |  0.4016844   | 1.3762566    | 0.4959504    | -0.7047549   | -0.3489783   | -1.3851532   | -0.74897086  | -0.145795831 |\n",
       "| 7 | -1.702405    | -1.356032    |  0.7745434   | 1.1807995    | 1.5281150    |  0.8375498   | -1.0830931   | -1.0330409   | -1.04139945  |  0.317164332 |\n",
       "\n"
      ],
      "text/plain": [
       "  X         posX      posY       X00.14.bf.b1.97.8a X00.14.bf.b1.97.90\n",
       "2 -1.715361 -1.356032 -1.8354694 1.6480120          0.9895636         \n",
       "3 -1.712770 -1.356032 -1.4626105 1.2760085          0.9345691         \n",
       "4 -1.710179 -1.356032 -1.0897515 0.8184665          1.1551318         \n",
       "5 -1.707587 -1.356032 -0.7168925 1.0913062          1.5234308         \n",
       "6 -1.704996 -1.356032  0.4016844 1.3762566          0.4959504         \n",
       "7 -1.702405 -1.356032  0.7745434 1.1807995          1.5281150         \n",
       "  X00.0f.a3.39.e1.c0 X00.14.bf.b1.97.8d X00.14.bf.b1.97.81 X00.14.bf.3b.c7.c6\n",
       "2  0.6736333         -1.2773893         -1.9161961         -0.87150354       \n",
       "3 -1.2486594         -1.3932194         -0.9071202         -0.09130918       \n",
       "4 -0.3433936         -0.8403099         -0.1549845         -0.30963519       \n",
       "5  1.1821468         -1.6451338         -0.2214488         -0.78789059       \n",
       "6 -0.7047549         -0.3489783         -1.3851532         -0.74897086       \n",
       "7  0.8375498         -1.0830931         -1.0330409         -1.04139945       \n",
       "  X00.0f.a3.39.dd.cd\n",
       "2  0.007259305      \n",
       "3  0.263008667      \n",
       "4  0.180763956      \n",
       "5  0.197629536      \n",
       "6 -0.145795831      \n",
       "7  0.317164332      "
      ]
     },
     "metadata": {},
     "output_type": "display_data"
    }
   ],
   "source": [
    "head(preProc_trainX)"
   ]
  },
  {
   "cell_type": "code",
   "execution_count": 104,
   "metadata": {
    "scrolled": true
   },
   "outputs": [
    {
     "data": {
      "text/plain": [
       "       X                 posX              posY         X00.14.bf.b1.97.8a\n",
       " Min.   :-1.71536   Min.   :-1.3560   Min.   :-2.2083   Min.   :-2.1366   \n",
       " 1st Qu.:-0.87382   1st Qu.:-1.0741   1st Qu.:-1.0898   1st Qu.:-0.7443   \n",
       " Median : 0.00659   Median :-0.1343   Median : 0.2153   Median :-0.2000   \n",
       " Mean   : 0.00000   Mean   : 0.0000   Mean   : 0.0000   Mean   : 0.0000   \n",
       " 3rd Qu.: 0.86497   3rd Qu.: 0.8995   3rd Qu.: 0.7745   3rd Qu.: 0.6270   \n",
       " Max.   : 1.72077   Max.   : 1.7454   Max.   : 2.6388   Max.   : 3.0081   \n",
       " X00.14.bf.b1.97.90 X00.0f.a3.39.e1.c0 X00.14.bf.b1.97.8d X00.14.bf.b1.97.81\n",
       " Min.   :-1.8321    Min.   :-3.5261    Min.   :-2.35275   Min.   :-2.6020   \n",
       " 1st Qu.:-0.7885    1st Qu.:-0.7290    1st Qu.:-0.72529   1st Qu.:-0.6251   \n",
       " Median :-0.2310    Median :-0.0286    Median : 0.03259   Median :-0.0353   \n",
       " Mean   : 0.0000    Mean   : 0.0000    Mean   : 0.00000   Mean   : 0.0000   \n",
       " 3rd Qu.: 0.7458    3rd Qu.: 0.6871    3rd Qu.: 0.71277   3rd Qu.: 0.6374   \n",
       " Max.   : 3.0605    Max.   : 2.6018    Max.   : 2.77492   Max.   : 3.2255   \n",
       " X00.14.bf.3b.c7.c6 X00.0f.a3.39.dd.cd\n",
       " Min.   :-2.2245    Min.   :-2.21637  \n",
       " 1st Qu.:-0.6793    1st Qu.:-0.85339  \n",
       " Median :-0.1178    Median :-0.01614  \n",
       " Mean   : 0.0000    Mean   : 0.00000  \n",
       " 3rd Qu.: 0.6876    3rd Qu.: 0.77981  \n",
       " Max.   : 3.0112    Max.   : 2.59140  "
      ]
     },
     "metadata": {},
     "output_type": "display_data"
    }
   ],
   "source": [
    "summary(preProc_trainX)"
   ]
  },
  {
   "cell_type": "markdown",
   "metadata": {},
   "source": [
    "# 4. FIT MODEL & PREDICT"
   ]
  },
  {
   "cell_type": "code",
   "execution_count": 105,
   "metadata": {},
   "outputs": [],
   "source": [
    "# multi-variate knn-reg\n",
    "#predictor (dependent variable ): tem <-  \n",
    "#knn.reg(train, test = NULL, y, k = 3, algorithm=c(\"kd_tree\", \n",
    "#         \"cover_tree\", \"brute\"))"
   ]
  },
  {
   "cell_type": "code",
   "execution_count": 106,
   "metadata": {},
   "outputs": [],
   "source": [
    "########### TRAINING THE X COORDINATE  MODEL#######################"
   ]
  },
  {
   "cell_type": "code",
   "execution_count": 107,
   "metadata": {},
   "outputs": [
    {
     "data": {
      "text/html": [
       "<table>\n",
       "<thead><tr><th></th><th scope=col>X</th><th scope=col>posX</th><th scope=col>X00.14.bf.b1.97.8a</th><th scope=col>X00.14.bf.b1.97.90</th><th scope=col>X00.0f.a3.39.e1.c0</th><th scope=col>X00.14.bf.b1.97.8d</th><th scope=col>X00.14.bf.b1.97.81</th><th scope=col>X00.14.bf.3b.c7.c6</th><th scope=col>X00.0f.a3.39.dd.cd</th></tr></thead>\n",
       "<tbody>\n",
       "\t<tr><th scope=row>2</th><td>2        </td><td>0        </td><td>-44.97125</td><td>-58.22891</td><td>-50.57273</td><td>-61.07673</td><td>-67.18656</td><td>-65.19788</td><td>-70.33636</td></tr>\n",
       "\t<tr><th scope=row>3</th><td>3        </td><td>0        </td><td>-47.72008</td><td>-58.70679</td><td>-59.95455</td><td>-61.81601</td><td>-61.18764</td><td>-61.26058</td><td>-68.49831</td></tr>\n",
       "\t<tr><th scope=row>4</th><td>4        </td><td>0        </td><td>-51.10097</td><td>-56.79017</td><td>-55.53636</td><td>-58.28706</td><td>-56.71622</td><td>-62.36238</td><td>-69.08939</td></tr>\n",
       "\t<tr><th scope=row>5</th><td>5        </td><td>0        </td><td>-49.08489</td><td>-53.58976</td><td>-48.09091</td><td>-63.42386</td><td>-57.11135</td><td>-64.77592</td><td>-68.96818</td></tr>\n",
       "\t<tr><th scope=row>6</th><td>6        </td><td>0        </td><td>-46.97932</td><td>-62.51826</td><td>-57.30000</td><td>-55.15113</td><td>-64.02953</td><td>-64.57951</td><td>-71.43636</td></tr>\n",
       "\t<tr><th scope=row>7</th><td>7        </td><td>0        </td><td>-48.42360</td><td>-53.54905</td><td>-49.77273</td><td>-59.83663</td><td>-61.93624</td><td>-66.05527</td><td>-68.10909</td></tr>\n",
       "</tbody>\n",
       "</table>\n"
      ],
      "text/latex": [
       "\\begin{tabular}{r|lllllllll}\n",
       "  & X & posX & X00.14.bf.b1.97.8a & X00.14.bf.b1.97.90 & X00.0f.a3.39.e1.c0 & X00.14.bf.b1.97.8d & X00.14.bf.b1.97.81 & X00.14.bf.3b.c7.c6 & X00.0f.a3.39.dd.cd\\\\\n",
       "\\hline\n",
       "\t2 & 2         & 0         & -44.97125 & -58.22891 & -50.57273 & -61.07673 & -67.18656 & -65.19788 & -70.33636\\\\\n",
       "\t3 & 3         & 0         & -47.72008 & -58.70679 & -59.95455 & -61.81601 & -61.18764 & -61.26058 & -68.49831\\\\\n",
       "\t4 & 4         & 0         & -51.10097 & -56.79017 & -55.53636 & -58.28706 & -56.71622 & -62.36238 & -69.08939\\\\\n",
       "\t5 & 5         & 0         & -49.08489 & -53.58976 & -48.09091 & -63.42386 & -57.11135 & -64.77592 & -68.96818\\\\\n",
       "\t6 & 6         & 0         & -46.97932 & -62.51826 & -57.30000 & -55.15113 & -64.02953 & -64.57951 & -71.43636\\\\\n",
       "\t7 & 7         & 0         & -48.42360 & -53.54905 & -49.77273 & -59.83663 & -61.93624 & -66.05527 & -68.10909\\\\\n",
       "\\end{tabular}\n"
      ],
      "text/markdown": [
       "\n",
       "| <!--/--> | X | posX | X00.14.bf.b1.97.8a | X00.14.bf.b1.97.90 | X00.0f.a3.39.e1.c0 | X00.14.bf.b1.97.8d | X00.14.bf.b1.97.81 | X00.14.bf.3b.c7.c6 | X00.0f.a3.39.dd.cd |\n",
       "|---|---|---|---|---|---|---|---|---|---|\n",
       "| 2 | 2         | 0         | -44.97125 | -58.22891 | -50.57273 | -61.07673 | -67.18656 | -65.19788 | -70.33636 |\n",
       "| 3 | 3         | 0         | -47.72008 | -58.70679 | -59.95455 | -61.81601 | -61.18764 | -61.26058 | -68.49831 |\n",
       "| 4 | 4         | 0         | -51.10097 | -56.79017 | -55.53636 | -58.28706 | -56.71622 | -62.36238 | -69.08939 |\n",
       "| 5 | 5         | 0         | -49.08489 | -53.58976 | -48.09091 | -63.42386 | -57.11135 | -64.77592 | -68.96818 |\n",
       "| 6 | 6         | 0         | -46.97932 | -62.51826 | -57.30000 | -55.15113 | -64.02953 | -64.57951 | -71.43636 |\n",
       "| 7 | 7         | 0         | -48.42360 | -53.54905 | -49.77273 | -59.83663 | -61.93624 | -66.05527 | -68.10909 |\n",
       "\n"
      ],
      "text/plain": [
       "  X posX X00.14.bf.b1.97.8a X00.14.bf.b1.97.90 X00.0f.a3.39.e1.c0\n",
       "2 2 0    -44.97125          -58.22891          -50.57273         \n",
       "3 3 0    -47.72008          -58.70679          -59.95455         \n",
       "4 4 0    -51.10097          -56.79017          -55.53636         \n",
       "5 5 0    -49.08489          -53.58976          -48.09091         \n",
       "6 6 0    -46.97932          -62.51826          -57.30000         \n",
       "7 7 0    -48.42360          -53.54905          -49.77273         \n",
       "  X00.14.bf.b1.97.8d X00.14.bf.b1.97.81 X00.14.bf.3b.c7.c6 X00.0f.a3.39.dd.cd\n",
       "2 -61.07673          -67.18656          -65.19788          -70.33636         \n",
       "3 -61.81601          -61.18764          -61.26058          -68.49831         \n",
       "4 -58.28706          -56.71622          -62.36238          -69.08939         \n",
       "5 -63.42386          -57.11135          -64.77592          -68.96818         \n",
       "6 -55.15113          -64.02953          -64.57951          -71.43636         \n",
       "7 -59.83663          -61.93624          -66.05527          -68.10909         "
      ]
     },
     "metadata": {},
     "output_type": "display_data"
    }
   ],
   "source": [
    "head(trainX[,names(trainX)!= \"posY\"])"
   ]
  },
  {
   "cell_type": "code",
   "execution_count": 108,
   "metadata": {},
   "outputs": [
    {
     "data": {
      "text/plain": [
       "k-Nearest Neighbors \n",
       "\n",
       "996 samples\n",
       "  8 predictor\n",
       "\n",
       "Pre-processing: centered (8), scaled (8) \n",
       "Resampling: Cross-Validated (10 fold, repeated 3 times) \n",
       "Summary of sample sizes: 895, 897, 896, 897, 897, 897, ... \n",
       "Resampling results across tuning parameters:\n",
       "\n",
       "  k   RMSE      Rsquared   MAE     \n",
       "   5  2.115603  0.9607116  1.542962\n",
       "   7  2.107759  0.9610698  1.557189\n",
       "   9  2.116282  0.9609416  1.592994\n",
       "  11  2.127381  0.9607200  1.606583\n",
       "  13  2.155236  0.9598073  1.638334\n",
       "  15  2.178415  0.9589898  1.661294\n",
       "  17  2.185262  0.9588415  1.666646\n",
       "  19  2.205656  0.9581346  1.677972\n",
       "  21  2.224366  0.9574327  1.689781\n",
       "  23  2.243309  0.9567434  1.702622\n",
       "  25  2.257420  0.9562518  1.718163\n",
       "  27  2.275706  0.9555569  1.734182\n",
       "  29  2.281392  0.9553899  1.739463\n",
       "  31  2.298880  0.9547570  1.754588\n",
       "  33  2.317179  0.9541120  1.770744\n",
       "  35  2.333714  0.9535192  1.781823\n",
       "  37  2.348600  0.9529883  1.794320\n",
       "  39  2.364069  0.9524081  1.810921\n",
       "  41  2.374966  0.9519918  1.821831\n",
       "  43  2.383705  0.9516975  1.829397\n",
       "\n",
       "RMSE was used to select the optimal model using the smallest value.\n",
       "The final value used for the model was k = 7."
      ]
     },
     "metadata": {},
     "output_type": "display_data"
    }
   ],
   "source": [
    "set.seed(400)\n",
    "ctrl <- trainControl(method=\"repeatedcv\",repeats = 3) # default 10 fold cross validation during training and do 3 time the 10 fold CV\n",
    "knnFit_x <- train(posX ~ ., data = trainX[,names(trainX)!= \"posY\"], method = \"knn\", trControl = ctrl, preProcess = c(\"center\",\"scale\"), tuneLength = 20)##tuneLengh to atomatically try 20  k value\n",
    "\n",
    "#Output of kNN fit\n",
    "knnFit_x"
   ]
  },
  {
   "cell_type": "markdown",
   "metadata": {},
   "source": [
    "### The best k is the one that minimize the prediction error RMSE (root mean squared error).\n",
    "\n",
    "### The RMSE corresponds to the square root of the average difference between the observed known outcome values and the predicted values, RMSE = mean((observeds - predicteds)^2) %>% sqrt(). The lower the RMSE, the better the model."
   ]
  },
  {
   "cell_type": "code",
   "execution_count": 109,
   "metadata": {},
   "outputs": [
    {
     "data": {
      "image/png": "[encoded data removed]",
      "text/plain": [
       "plot without title"
      ]
     },
     "metadata": {},
     "output_type": "display_data"
    }
   ],
   "source": [
    "#Plotting yields Number of Neighbours Vs accuracy (based on repeated cross validation)\n",
    "plot(knnFit_y)"
   ]
  },
  {
   "cell_type": "code",
   "execution_count": 110,
   "metadata": {},
   "outputs": [
    {
     "data": {
      "text/html": [
       "<table>\n",
       "<thead><tr><th></th><th scope=col>k</th></tr></thead>\n",
       "<tbody>\n",
       "\t<tr><th scope=row>2</th><td>7</td></tr>\n",
       "</tbody>\n",
       "</table>\n"
      ],
      "text/latex": [
       "\\begin{tabular}{r|l}\n",
       "  & k\\\\\n",
       "\\hline\n",
       "\t2 & 7\\\\\n",
       "\\end{tabular}\n"
      ],
      "text/markdown": [
       "\n",
       "| <!--/--> | k |\n",
       "|---|---|\n",
       "| 2 | 7 |\n",
       "\n"
      ],
      "text/plain": [
       "  k\n",
       "2 7"
      ]
     },
     "metadata": {},
     "output_type": "display_data"
    }
   ],
   "source": [
    "# Print the best tuning parameter k that\n",
    "# maximizes model accuracy\n",
    "knnFit_x$bestTune"
   ]
  },
  {
   "cell_type": "code",
   "execution_count": 111,
   "metadata": {},
   "outputs": [
    {
     "data": {
      "text/html": [
       "<table>\n",
       "<thead><tr><th></th><th scope=col>X</th><th scope=col>posX</th><th scope=col>posY</th><th scope=col>X00.14.bf.b1.97.8a</th><th scope=col>X00.14.bf.b1.97.90</th><th scope=col>X00.0f.a3.39.e1.c0</th><th scope=col>X00.14.bf.b1.97.8d</th><th scope=col>X00.14.bf.b1.97.81</th><th scope=col>X00.14.bf.3b.c7.c6</th><th scope=col>X00.0f.a3.39.dd.cd</th></tr></thead>\n",
       "<tbody>\n",
       "\t<tr><th scope=row>1</th><td> 1       </td><td>0        </td><td> 0       </td><td>-41.98489</td><td>-57.20774</td><td>-51.15455</td><td>-64.55649</td><td>-62.84349</td><td>-65.38813</td><td>-68.13182</td></tr>\n",
       "\t<tr><th scope=row>8</th><td> 8       </td><td>0        </td><td> 9       </td><td>-53.45483</td><td>-56.47158</td><td>-50.99091</td><td>-62.92592</td><td>-64.46243</td><td>-66.68757</td><td>-67.06364</td></tr>\n",
       "\t<tr><th scope=row>9</th><td> 9       </td><td>0        </td><td>10       </td><td>-46.46788</td><td>-49.69152</td><td>-56.20000</td><td>-65.81888</td><td>-62.55442</td><td>-64.22914</td><td>-69.20000</td></tr>\n",
       "\t<tr><th scope=row>18</th><td>18       </td><td>1        </td><td> 5       </td><td>-47.02975</td><td>-58.54078</td><td>-52.40909</td><td>-59.93825</td><td>-62.29847</td><td>-68.01485</td><td>-66.86364</td></tr>\n",
       "\t<tr><th scope=row>20</th><td>20       </td><td>1        </td><td> 7       </td><td>-52.23269</td><td>-53.51249</td><td>-52.28182</td><td>-52.96969</td><td>-62.84425</td><td>-66.39676</td><td>-68.50570</td></tr>\n",
       "\t<tr><th scope=row>26</th><td>26       </td><td>1        </td><td>13       </td><td>-48.17242</td><td>-43.29275</td><td>-57.20000</td><td>-66.23571</td><td>-69.81632</td><td>-69.90508</td><td>-75.82727</td></tr>\n",
       "</tbody>\n",
       "</table>\n"
      ],
      "text/latex": [
       "\\begin{tabular}{r|llllllllll}\n",
       "  & X & posX & posY & X00.14.bf.b1.97.8a & X00.14.bf.b1.97.90 & X00.0f.a3.39.e1.c0 & X00.14.bf.b1.97.8d & X00.14.bf.b1.97.81 & X00.14.bf.3b.c7.c6 & X00.0f.a3.39.dd.cd\\\\\n",
       "\\hline\n",
       "\t1 &  1        & 0         &  0        & -41.98489 & -57.20774 & -51.15455 & -64.55649 & -62.84349 & -65.38813 & -68.13182\\\\\n",
       "\t8 &  8        & 0         &  9        & -53.45483 & -56.47158 & -50.99091 & -62.92592 & -64.46243 & -66.68757 & -67.06364\\\\\n",
       "\t9 &  9        & 0         & 10        & -46.46788 & -49.69152 & -56.20000 & -65.81888 & -62.55442 & -64.22914 & -69.20000\\\\\n",
       "\t18 & 18        & 1         &  5        & -47.02975 & -58.54078 & -52.40909 & -59.93825 & -62.29847 & -68.01485 & -66.86364\\\\\n",
       "\t20 & 20        & 1         &  7        & -52.23269 & -53.51249 & -52.28182 & -52.96969 & -62.84425 & -66.39676 & -68.50570\\\\\n",
       "\t26 & 26        & 1         & 13        & -48.17242 & -43.29275 & -57.20000 & -66.23571 & -69.81632 & -69.90508 & -75.82727\\\\\n",
       "\\end{tabular}\n"
      ],
      "text/markdown": [
       "\n",
       "| <!--/--> | X | posX | posY | X00.14.bf.b1.97.8a | X00.14.bf.b1.97.90 | X00.0f.a3.39.e1.c0 | X00.14.bf.b1.97.8d | X00.14.bf.b1.97.81 | X00.14.bf.3b.c7.c6 | X00.0f.a3.39.dd.cd |\n",
       "|---|---|---|---|---|---|---|---|---|---|---|\n",
       "| 1 |  1        | 0         |  0        | -41.98489 | -57.20774 | -51.15455 | -64.55649 | -62.84349 | -65.38813 | -68.13182 |\n",
       "| 8 |  8        | 0         |  9        | -53.45483 | -56.47158 | -50.99091 | -62.92592 | -64.46243 | -66.68757 | -67.06364 |\n",
       "| 9 |  9        | 0         | 10        | -46.46788 | -49.69152 | -56.20000 | -65.81888 | -62.55442 | -64.22914 | -69.20000 |\n",
       "| 18 | 18        | 1         |  5        | -47.02975 | -58.54078 | -52.40909 | -59.93825 | -62.29847 | -68.01485 | -66.86364 |\n",
       "| 20 | 20        | 1         |  7        | -52.23269 | -53.51249 | -52.28182 | -52.96969 | -62.84425 | -66.39676 | -68.50570 |\n",
       "| 26 | 26        | 1         | 13        | -48.17242 | -43.29275 | -57.20000 | -66.23571 | -69.81632 | -69.90508 | -75.82727 |\n",
       "\n"
      ],
      "text/plain": [
       "   X  posX posY X00.14.bf.b1.97.8a X00.14.bf.b1.97.90 X00.0f.a3.39.e1.c0\n",
       "1   1 0     0   -41.98489          -57.20774          -51.15455         \n",
       "8   8 0     9   -53.45483          -56.47158          -50.99091         \n",
       "9   9 0    10   -46.46788          -49.69152          -56.20000         \n",
       "18 18 1     5   -47.02975          -58.54078          -52.40909         \n",
       "20 20 1     7   -52.23269          -53.51249          -52.28182         \n",
       "26 26 1    13   -48.17242          -43.29275          -57.20000         \n",
       "   X00.14.bf.b1.97.8d X00.14.bf.b1.97.81 X00.14.bf.3b.c7.c6 X00.0f.a3.39.dd.cd\n",
       "1  -64.55649          -62.84349          -65.38813          -68.13182         \n",
       "8  -62.92592          -64.46243          -66.68757          -67.06364         \n",
       "9  -65.81888          -62.55442          -64.22914          -69.20000         \n",
       "18 -59.93825          -62.29847          -68.01485          -66.86364         \n",
       "20 -52.96969          -62.84425          -66.39676          -68.50570         \n",
       "26 -66.23571          -69.81632          -69.90508          -75.82727         "
      ]
     },
     "metadata": {},
     "output_type": "display_data"
    }
   ],
   "source": [
    "head(testing[,names(testing)!= \"angle\"])"
   ]
  },
  {
   "cell_type": "code",
   "execution_count": 112,
   "metadata": {},
   "outputs": [
    {
     "data": {
      "text/html": [
       "<table>\n",
       "<thead><tr><th></th><th scope=col>X</th><th scope=col>posX</th><th scope=col>X00.14.bf.b1.97.8a</th><th scope=col>X00.14.bf.b1.97.90</th><th scope=col>X00.0f.a3.39.e1.c0</th><th scope=col>X00.14.bf.b1.97.8d</th><th scope=col>X00.14.bf.b1.97.81</th><th scope=col>X00.14.bf.3b.c7.c6</th><th scope=col>X00.0f.a3.39.dd.cd</th></tr></thead>\n",
       "<tbody>\n",
       "\t<tr><th scope=row>1</th><td> 1       </td><td>0        </td><td>-41.98489</td><td>-57.20774</td><td>-51.15455</td><td>-64.55649</td><td>-62.84349</td><td>-65.38813</td><td>-68.13182</td></tr>\n",
       "\t<tr><th scope=row>8</th><td> 8       </td><td>0        </td><td>-53.45483</td><td>-56.47158</td><td>-50.99091</td><td>-62.92592</td><td>-64.46243</td><td>-66.68757</td><td>-67.06364</td></tr>\n",
       "\t<tr><th scope=row>9</th><td> 9       </td><td>0        </td><td>-46.46788</td><td>-49.69152</td><td>-56.20000</td><td>-65.81888</td><td>-62.55442</td><td>-64.22914</td><td>-69.20000</td></tr>\n",
       "\t<tr><th scope=row>18</th><td>18       </td><td>1        </td><td>-47.02975</td><td>-58.54078</td><td>-52.40909</td><td>-59.93825</td><td>-62.29847</td><td>-68.01485</td><td>-66.86364</td></tr>\n",
       "\t<tr><th scope=row>20</th><td>20       </td><td>1        </td><td>-52.23269</td><td>-53.51249</td><td>-52.28182</td><td>-52.96969</td><td>-62.84425</td><td>-66.39676</td><td>-68.50570</td></tr>\n",
       "\t<tr><th scope=row>26</th><td>26       </td><td>1        </td><td>-48.17242</td><td>-43.29275</td><td>-57.20000</td><td>-66.23571</td><td>-69.81632</td><td>-69.90508</td><td>-75.82727</td></tr>\n",
       "</tbody>\n",
       "</table>\n"
      ],
      "text/latex": [
       "\\begin{tabular}{r|lllllllll}\n",
       "  & X & posX & X00.14.bf.b1.97.8a & X00.14.bf.b1.97.90 & X00.0f.a3.39.e1.c0 & X00.14.bf.b1.97.8d & X00.14.bf.b1.97.81 & X00.14.bf.3b.c7.c6 & X00.0f.a3.39.dd.cd\\\\\n",
       "\\hline\n",
       "\t1 &  1        & 0         & -41.98489 & -57.20774 & -51.15455 & -64.55649 & -62.84349 & -65.38813 & -68.13182\\\\\n",
       "\t8 &  8        & 0         & -53.45483 & -56.47158 & -50.99091 & -62.92592 & -64.46243 & -66.68757 & -67.06364\\\\\n",
       "\t9 &  9        & 0         & -46.46788 & -49.69152 & -56.20000 & -65.81888 & -62.55442 & -64.22914 & -69.20000\\\\\n",
       "\t18 & 18        & 1         & -47.02975 & -58.54078 & -52.40909 & -59.93825 & -62.29847 & -68.01485 & -66.86364\\\\\n",
       "\t20 & 20        & 1         & -52.23269 & -53.51249 & -52.28182 & -52.96969 & -62.84425 & -66.39676 & -68.50570\\\\\n",
       "\t26 & 26        & 1         & -48.17242 & -43.29275 & -57.20000 & -66.23571 & -69.81632 & -69.90508 & -75.82727\\\\\n",
       "\\end{tabular}\n"
      ],
      "text/markdown": [
       "\n",
       "| <!--/--> | X | posX | X00.14.bf.b1.97.8a | X00.14.bf.b1.97.90 | X00.0f.a3.39.e1.c0 | X00.14.bf.b1.97.8d | X00.14.bf.b1.97.81 | X00.14.bf.3b.c7.c6 | X00.0f.a3.39.dd.cd |\n",
       "|---|---|---|---|---|---|---|---|---|---|\n",
       "| 1 |  1        | 0         | -41.98489 | -57.20774 | -51.15455 | -64.55649 | -62.84349 | -65.38813 | -68.13182 |\n",
       "| 8 |  8        | 0         | -53.45483 | -56.47158 | -50.99091 | -62.92592 | -64.46243 | -66.68757 | -67.06364 |\n",
       "| 9 |  9        | 0         | -46.46788 | -49.69152 | -56.20000 | -65.81888 | -62.55442 | -64.22914 | -69.20000 |\n",
       "| 18 | 18        | 1         | -47.02975 | -58.54078 | -52.40909 | -59.93825 | -62.29847 | -68.01485 | -66.86364 |\n",
       "| 20 | 20        | 1         | -52.23269 | -53.51249 | -52.28182 | -52.96969 | -62.84425 | -66.39676 | -68.50570 |\n",
       "| 26 | 26        | 1         | -48.17242 | -43.29275 | -57.20000 | -66.23571 | -69.81632 | -69.90508 | -75.82727 |\n",
       "\n"
      ],
      "text/plain": [
       "   X  posX X00.14.bf.b1.97.8a X00.14.bf.b1.97.90 X00.0f.a3.39.e1.c0\n",
       "1   1 0    -41.98489          -57.20774          -51.15455         \n",
       "8   8 0    -53.45483          -56.47158          -50.99091         \n",
       "9   9 0    -46.46788          -49.69152          -56.20000         \n",
       "18 18 1    -47.02975          -58.54078          -52.40909         \n",
       "20 20 1    -52.23269          -53.51249          -52.28182         \n",
       "26 26 1    -48.17242          -43.29275          -57.20000         \n",
       "   X00.14.bf.b1.97.8d X00.14.bf.b1.97.81 X00.14.bf.3b.c7.c6 X00.0f.a3.39.dd.cd\n",
       "1  -64.55649          -62.84349          -65.38813          -68.13182         \n",
       "8  -62.92592          -64.46243          -66.68757          -67.06364         \n",
       "9  -65.81888          -62.55442          -64.22914          -69.20000         \n",
       "18 -59.93825          -62.29847          -68.01485          -66.86364         \n",
       "20 -52.96969          -62.84425          -66.39676          -68.50570         \n",
       "26 -66.23571          -69.81632          -69.90508          -75.82727         "
      ]
     },
     "metadata": {},
     "output_type": "display_data"
    }
   ],
   "source": [
    "testing_X = testing[,(names(testing)!= \"angle\" & names(testing)!= \"posY\")]\n",
    "head(testing_X)"
   ]
  },
  {
   "cell_type": "code",
   "execution_count": 113,
   "metadata": {},
   "outputs": [],
   "source": [
    "knnPredict_X <- predict(knnFit_x,newdata = testing_X)\n",
    "#Get the confusion matrix to see accuracy value and other parameter values\n",
    "# confusionMatrix(pred_knn, test_w_a$posX) ### df[c(\"posX\",\"posY\")]"
   ]
  },
  {
   "cell_type": "code",
   "execution_count": 114,
   "metadata": {},
   "outputs": [
    {
     "data": {
      "text/html": [
       "2.2509594162451"
      ],
      "text/latex": [
       "2.2509594162451"
      ],
      "text/markdown": [
       "2.2509594162451"
      ],
      "text/plain": [
       "[1] 2.250959"
      ]
     },
     "metadata": {},
     "output_type": "display_data"
    }
   ],
   "source": [
    "# can't compute confusion matrix for non factor prediction\n",
    "# we Compute the prediction error RMSE\n",
    "#For the RMSE value, For good predictive model RMSE values should be low  <0.3, for rmse in range [0,1]\n",
    "RMSE(knnPredict_X, testing$posX)"
   ]
  },
  {
   "cell_type": "code",
   "execution_count": 115,
   "metadata": {},
   "outputs": [
    {
     "data": {
      "image/png": "[encoded data removed]",
      "text/plain": [
       "Plot with title \"real value Vs predicted value\""
      ]
     },
     "metadata": {},
     "output_type": "display_data"
    }
   ],
   "source": [
    "## show how error graoh real value Vs predicted value\n",
    "plot(knnPredict_X, testing$posX,main = \"real value Vs predicted value\")\n"
   ]
  },
  {
   "cell_type": "markdown",
   "metadata": {},
   "source": [
    "### based on the single value postX prediction, we can clearly see that real value is a function of the predicted value, so real value = predictedValue + error or =  a*predictedValue + b\n",
    "### we can optimize our model by defining and b  or by fitting a linear model between knn and testvalue. "
   ]
  },
  {
   "cell_type": "code",
   "execution_count": 116,
   "metadata": {},
   "outputs": [
    {
     "data": {
      "text/plain": [
       "k-Nearest Neighbors \n",
       "\n",
       "996 samples\n",
       "  8 predictor\n",
       "\n",
       "Pre-processing: centered (8), scaled (8) \n",
       "Resampling: Cross-Validated (10 fold, repeated 3 times) \n",
       "Summary of sample sizes: 896, 896, 896, 898, 896, 896, ... \n",
       "Resampling results across tuning parameters:\n",
       "\n",
       "  k   RMSE      Rsquared   MAE     \n",
       "   5  1.434178  0.7138089  1.022725\n",
       "   7  1.450772  0.7085777  1.057939\n",
       "   9  1.461949  0.7069734  1.077269\n",
       "  11  1.465091  0.7083135  1.086334\n",
       "  13  1.465480  0.7112772  1.095703\n",
       "  15  1.473352  0.7111843  1.108832\n",
       "  17  1.481548  0.7114171  1.123134\n",
       "  19  1.490505  0.7116385  1.139111\n",
       "  21  1.501696  0.7106212  1.155743\n",
       "  23  1.511046  0.7101985  1.171085\n",
       "  25  1.524999  0.7076900  1.187974\n",
       "  27  1.538155  0.7053470  1.204652\n",
       "  29  1.550261  0.7042686  1.218599\n",
       "  31  1.564213  0.7029830  1.236166\n",
       "  33  1.573509  0.7030432  1.247253\n",
       "  35  1.585150  0.7014036  1.258977\n",
       "  37  1.600613  0.6973052  1.274024\n",
       "  39  1.612547  0.6957643  1.286938\n",
       "  41  1.626819  0.6928315  1.300450\n",
       "  43  1.639505  0.6909311  1.314425\n",
       "\n",
       "RMSE was used to select the optimal model using the smallest value.\n",
       "The final value used for the model was k = 5."
      ]
     },
     "metadata": {},
     "output_type": "display_data"
    }
   ],
   "source": [
    "########### TRAINING THE Y COORDINATE  MODEL#######################\n",
    "set.seed(400)\n",
    "ctrl <- trainControl(method=\"repeatedcv\",repeats = 3) # default 10 fold cross validation during training and do 3 time the 10 fold CV\n",
    "knnFit_y <- train(posY~ ., data = trainX[,names(trainX)!= \"posX\"], method = \"knn\", trControl = ctrl, preProcess = c(\"center\",\"scale\"), tuneLength = 20)##tuneLengh to atomatically try 20  k value\n",
    "\n",
    "#Output of kNN fit\n",
    "knnFit_y"
   ]
  },
  {
   "cell_type": "code",
   "execution_count": 117,
   "metadata": {},
   "outputs": [
    {
     "data": {
      "image/png": "[encoded data removed]",
      "text/plain": [
       "plot without title"
      ]
     },
     "metadata": {},
     "output_type": "display_data"
    }
   ],
   "source": [
    "#Plotting yields Number of Neighbours Vs accuracy (based on repeated cross validation)\n",
    "plot(knnFit_y)"
   ]
  },
  {
   "cell_type": "code",
   "execution_count": 118,
   "metadata": {},
   "outputs": [],
   "source": [
    "testing_Y = testing[,(names(testing)!= \"angle\" & names(testing)!= \"posX\")]"
   ]
  },
  {
   "cell_type": "code",
   "execution_count": 119,
   "metadata": {},
   "outputs": [],
   "source": [
    "knnPredict_Y <- predict(knnFit_y,newdata = testing_Y)"
   ]
  },
  {
   "cell_type": "code",
   "execution_count": 120,
   "metadata": {},
   "outputs": [
    {
     "data": {
      "text/html": [
       "1.35851225815432"
      ],
      "text/latex": [
       "1.35851225815432"
      ],
      "text/markdown": [
       "1.35851225815432"
      ],
      "text/plain": [
       "[1] 1.358512"
      ]
     },
     "metadata": {},
     "output_type": "display_data"
    }
   ],
   "source": [
    "# can't compute confusion matrix for non factor prediction\n",
    "# we Compute the prediction error RMSE\n",
    "RMSE(knnPredict_Y, testing$posY)"
   ]
  },
  {
   "cell_type": "code",
   "execution_count": 121,
   "metadata": {
    "scrolled": true
   },
   "outputs": [
    {
     "data": {
      "image/png": "[encoded data removed]",
      "text/plain": [
       "Plot with title \"real value  Vs predicted value\""
      ]
     },
     "metadata": {},
     "output_type": "display_data"
    }
   ],
   "source": [
    "## show how error graoh real value Vs predicted value\n",
    "plot(knnPredict_Y, testing$posY,main = \"real value  Vs predicted value\")"
   ]
  },
  {
   "cell_type": "code",
   "execution_count": 42,
   "metadata": {},
   "outputs": [],
   "source": [
    "# manually compute accuracy\n",
    "# Compute model accuracy rate\n",
    "# mean(predicted.classes == test.data$diabetes)"
   ]
  },
  {
   "cell_type": "code",
   "execution_count": 122,
   "metadata": {},
   "outputs": [],
   "source": [
    "# define the predict function give the test data\n",
    "pred_x_y <- function(knnFit_x,knnFit_y, testing) {\n",
    "# function to print return the x and y coordiante for a given entry in the dataset\n",
    "# take the model fit and dataset to predict\n",
    "    testing_Y = testing[,(names(testing)!= \"angle\" & names(testing)!= \"posX\")]\n",
    "    knnPredict_Y <- predict(knnFit_y,newdata = testing_Y)\n",
    "    testing_X = testing[,(names(testing)!= \"angle\" & names(testing)!= \"posY\")]\n",
    "    knnPredict_X <- predict(knnFit_x,newdata = testing_X)\n",
    "    print(paste(\" compute predicted value for each entry in dataset....\"))\n",
    "    myList <- list(x = knnPredict_X, y = knnPredict_Y) \n",
    "    myDf <- as.data.frame(myList) \n",
    "    print(myList)\n",
    "    print(myDf)\n",
    "    return(myDf)\n",
    "}"
   ]
  },
  {
   "cell_type": "code",
   "execution_count": 123,
   "metadata": {},
   "outputs": [
    {
     "name": "stdout",
     "output_type": "stream",
     "text": [
      "[1] \" compute predicted value for each entry in dataset....\"\n",
      "$x\n",
      "  [1]  0.7142857  0.5714286  1.2857143  1.1428571  1.2857143  1.5714286\n",
      "  [7]  1.5714286  2.0000000  2.2857143  8.4285714  4.7142857  7.2857143\n",
      " [13] 10.5714286  9.2857143 10.2857143 11.2857143 13.8571429 11.4285714\n",
      " [19] 11.4285714 12.0000000 13.1428571 12.8571429 15.5714286 12.8571429\n",
      " [25] 16.8571429 15.2857143 22.0000000 17.1428571 26.0000000 22.4285714\n",
      " [31] 24.1428571 22.5714286 23.1428571 21.8571429 24.8571429 26.7142857\n",
      " [37] 27.8571429 31.0000000 26.0000000 25.0000000  0.2857143  0.8571429\n",
      " [43]  0.7142857  0.5714286  0.2857143  1.1428571  1.1428571  0.8571429\n",
      " [49]  2.2857143  0.7142857  1.0000000  4.4285714  5.4285714 10.5714286\n",
      " [55] 11.4285714 10.5714286 12.5714286 10.4285714  8.8571429 11.2857143\n",
      " [61] 18.0000000 20.8571429 16.2857143 21.5714286 24.1428571 26.8571429\n",
      " [67] 19.1428571 19.4285714 22.4285714 24.4285714 25.8571429 22.5714286\n",
      " [73] 24.0000000 22.4285714 28.0000000 24.2857143 29.0000000 29.8571429\n",
      " [79]  1.5714286  1.1428571  1.0000000  1.1428571  0.4285714  1.2857143\n",
      " [85]  0.7142857  1.4285714  0.4285714  1.7142857  0.7142857  1.5714286\n",
      " [91]  4.1428571  6.1428571  6.1428571  7.7142857 10.2857143 10.0000000\n",
      " [97] 10.8571429 12.0000000 10.7142857 10.0000000 10.5714286 12.7142857\n",
      "[103] 10.5714286  9.4285714 14.5714286 15.1428571 21.0000000 22.4285714\n",
      "[109] 23.1428571 20.2857143 24.8571429 22.2857143 17.7142857 25.5714286\n",
      "[115] 22.2857143 28.5714286 31.7142857 32.2857143  1.4285714  1.2857143\n",
      "[121]  1.0000000  1.4285714  0.7142857  0.7142857  0.8571429  1.2857143\n",
      "[127]  0.8571429  1.8571429  3.4285714  9.4285714  7.0000000  9.8571429\n",
      "[133] 10.5714286 11.2857143  9.2857143  9.2857143 12.4285714 12.7142857\n",
      "[139] 11.5714286 11.5714286 14.0000000 13.1428571 15.7142857 20.2857143\n",
      "[145] 19.0000000 21.7142857 22.1428571 23.7142857 24.0000000 22.5714286\n",
      "[151] 24.5714286 25.0000000 25.4285714 24.4285714 23.5714286 19.7142857\n",
      "[157] 23.8571429 22.5714286 23.5714286 23.8571429 25.5714286 29.0000000\n",
      "[163] 27.4285714 31.0000000 27.5714286 31.7142857 31.7142857 31.5714286\n",
      "[169]  1.4285714  1.4285714  0.5714286  1.1428571  1.5714286  1.7142857\n",
      "[175]  1.1428571  1.2857143  0.8571429  0.5714286  4.4285714  3.1428571\n",
      "[181]  8.2857143  7.2857143  9.0000000  9.0000000  9.0000000 10.4285714\n",
      "[187] 12.8571429  9.5714286 12.5714286 17.7142857 16.5714286 24.0000000\n",
      "[193] 25.1428571 25.4285714 22.4285714 23.7142857 27.2857143 25.5714286\n",
      "[199] 21.4285714 24.5714286 28.0000000 31.0000000 26.8571429 31.5714286\n",
      "[205] 29.8571429 31.2857143  0.7142857  1.1428571  7.4285714  1.1428571\n",
      "[211]  0.8571429  1.2857143  1.1428571  1.4285714  1.0000000  1.2857143\n",
      "[217]  1.4285714  3.5714286  4.1428571  3.8571429  9.7142857  7.5714286\n",
      "[223]  8.2857143 11.2857143 13.2857143 10.7142857 11.5714286  9.2857143\n",
      "[229] 10.7142857  8.4285714 10.8571429 11.8571429 16.7142857 10.1428571\n",
      "[235] 17.5714286 17.0000000 16.4285714 20.7142857 25.2857143 23.5714286\n",
      "[241] 20.1428571 24.2857143 23.8571429 26.7142857 26.0000000 27.0000000\n",
      "[247] 25.4285714 28.2857143 27.5714286 32.0000000  0.5714286  0.1428571\n",
      "[253] 10.0000000  1.0000000  0.7142857  1.5714286  1.0000000  1.5714286\n",
      "[259]  1.8571429  0.8571429  1.2857143  5.8571429 10.4285714  5.5714286\n",
      "[265]  9.7142857  6.5714286 13.1428571 14.5714286 11.5714286 11.8571429\n",
      "[271] 11.4285714 11.2857143  9.0000000 12.5714286 11.7142857  9.7142857\n",
      "[277] 18.5714286 14.8571429 15.8571429 19.7142857 19.1428571 24.1428571\n",
      "[283] 22.4285714 26.2857143 22.0000000 25.5714286 23.0000000 23.7142857\n",
      "[289] 24.8571429 27.5714286 28.2857143 31.4285714 32.2857143  0.5714286\n",
      "[295]  1.0000000  0.4285714  7.5714286  0.5714286  1.4285714  1.7142857\n",
      "[301]  1.8571429  1.4285714  4.4285714  9.2857143  8.1428571 13.0000000\n",
      "[307] 12.2857143 11.4285714 11.1428571  9.8571429 15.1428571 11.8571429\n",
      "[313]  9.8571429 12.4285714 14.8571429 11.0000000 19.8571429 18.2857143\n",
      "[319] 17.4285714 25.0000000 19.7142857 23.1428571 23.2857143 26.0000000\n",
      "[325] 19.1428571 23.2857143 26.4285714 27.1428571 29.5714286 29.0000000\n",
      "[331] 31.7142857 30.8571429\n",
      "\n",
      "$y\n",
      "  [1]  3.200000  8.200000  4.000000  6.600000  7.600000 12.200000  2.800000\n",
      "  [8]  7.400000  6.000000  3.200000  7.000000  8.000000  3.200000  7.600000\n",
      " [15]  5.000000  3.400000  7.000000  6.600000  3.600000  5.400000  5.800000\n",
      " [22]  3.600000  5.200000  5.600000  7.600000  4.200000  6.800000  6.600000\n",
      " [29]  6.800000  4.600000  5.800000  6.000000  5.800000  4.200000  6.200000\n",
      " [36]  4.000000  6.200000  6.400000  6.000000  6.400000  1.200000  3.200000\n",
      " [43]  6.400000  9.800000 11.600000  3.200000  6.600000 10.200000  5.200000\n",
      " [50]  9.400000  9.800000  7.000000  6.600000  4.600000  5.600000  6.400000\n",
      " [57]  5.800000  7.200000  7.000000  6.000000  3.000000  3.000000  7.600000\n",
      " [64]  5.600000  3.800000  5.200000  7.600000  7.400000  7.200000  4.200000\n",
      " [71]  7.200000  7.800000  4.600000  5.800000  5.000000  6.600000  3.800000\n",
      " [78]  6.600000  4.400000  2.800000  3.400000  8.000000  4.600000  3.600000\n",
      " [85]  1.400000  7.600000  0.800000  2.800000 10.400000 12.200000  7.200000\n",
      " [92]  4.000000  7.400000  5.666667  7.000000  7.800000  3.000000  5.800000\n",
      " [99]  6.600000  7.800000  3.200000  4.400000  3.200000  5.800000  3.200000\n",
      "[106]  7.200000  3.800000  5.200000  4.800000  7.000000  3.200000  6.600000\n",
      "[113]  7.200000  4.200000  3.800000  4.200000  3.800000  7.000000  7.600000\n",
      "[120]  3.400000  5.000000  6.800000 10.200000 10.200000  0.200000  6.600000\n",
      "[127] 10.200000 12.200000  6.800000  6.400000  7.400000  3.200000  6.400000\n",
      "[134]  5.000000  4.600000  4.000000  3.200000  5.000000  3.400000  7.400000\n",
      "[141]  7.400000  4.800000  3.000000  7.200000  4.400000  6.600000  5.600000\n",
      "[148]  5.200000  5.800000  3.200000  5.000000  5.800000  3.600000  5.200000\n",
      "[155]  4.800000  7.200000  5.800000  4.400000  3.800000  4.200000  7.600000\n",
      "[162]  6.400000  6.400000  5.800000  7.400000  6.000000  4.200000  5.000000\n",
      "[169]  6.000000  6.600000  6.400000  0.600000  5.200000  7.200000  9.800000\n",
      "[176]  2.400000  9.000000  9.600000  7.400000  7.200000  7.400000  5.000000\n",
      "[183]  6.600000  3.600000  6.600000  3.400000  3.400000  6.800000  7.200000\n",
      "[190]  3.000000  3.000000  4.000000  7.400000  6.400000  4.400000  6.200000\n",
      "[197]  6.600000  3.000000  7.200000  4.800000  3.000000  3.200000  6.400000\n",
      "[204]  3.400000  3.000000  4.000000  3.200000  3.200000  7.600000  9.400000\n",
      "[211] 10.000000  3.400000  3.400000  5.800000 10.600000  5.600000 12.600000\n",
      "[218]  7.000000  7.000000  6.000000  7.400000  4.000000  6.200000  4.400000\n",
      "[225]  7.400000  4.600000  4.400000  5.400000  5.800000  3.400000  5.400000\n",
      "[232]  3.600000  3.000000  7.400000  3.000000  7.600000  7.600000  3.000000\n",
      "[239]  5.000000  4.200000  3.000000  5.000000  6.800000  5.800000  6.200000\n",
      "[246]  5.600000  6.400000  5.400000  6.800000  8.000000  1.800000  4.600000\n",
      "[253]  7.000000  8.000000  9.600000  3.600000  1.600000  3.600000  6.800000\n",
      "[260]  9.800000 12.600000  4.000000  4.400000  7.600000  7.400000  7.400000\n",
      "[267]  7.600000  7.400000  6.200000  3.800000  5.600000  7.200000  3.000000\n",
      "[274]  5.600000  7.000000  6.200000  7.400000  7.400000  7.600000  7.400000\n",
      "[281]  4.600000  6.000000  7.200000  6.600000  3.400000  5.200000  4.600000\n",
      "[288]  3.800000  5.200000  6.200000  7.600000  7.800000  7.200000  2.400000\n",
      "[295]  3.400000  3.200000  7.000000  9.800000  1.400000  5.600000  6.200000\n",
      "[302] 12.200000  7.600000  5.000000  7.200000  7.600000  5.200000  6.200000\n",
      "[309]  5.200000  3.400000  5.200000  7.000000  7.400000  3.600000  7.600000\n",
      "[316]  7.000000  3.000000  7.600000  3.000000  6.800000  7.000000  7.600000\n",
      "[323]  5.200000  5.400000  7.200000  3.800000  6.600000  5.200000  3.000000\n",
      "[330]  7.600000  4.400000  6.000000\n",
      "\n",
      "             x         y\n",
      "1    0.7142857  3.200000\n",
      "2    0.5714286  8.200000\n",
      "3    1.2857143  4.000000\n",
      "4    1.1428571  6.600000\n",
      "5    1.2857143  7.600000\n",
      "6    1.5714286 12.200000\n",
      "7    1.5714286  2.800000\n",
      "8    2.0000000  7.400000\n",
      "9    2.2857143  6.000000\n",
      "10   8.4285714  3.200000\n",
      "11   4.7142857  7.000000\n",
      "12   7.2857143  8.000000\n",
      "13  10.5714286  3.200000\n",
      "14   9.2857143  7.600000\n",
      "15  10.2857143  5.000000\n",
      "16  11.2857143  3.400000\n",
      "17  13.8571429  7.000000\n",
      "18  11.4285714  6.600000\n",
      "19  11.4285714  3.600000\n",
      "20  12.0000000  5.400000\n",
      "21  13.1428571  5.800000\n",
      "22  12.8571429  3.600000\n",
      "23  15.5714286  5.200000\n",
      "24  12.8571429  5.600000\n",
      "25  16.8571429  7.600000\n",
      "26  15.2857143  4.200000\n",
      "27  22.0000000  6.800000\n",
      "28  17.1428571  6.600000\n",
      "29  26.0000000  6.800000\n",
      "30  22.4285714  4.600000\n",
      "31  24.1428571  5.800000\n",
      "32  22.5714286  6.000000\n",
      "33  23.1428571  5.800000\n",
      "34  21.8571429  4.200000\n",
      "35  24.8571429  6.200000\n",
      "36  26.7142857  4.000000\n",
      "37  27.8571429  6.200000\n",
      "38  31.0000000  6.400000\n",
      "39  26.0000000  6.000000\n",
      "40  25.0000000  6.400000\n",
      "41   0.2857143  1.200000\n",
      "42   0.8571429  3.200000\n",
      "43   0.7142857  6.400000\n",
      "44   0.5714286  9.800000\n",
      "45   0.2857143 11.600000\n",
      "46   1.1428571  3.200000\n",
      "47   1.1428571  6.600000\n",
      "48   0.8571429 10.200000\n",
      "49   2.2857143  5.200000\n",
      "50   0.7142857  9.400000\n",
      "51   1.0000000  9.800000\n",
      "52   4.4285714  7.000000\n",
      "53   5.4285714  6.600000\n",
      "54  10.5714286  4.600000\n",
      "55  11.4285714  5.600000\n",
      "56  10.5714286  6.400000\n",
      "57  12.5714286  5.800000\n",
      "58  10.4285714  7.200000\n",
      "59   8.8571429  7.000000\n",
      "60  11.2857143  6.000000\n",
      "61  18.0000000  3.000000\n",
      "62  20.8571429  3.000000\n",
      "63  16.2857143  7.600000\n",
      "64  21.5714286  5.600000\n",
      "65  24.1428571  3.800000\n",
      "66  26.8571429  5.200000\n",
      "67  19.1428571  7.600000\n",
      "68  19.4285714  7.400000\n",
      "69  22.4285714  7.200000\n",
      "70  24.4285714  4.200000\n",
      "71  25.8571429  7.200000\n",
      "72  22.5714286  7.800000\n",
      "73  24.0000000  4.600000\n",
      "74  22.4285714  5.800000\n",
      "75  28.0000000  5.000000\n",
      "76  24.2857143  6.600000\n",
      "77  29.0000000  3.800000\n",
      "78  29.8571429  6.600000\n",
      "79   1.5714286  4.400000\n",
      "80   1.1428571  2.800000\n",
      "81   1.0000000  3.400000\n",
      "82   1.1428571  8.000000\n",
      "83   0.4285714  4.600000\n",
      "84   1.2857143  3.600000\n",
      "85   0.7142857  1.400000\n",
      "86   1.4285714  7.600000\n",
      "87   0.4285714  0.800000\n",
      "88   1.7142857  2.800000\n",
      "89   0.7142857 10.400000\n",
      "90   1.5714286 12.200000\n",
      "91   4.1428571  7.200000\n",
      "92   6.1428571  4.000000\n",
      "93   6.1428571  7.400000\n",
      "94   7.7142857  5.666667\n",
      "95  10.2857143  7.000000\n",
      "96  10.0000000  7.800000\n",
      "97  10.8571429  3.000000\n",
      "98  12.0000000  5.800000\n",
      "99  10.7142857  6.600000\n",
      "100 10.0000000  7.800000\n",
      "101 10.5714286  3.200000\n",
      "102 12.7142857  4.400000\n",
      "103 10.5714286  3.200000\n",
      "104  9.4285714  5.800000\n",
      "105 14.5714286  3.200000\n",
      "106 15.1428571  7.200000\n",
      "107 21.0000000  3.800000\n",
      "108 22.4285714  5.200000\n",
      "109 23.1428571  4.800000\n",
      "110 20.2857143  7.000000\n",
      "111 24.8571429  3.200000\n",
      "112 22.2857143  6.600000\n",
      "113 17.7142857  7.200000\n",
      "114 25.5714286  4.200000\n",
      "115 22.2857143  3.800000\n",
      "116 28.5714286  4.200000\n",
      "117 31.7142857  3.800000\n",
      "118 32.2857143  7.000000\n",
      "119  1.4285714  7.600000\n",
      "120  1.2857143  3.400000\n",
      "121  1.0000000  5.000000\n",
      "122  1.4285714  6.800000\n",
      "123  0.7142857 10.200000\n",
      "124  0.7142857 10.200000\n",
      "125  0.8571429  0.200000\n",
      "126  1.2857143  6.600000\n",
      "127  0.8571429 10.200000\n",
      "128  1.8571429 12.200000\n",
      "129  3.4285714  6.800000\n",
      "130  9.4285714  6.400000\n",
      "131  7.0000000  7.400000\n",
      "132  9.8571429  3.200000\n",
      "133 10.5714286  6.400000\n",
      "134 11.2857143  5.000000\n",
      "135  9.2857143  4.600000\n",
      "136  9.2857143  4.000000\n",
      "137 12.4285714  3.200000\n",
      "138 12.7142857  5.000000\n",
      "139 11.5714286  3.400000\n",
      "140 11.5714286  7.400000\n",
      "141 14.0000000  7.400000\n",
      "142 13.1428571  4.800000\n",
      "143 15.7142857  3.000000\n",
      "144 20.2857143  7.200000\n",
      "145 19.0000000  4.400000\n",
      "146 21.7142857  6.600000\n",
      "147 22.1428571  5.600000\n",
      "148 23.7142857  5.200000\n",
      "149 24.0000000  5.800000\n",
      "150 22.5714286  3.200000\n",
      "151 24.5714286  5.000000\n",
      "152 25.0000000  5.800000\n",
      "153 25.4285714  3.600000\n",
      "154 24.4285714  5.200000\n",
      "155 23.5714286  4.800000\n",
      "156 19.7142857  7.200000\n",
      "157 23.8571429  5.800000\n",
      "158 22.5714286  4.400000\n",
      "159 23.5714286  3.800000\n",
      "160 23.8571429  4.200000\n",
      "161 25.5714286  7.600000\n",
      "162 29.0000000  6.400000\n",
      "163 27.4285714  6.400000\n",
      "164 31.0000000  5.800000\n",
      "165 27.5714286  7.400000\n",
      "166 31.7142857  6.000000\n",
      "167 31.7142857  4.200000\n",
      "168 31.5714286  5.000000\n",
      "169  1.4285714  6.000000\n",
      "170  1.4285714  6.600000\n",
      "171  0.5714286  6.400000\n",
      "172  1.1428571  0.600000\n",
      "173  1.5714286  5.200000\n",
      "174  1.7142857  7.200000\n",
      "175  1.1428571  9.800000\n",
      "176  1.2857143  2.400000\n",
      "177  0.8571429  9.000000\n",
      "178  0.5714286  9.600000\n",
      "179  4.4285714  7.400000\n",
      "180  3.1428571  7.200000\n",
      "181  8.2857143  7.400000\n",
      "182  7.2857143  5.000000\n",
      "183  9.0000000  6.600000\n",
      "184  9.0000000  3.600000\n",
      "185  9.0000000  6.600000\n",
      "186 10.4285714  3.400000\n",
      "187 12.8571429  3.400000\n",
      "188  9.5714286  6.800000\n",
      "189 12.5714286  7.200000\n",
      "190 17.7142857  3.000000\n",
      "191 16.5714286  3.000000\n",
      "192 24.0000000  4.000000\n",
      "193 25.1428571  7.400000\n",
      "194 25.4285714  6.400000\n",
      "195 22.4285714  4.400000\n",
      "196 23.7142857  6.200000\n",
      "197 27.2857143  6.600000\n",
      "198 25.5714286  3.000000\n",
      "199 21.4285714  7.200000\n",
      "200 24.5714286  4.800000\n",
      "201 28.0000000  3.000000\n",
      "202 31.0000000  3.200000\n",
      "203 26.8571429  6.400000\n",
      "204 31.5714286  3.400000\n",
      "205 29.8571429  3.000000\n",
      "206 31.2857143  4.000000\n",
      "207  0.7142857  3.200000\n",
      "208  1.1428571  3.200000\n",
      "209  7.4285714  7.600000\n",
      "210  1.1428571  9.400000\n",
      "211  0.8571429 10.000000\n",
      "212  1.2857143  3.400000\n",
      "213  1.1428571  3.400000\n",
      "214  1.4285714  5.800000\n",
      "215  1.0000000 10.600000\n",
      "216  1.2857143  5.600000\n",
      "217  1.4285714 12.600000\n",
      "218  3.5714286  7.000000\n",
      "219  4.1428571  7.000000\n",
      "220  3.8571429  6.000000\n",
      "221  9.7142857  7.400000\n",
      "222  7.5714286  4.000000\n",
      "223  8.2857143  6.200000\n",
      "224 11.2857143  4.400000\n",
      "225 13.2857143  7.400000\n",
      "226 10.7142857  4.600000\n",
      "227 11.5714286  4.400000\n",
      "228  9.2857143  5.400000\n",
      "229 10.7142857  5.800000\n",
      "230  8.4285714  3.400000\n",
      "231 10.8571429  5.400000\n",
      "232 11.8571429  3.600000\n",
      "233 16.7142857  3.000000\n",
      "234 10.1428571  7.400000\n",
      "235 17.5714286  3.000000\n",
      "236 17.0000000  7.600000\n",
      "237 16.4285714  7.600000\n",
      "238 20.7142857  3.000000\n",
      "239 25.2857143  5.000000\n",
      "240 23.5714286  4.200000\n",
      "241 20.1428571  3.000000\n",
      "242 24.2857143  5.000000\n",
      "243 23.8571429  6.800000\n",
      "244 26.7142857  5.800000\n",
      "245 26.0000000  6.200000\n",
      "246 27.0000000  5.600000\n",
      "247 25.4285714  6.400000\n",
      "248 28.2857143  5.400000\n",
      "249 27.5714286  6.800000\n",
      "250 32.0000000  8.000000\n",
      "251  0.5714286  1.800000\n",
      "252  0.1428571  4.600000\n",
      "253 10.0000000  7.000000\n",
      "254  1.0000000  8.000000\n",
      "255  0.7142857  9.600000\n",
      "256  1.5714286  3.600000\n",
      "257  1.0000000  1.600000\n",
      "258  1.5714286  3.600000\n",
      "259  1.8571429  6.800000\n",
      "260  0.8571429  9.800000\n",
      "261  1.2857143 12.600000\n",
      "262  5.8571429  4.000000\n",
      "263 10.4285714  4.400000\n",
      "264  5.5714286  7.600000\n",
      "265  9.7142857  7.400000\n",
      "266  6.5714286  7.400000\n",
      "267 13.1428571  7.600000\n",
      "268 14.5714286  7.400000\n",
      "269 11.5714286  6.200000\n",
      "270 11.8571429  3.800000\n",
      "271 11.4285714  5.600000\n",
      "272 11.2857143  7.200000\n",
      "273  9.0000000  3.000000\n",
      "274 12.5714286  5.600000\n",
      "275 11.7142857  7.000000\n",
      "276  9.7142857  6.200000\n",
      "277 18.5714286  7.400000\n",
      "278 14.8571429  7.400000\n",
      "279 15.8571429  7.600000\n",
      "280 19.7142857  7.400000\n",
      "281 19.1428571  4.600000\n",
      "282 24.1428571  6.000000\n",
      "283 22.4285714  7.200000\n",
      "284 26.2857143  6.600000\n",
      "285 22.0000000  3.400000\n",
      "286 25.5714286  5.200000\n",
      "287 23.0000000  4.600000\n",
      "288 23.7142857  3.800000\n",
      "289 24.8571429  5.200000\n",
      "290 27.5714286  6.200000\n",
      "291 28.2857143  7.600000\n",
      "292 31.4285714  7.800000\n",
      "293 32.2857143  7.200000\n",
      "294  0.5714286  2.400000\n",
      "295  1.0000000  3.400000\n",
      "296  0.4285714  3.200000\n",
      "297  7.5714286  7.000000\n",
      "298  0.5714286  9.800000\n",
      "299  1.4285714  1.400000\n",
      "300  1.7142857  5.600000\n",
      "301  1.8571429  6.200000\n",
      "302  1.4285714 12.200000\n",
      "303  4.4285714  7.600000\n",
      "304  9.2857143  5.000000\n",
      "305  8.1428571  7.200000\n",
      "306 13.0000000  7.600000\n",
      "307 12.2857143  5.200000\n",
      "308 11.4285714  6.200000\n",
      "309 11.1428571  5.200000\n",
      "310  9.8571429  3.400000\n",
      "311 15.1428571  5.200000\n",
      "312 11.8571429  7.000000\n",
      "313  9.8571429  7.400000\n",
      "314 12.4285714  3.600000\n",
      "315 14.8571429  7.600000\n",
      "316 11.0000000  7.000000\n",
      "317 19.8571429  3.000000\n",
      "318 18.2857143  7.600000\n",
      "319 17.4285714  3.000000\n",
      "320 25.0000000  6.800000\n",
      "321 19.7142857  7.000000\n",
      "322 23.1428571  7.600000\n",
      "323 23.2857143  5.200000\n",
      "324 26.0000000  5.400000\n",
      "325 19.1428571  7.200000\n",
      "326 23.2857143  3.800000\n",
      "327 26.4285714  6.600000\n",
      "328 27.1428571  5.200000\n",
      "329 29.5714286  3.000000\n",
      "330 29.0000000  7.600000\n",
      "331 31.7142857  4.400000\n",
      "332 30.8571429  6.000000\n"
     ]
    }
   ],
   "source": [
    "data =pred_x_y(knnFit_x, knnFit_y, testing)"
   ]
  },
  {
   "cell_type": "code",
   "execution_count": 46,
   "metadata": {},
   "outputs": [
    {
     "data": {
      "text/html": [
       "<table>\n",
       "<thead><tr><th></th><th scope=col>X</th><th scope=col>posX</th><th scope=col>posY</th><th scope=col>angle</th><th scope=col>X00.14.bf.b1.97.8a</th><th scope=col>X00.14.bf.b1.97.90</th><th scope=col>X00.0f.a3.39.e1.c0</th><th scope=col>X00.14.bf.b1.97.8d</th><th scope=col>X00.14.bf.b1.97.81</th><th scope=col>X00.14.bf.3b.c7.c6</th><th scope=col>X00.0f.a3.39.dd.cd</th></tr></thead>\n",
       "<tbody>\n",
       "\t<tr><th scope=row>4</th><td> 4       </td><td>0        </td><td> 3       </td><td>0        </td><td>-51.10097</td><td>-56.79017</td><td>-55.53636</td><td>-58.28706</td><td>-56.71622</td><td>-62.36238</td><td>-69.08939</td></tr>\n",
       "\t<tr><th scope=row>7</th><td> 7       </td><td>0        </td><td> 8       </td><td>0        </td><td>-48.42360</td><td>-53.54905</td><td>-49.77273</td><td>-59.83663</td><td>-61.93624</td><td>-66.05527</td><td>-68.10909</td></tr>\n",
       "\t<tr><th scope=row>8</th><td> 8       </td><td>0        </td><td> 9       </td><td>0        </td><td>-53.45483</td><td>-56.47158</td><td>-50.99091</td><td>-62.92592</td><td>-64.46243</td><td>-66.68757</td><td>-67.06364</td></tr>\n",
       "\t<tr><th scope=row>18</th><td>18       </td><td>1        </td><td> 5       </td><td>0        </td><td>-47.02975</td><td>-58.54078</td><td>-52.40909</td><td>-59.93825</td><td>-62.29847</td><td>-68.01485</td><td>-66.86364</td></tr>\n",
       "\t<tr><th scope=row>23</th><td>23       </td><td>1        </td><td>10       </td><td>0        </td><td>-49.51729</td><td>-56.57829</td><td>-59.46713</td><td>-60.94734</td><td>-66.25756</td><td>-64.50706</td><td>-74.08182</td></tr>\n",
       "\t<tr><th scope=row>25</th><td>25       </td><td>1        </td><td>12       </td><td>0        </td><td>-44.57301</td><td>-48.40184</td><td>-55.25455</td><td>-61.44989</td><td>-68.84003</td><td>-66.32090</td><td>-71.74376</td></tr>\n",
       "</tbody>\n",
       "</table>\n"
      ],
      "text/latex": [
       "\\begin{tabular}{r|lllllllllll}\n",
       "  & X & posX & posY & angle & X00.14.bf.b1.97.8a & X00.14.bf.b1.97.90 & X00.0f.a3.39.e1.c0 & X00.14.bf.b1.97.8d & X00.14.bf.b1.97.81 & X00.14.bf.3b.c7.c6 & X00.0f.a3.39.dd.cd\\\\\n",
       "\\hline\n",
       "\t4 &  4        & 0         &  3        & 0         & -51.10097 & -56.79017 & -55.53636 & -58.28706 & -56.71622 & -62.36238 & -69.08939\\\\\n",
       "\t7 &  7        & 0         &  8        & 0         & -48.42360 & -53.54905 & -49.77273 & -59.83663 & -61.93624 & -66.05527 & -68.10909\\\\\n",
       "\t8 &  8        & 0         &  9        & 0         & -53.45483 & -56.47158 & -50.99091 & -62.92592 & -64.46243 & -66.68757 & -67.06364\\\\\n",
       "\t18 & 18        & 1         &  5        & 0         & -47.02975 & -58.54078 & -52.40909 & -59.93825 & -62.29847 & -68.01485 & -66.86364\\\\\n",
       "\t23 & 23        & 1         & 10        & 0         & -49.51729 & -56.57829 & -59.46713 & -60.94734 & -66.25756 & -64.50706 & -74.08182\\\\\n",
       "\t25 & 25        & 1         & 12        & 0         & -44.57301 & -48.40184 & -55.25455 & -61.44989 & -68.84003 & -66.32090 & -71.74376\\\\\n",
       "\\end{tabular}\n"
      ],
      "text/markdown": [
       "\n",
       "| <!--/--> | X | posX | posY | angle | X00.14.bf.b1.97.8a | X00.14.bf.b1.97.90 | X00.0f.a3.39.e1.c0 | X00.14.bf.b1.97.8d | X00.14.bf.b1.97.81 | X00.14.bf.3b.c7.c6 | X00.0f.a3.39.dd.cd |\n",
       "|---|---|---|---|---|---|---|---|---|---|---|---|\n",
       "| 4 |  4        | 0         |  3        | 0         | -51.10097 | -56.79017 | -55.53636 | -58.28706 | -56.71622 | -62.36238 | -69.08939 |\n",
       "| 7 |  7        | 0         |  8        | 0         | -48.42360 | -53.54905 | -49.77273 | -59.83663 | -61.93624 | -66.05527 | -68.10909 |\n",
       "| 8 |  8        | 0         |  9        | 0         | -53.45483 | -56.47158 | -50.99091 | -62.92592 | -64.46243 | -66.68757 | -67.06364 |\n",
       "| 18 | 18        | 1         |  5        | 0         | -47.02975 | -58.54078 | -52.40909 | -59.93825 | -62.29847 | -68.01485 | -66.86364 |\n",
       "| 23 | 23        | 1         | 10        | 0         | -49.51729 | -56.57829 | -59.46713 | -60.94734 | -66.25756 | -64.50706 | -74.08182 |\n",
       "| 25 | 25        | 1         | 12        | 0         | -44.57301 | -48.40184 | -55.25455 | -61.44989 | -68.84003 | -66.32090 | -71.74376 |\n",
       "\n"
      ],
      "text/plain": [
       "   X  posX posY angle X00.14.bf.b1.97.8a X00.14.bf.b1.97.90 X00.0f.a3.39.e1.c0\n",
       "4   4 0     3   0     -51.10097          -56.79017          -55.53636         \n",
       "7   7 0     8   0     -48.42360          -53.54905          -49.77273         \n",
       "8   8 0     9   0     -53.45483          -56.47158          -50.99091         \n",
       "18 18 1     5   0     -47.02975          -58.54078          -52.40909         \n",
       "23 23 1    10   0     -49.51729          -56.57829          -59.46713         \n",
       "25 25 1    12   0     -44.57301          -48.40184          -55.25455         \n",
       "   X00.14.bf.b1.97.8d X00.14.bf.b1.97.81 X00.14.bf.3b.c7.c6 X00.0f.a3.39.dd.cd\n",
       "4  -58.28706          -56.71622          -62.36238          -69.08939         \n",
       "7  -59.83663          -61.93624          -66.05527          -68.10909         \n",
       "8  -62.92592          -64.46243          -66.68757          -67.06364         \n",
       "18 -59.93825          -62.29847          -68.01485          -66.86364         \n",
       "23 -60.94734          -66.25756          -64.50706          -74.08182         \n",
       "25 -61.44989          -68.84003          -66.32090          -71.74376         "
      ]
     },
     "metadata": {},
     "output_type": "display_data"
    }
   ],
   "source": [
    "head(testing)"
   ]
  },
  {
   "cell_type": "code",
   "execution_count": 73,
   "metadata": {},
   "outputs": [
    {
     "data": {
      "text/html": [
       "<table>\n",
       "<thead><tr><th scope=col>x</th><th scope=col>y</th></tr></thead>\n",
       "<tbody>\n",
       "\t<tr><td> 3.428571</td><td> 3.428571</td></tr>\n",
       "\t<tr><td> 4.571429</td><td> 4.571429</td></tr>\n",
       "\t<tr><td> 5.857143</td><td> 5.857143</td></tr>\n",
       "\t<tr><td> 3.714286</td><td> 3.714286</td></tr>\n",
       "\t<tr><td> 7.714286</td><td> 7.714286</td></tr>\n",
       "\t<tr><td>11.428571</td><td>11.428571</td></tr>\n",
       "\t<tr><td> 6.428571</td><td> 6.428571</td></tr>\n",
       "\t<tr><td> 5.571429</td><td> 5.571429</td></tr>\n",
       "\t<tr><td> 3.142857</td><td> 3.142857</td></tr>\n",
       "\t<tr><td> 6.571429</td><td> 6.571429</td></tr>\n",
       "\t<tr><td> 7.571429</td><td> 7.571429</td></tr>\n",
       "\t<tr><td> 5.571429</td><td> 5.571429</td></tr>\n",
       "\t<tr><td> 5.714286</td><td> 5.714286</td></tr>\n",
       "\t<tr><td> 6.714286</td><td> 6.714286</td></tr>\n",
       "\t<tr><td> 4.000000</td><td> 4.000000</td></tr>\n",
       "\t<tr><td> 4.714286</td><td> 4.714286</td></tr>\n",
       "\t<tr><td> 6.142857</td><td> 6.142857</td></tr>\n",
       "\t<tr><td> 6.714286</td><td> 6.714286</td></tr>\n",
       "\t<tr><td> 3.285714</td><td> 3.285714</td></tr>\n",
       "\t<tr><td> 6.714286</td><td> 6.714286</td></tr>\n",
       "\t<tr><td> 5.857143</td><td> 5.857143</td></tr>\n",
       "\t<tr><td> 3.428571</td><td> 3.428571</td></tr>\n",
       "\t<tr><td> 5.428571</td><td> 5.428571</td></tr>\n",
       "\t<tr><td> 6.285714</td><td> 6.285714</td></tr>\n",
       "\t<tr><td> 4.000000</td><td> 4.000000</td></tr>\n",
       "\t<tr><td> 6.571429</td><td> 6.571429</td></tr>\n",
       "\t<tr><td> 5.428571</td><td> 5.428571</td></tr>\n",
       "\t<tr><td> 6.428571</td><td> 6.428571</td></tr>\n",
       "\t<tr><td> 7.142857</td><td> 7.142857</td></tr>\n",
       "\t<tr><td> 5.571429</td><td> 5.571429</td></tr>\n",
       "\t<tr><td> 6.000000</td><td> 6.000000</td></tr>\n",
       "\t<tr><td> 4.142857</td><td> 4.142857</td></tr>\n",
       "\t<tr><td> 5.857143</td><td> 5.857143</td></tr>\n",
       "\t<tr><td> 5.857143</td><td> 5.857143</td></tr>\n",
       "\t<tr><td> 5.571429</td><td> 5.571429</td></tr>\n",
       "\t<tr><td> 5.571429</td><td> 5.571429</td></tr>\n",
       "\t<tr><td> 7.571429</td><td> 7.571429</td></tr>\n",
       "\t<tr><td> 5.857143</td><td> 5.857143</td></tr>\n",
       "\t<tr><td> 5.571429</td><td> 5.571429</td></tr>\n",
       "\t<tr><td> 4.857143</td><td> 4.857143</td></tr>\n",
       "</tbody>\n",
       "</table>\n"
      ],
      "text/latex": [
       "\\begin{tabular}{r|ll}\n",
       " x & y\\\\\n",
       "\\hline\n",
       "\t  3.428571 &  3.428571\\\\\n",
       "\t  4.571429 &  4.571429\\\\\n",
       "\t  5.857143 &  5.857143\\\\\n",
       "\t  3.714286 &  3.714286\\\\\n",
       "\t  7.714286 &  7.714286\\\\\n",
       "\t 11.428571 & 11.428571\\\\\n",
       "\t  6.428571 &  6.428571\\\\\n",
       "\t  5.571429 &  5.571429\\\\\n",
       "\t  3.142857 &  3.142857\\\\\n",
       "\t  6.571429 &  6.571429\\\\\n",
       "\t  7.571429 &  7.571429\\\\\n",
       "\t  5.571429 &  5.571429\\\\\n",
       "\t  5.714286 &  5.714286\\\\\n",
       "\t  6.714286 &  6.714286\\\\\n",
       "\t  4.000000 &  4.000000\\\\\n",
       "\t  4.714286 &  4.714286\\\\\n",
       "\t  6.142857 &  6.142857\\\\\n",
       "\t  6.714286 &  6.714286\\\\\n",
       "\t  3.285714 &  3.285714\\\\\n",
       "\t  6.714286 &  6.714286\\\\\n",
       "\t  5.857143 &  5.857143\\\\\n",
       "\t  3.428571 &  3.428571\\\\\n",
       "\t  5.428571 &  5.428571\\\\\n",
       "\t  6.285714 &  6.285714\\\\\n",
       "\t  4.000000 &  4.000000\\\\\n",
       "\t  6.571429 &  6.571429\\\\\n",
       "\t  5.428571 &  5.428571\\\\\n",
       "\t  6.428571 &  6.428571\\\\\n",
       "\t  7.142857 &  7.142857\\\\\n",
       "\t  5.571429 &  5.571429\\\\\n",
       "\t  6.000000 &  6.000000\\\\\n",
       "\t  4.142857 &  4.142857\\\\\n",
       "\t  5.857143 &  5.857143\\\\\n",
       "\t  5.857143 &  5.857143\\\\\n",
       "\t  5.571429 &  5.571429\\\\\n",
       "\t  5.571429 &  5.571429\\\\\n",
       "\t  7.571429 &  7.571429\\\\\n",
       "\t  5.857143 &  5.857143\\\\\n",
       "\t  5.571429 &  5.571429\\\\\n",
       "\t  4.857143 &  4.857143\\\\\n",
       "\\end{tabular}\n"
      ],
      "text/markdown": [
       "\n",
       "| x | y |\n",
       "|---|---|\n",
       "|  3.428571 |  3.428571 |\n",
       "|  4.571429 |  4.571429 |\n",
       "|  5.857143 |  5.857143 |\n",
       "|  3.714286 |  3.714286 |\n",
       "|  7.714286 |  7.714286 |\n",
       "| 11.428571 | 11.428571 |\n",
       "|  6.428571 |  6.428571 |\n",
       "|  5.571429 |  5.571429 |\n",
       "|  3.142857 |  3.142857 |\n",
       "|  6.571429 |  6.571429 |\n",
       "|  7.571429 |  7.571429 |\n",
       "|  5.571429 |  5.571429 |\n",
       "|  5.714286 |  5.714286 |\n",
       "|  6.714286 |  6.714286 |\n",
       "|  4.000000 |  4.000000 |\n",
       "|  4.714286 |  4.714286 |\n",
       "|  6.142857 |  6.142857 |\n",
       "|  6.714286 |  6.714286 |\n",
       "|  3.285714 |  3.285714 |\n",
       "|  6.714286 |  6.714286 |\n",
       "|  5.857143 |  5.857143 |\n",
       "|  3.428571 |  3.428571 |\n",
       "|  5.428571 |  5.428571 |\n",
       "|  6.285714 |  6.285714 |\n",
       "|  4.000000 |  4.000000 |\n",
       "|  6.571429 |  6.571429 |\n",
       "|  5.428571 |  5.428571 |\n",
       "|  6.428571 |  6.428571 |\n",
       "|  7.142857 |  7.142857 |\n",
       "|  5.571429 |  5.571429 |\n",
       "|  6.000000 |  6.000000 |\n",
       "|  4.142857 |  4.142857 |\n",
       "|  5.857143 |  5.857143 |\n",
       "|  5.857143 |  5.857143 |\n",
       "|  5.571429 |  5.571429 |\n",
       "|  5.571429 |  5.571429 |\n",
       "|  7.571429 |  7.571429 |\n",
       "|  5.857143 |  5.857143 |\n",
       "|  5.571429 |  5.571429 |\n",
       "|  4.857143 |  4.857143 |\n",
       "\n"
      ],
      "text/plain": [
       "   x         y        \n",
       "1   3.428571  3.428571\n",
       "2   4.571429  4.571429\n",
       "3   5.857143  5.857143\n",
       "4   3.714286  3.714286\n",
       "5   7.714286  7.714286\n",
       "6  11.428571 11.428571\n",
       "7   6.428571  6.428571\n",
       "8   5.571429  5.571429\n",
       "9   3.142857  3.142857\n",
       "10  6.571429  6.571429\n",
       "11  7.571429  7.571429\n",
       "12  5.571429  5.571429\n",
       "13  5.714286  5.714286\n",
       "14  6.714286  6.714286\n",
       "15  4.000000  4.000000\n",
       "16  4.714286  4.714286\n",
       "17  6.142857  6.142857\n",
       "18  6.714286  6.714286\n",
       "19  3.285714  3.285714\n",
       "20  6.714286  6.714286\n",
       "21  5.857143  5.857143\n",
       "22  3.428571  3.428571\n",
       "23  5.428571  5.428571\n",
       "24  6.285714  6.285714\n",
       "25  4.000000  4.000000\n",
       "26  6.571429  6.571429\n",
       "27  5.428571  5.428571\n",
       "28  6.428571  6.428571\n",
       "29  7.142857  7.142857\n",
       "30  5.571429  5.571429\n",
       "31  6.000000  6.000000\n",
       "32  4.142857  4.142857\n",
       "33  5.857143  5.857143\n",
       "34  5.857143  5.857143\n",
       "35  5.571429  5.571429\n",
       "36  5.571429  5.571429\n",
       "37  7.571429  7.571429\n",
       "38  5.857143  5.857143\n",
       "39  5.571429  5.571429\n",
       "40  4.857143  4.857143"
      ]
     },
     "metadata": {},
     "output_type": "display_data"
    }
   ],
   "source": [
    "data"
   ]
  },
  {
   "cell_type": "code",
   "execution_count": 43,
   "metadata": {},
   "outputs": [
    {
     "ename": "ERROR",
     "evalue": "Error in parse(text = x, srcfile = src): <text>:4:5: unexpected symbol\n3: #### run the model removing one at the time \n4: 00:0f\n       ^\n",
     "output_type": "error",
     "traceback": [
      "Error in parse(text = x, srcfile = src): <text>:4:5: unexpected symbol\n3: #### run the model removing one at the time \n4: 00:0f\n       ^\nTraceback:\n"
     ]
    }
   ],
   "source": [
    "# ### convert the angle the  to continue value and use the angle as continue value\n",
    "\n",
    "# #### run the model removing one at the time \n",
    "# 00:0f:a3:39:dd:cd\n",
    "\n",
    "# 00:0f:a3:39:e1:c0\n"
   ]
  },
  {
   "cell_type": "code",
   "execution_count": 132,
   "metadata": {},
   "outputs": [],
   "source": [
    " #predicting model for subset of feature(mac address \n",
    "#     1. 00:0f:a3:39:dd:cd\n",
    "df_w_o_cd = df[names(df) != \"X00.0f.a3.39.dd.cd\"]"
   ]
  },
  {
   "cell_type": "code",
   "execution_count": 133,
   "metadata": {},
   "outputs": [
    {
     "data": {
      "text/html": [
       "<table>\n",
       "<thead><tr><th scope=col>X</th><th scope=col>posX</th><th scope=col>posY</th><th scope=col>angle</th><th scope=col>X00.14.bf.b1.97.8a</th><th scope=col>X00.14.bf.b1.97.90</th><th scope=col>X00.0f.a3.39.e1.c0</th><th scope=col>X00.14.bf.b1.97.8d</th><th scope=col>X00.14.bf.b1.97.81</th><th scope=col>X00.14.bf.3b.c7.c6</th></tr></thead>\n",
       "<tbody>\n",
       "\t<tr><td>1        </td><td>0        </td><td>0        </td><td>0        </td><td>-41.98489</td><td>-57.20774</td><td>-51.15455</td><td>-64.55649</td><td>-62.84349</td><td>-65.38813</td></tr>\n",
       "\t<tr><td>2        </td><td>0        </td><td>1        </td><td>0        </td><td>-44.97125</td><td>-58.22891</td><td>-50.57273</td><td>-61.07673</td><td>-67.18656</td><td>-65.19788</td></tr>\n",
       "\t<tr><td>3        </td><td>0        </td><td>2        </td><td>0        </td><td>-47.72008</td><td>-58.70679</td><td>-59.95455</td><td>-61.81601</td><td>-61.18764</td><td>-61.26058</td></tr>\n",
       "\t<tr><td>4        </td><td>0        </td><td>3        </td><td>0        </td><td>-51.10097</td><td>-56.79017</td><td>-55.53636</td><td>-58.28706</td><td>-56.71622</td><td>-62.36238</td></tr>\n",
       "\t<tr><td>5        </td><td>0        </td><td>4        </td><td>0        </td><td>-49.08489</td><td>-53.58976</td><td>-48.09091</td><td>-63.42386</td><td>-57.11135</td><td>-64.77592</td></tr>\n",
       "\t<tr><td>6        </td><td>0        </td><td>7        </td><td>0        </td><td>-46.97932</td><td>-62.51826</td><td>-57.30000</td><td>-55.15113</td><td>-64.02953</td><td>-64.57951</td></tr>\n",
       "</tbody>\n",
       "</table>\n"
      ],
      "text/latex": [
       "\\begin{tabular}{r|llllllllll}\n",
       " X & posX & posY & angle & X00.14.bf.b1.97.8a & X00.14.bf.b1.97.90 & X00.0f.a3.39.e1.c0 & X00.14.bf.b1.97.8d & X00.14.bf.b1.97.81 & X00.14.bf.3b.c7.c6\\\\\n",
       "\\hline\n",
       "\t 1         & 0         & 0         & 0         & -41.98489 & -57.20774 & -51.15455 & -64.55649 & -62.84349 & -65.38813\\\\\n",
       "\t 2         & 0         & 1         & 0         & -44.97125 & -58.22891 & -50.57273 & -61.07673 & -67.18656 & -65.19788\\\\\n",
       "\t 3         & 0         & 2         & 0         & -47.72008 & -58.70679 & -59.95455 & -61.81601 & -61.18764 & -61.26058\\\\\n",
       "\t 4         & 0         & 3         & 0         & -51.10097 & -56.79017 & -55.53636 & -58.28706 & -56.71622 & -62.36238\\\\\n",
       "\t 5         & 0         & 4         & 0         & -49.08489 & -53.58976 & -48.09091 & -63.42386 & -57.11135 & -64.77592\\\\\n",
       "\t 6         & 0         & 7         & 0         & -46.97932 & -62.51826 & -57.30000 & -55.15113 & -64.02953 & -64.57951\\\\\n",
       "\\end{tabular}\n"
      ],
      "text/markdown": [
       "\n",
       "| X | posX | posY | angle | X00.14.bf.b1.97.8a | X00.14.bf.b1.97.90 | X00.0f.a3.39.e1.c0 | X00.14.bf.b1.97.8d | X00.14.bf.b1.97.81 | X00.14.bf.3b.c7.c6 |\n",
       "|---|---|---|---|---|---|---|---|---|---|\n",
       "| 1         | 0         | 0         | 0         | -41.98489 | -57.20774 | -51.15455 | -64.55649 | -62.84349 | -65.38813 |\n",
       "| 2         | 0         | 1         | 0         | -44.97125 | -58.22891 | -50.57273 | -61.07673 | -67.18656 | -65.19788 |\n",
       "| 3         | 0         | 2         | 0         | -47.72008 | -58.70679 | -59.95455 | -61.81601 | -61.18764 | -61.26058 |\n",
       "| 4         | 0         | 3         | 0         | -51.10097 | -56.79017 | -55.53636 | -58.28706 | -56.71622 | -62.36238 |\n",
       "| 5         | 0         | 4         | 0         | -49.08489 | -53.58976 | -48.09091 | -63.42386 | -57.11135 | -64.77592 |\n",
       "| 6         | 0         | 7         | 0         | -46.97932 | -62.51826 | -57.30000 | -55.15113 | -64.02953 | -64.57951 |\n",
       "\n"
      ],
      "text/plain": [
       "  X posX posY angle X00.14.bf.b1.97.8a X00.14.bf.b1.97.90 X00.0f.a3.39.e1.c0\n",
       "1 1 0    0    0     -41.98489          -57.20774          -51.15455         \n",
       "2 2 0    1    0     -44.97125          -58.22891          -50.57273         \n",
       "3 3 0    2    0     -47.72008          -58.70679          -59.95455         \n",
       "4 4 0    3    0     -51.10097          -56.79017          -55.53636         \n",
       "5 5 0    4    0     -49.08489          -53.58976          -48.09091         \n",
       "6 6 0    7    0     -46.97932          -62.51826          -57.30000         \n",
       "  X00.14.bf.b1.97.8d X00.14.bf.b1.97.81 X00.14.bf.3b.c7.c6\n",
       "1 -64.55649          -62.84349          -65.38813         \n",
       "2 -61.07673          -67.18656          -65.19788         \n",
       "3 -61.81601          -61.18764          -61.26058         \n",
       "4 -58.28706          -56.71622          -62.36238         \n",
       "5 -63.42386          -57.11135          -64.77592         \n",
       "6 -55.15113          -64.02953          -64.57951         "
      ]
     },
     "metadata": {},
     "output_type": "display_data"
    }
   ],
   "source": [
    "head(df_w_o_cd)"
   ]
  },
  {
   "cell_type": "code",
   "execution_count": 134,
   "metadata": {},
   "outputs": [
    {
     "data": {
      "text/html": [
       "<ol class=list-inline>\n",
       "\t<li>'X'</li>\n",
       "\t<li>'posX'</li>\n",
       "\t<li>'posY'</li>\n",
       "\t<li>'angle'</li>\n",
       "\t<li>'X00.14.bf.b1.97.8a'</li>\n",
       "\t<li>'X00.14.bf.b1.97.90'</li>\n",
       "\t<li>'X00.0f.a3.39.e1.c0'</li>\n",
       "\t<li>'X00.14.bf.b1.97.8d'</li>\n",
       "\t<li>'X00.14.bf.b1.97.81'</li>\n",
       "\t<li>'X00.14.bf.3b.c7.c6'</li>\n",
       "</ol>\n"
      ],
      "text/latex": [
       "\\begin{enumerate*}\n",
       "\\item 'X'\n",
       "\\item 'posX'\n",
       "\\item 'posY'\n",
       "\\item 'angle'\n",
       "\\item 'X00.14.bf.b1.97.8a'\n",
       "\\item 'X00.14.bf.b1.97.90'\n",
       "\\item 'X00.0f.a3.39.e1.c0'\n",
       "\\item 'X00.14.bf.b1.97.8d'\n",
       "\\item 'X00.14.bf.b1.97.81'\n",
       "\\item 'X00.14.bf.3b.c7.c6'\n",
       "\\end{enumerate*}\n"
      ],
      "text/markdown": [
       "1. 'X'\n",
       "2. 'posX'\n",
       "3. 'posY'\n",
       "4. 'angle'\n",
       "5. 'X00.14.bf.b1.97.8a'\n",
       "6. 'X00.14.bf.b1.97.90'\n",
       "7. 'X00.0f.a3.39.e1.c0'\n",
       "8. 'X00.14.bf.b1.97.8d'\n",
       "9. 'X00.14.bf.b1.97.81'\n",
       "10. 'X00.14.bf.3b.c7.c6'\n",
       "\n",
       "\n"
      ],
      "text/plain": [
       " [1] \"X\"                  \"posX\"               \"posY\"              \n",
       " [4] \"angle\"              \"X00.14.bf.b1.97.8a\" \"X00.14.bf.b1.97.90\"\n",
       " [7] \"X00.0f.a3.39.e1.c0\" \"X00.14.bf.b1.97.8d\" \"X00.14.bf.b1.97.81\"\n",
       "[10] \"X00.14.bf.3b.c7.c6\""
      ]
     },
     "metadata": {},
     "output_type": "display_data"
    }
   ],
   "source": [
    "names(df_w_o_cd)"
   ]
  },
  {
   "cell_type": "code",
   "execution_count": 145,
   "metadata": {},
   "outputs": [],
   "source": [
    "# 1. split the data\n",
    "set.seed(300) \n",
    "#Spliting data as training and test set. Using createDataPartition() function from caret\n",
    "indxTrain <- createDataPartition(y = df_w_o_cd$posY,p = 0.75,list = FALSE)\n",
    "training <- df_w_o_cd[indxTrain,]\n",
    "testing <- df_w_o_cd[-indxTrain,]\n",
    "testing_X <- testing[,(names(testing)!= \"angle\" & names(testing)!= \"posY\")]\n",
    "testing_Y <- testing[,(names(testing)!= \"angle\" & names(testing)!= \"posX\")]"
   ]
  },
  {
   "cell_type": "code",
   "execution_count": 146,
   "metadata": {},
   "outputs": [
    {
     "data": {
      "text/plain": [
       "k-Nearest Neighbors \n",
       "\n",
       "996 samples\n",
       "  7 predictor\n",
       "\n",
       "Pre-processing: centered (7), scaled (7) \n",
       "Resampling: Cross-Validated (10 fold, repeated 3 times) \n",
       "Summary of sample sizes: 895, 897, 896, 897, 897, 897, ... \n",
       "Resampling results across tuning parameters:\n",
       "\n",
       "  k   RMSE      Rsquared   MAE     \n",
       "   5  2.154016  0.9590908  1.581310\n",
       "   7  2.166108  0.9587253  1.607810\n",
       "   9  2.192524  0.9579164  1.647979\n",
       "  11  2.207945  0.9575720  1.665119\n",
       "  13  2.229415  0.9568701  1.685606\n",
       "  15  2.245221  0.9563796  1.698468\n",
       "  17  2.266398  0.9556355  1.712725\n",
       "  19  2.291792  0.9548274  1.736839\n",
       "  21  2.319101  0.9538866  1.756467\n",
       "  23  2.343827  0.9529980  1.774595\n",
       "  25  2.360227  0.9524237  1.785805\n",
       "  27  2.381223  0.9516293  1.804601\n",
       "  29  2.395026  0.9511566  1.820093\n",
       "  31  2.413417  0.9504920  1.833990\n",
       "  33  2.423322  0.9501623  1.844897\n",
       "  35  2.445682  0.9493356  1.861368\n",
       "  37  2.461184  0.9487539  1.874081\n",
       "  39  2.472373  0.9483761  1.886309\n",
       "  41  2.483641  0.9479407  1.895133\n",
       "  43  2.496761  0.9474546  1.907028\n",
       "\n",
       "RMSE was used to select the optimal model using the smallest value.\n",
       "The final value used for the model was k = 5."
      ]
     },
     "metadata": {},
     "output_type": "display_data"
    }
   ],
   "source": [
    "# 2. fit the model for x \n",
    "set.seed(400)\n",
    "ctrl <- trainControl(method=\"repeatedcv\",repeats = 3) # default 10 fold cross validation during training and do 3 time the 10 fold CV\n",
    "knnFit_x <- train(posX ~ ., data = training[,(names(training)!= \"posY\" & names(training)!= \"angle\")], method = \"knn\", trControl = ctrl, preProcess = c(\"center\",\"scale\"), tuneLength = 20)##tuneLengh to atomatically try 20  k value\n",
    "\n",
    "#Output of kNN fit\n",
    "knnFit_x"
   ]
  },
  {
   "cell_type": "code",
   "execution_count": 149,
   "metadata": {},
   "outputs": [
    {
     "data": {
      "text/html": [
       "2.34168685409126"
      ],
      "text/latex": [
       "2.34168685409126"
      ],
      "text/markdown": [
       "2.34168685409126"
      ],
      "text/plain": [
       "[1] 2.341687"
      ]
     },
     "metadata": {},
     "output_type": "display_data"
    },
    {
     "data": {
      "image/png": "[encoded data removed]",
      "text/plain": [
       "Plot with title \"real value Vs predicted value\""
      ]
     },
     "metadata": {},
     "output_type": "display_data"
    }
   ],
   "source": [
    "knnPredict_X <- predict(knnFit_x,newdata = testing_X)\n",
    "\n",
    "RMSE(knnPredict_X, testing$posX)\n",
    "\n",
    "## show how error graoh real value Vs predicted value\n",
    "plot(knnPredict_X, testing$posX,main = \"real value Vs predicted value\")\t"
   ]
  },
  {
   "cell_type": "code",
   "execution_count": 143,
   "metadata": {},
   "outputs": [
    {
     "data": {
      "text/plain": [
       "k-Nearest Neighbors \n",
       "\n",
       "996 samples\n",
       "  7 predictor\n",
       "\n",
       "Pre-processing: centered (7), scaled (7) \n",
       "Resampling: Cross-Validated (10 fold, repeated 3 times) \n",
       "Summary of sample sizes: 896, 896, 896, 898, 896, 896, ... \n",
       "Resampling results across tuning parameters:\n",
       "\n",
       "  k   RMSE      Rsquared   MAE     \n",
       "   5  1.465867  0.6997646  1.041917\n",
       "   7  1.460546  0.7041473  1.048955\n",
       "   9  1.454819  0.7096665  1.063778\n",
       "  11  1.453368  0.7133727  1.075437\n",
       "  13  1.471721  0.7079629  1.102004\n",
       "  15  1.490631  0.7035232  1.124631\n",
       "  17  1.504361  0.7006688  1.140620\n",
       "  19  1.512544  0.7005143  1.153263\n",
       "  21  1.518718  0.7011152  1.166529\n",
       "  23  1.529421  0.7010904  1.184617\n",
       "  25  1.544855  0.6985745  1.201827\n",
       "  27  1.557614  0.6962253  1.215117\n",
       "  29  1.570907  0.6929674  1.228495\n",
       "  31  1.581030  0.6914481  1.238885\n",
       "  33  1.590237  0.6907253  1.249587\n",
       "  35  1.599955  0.6909196  1.261911\n",
       "  37  1.613028  0.6884659  1.275488\n",
       "  39  1.626566  0.6854727  1.288706\n",
       "  41  1.638563  0.6837238  1.301206\n",
       "  43  1.650540  0.6823964  1.314592\n",
       "\n",
       "RMSE was used to select the optimal model using the smallest value.\n",
       "The final value used for the model was k = 11."
      ]
     },
     "metadata": {},
     "output_type": "display_data"
    }
   ],
   "source": [
    "set.seed(400)\n",
    "ctrl <- trainControl(method=\"repeatedcv\",repeats = 3) # default 10 fold cross validation during training and do 3 time the 10 fold CV\n",
    "knnFit_y <- train(posY ~ ., data = training[,(names(training)!= \"posX\" & names(training)!= \"angle\")], method = \"knn\", trControl = ctrl, preProcess = c(\"center\",\"scale\"), tuneLength = 20)##tuneLengh to atomatically try 20  k value\n",
    "\n",
    "#Output of kNN fit\n",
    "knnFit_y"
   ]
  },
  {
   "cell_type": "code",
   "execution_count": 144,
   "metadata": {},
   "outputs": [
    {
     "data": {
      "image/png": "[encoded data removed]",
      "text/plain": [
       "plot without title"
      ]
     },
     "metadata": {},
     "output_type": "display_data"
    }
   ],
   "source": [
    "plot(knnFit_y)"
   ]
  },
  {
   "cell_type": "code",
   "execution_count": 148,
   "metadata": {},
   "outputs": [
    {
     "data": {
      "text/html": [
       "1.35822218349984"
      ],
      "text/latex": [
       "1.35822218349984"
      ],
      "text/markdown": [
       "1.35822218349984"
      ],
      "text/plain": [
       "[1] 1.358222"
      ]
     },
     "metadata": {},
     "output_type": "display_data"
    },
    {
     "data": {
      "image/png": "[encoded data removed]",
      "text/plain": [
       "Plot with title \"real value Vs predicted value\""
      ]
     },
     "metadata": {},
     "output_type": "display_data"
    }
   ],
   "source": [
    "knnPredict_Y <- predict(knnFit_y,newdata = testing_Y)\n",
    "\n",
    "RMSE(knnPredict_Y, testing$posY)\n",
    "\n",
    "## show how error graoh real value Vs predicted value\n",
    "plot(knnPredict_Y, testing$posY,main = \"real value Vs predicted value\")\t"
   ]
  },
  {
   "cell_type": "code",
   "execution_count": 152,
   "metadata": {},
   "outputs": [
    {
     "data": {
      "text/html": [
       "<table>\n",
       "<thead><tr><th scope=col>X</th><th scope=col>posX</th><th scope=col>posY</th><th scope=col>angle</th><th scope=col>X00.14.bf.b1.97.8a</th><th scope=col>X00.14.bf.b1.97.90</th><th scope=col>X00.14.bf.b1.97.8d</th><th scope=col>X00.14.bf.b1.97.81</th><th scope=col>X00.14.bf.3b.c7.c6</th><th scope=col>X00.0f.a3.39.dd.cd</th></tr></thead>\n",
       "<tbody>\n",
       "\t<tr><td>1        </td><td>0        </td><td>0        </td><td>0        </td><td>-41.98489</td><td>-57.20774</td><td>-64.55649</td><td>-62.84349</td><td>-65.38813</td><td>-68.13182</td></tr>\n",
       "\t<tr><td>2        </td><td>0        </td><td>1        </td><td>0        </td><td>-44.97125</td><td>-58.22891</td><td>-61.07673</td><td>-67.18656</td><td>-65.19788</td><td>-70.33636</td></tr>\n",
       "\t<tr><td>3        </td><td>0        </td><td>2        </td><td>0        </td><td>-47.72008</td><td>-58.70679</td><td>-61.81601</td><td>-61.18764</td><td>-61.26058</td><td>-68.49831</td></tr>\n",
       "\t<tr><td>4        </td><td>0        </td><td>3        </td><td>0        </td><td>-51.10097</td><td>-56.79017</td><td>-58.28706</td><td>-56.71622</td><td>-62.36238</td><td>-69.08939</td></tr>\n",
       "\t<tr><td>5        </td><td>0        </td><td>4        </td><td>0        </td><td>-49.08489</td><td>-53.58976</td><td>-63.42386</td><td>-57.11135</td><td>-64.77592</td><td>-68.96818</td></tr>\n",
       "\t<tr><td>6        </td><td>0        </td><td>7        </td><td>0        </td><td>-46.97932</td><td>-62.51826</td><td>-55.15113</td><td>-64.02953</td><td>-64.57951</td><td>-71.43636</td></tr>\n",
       "</tbody>\n",
       "</table>\n"
      ],
      "text/latex": [
       "\\begin{tabular}{r|llllllllll}\n",
       " X & posX & posY & angle & X00.14.bf.b1.97.8a & X00.14.bf.b1.97.90 & X00.14.bf.b1.97.8d & X00.14.bf.b1.97.81 & X00.14.bf.3b.c7.c6 & X00.0f.a3.39.dd.cd\\\\\n",
       "\\hline\n",
       "\t 1         & 0         & 0         & 0         & -41.98489 & -57.20774 & -64.55649 & -62.84349 & -65.38813 & -68.13182\\\\\n",
       "\t 2         & 0         & 1         & 0         & -44.97125 & -58.22891 & -61.07673 & -67.18656 & -65.19788 & -70.33636\\\\\n",
       "\t 3         & 0         & 2         & 0         & -47.72008 & -58.70679 & -61.81601 & -61.18764 & -61.26058 & -68.49831\\\\\n",
       "\t 4         & 0         & 3         & 0         & -51.10097 & -56.79017 & -58.28706 & -56.71622 & -62.36238 & -69.08939\\\\\n",
       "\t 5         & 0         & 4         & 0         & -49.08489 & -53.58976 & -63.42386 & -57.11135 & -64.77592 & -68.96818\\\\\n",
       "\t 6         & 0         & 7         & 0         & -46.97932 & -62.51826 & -55.15113 & -64.02953 & -64.57951 & -71.43636\\\\\n",
       "\\end{tabular}\n"
      ],
      "text/markdown": [
       "\n",
       "| X | posX | posY | angle | X00.14.bf.b1.97.8a | X00.14.bf.b1.97.90 | X00.14.bf.b1.97.8d | X00.14.bf.b1.97.81 | X00.14.bf.3b.c7.c6 | X00.0f.a3.39.dd.cd |\n",
       "|---|---|---|---|---|---|---|---|---|---|\n",
       "| 1         | 0         | 0         | 0         | -41.98489 | -57.20774 | -64.55649 | -62.84349 | -65.38813 | -68.13182 |\n",
       "| 2         | 0         | 1         | 0         | -44.97125 | -58.22891 | -61.07673 | -67.18656 | -65.19788 | -70.33636 |\n",
       "| 3         | 0         | 2         | 0         | -47.72008 | -58.70679 | -61.81601 | -61.18764 | -61.26058 | -68.49831 |\n",
       "| 4         | 0         | 3         | 0         | -51.10097 | -56.79017 | -58.28706 | -56.71622 | -62.36238 | -69.08939 |\n",
       "| 5         | 0         | 4         | 0         | -49.08489 | -53.58976 | -63.42386 | -57.11135 | -64.77592 | -68.96818 |\n",
       "| 6         | 0         | 7         | 0         | -46.97932 | -62.51826 | -55.15113 | -64.02953 | -64.57951 | -71.43636 |\n",
       "\n"
      ],
      "text/plain": [
       "  X posX posY angle X00.14.bf.b1.97.8a X00.14.bf.b1.97.90 X00.14.bf.b1.97.8d\n",
       "1 1 0    0    0     -41.98489          -57.20774          -64.55649         \n",
       "2 2 0    1    0     -44.97125          -58.22891          -61.07673         \n",
       "3 3 0    2    0     -47.72008          -58.70679          -61.81601         \n",
       "4 4 0    3    0     -51.10097          -56.79017          -58.28706         \n",
       "5 5 0    4    0     -49.08489          -53.58976          -63.42386         \n",
       "6 6 0    7    0     -46.97932          -62.51826          -55.15113         \n",
       "  X00.14.bf.b1.97.81 X00.14.bf.3b.c7.c6 X00.0f.a3.39.dd.cd\n",
       "1 -62.84349          -65.38813          -68.13182         \n",
       "2 -67.18656          -65.19788          -70.33636         \n",
       "3 -61.18764          -61.26058          -68.49831         \n",
       "4 -56.71622          -62.36238          -69.08939         \n",
       "5 -57.11135          -64.77592          -68.96818         \n",
       "6 -64.02953          -64.57951          -71.43636         "
      ]
     },
     "metadata": {},
     "output_type": "display_data"
    },
    {
     "data": {
      "text/html": [
       "<ol class=list-inline>\n",
       "\t<li>'X'</li>\n",
       "\t<li>'posX'</li>\n",
       "\t<li>'posY'</li>\n",
       "\t<li>'angle'</li>\n",
       "\t<li>'X00.14.bf.b1.97.8a'</li>\n",
       "\t<li>'X00.14.bf.b1.97.90'</li>\n",
       "\t<li>'X00.14.bf.b1.97.8d'</li>\n",
       "\t<li>'X00.14.bf.b1.97.81'</li>\n",
       "\t<li>'X00.14.bf.3b.c7.c6'</li>\n",
       "\t<li>'X00.0f.a3.39.dd.cd'</li>\n",
       "</ol>\n"
      ],
      "text/latex": [
       "\\begin{enumerate*}\n",
       "\\item 'X'\n",
       "\\item 'posX'\n",
       "\\item 'posY'\n",
       "\\item 'angle'\n",
       "\\item 'X00.14.bf.b1.97.8a'\n",
       "\\item 'X00.14.bf.b1.97.90'\n",
       "\\item 'X00.14.bf.b1.97.8d'\n",
       "\\item 'X00.14.bf.b1.97.81'\n",
       "\\item 'X00.14.bf.3b.c7.c6'\n",
       "\\item 'X00.0f.a3.39.dd.cd'\n",
       "\\end{enumerate*}\n"
      ],
      "text/markdown": [
       "1. 'X'\n",
       "2. 'posX'\n",
       "3. 'posY'\n",
       "4. 'angle'\n",
       "5. 'X00.14.bf.b1.97.8a'\n",
       "6. 'X00.14.bf.b1.97.90'\n",
       "7. 'X00.14.bf.b1.97.8d'\n",
       "8. 'X00.14.bf.b1.97.81'\n",
       "9. 'X00.14.bf.3b.c7.c6'\n",
       "10. 'X00.0f.a3.39.dd.cd'\n",
       "\n",
       "\n"
      ],
      "text/plain": [
       " [1] \"X\"                  \"posX\"               \"posY\"              \n",
       " [4] \"angle\"              \"X00.14.bf.b1.97.8a\" \"X00.14.bf.b1.97.90\"\n",
       " [7] \"X00.14.bf.b1.97.8d\" \"X00.14.bf.b1.97.81\" \"X00.14.bf.3b.c7.c6\"\n",
       "[10] \"X00.0f.a3.39.dd.cd\""
      ]
     },
     "metadata": {},
     "output_type": "display_data"
    },
    {
     "data": {
      "text/plain": [
       "k-Nearest Neighbors \n",
       "\n",
       "996 samples\n",
       "  7 predictor\n",
       "\n",
       "Pre-processing: centered (7), scaled (7) \n",
       "Resampling: Cross-Validated (10 fold, repeated 3 times) \n",
       "Summary of sample sizes: 895, 897, 896, 897, 897, 897, ... \n",
       "Resampling results across tuning parameters:\n",
       "\n",
       "  k   RMSE      Rsquared   MAE     \n",
       "   5  2.184810  0.9578674  1.592427\n",
       "   7  2.185253  0.9579649  1.595923\n",
       "   9  2.201711  0.9574628  1.615509\n",
       "  11  2.197041  0.9577668  1.622691\n",
       "  13  2.206459  0.9575318  1.642246\n",
       "  15  2.220265  0.9571256  1.654271\n",
       "  17  2.228968  0.9568629  1.667544\n",
       "  19  2.236225  0.9566983  1.675953\n",
       "  21  2.246346  0.9563762  1.690559\n",
       "  23  2.254103  0.9561370  1.701033\n",
       "  25  2.265162  0.9557738  1.712161\n",
       "  27  2.278151  0.9553480  1.720688\n",
       "  29  2.282317  0.9552307  1.724178\n",
       "  31  2.286034  0.9551503  1.730730\n",
       "  33  2.293334  0.9549179  1.738735\n",
       "  35  2.303035  0.9545536  1.748285\n",
       "  37  2.315804  0.9541054  1.759935\n",
       "  39  2.329034  0.9536260  1.771929\n",
       "  41  2.335620  0.9533719  1.781650\n",
       "  43  2.343475  0.9531089  1.790891\n",
       "\n",
       "RMSE was used to select the optimal model using the smallest value.\n",
       "The final value used for the model was k = 5."
      ]
     },
     "metadata": {},
     "output_type": "display_data"
    },
    {
     "data": {
      "text/html": [
       "2.34194338001172"
      ],
      "text/latex": [
       "2.34194338001172"
      ],
      "text/markdown": [
       "2.34194338001172"
      ],
      "text/plain": [
       "[1] 2.341943"
      ]
     },
     "metadata": {},
     "output_type": "display_data"
    },
    {
     "data": {
      "image/png": "[encoded data removed]",
      "text/plain": [
       "Plot with title \"real value Vs predicted value\""
      ]
     },
     "metadata": {},
     "output_type": "display_data"
    }
   ],
   "source": [
    " #predicting model for subset of feature(mac address \n",
    "#     1. 00:0f:a3:39:dd:cd\n",
    "df_w_o_c0 = df[names(df) != \"X00.0f.a3.39.e1.c0\"] #00:0f:a3:39:e1:c0 X00.0f.a3.39.e1.c0\n",
    "\n",
    "head(df_w_o_c0)\n",
    "names(df_w_o_c0)\n",
    "\n",
    "# 1. split the data\n",
    "set.seed(300) \n",
    "#Spliting data as training and test set. Using createDataPartition() function from caret\n",
    "indxTrain <- createDataPartition(y = df_w_o_c0$posY,p = 0.75,list = FALSE)\n",
    "training <- df_w_o_c0[indxTrain,]\n",
    "testing <- df_w_o_c0[-indxTrain,]\n",
    "testing_X <- testing[,(names(testing)!= \"angle\" & names(testing)!= \"posY\")]\n",
    "testing_Y <- testing[,(names(testing)!= \"angle\" & names(testing)!= \"posX\")]\n",
    "\n",
    "# 2. fit the model for x \n",
    "set.seed(400)\n",
    "ctrl <- trainControl(method=\"repeatedcv\",repeats = 3) # default 10 fold cross validation during training and do 3 time the 10 fold CV\n",
    "knnFit_x <- train(posX ~ ., data = training[,(names(training)!= \"posY\" & names(training)!= \"angle\")], method = \"knn\", trControl = ctrl, preProcess = c(\"center\",\"scale\"), tuneLength = 20)##tuneLengh to atomatically try 20  k value\n",
    "\n",
    "#Output of kNN fit\n",
    "knnFit_x\n",
    "knnPredict_X <- predict(knnFit_x,newdata = testing_X)\n",
    "\n",
    "RMSE(knnPredict_X, testing$posX)\n",
    "\n",
    "## show how error graoh real value Vs predicted value\n",
    "plot(knnPredict_X, testing$posX,main = \"real value Vs predicted value\")"
   ]
  },
  {
   "cell_type": "code",
   "execution_count": 154,
   "metadata": {},
   "outputs": [
    {
     "data": {
      "text/plain": [
       "k-Nearest Neighbors \n",
       "\n",
       "996 samples\n",
       "  7 predictor\n",
       "\n",
       "Pre-processing: centered (7), scaled (7) \n",
       "Resampling: Cross-Validated (10 fold, repeated 3 times) \n",
       "Summary of sample sizes: 896, 896, 896, 898, 896, 896, ... \n",
       "Resampling results across tuning parameters:\n",
       "\n",
       "  k   RMSE      Rsquared   MAE     \n",
       "   5  1.429497  0.7147994  1.013396\n",
       "   7  1.444263  0.7115030  1.050422\n",
       "   9  1.454842  0.7099472  1.077103\n",
       "  11  1.466534  0.7071811  1.094179\n",
       "  13  1.476702  0.7052036  1.105066\n",
       "  15  1.481890  0.7067920  1.111089\n",
       "  17  1.488617  0.7074014  1.128337\n",
       "  19  1.507601  0.7024170  1.148795\n",
       "  21  1.519747  0.7004746  1.165990\n",
       "  23  1.526800  0.7012187  1.179056\n",
       "  25  1.531541  0.7032525  1.189878\n",
       "  27  1.541854  0.7023620  1.202539\n",
       "  29  1.556089  0.6994974  1.215002\n",
       "  31  1.565659  0.6990161  1.225602\n",
       "  33  1.579196  0.6959829  1.237071\n",
       "  35  1.592171  0.6936648  1.251355\n",
       "  37  1.606078  0.6910280  1.265723\n",
       "  39  1.614698  0.6913994  1.275893\n",
       "  41  1.626710  0.6892197  1.288576\n",
       "  43  1.637539  0.6884846  1.300636\n",
       "\n",
       "RMSE was used to select the optimal model using the smallest value.\n",
       "The final value used for the model was k = 5."
      ]
     },
     "metadata": {},
     "output_type": "display_data"
    },
    {
     "data": {
      "text/html": [
       "1.30305479824485"
      ],
      "text/latex": [
       "1.30305479824485"
      ],
      "text/markdown": [
       "1.30305479824485"
      ],
      "text/plain": [
       "[1] 1.303055"
      ]
     },
     "metadata": {},
     "output_type": "display_data"
    },
    {
     "data": {
      "image/png": "[encoded data removed]",
      "text/plain": [
       "Plot with title \"real value Vs predicted value\""
      ]
     },
     "metadata": {},
     "output_type": "display_data"
    }
   ],
   "source": [
    "# 2. fit the model for y\n",
    "set.seed(400)\n",
    "ctrl <- trainControl(method=\"repeatedcv\",repeats = 3) # default 10 fold cross validation during training and do 3 time the 10 fold CV\n",
    "knnFit_y <- train(posY ~ ., data = training[,(names(training)!= \"posX\" & names(training)!= \"angle\")], method = \"knn\", trControl = ctrl, preProcess = c(\"center\",\"scale\"), tuneLength = 20)##tuneLengh to atomatically try 20  k value\n",
    "\n",
    "#Output of kNN fit\n",
    "knnFit_y\n",
    "knnPredict_Y <- predict(knnFit_y,newdata = testing_Y)\n",
    "\n",
    "RMSE(knnPredict_Y, testing$posY)\n",
    "\n",
    "## show how error graoh real value Vs predicted value\n",
    "plot(knnPredict_Y, testing$posY,main = \"real value Vs predicted value\")"
   ]
  },
  {
   "cell_type": "code",
   "execution_count": null,
   "metadata": {},
   "outputs": [],
   "source": []
  }
 ],
 "metadata": {
  "kernelspec": {
   "display_name": "R",
   "language": "R",
   "name": "ir"
  },
  "language_info": {
   "codemirror_mode": "r",
   "file_extension": ".r",
   "mimetype": "text/x-r-source",
   "name": "R",
   "pygments_lexer": "r",
   "version": "3.6.1"
  }
 },
 "nbformat": 4,
 "nbformat_minor": 4
}
