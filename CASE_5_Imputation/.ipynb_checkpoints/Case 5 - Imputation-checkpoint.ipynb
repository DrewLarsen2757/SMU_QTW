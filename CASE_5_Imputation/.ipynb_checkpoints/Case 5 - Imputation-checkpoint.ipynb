{
 "cells": [
  {
   "cell_type": "code",
   "execution_count": 2,
   "metadata": {},
   "outputs": [],
   "source": [
    "import pandas as pd\n",
    "import numpy as np\n",
    "from sklearn.linear_model import LinearRegression\n",
    "from sklearn.metrics import mean_squared_error, r2_score, mean_absolute_error\n",
    "import matplotlib.pyplot as plt\n",
    "from sklearn import datasets\n",
    "import random"
   ]
  },
  {
   "cell_type": "markdown",
   "metadata": {},
   "source": [
    "# Case 5: Imputation"
   ]
  },
  {
   "cell_type": "markdown",
   "metadata": {},
   "source": [
    "Andrew Larsen  \n",
    "Matthew Chinchilla  \n",
    "Rikel Djoko  "
   ]
  },
  {
   "cell_type": "markdown",
   "metadata": {},
   "source": [
    "## Baseline Model Development"
   ]
  },
  {
   "cell_type": "code",
   "execution_count": 3,
   "metadata": {},
   "outputs": [],
   "source": [
    "# Baseline Lin Reg Model Here"
   ]
  },
  {
   "cell_type": "markdown",
   "metadata": {},
   "source": [
    "## Missing Completely at Random"
   ]
  },
  {
   "cell_type": "markdown",
   "metadata": {},
   "source": [
    "### mcar .01"
   ]
  },
  {
   "cell_type": "code",
   "execution_count": 9,
   "metadata": {},
   "outputs": [
    {
     "name": "stdout",
     "output_type": "stream",
     "text": [
      "MedInc        0.000000\n",
      "HouseAge      0.000000\n",
      "AveRooms      0.009981\n",
      "AveBedrms     0.000000\n",
      "Population    0.000000\n",
      "AveOccup      0.000000\n",
      "Latitude      0.000000\n",
      "Longitude     0.000000\n",
      "dtype: float64\n"
     ]
    }
   ],
   "source": [
    "california = datasets.fetch_california_housing()\n",
    "cal = pd.DataFrame(california.data)\n",
    "cal.columns = california.feature_names\n",
    "cal['MedInc'] = california.target\n",
    "cal.head()\n",
    "mcardf = cal\n",
    "nidx = round(.01 * len(cal))\n",
    "dropidxs = np.random.choice(len(cal), nidx, replace=False)\n",
    "mcardf.loc[dropidxs, 'AveRooms'] = np.nan\n",
    "print(mcardf.isna().sum() / len(cal))"
   ]
  },
  {
   "cell_type": "code",
   "execution_count": 10,
   "metadata": {},
   "outputs": [
    {
     "name": "stdout",
     "output_type": "stream",
     "text": [
      "MedInc        0.0\n",
      "HouseAge      0.0\n",
      "AveRooms      0.0\n",
      "AveBedrms     0.0\n",
      "Population    0.0\n",
      "AveOccup      0.0\n",
      "Latitude      0.0\n",
      "Longitude     0.0\n",
      "dtype: float64\n"
     ]
    }
   ],
   "source": [
    "mcardf['AveRooms'] = mcardf['AveRooms'].fillna(mcardf['AveRooms'].mean())\n",
    "print(mcardf.isna().sum() / len(cal))"
   ]
  },
  {
   "cell_type": "code",
   "execution_count": null,
   "metadata": {},
   "outputs": [],
   "source": [
    "# Create Lin Reg Model Here"
   ]
  },
  {
   "cell_type": "markdown",
   "metadata": {},
   "source": [
    "### mcar .05"
   ]
  },
  {
   "cell_type": "code",
   "execution_count": 11,
   "metadata": {},
   "outputs": [
    {
     "name": "stdout",
     "output_type": "stream",
     "text": [
      "MedInc        0.00\n",
      "HouseAge      0.00\n",
      "AveRooms      0.05\n",
      "AveBedrms     0.00\n",
      "Population    0.00\n",
      "AveOccup      0.00\n",
      "Latitude      0.00\n",
      "Longitude     0.00\n",
      "dtype: float64\n"
     ]
    }
   ],
   "source": [
    "california = datasets.fetch_california_housing()\n",
    "cal = pd.DataFrame(california.data)\n",
    "cal.columns = california.feature_names\n",
    "cal['MedInc'] = california.target\n",
    "cal.head()\n",
    "mcardf = cal\n",
    "nidx = round(.05 * len(cal))\n",
    "dropidxs = np.random.choice(len(cal), nidx, replace=False)\n",
    "mcardf.loc[dropidxs, 'AveRooms'] = np.nan\n",
    "print(mcardf.isna().sum() / len(cal))"
   ]
  },
  {
   "cell_type": "code",
   "execution_count": 12,
   "metadata": {},
   "outputs": [
    {
     "name": "stdout",
     "output_type": "stream",
     "text": [
      "MedInc        0.0\n",
      "HouseAge      0.0\n",
      "AveRooms      0.0\n",
      "AveBedrms     0.0\n",
      "Population    0.0\n",
      "AveOccup      0.0\n",
      "Latitude      0.0\n",
      "Longitude     0.0\n",
      "dtype: float64\n"
     ]
    }
   ],
   "source": [
    "mcardf['AveRooms'] = mcardf['AveRooms'].fillna(mcardf['AveRooms'].mean())\n",
    "print(mcardf.isna().sum() / len(cal))"
   ]
  },
  {
   "cell_type": "code",
   "execution_count": null,
   "metadata": {},
   "outputs": [],
   "source": [
    "# Create Lin Reg Model Here"
   ]
  },
  {
   "cell_type": "markdown",
   "metadata": {},
   "source": [
    "### mcar .1"
   ]
  },
  {
   "cell_type": "code",
   "execution_count": 13,
   "metadata": {},
   "outputs": [
    {
     "name": "stdout",
     "output_type": "stream",
     "text": [
      "MedInc        0.0\n",
      "HouseAge      0.0\n",
      "AveRooms      0.1\n",
      "AveBedrms     0.0\n",
      "Population    0.0\n",
      "AveOccup      0.0\n",
      "Latitude      0.0\n",
      "Longitude     0.0\n",
      "dtype: float64\n"
     ]
    }
   ],
   "source": [
    "california = datasets.fetch_california_housing()\n",
    "cal = pd.DataFrame(california.data)\n",
    "cal.columns = california.feature_names\n",
    "cal['MedInc'] = california.target\n",
    "cal.head()\n",
    "mcardf = cal\n",
    "nidx = round(.1 * len(cal))\n",
    "dropidxs = np.random.choice(len(cal), nidx, replace=False)\n",
    "mcardf.loc[dropidxs, 'AveRooms'] = np.nan\n",
    "print(mcardf.isna().sum() / len(cal))"
   ]
  },
  {
   "cell_type": "code",
   "execution_count": 14,
   "metadata": {},
   "outputs": [
    {
     "name": "stdout",
     "output_type": "stream",
     "text": [
      "MedInc        0.0\n",
      "HouseAge      0.0\n",
      "AveRooms      0.0\n",
      "AveBedrms     0.0\n",
      "Population    0.0\n",
      "AveOccup      0.0\n",
      "Latitude      0.0\n",
      "Longitude     0.0\n",
      "dtype: float64\n"
     ]
    }
   ],
   "source": [
    "mcardf['AveRooms'] = mcardf['AveRooms'].fillna(mcardf['AveRooms'].mean())\n",
    "print(mcardf.isna().sum() / len(cal))"
   ]
  },
  {
   "cell_type": "code",
   "execution_count": null,
   "metadata": {},
   "outputs": [],
   "source": [
    "# Create Lin Reg Model Here"
   ]
  },
  {
   "cell_type": "markdown",
   "metadata": {},
   "source": [
    "### mcar .2"
   ]
  },
  {
   "cell_type": "code",
   "execution_count": 15,
   "metadata": {},
   "outputs": [
    {
     "name": "stdout",
     "output_type": "stream",
     "text": [
      "MedInc        0.0\n",
      "HouseAge      0.0\n",
      "AveRooms      0.2\n",
      "AveBedrms     0.0\n",
      "Population    0.0\n",
      "AveOccup      0.0\n",
      "Latitude      0.0\n",
      "Longitude     0.0\n",
      "dtype: float64\n"
     ]
    }
   ],
   "source": [
    "california = datasets.fetch_california_housing()\n",
    "cal = pd.DataFrame(california.data)\n",
    "cal.columns = california.feature_names\n",
    "cal['MedInc'] = california.target\n",
    "cal.head()\n",
    "mcardf = cal\n",
    "nidx = round(.2 * len(cal))\n",
    "dropidxs = np.random.choice(len(cal), nidx, replace=False)\n",
    "mcardf.loc[dropidxs, 'AveRooms'] = np.nan\n",
    "print(mcardf.isna().sum() / len(cal))"
   ]
  },
  {
   "cell_type": "code",
   "execution_count": 16,
   "metadata": {},
   "outputs": [
    {
     "name": "stdout",
     "output_type": "stream",
     "text": [
      "MedInc        0.0\n",
      "HouseAge      0.0\n",
      "AveRooms      0.0\n",
      "AveBedrms     0.0\n",
      "Population    0.0\n",
      "AveOccup      0.0\n",
      "Latitude      0.0\n",
      "Longitude     0.0\n",
      "dtype: float64\n"
     ]
    }
   ],
   "source": [
    "mcardf['AveRooms'] = mcardf['AveRooms'].fillna(mcardf['AveRooms'].mean())\n",
    "print(mcardf.isna().sum() / len(cal))"
   ]
  },
  {
   "cell_type": "code",
   "execution_count": null,
   "metadata": {},
   "outputs": [],
   "source": [
    "# Create Lin Reg Model Here"
   ]
  },
  {
   "cell_type": "markdown",
   "metadata": {},
   "source": [
    "### mcar .33"
   ]
  },
  {
   "cell_type": "code",
   "execution_count": 17,
   "metadata": {},
   "outputs": [
    {
     "name": "stdout",
     "output_type": "stream",
     "text": [
      "MedInc        0.00000\n",
      "HouseAge      0.00000\n",
      "AveRooms      0.32999\n",
      "AveBedrms     0.00000\n",
      "Population    0.00000\n",
      "AveOccup      0.00000\n",
      "Latitude      0.00000\n",
      "Longitude     0.00000\n",
      "dtype: float64\n"
     ]
    }
   ],
   "source": [
    "california = datasets.fetch_california_housing()\n",
    "cal = pd.DataFrame(california.data)\n",
    "cal.columns = california.feature_names\n",
    "cal['MedInc'] = california.target\n",
    "cal.head()\n",
    "mcardf = cal\n",
    "nidx = round(.33 * len(cal))\n",
    "dropidxs = np.random.choice(len(cal), nidx, replace=False)\n",
    "mcardf.loc[dropidxs, 'AveRooms'] = np.nan\n",
    "print(mcardf.isna().sum() / len(cal))"
   ]
  },
  {
   "cell_type": "code",
   "execution_count": 18,
   "metadata": {},
   "outputs": [
    {
     "name": "stdout",
     "output_type": "stream",
     "text": [
      "MedInc        0.0\n",
      "HouseAge      0.0\n",
      "AveRooms      0.0\n",
      "AveBedrms     0.0\n",
      "Population    0.0\n",
      "AveOccup      0.0\n",
      "Latitude      0.0\n",
      "Longitude     0.0\n",
      "dtype: float64\n"
     ]
    }
   ],
   "source": [
    "mcardf['AveRooms'] = mcardf['AveRooms'].fillna(mcardf['AveRooms'].mean())\n",
    "print(mcardf.isna().sum() / len(cal))"
   ]
  },
  {
   "cell_type": "code",
   "execution_count": null,
   "metadata": {},
   "outputs": [],
   "source": [
    "# Create Lin Reg Model Here"
   ]
  },
  {
   "cell_type": "markdown",
   "metadata": {},
   "source": [
    "### mcar .5"
   ]
  },
  {
   "cell_type": "code",
   "execution_count": 19,
   "metadata": {},
   "outputs": [
    {
     "name": "stdout",
     "output_type": "stream",
     "text": [
      "MedInc        0.0\n",
      "HouseAge      0.0\n",
      "AveRooms      0.5\n",
      "AveBedrms     0.0\n",
      "Population    0.0\n",
      "AveOccup      0.0\n",
      "Latitude      0.0\n",
      "Longitude     0.0\n",
      "dtype: float64\n"
     ]
    }
   ],
   "source": [
    "california = datasets.fetch_california_housing()\n",
    "cal = pd.DataFrame(california.data)\n",
    "cal.columns = california.feature_names\n",
    "cal['MedInc'] = california.target\n",
    "cal.head()\n",
    "mcardf = cal\n",
    "nidx = round(.5 * len(cal))\n",
    "dropidxs = np.random.choice(len(cal), nidx, replace=False)\n",
    "mcardf.loc[dropidxs, 'AveRooms'] = np.nan\n",
    "print(mcardf.isna().sum() / len(cal))"
   ]
  },
  {
   "cell_type": "code",
   "execution_count": 20,
   "metadata": {},
   "outputs": [
    {
     "name": "stdout",
     "output_type": "stream",
     "text": [
      "MedInc        0.0\n",
      "HouseAge      0.0\n",
      "AveRooms      0.0\n",
      "AveBedrms     0.0\n",
      "Population    0.0\n",
      "AveOccup      0.0\n",
      "Latitude      0.0\n",
      "Longitude     0.0\n",
      "dtype: float64\n"
     ]
    }
   ],
   "source": [
    "mcardf['AveRooms'] = mcardf['AveRooms'].fillna(mcardf['AveRooms'].mean())\n",
    "print(mcardf.isna().sum() / len(cal))"
   ]
  },
  {
   "cell_type": "code",
   "execution_count": null,
   "metadata": {},
   "outputs": [],
   "source": [
    "# Create Lin Reg Model Here"
   ]
  },
  {
   "cell_type": "markdown",
   "metadata": {},
   "source": [
    "## Missing at Random"
   ]
  },
  {
   "cell_type": "markdown",
   "metadata": {},
   "source": [
    "### MAR .1"
   ]
  },
  {
   "cell_type": "code",
   "execution_count": 30,
   "metadata": {},
   "outputs": [
    {
     "name": "stdout",
     "output_type": "stream",
     "text": [
      "MedInc        0.0\n",
      "HouseAge      0.0\n",
      "AveRooms      0.1\n",
      "AveBedrms     0.0\n",
      "Population    0.0\n",
      "AveOccup      0.0\n",
      "Latitude      0.0\n",
      "Longitude     0.0\n",
      "dtype: float64\n"
     ]
    }
   ],
   "source": [
    "california = datasets.fetch_california_housing()\n",
    "cal = pd.DataFrame(california.data)\n",
    "cal.columns = california.feature_names\n",
    "cal['MedInc'] = california.target\n",
    "cal.head()\n",
    "mardf = cal\n",
    "idxs = mardf[mardf['AveOccup'] > mardf['AveOccup'].quantile(.5)]\n",
    "dropidxs = idxs.sample(frac = .2, replace = False)\n",
    "mardf.loc[dropidxs.index, 'AveRooms'] = np.nan\n",
    "print(mardf.isna().sum() / len(mardf))"
   ]
  },
  {
   "cell_type": "code",
   "execution_count": 31,
   "metadata": {},
   "outputs": [
    {
     "name": "stdout",
     "output_type": "stream",
     "text": [
      "MedInc        0.0\n",
      "HouseAge      0.0\n",
      "AveRooms      0.0\n",
      "AveBedrms     0.0\n",
      "Population    0.0\n",
      "AveOccup      0.0\n",
      "Latitude      0.0\n",
      "Longitude     0.0\n",
      "dtype: float64\n"
     ]
    }
   ],
   "source": [
    "mardf['AveRooms'] = mardf['AveRooms'].fillna(mardf['AveRooms'].mean())\n",
    "print(mardf.isna().sum() / len(cal))"
   ]
  },
  {
   "cell_type": "code",
   "execution_count": null,
   "metadata": {},
   "outputs": [],
   "source": [
    "# Create Lin Reg Model Here"
   ]
  },
  {
   "cell_type": "markdown",
   "metadata": {},
   "source": [
    "### MAR .2"
   ]
  },
  {
   "cell_type": "code",
   "execution_count": 32,
   "metadata": {},
   "outputs": [
    {
     "name": "stdout",
     "output_type": "stream",
     "text": [
      "MedInc        0.0\n",
      "HouseAge      0.0\n",
      "AveRooms      0.2\n",
      "AveBedrms     0.0\n",
      "Population    0.0\n",
      "AveOccup      0.0\n",
      "Latitude      0.0\n",
      "Longitude     0.0\n",
      "dtype: float64\n"
     ]
    }
   ],
   "source": [
    "california = datasets.fetch_california_housing()\n",
    "cal = pd.DataFrame(california.data)\n",
    "cal.columns = california.feature_names\n",
    "cal['MedInc'] = california.target\n",
    "cal.head()\n",
    "mardf = cal\n",
    "idxs = mardf[mardf['AveOccup'] > mardf['AveOccup'].quantile(.5)]\n",
    "dropidxs = idxs.sample(frac = .4, replace = False)\n",
    "mardf.loc[dropidxs.index, 'AveRooms'] = np.nan\n",
    "print(mardf.isna().sum() / len(mardf))"
   ]
  },
  {
   "cell_type": "code",
   "execution_count": 33,
   "metadata": {},
   "outputs": [
    {
     "name": "stdout",
     "output_type": "stream",
     "text": [
      "MedInc        0.0\n",
      "HouseAge      0.0\n",
      "AveRooms      0.0\n",
      "AveBedrms     0.0\n",
      "Population    0.0\n",
      "AveOccup      0.0\n",
      "Latitude      0.0\n",
      "Longitude     0.0\n",
      "dtype: float64\n"
     ]
    }
   ],
   "source": [
    "mardf['AveRooms'] = mardf['AveRooms'].fillna(mardf['AveRooms'].mean())\n",
    "print(mardf.isna().sum() / len(cal))"
   ]
  },
  {
   "cell_type": "code",
   "execution_count": null,
   "metadata": {},
   "outputs": [],
   "source": [
    "# Create Lin Reg Model Here"
   ]
  },
  {
   "cell_type": "markdown",
   "metadata": {},
   "source": [
    "### MAR .3"
   ]
  },
  {
   "cell_type": "code",
   "execution_count": 34,
   "metadata": {},
   "outputs": [
    {
     "name": "stdout",
     "output_type": "stream",
     "text": [
      "MedInc        0.0\n",
      "HouseAge      0.0\n",
      "AveRooms      0.3\n",
      "AveBedrms     0.0\n",
      "Population    0.0\n",
      "AveOccup      0.0\n",
      "Latitude      0.0\n",
      "Longitude     0.0\n",
      "dtype: float64\n"
     ]
    }
   ],
   "source": [
    "california = datasets.fetch_california_housing()\n",
    "cal = pd.DataFrame(california.data)\n",
    "cal.columns = california.feature_names\n",
    "cal['MedInc'] = california.target\n",
    "cal.head()\n",
    "mardf = cal\n",
    "idxs = mardf[mardf['AveOccup'] > mardf['AveOccup'].quantile(.5)]\n",
    "dropidxs = idxs.sample(frac = .6, replace = False)\n",
    "mardf.loc[dropidxs.index, 'AveRooms'] = np.nan\n",
    "print(mardf.isna().sum() / len(mardf))"
   ]
  },
  {
   "cell_type": "code",
   "execution_count": 36,
   "metadata": {},
   "outputs": [
    {
     "name": "stdout",
     "output_type": "stream",
     "text": [
      "MedInc        0.0\n",
      "HouseAge      0.0\n",
      "AveRooms      0.0\n",
      "AveBedrms     0.0\n",
      "Population    0.0\n",
      "AveOccup      0.0\n",
      "Latitude      0.0\n",
      "Longitude     0.0\n",
      "dtype: float64\n"
     ]
    }
   ],
   "source": [
    "mardf['AveRooms'] = mardf['AveRooms'].fillna(mardf['AveRooms'].mean())\n",
    "print(mardf.isna().sum() / len(cal))"
   ]
  },
  {
   "cell_type": "code",
   "execution_count": 37,
   "metadata": {},
   "outputs": [],
   "source": [
    "# Create Lin Reg Model Here"
   ]
  },
  {
   "cell_type": "markdown",
   "metadata": {},
   "source": [
    "## Missing \"Not at\" Random"
   ]
  },
  {
   "cell_type": "markdown",
   "metadata": {},
   "source": [
    "### MNAR .25"
   ]
  },
  {
   "cell_type": "code",
   "execution_count": 38,
   "metadata": {},
   "outputs": [
    {
     "name": "stdout",
     "output_type": "stream",
     "text": [
      "MedInc        0.000000\n",
      "HouseAge      0.000000\n",
      "AveRooms      0.249952\n",
      "AveBedrms     0.000000\n",
      "Population    0.000000\n",
      "AveOccup      0.000000\n",
      "Latitude      0.000000\n",
      "Longitude     0.000000\n",
      "dtype: float64\n"
     ]
    }
   ],
   "source": [
    "california = datasets.fetch_california_housing()\n",
    "cal = pd.DataFrame(california.data)\n",
    "cal.columns = california.feature_names\n",
    "cal['MedInc'] = california.target\n",
    "cal.head()\n",
    "mnardf = cal\n",
    "idxs = (mnardf['AveRooms'] > mnardf['AveRooms'].quantile(.75))\n",
    "mnardf.loc[idxs, 'AveRooms'] = np.nan\n",
    "print(mnardf.isna().sum() / len(mnardf))"
   ]
  },
  {
   "cell_type": "code",
   "execution_count": 39,
   "metadata": {},
   "outputs": [
    {
     "name": "stdout",
     "output_type": "stream",
     "text": [
      "MedInc        0.0\n",
      "HouseAge      0.0\n",
      "AveRooms      0.0\n",
      "AveBedrms     0.0\n",
      "Population    0.0\n",
      "AveOccup      0.0\n",
      "Latitude      0.0\n",
      "Longitude     0.0\n",
      "dtype: float64\n"
     ]
    }
   ],
   "source": [
    "mnardf['AveRooms'] = mnardf['AveRooms'].fillna(mnardf['AveRooms'].mean())\n",
    "print(mnardf.isna().sum() / len(cal))"
   ]
  },
  {
   "cell_type": "code",
   "execution_count": null,
   "metadata": {},
   "outputs": [],
   "source": [
    "# Create Lin Reg Model Here"
   ]
  },
  {
   "cell_type": "markdown",
   "metadata": {},
   "source": [
    "## Conclusion"
   ]
  },
  {
   "cell_type": "code",
   "execution_count": null,
   "metadata": {},
   "outputs": [],
   "source": []
  }
 ],
 "metadata": {
  "kernelspec": {
   "display_name": "Python 3",
   "language": "python",
   "name": "python3"
  },
  "language_info": {
   "codemirror_mode": {
    "name": "ipython",
    "version": 3
   },
   "file_extension": ".py",
   "mimetype": "text/x-python",
   "name": "python",
   "nbconvert_exporter": "python",
   "pygments_lexer": "ipython3",
   "version": "3.8.3"
  }
 },
 "nbformat": 4,
 "nbformat_minor": 4
}
