{
 "cells": [
  {
   "cell_type": "code",
   "execution_count": 267,
   "metadata": {},
   "outputs": [],
   "source": [
    "import pandas as pd\n",
    "import numpy as np\n",
    "from sklearn.linear_model import LinearRegression\n",
    "from sklearn.metrics import mean_squared_error, r2_score, mean_absolute_error\n",
    "import matplotlib.pyplot as plt\n",
    "from sklearn import datasets\n",
    "import random\n",
    "from sklearn.model_selection import train_test_split\n",
    "from sklearn.metrics import mean_squared_error, r2_score, mean_absolute_error"
   ]
  },
  {
   "cell_type": "markdown",
   "metadata": {},
   "source": [
    "# Case 5: Imputation"
   ]
  },
  {
   "cell_type": "markdown",
   "metadata": {},
   "source": [
    "Andrew Larsen  \n",
    "Matthew Chinchilla  \n",
    "Rikel Djoko  "
   ]
  },
  {
   "cell_type": "markdown",
   "metadata": {},
   "source": [
    "## Business Case"
   ]
  },
  {
   "cell_type": "markdown",
   "metadata": {},
   "source": [
    "Our objective is to use various imputation strategies on a complete dataset to evaluate the impact imputation has on model performance. For this exercise we will be using a data set that comes standard with the pandas python package consisting of California housing data. Three different forms of imputation will be explored in this exercise missing completely at random (MCAR), missing at random(MAR), and missing not at random(MNAR). The difference in these three types of missing data are MCAR is totally at random there is no reason why. MAR is different from MCAR in that it typically only affects a subset of the data and that subset of missing data is being affected by another value and randomly missing. The final type of missing data MNAR shows a definate pattern in the missing data. In order to compare the results of our three missing data scenarios we will use a simple regression model using all of the California housing data to set baseline for us to compare against."
   ]
  },
  {
   "cell_type": "markdown",
   "metadata": {},
   "source": [
    "## Baseline Model Development"
   ]
  },
  {
   "cell_type": "markdown",
   "metadata": {},
   "source": [
    "Since we are removing and imputing data from the AveRooms columnand running the model on those dataframes, we need a baseline model to compare them to. In this section, we run a linear regression model with the intact dataframe. "
   ]
  },
  {
   "cell_type": "markdown",
   "metadata": {},
   "source": [
    "Below, we fetch the data and organize the data into a single dataframe. As you can see, there are 7 explanatory variables, and our target variable is  MedInc. "
   ]
  },
  {
   "cell_type": "code",
   "execution_count": 312,
   "metadata": {},
   "outputs": [
    {
     "data": {
      "text/html": [
       "<div>\n",
       "<style scoped>\n",
       "    .dataframe tbody tr th:only-of-type {\n",
       "        vertical-align: middle;\n",
       "    }\n",
       "\n",
       "    .dataframe tbody tr th {\n",
       "        vertical-align: top;\n",
       "    }\n",
       "\n",
       "    .dataframe thead th {\n",
       "        text-align: right;\n",
       "    }\n",
       "</style>\n",
       "<table border=\"1\" class=\"dataframe\">\n",
       "  <thead>\n",
       "    <tr style=\"text-align: right;\">\n",
       "      <th></th>\n",
       "      <th>MedInc</th>\n",
       "      <th>HouseAge</th>\n",
       "      <th>AveRooms</th>\n",
       "      <th>AveBedrms</th>\n",
       "      <th>Population</th>\n",
       "      <th>AveOccup</th>\n",
       "      <th>Latitude</th>\n",
       "      <th>Longitude</th>\n",
       "    </tr>\n",
       "  </thead>\n",
       "  <tbody>\n",
       "    <tr>\n",
       "      <th>0</th>\n",
       "      <td>4.526</td>\n",
       "      <td>41.0</td>\n",
       "      <td>6.984127</td>\n",
       "      <td>1.023810</td>\n",
       "      <td>322.0</td>\n",
       "      <td>2.555556</td>\n",
       "      <td>37.88</td>\n",
       "      <td>-122.23</td>\n",
       "    </tr>\n",
       "    <tr>\n",
       "      <th>1</th>\n",
       "      <td>3.585</td>\n",
       "      <td>21.0</td>\n",
       "      <td>6.238137</td>\n",
       "      <td>0.971880</td>\n",
       "      <td>2401.0</td>\n",
       "      <td>2.109842</td>\n",
       "      <td>37.86</td>\n",
       "      <td>-122.22</td>\n",
       "    </tr>\n",
       "    <tr>\n",
       "      <th>2</th>\n",
       "      <td>3.521</td>\n",
       "      <td>52.0</td>\n",
       "      <td>8.288136</td>\n",
       "      <td>1.073446</td>\n",
       "      <td>496.0</td>\n",
       "      <td>2.802260</td>\n",
       "      <td>37.85</td>\n",
       "      <td>-122.24</td>\n",
       "    </tr>\n",
       "    <tr>\n",
       "      <th>3</th>\n",
       "      <td>3.413</td>\n",
       "      <td>52.0</td>\n",
       "      <td>5.817352</td>\n",
       "      <td>1.073059</td>\n",
       "      <td>558.0</td>\n",
       "      <td>2.547945</td>\n",
       "      <td>37.85</td>\n",
       "      <td>-122.25</td>\n",
       "    </tr>\n",
       "    <tr>\n",
       "      <th>4</th>\n",
       "      <td>3.422</td>\n",
       "      <td>52.0</td>\n",
       "      <td>6.281853</td>\n",
       "      <td>1.081081</td>\n",
       "      <td>565.0</td>\n",
       "      <td>2.181467</td>\n",
       "      <td>37.85</td>\n",
       "      <td>-122.25</td>\n",
       "    </tr>\n",
       "  </tbody>\n",
       "</table>\n",
       "</div>"
      ],
      "text/plain": [
       "   MedInc  HouseAge  AveRooms  AveBedrms  Population  AveOccup  Latitude  \\\n",
       "0   4.526      41.0  6.984127   1.023810       322.0  2.555556     37.88   \n",
       "1   3.585      21.0  6.238137   0.971880      2401.0  2.109842     37.86   \n",
       "2   3.521      52.0  8.288136   1.073446       496.0  2.802260     37.85   \n",
       "3   3.413      52.0  5.817352   1.073059       558.0  2.547945     37.85   \n",
       "4   3.422      52.0  6.281853   1.081081       565.0  2.181467     37.85   \n",
       "\n",
       "   Longitude  \n",
       "0    -122.23  \n",
       "1    -122.22  \n",
       "2    -122.24  \n",
       "3    -122.25  \n",
       "4    -122.25  "
      ]
     },
     "execution_count": 312,
     "metadata": {},
     "output_type": "execute_result"
    }
   ],
   "source": [
    "california = datasets.fetch_california_housing()\n",
    "cal = pd.DataFrame(california.data)\n",
    "cal.columns = california.feature_names\n",
    "cal['MedInc'] = california.target\n",
    "cal.head()"
   ]
  },
  {
   "cell_type": "markdown",
   "metadata": {},
   "source": [
    "Here, we check for NA's. There are no NA's in the base dataset, so we can move forward with modelling. "
   ]
  },
  {
   "cell_type": "code",
   "execution_count": 270,
   "metadata": {},
   "outputs": [
    {
     "data": {
      "text/plain": [
       "MedInc        0\n",
       "HouseAge      0\n",
       "AveRooms      0\n",
       "AveBedrms     0\n",
       "Population    0\n",
       "AveOccup      0\n",
       "Latitude      0\n",
       "Longitude     0\n",
       "dtype: int64"
      ]
     },
     "execution_count": 270,
     "metadata": {},
     "output_type": "execute_result"
    }
   ],
   "source": [
    "#check for NA\n",
    "cal.isna().sum()"
   ]
  },
  {
   "cell_type": "markdown",
   "metadata": {},
   "source": [
    "Here, we split the dataframes so we have the target variable separate from the explanatory variables, then run a test train split. We split the data 60/40 in order to ensure that we have enough data to get a quality model, but also enough data to test the model. "
   ]
  },
  {
   "cell_type": "code",
   "execution_count": 271,
   "metadata": {},
   "outputs": [],
   "source": [
    "cols = ['HouseAge','AveRooms','AveBedrms','Population','AveOccup','Latitude','Longitude']\n",
    "X = cal[cols]\n",
    "y = cal[\"MedInc\"]\n",
    "train_X, test_X, train_y, test_y = train_test_split(X, y, test_size = 0.4, random_state = 0)"
   ]
  },
  {
   "cell_type": "markdown",
   "metadata": {},
   "source": [
    "Below, we save the training and testing indices from the split above. This ensures that any difference in the models will purely be the result of our imputations, rather than possibly being the result of random chance. "
   ]
  },
  {
   "cell_type": "code",
   "execution_count": 313,
   "metadata": {},
   "outputs": [],
   "source": [
    "train_X_index = train_X.index.values.astype(int)\n",
    "test_X_index = test_X.index.values.astype(int)\n",
    "train_y_index = train_y.index.values.astype(int)\n",
    "test_y_index = test_y.index.values.astype(int)"
   ]
  },
  {
   "cell_type": "markdown",
   "metadata": {},
   "source": [
    "Here, we create our baseline linear regression model. The coefficients of the model are listed below. "
   ]
  },
  {
   "cell_type": "code",
   "execution_count": 273,
   "metadata": {},
   "outputs": [
    {
     "data": {
      "text/html": [
       "<div>\n",
       "<style scoped>\n",
       "    .dataframe tbody tr th:only-of-type {\n",
       "        vertical-align: middle;\n",
       "    }\n",
       "\n",
       "    .dataframe tbody tr th {\n",
       "        vertical-align: top;\n",
       "    }\n",
       "\n",
       "    .dataframe thead th {\n",
       "        text-align: right;\n",
       "    }\n",
       "</style>\n",
       "<table border=\"1\" class=\"dataframe\">\n",
       "  <thead>\n",
       "    <tr style=\"text-align: right;\">\n",
       "      <th></th>\n",
       "      <th>coef</th>\n",
       "    </tr>\n",
       "  </thead>\n",
       "  <tbody>\n",
       "    <tr>\n",
       "      <th>HouseAge</th>\n",
       "      <td>0.005633</td>\n",
       "    </tr>\n",
       "    <tr>\n",
       "      <th>AveRooms</th>\n",
       "      <td>0.363187</td>\n",
       "    </tr>\n",
       "    <tr>\n",
       "      <th>AveBedrms</th>\n",
       "      <td>-1.348481</td>\n",
       "    </tr>\n",
       "    <tr>\n",
       "      <th>Population</th>\n",
       "      <td>-0.000011</td>\n",
       "    </tr>\n",
       "    <tr>\n",
       "      <th>AveOccup</th>\n",
       "      <td>-0.003401</td>\n",
       "    </tr>\n",
       "    <tr>\n",
       "      <th>Latitude</th>\n",
       "      <td>-0.742928</td>\n",
       "    </tr>\n",
       "    <tr>\n",
       "      <th>Longitude</th>\n",
       "      <td>-0.738761</td>\n",
       "    </tr>\n",
       "  </tbody>\n",
       "</table>\n",
       "</div>"
      ],
      "text/plain": [
       "                coef\n",
       "HouseAge    0.005633\n",
       "AveRooms    0.363187\n",
       "AveBedrms  -1.348481\n",
       "Population -0.000011\n",
       "AveOccup   -0.003401\n",
       "Latitude   -0.742928\n",
       "Longitude  -0.738761"
      ]
     },
     "execution_count": 273,
     "metadata": {},
     "output_type": "execute_result"
    }
   ],
   "source": [
    "lin_model = LinearRegression()\n",
    "lin_model.fit(train_X, train_y)\n",
    "coef_df = pd.DataFrame(lin_model.coef_, cols, columns = [\"coef\"])\n",
    "coef_df"
   ]
  },
  {
   "cell_type": "markdown",
   "metadata": {},
   "source": [
    "Here, we predict our test data using the model created by our training data. We show the Mean Absolute Error (MAE), Mean Squared Error (MSE) and R-squared (R2) of the model below. We will continue with these naming conventions for the rest of the report. Below, we define these measures:\n",
    "\n",
    "|Metric|Metric Description|  \n",
    "| :-|:-|\n",
    "|Mean Squared Error (MSE)|Defined as $\\sum{(actual - predicted)^2}$ This metric is in terms of the target variable squared. Lower is better. MSE is better than MAE when large errors are especially bad.|  \n",
    "|Mean Absolute Error (MAE)|Defined as $\\sum |actual - predicted|$ This metric is also in terms of the target variable. Lower is better. MAE is better when comparing models tested with different numbers of data points.|  \n",
    "|R^2|The amount of variance in the target variable that is explained by the model. Higher is better.|"
   ]
  },
  {
   "cell_type": "code",
   "execution_count": 275,
   "metadata": {},
   "outputs": [
    {
     "name": "stdout",
     "output_type": "stream",
     "text": [
      "MAE: 0.684\n",
      "MSE:  0.825\n",
      "R2:  0.382\n"
     ]
    }
   ],
   "source": [
    "##predict\n",
    "y_predict = lin_model.predict(test_X)\n",
    "orig_mae = mean_absolute_error(test_y, y_predict)\n",
    "orig_mse = mean_squared_error(test_y, y_predict)\n",
    "# orig_rmse_val = rmse(test_y, y_predict)\n",
    "orig_r2 = r2_score(test_y, y_predict)\n",
    "print(\"MAE: %.3f\"%orig_mae)\n",
    "print(\"MSE:  %.3f\"%orig_mse)\n",
    "# print(\"RMSE:  %.3f\"%orig_rmse_val)\n",
    "print(\"R2:  %.3f\"%orig_r2)"
   ]
  },
  {
   "cell_type": "markdown",
   "metadata": {},
   "source": [
    "Below, we create a dataframe with the results of the baseline model. This allows for easier, more organized comparison of MAE, MSE and R2 as we create more models. "
   ]
  },
  {
   "cell_type": "code",
   "execution_count": 276,
   "metadata": {},
   "outputs": [
    {
     "data": {
      "text/html": [
       "<div>\n",
       "<style scoped>\n",
       "    .dataframe tbody tr th:only-of-type {\n",
       "        vertical-align: middle;\n",
       "    }\n",
       "\n",
       "    .dataframe tbody tr th {\n",
       "        vertical-align: top;\n",
       "    }\n",
       "\n",
       "    .dataframe thead th {\n",
       "        text-align: right;\n",
       "    }\n",
       "</style>\n",
       "<table border=\"1\" class=\"dataframe\">\n",
       "  <thead>\n",
       "    <tr style=\"text-align: right;\">\n",
       "      <th></th>\n",
       "      <th>Data</th>\n",
       "      <th>Imputation</th>\n",
       "      <th>MAE</th>\n",
       "      <th>MSE</th>\n",
       "      <th>R2</th>\n",
       "    </tr>\n",
       "  </thead>\n",
       "  <tbody>\n",
       "    <tr>\n",
       "      <th>0</th>\n",
       "      <td>original</td>\n",
       "      <td>none</td>\n",
       "      <td>0.684403</td>\n",
       "      <td>0.824646</td>\n",
       "      <td>0.381605</td>\n",
       "    </tr>\n",
       "  </tbody>\n",
       "</table>\n",
       "</div>"
      ],
      "text/plain": [
       "       Data Imputation       MAE       MSE        R2\n",
       "0  original       none  0.684403  0.824646  0.381605"
      ]
     },
     "execution_count": 276,
     "metadata": {},
     "output_type": "execute_result"
    }
   ],
   "source": [
    "perf_frame = pd.DataFrame({'Data':'Original',\n",
    "                   'Imputation':'None',\n",
    "                   'MAE': orig_mae, \n",
    "                   'MSE': orig_mse, \n",
    "                   'R2':orig_r2}, index=[0])\n",
    "perf_frame"
   ]
  },
  {
   "cell_type": "markdown",
   "metadata": {},
   "source": [
    "Below, we create a function with the steps we did above to create and evaluate the model. This pipeline includes a train/test split, model creation, test data set prediction and evaluation. We will use this function to create and evaluate models for our imputed data. "
   ]
  },
  {
   "cell_type": "code",
   "execution_count": 278,
   "metadata": {},
   "outputs": [],
   "source": [
    "def LR_pipeline(df, data_description, imputation_type):\n",
    "    \n",
    "    #1 set the test and trainning set X and Y\n",
    "    train_X = df.iloc[train_X_index, 1:]\n",
    "    train_y = df[\"MedInc\"].iloc[train_y_index]\n",
    "    test_X = df.iloc[test_X_index, 1:].dropna()\n",
    "    test_y = df[\"MedInc\"].iloc[test_y_index]\n",
    "    #2  create and fit the model using LR\n",
    "    lin_model = LinearRegression()\n",
    "    lin_model.fit(train_X, train_y)\n",
    "    coef_df = pd.DataFrame(lin_model.coef_, cols, columns = [\"coef\"])\n",
    "    print(coef_df)\n",
    "    #3  predict using \n",
    "    y_predict = lin_model.predict(test_X)\n",
    "    # 4 evaluation and performance\n",
    "    orig_mae = mean_absolute_error(test_y, y_predict)\n",
    "    orig_mse = mean_squared_error(test_y, y_predict)\n",
    "    orig_r2 = r2_score(test_y, y_predict)\n",
    "    perf_frame = pd.DataFrame({'Data':data_description,\n",
    "                   'Imputation Type':imputation_type,\n",
    "                   'MAE': orig_mae, \n",
    "                   'MSE': orig_mse, \n",
    "                   'R2':orig_r2}, index=[0])\n",
    "    return perf_frame\n",
    "    "
   ]
  },
  {
   "cell_type": "markdown",
   "metadata": {},
   "source": [
    "The below output confirms that the model created for the baseline matches the model created for the baseline using the LR_pipeline function. It does, so we may continue. "
   ]
  },
  {
   "cell_type": "code",
   "execution_count": 279,
   "metadata": {},
   "outputs": [
    {
     "name": "stdout",
     "output_type": "stream",
     "text": [
      "                coef\n",
      "HouseAge    0.005633\n",
      "AveRooms    0.363187\n",
      "AveBedrms  -1.348481\n",
      "Population -0.000011\n",
      "AveOccup   -0.003401\n",
      "Latitude   -0.742928\n",
      "Longitude  -0.738761\n"
     ]
    },
    {
     "data": {
      "text/html": [
       "<div>\n",
       "<style scoped>\n",
       "    .dataframe tbody tr th:only-of-type {\n",
       "        vertical-align: middle;\n",
       "    }\n",
       "\n",
       "    .dataframe tbody tr th {\n",
       "        vertical-align: top;\n",
       "    }\n",
       "\n",
       "    .dataframe thead th {\n",
       "        text-align: right;\n",
       "    }\n",
       "</style>\n",
       "<table border=\"1\" class=\"dataframe\">\n",
       "  <thead>\n",
       "    <tr style=\"text-align: right;\">\n",
       "      <th></th>\n",
       "      <th>Data</th>\n",
       "      <th>Imputation Type</th>\n",
       "      <th>MAE</th>\n",
       "      <th>MSE</th>\n",
       "      <th>R2</th>\n",
       "    </tr>\n",
       "  </thead>\n",
       "  <tbody>\n",
       "    <tr>\n",
       "      <th>0</th>\n",
       "      <td>Original</td>\n",
       "      <td>None</td>\n",
       "      <td>0.684403</td>\n",
       "      <td>0.824646</td>\n",
       "      <td>0.381605</td>\n",
       "    </tr>\n",
       "  </tbody>\n",
       "</table>\n",
       "</div>"
      ],
      "text/plain": [
       "       Data Imputation Type       MAE       MSE        R2\n",
       "0  Original            None  0.684403  0.824646  0.381605"
      ]
     },
     "execution_count": 279,
     "metadata": {},
     "output_type": "execute_result"
    }
   ],
   "source": [
    "df = LR_pipeline(cal,\"Original\", \"None\")\n",
    "df"
   ]
  },
  {
   "cell_type": "markdown",
   "metadata": {},
   "source": [
    "## Missing Completely at Random"
   ]
  },
  {
   "cell_type": "markdown",
   "metadata": {},
   "source": [
    "In this section, we create and evaluate linear regression models to predict MedInc after data is removed completely at random. The data is removed by taking a percentage of random indices and setting the AveRooms variable as NaN for lines with those indices. We removed 1%, 5%, 10%, 20%, 33% and 50% of the data from the AveRooms column, imputed using the  mean of the column after the data was removed, then used the LR_pipeline function to create and evaluate models for the MedInc variable after imputing. "
   ]
  },
  {
   "cell_type": "markdown",
   "metadata": {},
   "source": [
    "### mcar .01"
   ]
  },
  {
   "cell_type": "markdown",
   "metadata": {},
   "source": [
    "Below, we randomly set 1% of the AveRooms data equal to NaN. The output confirms that about 1% of the AveRooms column is NaN."
   ]
  },
  {
   "cell_type": "code",
   "execution_count": 280,
   "metadata": {},
   "outputs": [
    {
     "name": "stdout",
     "output_type": "stream",
     "text": [
      "MedInc        0.000000\n",
      "HouseAge      0.000000\n",
      "AveRooms      0.009981\n",
      "AveBedrms     0.000000\n",
      "Population    0.000000\n",
      "AveOccup      0.000000\n",
      "Latitude      0.000000\n",
      "Longitude     0.000000\n",
      "dtype: float64\n"
     ]
    }
   ],
   "source": [
    "california = datasets.fetch_california_housing()\n",
    "cal = pd.DataFrame(california.data)\n",
    "cal.columns = california.feature_names\n",
    "cal['MedInc'] = california.target\n",
    "cal.head()\n",
    "mcardf = cal\n",
    "nidx = round(.01 * len(cal))\n",
    "dropidxs = np.random.choice(len(cal), nidx, replace=False)\n",
    "mcardf.loc[dropidxs, 'AveRooms'] = np.nan\n",
    "print(mcardf.isna().sum() / len(cal))"
   ]
  },
  {
   "cell_type": "markdown",
   "metadata": {},
   "source": [
    "Below, we impute the NaN's in the AveRoom column using the mean of the NaN filled AveRooms column. The output confirms that we have no more NaN's in the dataframe."
   ]
  },
  {
   "cell_type": "code",
   "execution_count": 281,
   "metadata": {},
   "outputs": [
    {
     "name": "stdout",
     "output_type": "stream",
     "text": [
      "MedInc        0.0\n",
      "HouseAge      0.0\n",
      "AveRooms      0.0\n",
      "AveBedrms     0.0\n",
      "Population    0.0\n",
      "AveOccup      0.0\n",
      "Latitude      0.0\n",
      "Longitude     0.0\n",
      "dtype: float64\n"
     ]
    }
   ],
   "source": [
    "mcardf['AveRooms'] = mcardf['AveRooms'].fillna(mcardf['AveRooms'].mean())\n",
    "print(mcardf.isna().sum() / len(cal))"
   ]
  },
  {
   "cell_type": "markdown",
   "metadata": {},
   "source": [
    "Here, we create a linear regression model for the dataframe with 1% of the AveRooms column imputed with the mean after the data was missing completely at random. We append the results to the results dataframe, then show the results below. "
   ]
  },
  {
   "cell_type": "code",
   "execution_count": 282,
   "metadata": {},
   "outputs": [
    {
     "name": "stdout",
     "output_type": "stream",
     "text": [
      "                coef\n",
      "HouseAge    0.005522\n",
      "AveRooms    0.359361\n",
      "AveBedrms  -1.329722\n",
      "Population -0.000011\n",
      "AveOccup   -0.003391\n",
      "Latitude   -0.740181\n",
      "Longitude  -0.736374\n"
     ]
    },
    {
     "data": {
      "text/html": [
       "<div>\n",
       "<style scoped>\n",
       "    .dataframe tbody tr th:only-of-type {\n",
       "        vertical-align: middle;\n",
       "    }\n",
       "\n",
       "    .dataframe tbody tr th {\n",
       "        vertical-align: top;\n",
       "    }\n",
       "\n",
       "    .dataframe thead th {\n",
       "        text-align: right;\n",
       "    }\n",
       "</style>\n",
       "<table border=\"1\" class=\"dataframe\">\n",
       "  <thead>\n",
       "    <tr style=\"text-align: right;\">\n",
       "      <th></th>\n",
       "      <th>Data</th>\n",
       "      <th>Imputation Type</th>\n",
       "      <th>MAE</th>\n",
       "      <th>MSE</th>\n",
       "      <th>R2</th>\n",
       "    </tr>\n",
       "  </thead>\n",
       "  <tbody>\n",
       "    <tr>\n",
       "      <th>0</th>\n",
       "      <td>1% Imputed</td>\n",
       "      <td>MCAR</td>\n",
       "      <td>0.685918</td>\n",
       "      <td>0.828244</td>\n",
       "      <td>0.378908</td>\n",
       "    </tr>\n",
       "  </tbody>\n",
       "</table>\n",
       "</div>"
      ],
      "text/plain": [
       "         Data Imputation Type       MAE       MSE        R2\n",
       "0  1% Imputed            MCAR  0.685918  0.828244  0.378908"
      ]
     },
     "execution_count": 282,
     "metadata": {},
     "output_type": "execute_result"
    }
   ],
   "source": [
    "df_MCAR01 = LR_pipeline(mcardf,\"1% Imputed\", \"MCAR\")\n",
    "df = df.append(df_MCAR01)\n",
    "df_MCAR01"
   ]
  },
  {
   "cell_type": "markdown",
   "metadata": {},
   "source": [
    "MAE, MSE and R2 are slightly worse than our baseline model. "
   ]
  },
  {
   "cell_type": "markdown",
   "metadata": {},
   "source": [
    "### mcar .05"
   ]
  },
  {
   "cell_type": "markdown",
   "metadata": {},
   "source": [
    "Below, we randomly set 5% of the AveRooms data equal to NaN. The output confirms that about 5% of the AveRooms column is NaN."
   ]
  },
  {
   "cell_type": "code",
   "execution_count": 283,
   "metadata": {},
   "outputs": [
    {
     "name": "stdout",
     "output_type": "stream",
     "text": [
      "MedInc        0.00\n",
      "HouseAge      0.00\n",
      "AveRooms      0.05\n",
      "AveBedrms     0.00\n",
      "Population    0.00\n",
      "AveOccup      0.00\n",
      "Latitude      0.00\n",
      "Longitude     0.00\n",
      "dtype: float64\n"
     ]
    }
   ],
   "source": [
    "california = datasets.fetch_california_housing()\n",
    "cal = pd.DataFrame(california.data)\n",
    "cal.columns = california.feature_names\n",
    "cal['MedInc'] = california.target\n",
    "cal.head()\n",
    "mcardf = cal\n",
    "nidx = round(.05 * len(cal))\n",
    "dropidxs = np.random.choice(len(cal), nidx, replace=False)\n",
    "mcardf.loc[dropidxs, 'AveRooms'] = np.nan\n",
    "print(mcardf.isna().sum() / len(cal))"
   ]
  },
  {
   "cell_type": "markdown",
   "metadata": {},
   "source": [
    "Below, we impute the NaN's in the AveRoom column using the mean of the NaN filled AveRooms column. The output confirms that we have no more NaN's in the dataframe."
   ]
  },
  {
   "cell_type": "code",
   "execution_count": 284,
   "metadata": {},
   "outputs": [
    {
     "name": "stdout",
     "output_type": "stream",
     "text": [
      "MedInc        0.0\n",
      "HouseAge      0.0\n",
      "AveRooms      0.0\n",
      "AveBedrms     0.0\n",
      "Population    0.0\n",
      "AveOccup      0.0\n",
      "Latitude      0.0\n",
      "Longitude     0.0\n",
      "dtype: float64\n"
     ]
    }
   ],
   "source": [
    "mcardf['AveRooms'] = mcardf['AveRooms'].fillna(mcardf['AveRooms'].mean())\n",
    "print(mcardf.isna().sum() / len(cal))"
   ]
  },
  {
   "cell_type": "markdown",
   "metadata": {},
   "source": [
    "Here, we create a linear regression model for the dataframe with 5% of the AveRooms column imputed with the mean after the data was missing completely at random. We append the results to the results dataframe, then show the results below. "
   ]
  },
  {
   "cell_type": "code",
   "execution_count": 285,
   "metadata": {
    "scrolled": true
   },
   "outputs": [
    {
     "name": "stdout",
     "output_type": "stream",
     "text": [
      "                coef\n",
      "HouseAge    0.004791\n",
      "AveRooms    0.335665\n",
      "AveBedrms  -1.187112\n",
      "Population -0.000017\n",
      "AveOccup   -0.003308\n",
      "Latitude   -0.733795\n",
      "Longitude  -0.731269\n"
     ]
    },
    {
     "data": {
      "text/html": [
       "<div>\n",
       "<style scoped>\n",
       "    .dataframe tbody tr th:only-of-type {\n",
       "        vertical-align: middle;\n",
       "    }\n",
       "\n",
       "    .dataframe tbody tr th {\n",
       "        vertical-align: top;\n",
       "    }\n",
       "\n",
       "    .dataframe thead th {\n",
       "        text-align: right;\n",
       "    }\n",
       "</style>\n",
       "<table border=\"1\" class=\"dataframe\">\n",
       "  <thead>\n",
       "    <tr style=\"text-align: right;\">\n",
       "      <th></th>\n",
       "      <th>Data</th>\n",
       "      <th>Imputation Type</th>\n",
       "      <th>MAE</th>\n",
       "      <th>MSE</th>\n",
       "      <th>R2</th>\n",
       "    </tr>\n",
       "  </thead>\n",
       "  <tbody>\n",
       "    <tr>\n",
       "      <th>0</th>\n",
       "      <td>5% Imputed</td>\n",
       "      <td>MCAR</td>\n",
       "      <td>0.694373</td>\n",
       "      <td>0.857249</td>\n",
       "      <td>0.357157</td>\n",
       "    </tr>\n",
       "  </tbody>\n",
       "</table>\n",
       "</div>"
      ],
      "text/plain": [
       "         Data Imputation Type       MAE       MSE        R2\n",
       "0  5% Imputed            MCAR  0.694373  0.857249  0.357157"
      ]
     },
     "execution_count": 285,
     "metadata": {},
     "output_type": "execute_result"
    }
   ],
   "source": [
    "df_MCAR05 = LR_pipeline(mcardf,\"5% Imputed\", \"MCAR\")\n",
    "df = df.append(df_MCAR05)\n",
    "df_MCAR05"
   ]
  },
  {
   "cell_type": "markdown",
   "metadata": {},
   "source": [
    "MAE, MSE and R2 are slightly worse than our baseline model. "
   ]
  },
  {
   "cell_type": "markdown",
   "metadata": {},
   "source": [
    "### mcar .1"
   ]
  },
  {
   "cell_type": "markdown",
   "metadata": {},
   "source": [
    "Below, we randomly set 10% of the AveRooms data equal to NaN. The output confirms that about 10% of the AveRooms column is NaN."
   ]
  },
  {
   "cell_type": "code",
   "execution_count": 286,
   "metadata": {},
   "outputs": [
    {
     "name": "stdout",
     "output_type": "stream",
     "text": [
      "MedInc        0.0\n",
      "HouseAge      0.0\n",
      "AveRooms      0.1\n",
      "AveBedrms     0.0\n",
      "Population    0.0\n",
      "AveOccup      0.0\n",
      "Latitude      0.0\n",
      "Longitude     0.0\n",
      "dtype: float64\n"
     ]
    }
   ],
   "source": [
    "california = datasets.fetch_california_housing()\n",
    "cal = pd.DataFrame(california.data)\n",
    "cal.columns = california.feature_names\n",
    "cal['MedInc'] = california.target\n",
    "cal.head()\n",
    "mcardf = cal\n",
    "nidx = round(.1 * len(cal))\n",
    "dropidxs = np.random.choice(len(cal), nidx, replace=False)\n",
    "mcardf.loc[dropidxs, 'AveRooms'] = np.nan\n",
    "print(mcardf.isna().sum() / len(cal))"
   ]
  },
  {
   "cell_type": "markdown",
   "metadata": {},
   "source": [
    "Below, we impute the NaN's in the AveRoom column using the mean of the NaN filled AveRooms column. The output confirms that we have no more NaN's in the dataframe."
   ]
  },
  {
   "cell_type": "code",
   "execution_count": 287,
   "metadata": {
    "scrolled": true
   },
   "outputs": [
    {
     "name": "stdout",
     "output_type": "stream",
     "text": [
      "MedInc        0.0\n",
      "HouseAge      0.0\n",
      "AveRooms      0.0\n",
      "AveBedrms     0.0\n",
      "Population    0.0\n",
      "AveOccup      0.0\n",
      "Latitude      0.0\n",
      "Longitude     0.0\n",
      "dtype: float64\n"
     ]
    }
   ],
   "source": [
    "mcardf['AveRooms'] = mcardf['AveRooms'].fillna(mcardf['AveRooms'].mean())\n",
    "print(mcardf.isna().sum() / len(cal))"
   ]
  },
  {
   "cell_type": "markdown",
   "metadata": {},
   "source": [
    "Here, we create a linear regression model for the dataframe with 10% of the AveRooms column imputed with the mean after the data was missing completely at random. We append the results to the results dataframe, then show the results below. "
   ]
  },
  {
   "cell_type": "code",
   "execution_count": 288,
   "metadata": {
    "scrolled": true
   },
   "outputs": [
    {
     "name": "stdout",
     "output_type": "stream",
     "text": [
      "                coef\n",
      "HouseAge    0.002853\n",
      "AveRooms    0.250160\n",
      "AveBedrms  -0.659887\n",
      "Population -0.000025\n",
      "AveOccup   -0.002802\n",
      "Latitude   -0.738214\n",
      "Longitude  -0.742101\n"
     ]
    },
    {
     "data": {
      "text/html": [
       "<div>\n",
       "<style scoped>\n",
       "    .dataframe tbody tr th:only-of-type {\n",
       "        vertical-align: middle;\n",
       "    }\n",
       "\n",
       "    .dataframe tbody tr th {\n",
       "        vertical-align: top;\n",
       "    }\n",
       "\n",
       "    .dataframe thead th {\n",
       "        text-align: right;\n",
       "    }\n",
       "</style>\n",
       "<table border=\"1\" class=\"dataframe\">\n",
       "  <thead>\n",
       "    <tr style=\"text-align: right;\">\n",
       "      <th></th>\n",
       "      <th>Data</th>\n",
       "      <th>Imputation Type</th>\n",
       "      <th>MAE</th>\n",
       "      <th>MSE</th>\n",
       "      <th>R2</th>\n",
       "    </tr>\n",
       "  </thead>\n",
       "  <tbody>\n",
       "    <tr>\n",
       "      <th>0</th>\n",
       "      <td>10% Imputed</td>\n",
       "      <td>MCAR</td>\n",
       "      <td>0.708642</td>\n",
       "      <td>0.895135</td>\n",
       "      <td>0.328747</td>\n",
       "    </tr>\n",
       "  </tbody>\n",
       "</table>\n",
       "</div>"
      ],
      "text/plain": [
       "          Data Imputation Type       MAE       MSE        R2\n",
       "0  10% Imputed            MCAR  0.708642  0.895135  0.328747"
      ]
     },
     "execution_count": 288,
     "metadata": {},
     "output_type": "execute_result"
    }
   ],
   "source": [
    "df_MCAR10 = LR_pipeline(mcardf,\"10% Imputed\", \"MCAR\")\n",
    "df = df.append(df_MCAR10)\n",
    "df_MCAR10"
   ]
  },
  {
   "cell_type": "markdown",
   "metadata": {},
   "source": [
    "MAE, MSE and R2 are slightly worse than our baseline model. "
   ]
  },
  {
   "cell_type": "markdown",
   "metadata": {},
   "source": [
    "### mcar .2"
   ]
  },
  {
   "cell_type": "markdown",
   "metadata": {},
   "source": [
    "Below, we randomly set 20% of the AveRooms data equal to NaN. The output confirms that about 20% of the AveRooms column is NaN."
   ]
  },
  {
   "cell_type": "code",
   "execution_count": 289,
   "metadata": {},
   "outputs": [
    {
     "name": "stdout",
     "output_type": "stream",
     "text": [
      "MedInc        0.0\n",
      "HouseAge      0.0\n",
      "AveRooms      0.2\n",
      "AveBedrms     0.0\n",
      "Population    0.0\n",
      "AveOccup      0.0\n",
      "Latitude      0.0\n",
      "Longitude     0.0\n",
      "dtype: float64\n"
     ]
    }
   ],
   "source": [
    "california = datasets.fetch_california_housing()\n",
    "cal = pd.DataFrame(california.data)\n",
    "cal.columns = california.feature_names\n",
    "cal['MedInc'] = california.target\n",
    "cal.head()\n",
    "mcardf = cal\n",
    "nidx = round(.2 * len(cal))\n",
    "dropidxs = np.random.choice(len(cal), nidx, replace=False)\n",
    "mcardf.loc[dropidxs, 'AveRooms'] = np.nan\n",
    "print(mcardf.isna().sum() / len(cal))"
   ]
  },
  {
   "cell_type": "markdown",
   "metadata": {},
   "source": [
    "Below, we impute the NaN's in the AveRoom column using the mean of the NaN filled AveRooms column. The output confirms that we have no more NaN's in the dataframe."
   ]
  },
  {
   "cell_type": "code",
   "execution_count": 290,
   "metadata": {},
   "outputs": [
    {
     "name": "stdout",
     "output_type": "stream",
     "text": [
      "MedInc        0.0\n",
      "HouseAge      0.0\n",
      "AveRooms      0.0\n",
      "AveBedrms     0.0\n",
      "Population    0.0\n",
      "AveOccup      0.0\n",
      "Latitude      0.0\n",
      "Longitude     0.0\n",
      "dtype: float64\n"
     ]
    }
   ],
   "source": [
    "mcardf['AveRooms'] = mcardf['AveRooms'].fillna(mcardf['AveRooms'].mean())\n",
    "print(mcardf.isna().sum() / len(cal))"
   ]
  },
  {
   "cell_type": "markdown",
   "metadata": {},
   "source": [
    "Here, we create a linear regression model for the dataframe with 20% of the AveRooms column imputed with the mean after the data was missing completely at random. We append the results to the results dataframe, then show the results below. "
   ]
  },
  {
   "cell_type": "code",
   "execution_count": 291,
   "metadata": {
    "scrolled": true
   },
   "outputs": [
    {
     "name": "stdout",
     "output_type": "stream",
     "text": [
      "                coef\n",
      "HouseAge    0.002426\n",
      "AveRooms    0.277721\n",
      "AveBedrms  -0.883117\n",
      "Population -0.000028\n",
      "AveOccup   -0.002313\n",
      "Latitude   -0.728774\n",
      "Longitude  -0.732040\n"
     ]
    },
    {
     "data": {
      "text/html": [
       "<div>\n",
       "<style scoped>\n",
       "    .dataframe tbody tr th:only-of-type {\n",
       "        vertical-align: middle;\n",
       "    }\n",
       "\n",
       "    .dataframe tbody tr th {\n",
       "        vertical-align: top;\n",
       "    }\n",
       "\n",
       "    .dataframe thead th {\n",
       "        text-align: right;\n",
       "    }\n",
       "</style>\n",
       "<table border=\"1\" class=\"dataframe\">\n",
       "  <thead>\n",
       "    <tr style=\"text-align: right;\">\n",
       "      <th></th>\n",
       "      <th>Data</th>\n",
       "      <th>Imputation Type</th>\n",
       "      <th>MAE</th>\n",
       "      <th>MSE</th>\n",
       "      <th>R2</th>\n",
       "    </tr>\n",
       "  </thead>\n",
       "  <tbody>\n",
       "    <tr>\n",
       "      <th>0</th>\n",
       "      <td>20% Imputed</td>\n",
       "      <td>MCAR</td>\n",
       "      <td>0.722006</td>\n",
       "      <td>0.998445</td>\n",
       "      <td>0.251276</td>\n",
       "    </tr>\n",
       "  </tbody>\n",
       "</table>\n",
       "</div>"
      ],
      "text/plain": [
       "          Data Imputation Type       MAE       MSE        R2\n",
       "0  20% Imputed            MCAR  0.722006  0.998445  0.251276"
      ]
     },
     "execution_count": 291,
     "metadata": {},
     "output_type": "execute_result"
    }
   ],
   "source": [
    "df_MCAR20 = LR_pipeline(mcardf,\"20% Imputed\", \"MCAR\")\n",
    "df = df.append(df_MCAR20)\n",
    "df_MCAR20"
   ]
  },
  {
   "cell_type": "markdown",
   "metadata": {},
   "source": [
    "MAE is slightly worse than our baseline model, while MSE and R2 have a difference > .1 compared to our baseline model. "
   ]
  },
  {
   "cell_type": "markdown",
   "metadata": {},
   "source": [
    "### mcar .33"
   ]
  },
  {
   "cell_type": "markdown",
   "metadata": {},
   "source": [
    "Below, we randomly set 33% of the AveRooms data equal to NaN. The output confirms that about 33% of the AveRooms column is NaN."
   ]
  },
  {
   "cell_type": "code",
   "execution_count": 292,
   "metadata": {},
   "outputs": [
    {
     "name": "stdout",
     "output_type": "stream",
     "text": [
      "MedInc        0.00000\n",
      "HouseAge      0.00000\n",
      "AveRooms      0.32999\n",
      "AveBedrms     0.00000\n",
      "Population    0.00000\n",
      "AveOccup      0.00000\n",
      "Latitude      0.00000\n",
      "Longitude     0.00000\n",
      "dtype: float64\n"
     ]
    }
   ],
   "source": [
    "california = datasets.fetch_california_housing()\n",
    "cal = pd.DataFrame(california.data)\n",
    "cal.columns = california.feature_names\n",
    "cal['MedInc'] = california.target\n",
    "cal.head()\n",
    "mcardf = cal\n",
    "nidx = round(.33 * len(cal))\n",
    "dropidxs = np.random.choice(len(cal), nidx, replace=False)\n",
    "mcardf.loc[dropidxs, 'AveRooms'] = np.nan\n",
    "print(mcardf.isna().sum() / len(cal))"
   ]
  },
  {
   "cell_type": "markdown",
   "metadata": {},
   "source": [
    "Below, we impute the NaN's in the AveRoom column using the mean of the NaN filled AveRooms column. The output confirms that we have no more NaN's in the dataframe."
   ]
  },
  {
   "cell_type": "code",
   "execution_count": 293,
   "metadata": {},
   "outputs": [
    {
     "name": "stdout",
     "output_type": "stream",
     "text": [
      "MedInc        0.0\n",
      "HouseAge      0.0\n",
      "AveRooms      0.0\n",
      "AveBedrms     0.0\n",
      "Population    0.0\n",
      "AveOccup      0.0\n",
      "Latitude      0.0\n",
      "Longitude     0.0\n",
      "dtype: float64\n"
     ]
    }
   ],
   "source": [
    "mcardf['AveRooms'] = mcardf['AveRooms'].fillna(mcardf['AveRooms'].mean())\n",
    "print(mcardf.isna().sum() / len(cal))"
   ]
  },
  {
   "cell_type": "markdown",
   "metadata": {},
   "source": [
    "Here, we create a linear regression model for the dataframe with 33% of the AveRooms column imputed with the mean after the data was missing completely at random. We append the results to the results dataframe, then show the results below. "
   ]
  },
  {
   "cell_type": "code",
   "execution_count": 294,
   "metadata": {
    "scrolled": true
   },
   "outputs": [
    {
     "name": "stdout",
     "output_type": "stream",
     "text": [
      "                coef\n",
      "HouseAge    0.001316\n",
      "AveRooms    0.248511\n",
      "AveBedrms  -0.756279\n",
      "Population -0.000032\n",
      "AveOccup   -0.002904\n",
      "Latitude   -0.725245\n",
      "Longitude  -0.728414\n"
     ]
    },
    {
     "data": {
      "text/html": [
       "<div>\n",
       "<style scoped>\n",
       "    .dataframe tbody tr th:only-of-type {\n",
       "        vertical-align: middle;\n",
       "    }\n",
       "\n",
       "    .dataframe tbody tr th {\n",
       "        vertical-align: top;\n",
       "    }\n",
       "\n",
       "    .dataframe thead th {\n",
       "        text-align: right;\n",
       "    }\n",
       "</style>\n",
       "<table border=\"1\" class=\"dataframe\">\n",
       "  <thead>\n",
       "    <tr style=\"text-align: right;\">\n",
       "      <th></th>\n",
       "      <th>Data</th>\n",
       "      <th>Imputation Type</th>\n",
       "      <th>MAE</th>\n",
       "      <th>MSE</th>\n",
       "      <th>R2</th>\n",
       "    </tr>\n",
       "  </thead>\n",
       "  <tbody>\n",
       "    <tr>\n",
       "      <th>0</th>\n",
       "      <td>33% Imputed</td>\n",
       "      <td>MCAR</td>\n",
       "      <td>0.733787</td>\n",
       "      <td>0.997848</td>\n",
       "      <td>0.251723</td>\n",
       "    </tr>\n",
       "  </tbody>\n",
       "</table>\n",
       "</div>"
      ],
      "text/plain": [
       "          Data Imputation Type       MAE       MSE        R2\n",
       "0  33% Imputed            MCAR  0.733787  0.997848  0.251723"
      ]
     },
     "execution_count": 294,
     "metadata": {},
     "output_type": "execute_result"
    }
   ],
   "source": [
    "df_MCAR33 = LR_pipeline(mcardf,\"33% Imputed\", \"MCAR\")\n",
    "df = df.append(df_MCAR33)\n",
    "df_MCAR33"
   ]
  },
  {
   "cell_type": "markdown",
   "metadata": {},
   "source": [
    "MAE is slightly worse than our baseline model, while MSE and R2 have a difference > .1 compared to our baseline model. "
   ]
  },
  {
   "cell_type": "markdown",
   "metadata": {},
   "source": [
    "### mcar .5"
   ]
  },
  {
   "cell_type": "markdown",
   "metadata": {},
   "source": [
    "Below, we randomly set 50% of the AveRooms data equal to NaN. The output confirms that about 50% of the AveRooms column is NaN."
   ]
  },
  {
   "cell_type": "code",
   "execution_count": 295,
   "metadata": {},
   "outputs": [
    {
     "name": "stdout",
     "output_type": "stream",
     "text": [
      "MedInc        0.0\n",
      "HouseAge      0.0\n",
      "AveRooms      0.5\n",
      "AveBedrms     0.0\n",
      "Population    0.0\n",
      "AveOccup      0.0\n",
      "Latitude      0.0\n",
      "Longitude     0.0\n",
      "dtype: float64\n"
     ]
    }
   ],
   "source": [
    "california = datasets.fetch_california_housing()\n",
    "cal = pd.DataFrame(california.data)\n",
    "cal.columns = california.feature_names\n",
    "cal['MedInc'] = california.target\n",
    "cal.head()\n",
    "mcardf = cal\n",
    "nidx = round(.5 * len(cal))\n",
    "dropidxs = np.random.choice(len(cal), nidx, replace=False)\n",
    "mcardf.loc[dropidxs, 'AveRooms'] = np.nan\n",
    "print(mcardf.isna().sum() / len(cal))"
   ]
  },
  {
   "cell_type": "markdown",
   "metadata": {},
   "source": [
    "Below, we impute the NaN's in the AveRoom column using the mean of the NaN filled AveRooms column. The output confirms that we have no more NaN's in the dataframe."
   ]
  },
  {
   "cell_type": "code",
   "execution_count": 296,
   "metadata": {},
   "outputs": [
    {
     "name": "stdout",
     "output_type": "stream",
     "text": [
      "MedInc        0.0\n",
      "HouseAge      0.0\n",
      "AveRooms      0.0\n",
      "AveBedrms     0.0\n",
      "Population    0.0\n",
      "AveOccup      0.0\n",
      "Latitude      0.0\n",
      "Longitude     0.0\n",
      "dtype: float64\n"
     ]
    }
   ],
   "source": [
    "mcardf['AveRooms'] = mcardf['AveRooms'].fillna(mcardf['AveRooms'].mean())\n",
    "print(mcardf.isna().sum() / len(cal))"
   ]
  },
  {
   "cell_type": "markdown",
   "metadata": {},
   "source": [
    "Here, we create a linear regression model for the dataframe with 50% of the AveRooms column imputed with the mean after the data was missing completely at random. We append the results to the results dataframe, then show the results below. "
   ]
  },
  {
   "cell_type": "code",
   "execution_count": 297,
   "metadata": {
    "scrolled": true
   },
   "outputs": [
    {
     "name": "stdout",
     "output_type": "stream",
     "text": [
      "                coef\n",
      "HouseAge    0.000180\n",
      "AveRooms    0.176238\n",
      "AveBedrms  -0.142944\n",
      "Population -0.000035\n",
      "AveOccup   -0.002399\n",
      "Latitude   -0.744367\n",
      "Longitude  -0.754163\n"
     ]
    },
    {
     "data": {
      "text/html": [
       "<div>\n",
       "<style scoped>\n",
       "    .dataframe tbody tr th:only-of-type {\n",
       "        vertical-align: middle;\n",
       "    }\n",
       "\n",
       "    .dataframe tbody tr th {\n",
       "        vertical-align: top;\n",
       "    }\n",
       "\n",
       "    .dataframe thead th {\n",
       "        text-align: right;\n",
       "    }\n",
       "</style>\n",
       "<table border=\"1\" class=\"dataframe\">\n",
       "  <thead>\n",
       "    <tr style=\"text-align: right;\">\n",
       "      <th></th>\n",
       "      <th>Data</th>\n",
       "      <th>Imputation Type</th>\n",
       "      <th>MAE</th>\n",
       "      <th>MSE</th>\n",
       "      <th>R2</th>\n",
       "    </tr>\n",
       "  </thead>\n",
       "  <tbody>\n",
       "    <tr>\n",
       "      <th>0</th>\n",
       "      <td>50% Imputed</td>\n",
       "      <td>MCAR</td>\n",
       "      <td>0.750547</td>\n",
       "      <td>0.971963</td>\n",
       "      <td>0.271134</td>\n",
       "    </tr>\n",
       "  </tbody>\n",
       "</table>\n",
       "</div>"
      ],
      "text/plain": [
       "          Data Imputation Type       MAE       MSE        R2\n",
       "0  50% Imputed            MCAR  0.750547  0.971963  0.271134"
      ]
     },
     "execution_count": 297,
     "metadata": {},
     "output_type": "execute_result"
    }
   ],
   "source": [
    "df_MCAR50 = LR_pipeline(mcardf,\"50% Imputed\", \"MCAR\")\n",
    "df = df.append(df_MCAR50)\n",
    "df_MCAR50"
   ]
  },
  {
   "cell_type": "markdown",
   "metadata": {},
   "source": [
    "MAE is slightly worse than our baseline model, while MSE and R2 have a difference > .1 compared to our baseline model. "
   ]
  },
  {
   "cell_type": "markdown",
   "metadata": {},
   "source": [
    "## Missing at Random"
   ]
  },
  {
   "cell_type": "markdown",
   "metadata": {},
   "source": [
    "In this section, we create and evaluate models for the MedInc variable when the data is missing at random. For data to be missing at random, the data is randomly missing dependent on another variable. In our case, we randomly remove a percentage of the data when the AveOccup variable is above its median value. We set 10%, 20% and 30% of the AveRooms variable as NaN, which corresponds to 20%, 40% and 60% of the AveRooms variable when the AveOccup variable is above the mean. "
   ]
  },
  {
   "cell_type": "markdown",
   "metadata": {},
   "source": [
    "### MAR .1"
   ]
  },
  {
   "cell_type": "markdown",
   "metadata": {},
   "source": [
    "Here, we randomly take 20% of the rows with an AveOccup above the median, find their indexes and set those row's AveRooms as NaN. The output below confirms that 10% of the AveRooms column is NaN."
   ]
  },
  {
   "cell_type": "code",
   "execution_count": 298,
   "metadata": {},
   "outputs": [
    {
     "name": "stdout",
     "output_type": "stream",
     "text": [
      "MedInc        0.0\n",
      "HouseAge      0.0\n",
      "AveRooms      0.1\n",
      "AveBedrms     0.0\n",
      "Population    0.0\n",
      "AveOccup      0.0\n",
      "Latitude      0.0\n",
      "Longitude     0.0\n",
      "dtype: float64\n"
     ]
    }
   ],
   "source": [
    "california = datasets.fetch_california_housing()\n",
    "cal = pd.DataFrame(california.data)\n",
    "cal.columns = california.feature_names\n",
    "cal['MedInc'] = california.target\n",
    "cal.head()\n",
    "mardf = cal\n",
    "idxs = mardf[mardf['AveOccup'] > mardf['AveOccup'].quantile(.5)]\n",
    "dropidxs = idxs.sample(frac = .2, replace = False)\n",
    "mardf.loc[dropidxs.index, 'AveRooms'] = np.nan\n",
    "print(mardf.isna().sum() / len(mardf))"
   ]
  },
  {
   "cell_type": "markdown",
   "metadata": {},
   "source": [
    "Below, we impute the NaN's in the AveRoom column using the mean of the NaN filled AveRooms column. The output confirms that we have no more NaN's in the dataframe."
   ]
  },
  {
   "cell_type": "code",
   "execution_count": 299,
   "metadata": {},
   "outputs": [
    {
     "name": "stdout",
     "output_type": "stream",
     "text": [
      "MedInc        0.0\n",
      "HouseAge      0.0\n",
      "AveRooms      0.0\n",
      "AveBedrms     0.0\n",
      "Population    0.0\n",
      "AveOccup      0.0\n",
      "Latitude      0.0\n",
      "Longitude     0.0\n",
      "dtype: float64\n"
     ]
    }
   ],
   "source": [
    "mardf['AveRooms'] = mardf['AveRooms'].fillna(mardf['AveRooms'].mean())\n",
    "print(mardf.isna().sum() / len(cal))"
   ]
  },
  {
   "cell_type": "markdown",
   "metadata": {},
   "source": [
    "Here, we create a linear regression model for the dataframe with 10% of the AveRooms column imputed with the mean after the data was missing at random. We append the results to the results dataframe, then show the results below. "
   ]
  },
  {
   "cell_type": "code",
   "execution_count": 300,
   "metadata": {},
   "outputs": [
    {
     "name": "stdout",
     "output_type": "stream",
     "text": [
      "                coef\n",
      "HouseAge    0.003833\n",
      "AveRooms    0.341528\n",
      "AveBedrms  -1.243998\n",
      "Population -0.000019\n",
      "AveOccup   -0.002038\n",
      "Latitude   -0.742475\n",
      "Longitude  -0.743358\n"
     ]
    },
    {
     "data": {
      "text/html": [
       "<div>\n",
       "<style scoped>\n",
       "    .dataframe tbody tr th:only-of-type {\n",
       "        vertical-align: middle;\n",
       "    }\n",
       "\n",
       "    .dataframe tbody tr th {\n",
       "        vertical-align: top;\n",
       "    }\n",
       "\n",
       "    .dataframe thead th {\n",
       "        text-align: right;\n",
       "    }\n",
       "</style>\n",
       "<table border=\"1\" class=\"dataframe\">\n",
       "  <thead>\n",
       "    <tr style=\"text-align: right;\">\n",
       "      <th></th>\n",
       "      <th>Data</th>\n",
       "      <th>Imputation Type</th>\n",
       "      <th>MAE</th>\n",
       "      <th>MSE</th>\n",
       "      <th>R2</th>\n",
       "    </tr>\n",
       "  </thead>\n",
       "  <tbody>\n",
       "    <tr>\n",
       "      <th>0</th>\n",
       "      <td>10% Imputed</td>\n",
       "      <td>MAR</td>\n",
       "      <td>0.701955</td>\n",
       "      <td>0.860282</td>\n",
       "      <td>0.354882</td>\n",
       "    </tr>\n",
       "  </tbody>\n",
       "</table>\n",
       "</div>"
      ],
      "text/plain": [
       "          Data Imputation Type       MAE       MSE        R2\n",
       "0  10% Imputed             MAR  0.701955  0.860282  0.354882"
      ]
     },
     "execution_count": 300,
     "metadata": {},
     "output_type": "execute_result"
    }
   ],
   "source": [
    "df_MAR10 = LR_pipeline(mardf,\"10% Imputed\", \"MAR\")\n",
    "df = df.append(df_MAR10)\n",
    "df_MAR10"
   ]
  },
  {
   "cell_type": "markdown",
   "metadata": {},
   "source": [
    "MAE, MSE and R2 are slightly worse than our baseline model. "
   ]
  },
  {
   "cell_type": "markdown",
   "metadata": {},
   "source": [
    "### MAR .2"
   ]
  },
  {
   "cell_type": "markdown",
   "metadata": {},
   "source": [
    "Here, we randomly take 40% of the rows with an AveOccup above the median, find their indexes and set those row's AveRooms as NaN. The output below confirms that 20% of the AveRooms column is NaN."
   ]
  },
  {
   "cell_type": "code",
   "execution_count": 301,
   "metadata": {},
   "outputs": [
    {
     "name": "stdout",
     "output_type": "stream",
     "text": [
      "MedInc        0.0\n",
      "HouseAge      0.0\n",
      "AveRooms      0.2\n",
      "AveBedrms     0.0\n",
      "Population    0.0\n",
      "AveOccup      0.0\n",
      "Latitude      0.0\n",
      "Longitude     0.0\n",
      "dtype: float64\n"
     ]
    }
   ],
   "source": [
    "california = datasets.fetch_california_housing()\n",
    "cal = pd.DataFrame(california.data)\n",
    "cal.columns = california.feature_names\n",
    "cal['MedInc'] = california.target\n",
    "cal.head()\n",
    "mardf = cal\n",
    "idxs = mardf[mardf['AveOccup'] > mardf['AveOccup'].quantile(.5)]\n",
    "dropidxs = idxs.sample(frac = .4, replace = False)\n",
    "mardf.loc[dropidxs.index, 'AveRooms'] = np.nan\n",
    "print(mardf.isna().sum() / len(mardf))"
   ]
  },
  {
   "cell_type": "markdown",
   "metadata": {},
   "source": [
    "Below, we impute the NaN's in the AveRoom column using the mean of the NaN filled AveRooms column. The output confirms that we have no more NaN's in the dataframe."
   ]
  },
  {
   "cell_type": "code",
   "execution_count": 302,
   "metadata": {},
   "outputs": [
    {
     "name": "stdout",
     "output_type": "stream",
     "text": [
      "MedInc        0.0\n",
      "HouseAge      0.0\n",
      "AveRooms      0.0\n",
      "AveBedrms     0.0\n",
      "Population    0.0\n",
      "AveOccup      0.0\n",
      "Latitude      0.0\n",
      "Longitude     0.0\n",
      "dtype: float64\n"
     ]
    }
   ],
   "source": [
    "mardf['AveRooms'] = mardf['AveRooms'].fillna(mardf['AveRooms'].mean())\n",
    "print(mardf.isna().sum() / len(cal))"
   ]
  },
  {
   "cell_type": "markdown",
   "metadata": {},
   "source": [
    "Here, we create a linear regression model for the dataframe with 20% of the AveRooms column imputed with the meanafter the data was missing at random. We append the results to the results dataframe, then show the results below. "
   ]
  },
  {
   "cell_type": "code",
   "execution_count": 303,
   "metadata": {
    "scrolled": true
   },
   "outputs": [
    {
     "name": "stdout",
     "output_type": "stream",
     "text": [
      "                coef\n",
      "HouseAge    0.001882\n",
      "AveRooms    0.315516\n",
      "AveBedrms  -1.121274\n",
      "Population -0.000026\n",
      "AveOccup   -0.003289\n",
      "Latitude   -0.739904\n",
      "Longitude  -0.743836\n"
     ]
    },
    {
     "data": {
      "text/html": [
       "<div>\n",
       "<style scoped>\n",
       "    .dataframe tbody tr th:only-of-type {\n",
       "        vertical-align: middle;\n",
       "    }\n",
       "\n",
       "    .dataframe tbody tr th {\n",
       "        vertical-align: top;\n",
       "    }\n",
       "\n",
       "    .dataframe thead th {\n",
       "        text-align: right;\n",
       "    }\n",
       "</style>\n",
       "<table border=\"1\" class=\"dataframe\">\n",
       "  <thead>\n",
       "    <tr style=\"text-align: right;\">\n",
       "      <th></th>\n",
       "      <th>Data</th>\n",
       "      <th>Imputation Type</th>\n",
       "      <th>MAE</th>\n",
       "      <th>MSE</th>\n",
       "      <th>R2</th>\n",
       "    </tr>\n",
       "  </thead>\n",
       "  <tbody>\n",
       "    <tr>\n",
       "      <th>0</th>\n",
       "      <td>20% Imputed</td>\n",
       "      <td>MAR</td>\n",
       "      <td>0.720606</td>\n",
       "      <td>0.901491</td>\n",
       "      <td>0.32398</td>\n",
       "    </tr>\n",
       "  </tbody>\n",
       "</table>\n",
       "</div>"
      ],
      "text/plain": [
       "          Data Imputation Type       MAE       MSE       R2\n",
       "0  20% Imputed             MAR  0.720606  0.901491  0.32398"
      ]
     },
     "execution_count": 303,
     "metadata": {},
     "output_type": "execute_result"
    }
   ],
   "source": [
    "df_MAR20 = LR_pipeline(mardf,\"20% Imputed\", \"MAR\")\n",
    "df = df.append(df_MAR20)\n",
    "df_MAR20"
   ]
  },
  {
   "cell_type": "markdown",
   "metadata": {},
   "source": [
    "MAE, MSE and R2 are slightly worse than our baseline model. "
   ]
  },
  {
   "cell_type": "markdown",
   "metadata": {},
   "source": [
    "### MAR .3"
   ]
  },
  {
   "cell_type": "markdown",
   "metadata": {},
   "source": [
    "Here, we randomly take 60% of the rows with an AveOccup above the median, find their indexes and set those row's AveRooms as NaN. The output below confirms that 30% of the AveRooms column is NaN."
   ]
  },
  {
   "cell_type": "code",
   "execution_count": 304,
   "metadata": {},
   "outputs": [
    {
     "name": "stdout",
     "output_type": "stream",
     "text": [
      "MedInc        0.0\n",
      "HouseAge      0.0\n",
      "AveRooms      0.3\n",
      "AveBedrms     0.0\n",
      "Population    0.0\n",
      "AveOccup      0.0\n",
      "Latitude      0.0\n",
      "Longitude     0.0\n",
      "dtype: float64\n"
     ]
    }
   ],
   "source": [
    "california = datasets.fetch_california_housing()\n",
    "cal = pd.DataFrame(california.data)\n",
    "cal.columns = california.feature_names\n",
    "cal['MedInc'] = california.target\n",
    "cal.head()\n",
    "mardf = cal\n",
    "idxs = mardf[mardf['AveOccup'] > mardf['AveOccup'].quantile(.5)]\n",
    "dropidxs = idxs.sample(frac = .6, replace = False)\n",
    "mardf.loc[dropidxs.index, 'AveRooms'] = np.nan\n",
    "print(mardf.isna().sum() / len(mardf))"
   ]
  },
  {
   "cell_type": "markdown",
   "metadata": {},
   "source": [
    "Below, we impute the NaN's in the AveRoom column using the mean of the NaN filled AveRooms column. The output confirms that we have no more NaN's in the dataframe."
   ]
  },
  {
   "cell_type": "code",
   "execution_count": 305,
   "metadata": {},
   "outputs": [
    {
     "name": "stdout",
     "output_type": "stream",
     "text": [
      "MedInc        0.0\n",
      "HouseAge      0.0\n",
      "AveRooms      0.0\n",
      "AveBedrms     0.0\n",
      "Population    0.0\n",
      "AveOccup      0.0\n",
      "Latitude      0.0\n",
      "Longitude     0.0\n",
      "dtype: float64\n"
     ]
    }
   ],
   "source": [
    "mardf['AveRooms'] = mardf['AveRooms'].fillna(mardf['AveRooms'].mean())\n",
    "print(mardf.isna().sum() / len(cal))"
   ]
  },
  {
   "cell_type": "markdown",
   "metadata": {},
   "source": [
    "Here, we create a linear regression model for the dataframe with 30% of the AveRooms column imputed with the mean after the data was missing at random. We append the results to the results dataframe, then show the results below. "
   ]
  },
  {
   "cell_type": "code",
   "execution_count": 306,
   "metadata": {
    "scrolled": true
   },
   "outputs": [
    {
     "name": "stdout",
     "output_type": "stream",
     "text": [
      "                coef\n",
      "HouseAge    0.000151\n",
      "AveRooms    0.283949\n",
      "AveBedrms  -0.987892\n",
      "Population -0.000032\n",
      "AveOccup   -0.002408\n",
      "Latitude   -0.740424\n",
      "Longitude  -0.748912\n"
     ]
    },
    {
     "data": {
      "text/html": [
       "<div>\n",
       "<style scoped>\n",
       "    .dataframe tbody tr th:only-of-type {\n",
       "        vertical-align: middle;\n",
       "    }\n",
       "\n",
       "    .dataframe tbody tr th {\n",
       "        vertical-align: top;\n",
       "    }\n",
       "\n",
       "    .dataframe thead th {\n",
       "        text-align: right;\n",
       "    }\n",
       "</style>\n",
       "<table border=\"1\" class=\"dataframe\">\n",
       "  <thead>\n",
       "    <tr style=\"text-align: right;\">\n",
       "      <th></th>\n",
       "      <th>Data</th>\n",
       "      <th>Imputation Type</th>\n",
       "      <th>MAE</th>\n",
       "      <th>MSE</th>\n",
       "      <th>R2</th>\n",
       "    </tr>\n",
       "  </thead>\n",
       "  <tbody>\n",
       "    <tr>\n",
       "      <th>0</th>\n",
       "      <td>30% Imputed</td>\n",
       "      <td>MAR</td>\n",
       "      <td>0.734953</td>\n",
       "      <td>0.925965</td>\n",
       "      <td>0.305627</td>\n",
       "    </tr>\n",
       "  </tbody>\n",
       "</table>\n",
       "</div>"
      ],
      "text/plain": [
       "          Data Imputation Type       MAE       MSE        R2\n",
       "0  30% Imputed             MAR  0.734953  0.925965  0.305627"
      ]
     },
     "execution_count": 306,
     "metadata": {},
     "output_type": "execute_result"
    }
   ],
   "source": [
    "df_MAR30 = LR_pipeline(mardf,\"30% Imputed\", \"MAR\")\n",
    "df = df.append(df_MAR30)\n",
    "df_MAR30"
   ]
  },
  {
   "cell_type": "markdown",
   "metadata": {},
   "source": [
    "MAE and R2 are slightly worse than our baseline model, while MSE is >.1 worse than our baseline.  "
   ]
  },
  {
   "cell_type": "markdown",
   "metadata": {},
   "source": [
    "## Missing \"Not at\" Random"
   ]
  },
  {
   "cell_type": "markdown",
   "metadata": {},
   "source": [
    "Data missing \"not at\" random (MNAR) is the result of a certain subset of the data being totally missing. In our case, we set any AveRoom that is above the 75th percentile to be NaN, resulting in 25% of the AveRooms column to be set as NaN. "
   ]
  },
  {
   "cell_type": "markdown",
   "metadata": {},
   "source": [
    "### MNAR .25"
   ]
  },
  {
   "cell_type": "markdown",
   "metadata": {},
   "source": [
    "In the cell below, we set any value in the top 25% of AveRooms to be NaN. That is confirmed in the output below:"
   ]
  },
  {
   "cell_type": "code",
   "execution_count": 307,
   "metadata": {},
   "outputs": [
    {
     "name": "stdout",
     "output_type": "stream",
     "text": [
      "MedInc        0.000000\n",
      "HouseAge      0.000000\n",
      "AveRooms      0.249952\n",
      "AveBedrms     0.000000\n",
      "Population    0.000000\n",
      "AveOccup      0.000000\n",
      "Latitude      0.000000\n",
      "Longitude     0.000000\n",
      "dtype: float64\n"
     ]
    }
   ],
   "source": [
    "california = datasets.fetch_california_housing()\n",
    "cal = pd.DataFrame(california.data)\n",
    "cal.columns = california.feature_names\n",
    "cal['MedInc'] = california.target\n",
    "cal.head()\n",
    "mnardf = cal\n",
    "idxs = (mnardf['AveRooms'] > mnardf['AveRooms'].quantile(.75))\n",
    "mnardf.loc[idxs, 'AveRooms'] = np.nan\n",
    "print(mnardf.isna().sum() / len(mnardf))"
   ]
  },
  {
   "cell_type": "markdown",
   "metadata": {},
   "source": [
    "Below, we impute the NaN's in the AveRoom column using the mean of the NaN filled AveRooms column. The output confirms that we have no more NaN's in the dataframe."
   ]
  },
  {
   "cell_type": "code",
   "execution_count": 308,
   "metadata": {},
   "outputs": [
    {
     "name": "stdout",
     "output_type": "stream",
     "text": [
      "MedInc        0.0\n",
      "HouseAge      0.0\n",
      "AveRooms      0.0\n",
      "AveBedrms     0.0\n",
      "Population    0.0\n",
      "AveOccup      0.0\n",
      "Latitude      0.0\n",
      "Longitude     0.0\n",
      "dtype: float64\n"
     ]
    }
   ],
   "source": [
    "mnardf['AveRooms'] = mnardf['AveRooms'].fillna(mnardf['AveRooms'].mean())\n",
    "print(mnardf.isna().sum() / len(cal))"
   ]
  },
  {
   "cell_type": "markdown",
   "metadata": {},
   "source": [
    "Here, we create a linear regression model for the dataframe with 25% of the AveRooms column imputed with the mean after the data was missing not at random. We append the results to the results dataframe, then show the results below. "
   ]
  },
  {
   "cell_type": "code",
   "execution_count": 309,
   "metadata": {},
   "outputs": [
    {
     "name": "stdout",
     "output_type": "stream",
     "text": [
      "                coef\n",
      "HouseAge   -0.001056\n",
      "AveRooms    0.183896\n",
      "AveBedrms   0.137195\n",
      "Population -0.000039\n",
      "AveOccup   -0.001847\n",
      "Latitude   -0.752665\n",
      "Longitude  -0.759881\n"
     ]
    },
    {
     "data": {
      "text/html": [
       "<div>\n",
       "<style scoped>\n",
       "    .dataframe tbody tr th:only-of-type {\n",
       "        vertical-align: middle;\n",
       "    }\n",
       "\n",
       "    .dataframe tbody tr th {\n",
       "        vertical-align: top;\n",
       "    }\n",
       "\n",
       "    .dataframe thead th {\n",
       "        text-align: right;\n",
       "    }\n",
       "</style>\n",
       "<table border=\"1\" class=\"dataframe\">\n",
       "  <thead>\n",
       "    <tr style=\"text-align: right;\">\n",
       "      <th></th>\n",
       "      <th>Data</th>\n",
       "      <th>Imputation Type</th>\n",
       "      <th>MAE</th>\n",
       "      <th>MSE</th>\n",
       "      <th>R2</th>\n",
       "    </tr>\n",
       "  </thead>\n",
       "  <tbody>\n",
       "    <tr>\n",
       "      <th>0</th>\n",
       "      <td>25% Imputed</td>\n",
       "      <td>MNAR</td>\n",
       "      <td>0.769174</td>\n",
       "      <td>0.996447</td>\n",
       "      <td>0.252773</td>\n",
       "    </tr>\n",
       "  </tbody>\n",
       "</table>\n",
       "</div>"
      ],
      "text/plain": [
       "          Data Imputation Type       MAE       MSE        R2\n",
       "0  25% Imputed            MNAR  0.769174  0.996447  0.252773"
      ]
     },
     "execution_count": 309,
     "metadata": {},
     "output_type": "execute_result"
    }
   ],
   "source": [
    "df_MNAR25 = LR_pipeline(mnardf,\"25% Imputed\", \"MNAR\")\n",
    "df = df.append(df_MNAR25)\n",
    "df_MNAR25"
   ]
  },
  {
   "cell_type": "markdown",
   "metadata": {},
   "source": [
    "MAE is slightly worse than our baseline model, while MSE and R2 have a difference > .1 compared to our baseline model. "
   ]
  },
  {
   "cell_type": "markdown",
   "metadata": {},
   "source": [
    "## Conclusion"
   ]
  },
  {
   "cell_type": "markdown",
   "metadata": {},
   "source": [
    "Below, we add the difference of the MAE, MSE and R2 compared to the original, non-imputed dataset to the results dataframe. "
   ]
  },
  {
   "cell_type": "code",
   "execution_count": 310,
   "metadata": {},
   "outputs": [],
   "source": [
    "df['MAE Difference'] = df['MAE'] - df.iloc[[0]]['MAE'].values[0]\n",
    "df['MSE Difference'] = df['MSE'] - df.iloc[[0]]['MSE'].values[0]\n",
    "df['R2 Difference'] = df['R2'] - df.iloc[[0]]['R2'].values[0]"
   ]
  },
  {
   "cell_type": "markdown",
   "metadata": {},
   "source": [
    "Below, we have the results of the linear regression model after every imputation we did, as well as the difference in the results compared to the baseline. Here's some notes of what's in the result dataframe: \n",
    "- Our baseline model did the best in terms of MAE, MSE and R2 compared to all of the imputations. The MAE got worse the more data was imputed, for each imputation type. \n",
    "- MSE got worse as the imputed percentage increased for MAR, but not MCAR. 33% and 50% had a smaller MSE and higher R2 than the 20% imputed. MSE is larger than MAE when there are larger errors. The smaller MSE for larger amounts of imputed data is likely the result of more large errors in the 20% imputed model than the 33% and 50% model. More data imputed using the mean would cause the model to be more likely to predict the mean of MedInc, rather than trying to predict more extreme values. \n",
    "- MCAR and MAR had similar MAE for 10%, 20% and 30% imputed, but MAR had a smaller MSE and R2 for similar amounts of imputed data. MNAR performed significantly worse in terms of MAE, but performed similar to MCAR for similiar amounts of imputed data in terms of MSE and R2. This implies that the MNAR imputation had a large amount of errors that float around .8 or .9, and don't have too many huge errors. \n",
    "- In general, having fewer imputed NA's results in a better model, but there isn't a huge performance difference: most MAE are within 10% of the original data type. \n",
    "- The worst performing model in terms of MAE was the MNAR at 25% imputed. Considering we imputed 50% of MCAR data, it seems that the type of data that is missing does have an impact on the performance of the model.\n",
    "- We're surprised that having 50% of a variable randomly set as the mean increases the MSE by less than 10%. We expected that to be much higher."
   ]
  },
  {
   "cell_type": "code",
   "execution_count": 311,
   "metadata": {},
   "outputs": [
    {
     "data": {
      "text/html": [
       "<div>\n",
       "<style scoped>\n",
       "    .dataframe tbody tr th:only-of-type {\n",
       "        vertical-align: middle;\n",
       "    }\n",
       "\n",
       "    .dataframe tbody tr th {\n",
       "        vertical-align: top;\n",
       "    }\n",
       "\n",
       "    .dataframe thead th {\n",
       "        text-align: right;\n",
       "    }\n",
       "</style>\n",
       "<table border=\"1\" class=\"dataframe\">\n",
       "  <thead>\n",
       "    <tr style=\"text-align: right;\">\n",
       "      <th></th>\n",
       "      <th>Data</th>\n",
       "      <th>Imputation Type</th>\n",
       "      <th>MAE</th>\n",
       "      <th>MSE</th>\n",
       "      <th>R2</th>\n",
       "      <th>MAE Difference</th>\n",
       "      <th>MSE Difference</th>\n",
       "      <th>R2 Difference</th>\n",
       "    </tr>\n",
       "  </thead>\n",
       "  <tbody>\n",
       "    <tr>\n",
       "      <th>0</th>\n",
       "      <td>Original</td>\n",
       "      <td>None</td>\n",
       "      <td>0.684403</td>\n",
       "      <td>0.824646</td>\n",
       "      <td>0.381605</td>\n",
       "      <td>0.000000</td>\n",
       "      <td>0.000000</td>\n",
       "      <td>0.000000</td>\n",
       "    </tr>\n",
       "    <tr>\n",
       "      <th>0</th>\n",
       "      <td>1% Imputed</td>\n",
       "      <td>MCAR</td>\n",
       "      <td>0.685918</td>\n",
       "      <td>0.828244</td>\n",
       "      <td>0.378908</td>\n",
       "      <td>0.001515</td>\n",
       "      <td>0.003598</td>\n",
       "      <td>-0.002698</td>\n",
       "    </tr>\n",
       "    <tr>\n",
       "      <th>0</th>\n",
       "      <td>5% Imputed</td>\n",
       "      <td>MCAR</td>\n",
       "      <td>0.694373</td>\n",
       "      <td>0.857249</td>\n",
       "      <td>0.357157</td>\n",
       "      <td>0.009969</td>\n",
       "      <td>0.032603</td>\n",
       "      <td>-0.024449</td>\n",
       "    </tr>\n",
       "    <tr>\n",
       "      <th>0</th>\n",
       "      <td>10% Imputed</td>\n",
       "      <td>MCAR</td>\n",
       "      <td>0.708642</td>\n",
       "      <td>0.895135</td>\n",
       "      <td>0.328747</td>\n",
       "      <td>0.024238</td>\n",
       "      <td>0.070488</td>\n",
       "      <td>-0.052859</td>\n",
       "    </tr>\n",
       "    <tr>\n",
       "      <th>0</th>\n",
       "      <td>20% Imputed</td>\n",
       "      <td>MCAR</td>\n",
       "      <td>0.722006</td>\n",
       "      <td>0.998445</td>\n",
       "      <td>0.251276</td>\n",
       "      <td>0.037602</td>\n",
       "      <td>0.173798</td>\n",
       "      <td>-0.130330</td>\n",
       "    </tr>\n",
       "    <tr>\n",
       "      <th>0</th>\n",
       "      <td>33% Imputed</td>\n",
       "      <td>MCAR</td>\n",
       "      <td>0.733787</td>\n",
       "      <td>0.997848</td>\n",
       "      <td>0.251723</td>\n",
       "      <td>0.049384</td>\n",
       "      <td>0.173202</td>\n",
       "      <td>-0.129882</td>\n",
       "    </tr>\n",
       "    <tr>\n",
       "      <th>0</th>\n",
       "      <td>50% Imputed</td>\n",
       "      <td>MCAR</td>\n",
       "      <td>0.750547</td>\n",
       "      <td>0.971963</td>\n",
       "      <td>0.271134</td>\n",
       "      <td>0.066144</td>\n",
       "      <td>0.147317</td>\n",
       "      <td>-0.110471</td>\n",
       "    </tr>\n",
       "    <tr>\n",
       "      <th>0</th>\n",
       "      <td>10% Imputed</td>\n",
       "      <td>MAR</td>\n",
       "      <td>0.701955</td>\n",
       "      <td>0.860282</td>\n",
       "      <td>0.354882</td>\n",
       "      <td>0.017551</td>\n",
       "      <td>0.035636</td>\n",
       "      <td>-0.026723</td>\n",
       "    </tr>\n",
       "    <tr>\n",
       "      <th>0</th>\n",
       "      <td>20% Imputed</td>\n",
       "      <td>MAR</td>\n",
       "      <td>0.720606</td>\n",
       "      <td>0.901491</td>\n",
       "      <td>0.323980</td>\n",
       "      <td>0.036203</td>\n",
       "      <td>0.076845</td>\n",
       "      <td>-0.057625</td>\n",
       "    </tr>\n",
       "    <tr>\n",
       "      <th>0</th>\n",
       "      <td>30% Imputed</td>\n",
       "      <td>MAR</td>\n",
       "      <td>0.734953</td>\n",
       "      <td>0.925965</td>\n",
       "      <td>0.305627</td>\n",
       "      <td>0.050549</td>\n",
       "      <td>0.101319</td>\n",
       "      <td>-0.075978</td>\n",
       "    </tr>\n",
       "    <tr>\n",
       "      <th>0</th>\n",
       "      <td>25% Imputed</td>\n",
       "      <td>MNAR</td>\n",
       "      <td>0.769174</td>\n",
       "      <td>0.996447</td>\n",
       "      <td>0.252773</td>\n",
       "      <td>0.084771</td>\n",
       "      <td>0.171801</td>\n",
       "      <td>-0.128832</td>\n",
       "    </tr>\n",
       "  </tbody>\n",
       "</table>\n",
       "</div>"
      ],
      "text/plain": [
       "          Data Imputation Type       MAE       MSE        R2  MAE Difference  \\\n",
       "0     Original            None  0.684403  0.824646  0.381605        0.000000   \n",
       "0   1% Imputed            MCAR  0.685918  0.828244  0.378908        0.001515   \n",
       "0   5% Imputed            MCAR  0.694373  0.857249  0.357157        0.009969   \n",
       "0  10% Imputed            MCAR  0.708642  0.895135  0.328747        0.024238   \n",
       "0  20% Imputed            MCAR  0.722006  0.998445  0.251276        0.037602   \n",
       "0  33% Imputed            MCAR  0.733787  0.997848  0.251723        0.049384   \n",
       "0  50% Imputed            MCAR  0.750547  0.971963  0.271134        0.066144   \n",
       "0  10% Imputed             MAR  0.701955  0.860282  0.354882        0.017551   \n",
       "0  20% Imputed             MAR  0.720606  0.901491  0.323980        0.036203   \n",
       "0  30% Imputed             MAR  0.734953  0.925965  0.305627        0.050549   \n",
       "0  25% Imputed            MNAR  0.769174  0.996447  0.252773        0.084771   \n",
       "\n",
       "   MSE Difference  R2 Difference  \n",
       "0        0.000000       0.000000  \n",
       "0        0.003598      -0.002698  \n",
       "0        0.032603      -0.024449  \n",
       "0        0.070488      -0.052859  \n",
       "0        0.173798      -0.130330  \n",
       "0        0.173202      -0.129882  \n",
       "0        0.147317      -0.110471  \n",
       "0        0.035636      -0.026723  \n",
       "0        0.076845      -0.057625  \n",
       "0        0.101319      -0.075978  \n",
       "0        0.171801      -0.128832  "
      ]
     },
     "execution_count": 311,
     "metadata": {},
     "output_type": "execute_result"
    }
   ],
   "source": [
    "df"
   ]
  },
  {
   "cell_type": "markdown",
   "metadata": {},
   "source": [
    "Often, having a significant amount of a variable imputed is seen as an issue. We used the simplest of imputation strategies, setting NAs equal to the mean, and our results weren't too far off from the results of the baseline model. The type of missing data does have an affect on the results of the model, with MNAR being the worst type of data to be missing, and MAR and MCAR seeming to be fairly similar. Moving forward, we recommend trying different imputation strategies to see if it is possible to improve on these results using KNN, a regression based imputer, or using the median instead of the mean. "
   ]
  }
 ],
 "metadata": {
  "kernelspec": {
   "display_name": "Python 3",
   "language": "python",
   "name": "python3"
  },
  "language_info": {
   "codemirror_mode": {
    "name": "ipython",
    "version": 3
   },
   "file_extension": ".py",
   "mimetype": "text/x-python",
   "name": "python",
   "nbconvert_exporter": "python",
   "pygments_lexer": "ipython3",
   "version": "3.7.7"
  }
 },
 "nbformat": 4,
 "nbformat_minor": 4
}
