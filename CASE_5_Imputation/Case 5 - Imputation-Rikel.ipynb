{
 "cells": [
  {
   "cell_type": "code",
   "execution_count": 61,
   "metadata": {},
   "outputs": [
    {
     "ename": "ModuleNotFoundError",
     "evalue": "No module named 'ml_metrics'",
     "output_type": "error",
     "traceback": [
      "\u001b[1;31m---------------------------------------------------------------------------\u001b[0m",
      "\u001b[1;31mModuleNotFoundError\u001b[0m                       Traceback (most recent call last)",
      "\u001b[1;32m<ipython-input-61-b9138a8a3016>\u001b[0m in \u001b[0;36m<module>\u001b[1;34m\u001b[0m\n\u001b[0;32m      8\u001b[0m \u001b[1;32mfrom\u001b[0m \u001b[0msklearn\u001b[0m\u001b[1;33m.\u001b[0m\u001b[0mmodel_selection\u001b[0m \u001b[1;32mimport\u001b[0m \u001b[0mtrain_test_split\u001b[0m\u001b[1;33m\u001b[0m\u001b[1;33m\u001b[0m\u001b[0m\n\u001b[0;32m      9\u001b[0m \u001b[1;32mfrom\u001b[0m \u001b[0msklearn\u001b[0m\u001b[1;33m.\u001b[0m\u001b[0mmetrics\u001b[0m \u001b[1;32mimport\u001b[0m \u001b[0mmean_squared_error\u001b[0m\u001b[1;33m,\u001b[0m \u001b[0mr2_score\u001b[0m\u001b[1;33m,\u001b[0m \u001b[0mmean_absolute_error\u001b[0m\u001b[1;33m\u001b[0m\u001b[1;33m\u001b[0m\u001b[0m\n\u001b[1;32m---> 10\u001b[1;33m \u001b[1;32mfrom\u001b[0m \u001b[0mml_metrics\u001b[0m \u001b[1;32mimport\u001b[0m \u001b[0mrmse\u001b[0m\u001b[1;33m\u001b[0m\u001b[1;33m\u001b[0m\u001b[0m\n\u001b[0m",
      "\u001b[1;31mModuleNotFoundError\u001b[0m: No module named 'ml_metrics'"
     ]
    }
   ],
   "source": [
    "import pandas as pd\n",
    "import numpy as np\n",
    "from sklearn.linear_model import LinearRegression\n",
    "from sklearn.metrics import mean_squared_error, r2_score, mean_absolute_error\n",
    "import matplotlib.pyplot as plt\n",
    "from sklearn import datasets\n",
    "import random\n",
    "from sklearn.model_selection import train_test_split\n",
    "from sklearn.metrics import mean_squared_error, r2_score, mean_absolute_error"
   ]
  },
  {
   "cell_type": "markdown",
   "metadata": {},
   "source": [
    "# Case 5: Imputation"
   ]
  },
  {
   "cell_type": "markdown",
   "metadata": {},
   "source": [
    "Andrew Larsen  \n",
    "Matthew Chinchilla  \n",
    "Rikel Djoko  "
   ]
  },
  {
   "cell_type": "markdown",
   "metadata": {},
   "source": [
    "## Baseline Model Development"
   ]
  },
  {
   "cell_type": "code",
   "execution_count": 12,
   "metadata": {},
   "outputs": [],
   "source": [
    "# Baseline Lin Reg Model Here\n",
    "california = datasets.fetch_california_housing()\n",
    "cal = pd.DataFrame(california.data)\n",
    "cal.columns = california.feature_names\n",
    "cal['MedInc'] = california.target"
   ]
  },
  {
   "cell_type": "code",
   "execution_count": 13,
   "metadata": {},
   "outputs": [
    {
     "data": {
      "text/html": [
       "<div>\n",
       "<style scoped>\n",
       "    .dataframe tbody tr th:only-of-type {\n",
       "        vertical-align: middle;\n",
       "    }\n",
       "\n",
       "    .dataframe tbody tr th {\n",
       "        vertical-align: top;\n",
       "    }\n",
       "\n",
       "    .dataframe thead th {\n",
       "        text-align: right;\n",
       "    }\n",
       "</style>\n",
       "<table border=\"1\" class=\"dataframe\">\n",
       "  <thead>\n",
       "    <tr style=\"text-align: right;\">\n",
       "      <th></th>\n",
       "      <th>MedInc</th>\n",
       "      <th>HouseAge</th>\n",
       "      <th>AveRooms</th>\n",
       "      <th>AveBedrms</th>\n",
       "      <th>Population</th>\n",
       "      <th>AveOccup</th>\n",
       "      <th>Latitude</th>\n",
       "      <th>Longitude</th>\n",
       "    </tr>\n",
       "  </thead>\n",
       "  <tbody>\n",
       "    <tr>\n",
       "      <th>0</th>\n",
       "      <td>4.526</td>\n",
       "      <td>41.0</td>\n",
       "      <td>6.984127</td>\n",
       "      <td>1.023810</td>\n",
       "      <td>322.0</td>\n",
       "      <td>2.555556</td>\n",
       "      <td>37.88</td>\n",
       "      <td>-122.23</td>\n",
       "    </tr>\n",
       "    <tr>\n",
       "      <th>1</th>\n",
       "      <td>3.585</td>\n",
       "      <td>21.0</td>\n",
       "      <td>6.238137</td>\n",
       "      <td>0.971880</td>\n",
       "      <td>2401.0</td>\n",
       "      <td>2.109842</td>\n",
       "      <td>37.86</td>\n",
       "      <td>-122.22</td>\n",
       "    </tr>\n",
       "    <tr>\n",
       "      <th>2</th>\n",
       "      <td>3.521</td>\n",
       "      <td>52.0</td>\n",
       "      <td>8.288136</td>\n",
       "      <td>1.073446</td>\n",
       "      <td>496.0</td>\n",
       "      <td>2.802260</td>\n",
       "      <td>37.85</td>\n",
       "      <td>-122.24</td>\n",
       "    </tr>\n",
       "    <tr>\n",
       "      <th>3</th>\n",
       "      <td>3.413</td>\n",
       "      <td>52.0</td>\n",
       "      <td>5.817352</td>\n",
       "      <td>1.073059</td>\n",
       "      <td>558.0</td>\n",
       "      <td>2.547945</td>\n",
       "      <td>37.85</td>\n",
       "      <td>-122.25</td>\n",
       "    </tr>\n",
       "    <tr>\n",
       "      <th>4</th>\n",
       "      <td>3.422</td>\n",
       "      <td>52.0</td>\n",
       "      <td>6.281853</td>\n",
       "      <td>1.081081</td>\n",
       "      <td>565.0</td>\n",
       "      <td>2.181467</td>\n",
       "      <td>37.85</td>\n",
       "      <td>-122.25</td>\n",
       "    </tr>\n",
       "  </tbody>\n",
       "</table>\n",
       "</div>"
      ],
      "text/plain": [
       "   MedInc  HouseAge  AveRooms  AveBedrms  Population  AveOccup  Latitude  \\\n",
       "0   4.526      41.0  6.984127   1.023810       322.0  2.555556     37.88   \n",
       "1   3.585      21.0  6.238137   0.971880      2401.0  2.109842     37.86   \n",
       "2   3.521      52.0  8.288136   1.073446       496.0  2.802260     37.85   \n",
       "3   3.413      52.0  5.817352   1.073059       558.0  2.547945     37.85   \n",
       "4   3.422      52.0  6.281853   1.081081       565.0  2.181467     37.85   \n",
       "\n",
       "   Longitude  \n",
       "0    -122.23  \n",
       "1    -122.22  \n",
       "2    -122.24  \n",
       "3    -122.25  \n",
       "4    -122.25  "
      ]
     },
     "execution_count": 13,
     "metadata": {},
     "output_type": "execute_result"
    }
   ],
   "source": [
    "cal.head()"
   ]
  },
  {
   "cell_type": "code",
   "execution_count": 32,
   "metadata": {},
   "outputs": [
    {
     "data": {
      "text/plain": [
       "MedInc        0\n",
       "HouseAge      0\n",
       "AveRooms      0\n",
       "AveBedrms     0\n",
       "Population    0\n",
       "AveOccup      0\n",
       "Latitude      0\n",
       "Longitude     0\n",
       "dtype: int64"
      ]
     },
     "execution_count": 32,
     "metadata": {},
     "output_type": "execute_result"
    }
   ],
   "source": [
    "#check for NA\n",
    "cal.isna().sum()"
   ]
  },
  {
   "cell_type": "code",
   "execution_count": 35,
   "metadata": {},
   "outputs": [],
   "source": [
    "#define variable and  split data\n",
    "cols = ['HouseAge','AveRooms','AveBedrms','Population','AveOccup','Latitude','Longitude']\n",
    "X = cal[cols]\n",
    "y = cal[\"MedInc\"]\n",
    "#split the data\n",
    "train_X, test_X, train_y, test_y = train_test_split(X, y, test_size = 0.4, random_state = 0)"
   ]
  },
  {
   "cell_type": "code",
   "execution_count": 55,
   "metadata": {},
   "outputs": [
    {
     "data": {
      "text/html": [
       "<div>\n",
       "<style scoped>\n",
       "    .dataframe tbody tr th:only-of-type {\n",
       "        vertical-align: middle;\n",
       "    }\n",
       "\n",
       "    .dataframe tbody tr th {\n",
       "        vertical-align: top;\n",
       "    }\n",
       "\n",
       "    .dataframe thead th {\n",
       "        text-align: right;\n",
       "    }\n",
       "</style>\n",
       "<table border=\"1\" class=\"dataframe\">\n",
       "  <thead>\n",
       "    <tr style=\"text-align: right;\">\n",
       "      <th></th>\n",
       "      <th>coef</th>\n",
       "    </tr>\n",
       "  </thead>\n",
       "  <tbody>\n",
       "    <tr>\n",
       "      <th>HouseAge</th>\n",
       "      <td>0.005633</td>\n",
       "    </tr>\n",
       "    <tr>\n",
       "      <th>AveRooms</th>\n",
       "      <td>0.363187</td>\n",
       "    </tr>\n",
       "    <tr>\n",
       "      <th>AveBedrms</th>\n",
       "      <td>-1.348481</td>\n",
       "    </tr>\n",
       "    <tr>\n",
       "      <th>Population</th>\n",
       "      <td>-0.000011</td>\n",
       "    </tr>\n",
       "    <tr>\n",
       "      <th>AveOccup</th>\n",
       "      <td>-0.003401</td>\n",
       "    </tr>\n",
       "    <tr>\n",
       "      <th>Latitude</th>\n",
       "      <td>-0.742928</td>\n",
       "    </tr>\n",
       "    <tr>\n",
       "      <th>Longitude</th>\n",
       "      <td>-0.738761</td>\n",
       "    </tr>\n",
       "  </tbody>\n",
       "</table>\n",
       "</div>"
      ],
      "text/plain": [
       "                coef\n",
       "HouseAge    0.005633\n",
       "AveRooms    0.363187\n",
       "AveBedrms  -1.348481\n",
       "Population -0.000011\n",
       "AveOccup   -0.003401\n",
       "Latitude   -0.742928\n",
       "Longitude  -0.738761"
      ]
     },
     "execution_count": 55,
     "metadata": {},
     "output_type": "execute_result"
    }
   ],
   "source": [
    "#train model using linear regression\n",
    "lin_model = LinearRegression()\n",
    "lin_model.fit(train_X, train_y)\n",
    "coef_df = pd.DataFrame(lin_model.coef_, cols, columns = [\"coef\"])\n",
    "coef_df"
   ]
  },
  {
   "cell_type": "code",
   "execution_count": 43,
   "metadata": {},
   "outputs": [],
   "source": [
    "##predict\n",
    "y_predict = lin_model.predict(test_X)"
   ]
  },
  {
   "cell_type": "code",
   "execution_count": 63,
   "metadata": {},
   "outputs": [
    {
     "name": "stdout",
     "output_type": "stream",
     "text": [
      "MAE: 0.684\n",
      "MSE:  0.825\n",
      "R2:  0.382\n"
     ]
    }
   ],
   "source": [
    "##perfromance evaluation using   R  square, MSE, MAE, RMSE\n",
    "# r_square = r2_score(test_y, y_predict)\n",
    "\n",
    "orig_mae = mean_absolute_error(test_y, y_predict)\n",
    "orig_mse = mean_squared_error(test_y, y_predict)\n",
    "# orig_rmse_val = rmse(test_y, y_predict)\n",
    "orig_r2 = r2_score(test_y, y_predict)\n",
    "print(\"MAE: %.3f\"%orig_mae)\n",
    "print(\"MSE:  %.3f\"%orig_mse)\n",
    "# print(\"RMSE:  %.3f\"%orig_rmse_val)\n",
    "print(\"R2:  %.3f\"%orig_r2)"
   ]
  },
  {
   "cell_type": "code",
   "execution_count": 65,
   "metadata": {},
   "outputs": [
    {
     "data": {
      "text/html": [
       "<div>\n",
       "<style scoped>\n",
       "    .dataframe tbody tr th:only-of-type {\n",
       "        vertical-align: middle;\n",
       "    }\n",
       "\n",
       "    .dataframe tbody tr th {\n",
       "        vertical-align: top;\n",
       "    }\n",
       "\n",
       "    .dataframe thead th {\n",
       "        text-align: right;\n",
       "    }\n",
       "</style>\n",
       "<table border=\"1\" class=\"dataframe\">\n",
       "  <thead>\n",
       "    <tr style=\"text-align: right;\">\n",
       "      <th></th>\n",
       "      <th>data</th>\n",
       "      <th>imputation</th>\n",
       "      <th>mae</th>\n",
       "      <th>mse</th>\n",
       "      <th>R2</th>\n",
       "      <th>mae_diff</th>\n",
       "      <th>mse_diff</th>\n",
       "      <th>R2_diff</th>\n",
       "    </tr>\n",
       "  </thead>\n",
       "  <tbody>\n",
       "    <tr>\n",
       "      <th>0</th>\n",
       "      <td>original</td>\n",
       "      <td>none</td>\n",
       "      <td>0.684403</td>\n",
       "      <td>0.824646</td>\n",
       "      <td>0.381605</td>\n",
       "      <td>NaN</td>\n",
       "      <td>NaN</td>\n",
       "      <td>NaN</td>\n",
       "    </tr>\n",
       "  </tbody>\n",
       "</table>\n",
       "</div>"
      ],
      "text/plain": [
       "       data imputation       mae       mse        R2  mae_diff  mse_diff  \\\n",
       "0  original       none  0.684403  0.824646  0.381605       NaN       NaN   \n",
       "\n",
       "   R2_diff  \n",
       "0      NaN  "
      ]
     },
     "execution_count": 65,
     "metadata": {},
     "output_type": "execute_result"
    }
   ],
   "source": [
    "perf_frame = pd.DataFrame({'data':'original',\n",
    "                   'imputation':'none',\n",
    "                   'mae': orig_mae, \n",
    "                   'mse': orig_mse, \n",
    "                   'R2':orig_r2,\n",
    "                   'mae_diff':np.nan,\n",
    "                   'mse_diff':np.nan,\n",
    "                   'R2_diff':np.nan}, index=[0])\n",
    "perf_frame"
   ]
  },
  {
   "cell_type": "code",
   "execution_count": 95,
   "metadata": {},
   "outputs": [
    {
     "data": {
      "text/plain": [
       "pandas.core.frame.DataFrame"
      ]
     },
     "execution_count": 95,
     "metadata": {},
     "output_type": "execute_result"
    }
   ],
   "source": [
    "type(cal)"
   ]
  },
  {
   "cell_type": "code",
   "execution_count": 101,
   "metadata": {},
   "outputs": [],
   "source": [
    "def LR_pipeline(df):\n",
    "    \n",
    "    #1 set the test and trainning set X and Y\n",
    "    train_X = df.iloc[train_X_index, 1:]\n",
    "    train_y = df[\"MedInc\"].iloc[train_y_index]\n",
    "    test_X = df.iloc[test_X_index, 1:].dropna()\n",
    "    test_y = df[\"MedInc\"].iloc[test_y_index]\n",
    "    #2  create and fit the model using LR\n",
    "    lin_model = LinearRegression()\n",
    "    lin_model.fit(train_X, train_y)\n",
    "    coef_df = pd.DataFrame(lin_model.coef_, cols, columns = [\"coef\"])\n",
    "    print(coef_df)\n",
    "    #3  predict using \n",
    "    y_predict = lin_model.predict(test_X)\n",
    "    # 4 evaluation and performance\n",
    "    orig_mae = mean_absolute_error(test_y, y_predict)\n",
    "    orig_mse = mean_squared_error(test_y, y_predict)\n",
    "    perf_frame = pd.DataFrame({'data':'original',\n",
    "                   'imputation':'none',\n",
    "                   'mae': orig_mae, \n",
    "                   'mse': orig_mse, \n",
    "                   'R2':orig_r2,\n",
    "                   'mae_diff':np.nan,\n",
    "                   'mse_diff':np.nan,\n",
    "                   'R2_diff':np.nan}, index=[0])\n",
    "    return perf_frame\n",
    "    "
   ]
  },
  {
   "cell_type": "code",
   "execution_count": 103,
   "metadata": {},
   "outputs": [
    {
     "name": "stdout",
     "output_type": "stream",
     "text": [
      "                coef\n",
      "HouseAge    0.005555\n",
      "AveRooms    0.361375\n",
      "AveBedrms  -1.340644\n",
      "Population -0.000011\n",
      "AveOccup   -0.003397\n",
      "Latitude   -0.741965\n",
      "Longitude  -0.738027\n"
     ]
    },
    {
     "data": {
      "text/html": [
       "<div>\n",
       "<style scoped>\n",
       "    .dataframe tbody tr th:only-of-type {\n",
       "        vertical-align: middle;\n",
       "    }\n",
       "\n",
       "    .dataframe tbody tr th {\n",
       "        vertical-align: top;\n",
       "    }\n",
       "\n",
       "    .dataframe thead th {\n",
       "        text-align: right;\n",
       "    }\n",
       "</style>\n",
       "<table border=\"1\" class=\"dataframe\">\n",
       "  <thead>\n",
       "    <tr style=\"text-align: right;\">\n",
       "      <th></th>\n",
       "      <th>data</th>\n",
       "      <th>imputation</th>\n",
       "      <th>mae</th>\n",
       "      <th>mse</th>\n",
       "      <th>R2</th>\n",
       "      <th>mae_diff</th>\n",
       "      <th>mse_diff</th>\n",
       "      <th>R2_diff</th>\n",
       "    </tr>\n",
       "  </thead>\n",
       "  <tbody>\n",
       "    <tr>\n",
       "      <th>0</th>\n",
       "      <td>original</td>\n",
       "      <td>none</td>\n",
       "      <td>0.686196</td>\n",
       "      <td>0.827301</td>\n",
       "      <td>0.379614</td>\n",
       "      <td>NaN</td>\n",
       "      <td>NaN</td>\n",
       "      <td>NaN</td>\n",
       "    </tr>\n",
       "  </tbody>\n",
       "</table>\n",
       "</div>"
      ],
      "text/plain": [
       "       data imputation       mae       mse        R2  mae_diff  mse_diff  \\\n",
       "0  original       none  0.686196  0.827301  0.379614       NaN       NaN   \n",
       "\n",
       "   R2_diff  \n",
       "0      NaN  "
      ]
     },
     "execution_count": 103,
     "metadata": {},
     "output_type": "execute_result"
    }
   ],
   "source": [
    "# Using  PIPELINE TO RUN PREDICTION\n",
    "LR_pipeline(cal)"
   ]
  },
  {
   "cell_type": "markdown",
   "metadata": {},
   "source": [
    "## Missing Completely at Random"
   ]
  },
  {
   "cell_type": "markdown",
   "metadata": {},
   "source": [
    "### mcar .01"
   ]
  },
  {
   "cell_type": "code",
   "execution_count": 84,
   "metadata": {},
   "outputs": [
    {
     "name": "stdout",
     "output_type": "stream",
     "text": [
      "MedInc        0.000000\n",
      "HouseAge      0.000000\n",
      "AveRooms      0.009981\n",
      "AveBedrms     0.000000\n",
      "Population    0.000000\n",
      "AveOccup      0.000000\n",
      "Latitude      0.000000\n",
      "Longitude     0.000000\n",
      "dtype: float64\n"
     ]
    }
   ],
   "source": [
    "california = datasets.fetch_california_housing()\n",
    "cal = pd.DataFrame(california.data)\n",
    "cal.columns = california.feature_names\n",
    "cal['MedInc'] = california.target\n",
    "cal.head()\n",
    "mcardf = cal\n",
    "nidx = round(.01 * len(cal))\n",
    "dropidxs = np.random.choice(len(cal), nidx, replace=False)\n",
    "mcardf.loc[dropidxs, 'AveRooms'] = np.nan\n",
    "print(mcardf.isna().sum() / len(cal))"
   ]
  },
  {
   "cell_type": "code",
   "execution_count": 85,
   "metadata": {},
   "outputs": [
    {
     "name": "stdout",
     "output_type": "stream",
     "text": [
      "MedInc        0.0\n",
      "HouseAge      0.0\n",
      "AveRooms      0.0\n",
      "AveBedrms     0.0\n",
      "Population    0.0\n",
      "AveOccup      0.0\n",
      "Latitude      0.0\n",
      "Longitude     0.0\n",
      "dtype: float64\n"
     ]
    }
   ],
   "source": [
    "mcardf['AveRooms'] = mcardf['AveRooms'].fillna(mcardf['AveRooms'].mean())\n",
    "print(mcardf.isna().sum() / len(cal))"
   ]
  },
  {
   "cell_type": "code",
   "execution_count": 105,
   "metadata": {},
   "outputs": [
    {
     "name": "stdout",
     "output_type": "stream",
     "text": [
      "                coef\n",
      "HouseAge    0.005555\n",
      "AveRooms    0.361375\n",
      "AveBedrms  -1.340644\n",
      "Population -0.000011\n",
      "AveOccup   -0.003397\n",
      "Latitude   -0.741965\n",
      "Longitude  -0.738027\n"
     ]
    },
    {
     "data": {
      "text/html": [
       "<div>\n",
       "<style scoped>\n",
       "    .dataframe tbody tr th:only-of-type {\n",
       "        vertical-align: middle;\n",
       "    }\n",
       "\n",
       "    .dataframe tbody tr th {\n",
       "        vertical-align: top;\n",
       "    }\n",
       "\n",
       "    .dataframe thead th {\n",
       "        text-align: right;\n",
       "    }\n",
       "</style>\n",
       "<table border=\"1\" class=\"dataframe\">\n",
       "  <thead>\n",
       "    <tr style=\"text-align: right;\">\n",
       "      <th></th>\n",
       "      <th>data</th>\n",
       "      <th>imputation</th>\n",
       "      <th>mae</th>\n",
       "      <th>mse</th>\n",
       "      <th>R2</th>\n",
       "      <th>mae_diff</th>\n",
       "      <th>mse_diff</th>\n",
       "      <th>R2_diff</th>\n",
       "    </tr>\n",
       "  </thead>\n",
       "  <tbody>\n",
       "    <tr>\n",
       "      <th>0</th>\n",
       "      <td>original</td>\n",
       "      <td>none</td>\n",
       "      <td>0.686196</td>\n",
       "      <td>0.827301</td>\n",
       "      <td>0.379614</td>\n",
       "      <td>NaN</td>\n",
       "      <td>NaN</td>\n",
       "      <td>NaN</td>\n",
       "    </tr>\n",
       "  </tbody>\n",
       "</table>\n",
       "</div>"
      ],
      "text/plain": [
       "       data imputation       mae       mse        R2  mae_diff  mse_diff  \\\n",
       "0  original       none  0.686196  0.827301  0.379614       NaN       NaN   \n",
       "\n",
       "   R2_diff  \n",
       "0      NaN  "
      ]
     },
     "execution_count": 105,
     "metadata": {},
     "output_type": "execute_result"
    }
   ],
   "source": [
    "# Create Lin Reg Model Here\n",
    "LR_pipeline(mcardf)"
   ]
  },
  {
   "cell_type": "markdown",
   "metadata": {},
   "source": [
    "### mcar .05"
   ]
  },
  {
   "cell_type": "code",
   "execution_count": 106,
   "metadata": {},
   "outputs": [
    {
     "name": "stdout",
     "output_type": "stream",
     "text": [
      "MedInc        0.00\n",
      "HouseAge      0.00\n",
      "AveRooms      0.05\n",
      "AveBedrms     0.00\n",
      "Population    0.00\n",
      "AveOccup      0.00\n",
      "Latitude      0.00\n",
      "Longitude     0.00\n",
      "dtype: float64\n"
     ]
    }
   ],
   "source": [
    "california = datasets.fetch_california_housing()\n",
    "cal = pd.DataFrame(california.data)\n",
    "cal.columns = california.feature_names\n",
    "cal['MedInc'] = california.target\n",
    "cal.head()\n",
    "mcardf = cal\n",
    "nidx = round(.05 * len(cal))\n",
    "dropidxs = np.random.choice(len(cal), nidx, replace=False)\n",
    "mcardf.loc[dropidxs, 'AveRooms'] = np.nan\n",
    "print(mcardf.isna().sum() / len(cal))"
   ]
  },
  {
   "cell_type": "code",
   "execution_count": 107,
   "metadata": {},
   "outputs": [
    {
     "name": "stdout",
     "output_type": "stream",
     "text": [
      "MedInc        0.0\n",
      "HouseAge      0.0\n",
      "AveRooms      0.0\n",
      "AveBedrms     0.0\n",
      "Population    0.0\n",
      "AveOccup      0.0\n",
      "Latitude      0.0\n",
      "Longitude     0.0\n",
      "dtype: float64\n"
     ]
    }
   ],
   "source": [
    "mcardf['AveRooms'] = mcardf['AveRooms'].fillna(mcardf['AveRooms'].mean())\n",
    "print(mcardf.isna().sum() / len(cal))"
   ]
  },
  {
   "cell_type": "code",
   "execution_count": 108,
   "metadata": {},
   "outputs": [
    {
     "name": "stdout",
     "output_type": "stream",
     "text": [
      "                coef\n",
      "HouseAge    0.004653\n",
      "AveRooms    0.343463\n",
      "AveBedrms  -1.241932\n",
      "Population -0.000016\n",
      "AveOccup   -0.003276\n",
      "Latitude   -0.737082\n",
      "Longitude  -0.734595\n"
     ]
    },
    {
     "data": {
      "text/html": [
       "<div>\n",
       "<style scoped>\n",
       "    .dataframe tbody tr th:only-of-type {\n",
       "        vertical-align: middle;\n",
       "    }\n",
       "\n",
       "    .dataframe tbody tr th {\n",
       "        vertical-align: top;\n",
       "    }\n",
       "\n",
       "    .dataframe thead th {\n",
       "        text-align: right;\n",
       "    }\n",
       "</style>\n",
       "<table border=\"1\" class=\"dataframe\">\n",
       "  <thead>\n",
       "    <tr style=\"text-align: right;\">\n",
       "      <th></th>\n",
       "      <th>data</th>\n",
       "      <th>imputation</th>\n",
       "      <th>mae</th>\n",
       "      <th>mse</th>\n",
       "      <th>R2</th>\n",
       "      <th>mae_diff</th>\n",
       "      <th>mse_diff</th>\n",
       "      <th>R2_diff</th>\n",
       "    </tr>\n",
       "  </thead>\n",
       "  <tbody>\n",
       "    <tr>\n",
       "      <th>0</th>\n",
       "      <td>original</td>\n",
       "      <td>none</td>\n",
       "      <td>0.693893</td>\n",
       "      <td>0.856887</td>\n",
       "      <td>0.357428</td>\n",
       "      <td>NaN</td>\n",
       "      <td>NaN</td>\n",
       "      <td>NaN</td>\n",
       "    </tr>\n",
       "  </tbody>\n",
       "</table>\n",
       "</div>"
      ],
      "text/plain": [
       "       data imputation       mae       mse        R2  mae_diff  mse_diff  \\\n",
       "0  original       none  0.693893  0.856887  0.357428       NaN       NaN   \n",
       "\n",
       "   R2_diff  \n",
       "0      NaN  "
      ]
     },
     "execution_count": 108,
     "metadata": {},
     "output_type": "execute_result"
    }
   ],
   "source": [
    "# Create Lin Reg Model Here\n",
    "LR_pipeline(mcardf)"
   ]
  },
  {
   "cell_type": "markdown",
   "metadata": {},
   "source": [
    "### mcar .1"
   ]
  },
  {
   "cell_type": "code",
   "execution_count": 109,
   "metadata": {},
   "outputs": [
    {
     "name": "stdout",
     "output_type": "stream",
     "text": [
      "MedInc        0.0\n",
      "HouseAge      0.0\n",
      "AveRooms      0.1\n",
      "AveBedrms     0.0\n",
      "Population    0.0\n",
      "AveOccup      0.0\n",
      "Latitude      0.0\n",
      "Longitude     0.0\n",
      "dtype: float64\n"
     ]
    }
   ],
   "source": [
    "california = datasets.fetch_california_housing()\n",
    "cal = pd.DataFrame(california.data)\n",
    "cal.columns = california.feature_names\n",
    "cal['MedInc'] = california.target\n",
    "cal.head()\n",
    "mcardf = cal\n",
    "nidx = round(.1 * len(cal))\n",
    "dropidxs = np.random.choice(len(cal), nidx, replace=False)\n",
    "mcardf.loc[dropidxs, 'AveRooms'] = np.nan\n",
    "print(mcardf.isna().sum() / len(cal))"
   ]
  },
  {
   "cell_type": "code",
   "execution_count": 110,
   "metadata": {},
   "outputs": [
    {
     "name": "stdout",
     "output_type": "stream",
     "text": [
      "MedInc        0.0\n",
      "HouseAge      0.0\n",
      "AveRooms      0.0\n",
      "AveBedrms     0.0\n",
      "Population    0.0\n",
      "AveOccup      0.0\n",
      "Latitude      0.0\n",
      "Longitude     0.0\n",
      "dtype: float64\n"
     ]
    }
   ],
   "source": [
    "mcardf['AveRooms'] = mcardf['AveRooms'].fillna(mcardf['AveRooms'].mean())\n",
    "print(mcardf.isna().sum() / len(cal))"
   ]
  },
  {
   "cell_type": "code",
   "execution_count": 111,
   "metadata": {},
   "outputs": [
    {
     "name": "stdout",
     "output_type": "stream",
     "text": [
      "                coef\n",
      "HouseAge    0.003931\n",
      "AveRooms    0.308138\n",
      "AveBedrms  -1.041675\n",
      "Population -0.000019\n",
      "AveOccup   -0.003191\n",
      "Latitude   -0.734739\n",
      "Longitude  -0.735041\n"
     ]
    },
    {
     "data": {
      "text/html": [
       "<div>\n",
       "<style scoped>\n",
       "    .dataframe tbody tr th:only-of-type {\n",
       "        vertical-align: middle;\n",
       "    }\n",
       "\n",
       "    .dataframe tbody tr th {\n",
       "        vertical-align: top;\n",
       "    }\n",
       "\n",
       "    .dataframe thead th {\n",
       "        text-align: right;\n",
       "    }\n",
       "</style>\n",
       "<table border=\"1\" class=\"dataframe\">\n",
       "  <thead>\n",
       "    <tr style=\"text-align: right;\">\n",
       "      <th></th>\n",
       "      <th>data</th>\n",
       "      <th>imputation</th>\n",
       "      <th>mae</th>\n",
       "      <th>mse</th>\n",
       "      <th>R2</th>\n",
       "      <th>mae_diff</th>\n",
       "      <th>mse_diff</th>\n",
       "      <th>R2_diff</th>\n",
       "    </tr>\n",
       "  </thead>\n",
       "  <tbody>\n",
       "    <tr>\n",
       "      <th>0</th>\n",
       "      <td>original</td>\n",
       "      <td>none</td>\n",
       "      <td>0.700859</td>\n",
       "      <td>0.894185</td>\n",
       "      <td>0.329458</td>\n",
       "      <td>NaN</td>\n",
       "      <td>NaN</td>\n",
       "      <td>NaN</td>\n",
       "    </tr>\n",
       "  </tbody>\n",
       "</table>\n",
       "</div>"
      ],
      "text/plain": [
       "       data imputation       mae       mse        R2  mae_diff  mse_diff  \\\n",
       "0  original       none  0.700859  0.894185  0.329458       NaN       NaN   \n",
       "\n",
       "   R2_diff  \n",
       "0      NaN  "
      ]
     },
     "execution_count": 111,
     "metadata": {},
     "output_type": "execute_result"
    }
   ],
   "source": [
    "# Create Lin Reg Model Here\n",
    "LR_pipeline(mcardf)"
   ]
  },
  {
   "cell_type": "markdown",
   "metadata": {},
   "source": [
    "### mcar .2"
   ]
  },
  {
   "cell_type": "code",
   "execution_count": 112,
   "metadata": {},
   "outputs": [
    {
     "name": "stdout",
     "output_type": "stream",
     "text": [
      "MedInc        0.0\n",
      "HouseAge      0.0\n",
      "AveRooms      0.2\n",
      "AveBedrms     0.0\n",
      "Population    0.0\n",
      "AveOccup      0.0\n",
      "Latitude      0.0\n",
      "Longitude     0.0\n",
      "dtype: float64\n"
     ]
    }
   ],
   "source": [
    "california = datasets.fetch_california_housing()\n",
    "cal = pd.DataFrame(california.data)\n",
    "cal.columns = california.feature_names\n",
    "cal['MedInc'] = california.target\n",
    "cal.head()\n",
    "mcardf = cal\n",
    "nidx = round(.2 * len(cal))\n",
    "dropidxs = np.random.choice(len(cal), nidx, replace=False)\n",
    "mcardf.loc[dropidxs, 'AveRooms'] = np.nan\n",
    "print(mcardf.isna().sum() / len(cal))"
   ]
  },
  {
   "cell_type": "code",
   "execution_count": 113,
   "metadata": {},
   "outputs": [
    {
     "name": "stdout",
     "output_type": "stream",
     "text": [
      "MedInc        0.0\n",
      "HouseAge      0.0\n",
      "AveRooms      0.0\n",
      "AveBedrms     0.0\n",
      "Population    0.0\n",
      "AveOccup      0.0\n",
      "Latitude      0.0\n",
      "Longitude     0.0\n",
      "dtype: float64\n"
     ]
    }
   ],
   "source": [
    "mcardf['AveRooms'] = mcardf['AveRooms'].fillna(mcardf['AveRooms'].mean())\n",
    "print(mcardf.isna().sum() / len(cal))"
   ]
  },
  {
   "cell_type": "code",
   "execution_count": 114,
   "metadata": {},
   "outputs": [
    {
     "name": "stdout",
     "output_type": "stream",
     "text": [
      "                coef\n",
      "HouseAge    0.002263\n",
      "AveRooms    0.261029\n",
      "AveBedrms  -0.766870\n",
      "Population -0.000025\n",
      "AveOccup   -0.002318\n",
      "Latitude   -0.728145\n",
      "Longitude  -0.731194\n"
     ]
    },
    {
     "data": {
      "text/html": [
       "<div>\n",
       "<style scoped>\n",
       "    .dataframe tbody tr th:only-of-type {\n",
       "        vertical-align: middle;\n",
       "    }\n",
       "\n",
       "    .dataframe tbody tr th {\n",
       "        vertical-align: top;\n",
       "    }\n",
       "\n",
       "    .dataframe thead th {\n",
       "        text-align: right;\n",
       "    }\n",
       "</style>\n",
       "<table border=\"1\" class=\"dataframe\">\n",
       "  <thead>\n",
       "    <tr style=\"text-align: right;\">\n",
       "      <th></th>\n",
       "      <th>data</th>\n",
       "      <th>imputation</th>\n",
       "      <th>mae</th>\n",
       "      <th>mse</th>\n",
       "      <th>R2</th>\n",
       "      <th>mae_diff</th>\n",
       "      <th>mse_diff</th>\n",
       "      <th>R2_diff</th>\n",
       "    </tr>\n",
       "  </thead>\n",
       "  <tbody>\n",
       "    <tr>\n",
       "      <th>0</th>\n",
       "      <td>original</td>\n",
       "      <td>none</td>\n",
       "      <td>0.713694</td>\n",
       "      <td>0.894149</td>\n",
       "      <td>0.329486</td>\n",
       "      <td>NaN</td>\n",
       "      <td>NaN</td>\n",
       "      <td>NaN</td>\n",
       "    </tr>\n",
       "  </tbody>\n",
       "</table>\n",
       "</div>"
      ],
      "text/plain": [
       "       data imputation       mae       mse        R2  mae_diff  mse_diff  \\\n",
       "0  original       none  0.713694  0.894149  0.329486       NaN       NaN   \n",
       "\n",
       "   R2_diff  \n",
       "0      NaN  "
      ]
     },
     "execution_count": 114,
     "metadata": {},
     "output_type": "execute_result"
    }
   ],
   "source": [
    "# Create Lin Reg Model Here\n",
    "LR_pipeline(mcardf)"
   ]
  },
  {
   "cell_type": "markdown",
   "metadata": {},
   "source": [
    "### mcar .33"
   ]
  },
  {
   "cell_type": "code",
   "execution_count": 115,
   "metadata": {},
   "outputs": [
    {
     "name": "stdout",
     "output_type": "stream",
     "text": [
      "MedInc        0.00000\n",
      "HouseAge      0.00000\n",
      "AveRooms      0.32999\n",
      "AveBedrms     0.00000\n",
      "Population    0.00000\n",
      "AveOccup      0.00000\n",
      "Latitude      0.00000\n",
      "Longitude     0.00000\n",
      "dtype: float64\n"
     ]
    }
   ],
   "source": [
    "california = datasets.fetch_california_housing()\n",
    "cal = pd.DataFrame(california.data)\n",
    "cal.columns = california.feature_names\n",
    "cal['MedInc'] = california.target\n",
    "cal.head()\n",
    "mcardf = cal\n",
    "nidx = round(.33 * len(cal))\n",
    "dropidxs = np.random.choice(len(cal), nidx, replace=False)\n",
    "mcardf.loc[dropidxs, 'AveRooms'] = np.nan\n",
    "print(mcardf.isna().sum() / len(cal))"
   ]
  },
  {
   "cell_type": "code",
   "execution_count": 116,
   "metadata": {},
   "outputs": [
    {
     "name": "stdout",
     "output_type": "stream",
     "text": [
      "MedInc        0.0\n",
      "HouseAge      0.0\n",
      "AveRooms      0.0\n",
      "AveBedrms     0.0\n",
      "Population    0.0\n",
      "AveOccup      0.0\n",
      "Latitude      0.0\n",
      "Longitude     0.0\n",
      "dtype: float64\n"
     ]
    }
   ],
   "source": [
    "mcardf['AveRooms'] = mcardf['AveRooms'].fillna(mcardf['AveRooms'].mean())\n",
    "print(mcardf.isna().sum() / len(cal))"
   ]
  },
  {
   "cell_type": "code",
   "execution_count": 118,
   "metadata": {},
   "outputs": [
    {
     "name": "stdout",
     "output_type": "stream",
     "text": [
      "                coef\n",
      "HouseAge    0.001478\n",
      "AveRooms    0.252777\n",
      "AveBedrms  -0.778968\n",
      "Population -0.000031\n",
      "AveOccup   -0.002800\n",
      "Latitude   -0.716228\n",
      "Longitude  -0.719967\n"
     ]
    },
    {
     "data": {
      "text/html": [
       "<div>\n",
       "<style scoped>\n",
       "    .dataframe tbody tr th:only-of-type {\n",
       "        vertical-align: middle;\n",
       "    }\n",
       "\n",
       "    .dataframe tbody tr th {\n",
       "        vertical-align: top;\n",
       "    }\n",
       "\n",
       "    .dataframe thead th {\n",
       "        text-align: right;\n",
       "    }\n",
       "</style>\n",
       "<table border=\"1\" class=\"dataframe\">\n",
       "  <thead>\n",
       "    <tr style=\"text-align: right;\">\n",
       "      <th></th>\n",
       "      <th>data</th>\n",
       "      <th>imputation</th>\n",
       "      <th>mae</th>\n",
       "      <th>mse</th>\n",
       "      <th>R2</th>\n",
       "      <th>mae_diff</th>\n",
       "      <th>mse_diff</th>\n",
       "      <th>R2_diff</th>\n",
       "    </tr>\n",
       "  </thead>\n",
       "  <tbody>\n",
       "    <tr>\n",
       "      <th>0</th>\n",
       "      <td>original</td>\n",
       "      <td>none</td>\n",
       "      <td>0.731284</td>\n",
       "      <td>0.947026</td>\n",
       "      <td>0.289834</td>\n",
       "      <td>NaN</td>\n",
       "      <td>NaN</td>\n",
       "      <td>NaN</td>\n",
       "    </tr>\n",
       "  </tbody>\n",
       "</table>\n",
       "</div>"
      ],
      "text/plain": [
       "       data imputation       mae       mse        R2  mae_diff  mse_diff  \\\n",
       "0  original       none  0.731284  0.947026  0.289834       NaN       NaN   \n",
       "\n",
       "   R2_diff  \n",
       "0      NaN  "
      ]
     },
     "execution_count": 118,
     "metadata": {},
     "output_type": "execute_result"
    }
   ],
   "source": [
    "# Create Lin Reg Model Here\n",
    "LR_pipeline(mcardf)"
   ]
  },
  {
   "cell_type": "markdown",
   "metadata": {},
   "source": [
    "### mcar .5"
   ]
  },
  {
   "cell_type": "code",
   "execution_count": 119,
   "metadata": {},
   "outputs": [
    {
     "name": "stdout",
     "output_type": "stream",
     "text": [
      "MedInc        0.0\n",
      "HouseAge      0.0\n",
      "AveRooms      0.5\n",
      "AveBedrms     0.0\n",
      "Population    0.0\n",
      "AveOccup      0.0\n",
      "Latitude      0.0\n",
      "Longitude     0.0\n",
      "dtype: float64\n"
     ]
    }
   ],
   "source": [
    "california = datasets.fetch_california_housing()\n",
    "cal = pd.DataFrame(california.data)\n",
    "cal.columns = california.feature_names\n",
    "cal['MedInc'] = california.target\n",
    "cal.head()\n",
    "mcardf = cal\n",
    "nidx = round(.5 * len(cal))\n",
    "dropidxs = np.random.choice(len(cal), nidx, replace=False)\n",
    "mcardf.loc[dropidxs, 'AveRooms'] = np.nan\n",
    "print(mcardf.isna().sum() / len(cal))"
   ]
  },
  {
   "cell_type": "code",
   "execution_count": 120,
   "metadata": {},
   "outputs": [
    {
     "name": "stdout",
     "output_type": "stream",
     "text": [
      "MedInc        0.0\n",
      "HouseAge      0.0\n",
      "AveRooms      0.0\n",
      "AveBedrms     0.0\n",
      "Population    0.0\n",
      "AveOccup      0.0\n",
      "Latitude      0.0\n",
      "Longitude     0.0\n",
      "dtype: float64\n"
     ]
    }
   ],
   "source": [
    "mcardf['AveRooms'] = mcardf['AveRooms'].fillna(mcardf['AveRooms'].mean())\n",
    "print(mcardf.isna().sum() / len(cal))"
   ]
  },
  {
   "cell_type": "code",
   "execution_count": 121,
   "metadata": {},
   "outputs": [
    {
     "name": "stdout",
     "output_type": "stream",
     "text": [
      "                coef\n",
      "HouseAge    0.000237\n",
      "AveRooms    0.179855\n",
      "AveBedrms  -0.131048\n",
      "Population -0.000032\n",
      "AveOccup   -0.002177\n",
      "Latitude   -0.743708\n",
      "Longitude  -0.753652\n"
     ]
    },
    {
     "data": {
      "text/html": [
       "<div>\n",
       "<style scoped>\n",
       "    .dataframe tbody tr th:only-of-type {\n",
       "        vertical-align: middle;\n",
       "    }\n",
       "\n",
       "    .dataframe tbody tr th {\n",
       "        vertical-align: top;\n",
       "    }\n",
       "\n",
       "    .dataframe thead th {\n",
       "        text-align: right;\n",
       "    }\n",
       "</style>\n",
       "<table border=\"1\" class=\"dataframe\">\n",
       "  <thead>\n",
       "    <tr style=\"text-align: right;\">\n",
       "      <th></th>\n",
       "      <th>data</th>\n",
       "      <th>imputation</th>\n",
       "      <th>mae</th>\n",
       "      <th>mse</th>\n",
       "      <th>R2</th>\n",
       "      <th>mae_diff</th>\n",
       "      <th>mse_diff</th>\n",
       "      <th>R2_diff</th>\n",
       "    </tr>\n",
       "  </thead>\n",
       "  <tbody>\n",
       "    <tr>\n",
       "      <th>0</th>\n",
       "      <td>original</td>\n",
       "      <td>none</td>\n",
       "      <td>0.751427</td>\n",
       "      <td>0.9788</td>\n",
       "      <td>0.266007</td>\n",
       "      <td>NaN</td>\n",
       "      <td>NaN</td>\n",
       "      <td>NaN</td>\n",
       "    </tr>\n",
       "  </tbody>\n",
       "</table>\n",
       "</div>"
      ],
      "text/plain": [
       "       data imputation       mae     mse        R2  mae_diff  mse_diff  \\\n",
       "0  original       none  0.751427  0.9788  0.266007       NaN       NaN   \n",
       "\n",
       "   R2_diff  \n",
       "0      NaN  "
      ]
     },
     "execution_count": 121,
     "metadata": {},
     "output_type": "execute_result"
    }
   ],
   "source": [
    "# Create Lin Reg Model Here\n",
    "LR_pipeline(mcardf)"
   ]
  },
  {
   "cell_type": "markdown",
   "metadata": {},
   "source": [
    "## Missing at Random"
   ]
  },
  {
   "cell_type": "markdown",
   "metadata": {},
   "source": [
    "### MAR .1"
   ]
  },
  {
   "cell_type": "code",
   "execution_count": 122,
   "metadata": {},
   "outputs": [
    {
     "name": "stdout",
     "output_type": "stream",
     "text": [
      "MedInc        0.0\n",
      "HouseAge      0.0\n",
      "AveRooms      0.1\n",
      "AveBedrms     0.0\n",
      "Population    0.0\n",
      "AveOccup      0.0\n",
      "Latitude      0.0\n",
      "Longitude     0.0\n",
      "dtype: float64\n"
     ]
    }
   ],
   "source": [
    "california = datasets.fetch_california_housing()\n",
    "cal = pd.DataFrame(california.data)\n",
    "cal.columns = california.feature_names\n",
    "cal['MedInc'] = california.target\n",
    "cal.head()\n",
    "mardf = cal\n",
    "idxs = mardf[mardf['AveOccup'] > mardf['AveOccup'].quantile(.5)]\n",
    "dropidxs = idxs.sample(frac = .2, replace = False)\n",
    "mardf.loc[dropidxs.index, 'AveRooms'] = np.nan\n",
    "print(mardf.isna().sum() / len(mardf))"
   ]
  },
  {
   "cell_type": "code",
   "execution_count": 123,
   "metadata": {},
   "outputs": [
    {
     "name": "stdout",
     "output_type": "stream",
     "text": [
      "MedInc        0.0\n",
      "HouseAge      0.0\n",
      "AveRooms      0.0\n",
      "AveBedrms     0.0\n",
      "Population    0.0\n",
      "AveOccup      0.0\n",
      "Latitude      0.0\n",
      "Longitude     0.0\n",
      "dtype: float64\n"
     ]
    }
   ],
   "source": [
    "mardf['AveRooms'] = mardf['AveRooms'].fillna(mardf['AveRooms'].mean())\n",
    "print(mardf.isna().sum() / len(cal))"
   ]
  },
  {
   "cell_type": "code",
   "execution_count": 124,
   "metadata": {},
   "outputs": [
    {
     "name": "stdout",
     "output_type": "stream",
     "text": [
      "                coef\n",
      "HouseAge    0.004093\n",
      "AveRooms    0.344051\n",
      "AveBedrms  -1.262920\n",
      "Population -0.000018\n",
      "AveOccup   -0.002998\n",
      "Latitude   -0.741444\n",
      "Longitude  -0.741425\n"
     ]
    },
    {
     "data": {
      "text/html": [
       "<div>\n",
       "<style scoped>\n",
       "    .dataframe tbody tr th:only-of-type {\n",
       "        vertical-align: middle;\n",
       "    }\n",
       "\n",
       "    .dataframe tbody tr th {\n",
       "        vertical-align: top;\n",
       "    }\n",
       "\n",
       "    .dataframe thead th {\n",
       "        text-align: right;\n",
       "    }\n",
       "</style>\n",
       "<table border=\"1\" class=\"dataframe\">\n",
       "  <thead>\n",
       "    <tr style=\"text-align: right;\">\n",
       "      <th></th>\n",
       "      <th>data</th>\n",
       "      <th>imputation</th>\n",
       "      <th>mae</th>\n",
       "      <th>mse</th>\n",
       "      <th>R2</th>\n",
       "      <th>mae_diff</th>\n",
       "      <th>mse_diff</th>\n",
       "      <th>R2_diff</th>\n",
       "    </tr>\n",
       "  </thead>\n",
       "  <tbody>\n",
       "    <tr>\n",
       "      <th>0</th>\n",
       "      <td>original</td>\n",
       "      <td>none</td>\n",
       "      <td>0.701959</td>\n",
       "      <td>0.859592</td>\n",
       "      <td>0.3554</td>\n",
       "      <td>NaN</td>\n",
       "      <td>NaN</td>\n",
       "      <td>NaN</td>\n",
       "    </tr>\n",
       "  </tbody>\n",
       "</table>\n",
       "</div>"
      ],
      "text/plain": [
       "       data imputation       mae       mse      R2  mae_diff  mse_diff  \\\n",
       "0  original       none  0.701959  0.859592  0.3554       NaN       NaN   \n",
       "\n",
       "   R2_diff  \n",
       "0      NaN  "
      ]
     },
     "execution_count": 124,
     "metadata": {},
     "output_type": "execute_result"
    }
   ],
   "source": [
    "# Create Lin Reg Model Here\n",
    "LR_pipeline(mardf)"
   ]
  },
  {
   "cell_type": "markdown",
   "metadata": {},
   "source": [
    "### MAR .2"
   ]
  },
  {
   "cell_type": "code",
   "execution_count": 125,
   "metadata": {},
   "outputs": [
    {
     "name": "stdout",
     "output_type": "stream",
     "text": [
      "MedInc        0.0\n",
      "HouseAge      0.0\n",
      "AveRooms      0.2\n",
      "AveBedrms     0.0\n",
      "Population    0.0\n",
      "AveOccup      0.0\n",
      "Latitude      0.0\n",
      "Longitude     0.0\n",
      "dtype: float64\n"
     ]
    }
   ],
   "source": [
    "california = datasets.fetch_california_housing()\n",
    "cal = pd.DataFrame(california.data)\n",
    "cal.columns = california.feature_names\n",
    "cal['MedInc'] = california.target\n",
    "cal.head()\n",
    "mardf = cal\n",
    "idxs = mardf[mardf['AveOccup'] > mardf['AveOccup'].quantile(.5)]\n",
    "dropidxs = idxs.sample(frac = .4, replace = False)\n",
    "mardf.loc[dropidxs.index, 'AveRooms'] = np.nan\n",
    "print(mardf.isna().sum() / len(mardf))"
   ]
  },
  {
   "cell_type": "code",
   "execution_count": 126,
   "metadata": {},
   "outputs": [
    {
     "name": "stdout",
     "output_type": "stream",
     "text": [
      "MedInc        0.0\n",
      "HouseAge      0.0\n",
      "AveRooms      0.0\n",
      "AveBedrms     0.0\n",
      "Population    0.0\n",
      "AveOccup      0.0\n",
      "Latitude      0.0\n",
      "Longitude     0.0\n",
      "dtype: float64\n"
     ]
    }
   ],
   "source": [
    "mardf['AveRooms'] = mardf['AveRooms'].fillna(mardf['AveRooms'].mean())\n",
    "print(mardf.isna().sum() / len(cal))"
   ]
  },
  {
   "cell_type": "code",
   "execution_count": 127,
   "metadata": {},
   "outputs": [
    {
     "name": "stdout",
     "output_type": "stream",
     "text": [
      "                coef\n",
      "HouseAge    0.001889\n",
      "AveRooms    0.315235\n",
      "AveBedrms  -1.127620\n",
      "Population -0.000027\n",
      "AveOccup   -0.003236\n",
      "Latitude   -0.740392\n",
      "Longitude  -0.743030\n"
     ]
    },
    {
     "data": {
      "text/html": [
       "<div>\n",
       "<style scoped>\n",
       "    .dataframe tbody tr th:only-of-type {\n",
       "        vertical-align: middle;\n",
       "    }\n",
       "\n",
       "    .dataframe tbody tr th {\n",
       "        vertical-align: top;\n",
       "    }\n",
       "\n",
       "    .dataframe thead th {\n",
       "        text-align: right;\n",
       "    }\n",
       "</style>\n",
       "<table border=\"1\" class=\"dataframe\">\n",
       "  <thead>\n",
       "    <tr style=\"text-align: right;\">\n",
       "      <th></th>\n",
       "      <th>data</th>\n",
       "      <th>imputation</th>\n",
       "      <th>mae</th>\n",
       "      <th>mse</th>\n",
       "      <th>R2</th>\n",
       "      <th>mae_diff</th>\n",
       "      <th>mse_diff</th>\n",
       "      <th>R2_diff</th>\n",
       "    </tr>\n",
       "  </thead>\n",
       "  <tbody>\n",
       "    <tr>\n",
       "      <th>0</th>\n",
       "      <td>original</td>\n",
       "      <td>none</td>\n",
       "      <td>0.719664</td>\n",
       "      <td>0.894152</td>\n",
       "      <td>0.329484</td>\n",
       "      <td>NaN</td>\n",
       "      <td>NaN</td>\n",
       "      <td>NaN</td>\n",
       "    </tr>\n",
       "  </tbody>\n",
       "</table>\n",
       "</div>"
      ],
      "text/plain": [
       "       data imputation       mae       mse        R2  mae_diff  mse_diff  \\\n",
       "0  original       none  0.719664  0.894152  0.329484       NaN       NaN   \n",
       "\n",
       "   R2_diff  \n",
       "0      NaN  "
      ]
     },
     "execution_count": 127,
     "metadata": {},
     "output_type": "execute_result"
    }
   ],
   "source": [
    "# Create Lin Reg Model Here\n",
    "LR_pipeline(mardf)"
   ]
  },
  {
   "cell_type": "markdown",
   "metadata": {},
   "source": [
    "### MAR .3"
   ]
  },
  {
   "cell_type": "code",
   "execution_count": 128,
   "metadata": {},
   "outputs": [
    {
     "name": "stdout",
     "output_type": "stream",
     "text": [
      "MedInc        0.0\n",
      "HouseAge      0.0\n",
      "AveRooms      0.3\n",
      "AveBedrms     0.0\n",
      "Population    0.0\n",
      "AveOccup      0.0\n",
      "Latitude      0.0\n",
      "Longitude     0.0\n",
      "dtype: float64\n"
     ]
    }
   ],
   "source": [
    "california = datasets.fetch_california_housing()\n",
    "cal = pd.DataFrame(california.data)\n",
    "cal.columns = california.feature_names\n",
    "cal['MedInc'] = california.target\n",
    "cal.head()\n",
    "mardf = cal\n",
    "idxs = mardf[mardf['AveOccup'] > mardf['AveOccup'].quantile(.5)]\n",
    "dropidxs = idxs.sample(frac = .6, replace = False)\n",
    "mardf.loc[dropidxs.index, 'AveRooms'] = np.nan\n",
    "print(mardf.isna().sum() / len(mardf))"
   ]
  },
  {
   "cell_type": "code",
   "execution_count": 129,
   "metadata": {},
   "outputs": [
    {
     "name": "stdout",
     "output_type": "stream",
     "text": [
      "MedInc        0.0\n",
      "HouseAge      0.0\n",
      "AveRooms      0.0\n",
      "AveBedrms     0.0\n",
      "Population    0.0\n",
      "AveOccup      0.0\n",
      "Latitude      0.0\n",
      "Longitude     0.0\n",
      "dtype: float64\n"
     ]
    }
   ],
   "source": [
    "mardf['AveRooms'] = mardf['AveRooms'].fillna(mardf['AveRooms'].mean())\n",
    "print(mardf.isna().sum() / len(cal))"
   ]
  },
  {
   "cell_type": "code",
   "execution_count": 130,
   "metadata": {},
   "outputs": [
    {
     "name": "stdout",
     "output_type": "stream",
     "text": [
      "                coef\n",
      "HouseAge    0.000549\n",
      "AveRooms    0.285330\n",
      "AveBedrms  -0.986402\n",
      "Population -0.000033\n",
      "AveOccup   -0.002148\n",
      "Latitude   -0.739915\n",
      "Longitude  -0.746948\n"
     ]
    },
    {
     "data": {
      "text/html": [
       "<div>\n",
       "<style scoped>\n",
       "    .dataframe tbody tr th:only-of-type {\n",
       "        vertical-align: middle;\n",
       "    }\n",
       "\n",
       "    .dataframe tbody tr th {\n",
       "        vertical-align: top;\n",
       "    }\n",
       "\n",
       "    .dataframe thead th {\n",
       "        text-align: right;\n",
       "    }\n",
       "</style>\n",
       "<table border=\"1\" class=\"dataframe\">\n",
       "  <thead>\n",
       "    <tr style=\"text-align: right;\">\n",
       "      <th></th>\n",
       "      <th>data</th>\n",
       "      <th>imputation</th>\n",
       "      <th>mae</th>\n",
       "      <th>mse</th>\n",
       "      <th>R2</th>\n",
       "      <th>mae_diff</th>\n",
       "      <th>mse_diff</th>\n",
       "      <th>R2_diff</th>\n",
       "    </tr>\n",
       "  </thead>\n",
       "  <tbody>\n",
       "    <tr>\n",
       "      <th>0</th>\n",
       "      <td>original</td>\n",
       "      <td>none</td>\n",
       "      <td>0.736463</td>\n",
       "      <td>0.931859</td>\n",
       "      <td>0.301207</td>\n",
       "      <td>NaN</td>\n",
       "      <td>NaN</td>\n",
       "      <td>NaN</td>\n",
       "    </tr>\n",
       "  </tbody>\n",
       "</table>\n",
       "</div>"
      ],
      "text/plain": [
       "       data imputation       mae       mse        R2  mae_diff  mse_diff  \\\n",
       "0  original       none  0.736463  0.931859  0.301207       NaN       NaN   \n",
       "\n",
       "   R2_diff  \n",
       "0      NaN  "
      ]
     },
     "execution_count": 130,
     "metadata": {},
     "output_type": "execute_result"
    }
   ],
   "source": [
    "# Create Lin Reg Model Here\n",
    "LR_pipeline(mardf)"
   ]
  },
  {
   "cell_type": "markdown",
   "metadata": {},
   "source": [
    "## Missing \"Not at\" Random"
   ]
  },
  {
   "cell_type": "markdown",
   "metadata": {},
   "source": [
    "### MNAR .25"
   ]
  },
  {
   "cell_type": "code",
   "execution_count": 131,
   "metadata": {},
   "outputs": [
    {
     "name": "stdout",
     "output_type": "stream",
     "text": [
      "MedInc        0.000000\n",
      "HouseAge      0.000000\n",
      "AveRooms      0.249952\n",
      "AveBedrms     0.000000\n",
      "Population    0.000000\n",
      "AveOccup      0.000000\n",
      "Latitude      0.000000\n",
      "Longitude     0.000000\n",
      "dtype: float64\n"
     ]
    }
   ],
   "source": [
    "california = datasets.fetch_california_housing()\n",
    "cal = pd.DataFrame(california.data)\n",
    "cal.columns = california.feature_names\n",
    "cal['MedInc'] = california.target\n",
    "cal.head()\n",
    "mnardf = cal\n",
    "idxs = (mnardf['AveRooms'] > mnardf['AveRooms'].quantile(.75))\n",
    "mnardf.loc[idxs, 'AveRooms'] = np.nan\n",
    "print(mnardf.isna().sum() / len(mnardf))"
   ]
  },
  {
   "cell_type": "code",
   "execution_count": 132,
   "metadata": {},
   "outputs": [
    {
     "name": "stdout",
     "output_type": "stream",
     "text": [
      "MedInc        0.0\n",
      "HouseAge      0.0\n",
      "AveRooms      0.0\n",
      "AveBedrms     0.0\n",
      "Population    0.0\n",
      "AveOccup      0.0\n",
      "Latitude      0.0\n",
      "Longitude     0.0\n",
      "dtype: float64\n"
     ]
    }
   ],
   "source": [
    "mnardf['AveRooms'] = mnardf['AveRooms'].fillna(mnardf['AveRooms'].mean())\n",
    "print(mnardf.isna().sum() / len(cal))"
   ]
  },
  {
   "cell_type": "code",
   "execution_count": 133,
   "metadata": {},
   "outputs": [
    {
     "name": "stdout",
     "output_type": "stream",
     "text": [
      "                coef\n",
      "HouseAge    0.000549\n",
      "AveRooms    0.285330\n",
      "AveBedrms  -0.986402\n",
      "Population -0.000033\n",
      "AveOccup   -0.002148\n",
      "Latitude   -0.739915\n",
      "Longitude  -0.746948\n"
     ]
    },
    {
     "data": {
      "text/html": [
       "<div>\n",
       "<style scoped>\n",
       "    .dataframe tbody tr th:only-of-type {\n",
       "        vertical-align: middle;\n",
       "    }\n",
       "\n",
       "    .dataframe tbody tr th {\n",
       "        vertical-align: top;\n",
       "    }\n",
       "\n",
       "    .dataframe thead th {\n",
       "        text-align: right;\n",
       "    }\n",
       "</style>\n",
       "<table border=\"1\" class=\"dataframe\">\n",
       "  <thead>\n",
       "    <tr style=\"text-align: right;\">\n",
       "      <th></th>\n",
       "      <th>data</th>\n",
       "      <th>imputation</th>\n",
       "      <th>mae</th>\n",
       "      <th>mse</th>\n",
       "      <th>R2</th>\n",
       "      <th>mae_diff</th>\n",
       "      <th>mse_diff</th>\n",
       "      <th>R2_diff</th>\n",
       "    </tr>\n",
       "  </thead>\n",
       "  <tbody>\n",
       "    <tr>\n",
       "      <th>0</th>\n",
       "      <td>original</td>\n",
       "      <td>none</td>\n",
       "      <td>0.736463</td>\n",
       "      <td>0.931859</td>\n",
       "      <td>0.301207</td>\n",
       "      <td>NaN</td>\n",
       "      <td>NaN</td>\n",
       "      <td>NaN</td>\n",
       "    </tr>\n",
       "  </tbody>\n",
       "</table>\n",
       "</div>"
      ],
      "text/plain": [
       "       data imputation       mae       mse        R2  mae_diff  mse_diff  \\\n",
       "0  original       none  0.736463  0.931859  0.301207       NaN       NaN   \n",
       "\n",
       "   R2_diff  \n",
       "0      NaN  "
      ]
     },
     "execution_count": 133,
     "metadata": {},
     "output_type": "execute_result"
    }
   ],
   "source": [
    "# Create Lin Reg Model Here\n",
    "LR_pipeline(mardf)"
   ]
  },
  {
   "cell_type": "markdown",
   "metadata": {},
   "source": [
    "## Conclusion"
   ]
  },
  {
   "cell_type": "code",
   "execution_count": null,
   "metadata": {},
   "outputs": [],
   "source": []
  }
 ],
 "metadata": {
  "kernelspec": {
   "display_name": "Python 3",
   "language": "python",
   "name": "python3"
  },
  "language_info": {
   "codemirror_mode": {
    "name": "ipython",
    "version": 3
   },
   "file_extension": ".py",
   "mimetype": "text/x-python",
   "name": "python",
   "nbconvert_exporter": "python",
   "pygments_lexer": "ipython3",
   "version": "3.7.6"
  }
 },
 "nbformat": 4,
 "nbformat_minor": 4
}
