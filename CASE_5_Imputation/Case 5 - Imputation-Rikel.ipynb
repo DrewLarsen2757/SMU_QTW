{
 "cells": [
  {
   "cell_type": "code",
   "execution_count": 3,
   "metadata": {},
   "outputs": [],
   "source": [
    "import pandas as pd\n",
    "import numpy as np\n",
    "from sklearn.linear_model import LinearRegression\n",
    "from sklearn.metrics import mean_squared_error, r2_score, mean_absolute_error\n",
    "import matplotlib.pyplot as plt\n",
    "from sklearn import datasets\n",
    "import random\n",
    "from sklearn.model_selection import train_test_split\n",
    "from sklearn.metrics import mean_squared_error, r2_score, mean_absolute_error"
   ]
  },
  {
   "cell_type": "markdown",
   "metadata": {},
   "source": [
    "# Case 5: Imputation"
   ]
  },
  {
   "cell_type": "markdown",
   "metadata": {},
   "source": [
    "Andrew Larsen  \n",
    "Matthew Chinchilla  \n",
    "Rikel Djoko  "
   ]
  },
  {
   "cell_type": "markdown",
   "metadata": {},
   "source": [
    "## Baseline Model Development"
   ]
  },
  {
   "cell_type": "code",
   "execution_count": 4,
   "metadata": {},
   "outputs": [],
   "source": [
    "# Baseline Lin Reg Model Here\n",
    "california = datasets.fetch_california_housing()\n",
    "cal = pd.DataFrame(california.data)\n",
    "cal.columns = california.feature_names\n",
    "cal['MedInc'] = california.target"
   ]
  },
  {
   "cell_type": "code",
   "execution_count": 5,
   "metadata": {},
   "outputs": [
    {
     "data": {
      "text/html": [
       "<div>\n",
       "<style scoped>\n",
       "    .dataframe tbody tr th:only-of-type {\n",
       "        vertical-align: middle;\n",
       "    }\n",
       "\n",
       "    .dataframe tbody tr th {\n",
       "        vertical-align: top;\n",
       "    }\n",
       "\n",
       "    .dataframe thead th {\n",
       "        text-align: right;\n",
       "    }\n",
       "</style>\n",
       "<table border=\"1\" class=\"dataframe\">\n",
       "  <thead>\n",
       "    <tr style=\"text-align: right;\">\n",
       "      <th></th>\n",
       "      <th>MedInc</th>\n",
       "      <th>HouseAge</th>\n",
       "      <th>AveRooms</th>\n",
       "      <th>AveBedrms</th>\n",
       "      <th>Population</th>\n",
       "      <th>AveOccup</th>\n",
       "      <th>Latitude</th>\n",
       "      <th>Longitude</th>\n",
       "    </tr>\n",
       "  </thead>\n",
       "  <tbody>\n",
       "    <tr>\n",
       "      <th>0</th>\n",
       "      <td>4.526</td>\n",
       "      <td>41.0</td>\n",
       "      <td>6.984127</td>\n",
       "      <td>1.023810</td>\n",
       "      <td>322.0</td>\n",
       "      <td>2.555556</td>\n",
       "      <td>37.88</td>\n",
       "      <td>-122.23</td>\n",
       "    </tr>\n",
       "    <tr>\n",
       "      <th>1</th>\n",
       "      <td>3.585</td>\n",
       "      <td>21.0</td>\n",
       "      <td>6.238137</td>\n",
       "      <td>0.971880</td>\n",
       "      <td>2401.0</td>\n",
       "      <td>2.109842</td>\n",
       "      <td>37.86</td>\n",
       "      <td>-122.22</td>\n",
       "    </tr>\n",
       "    <tr>\n",
       "      <th>2</th>\n",
       "      <td>3.521</td>\n",
       "      <td>52.0</td>\n",
       "      <td>8.288136</td>\n",
       "      <td>1.073446</td>\n",
       "      <td>496.0</td>\n",
       "      <td>2.802260</td>\n",
       "      <td>37.85</td>\n",
       "      <td>-122.24</td>\n",
       "    </tr>\n",
       "    <tr>\n",
       "      <th>3</th>\n",
       "      <td>3.413</td>\n",
       "      <td>52.0</td>\n",
       "      <td>5.817352</td>\n",
       "      <td>1.073059</td>\n",
       "      <td>558.0</td>\n",
       "      <td>2.547945</td>\n",
       "      <td>37.85</td>\n",
       "      <td>-122.25</td>\n",
       "    </tr>\n",
       "    <tr>\n",
       "      <th>4</th>\n",
       "      <td>3.422</td>\n",
       "      <td>52.0</td>\n",
       "      <td>6.281853</td>\n",
       "      <td>1.081081</td>\n",
       "      <td>565.0</td>\n",
       "      <td>2.181467</td>\n",
       "      <td>37.85</td>\n",
       "      <td>-122.25</td>\n",
       "    </tr>\n",
       "  </tbody>\n",
       "</table>\n",
       "</div>"
      ],
      "text/plain": [
       "   MedInc  HouseAge  AveRooms  AveBedrms  Population  AveOccup  Latitude  \\\n",
       "0   4.526      41.0  6.984127   1.023810       322.0  2.555556     37.88   \n",
       "1   3.585      21.0  6.238137   0.971880      2401.0  2.109842     37.86   \n",
       "2   3.521      52.0  8.288136   1.073446       496.0  2.802260     37.85   \n",
       "3   3.413      52.0  5.817352   1.073059       558.0  2.547945     37.85   \n",
       "4   3.422      52.0  6.281853   1.081081       565.0  2.181467     37.85   \n",
       "\n",
       "   Longitude  \n",
       "0    -122.23  \n",
       "1    -122.22  \n",
       "2    -122.24  \n",
       "3    -122.25  \n",
       "4    -122.25  "
      ]
     },
     "execution_count": 5,
     "metadata": {},
     "output_type": "execute_result"
    }
   ],
   "source": [
    "cal.head()"
   ]
  },
  {
   "cell_type": "code",
   "execution_count": 6,
   "metadata": {},
   "outputs": [
    {
     "data": {
      "text/plain": [
       "MedInc        0\n",
       "HouseAge      0\n",
       "AveRooms      0\n",
       "AveBedrms     0\n",
       "Population    0\n",
       "AveOccup      0\n",
       "Latitude      0\n",
       "Longitude     0\n",
       "dtype: int64"
      ]
     },
     "execution_count": 6,
     "metadata": {},
     "output_type": "execute_result"
    }
   ],
   "source": [
    "#check for NA\n",
    "cal.isna().sum()"
   ]
  },
  {
   "cell_type": "code",
   "execution_count": 7,
   "metadata": {},
   "outputs": [],
   "source": [
    "#define variable and  split data\n",
    "cols = ['HouseAge','AveRooms','AveBedrms','Population','AveOccup','Latitude','Longitude']\n",
    "X = cal[cols]\n",
    "y = cal[\"MedInc\"]\n",
    "#split the data\n",
    "train_X, test_X, train_y, test_y = train_test_split(X, y, test_size = 0.4, random_state = 0)"
   ]
  },
  {
   "cell_type": "code",
   "execution_count": 21,
   "metadata": {},
   "outputs": [],
   "source": [
    "# Get the training and testing row indices As global variable to use for all cases\n",
    "train_X_index = train_X.index.values.astype(int)\n",
    "test_X_index = test_X.index.values.astype(int)\n",
    "train_y_index = train_y.index.values.astype(int)\n",
    "test_y_index = test_y.index.values.astype(int)"
   ]
  },
  {
   "cell_type": "code",
   "execution_count": 8,
   "metadata": {},
   "outputs": [
    {
     "data": {
      "text/html": [
       "<div>\n",
       "<style scoped>\n",
       "    .dataframe tbody tr th:only-of-type {\n",
       "        vertical-align: middle;\n",
       "    }\n",
       "\n",
       "    .dataframe tbody tr th {\n",
       "        vertical-align: top;\n",
       "    }\n",
       "\n",
       "    .dataframe thead th {\n",
       "        text-align: right;\n",
       "    }\n",
       "</style>\n",
       "<table border=\"1\" class=\"dataframe\">\n",
       "  <thead>\n",
       "    <tr style=\"text-align: right;\">\n",
       "      <th></th>\n",
       "      <th>coef</th>\n",
       "    </tr>\n",
       "  </thead>\n",
       "  <tbody>\n",
       "    <tr>\n",
       "      <th>HouseAge</th>\n",
       "      <td>0.005633</td>\n",
       "    </tr>\n",
       "    <tr>\n",
       "      <th>AveRooms</th>\n",
       "      <td>0.363187</td>\n",
       "    </tr>\n",
       "    <tr>\n",
       "      <th>AveBedrms</th>\n",
       "      <td>-1.348481</td>\n",
       "    </tr>\n",
       "    <tr>\n",
       "      <th>Population</th>\n",
       "      <td>-0.000011</td>\n",
       "    </tr>\n",
       "    <tr>\n",
       "      <th>AveOccup</th>\n",
       "      <td>-0.003401</td>\n",
       "    </tr>\n",
       "    <tr>\n",
       "      <th>Latitude</th>\n",
       "      <td>-0.742928</td>\n",
       "    </tr>\n",
       "    <tr>\n",
       "      <th>Longitude</th>\n",
       "      <td>-0.738761</td>\n",
       "    </tr>\n",
       "  </tbody>\n",
       "</table>\n",
       "</div>"
      ],
      "text/plain": [
       "                coef\n",
       "HouseAge    0.005633\n",
       "AveRooms    0.363187\n",
       "AveBedrms  -1.348481\n",
       "Population -0.000011\n",
       "AveOccup   -0.003401\n",
       "Latitude   -0.742928\n",
       "Longitude  -0.738761"
      ]
     },
     "execution_count": 8,
     "metadata": {},
     "output_type": "execute_result"
    }
   ],
   "source": [
    "#train model using linear regression\n",
    "lin_model = LinearRegression()\n",
    "lin_model.fit(train_X, train_y)\n",
    "coef_df = pd.DataFrame(lin_model.coef_, cols, columns = [\"coef\"])\n",
    "coef_df"
   ]
  },
  {
   "cell_type": "code",
   "execution_count": 9,
   "metadata": {},
   "outputs": [],
   "source": [
    "##predict\n",
    "y_predict = lin_model.predict(test_X)"
   ]
  },
  {
   "cell_type": "code",
   "execution_count": 10,
   "metadata": {},
   "outputs": [
    {
     "name": "stdout",
     "output_type": "stream",
     "text": [
      "MAE: 0.684\n",
      "MSE:  0.825\n",
      "R2:  0.382\n"
     ]
    }
   ],
   "source": [
    "##perfromance evaluation using   R  square, MSE, MAE, RMSE\n",
    "# r_square = r2_score(test_y, y_predict)\n",
    "\n",
    "orig_mae = mean_absolute_error(test_y, y_predict)\n",
    "orig_mse = mean_squared_error(test_y, y_predict)\n",
    "# orig_rmse_val = rmse(test_y, y_predict)\n",
    "orig_r2 = r2_score(test_y, y_predict)\n",
    "print(\"MAE: %.3f\"%orig_mae)\n",
    "print(\"MSE:  %.3f\"%orig_mse)\n",
    "# print(\"RMSE:  %.3f\"%orig_rmse_val)\n",
    "print(\"R2:  %.3f\"%orig_r2)"
   ]
  },
  {
   "cell_type": "code",
   "execution_count": 12,
   "metadata": {},
   "outputs": [
    {
     "data": {
      "text/html": [
       "<div>\n",
       "<style scoped>\n",
       "    .dataframe tbody tr th:only-of-type {\n",
       "        vertical-align: middle;\n",
       "    }\n",
       "\n",
       "    .dataframe tbody tr th {\n",
       "        vertical-align: top;\n",
       "    }\n",
       "\n",
       "    .dataframe thead th {\n",
       "        text-align: right;\n",
       "    }\n",
       "</style>\n",
       "<table border=\"1\" class=\"dataframe\">\n",
       "  <thead>\n",
       "    <tr style=\"text-align: right;\">\n",
       "      <th></th>\n",
       "      <th>data</th>\n",
       "      <th>imputation</th>\n",
       "      <th>mae</th>\n",
       "      <th>mse</th>\n",
       "      <th>R2</th>\n",
       "    </tr>\n",
       "  </thead>\n",
       "  <tbody>\n",
       "    <tr>\n",
       "      <th>0</th>\n",
       "      <td>original</td>\n",
       "      <td>none</td>\n",
       "      <td>0.684403</td>\n",
       "      <td>0.824646</td>\n",
       "      <td>0.381605</td>\n",
       "    </tr>\n",
       "  </tbody>\n",
       "</table>\n",
       "</div>"
      ],
      "text/plain": [
       "       data imputation       mae       mse        R2\n",
       "0  original       none  0.684403  0.824646  0.381605"
      ]
     },
     "execution_count": 12,
     "metadata": {},
     "output_type": "execute_result"
    }
   ],
   "source": [
    "perf_frame = pd.DataFrame({'data':'original',\n",
    "                   'imputation':'none',\n",
    "                   'mae': orig_mae, \n",
    "                   'mse': orig_mse, \n",
    "                   'R2':orig_r2}, index=[0])\n",
    "perf_frame"
   ]
  },
  {
   "cell_type": "code",
   "execution_count": 95,
   "metadata": {},
   "outputs": [
    {
     "data": {
      "text/plain": [
       "pandas.core.frame.DataFrame"
      ]
     },
     "execution_count": 95,
     "metadata": {},
     "output_type": "execute_result"
    }
   ],
   "source": [
    "type(cal)"
   ]
  },
  {
   "cell_type": "code",
   "execution_count": 22,
   "metadata": {},
   "outputs": [],
   "source": [
    "def LR_pipeline(df, data_description, imputation_type):\n",
    "    \n",
    "    #1 set the test and trainning set X and Y\n",
    "    train_X = df.iloc[train_X_index, 1:]\n",
    "    train_y = df[\"MedInc\"].iloc[train_y_index]\n",
    "    test_X = df.iloc[test_X_index, 1:].dropna()\n",
    "    test_y = df[\"MedInc\"].iloc[test_y_index]\n",
    "    #2  create and fit the model using LR\n",
    "    lin_model = LinearRegression()\n",
    "    lin_model.fit(train_X, train_y)\n",
    "    coef_df = pd.DataFrame(lin_model.coef_, cols, columns = [\"coef\"])\n",
    "    print(coef_df)\n",
    "    #3  predict using \n",
    "    y_predict = lin_model.predict(test_X)\n",
    "    # 4 evaluation and performance\n",
    "    orig_mae = mean_absolute_error(test_y, y_predict)\n",
    "    orig_mse = mean_squared_error(test_y, y_predict)\n",
    "    perf_frame = pd.DataFrame({'data':data_description,\n",
    "                   'imputation_type':imputation_type,\n",
    "                   'mae': orig_mae, \n",
    "                   'mse': orig_mse, \n",
    "                   'R2':orig_r2}, index=[0])\n",
    "    return perf_frame\n",
    "    "
   ]
  },
  {
   "cell_type": "code",
   "execution_count": 24,
   "metadata": {},
   "outputs": [
    {
     "name": "stdout",
     "output_type": "stream",
     "text": [
      "                coef\n",
      "HouseAge    0.005633\n",
      "AveRooms    0.363187\n",
      "AveBedrms  -1.348481\n",
      "Population -0.000011\n",
      "AveOccup   -0.003401\n",
      "Latitude   -0.742928\n",
      "Longitude  -0.738761\n"
     ]
    },
    {
     "data": {
      "text/html": [
       "<div>\n",
       "<style scoped>\n",
       "    .dataframe tbody tr th:only-of-type {\n",
       "        vertical-align: middle;\n",
       "    }\n",
       "\n",
       "    .dataframe tbody tr th {\n",
       "        vertical-align: top;\n",
       "    }\n",
       "\n",
       "    .dataframe thead th {\n",
       "        text-align: right;\n",
       "    }\n",
       "</style>\n",
       "<table border=\"1\" class=\"dataframe\">\n",
       "  <thead>\n",
       "    <tr style=\"text-align: right;\">\n",
       "      <th></th>\n",
       "      <th>data</th>\n",
       "      <th>imputation_type</th>\n",
       "      <th>mae</th>\n",
       "      <th>mse</th>\n",
       "      <th>R2</th>\n",
       "    </tr>\n",
       "  </thead>\n",
       "  <tbody>\n",
       "    <tr>\n",
       "      <th>0</th>\n",
       "      <td>original</td>\n",
       "      <td>None</td>\n",
       "      <td>0.684403</td>\n",
       "      <td>0.824646</td>\n",
       "      <td>0.381605</td>\n",
       "    </tr>\n",
       "  </tbody>\n",
       "</table>\n",
       "</div>"
      ],
      "text/plain": [
       "       data imputation_type       mae       mse        R2\n",
       "0  original            None  0.684403  0.824646  0.381605"
      ]
     },
     "execution_count": 24,
     "metadata": {},
     "output_type": "execute_result"
    }
   ],
   "source": [
    "# CONFIRM IF BASELINE WORK WITH THE LR_PIPELINE\n",
    "LR_pipeline(cal,\"original\", \"None\")"
   ]
  },
  {
   "cell_type": "markdown",
   "metadata": {},
   "source": [
    "## Missing Completely at Random"
   ]
  },
  {
   "cell_type": "markdown",
   "metadata": {},
   "source": [
    "### mcar .01"
   ]
  },
  {
   "cell_type": "code",
   "execution_count": 26,
   "metadata": {},
   "outputs": [
    {
     "name": "stdout",
     "output_type": "stream",
     "text": [
      "MedInc        0.000000\n",
      "HouseAge      0.000000\n",
      "AveRooms      0.009981\n",
      "AveBedrms     0.000000\n",
      "Population    0.000000\n",
      "AveOccup      0.000000\n",
      "Latitude      0.000000\n",
      "Longitude     0.000000\n",
      "dtype: float64\n"
     ]
    }
   ],
   "source": [
    "california = datasets.fetch_california_housing()\n",
    "cal = pd.DataFrame(california.data)\n",
    "cal.columns = california.feature_names\n",
    "cal['MedInc'] = california.target\n",
    "cal.head()\n",
    "mcardf = cal\n",
    "nidx = round(.01 * len(cal))\n",
    "dropidxs = np.random.choice(len(cal), nidx, replace=False)\n",
    "mcardf.loc[dropidxs, 'AveRooms'] = np.nan\n",
    "print(mcardf.isna().sum() / len(cal))"
   ]
  },
  {
   "cell_type": "code",
   "execution_count": 27,
   "metadata": {},
   "outputs": [
    {
     "name": "stdout",
     "output_type": "stream",
     "text": [
      "MedInc        0.0\n",
      "HouseAge      0.0\n",
      "AveRooms      0.0\n",
      "AveBedrms     0.0\n",
      "Population    0.0\n",
      "AveOccup      0.0\n",
      "Latitude      0.0\n",
      "Longitude     0.0\n",
      "dtype: float64\n"
     ]
    }
   ],
   "source": [
    "mcardf['AveRooms'] = mcardf['AveRooms'].fillna(mcardf['AveRooms'].mean())\n",
    "print(mcardf.isna().sum() / len(cal))"
   ]
  },
  {
   "cell_type": "code",
   "execution_count": 29,
   "metadata": {},
   "outputs": [
    {
     "name": "stdout",
     "output_type": "stream",
     "text": [
      "                coef\n",
      "HouseAge    0.005422\n",
      "AveRooms    0.360783\n",
      "AveBedrms  -1.335048\n",
      "Population -0.000012\n",
      "AveOccup   -0.002407\n",
      "Latitude   -0.741454\n",
      "Longitude  -0.737433\n"
     ]
    },
    {
     "data": {
      "text/html": [
       "<div>\n",
       "<style scoped>\n",
       "    .dataframe tbody tr th:only-of-type {\n",
       "        vertical-align: middle;\n",
       "    }\n",
       "\n",
       "    .dataframe tbody tr th {\n",
       "        vertical-align: top;\n",
       "    }\n",
       "\n",
       "    .dataframe thead th {\n",
       "        text-align: right;\n",
       "    }\n",
       "</style>\n",
       "<table border=\"1\" class=\"dataframe\">\n",
       "  <thead>\n",
       "    <tr style=\"text-align: right;\">\n",
       "      <th></th>\n",
       "      <th>data</th>\n",
       "      <th>imputation_type</th>\n",
       "      <th>mae</th>\n",
       "      <th>mse</th>\n",
       "      <th>R2</th>\n",
       "    </tr>\n",
       "  </thead>\n",
       "  <tbody>\n",
       "    <tr>\n",
       "      <th>0</th>\n",
       "      <td>1% imputed</td>\n",
       "      <td>MCAR</td>\n",
       "      <td>0.686008</td>\n",
       "      <td>0.827269</td>\n",
       "      <td>0.381605</td>\n",
       "    </tr>\n",
       "  </tbody>\n",
       "</table>\n",
       "</div>"
      ],
      "text/plain": [
       "         data imputation_type       mae       mse        R2\n",
       "0  1% imputed            MCAR  0.686008  0.827269  0.381605"
      ]
     },
     "execution_count": 29,
     "metadata": {},
     "output_type": "execute_result"
    }
   ],
   "source": [
    "# Create Lin Reg Model Here\n",
    "LR_pipeline(mcardf,\"1% imputed\", \"MCAR\")"
   ]
  },
  {
   "cell_type": "markdown",
   "metadata": {},
   "source": [
    "### mcar .05"
   ]
  },
  {
   "cell_type": "code",
   "execution_count": 33,
   "metadata": {},
   "outputs": [
    {
     "name": "stdout",
     "output_type": "stream",
     "text": [
      "MedInc        0.00\n",
      "HouseAge      0.00\n",
      "AveRooms      0.05\n",
      "AveBedrms     0.00\n",
      "Population    0.00\n",
      "AveOccup      0.00\n",
      "Latitude      0.00\n",
      "Longitude     0.00\n",
      "dtype: float64\n"
     ]
    }
   ],
   "source": [
    "california = datasets.fetch_california_housing()\n",
    "cal = pd.DataFrame(california.data)\n",
    "cal.columns = california.feature_names\n",
    "cal['MedInc'] = california.target\n",
    "cal.head()\n",
    "mcardf = cal\n",
    "nidx = round(.05 * len(cal))\n",
    "dropidxs = np.random.choice(len(cal), nidx, replace=False)\n",
    "mcardf.loc[dropidxs, 'AveRooms'] = np.nan\n",
    "print(mcardf.isna().sum() / len(cal))"
   ]
  },
  {
   "cell_type": "code",
   "execution_count": 34,
   "metadata": {},
   "outputs": [
    {
     "name": "stdout",
     "output_type": "stream",
     "text": [
      "MedInc        0.0\n",
      "HouseAge      0.0\n",
      "AveRooms      0.0\n",
      "AveBedrms     0.0\n",
      "Population    0.0\n",
      "AveOccup      0.0\n",
      "Latitude      0.0\n",
      "Longitude     0.0\n",
      "dtype: float64\n"
     ]
    }
   ],
   "source": [
    "mcardf['AveRooms'] = mcardf['AveRooms'].fillna(mcardf['AveRooms'].mean())\n",
    "print(mcardf.isna().sum() / len(cal))"
   ]
  },
  {
   "cell_type": "code",
   "execution_count": 35,
   "metadata": {},
   "outputs": [
    {
     "name": "stdout",
     "output_type": "stream",
     "text": [
      "                coef\n",
      "HouseAge    0.004317\n",
      "AveRooms    0.308641\n",
      "AveBedrms  -1.012983\n",
      "Population -0.000017\n",
      "AveOccup   -0.002351\n",
      "Latitude   -0.741529\n",
      "Longitude  -0.740662\n"
     ]
    },
    {
     "data": {
      "text/html": [
       "<div>\n",
       "<style scoped>\n",
       "    .dataframe tbody tr th:only-of-type {\n",
       "        vertical-align: middle;\n",
       "    }\n",
       "\n",
       "    .dataframe tbody tr th {\n",
       "        vertical-align: top;\n",
       "    }\n",
       "\n",
       "    .dataframe thead th {\n",
       "        text-align: right;\n",
       "    }\n",
       "</style>\n",
       "<table border=\"1\" class=\"dataframe\">\n",
       "  <thead>\n",
       "    <tr style=\"text-align: right;\">\n",
       "      <th></th>\n",
       "      <th>data</th>\n",
       "      <th>imputation_type</th>\n",
       "      <th>mae</th>\n",
       "      <th>mse</th>\n",
       "      <th>R2</th>\n",
       "    </tr>\n",
       "  </thead>\n",
       "  <tbody>\n",
       "    <tr>\n",
       "      <th>0</th>\n",
       "      <td>5% imputed</td>\n",
       "      <td>MCAR</td>\n",
       "      <td>0.6945</td>\n",
       "      <td>0.85094</td>\n",
       "      <td>0.381605</td>\n",
       "    </tr>\n",
       "  </tbody>\n",
       "</table>\n",
       "</div>"
      ],
      "text/plain": [
       "         data imputation_type     mae      mse        R2\n",
       "0  5% imputed            MCAR  0.6945  0.85094  0.381605"
      ]
     },
     "execution_count": 35,
     "metadata": {},
     "output_type": "execute_result"
    }
   ],
   "source": [
    "# Create Lin Reg Model Here\n",
    "LR_pipeline(mcardf,\"5% imputed\", \"MCAR\")"
   ]
  },
  {
   "cell_type": "markdown",
   "metadata": {},
   "source": [
    "### mcar .1"
   ]
  },
  {
   "cell_type": "code",
   "execution_count": 36,
   "metadata": {},
   "outputs": [
    {
     "name": "stdout",
     "output_type": "stream",
     "text": [
      "MedInc        0.0\n",
      "HouseAge      0.0\n",
      "AveRooms      0.1\n",
      "AveBedrms     0.0\n",
      "Population    0.0\n",
      "AveOccup      0.0\n",
      "Latitude      0.0\n",
      "Longitude     0.0\n",
      "dtype: float64\n"
     ]
    }
   ],
   "source": [
    "california = datasets.fetch_california_housing()\n",
    "cal = pd.DataFrame(california.data)\n",
    "cal.columns = california.feature_names\n",
    "cal['MedInc'] = california.target\n",
    "cal.head()\n",
    "mcardf = cal\n",
    "nidx = round(.1 * len(cal))\n",
    "dropidxs = np.random.choice(len(cal), nidx, replace=False)\n",
    "mcardf.loc[dropidxs, 'AveRooms'] = np.nan\n",
    "print(mcardf.isna().sum() / len(cal))"
   ]
  },
  {
   "cell_type": "code",
   "execution_count": 37,
   "metadata": {},
   "outputs": [
    {
     "name": "stdout",
     "output_type": "stream",
     "text": [
      "MedInc        0.0\n",
      "HouseAge      0.0\n",
      "AveRooms      0.0\n",
      "AveBedrms     0.0\n",
      "Population    0.0\n",
      "AveOccup      0.0\n",
      "Latitude      0.0\n",
      "Longitude     0.0\n",
      "dtype: float64\n"
     ]
    }
   ],
   "source": [
    "mcardf['AveRooms'] = mcardf['AveRooms'].fillna(mcardf['AveRooms'].mean())\n",
    "print(mcardf.isna().sum() / len(cal))"
   ]
  },
  {
   "cell_type": "code",
   "execution_count": 38,
   "metadata": {},
   "outputs": [
    {
     "name": "stdout",
     "output_type": "stream",
     "text": [
      "                coef\n",
      "HouseAge    0.003570\n",
      "AveRooms    0.294629\n",
      "AveBedrms  -0.961205\n",
      "Population -0.000020\n",
      "AveOccup   -0.003105\n",
      "Latitude   -0.736278\n",
      "Longitude  -0.738292\n"
     ]
    },
    {
     "data": {
      "text/html": [
       "<div>\n",
       "<style scoped>\n",
       "    .dataframe tbody tr th:only-of-type {\n",
       "        vertical-align: middle;\n",
       "    }\n",
       "\n",
       "    .dataframe tbody tr th {\n",
       "        vertical-align: top;\n",
       "    }\n",
       "\n",
       "    .dataframe thead th {\n",
       "        text-align: right;\n",
       "    }\n",
       "</style>\n",
       "<table border=\"1\" class=\"dataframe\">\n",
       "  <thead>\n",
       "    <tr style=\"text-align: right;\">\n",
       "      <th></th>\n",
       "      <th>data</th>\n",
       "      <th>imputation_type</th>\n",
       "      <th>mae</th>\n",
       "      <th>mse</th>\n",
       "      <th>R2</th>\n",
       "    </tr>\n",
       "  </thead>\n",
       "  <tbody>\n",
       "    <tr>\n",
       "      <th>0</th>\n",
       "      <td>10% imputed</td>\n",
       "      <td>MCAR</td>\n",
       "      <td>0.70119</td>\n",
       "      <td>0.890913</td>\n",
       "      <td>0.381605</td>\n",
       "    </tr>\n",
       "  </tbody>\n",
       "</table>\n",
       "</div>"
      ],
      "text/plain": [
       "          data imputation_type      mae       mse        R2\n",
       "0  10% imputed            MCAR  0.70119  0.890913  0.381605"
      ]
     },
     "execution_count": 38,
     "metadata": {},
     "output_type": "execute_result"
    }
   ],
   "source": [
    "# Create Lin Reg Model Here\n",
    "LR_pipeline(mcardf,\"10% imputed\", \"MCAR\")"
   ]
  },
  {
   "cell_type": "markdown",
   "metadata": {},
   "source": [
    "### mcar .2"
   ]
  },
  {
   "cell_type": "code",
   "execution_count": 39,
   "metadata": {},
   "outputs": [
    {
     "name": "stdout",
     "output_type": "stream",
     "text": [
      "MedInc        0.0\n",
      "HouseAge      0.0\n",
      "AveRooms      0.2\n",
      "AveBedrms     0.0\n",
      "Population    0.0\n",
      "AveOccup      0.0\n",
      "Latitude      0.0\n",
      "Longitude     0.0\n",
      "dtype: float64\n"
     ]
    }
   ],
   "source": [
    "california = datasets.fetch_california_housing()\n",
    "cal = pd.DataFrame(california.data)\n",
    "cal.columns = california.feature_names\n",
    "cal['MedInc'] = california.target\n",
    "cal.head()\n",
    "mcardf = cal\n",
    "nidx = round(.2 * len(cal))\n",
    "dropidxs = np.random.choice(len(cal), nidx, replace=False)\n",
    "mcardf.loc[dropidxs, 'AveRooms'] = np.nan\n",
    "print(mcardf.isna().sum() / len(cal))"
   ]
  },
  {
   "cell_type": "code",
   "execution_count": 40,
   "metadata": {},
   "outputs": [
    {
     "name": "stdout",
     "output_type": "stream",
     "text": [
      "MedInc        0.0\n",
      "HouseAge      0.0\n",
      "AveRooms      0.0\n",
      "AveBedrms     0.0\n",
      "Population    0.0\n",
      "AveOccup      0.0\n",
      "Latitude      0.0\n",
      "Longitude     0.0\n",
      "dtype: float64\n"
     ]
    }
   ],
   "source": [
    "mcardf['AveRooms'] = mcardf['AveRooms'].fillna(mcardf['AveRooms'].mean())\n",
    "print(mcardf.isna().sum() / len(cal))"
   ]
  },
  {
   "cell_type": "code",
   "execution_count": 41,
   "metadata": {},
   "outputs": [
    {
     "name": "stdout",
     "output_type": "stream",
     "text": [
      "                coef\n",
      "HouseAge    0.002520\n",
      "AveRooms    0.281625\n",
      "AveBedrms  -0.912744\n",
      "Population -0.000028\n",
      "AveOccup   -0.002972\n",
      "Latitude   -0.728545\n",
      "Longitude  -0.730794\n"
     ]
    },
    {
     "data": {
      "text/html": [
       "<div>\n",
       "<style scoped>\n",
       "    .dataframe tbody tr th:only-of-type {\n",
       "        vertical-align: middle;\n",
       "    }\n",
       "\n",
       "    .dataframe tbody tr th {\n",
       "        vertical-align: top;\n",
       "    }\n",
       "\n",
       "    .dataframe thead th {\n",
       "        text-align: right;\n",
       "    }\n",
       "</style>\n",
       "<table border=\"1\" class=\"dataframe\">\n",
       "  <thead>\n",
       "    <tr style=\"text-align: right;\">\n",
       "      <th></th>\n",
       "      <th>data</th>\n",
       "      <th>imputation_type</th>\n",
       "      <th>mae</th>\n",
       "      <th>mse</th>\n",
       "      <th>R2</th>\n",
       "    </tr>\n",
       "  </thead>\n",
       "  <tbody>\n",
       "    <tr>\n",
       "      <th>0</th>\n",
       "      <td>20% imputed</td>\n",
       "      <td>MCAR</td>\n",
       "      <td>0.714607</td>\n",
       "      <td>0.908823</td>\n",
       "      <td>0.381605</td>\n",
       "    </tr>\n",
       "  </tbody>\n",
       "</table>\n",
       "</div>"
      ],
      "text/plain": [
       "          data imputation_type       mae       mse        R2\n",
       "0  20% imputed            MCAR  0.714607  0.908823  0.381605"
      ]
     },
     "execution_count": 41,
     "metadata": {},
     "output_type": "execute_result"
    }
   ],
   "source": [
    "# Create Lin Reg Model Here\n",
    "LR_pipeline(mcardf,\"20% imputed\", \"MCAR\")"
   ]
  },
  {
   "cell_type": "markdown",
   "metadata": {},
   "source": [
    "### mcar .33"
   ]
  },
  {
   "cell_type": "code",
   "execution_count": 42,
   "metadata": {},
   "outputs": [
    {
     "name": "stdout",
     "output_type": "stream",
     "text": [
      "MedInc        0.00000\n",
      "HouseAge      0.00000\n",
      "AveRooms      0.32999\n",
      "AveBedrms     0.00000\n",
      "Population    0.00000\n",
      "AveOccup      0.00000\n",
      "Latitude      0.00000\n",
      "Longitude     0.00000\n",
      "dtype: float64\n"
     ]
    }
   ],
   "source": [
    "california = datasets.fetch_california_housing()\n",
    "cal = pd.DataFrame(california.data)\n",
    "cal.columns = california.feature_names\n",
    "cal['MedInc'] = california.target\n",
    "cal.head()\n",
    "mcardf = cal\n",
    "nidx = round(.33 * len(cal))\n",
    "dropidxs = np.random.choice(len(cal), nidx, replace=False)\n",
    "mcardf.loc[dropidxs, 'AveRooms'] = np.nan\n",
    "print(mcardf.isna().sum() / len(cal))"
   ]
  },
  {
   "cell_type": "code",
   "execution_count": 43,
   "metadata": {},
   "outputs": [
    {
     "name": "stdout",
     "output_type": "stream",
     "text": [
      "MedInc        0.0\n",
      "HouseAge      0.0\n",
      "AveRooms      0.0\n",
      "AveBedrms     0.0\n",
      "Population    0.0\n",
      "AveOccup      0.0\n",
      "Latitude      0.0\n",
      "Longitude     0.0\n",
      "dtype: float64\n"
     ]
    }
   ],
   "source": [
    "mcardf['AveRooms'] = mcardf['AveRooms'].fillna(mcardf['AveRooms'].mean())\n",
    "print(mcardf.isna().sum() / len(cal))"
   ]
  },
  {
   "cell_type": "code",
   "execution_count": 44,
   "metadata": {},
   "outputs": [
    {
     "name": "stdout",
     "output_type": "stream",
     "text": [
      "                coef\n",
      "HouseAge    0.001383\n",
      "AveRooms    0.202255\n",
      "AveBedrms  -0.187475\n",
      "Population -0.000029\n",
      "AveOccup   -0.002703\n",
      "Latitude   -0.752870\n",
      "Longitude  -0.761748\n"
     ]
    },
    {
     "data": {
      "text/html": [
       "<div>\n",
       "<style scoped>\n",
       "    .dataframe tbody tr th:only-of-type {\n",
       "        vertical-align: middle;\n",
       "    }\n",
       "\n",
       "    .dataframe tbody tr th {\n",
       "        vertical-align: top;\n",
       "    }\n",
       "\n",
       "    .dataframe thead th {\n",
       "        text-align: right;\n",
       "    }\n",
       "</style>\n",
       "<table border=\"1\" class=\"dataframe\">\n",
       "  <thead>\n",
       "    <tr style=\"text-align: right;\">\n",
       "      <th></th>\n",
       "      <th>data</th>\n",
       "      <th>imputation_type</th>\n",
       "      <th>mae</th>\n",
       "      <th>mse</th>\n",
       "      <th>R2</th>\n",
       "    </tr>\n",
       "  </thead>\n",
       "  <tbody>\n",
       "    <tr>\n",
       "      <th>0</th>\n",
       "      <td>33% imputed</td>\n",
       "      <td>MCAR</td>\n",
       "      <td>0.737726</td>\n",
       "      <td>0.974346</td>\n",
       "      <td>0.381605</td>\n",
       "    </tr>\n",
       "  </tbody>\n",
       "</table>\n",
       "</div>"
      ],
      "text/plain": [
       "          data imputation_type       mae       mse        R2\n",
       "0  33% imputed            MCAR  0.737726  0.974346  0.381605"
      ]
     },
     "execution_count": 44,
     "metadata": {},
     "output_type": "execute_result"
    }
   ],
   "source": [
    "# Create Lin Reg Model Here\n",
    "LR_pipeline(mcardf,\"33% imputed\", \"MCAR\")"
   ]
  },
  {
   "cell_type": "markdown",
   "metadata": {},
   "source": [
    "### mcar .5"
   ]
  },
  {
   "cell_type": "code",
   "execution_count": 45,
   "metadata": {},
   "outputs": [
    {
     "name": "stdout",
     "output_type": "stream",
     "text": [
      "MedInc        0.0\n",
      "HouseAge      0.0\n",
      "AveRooms      0.5\n",
      "AveBedrms     0.0\n",
      "Population    0.0\n",
      "AveOccup      0.0\n",
      "Latitude      0.0\n",
      "Longitude     0.0\n",
      "dtype: float64\n"
     ]
    }
   ],
   "source": [
    "california = datasets.fetch_california_housing()\n",
    "cal = pd.DataFrame(california.data)\n",
    "cal.columns = california.feature_names\n",
    "cal['MedInc'] = california.target\n",
    "cal.head()\n",
    "mcardf = cal\n",
    "nidx = round(.5 * len(cal))\n",
    "dropidxs = np.random.choice(len(cal), nidx, replace=False)\n",
    "mcardf.loc[dropidxs, 'AveRooms'] = np.nan\n",
    "print(mcardf.isna().sum() / len(cal))"
   ]
  },
  {
   "cell_type": "code",
   "execution_count": 46,
   "metadata": {},
   "outputs": [
    {
     "name": "stdout",
     "output_type": "stream",
     "text": [
      "MedInc        0.0\n",
      "HouseAge      0.0\n",
      "AveRooms      0.0\n",
      "AveBedrms     0.0\n",
      "Population    0.0\n",
      "AveOccup      0.0\n",
      "Latitude      0.0\n",
      "Longitude     0.0\n",
      "dtype: float64\n"
     ]
    }
   ],
   "source": [
    "mcardf['AveRooms'] = mcardf['AveRooms'].fillna(mcardf['AveRooms'].mean())\n",
    "print(mcardf.isna().sum() / len(cal))"
   ]
  },
  {
   "cell_type": "code",
   "execution_count": 47,
   "metadata": {},
   "outputs": [
    {
     "name": "stdout",
     "output_type": "stream",
     "text": [
      "                coef\n",
      "HouseAge    0.000524\n",
      "AveRooms    0.192611\n",
      "AveBedrms  -0.095191\n",
      "Population -0.000032\n",
      "AveOccup   -0.002137\n",
      "Latitude   -0.744264\n",
      "Longitude  -0.752982\n"
     ]
    },
    {
     "data": {
      "text/html": [
       "<div>\n",
       "<style scoped>\n",
       "    .dataframe tbody tr th:only-of-type {\n",
       "        vertical-align: middle;\n",
       "    }\n",
       "\n",
       "    .dataframe tbody tr th {\n",
       "        vertical-align: top;\n",
       "    }\n",
       "\n",
       "    .dataframe thead th {\n",
       "        text-align: right;\n",
       "    }\n",
       "</style>\n",
       "<table border=\"1\" class=\"dataframe\">\n",
       "  <thead>\n",
       "    <tr style=\"text-align: right;\">\n",
       "      <th></th>\n",
       "      <th>data</th>\n",
       "      <th>imputation_type</th>\n",
       "      <th>mae</th>\n",
       "      <th>mse</th>\n",
       "      <th>R2</th>\n",
       "    </tr>\n",
       "  </thead>\n",
       "  <tbody>\n",
       "    <tr>\n",
       "      <th>0</th>\n",
       "      <td>50% imputed</td>\n",
       "      <td>MCAR</td>\n",
       "      <td>0.748826</td>\n",
       "      <td>1.000843</td>\n",
       "      <td>0.381605</td>\n",
       "    </tr>\n",
       "  </tbody>\n",
       "</table>\n",
       "</div>"
      ],
      "text/plain": [
       "          data imputation_type       mae       mse        R2\n",
       "0  50% imputed            MCAR  0.748826  1.000843  0.381605"
      ]
     },
     "execution_count": 47,
     "metadata": {},
     "output_type": "execute_result"
    }
   ],
   "source": [
    "# Create Lin Reg Model Here\n",
    "LR_pipeline(mcardf,\"50% imputed\", \"MCAR\")"
   ]
  },
  {
   "cell_type": "markdown",
   "metadata": {},
   "source": [
    "## Missing at Random"
   ]
  },
  {
   "cell_type": "markdown",
   "metadata": {},
   "source": [
    "### MAR .1"
   ]
  },
  {
   "cell_type": "code",
   "execution_count": 48,
   "metadata": {},
   "outputs": [
    {
     "name": "stdout",
     "output_type": "stream",
     "text": [
      "MedInc        0.0\n",
      "HouseAge      0.0\n",
      "AveRooms      0.1\n",
      "AveBedrms     0.0\n",
      "Population    0.0\n",
      "AveOccup      0.0\n",
      "Latitude      0.0\n",
      "Longitude     0.0\n",
      "dtype: float64\n"
     ]
    }
   ],
   "source": [
    "california = datasets.fetch_california_housing()\n",
    "cal = pd.DataFrame(california.data)\n",
    "cal.columns = california.feature_names\n",
    "cal['MedInc'] = california.target\n",
    "cal.head()\n",
    "mardf = cal\n",
    "idxs = mardf[mardf['AveOccup'] > mardf['AveOccup'].quantile(.5)]\n",
    "dropidxs = idxs.sample(frac = .2, replace = False)\n",
    "mardf.loc[dropidxs.index, 'AveRooms'] = np.nan\n",
    "print(mardf.isna().sum() / len(mardf))"
   ]
  },
  {
   "cell_type": "code",
   "execution_count": 49,
   "metadata": {},
   "outputs": [
    {
     "name": "stdout",
     "output_type": "stream",
     "text": [
      "MedInc        0.0\n",
      "HouseAge      0.0\n",
      "AveRooms      0.0\n",
      "AveBedrms     0.0\n",
      "Population    0.0\n",
      "AveOccup      0.0\n",
      "Latitude      0.0\n",
      "Longitude     0.0\n",
      "dtype: float64\n"
     ]
    }
   ],
   "source": [
    "mardf['AveRooms'] = mardf['AveRooms'].fillna(mardf['AveRooms'].mean())\n",
    "print(mardf.isna().sum() / len(cal))"
   ]
  },
  {
   "cell_type": "code",
   "execution_count": 53,
   "metadata": {},
   "outputs": [
    {
     "name": "stdout",
     "output_type": "stream",
     "text": [
      "                coef\n",
      "HouseAge    0.002166\n",
      "AveRooms    0.321427\n",
      "AveBedrms  -1.157609\n",
      "Population -0.000024\n",
      "AveOccup   -0.003035\n",
      "Latitude   -0.741311\n",
      "Longitude  -0.745588\n"
     ]
    },
    {
     "data": {
      "text/html": [
       "<div>\n",
       "<style scoped>\n",
       "    .dataframe tbody tr th:only-of-type {\n",
       "        vertical-align: middle;\n",
       "    }\n",
       "\n",
       "    .dataframe tbody tr th {\n",
       "        vertical-align: top;\n",
       "    }\n",
       "\n",
       "    .dataframe thead th {\n",
       "        text-align: right;\n",
       "    }\n",
       "</style>\n",
       "<table border=\"1\" class=\"dataframe\">\n",
       "  <thead>\n",
       "    <tr style=\"text-align: right;\">\n",
       "      <th></th>\n",
       "      <th>data</th>\n",
       "      <th>imputation_type</th>\n",
       "      <th>mae</th>\n",
       "      <th>mse</th>\n",
       "      <th>R2</th>\n",
       "    </tr>\n",
       "  </thead>\n",
       "  <tbody>\n",
       "    <tr>\n",
       "      <th>0</th>\n",
       "      <td>10% imputed</td>\n",
       "      <td>MAR</td>\n",
       "      <td>0.715899</td>\n",
       "      <td>0.892083</td>\n",
       "      <td>0.381605</td>\n",
       "    </tr>\n",
       "  </tbody>\n",
       "</table>\n",
       "</div>"
      ],
      "text/plain": [
       "          data imputation_type       mae       mse        R2\n",
       "0  10% imputed             MAR  0.715899  0.892083  0.381605"
      ]
     },
     "execution_count": 53,
     "metadata": {},
     "output_type": "execute_result"
    }
   ],
   "source": [
    "# Create Lin Reg Model Here\n",
    "LR_pipeline(mardf,\"10% imputed\", \"MAR\")"
   ]
  },
  {
   "cell_type": "markdown",
   "metadata": {},
   "source": [
    "### MAR .2"
   ]
  },
  {
   "cell_type": "code",
   "execution_count": 54,
   "metadata": {},
   "outputs": [
    {
     "name": "stdout",
     "output_type": "stream",
     "text": [
      "MedInc        0.0\n",
      "HouseAge      0.0\n",
      "AveRooms      0.2\n",
      "AveBedrms     0.0\n",
      "Population    0.0\n",
      "AveOccup      0.0\n",
      "Latitude      0.0\n",
      "Longitude     0.0\n",
      "dtype: float64\n"
     ]
    }
   ],
   "source": [
    "california = datasets.fetch_california_housing()\n",
    "cal = pd.DataFrame(california.data)\n",
    "cal.columns = california.feature_names\n",
    "cal['MedInc'] = california.target\n",
    "cal.head()\n",
    "mardf = cal\n",
    "idxs = mardf[mardf['AveOccup'] > mardf['AveOccup'].quantile(.5)]\n",
    "dropidxs = idxs.sample(frac = .4, replace = False)\n",
    "mardf.loc[dropidxs.index, 'AveRooms'] = np.nan\n",
    "print(mardf.isna().sum() / len(mardf))"
   ]
  },
  {
   "cell_type": "code",
   "execution_count": 55,
   "metadata": {},
   "outputs": [
    {
     "name": "stdout",
     "output_type": "stream",
     "text": [
      "MedInc        0.0\n",
      "HouseAge      0.0\n",
      "AveRooms      0.0\n",
      "AveBedrms     0.0\n",
      "Population    0.0\n",
      "AveOccup      0.0\n",
      "Latitude      0.0\n",
      "Longitude     0.0\n",
      "dtype: float64\n"
     ]
    }
   ],
   "source": [
    "mardf['AveRooms'] = mardf['AveRooms'].fillna(mardf['AveRooms'].mean())\n",
    "print(mardf.isna().sum() / len(cal))"
   ]
  },
  {
   "cell_type": "code",
   "execution_count": 56,
   "metadata": {},
   "outputs": [
    {
     "name": "stdout",
     "output_type": "stream",
     "text": [
      "                coef\n",
      "HouseAge    0.002037\n",
      "AveRooms    0.309088\n",
      "AveBedrms  -1.099007\n",
      "Population -0.000027\n",
      "AveOccup   -0.003050\n",
      "Latitude   -0.738880\n",
      "Longitude  -0.741873\n"
     ]
    },
    {
     "data": {
      "text/html": [
       "<div>\n",
       "<style scoped>\n",
       "    .dataframe tbody tr th:only-of-type {\n",
       "        vertical-align: middle;\n",
       "    }\n",
       "\n",
       "    .dataframe tbody tr th {\n",
       "        vertical-align: top;\n",
       "    }\n",
       "\n",
       "    .dataframe thead th {\n",
       "        text-align: right;\n",
       "    }\n",
       "</style>\n",
       "<table border=\"1\" class=\"dataframe\">\n",
       "  <thead>\n",
       "    <tr style=\"text-align: right;\">\n",
       "      <th></th>\n",
       "      <th>data</th>\n",
       "      <th>imputation_type</th>\n",
       "      <th>mae</th>\n",
       "      <th>mse</th>\n",
       "      <th>R2</th>\n",
       "    </tr>\n",
       "  </thead>\n",
       "  <tbody>\n",
       "    <tr>\n",
       "      <th>0</th>\n",
       "      <td>20% imputed</td>\n",
       "      <td>MAR</td>\n",
       "      <td>0.719138</td>\n",
       "      <td>0.891978</td>\n",
       "      <td>0.381605</td>\n",
       "    </tr>\n",
       "  </tbody>\n",
       "</table>\n",
       "</div>"
      ],
      "text/plain": [
       "          data imputation_type       mae       mse        R2\n",
       "0  20% imputed             MAR  0.719138  0.891978  0.381605"
      ]
     },
     "execution_count": 56,
     "metadata": {},
     "output_type": "execute_result"
    }
   ],
   "source": [
    "# Create Lin Reg Model Here\n",
    "LR_pipeline(mardf,\"20% imputed\", \"MAR\")"
   ]
  },
  {
   "cell_type": "markdown",
   "metadata": {},
   "source": [
    "### MAR .3"
   ]
  },
  {
   "cell_type": "code",
   "execution_count": 66,
   "metadata": {},
   "outputs": [
    {
     "name": "stdout",
     "output_type": "stream",
     "text": [
      "MedInc        0.0\n",
      "HouseAge      0.0\n",
      "AveRooms      0.3\n",
      "AveBedrms     0.0\n",
      "Population    0.0\n",
      "AveOccup      0.0\n",
      "Latitude      0.0\n",
      "Longitude     0.0\n",
      "dtype: float64\n"
     ]
    }
   ],
   "source": [
    "california = datasets.fetch_california_housing()\n",
    "cal = pd.DataFrame(california.data)\n",
    "cal.columns = california.feature_names\n",
    "cal['MedInc'] = california.target\n",
    "cal.head()\n",
    "mardf = cal\n",
    "idxs = mardf[mardf['AveOccup'] > mardf['AveOccup'].quantile(.5)]\n",
    "dropidxs = idxs.sample(frac = .6, replace = False)\n",
    "mardf.loc[dropidxs.index, 'AveRooms'] = np.nan\n",
    "print(mardf.isna().sum() / len(mardf))"
   ]
  },
  {
   "cell_type": "code",
   "execution_count": 67,
   "metadata": {},
   "outputs": [
    {
     "name": "stdout",
     "output_type": "stream",
     "text": [
      "MedInc        0.0\n",
      "HouseAge      0.0\n",
      "AveRooms      0.0\n",
      "AveBedrms     0.0\n",
      "Population    0.0\n",
      "AveOccup      0.0\n",
      "Latitude      0.0\n",
      "Longitude     0.0\n",
      "dtype: float64\n"
     ]
    }
   ],
   "source": [
    "mardf['AveRooms'] = mardf['AveRooms'].fillna(mardf['AveRooms'].mean())\n",
    "print(mardf.isna().sum() / len(cal))"
   ]
  },
  {
   "cell_type": "code",
   "execution_count": 68,
   "metadata": {},
   "outputs": [
    {
     "name": "stdout",
     "output_type": "stream",
     "text": [
      "                coef\n",
      "HouseAge    0.000745\n",
      "AveRooms    0.286899\n",
      "AveBedrms  -1.010825\n",
      "Population -0.000029\n",
      "AveOccup   -0.002379\n",
      "Latitude   -0.740167\n",
      "Longitude  -0.748000\n"
     ]
    },
    {
     "data": {
      "text/html": [
       "<div>\n",
       "<style scoped>\n",
       "    .dataframe tbody tr th:only-of-type {\n",
       "        vertical-align: middle;\n",
       "    }\n",
       "\n",
       "    .dataframe tbody tr th {\n",
       "        vertical-align: top;\n",
       "    }\n",
       "\n",
       "    .dataframe thead th {\n",
       "        text-align: right;\n",
       "    }\n",
       "</style>\n",
       "<table border=\"1\" class=\"dataframe\">\n",
       "  <thead>\n",
       "    <tr style=\"text-align: right;\">\n",
       "      <th></th>\n",
       "      <th>data</th>\n",
       "      <th>imputation_type</th>\n",
       "      <th>mae</th>\n",
       "      <th>mse</th>\n",
       "      <th>R2</th>\n",
       "    </tr>\n",
       "  </thead>\n",
       "  <tbody>\n",
       "    <tr>\n",
       "      <th>0</th>\n",
       "      <td>30% imputed</td>\n",
       "      <td>MAR</td>\n",
       "      <td>0.732378</td>\n",
       "      <td>0.921009</td>\n",
       "      <td>0.381605</td>\n",
       "    </tr>\n",
       "  </tbody>\n",
       "</table>\n",
       "</div>"
      ],
      "text/plain": [
       "          data imputation_type       mae       mse        R2\n",
       "0  30% imputed             MAR  0.732378  0.921009  0.381605"
      ]
     },
     "execution_count": 68,
     "metadata": {},
     "output_type": "execute_result"
    }
   ],
   "source": [
    "# Create Lin Reg Model Here\n",
    "LR_pipeline(mardf,\"30% imputed\", \"MAR\")"
   ]
  },
  {
   "cell_type": "markdown",
   "metadata": {},
   "source": [
    "## Missing \"Not at\" Random"
   ]
  },
  {
   "cell_type": "markdown",
   "metadata": {},
   "source": [
    "### MNAR .25"
   ]
  },
  {
   "cell_type": "code",
   "execution_count": 69,
   "metadata": {},
   "outputs": [
    {
     "name": "stdout",
     "output_type": "stream",
     "text": [
      "MedInc        0.000000\n",
      "HouseAge      0.000000\n",
      "AveRooms      0.249952\n",
      "AveBedrms     0.000000\n",
      "Population    0.000000\n",
      "AveOccup      0.000000\n",
      "Latitude      0.000000\n",
      "Longitude     0.000000\n",
      "dtype: float64\n"
     ]
    }
   ],
   "source": [
    "california = datasets.fetch_california_housing()\n",
    "cal = pd.DataFrame(california.data)\n",
    "cal.columns = california.feature_names\n",
    "cal['MedInc'] = california.target\n",
    "cal.head()\n",
    "mnardf = cal\n",
    "idxs = (mnardf['AveRooms'] > mnardf['AveRooms'].quantile(.75))\n",
    "mnardf.loc[idxs, 'AveRooms'] = np.nan\n",
    "print(mnardf.isna().sum() / len(mnardf))"
   ]
  },
  {
   "cell_type": "code",
   "execution_count": 70,
   "metadata": {},
   "outputs": [
    {
     "name": "stdout",
     "output_type": "stream",
     "text": [
      "MedInc        0.0\n",
      "HouseAge      0.0\n",
      "AveRooms      0.0\n",
      "AveBedrms     0.0\n",
      "Population    0.0\n",
      "AveOccup      0.0\n",
      "Latitude      0.0\n",
      "Longitude     0.0\n",
      "dtype: float64\n"
     ]
    }
   ],
   "source": [
    "mnardf['AveRooms'] = mnardf['AveRooms'].fillna(mnardf['AveRooms'].mean())\n",
    "print(mnardf.isna().sum() / len(cal))"
   ]
  },
  {
   "cell_type": "code",
   "execution_count": 71,
   "metadata": {},
   "outputs": [
    {
     "name": "stdout",
     "output_type": "stream",
     "text": [
      "                coef\n",
      "HouseAge    0.000745\n",
      "AveRooms    0.286899\n",
      "AveBedrms  -1.010825\n",
      "Population -0.000029\n",
      "AveOccup   -0.002379\n",
      "Latitude   -0.740167\n",
      "Longitude  -0.748000\n"
     ]
    },
    {
     "data": {
      "text/html": [
       "<div>\n",
       "<style scoped>\n",
       "    .dataframe tbody tr th:only-of-type {\n",
       "        vertical-align: middle;\n",
       "    }\n",
       "\n",
       "    .dataframe tbody tr th {\n",
       "        vertical-align: top;\n",
       "    }\n",
       "\n",
       "    .dataframe thead th {\n",
       "        text-align: right;\n",
       "    }\n",
       "</style>\n",
       "<table border=\"1\" class=\"dataframe\">\n",
       "  <thead>\n",
       "    <tr style=\"text-align: right;\">\n",
       "      <th></th>\n",
       "      <th>data</th>\n",
       "      <th>imputation_type</th>\n",
       "      <th>mae</th>\n",
       "      <th>mse</th>\n",
       "      <th>R2</th>\n",
       "    </tr>\n",
       "  </thead>\n",
       "  <tbody>\n",
       "    <tr>\n",
       "      <th>0</th>\n",
       "      <td>25% imputed</td>\n",
       "      <td>MNAR</td>\n",
       "      <td>0.732378</td>\n",
       "      <td>0.921009</td>\n",
       "      <td>0.381605</td>\n",
       "    </tr>\n",
       "  </tbody>\n",
       "</table>\n",
       "</div>"
      ],
      "text/plain": [
       "          data imputation_type       mae       mse        R2\n",
       "0  25% imputed            MNAR  0.732378  0.921009  0.381605"
      ]
     },
     "execution_count": 71,
     "metadata": {},
     "output_type": "execute_result"
    }
   ],
   "source": [
    "# Create Lin Reg Model Here\n",
    "LR_pipeline(mardf,\"25% imputed\", \"MNAR\")"
   ]
  },
  {
   "cell_type": "markdown",
   "metadata": {},
   "source": [
    "## Conclusion"
   ]
  },
  {
   "cell_type": "code",
   "execution_count": null,
   "metadata": {},
   "outputs": [],
   "source": [
    "##put together all teh DF"
   ]
  }
 ],
 "metadata": {
  "kernelspec": {
   "display_name": "Python 3",
   "language": "python",
   "name": "python3"
  },
  "language_info": {
   "codemirror_mode": {
    "name": "ipython",
    "version": 3
   },
   "file_extension": ".py",
   "mimetype": "text/x-python",
   "name": "python",
   "nbconvert_exporter": "python",
   "pygments_lexer": "ipython3",
   "version": "3.7.6"
  }
 },
 "nbformat": 4,
 "nbformat_minor": 4
}
