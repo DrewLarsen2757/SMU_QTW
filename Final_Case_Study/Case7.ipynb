{
 "cells": [
  {
   "cell_type": "code",
   "execution_count": 96,
   "metadata": {},
   "outputs": [],
   "source": [
    "import pandas as pd\n",
    "import pandas as pd\n",
    "from sklearn.linear_model import LinearRegression\n",
    "import warnings\n",
    "warnings.filterwarnings('ignore')\n",
    "import pandas_profiling\n",
    "\n"
   ]
  },
  {
   "cell_type": "markdown",
   "metadata": {},
   "source": [
    "## Business Understanding  \n",
    "\n",
    "Using the data that was provided to us, we are trying to classify the y variable by minimizing the cost function: False Positives cost \\\\$10, False Negatives cost \\\\$500, True Positives cost \\\\$0 and True Negatives cost \\\\$0. We were given 50 variables and a target variable, and asked to use the variables to model the target variable. Thus, we are not sure why this problem is important, how to interpret the individual variables, and we bring no domain knowledge into this problem. The results below are purely the result of trends that are present in the dataset. \n",
    "\n",
    "Our assumptions are that the data, as provided to us, is either the entire population in question, or a random sample taken from the entire population in question. We assume that the cost function provided to us is correct, and that False Positives truly cost \\\\$10, False Negatives truly cost \\\\$500, True Positives truly cost \\\\$0 and True Negatives truly cost \\\\$0. \n",
    "\n",
    "## Data Evaluation / Engineering\n",
    "\n",
    "Read the data in."
   ]
  },
  {
   "cell_type": "code",
   "execution_count": 97,
   "metadata": {},
   "outputs": [
    {
     "data": {
      "text/html": [
       "<div>\n",
       "<style scoped>\n",
       "    .dataframe tbody tr th:only-of-type {\n",
       "        vertical-align: middle;\n",
       "    }\n",
       "\n",
       "    .dataframe tbody tr th {\n",
       "        vertical-align: top;\n",
       "    }\n",
       "\n",
       "    .dataframe thead th {\n",
       "        text-align: right;\n",
       "    }\n",
       "</style>\n",
       "<table border=\"1\" class=\"dataframe\">\n",
       "  <thead>\n",
       "    <tr style=\"text-align: right;\">\n",
       "      <th></th>\n",
       "      <th>x0</th>\n",
       "      <th>x1</th>\n",
       "      <th>x2</th>\n",
       "      <th>x3</th>\n",
       "      <th>x4</th>\n",
       "      <th>x5</th>\n",
       "      <th>x6</th>\n",
       "      <th>x7</th>\n",
       "      <th>x8</th>\n",
       "      <th>x9</th>\n",
       "      <th>...</th>\n",
       "      <th>x41</th>\n",
       "      <th>x42</th>\n",
       "      <th>x43</th>\n",
       "      <th>x44</th>\n",
       "      <th>x45</th>\n",
       "      <th>x46</th>\n",
       "      <th>x47</th>\n",
       "      <th>x48</th>\n",
       "      <th>x49</th>\n",
       "      <th>y</th>\n",
       "    </tr>\n",
       "  </thead>\n",
       "  <tbody>\n",
       "    <tr>\n",
       "      <th>0</th>\n",
       "      <td>-0.166563</td>\n",
       "      <td>-3.961588</td>\n",
       "      <td>4.621113</td>\n",
       "      <td>2.481908</td>\n",
       "      <td>-1.800135</td>\n",
       "      <td>0.804684</td>\n",
       "      <td>6.718751</td>\n",
       "      <td>-14.789997</td>\n",
       "      <td>-1.040673</td>\n",
       "      <td>-4.204950</td>\n",
       "      <td>...</td>\n",
       "      <td>-1.497117</td>\n",
       "      <td>5.414063</td>\n",
       "      <td>-2.325655</td>\n",
       "      <td>1.674827</td>\n",
       "      <td>-0.264332</td>\n",
       "      <td>60.781427</td>\n",
       "      <td>-7.689696</td>\n",
       "      <td>0.151589</td>\n",
       "      <td>-8.040166</td>\n",
       "      <td>0</td>\n",
       "    </tr>\n",
       "    <tr>\n",
       "      <th>1</th>\n",
       "      <td>-0.149894</td>\n",
       "      <td>-0.585676</td>\n",
       "      <td>27.839856</td>\n",
       "      <td>4.152333</td>\n",
       "      <td>6.426802</td>\n",
       "      <td>-2.426943</td>\n",
       "      <td>40.477058</td>\n",
       "      <td>-6.725709</td>\n",
       "      <td>0.896421</td>\n",
       "      <td>0.330165</td>\n",
       "      <td>...</td>\n",
       "      <td>36.292790</td>\n",
       "      <td>4.490915</td>\n",
       "      <td>0.762561</td>\n",
       "      <td>6.526662</td>\n",
       "      <td>1.007927</td>\n",
       "      <td>15.805696</td>\n",
       "      <td>-4.896678</td>\n",
       "      <td>-0.320283</td>\n",
       "      <td>16.719974</td>\n",
       "      <td>0</td>\n",
       "    </tr>\n",
       "    <tr>\n",
       "      <th>2</th>\n",
       "      <td>-0.321707</td>\n",
       "      <td>-1.429819</td>\n",
       "      <td>12.251561</td>\n",
       "      <td>6.586874</td>\n",
       "      <td>-5.304647</td>\n",
       "      <td>-11.311090</td>\n",
       "      <td>17.812850</td>\n",
       "      <td>11.060572</td>\n",
       "      <td>5.325880</td>\n",
       "      <td>-2.632984</td>\n",
       "      <td>...</td>\n",
       "      <td>-0.368491</td>\n",
       "      <td>9.088864</td>\n",
       "      <td>-0.689886</td>\n",
       "      <td>-2.731118</td>\n",
       "      <td>0.754200</td>\n",
       "      <td>30.856417</td>\n",
       "      <td>-7.428573</td>\n",
       "      <td>-2.090804</td>\n",
       "      <td>-7.869421</td>\n",
       "      <td>0</td>\n",
       "    </tr>\n",
       "    <tr>\n",
       "      <th>3</th>\n",
       "      <td>-0.245594</td>\n",
       "      <td>5.076677</td>\n",
       "      <td>-24.149632</td>\n",
       "      <td>3.637307</td>\n",
       "      <td>6.505811</td>\n",
       "      <td>2.290224</td>\n",
       "      <td>-35.111751</td>\n",
       "      <td>-18.913592</td>\n",
       "      <td>-0.337041</td>\n",
       "      <td>-5.568076</td>\n",
       "      <td>...</td>\n",
       "      <td>15.691546</td>\n",
       "      <td>-7.467775</td>\n",
       "      <td>2.940789</td>\n",
       "      <td>-6.424112</td>\n",
       "      <td>0.419776</td>\n",
       "      <td>-72.424569</td>\n",
       "      <td>5.361375</td>\n",
       "      <td>1.806070</td>\n",
       "      <td>-7.670847</td>\n",
       "      <td>0</td>\n",
       "    </tr>\n",
       "    <tr>\n",
       "      <th>4</th>\n",
       "      <td>-0.273366</td>\n",
       "      <td>0.306326</td>\n",
       "      <td>-11.352593</td>\n",
       "      <td>1.676758</td>\n",
       "      <td>2.928441</td>\n",
       "      <td>-0.616824</td>\n",
       "      <td>-16.505817</td>\n",
       "      <td>27.532281</td>\n",
       "      <td>1.199715</td>\n",
       "      <td>-4.309105</td>\n",
       "      <td>...</td>\n",
       "      <td>-13.911297</td>\n",
       "      <td>-5.229937</td>\n",
       "      <td>1.783928</td>\n",
       "      <td>3.957801</td>\n",
       "      <td>-0.096988</td>\n",
       "      <td>-14.085435</td>\n",
       "      <td>-0.208351</td>\n",
       "      <td>-0.894942</td>\n",
       "      <td>15.724742</td>\n",
       "      <td>1</td>\n",
       "    </tr>\n",
       "  </tbody>\n",
       "</table>\n",
       "<p>5 rows × 51 columns</p>\n",
       "</div>"
      ],
      "text/plain": [
       "         x0        x1         x2        x3        x4         x5         x6  \\\n",
       "0 -0.166563 -3.961588   4.621113  2.481908 -1.800135   0.804684   6.718751   \n",
       "1 -0.149894 -0.585676  27.839856  4.152333  6.426802  -2.426943  40.477058   \n",
       "2 -0.321707 -1.429819  12.251561  6.586874 -5.304647 -11.311090  17.812850   \n",
       "3 -0.245594  5.076677 -24.149632  3.637307  6.505811   2.290224 -35.111751   \n",
       "4 -0.273366  0.306326 -11.352593  1.676758  2.928441  -0.616824 -16.505817   \n",
       "\n",
       "          x7        x8        x9  ...        x41       x42       x43  \\\n",
       "0 -14.789997 -1.040673 -4.204950  ...  -1.497117  5.414063 -2.325655   \n",
       "1  -6.725709  0.896421  0.330165  ...  36.292790  4.490915  0.762561   \n",
       "2  11.060572  5.325880 -2.632984  ...  -0.368491  9.088864 -0.689886   \n",
       "3 -18.913592 -0.337041 -5.568076  ...  15.691546 -7.467775  2.940789   \n",
       "4  27.532281  1.199715 -4.309105  ... -13.911297 -5.229937  1.783928   \n",
       "\n",
       "        x44       x45        x46       x47       x48        x49  y  \n",
       "0  1.674827 -0.264332  60.781427 -7.689696  0.151589  -8.040166  0  \n",
       "1  6.526662  1.007927  15.805696 -4.896678 -0.320283  16.719974  0  \n",
       "2 -2.731118  0.754200  30.856417 -7.428573 -2.090804  -7.869421  0  \n",
       "3 -6.424112  0.419776 -72.424569  5.361375  1.806070  -7.670847  0  \n",
       "4  3.957801 -0.096988 -14.085435 -0.208351 -0.894942  15.724742  1  \n",
       "\n",
       "[5 rows x 51 columns]"
      ]
     },
     "execution_count": 97,
     "metadata": {},
     "output_type": "execute_result"
    }
   ],
   "source": [
    "df = pd.read_csv(\"final_project.csv\")\n",
    "df.head()"
   ]
  },
  {
   "cell_type": "markdown",
   "metadata": {},
   "source": [
    "**The majority of the data is float64. We will take a deeper look at the variables, starting with the numeric variables.** "
   ]
  },
  {
   "cell_type": "code",
   "execution_count": 98,
   "metadata": {
    "collapsed": true,
    "jupyter": {
     "outputs_hidden": true
    }
   },
   "outputs": [
    {
     "data": {
      "text/plain": [
       "x0     float64\n",
       "x1     float64\n",
       "x2     float64\n",
       "x3     float64\n",
       "x4     float64\n",
       "x5     float64\n",
       "x6     float64\n",
       "x7     float64\n",
       "x8     float64\n",
       "x9     float64\n",
       "x10    float64\n",
       "x11    float64\n",
       "x12    float64\n",
       "x13    float64\n",
       "x14    float64\n",
       "x15    float64\n",
       "x16    float64\n",
       "x17    float64\n",
       "x18    float64\n",
       "x19    float64\n",
       "x20    float64\n",
       "x21    float64\n",
       "x22    float64\n",
       "x23    float64\n",
       "x24     object\n",
       "x25    float64\n",
       "x26    float64\n",
       "x27    float64\n",
       "x28    float64\n",
       "x29     object\n",
       "x30     object\n",
       "x31    float64\n",
       "x32     object\n",
       "x33    float64\n",
       "x34    float64\n",
       "x35    float64\n",
       "x36    float64\n",
       "x37     object\n",
       "x38    float64\n",
       "x39    float64\n",
       "x40    float64\n",
       "x41    float64\n",
       "x42    float64\n",
       "x43    float64\n",
       "x44    float64\n",
       "x45    float64\n",
       "x46    float64\n",
       "x47    float64\n",
       "x48    float64\n",
       "x49    float64\n",
       "y        int64\n",
       "dtype: object"
      ]
     },
     "execution_count": 98,
     "metadata": {},
     "output_type": "execute_result"
    }
   ],
   "source": [
    "df.dtypes"
   ]
  },
  {
   "cell_type": "markdown",
   "metadata": {},
   "source": [
    "**There are between 20 and 50 NA's in each column.**"
   ]
  },
  {
   "cell_type": "code",
   "execution_count": 99,
   "metadata": {
    "collapsed": true,
    "jupyter": {
     "outputs_hidden": true
    }
   },
   "outputs": [
    {
     "data": {
      "text/plain": [
       "x0     26\n",
       "x1     25\n",
       "x2     38\n",
       "x3     37\n",
       "x4     26\n",
       "x5     37\n",
       "x6     26\n",
       "x7     27\n",
       "x8     21\n",
       "x9     30\n",
       "x10    43\n",
       "x11    30\n",
       "x12    36\n",
       "x13    31\n",
       "x14    34\n",
       "x15    35\n",
       "x16    26\n",
       "x17    27\n",
       "x18    40\n",
       "x19    35\n",
       "x20    38\n",
       "x21    29\n",
       "x22    27\n",
       "x23    47\n",
       "x24    28\n",
       "x25    22\n",
       "x26    36\n",
       "x27    30\n",
       "x28    35\n",
       "x29    30\n",
       "x30    30\n",
       "x31    39\n",
       "x32    31\n",
       "x33    41\n",
       "x34    41\n",
       "x35    30\n",
       "x36    27\n",
       "x37    23\n",
       "x38    31\n",
       "x39    23\n",
       "x40    36\n",
       "x41    40\n",
       "x42    26\n",
       "x43    37\n",
       "x44    40\n",
       "x45    29\n",
       "x46    31\n",
       "x47    37\n",
       "x48    32\n",
       "x49    32\n",
       "y       0\n",
       "dtype: int64"
      ]
     },
     "execution_count": 99,
     "metadata": {},
     "output_type": "execute_result"
    }
   ],
   "source": [
    "df.isna().sum()"
   ]
  },
  {
   "cell_type": "markdown",
   "metadata": {},
   "source": [
    "**If we were to drop all of the NA's, we would lose about 1% of the data. We can proceed with dropping NA's without fear of losing too much data.** "
   ]
  },
  {
   "cell_type": "code",
   "execution_count": 100,
   "metadata": {},
   "outputs": [
    {
     "name": "stdout",
     "output_type": "stream",
     "text": [
      "Total Observations 158392\n",
      "Number of observations left after removing N/A values 158392\n",
      "Percentage of data removed 1.0\n"
     ]
    }
   ],
   "source": [
    "print('Total Observations',len(dataset))\n",
    "print('Number of observations left after removing N/A values',len(dataset.dropna()))\n",
    "print('Percentage of data removed',len(dataset.dropna()) / len(dataset))"
   ]
  },
  {
   "cell_type": "markdown",
   "metadata": {},
   "source": [
    "**Looks like we have a variety of ranges for the rest of our numeric variables. All variables have a minimum in the negatives, while all variables have a maximum in the positives. y is a binary 0 or 1, as expected. It appears that all the numeric variables are cleaned, so we will move onto the 'object' columns.**"
   ]
  },
  {
   "cell_type": "code",
   "execution_count": 101,
   "metadata": {},
   "outputs": [
    {
     "data": {
      "text/html": [
       "<div>\n",
       "<style scoped>\n",
       "    .dataframe tbody tr th:only-of-type {\n",
       "        vertical-align: middle;\n",
       "    }\n",
       "\n",
       "    .dataframe tbody tr th {\n",
       "        vertical-align: top;\n",
       "    }\n",
       "\n",
       "    .dataframe thead th {\n",
       "        text-align: right;\n",
       "    }\n",
       "</style>\n",
       "<table border=\"1\" class=\"dataframe\">\n",
       "  <thead>\n",
       "    <tr style=\"text-align: right;\">\n",
       "      <th></th>\n",
       "      <th>x0</th>\n",
       "      <th>x1</th>\n",
       "      <th>x2</th>\n",
       "      <th>x3</th>\n",
       "      <th>x4</th>\n",
       "      <th>x5</th>\n",
       "      <th>x6</th>\n",
       "      <th>x7</th>\n",
       "      <th>x8</th>\n",
       "      <th>x9</th>\n",
       "      <th>...</th>\n",
       "      <th>x41</th>\n",
       "      <th>x42</th>\n",
       "      <th>x43</th>\n",
       "      <th>x44</th>\n",
       "      <th>x45</th>\n",
       "      <th>x46</th>\n",
       "      <th>x47</th>\n",
       "      <th>x48</th>\n",
       "      <th>x49</th>\n",
       "      <th>y</th>\n",
       "    </tr>\n",
       "  </thead>\n",
       "  <tbody>\n",
       "    <tr>\n",
       "      <th>count</th>\n",
       "      <td>158392.000000</td>\n",
       "      <td>158392.000000</td>\n",
       "      <td>158392.000000</td>\n",
       "      <td>158392.000000</td>\n",
       "      <td>158392.000000</td>\n",
       "      <td>158392.000000</td>\n",
       "      <td>158392.000000</td>\n",
       "      <td>158392.000000</td>\n",
       "      <td>158392.000000</td>\n",
       "      <td>158392.000000</td>\n",
       "      <td>...</td>\n",
       "      <td>158392.000000</td>\n",
       "      <td>158392.000000</td>\n",
       "      <td>158392.000000</td>\n",
       "      <td>158392.000000</td>\n",
       "      <td>158392.000000</td>\n",
       "      <td>158392.000000</td>\n",
       "      <td>158392.000000</td>\n",
       "      <td>158392.000000</td>\n",
       "      <td>158392.000000</td>\n",
       "      <td>158392.000000</td>\n",
       "    </tr>\n",
       "    <tr>\n",
       "      <th>mean</th>\n",
       "      <td>-0.000808</td>\n",
       "      <td>0.003705</td>\n",
       "      <td>-1.148314</td>\n",
       "      <td>-0.023012</td>\n",
       "      <td>-0.000266</td>\n",
       "      <td>0.013282</td>\n",
       "      <td>-1.669562</td>\n",
       "      <td>-7.697877</td>\n",
       "      <td>-0.028853</td>\n",
       "      <td>0.004320</td>\n",
       "      <td>...</td>\n",
       "      <td>6.706030</td>\n",
       "      <td>-1.832959</td>\n",
       "      <td>-0.002174</td>\n",
       "      <td>-0.007254</td>\n",
       "      <td>0.000996</td>\n",
       "      <td>-12.751993</td>\n",
       "      <td>0.028262</td>\n",
       "      <td>0.000160</td>\n",
       "      <td>-0.672052</td>\n",
       "      <td>0.401195</td>\n",
       "    </tr>\n",
       "    <tr>\n",
       "      <th>std</th>\n",
       "      <td>0.371064</td>\n",
       "      <td>6.340297</td>\n",
       "      <td>13.274738</td>\n",
       "      <td>8.066624</td>\n",
       "      <td>6.383306</td>\n",
       "      <td>7.672102</td>\n",
       "      <td>19.300472</td>\n",
       "      <td>30.541562</td>\n",
       "      <td>8.904048</td>\n",
       "      <td>6.354359</td>\n",
       "      <td>...</td>\n",
       "      <td>18.675642</td>\n",
       "      <td>5.110079</td>\n",
       "      <td>1.535282</td>\n",
       "      <td>4.163766</td>\n",
       "      <td>0.396604</td>\n",
       "      <td>36.608634</td>\n",
       "      <td>4.787974</td>\n",
       "      <td>1.935087</td>\n",
       "      <td>15.033134</td>\n",
       "      <td>0.490142</td>\n",
       "    </tr>\n",
       "    <tr>\n",
       "      <th>min</th>\n",
       "      <td>-1.592635</td>\n",
       "      <td>-26.278302</td>\n",
       "      <td>-59.394048</td>\n",
       "      <td>-33.864827</td>\n",
       "      <td>-28.467536</td>\n",
       "      <td>-33.822988</td>\n",
       "      <td>-86.354483</td>\n",
       "      <td>-181.506976</td>\n",
       "      <td>-37.691045</td>\n",
       "      <td>-27.980659</td>\n",
       "      <td>...</td>\n",
       "      <td>-82.167224</td>\n",
       "      <td>-27.933750</td>\n",
       "      <td>-6.876234</td>\n",
       "      <td>-17.983487</td>\n",
       "      <td>-1.753221</td>\n",
       "      <td>-201.826828</td>\n",
       "      <td>-21.086333</td>\n",
       "      <td>-8.490155</td>\n",
       "      <td>-65.791191</td>\n",
       "      <td>0.000000</td>\n",
       "    </tr>\n",
       "    <tr>\n",
       "      <th>25%</th>\n",
       "      <td>-0.251246</td>\n",
       "      <td>-4.259016</td>\n",
       "      <td>-10.166609</td>\n",
       "      <td>-5.453044</td>\n",
       "      <td>-4.313987</td>\n",
       "      <td>-5.152419</td>\n",
       "      <td>-14.781485</td>\n",
       "      <td>-27.315875</td>\n",
       "      <td>-6.034094</td>\n",
       "      <td>-4.260304</td>\n",
       "      <td>...</td>\n",
       "      <td>-5.802178</td>\n",
       "      <td>-5.159340</td>\n",
       "      <td>-1.039992</td>\n",
       "      <td>-2.814168</td>\n",
       "      <td>-0.266369</td>\n",
       "      <td>-36.432779</td>\n",
       "      <td>-3.216974</td>\n",
       "      <td>-1.320800</td>\n",
       "      <td>-10.929046</td>\n",
       "      <td>0.000000</td>\n",
       "    </tr>\n",
       "    <tr>\n",
       "      <th>50%</th>\n",
       "      <td>-0.001818</td>\n",
       "      <td>0.010023</td>\n",
       "      <td>-1.342199</td>\n",
       "      <td>-0.028470</td>\n",
       "      <td>-0.001138</td>\n",
       "      <td>0.015135</td>\n",
       "      <td>-1.951457</td>\n",
       "      <td>-6.959275</td>\n",
       "      <td>-0.016173</td>\n",
       "      <td>0.003098</td>\n",
       "      <td>...</td>\n",
       "      <td>6.847926</td>\n",
       "      <td>-1.922935</td>\n",
       "      <td>-0.004279</td>\n",
       "      <td>-0.012278</td>\n",
       "      <td>0.001841</td>\n",
       "      <td>-12.975088</td>\n",
       "      <td>0.036234</td>\n",
       "      <td>-0.011800</td>\n",
       "      <td>-0.569139</td>\n",
       "      <td>0.000000</td>\n",
       "    </tr>\n",
       "    <tr>\n",
       "      <th>75%</th>\n",
       "      <td>0.248622</td>\n",
       "      <td>4.286606</td>\n",
       "      <td>7.878130</td>\n",
       "      <td>5.448332</td>\n",
       "      <td>4.308644</td>\n",
       "      <td>5.191172</td>\n",
       "      <td>11.454209</td>\n",
       "      <td>12.215119</td>\n",
       "      <td>5.978646</td>\n",
       "      <td>4.303807</td>\n",
       "      <td>...</td>\n",
       "      <td>19.269855</td>\n",
       "      <td>1.452018</td>\n",
       "      <td>1.033870</td>\n",
       "      <td>2.781096</td>\n",
       "      <td>0.269194</td>\n",
       "      <td>11.445524</td>\n",
       "      <td>3.269134</td>\n",
       "      <td>1.318161</td>\n",
       "      <td>9.649839</td>\n",
       "      <td>1.000000</td>\n",
       "    </tr>\n",
       "    <tr>\n",
       "      <th>max</th>\n",
       "      <td>1.600849</td>\n",
       "      <td>27.988178</td>\n",
       "      <td>63.545653</td>\n",
       "      <td>38.906025</td>\n",
       "      <td>26.247812</td>\n",
       "      <td>35.550110</td>\n",
       "      <td>92.390605</td>\n",
       "      <td>149.150634</td>\n",
       "      <td>39.049831</td>\n",
       "      <td>27.377842</td>\n",
       "      <td>...</td>\n",
       "      <td>100.050432</td>\n",
       "      <td>22.668041</td>\n",
       "      <td>6.680922</td>\n",
       "      <td>19.069759</td>\n",
       "      <td>1.669205</td>\n",
       "      <td>150.859415</td>\n",
       "      <td>20.836854</td>\n",
       "      <td>8.226552</td>\n",
       "      <td>66.877604</td>\n",
       "      <td>1.000000</td>\n",
       "    </tr>\n",
       "  </tbody>\n",
       "</table>\n",
       "<p>8 rows × 46 columns</p>\n",
       "</div>"
      ],
      "text/plain": [
       "                  x0             x1             x2             x3  \\\n",
       "count  158392.000000  158392.000000  158392.000000  158392.000000   \n",
       "mean       -0.000808       0.003705      -1.148314      -0.023012   \n",
       "std         0.371064       6.340297      13.274738       8.066624   \n",
       "min        -1.592635     -26.278302     -59.394048     -33.864827   \n",
       "25%        -0.251246      -4.259016     -10.166609      -5.453044   \n",
       "50%        -0.001818       0.010023      -1.342199      -0.028470   \n",
       "75%         0.248622       4.286606       7.878130       5.448332   \n",
       "max         1.600849      27.988178      63.545653      38.906025   \n",
       "\n",
       "                  x4             x5             x6             x7  \\\n",
       "count  158392.000000  158392.000000  158392.000000  158392.000000   \n",
       "mean       -0.000266       0.013282      -1.669562      -7.697877   \n",
       "std         6.383306       7.672102      19.300472      30.541562   \n",
       "min       -28.467536     -33.822988     -86.354483    -181.506976   \n",
       "25%        -4.313987      -5.152419     -14.781485     -27.315875   \n",
       "50%        -0.001138       0.015135      -1.951457      -6.959275   \n",
       "75%         4.308644       5.191172      11.454209      12.215119   \n",
       "max        26.247812      35.550110      92.390605     149.150634   \n",
       "\n",
       "                  x8             x9  ...            x41            x42  \\\n",
       "count  158392.000000  158392.000000  ...  158392.000000  158392.000000   \n",
       "mean       -0.028853       0.004320  ...       6.706030      -1.832959   \n",
       "std         8.904048       6.354359  ...      18.675642       5.110079   \n",
       "min       -37.691045     -27.980659  ...     -82.167224     -27.933750   \n",
       "25%        -6.034094      -4.260304  ...      -5.802178      -5.159340   \n",
       "50%        -0.016173       0.003098  ...       6.847926      -1.922935   \n",
       "75%         5.978646       4.303807  ...      19.269855       1.452018   \n",
       "max        39.049831      27.377842  ...     100.050432      22.668041   \n",
       "\n",
       "                 x43            x44            x45            x46  \\\n",
       "count  158392.000000  158392.000000  158392.000000  158392.000000   \n",
       "mean       -0.002174      -0.007254       0.000996     -12.751993   \n",
       "std         1.535282       4.163766       0.396604      36.608634   \n",
       "min        -6.876234     -17.983487      -1.753221    -201.826828   \n",
       "25%        -1.039992      -2.814168      -0.266369     -36.432779   \n",
       "50%        -0.004279      -0.012278       0.001841     -12.975088   \n",
       "75%         1.033870       2.781096       0.269194      11.445524   \n",
       "max         6.680922      19.069759       1.669205     150.859415   \n",
       "\n",
       "                 x47            x48            x49              y  \n",
       "count  158392.000000  158392.000000  158392.000000  158392.000000  \n",
       "mean        0.028262       0.000160      -0.672052       0.401195  \n",
       "std         4.787974       1.935087      15.033134       0.490142  \n",
       "min       -21.086333      -8.490155     -65.791191       0.000000  \n",
       "25%        -3.216974      -1.320800     -10.929046       0.000000  \n",
       "50%         0.036234      -0.011800      -0.569139       0.000000  \n",
       "75%         3.269134       1.318161       9.649839       1.000000  \n",
       "max        20.836854       8.226552      66.877604       1.000000  \n",
       "\n",
       "[8 rows x 46 columns]"
      ]
     },
     "execution_count": 101,
     "metadata": {},
     "output_type": "execute_result"
    }
   ],
   "source": [
    "df_numeric = df.dropna()\n",
    "df_numeric = df_numeric.drop(columns = ['x24', 'x29', 'x30', 'x32', 'x37'])\n",
    "df_numeric.describe()"
   ]
  },
  {
   "cell_type": "markdown",
   "metadata": {},
   "source": [
    "**Our target varible 'y' is a collection of 0s and 1s. There is about a 40/60 split in the target variable.**"
   ]
  },
  {
   "cell_type": "code",
   "execution_count": 108,
   "metadata": {},
   "outputs": [
    {
     "name": "stdout",
     "output_type": "stream",
     "text": [
      "[0 1]\n",
      "0    94846\n",
      "1    63546\n",
      "Name: y, dtype: int64\n",
      "0    0.598805\n",
      "1    0.401195\n",
      "Name: y, dtype: float64\n"
     ]
    }
   ],
   "source": [
    "print(df_numeric['y'].unique())\n",
    "print(df_numeric['y'].value_counts())\n",
    "print(df_numeric['y'].value_counts() / df_numeric['y'].count())"
   ]
  },
  {
   "cell_type": "markdown",
   "metadata": {},
   "source": [
    "**x24 is a column of what looks like continents, between europe, asia, america and nan. This is definitely not a numeric column that is being read in as a string, but we'll want to do some clean up to this column.** "
   ]
  },
  {
   "cell_type": "code",
   "execution_count": 109,
   "metadata": {},
   "outputs": [
    {
     "data": {
      "text/plain": [
       "array(['euorpe', 'asia', 'america', nan], dtype=object)"
      ]
     },
     "execution_count": 109,
     "metadata": {},
     "output_type": "execute_result"
    }
   ],
   "source": [
    "df['x24'].unique()"
   ]
  },
  {
   "cell_type": "markdown",
   "metadata": {},
   "source": [
    "**x29 needs to be cleaned. It is a column of months, where most months are 3 letters, but some are longer.**"
   ]
  },
  {
   "cell_type": "code",
   "execution_count": 11,
   "metadata": {},
   "outputs": [
    {
     "data": {
      "text/plain": [
       "array(['July', 'Aug', 'Jun', 'May', 'sept.', 'Apr', 'Nov', 'Oct', nan,\n",
       "       'Mar', 'Feb', 'Dev', 'January'], dtype=object)"
      ]
     },
     "execution_count": 11,
     "metadata": {},
     "output_type": "execute_result"
    }
   ],
   "source": [
    "df['x29'].unique()"
   ]
  },
  {
   "cell_type": "markdown",
   "metadata": {},
   "source": [
    "**x30 is a column of weekdays, monday through friday. Some days are misspelled. This column needs some cleaning.**"
   ]
  },
  {
   "cell_type": "code",
   "execution_count": 12,
   "metadata": {},
   "outputs": [
    {
     "data": {
      "text/plain": [
       "array(['tuesday', 'wednesday', 'thurday', 'monday', 'friday', nan],\n",
       "      dtype=object)"
      ]
     },
     "execution_count": 12,
     "metadata": {},
     "output_type": "execute_result"
    }
   ],
   "source": [
    "df['x30'].unique()"
   ]
  },
  {
   "cell_type": "markdown",
   "metadata": {},
   "source": [
    "**x32 is a column of percents that is being read in as str instead of numeric. This needs to be cleaned and turned into a numeric variable.**"
   ]
  },
  {
   "cell_type": "code",
   "execution_count": 13,
   "metadata": {},
   "outputs": [
    {
     "data": {
      "text/plain": [
       "array(['0.0%', '-0.02%', '-0.01%', '0.01%', '-0.03%', '0.02%', '-0.0%',\n",
       "       '-0.04%', nan, '0.03%', '0.04%', '-0.05%', '0.05%'], dtype=object)"
      ]
     },
     "execution_count": 13,
     "metadata": {},
     "output_type": "execute_result"
    }
   ],
   "source": [
    "df['x32'].unique()"
   ]
  },
  {
   "cell_type": "markdown",
   "metadata": {},
   "source": [
    "**x37 is a row of dollar values that were read in as str instead of numeric. This variable needs to be cleaned and turned into a numeric variable.** "
   ]
  },
  {
   "cell_type": "code",
   "execution_count": 14,
   "metadata": {},
   "outputs": [
    {
     "data": {
      "text/plain": [
       "array(['$1313.96', '$1962.78', '$430.47', ..., '$1588.65', '$439.21',\n",
       "       '$-1229.34'], dtype=object)"
      ]
     },
     "execution_count": 14,
     "metadata": {},
     "output_type": "execute_result"
    }
   ],
   "source": [
    "df['x37'].unique()"
   ]
  },
  {
   "cell_type": "markdown",
   "metadata": {},
   "source": [
    "**Aside from dropping the NA's, it doesn't look like we need to do much cleaning with the variables that are already numeric. Thus, cleaning will focus on 'x24', 'x29', 'x30', 'x32' and 'x37'. First, we drop NA's.**"
   ]
  },
  {
   "cell_type": "code",
   "execution_count": 111,
   "metadata": {},
   "outputs": [],
   "source": [
    "df_na = df.dropna()"
   ]
  },
  {
   "cell_type": "markdown",
   "metadata": {},
   "source": [
    "**x24 has 'euorpe', 'asia' and 'america' as possible values. We will fix the spelling of europe and capitalize the first letter of each continent name.** "
   ]
  },
  {
   "cell_type": "code",
   "execution_count": 112,
   "metadata": {},
   "outputs": [
    {
     "data": {
      "text/plain": [
       "array(['euorpe', 'asia', 'america'], dtype=object)"
      ]
     },
     "execution_count": 112,
     "metadata": {},
     "output_type": "execute_result"
    }
   ],
   "source": [
    "df_na['x24'].unique()"
   ]
  },
  {
   "cell_type": "code",
   "execution_count": 113,
   "metadata": {},
   "outputs": [
    {
     "data": {
      "text/plain": [
       "array(['Europe', 'Asia', 'America'], dtype=object)"
      ]
     },
     "execution_count": 113,
     "metadata": {},
     "output_type": "execute_result"
    }
   ],
   "source": [
    "df_na['x24'] = df_na['x24'].str.replace('euorpe', 'Europe')\n",
    "df_na['x24'] = df_na['x24'].str.replace('asia', 'Asia')\n",
    "df_na['x24'] = df_na['x24'].str.replace('america', 'America')\n",
    "df_na['x24'].unique()"
   ]
  },
  {
   "cell_type": "markdown",
   "metadata": {},
   "source": [
    "**We move on to the 'x29' variable, which has months in various forms. We will stick with the 3 letter form of each month, since most months are spelled that way. That means 'July', 'sept.', 'Dec' and 'January' need to be fixed.**"
   ]
  },
  {
   "cell_type": "code",
   "execution_count": 18,
   "metadata": {},
   "outputs": [
    {
     "data": {
      "text/plain": [
       "array(['July', 'Aug', 'Jun', 'May', 'sept.', 'Apr', 'Nov', 'Oct', 'Mar',\n",
       "       'Feb', 'Dev', 'January'], dtype=object)"
      ]
     },
     "execution_count": 18,
     "metadata": {},
     "output_type": "execute_result"
    }
   ],
   "source": [
    "df_na['x29'].unique()"
   ]
  },
  {
   "cell_type": "code",
   "execution_count": 19,
   "metadata": {},
   "outputs": [
    {
     "data": {
      "text/plain": [
       "array(['Jul', 'Aug', 'Jun', 'May', 'Sep', 'Apr', 'Nov', 'Oct', 'Mar',\n",
       "       'Feb', 'Dec', 'Jan'], dtype=object)"
      ]
     },
     "execution_count": 19,
     "metadata": {},
     "output_type": "execute_result"
    }
   ],
   "source": [
    "df_na['x29'] = df_na['x29'].str.replace('July', 'Jul')\n",
    "df_na['x29'] = df_na['x29'].str.replace('sept.', 'Sep')\n",
    "df_na['x29'] = df_na['x29'].str.replace('Dev', 'Dec')\n",
    "df_na['x29'] = df_na['x29'].str.replace('January', 'Jan')\n",
    "df_na['x29'].unique()"
   ]
  },
  {
   "cell_type": "markdown",
   "metadata": {},
   "source": [
    "**Here, we look at the x30 variable, which seems to be days of the week. We'll capitalize like we had with the continents, and fix the spelling of 'thurday'.**"
   ]
  },
  {
   "cell_type": "code",
   "execution_count": 114,
   "metadata": {},
   "outputs": [
    {
     "data": {
      "text/plain": [
       "array(['tuesday', 'wednesday', 'thurday', 'monday', 'friday'],\n",
       "      dtype=object)"
      ]
     },
     "execution_count": 114,
     "metadata": {},
     "output_type": "execute_result"
    }
   ],
   "source": [
    "df_na['x30'].unique()"
   ]
  },
  {
   "cell_type": "code",
   "execution_count": 115,
   "metadata": {},
   "outputs": [
    {
     "data": {
      "text/plain": [
       "array(['Tuesday', 'Wednesday', 'Thursday', 'Monday', 'Friday'],\n",
       "      dtype=object)"
      ]
     },
     "execution_count": 115,
     "metadata": {},
     "output_type": "execute_result"
    }
   ],
   "source": [
    "df_na['x30'] = df_na['x30'].str.replace('tuesday', 'Tuesday')\n",
    "df_na['x30'] = df_na['x30'].str.replace('wednesday', 'Wednesday')\n",
    "df_na['x30'] = df_na['x30'].str.replace('thurday', 'Thursday')\n",
    "df_na['x30'] = df_na['x30'].str.replace('monday', 'Monday')\n",
    "df_na['x30'] = df_na['x30'].str.replace('friday', 'Friday')\n",
    "df_na['x30'].unique()"
   ]
  },
  {
   "cell_type": "markdown",
   "metadata": {},
   "source": [
    "**Here, we investigate the 'x32' variable. These are percents that still have % at the end, so pandas interprets them as strings. We will remove the % at the end, convert to numeric, and divide each value by 100 to convert percent to decimal. Note that the result only has 11 unique values instead of 12, as -0.0% and 0.0% were interpreted as two different values initially.**"
   ]
  },
  {
   "cell_type": "code",
   "execution_count": 22,
   "metadata": {},
   "outputs": [
    {
     "data": {
      "text/plain": [
       "array(['0.0%', '-0.02%', '-0.01%', '0.01%', '-0.03%', '0.02%', '-0.0%',\n",
       "       '-0.04%', '0.03%', '0.04%', '-0.05%', '0.05%'], dtype=object)"
      ]
     },
     "execution_count": 22,
     "metadata": {},
     "output_type": "execute_result"
    }
   ],
   "source": [
    "df_na['x32'].unique()"
   ]
  },
  {
   "cell_type": "code",
   "execution_count": 23,
   "metadata": {},
   "outputs": [
    {
     "data": {
      "text/plain": [
       "array([ 0.    , -0.0002, -0.0001,  0.0001, -0.0003,  0.0002, -0.0004,\n",
       "        0.0003,  0.0004, -0.0005,  0.0005])"
      ]
     },
     "execution_count": 23,
     "metadata": {},
     "output_type": "execute_result"
    }
   ],
   "source": [
    "df_na['x32'] = df_na['x32'].str.replace('%', '')\n",
    "df_na['x32'] = df_na['x32'].astype('float64')\n",
    "df_na['x32'] = df_na['x32'] / 100\n",
    "df_na['x32'].unique()"
   ]
  },
  {
   "cell_type": "markdown",
   "metadata": {},
   "source": [
    "**Finally, we have x37. This variable was interpreted as a string due to the leading dollar sign. We will remove this dollar sign and convert the result to numeric.** "
   ]
  },
  {
   "cell_type": "code",
   "execution_count": 116,
   "metadata": {},
   "outputs": [
    {
     "data": {
      "text/plain": [
       "array(['$1313.96', '$1962.78', '$430.47', ..., '$1588.65', '$439.21',\n",
       "       '$-1229.34'], dtype=object)"
      ]
     },
     "execution_count": 116,
     "metadata": {},
     "output_type": "execute_result"
    }
   ],
   "source": [
    "df_na['x37'].unique()"
   ]
  },
  {
   "cell_type": "code",
   "execution_count": 25,
   "metadata": {},
   "outputs": [
    {
     "data": {
      "text/plain": [
       "array([ 1313.96,  1962.78,   430.47, ...,  1588.65,   439.21, -1229.34])"
      ]
     },
     "execution_count": 25,
     "metadata": {},
     "output_type": "execute_result"
    }
   ],
   "source": [
    "df_na['x37'] = df_na['x37'].str.replace('$', '').astype('float64').round(2)\n",
    "df_na['x37'].unique()"
   ]
  },
  {
   "cell_type": "code",
   "execution_count": 117,
   "metadata": {},
   "outputs": [],
   "source": [
    "df_clean = df_na"
   ]
  },
  {
   "cell_type": "markdown",
   "metadata": {},
   "source": [
    "**We have no NA's in our df_clean, and our variables are all numeric other than x24, x29 and x30, which is expected. We are ready to move forward with EDA and modelling.**"
   ]
  },
  {
   "cell_type": "code",
   "execution_count": 118,
   "metadata": {},
   "outputs": [
    {
     "data": {
      "text/plain": [
       "0"
      ]
     },
     "execution_count": 118,
     "metadata": {},
     "output_type": "execute_result"
    }
   ],
   "source": [
    "df_clean.isna().sum().sum()"
   ]
  },
  {
   "cell_type": "code",
   "execution_count": 119,
   "metadata": {},
   "outputs": [
    {
     "data": {
      "text/plain": [
       "x0     float64\n",
       "x1     float64\n",
       "x2     float64\n",
       "x3     float64\n",
       "x4     float64\n",
       "x5     float64\n",
       "x6     float64\n",
       "x7     float64\n",
       "x8     float64\n",
       "x9     float64\n",
       "x10    float64\n",
       "x11    float64\n",
       "x12    float64\n",
       "x13    float64\n",
       "x14    float64\n",
       "x15    float64\n",
       "x16    float64\n",
       "x17    float64\n",
       "x18    float64\n",
       "x19    float64\n",
       "x20    float64\n",
       "x21    float64\n",
       "x22    float64\n",
       "x23    float64\n",
       "x24     object\n",
       "x25    float64\n",
       "x26    float64\n",
       "x27    float64\n",
       "x28    float64\n",
       "x29     object\n",
       "x30     object\n",
       "x31    float64\n",
       "x32     object\n",
       "x33    float64\n",
       "x34    float64\n",
       "x35    float64\n",
       "x36    float64\n",
       "x37     object\n",
       "x38    float64\n",
       "x39    float64\n",
       "x40    float64\n",
       "x41    float64\n",
       "x42    float64\n",
       "x43    float64\n",
       "x44    float64\n",
       "x45    float64\n",
       "x46    float64\n",
       "x47    float64\n",
       "x48    float64\n",
       "x49    float64\n",
       "y        int64\n",
       "dtype: object"
      ]
     },
     "execution_count": 119,
     "metadata": {},
     "output_type": "execute_result"
    }
   ],
   "source": [
    "df_clean.dtypes"
   ]
  },
  {
   "cell_type": "markdown",
   "metadata": {},
   "source": [
    "### Variable Analysis"
   ]
  },
  {
   "cell_type": "markdown",
   "metadata": {},
   "source": [
    "**Below, we create our Pandas Profiling html file. Because it is so large, it cannot be displayed in the Jupyter Notebook. Please see the supplemental FinalProjectEDA.html file.**"
   ]
  },
  {
   "cell_type": "code",
   "execution_count": 29,
   "metadata": {},
   "outputs": [
    {
     "data": {
      "application/vnd.jupyter.widget-view+json": {
       "model_id": "8abc8c13e88c4c8fa313f9bbd36b7df6",
       "version_major": 2,
       "version_minor": 0
      },
      "text/plain": [
       "HBox(children=(FloatProgress(value=0.0, description='Summarize dataset', max=66.0, style=ProgressStyle(descrip…"
      ]
     },
     "metadata": {},
     "output_type": "display_data"
    },
    {
     "name": "stdout",
     "output_type": "stream",
     "text": [
      "\n"
     ]
    },
    {
     "data": {
      "application/vnd.jupyter.widget-view+json": {
       "model_id": "fe26188157554678a54b177f4b0cdc12",
       "version_major": 2,
       "version_minor": 0
      },
      "text/plain": [
       "HBox(children=(FloatProgress(value=0.0, description='Generate report structure', max=1.0, style=ProgressStyle(…"
      ]
     },
     "metadata": {},
     "output_type": "display_data"
    },
    {
     "name": "stdout",
     "output_type": "stream",
     "text": [
      "\n"
     ]
    },
    {
     "data": {
      "application/vnd.jupyter.widget-view+json": {
       "model_id": "005c9ca7728644388020094d5f14e3bf",
       "version_major": 2,
       "version_minor": 0
      },
      "text/plain": [
       "HBox(children=(FloatProgress(value=0.0, description='Render HTML', max=1.0, style=ProgressStyle(description_wi…"
      ]
     },
     "metadata": {},
     "output_type": "display_data"
    },
    {
     "name": "stdout",
     "output_type": "stream",
     "text": [
      "\n"
     ]
    },
    {
     "data": {
      "application/vnd.jupyter.widget-view+json": {
       "model_id": "320511fa2337478bbbb4e430bb5c874d",
       "version_major": 2,
       "version_minor": 0
      },
      "text/plain": [
       "HBox(children=(FloatProgress(value=0.0, description='Export report to file', max=1.0, style=ProgressStyle(desc…"
      ]
     },
     "metadata": {},
     "output_type": "display_data"
    },
    {
     "name": "stdout",
     "output_type": "stream",
     "text": [
      "\n"
     ]
    }
   ],
   "source": [
    "pandas_profiling = df_clean.profile_report()\n",
    "pandas_profiling.to_file('FinalProjectEDA.html')"
   ]
  },
  {
   "cell_type": "markdown",
   "metadata": {},
   "source": [
    "<b><u>Below are some important notes from our Exploratory Data Analysis</b></u>  \n",
    "\n",
    "Missing Values: There are no missing values remaining in this dataset, due to the removal of NA's in the data cleanup section. \n",
    "\n",
    "Correlated Variables: x2 and x6 are highly correlated, x38 and x41 are highly correlated. When doing an analysis, we probably only need to keep one of x2 and x6, and one of x38 and x41 since they contain much of the same information, and including both would be redundent. \n",
    "\n",
    "Assumptions: It appears that all of the numeric variables are normally distributed. The df_index variable will not be used in our analysis. \n",
    "\n",
    "Sampling technique: We will address our sampling technique in our Model Building and Evaluation section. \n",
    "\n",
    "Balance of Target Variable: Our target variable, the y column, is split about 60/40 in favor of 0. We don't believe that this is enough of an imbalance for balancing to be necessary, so we will proceed with using the slightly off balance data that we currently have. \n",
    "\n",
    "Other Notes: Our categorical variables are not evenly distributed. For example, the vast majority of values in the x24 column are \"Asia\".\n",
    "\n",
    "## Modeling Preparation:\n",
    "\n",
    "Given that we have been tasked with a binary classification problem and there is an imbalanced cost  of $500 for false positive predictions an a $10 for incorrectly predicting a false negative we have decided to evaluate our baseline models using two primary metrics Recall and F1-score. If there were an equal cost for incorrect predicitons we may have used Accuracy but the F1-score is a good metric to use when avoiding false negatives and false positives is crucial. Since \n",
    "there is an overweight cost to predicting a false Positive Recall is the metric that we will primarily compare our candidate models becasue maximizing recall means that we should have the fewest number of false positives. The F1-score gives us a good idea how the models are performing overall eventhough we are trying to maximize recall we don't want to do it at the expense of predicting more false negatives which also have a cost.\n",
    "\n",
    "* **Accuracy** - ratio of correctly predicted observation to the total observations. \n",
    "\n",
    "* **Precision** - ratio of correctly predicted positive observations to the total predicted positive observations.  \n",
    "\n",
    "* **Recall** - ratio of correctly predicted positive observations to the all observations in actual class - yes. The question recall answers is: Of all the passengers that truly survived, how many did we label?  \n",
    "\n",
    "* **F1 Score** - the weighted average of Precision and Recall. Therefore, this score takes both false positives and false negatives into account.  \n",
    "\n",
    "Intuitively it is not as easy to understand as accuracy, but F1 is usually more useful than accuracy, especially if you have an uneven class distribution. Accuracy works best if false positives and false negatives have similar cost. If the cost of false positives and false negatives are very different, it’s better to look at both Precision and Recall.\n",
    "\n",
    "## Build and Compare Binary classification models\n",
    "\n",
    "To aid us in finding the model with the best Recall and f1-score we will be using the **PyCaret** package. PyCaret is a powerful package allows us to compare different binary classification models to each other in a convient low code package. To train our baseline test models we will use 90% of our original cleaned data. The remaining 10% of the data that was held out will be use to score the final models.  \n"
   ]
  },
  {
   "cell_type": "code",
   "execution_count": 120,
   "metadata": {},
   "outputs": [],
   "source": [
    "dataset = df_clean"
   ]
  },
  {
   "cell_type": "markdown",
   "metadata": {},
   "source": [
    "**Split the data into 90% training data and 10% validation data**"
   ]
  },
  {
   "cell_type": "code",
   "execution_count": 121,
   "metadata": {},
   "outputs": [
    {
     "name": "stdout",
     "output_type": "stream",
     "text": [
      "Data for Modeling: (142553, 51)\n",
      "Unseen Data For Predictions: (15839, 51)\n"
     ]
    }
   ],
   "source": [
    "data = dataset.sample(frac=0.90, random_state=786)\n",
    "data_unseen = dataset.drop(data.index)\n",
    "data.reset_index(inplace=True, drop=True)\n",
    "data_unseen.reset_index(inplace=True, drop=True)\n",
    "print('Data for Modeling: ' + str(data.shape))\n",
    "print('Unseen Data For Predictions: ' + str(data_unseen.shape))"
   ]
  },
  {
   "cell_type": "markdown",
   "metadata": {},
   "source": [
    "**Initialize Pycaret package**\n",
    "\n",
    "The pycaret package will run through a setup opperation where we will specify our target value 'y' and confirm the setup looks correct before moving to the comparision step."
   ]
  },
  {
   "cell_type": "code",
   "execution_count": 3,
   "metadata": {},
   "outputs": [],
   "source": [
    "from pycaret.classification import *"
   ]
  },
  {
   "cell_type": "code",
   "execution_count": 4,
   "metadata": {},
   "outputs": [
    {
     "name": "stdout",
     "output_type": "stream",
     "text": [
      "Setup Succesfully Completed!\n"
     ]
    },
    {
     "data": {
      "text/html": [
       "<style  type=\"text/css\" >\n",
       "</style><table id=\"T_164e4da6_2ec3_11eb_b511_acde48001122\" ><thead>    <tr>        <th class=\"blank level0\" ></th>        <th class=\"col_heading level0 col0\" >Description</th>        <th class=\"col_heading level0 col1\" >Value</th>    </tr></thead><tbody>\n",
       "                <tr>\n",
       "                        <th id=\"T_164e4da6_2ec3_11eb_b511_acde48001122level0_row0\" class=\"row_heading level0 row0\" >0</th>\n",
       "                        <td id=\"T_164e4da6_2ec3_11eb_b511_acde48001122row0_col0\" class=\"data row0 col0\" >session_id</td>\n",
       "                        <td id=\"T_164e4da6_2ec3_11eb_b511_acde48001122row0_col1\" class=\"data row0 col1\" >123</td>\n",
       "            </tr>\n",
       "            <tr>\n",
       "                        <th id=\"T_164e4da6_2ec3_11eb_b511_acde48001122level0_row1\" class=\"row_heading level0 row1\" >1</th>\n",
       "                        <td id=\"T_164e4da6_2ec3_11eb_b511_acde48001122row1_col0\" class=\"data row1 col0\" >Target Type</td>\n",
       "                        <td id=\"T_164e4da6_2ec3_11eb_b511_acde48001122row1_col1\" class=\"data row1 col1\" >Binary</td>\n",
       "            </tr>\n",
       "            <tr>\n",
       "                        <th id=\"T_164e4da6_2ec3_11eb_b511_acde48001122level0_row2\" class=\"row_heading level0 row2\" >2</th>\n",
       "                        <td id=\"T_164e4da6_2ec3_11eb_b511_acde48001122row2_col0\" class=\"data row2 col0\" >Label Encoded</td>\n",
       "                        <td id=\"T_164e4da6_2ec3_11eb_b511_acde48001122row2_col1\" class=\"data row2 col1\" >0: 0, 1: 1</td>\n",
       "            </tr>\n",
       "            <tr>\n",
       "                        <th id=\"T_164e4da6_2ec3_11eb_b511_acde48001122level0_row3\" class=\"row_heading level0 row3\" >3</th>\n",
       "                        <td id=\"T_164e4da6_2ec3_11eb_b511_acde48001122row3_col0\" class=\"data row3 col0\" >Original Data</td>\n",
       "                        <td id=\"T_164e4da6_2ec3_11eb_b511_acde48001122row3_col1\" class=\"data row3 col1\" >(142553, 52)</td>\n",
       "            </tr>\n",
       "            <tr>\n",
       "                        <th id=\"T_164e4da6_2ec3_11eb_b511_acde48001122level0_row4\" class=\"row_heading level0 row4\" >4</th>\n",
       "                        <td id=\"T_164e4da6_2ec3_11eb_b511_acde48001122row4_col0\" class=\"data row4 col0\" >Missing Values </td>\n",
       "                        <td id=\"T_164e4da6_2ec3_11eb_b511_acde48001122row4_col1\" class=\"data row4 col1\" >False</td>\n",
       "            </tr>\n",
       "            <tr>\n",
       "                        <th id=\"T_164e4da6_2ec3_11eb_b511_acde48001122level0_row5\" class=\"row_heading level0 row5\" >5</th>\n",
       "                        <td id=\"T_164e4da6_2ec3_11eb_b511_acde48001122row5_col0\" class=\"data row5 col0\" >Numeric Features </td>\n",
       "                        <td id=\"T_164e4da6_2ec3_11eb_b511_acde48001122row5_col1\" class=\"data row5 col1\" >48</td>\n",
       "            </tr>\n",
       "            <tr>\n",
       "                        <th id=\"T_164e4da6_2ec3_11eb_b511_acde48001122level0_row6\" class=\"row_heading level0 row6\" >6</th>\n",
       "                        <td id=\"T_164e4da6_2ec3_11eb_b511_acde48001122row6_col0\" class=\"data row6 col0\" >Categorical Features </td>\n",
       "                        <td id=\"T_164e4da6_2ec3_11eb_b511_acde48001122row6_col1\" class=\"data row6 col1\" >3</td>\n",
       "            </tr>\n",
       "            <tr>\n",
       "                        <th id=\"T_164e4da6_2ec3_11eb_b511_acde48001122level0_row7\" class=\"row_heading level0 row7\" >7</th>\n",
       "                        <td id=\"T_164e4da6_2ec3_11eb_b511_acde48001122row7_col0\" class=\"data row7 col0\" >Ordinal Features </td>\n",
       "                        <td id=\"T_164e4da6_2ec3_11eb_b511_acde48001122row7_col1\" class=\"data row7 col1\" >False</td>\n",
       "            </tr>\n",
       "            <tr>\n",
       "                        <th id=\"T_164e4da6_2ec3_11eb_b511_acde48001122level0_row8\" class=\"row_heading level0 row8\" >8</th>\n",
       "                        <td id=\"T_164e4da6_2ec3_11eb_b511_acde48001122row8_col0\" class=\"data row8 col0\" >High Cardinality Features </td>\n",
       "                        <td id=\"T_164e4da6_2ec3_11eb_b511_acde48001122row8_col1\" class=\"data row8 col1\" >False</td>\n",
       "            </tr>\n",
       "            <tr>\n",
       "                        <th id=\"T_164e4da6_2ec3_11eb_b511_acde48001122level0_row9\" class=\"row_heading level0 row9\" >9</th>\n",
       "                        <td id=\"T_164e4da6_2ec3_11eb_b511_acde48001122row9_col0\" class=\"data row9 col0\" >High Cardinality Method </td>\n",
       "                        <td id=\"T_164e4da6_2ec3_11eb_b511_acde48001122row9_col1\" class=\"data row9 col1\" >None</td>\n",
       "            </tr>\n",
       "            <tr>\n",
       "                        <th id=\"T_164e4da6_2ec3_11eb_b511_acde48001122level0_row10\" class=\"row_heading level0 row10\" >10</th>\n",
       "                        <td id=\"T_164e4da6_2ec3_11eb_b511_acde48001122row10_col0\" class=\"data row10 col0\" >Sampled Data</td>\n",
       "                        <td id=\"T_164e4da6_2ec3_11eb_b511_acde48001122row10_col1\" class=\"data row10 col1\" >(142553, 52)</td>\n",
       "            </tr>\n",
       "            <tr>\n",
       "                        <th id=\"T_164e4da6_2ec3_11eb_b511_acde48001122level0_row11\" class=\"row_heading level0 row11\" >11</th>\n",
       "                        <td id=\"T_164e4da6_2ec3_11eb_b511_acde48001122row11_col0\" class=\"data row11 col0\" >Transformed Train Set</td>\n",
       "                        <td id=\"T_164e4da6_2ec3_11eb_b511_acde48001122row11_col1\" class=\"data row11 col1\" >(99787, 68)</td>\n",
       "            </tr>\n",
       "            <tr>\n",
       "                        <th id=\"T_164e4da6_2ec3_11eb_b511_acde48001122level0_row12\" class=\"row_heading level0 row12\" >12</th>\n",
       "                        <td id=\"T_164e4da6_2ec3_11eb_b511_acde48001122row12_col0\" class=\"data row12 col0\" >Transformed Test Set</td>\n",
       "                        <td id=\"T_164e4da6_2ec3_11eb_b511_acde48001122row12_col1\" class=\"data row12 col1\" >(42766, 68)</td>\n",
       "            </tr>\n",
       "            <tr>\n",
       "                        <th id=\"T_164e4da6_2ec3_11eb_b511_acde48001122level0_row13\" class=\"row_heading level0 row13\" >13</th>\n",
       "                        <td id=\"T_164e4da6_2ec3_11eb_b511_acde48001122row13_col0\" class=\"data row13 col0\" >Numeric Imputer </td>\n",
       "                        <td id=\"T_164e4da6_2ec3_11eb_b511_acde48001122row13_col1\" class=\"data row13 col1\" >mean</td>\n",
       "            </tr>\n",
       "            <tr>\n",
       "                        <th id=\"T_164e4da6_2ec3_11eb_b511_acde48001122level0_row14\" class=\"row_heading level0 row14\" >14</th>\n",
       "                        <td id=\"T_164e4da6_2ec3_11eb_b511_acde48001122row14_col0\" class=\"data row14 col0\" >Categorical Imputer </td>\n",
       "                        <td id=\"T_164e4da6_2ec3_11eb_b511_acde48001122row14_col1\" class=\"data row14 col1\" >constant</td>\n",
       "            </tr>\n",
       "            <tr>\n",
       "                        <th id=\"T_164e4da6_2ec3_11eb_b511_acde48001122level0_row15\" class=\"row_heading level0 row15\" >15</th>\n",
       "                        <td id=\"T_164e4da6_2ec3_11eb_b511_acde48001122row15_col0\" class=\"data row15 col0\" >Normalize </td>\n",
       "                        <td id=\"T_164e4da6_2ec3_11eb_b511_acde48001122row15_col1\" class=\"data row15 col1\" >False</td>\n",
       "            </tr>\n",
       "            <tr>\n",
       "                        <th id=\"T_164e4da6_2ec3_11eb_b511_acde48001122level0_row16\" class=\"row_heading level0 row16\" >16</th>\n",
       "                        <td id=\"T_164e4da6_2ec3_11eb_b511_acde48001122row16_col0\" class=\"data row16 col0\" >Normalize Method </td>\n",
       "                        <td id=\"T_164e4da6_2ec3_11eb_b511_acde48001122row16_col1\" class=\"data row16 col1\" >None</td>\n",
       "            </tr>\n",
       "            <tr>\n",
       "                        <th id=\"T_164e4da6_2ec3_11eb_b511_acde48001122level0_row17\" class=\"row_heading level0 row17\" >17</th>\n",
       "                        <td id=\"T_164e4da6_2ec3_11eb_b511_acde48001122row17_col0\" class=\"data row17 col0\" >Transformation </td>\n",
       "                        <td id=\"T_164e4da6_2ec3_11eb_b511_acde48001122row17_col1\" class=\"data row17 col1\" >False</td>\n",
       "            </tr>\n",
       "            <tr>\n",
       "                        <th id=\"T_164e4da6_2ec3_11eb_b511_acde48001122level0_row18\" class=\"row_heading level0 row18\" >18</th>\n",
       "                        <td id=\"T_164e4da6_2ec3_11eb_b511_acde48001122row18_col0\" class=\"data row18 col0\" >Transformation Method </td>\n",
       "                        <td id=\"T_164e4da6_2ec3_11eb_b511_acde48001122row18_col1\" class=\"data row18 col1\" >None</td>\n",
       "            </tr>\n",
       "            <tr>\n",
       "                        <th id=\"T_164e4da6_2ec3_11eb_b511_acde48001122level0_row19\" class=\"row_heading level0 row19\" >19</th>\n",
       "                        <td id=\"T_164e4da6_2ec3_11eb_b511_acde48001122row19_col0\" class=\"data row19 col0\" >PCA </td>\n",
       "                        <td id=\"T_164e4da6_2ec3_11eb_b511_acde48001122row19_col1\" class=\"data row19 col1\" >False</td>\n",
       "            </tr>\n",
       "            <tr>\n",
       "                        <th id=\"T_164e4da6_2ec3_11eb_b511_acde48001122level0_row20\" class=\"row_heading level0 row20\" >20</th>\n",
       "                        <td id=\"T_164e4da6_2ec3_11eb_b511_acde48001122row20_col0\" class=\"data row20 col0\" >PCA Method </td>\n",
       "                        <td id=\"T_164e4da6_2ec3_11eb_b511_acde48001122row20_col1\" class=\"data row20 col1\" >None</td>\n",
       "            </tr>\n",
       "            <tr>\n",
       "                        <th id=\"T_164e4da6_2ec3_11eb_b511_acde48001122level0_row21\" class=\"row_heading level0 row21\" >21</th>\n",
       "                        <td id=\"T_164e4da6_2ec3_11eb_b511_acde48001122row21_col0\" class=\"data row21 col0\" >PCA Components </td>\n",
       "                        <td id=\"T_164e4da6_2ec3_11eb_b511_acde48001122row21_col1\" class=\"data row21 col1\" >None</td>\n",
       "            </tr>\n",
       "            <tr>\n",
       "                        <th id=\"T_164e4da6_2ec3_11eb_b511_acde48001122level0_row22\" class=\"row_heading level0 row22\" >22</th>\n",
       "                        <td id=\"T_164e4da6_2ec3_11eb_b511_acde48001122row22_col0\" class=\"data row22 col0\" >Ignore Low Variance </td>\n",
       "                        <td id=\"T_164e4da6_2ec3_11eb_b511_acde48001122row22_col1\" class=\"data row22 col1\" >False</td>\n",
       "            </tr>\n",
       "            <tr>\n",
       "                        <th id=\"T_164e4da6_2ec3_11eb_b511_acde48001122level0_row23\" class=\"row_heading level0 row23\" >23</th>\n",
       "                        <td id=\"T_164e4da6_2ec3_11eb_b511_acde48001122row23_col0\" class=\"data row23 col0\" >Combine Rare Levels </td>\n",
       "                        <td id=\"T_164e4da6_2ec3_11eb_b511_acde48001122row23_col1\" class=\"data row23 col1\" >False</td>\n",
       "            </tr>\n",
       "            <tr>\n",
       "                        <th id=\"T_164e4da6_2ec3_11eb_b511_acde48001122level0_row24\" class=\"row_heading level0 row24\" >24</th>\n",
       "                        <td id=\"T_164e4da6_2ec3_11eb_b511_acde48001122row24_col0\" class=\"data row24 col0\" >Rare Level Threshold </td>\n",
       "                        <td id=\"T_164e4da6_2ec3_11eb_b511_acde48001122row24_col1\" class=\"data row24 col1\" >None</td>\n",
       "            </tr>\n",
       "            <tr>\n",
       "                        <th id=\"T_164e4da6_2ec3_11eb_b511_acde48001122level0_row25\" class=\"row_heading level0 row25\" >25</th>\n",
       "                        <td id=\"T_164e4da6_2ec3_11eb_b511_acde48001122row25_col0\" class=\"data row25 col0\" >Numeric Binning </td>\n",
       "                        <td id=\"T_164e4da6_2ec3_11eb_b511_acde48001122row25_col1\" class=\"data row25 col1\" >False</td>\n",
       "            </tr>\n",
       "            <tr>\n",
       "                        <th id=\"T_164e4da6_2ec3_11eb_b511_acde48001122level0_row26\" class=\"row_heading level0 row26\" >26</th>\n",
       "                        <td id=\"T_164e4da6_2ec3_11eb_b511_acde48001122row26_col0\" class=\"data row26 col0\" >Remove Outliers </td>\n",
       "                        <td id=\"T_164e4da6_2ec3_11eb_b511_acde48001122row26_col1\" class=\"data row26 col1\" >False</td>\n",
       "            </tr>\n",
       "            <tr>\n",
       "                        <th id=\"T_164e4da6_2ec3_11eb_b511_acde48001122level0_row27\" class=\"row_heading level0 row27\" >27</th>\n",
       "                        <td id=\"T_164e4da6_2ec3_11eb_b511_acde48001122row27_col0\" class=\"data row27 col0\" >Outliers Threshold </td>\n",
       "                        <td id=\"T_164e4da6_2ec3_11eb_b511_acde48001122row27_col1\" class=\"data row27 col1\" >None</td>\n",
       "            </tr>\n",
       "            <tr>\n",
       "                        <th id=\"T_164e4da6_2ec3_11eb_b511_acde48001122level0_row28\" class=\"row_heading level0 row28\" >28</th>\n",
       "                        <td id=\"T_164e4da6_2ec3_11eb_b511_acde48001122row28_col0\" class=\"data row28 col0\" >Remove Multicollinearity </td>\n",
       "                        <td id=\"T_164e4da6_2ec3_11eb_b511_acde48001122row28_col1\" class=\"data row28 col1\" >False</td>\n",
       "            </tr>\n",
       "            <tr>\n",
       "                        <th id=\"T_164e4da6_2ec3_11eb_b511_acde48001122level0_row29\" class=\"row_heading level0 row29\" >29</th>\n",
       "                        <td id=\"T_164e4da6_2ec3_11eb_b511_acde48001122row29_col0\" class=\"data row29 col0\" >Multicollinearity Threshold </td>\n",
       "                        <td id=\"T_164e4da6_2ec3_11eb_b511_acde48001122row29_col1\" class=\"data row29 col1\" >None</td>\n",
       "            </tr>\n",
       "            <tr>\n",
       "                        <th id=\"T_164e4da6_2ec3_11eb_b511_acde48001122level0_row30\" class=\"row_heading level0 row30\" >30</th>\n",
       "                        <td id=\"T_164e4da6_2ec3_11eb_b511_acde48001122row30_col0\" class=\"data row30 col0\" >Clustering </td>\n",
       "                        <td id=\"T_164e4da6_2ec3_11eb_b511_acde48001122row30_col1\" class=\"data row30 col1\" >False</td>\n",
       "            </tr>\n",
       "            <tr>\n",
       "                        <th id=\"T_164e4da6_2ec3_11eb_b511_acde48001122level0_row31\" class=\"row_heading level0 row31\" >31</th>\n",
       "                        <td id=\"T_164e4da6_2ec3_11eb_b511_acde48001122row31_col0\" class=\"data row31 col0\" >Clustering Iteration </td>\n",
       "                        <td id=\"T_164e4da6_2ec3_11eb_b511_acde48001122row31_col1\" class=\"data row31 col1\" >None</td>\n",
       "            </tr>\n",
       "            <tr>\n",
       "                        <th id=\"T_164e4da6_2ec3_11eb_b511_acde48001122level0_row32\" class=\"row_heading level0 row32\" >32</th>\n",
       "                        <td id=\"T_164e4da6_2ec3_11eb_b511_acde48001122row32_col0\" class=\"data row32 col0\" >Polynomial Features </td>\n",
       "                        <td id=\"T_164e4da6_2ec3_11eb_b511_acde48001122row32_col1\" class=\"data row32 col1\" >False</td>\n",
       "            </tr>\n",
       "            <tr>\n",
       "                        <th id=\"T_164e4da6_2ec3_11eb_b511_acde48001122level0_row33\" class=\"row_heading level0 row33\" >33</th>\n",
       "                        <td id=\"T_164e4da6_2ec3_11eb_b511_acde48001122row33_col0\" class=\"data row33 col0\" >Polynomial Degree </td>\n",
       "                        <td id=\"T_164e4da6_2ec3_11eb_b511_acde48001122row33_col1\" class=\"data row33 col1\" >None</td>\n",
       "            </tr>\n",
       "            <tr>\n",
       "                        <th id=\"T_164e4da6_2ec3_11eb_b511_acde48001122level0_row34\" class=\"row_heading level0 row34\" >34</th>\n",
       "                        <td id=\"T_164e4da6_2ec3_11eb_b511_acde48001122row34_col0\" class=\"data row34 col0\" >Trignometry Features </td>\n",
       "                        <td id=\"T_164e4da6_2ec3_11eb_b511_acde48001122row34_col1\" class=\"data row34 col1\" >False</td>\n",
       "            </tr>\n",
       "            <tr>\n",
       "                        <th id=\"T_164e4da6_2ec3_11eb_b511_acde48001122level0_row35\" class=\"row_heading level0 row35\" >35</th>\n",
       "                        <td id=\"T_164e4da6_2ec3_11eb_b511_acde48001122row35_col0\" class=\"data row35 col0\" >Polynomial Threshold </td>\n",
       "                        <td id=\"T_164e4da6_2ec3_11eb_b511_acde48001122row35_col1\" class=\"data row35 col1\" >None</td>\n",
       "            </tr>\n",
       "            <tr>\n",
       "                        <th id=\"T_164e4da6_2ec3_11eb_b511_acde48001122level0_row36\" class=\"row_heading level0 row36\" >36</th>\n",
       "                        <td id=\"T_164e4da6_2ec3_11eb_b511_acde48001122row36_col0\" class=\"data row36 col0\" >Group Features </td>\n",
       "                        <td id=\"T_164e4da6_2ec3_11eb_b511_acde48001122row36_col1\" class=\"data row36 col1\" >False</td>\n",
       "            </tr>\n",
       "            <tr>\n",
       "                        <th id=\"T_164e4da6_2ec3_11eb_b511_acde48001122level0_row37\" class=\"row_heading level0 row37\" >37</th>\n",
       "                        <td id=\"T_164e4da6_2ec3_11eb_b511_acde48001122row37_col0\" class=\"data row37 col0\" >Feature Selection </td>\n",
       "                        <td id=\"T_164e4da6_2ec3_11eb_b511_acde48001122row37_col1\" class=\"data row37 col1\" >False</td>\n",
       "            </tr>\n",
       "            <tr>\n",
       "                        <th id=\"T_164e4da6_2ec3_11eb_b511_acde48001122level0_row38\" class=\"row_heading level0 row38\" >38</th>\n",
       "                        <td id=\"T_164e4da6_2ec3_11eb_b511_acde48001122row38_col0\" class=\"data row38 col0\" >Features Selection Threshold </td>\n",
       "                        <td id=\"T_164e4da6_2ec3_11eb_b511_acde48001122row38_col1\" class=\"data row38 col1\" >None</td>\n",
       "            </tr>\n",
       "            <tr>\n",
       "                        <th id=\"T_164e4da6_2ec3_11eb_b511_acde48001122level0_row39\" class=\"row_heading level0 row39\" >39</th>\n",
       "                        <td id=\"T_164e4da6_2ec3_11eb_b511_acde48001122row39_col0\" class=\"data row39 col0\" >Feature Interaction </td>\n",
       "                        <td id=\"T_164e4da6_2ec3_11eb_b511_acde48001122row39_col1\" class=\"data row39 col1\" >False</td>\n",
       "            </tr>\n",
       "            <tr>\n",
       "                        <th id=\"T_164e4da6_2ec3_11eb_b511_acde48001122level0_row40\" class=\"row_heading level0 row40\" >40</th>\n",
       "                        <td id=\"T_164e4da6_2ec3_11eb_b511_acde48001122row40_col0\" class=\"data row40 col0\" >Feature Ratio </td>\n",
       "                        <td id=\"T_164e4da6_2ec3_11eb_b511_acde48001122row40_col1\" class=\"data row40 col1\" >False</td>\n",
       "            </tr>\n",
       "            <tr>\n",
       "                        <th id=\"T_164e4da6_2ec3_11eb_b511_acde48001122level0_row41\" class=\"row_heading level0 row41\" >41</th>\n",
       "                        <td id=\"T_164e4da6_2ec3_11eb_b511_acde48001122row41_col0\" class=\"data row41 col0\" >Interaction Threshold </td>\n",
       "                        <td id=\"T_164e4da6_2ec3_11eb_b511_acde48001122row41_col1\" class=\"data row41 col1\" >None</td>\n",
       "            </tr>\n",
       "            <tr>\n",
       "                        <th id=\"T_164e4da6_2ec3_11eb_b511_acde48001122level0_row42\" class=\"row_heading level0 row42\" >42</th>\n",
       "                        <td id=\"T_164e4da6_2ec3_11eb_b511_acde48001122row42_col0\" class=\"data row42 col0\" >Fix Imbalance</td>\n",
       "                        <td id=\"T_164e4da6_2ec3_11eb_b511_acde48001122row42_col1\" class=\"data row42 col1\" >False</td>\n",
       "            </tr>\n",
       "            <tr>\n",
       "                        <th id=\"T_164e4da6_2ec3_11eb_b511_acde48001122level0_row43\" class=\"row_heading level0 row43\" >43</th>\n",
       "                        <td id=\"T_164e4da6_2ec3_11eb_b511_acde48001122row43_col0\" class=\"data row43 col0\" >Fix Imbalance Method</td>\n",
       "                        <td id=\"T_164e4da6_2ec3_11eb_b511_acde48001122row43_col1\" class=\"data row43 col1\" >SMOTE</td>\n",
       "            </tr>\n",
       "    </tbody></table>"
      ],
      "text/plain": [
       "<pandas.io.formats.style.Styler at 0x7f888f35e6a0>"
      ]
     },
     "metadata": {},
     "output_type": "display_data"
    },
    {
     "name": "stdout",
     "output_type": "stream",
     "text": [
      "CPU times: user 1min 25s, sys: 14.9 s, total: 1min 40s\n",
      "Wall time: 39min 41s\n"
     ]
    }
   ],
   "source": [
    "%%time\n",
    "exp_clf101 = setup(data = data, target = 'y', session_id=123)"
   ]
  },
  {
   "cell_type": "markdown",
   "metadata": {},
   "source": [
    "**After setup we will run the compare_models function(). This will run a 10 fold cross validation on each or our canidate models. In k-fold cross-validation, the original sample is randomly partitioned into k equal sized subsamples. Of the k subsamples, a single subsample is retained as the validation data for testing the model, and the remaining k − 1 subsamples are used as training data. The cross-validation process is then repeated k times, with each of the k subsamples used exactly once as the validation data. The k results can then be averaged to produce a single estimation. In our case K=10 folds.**  \n",
    "\n",
    "**The first time this process was run we did not exclude any models but the process took over an hour to run so to speed up debugging and use of this notebook we are excluding some of the models that took the most time to train but did not produce superior recall or F1 scores.**\n",
    "\n",
    "**Based on the comparison we can see that decision tree based models seem to perform best on the data we have been given. The top too models CatBoost Classifier and Light Gradient Boosting Machine are boosted tree based models. Boosting means that each tree is dependent on prior trees. The algorithm learns by fitting the residual of the trees that preceded it. Thus, boosting in a decision tree ensemble tends to improve accuracy with some small risk of less coverage. Boosted models are really good at binary classification but because they are ensemble models meaning they consist of more than one model working together they can be difficult to interpret.**"
   ]
  },
  {
   "cell_type": "code",
   "execution_count": 76,
   "metadata": {},
   "outputs": [
    {
     "data": {
      "text/html": [
       "<style  type=\"text/css\" >\n",
       "    #T_073fa5e2_2f67_11eb_9e95_acde48001122 th {\n",
       "          text-align: left;\n",
       "    }#T_073fa5e2_2f67_11eb_9e95_acde48001122row0_col0,#T_073fa5e2_2f67_11eb_9e95_acde48001122row0_col4,#T_073fa5e2_2f67_11eb_9e95_acde48001122row1_col0,#T_073fa5e2_2f67_11eb_9e95_acde48001122row1_col1,#T_073fa5e2_2f67_11eb_9e95_acde48001122row1_col2,#T_073fa5e2_2f67_11eb_9e95_acde48001122row1_col3,#T_073fa5e2_2f67_11eb_9e95_acde48001122row1_col4,#T_073fa5e2_2f67_11eb_9e95_acde48001122row1_col5,#T_073fa5e2_2f67_11eb_9e95_acde48001122row1_col6,#T_073fa5e2_2f67_11eb_9e95_acde48001122row1_col7,#T_073fa5e2_2f67_11eb_9e95_acde48001122row2_col0,#T_073fa5e2_2f67_11eb_9e95_acde48001122row2_col1,#T_073fa5e2_2f67_11eb_9e95_acde48001122row2_col2,#T_073fa5e2_2f67_11eb_9e95_acde48001122row2_col3,#T_073fa5e2_2f67_11eb_9e95_acde48001122row2_col5,#T_073fa5e2_2f67_11eb_9e95_acde48001122row2_col6,#T_073fa5e2_2f67_11eb_9e95_acde48001122row2_col7,#T_073fa5e2_2f67_11eb_9e95_acde48001122row3_col0,#T_073fa5e2_2f67_11eb_9e95_acde48001122row3_col1,#T_073fa5e2_2f67_11eb_9e95_acde48001122row3_col2,#T_073fa5e2_2f67_11eb_9e95_acde48001122row3_col3,#T_073fa5e2_2f67_11eb_9e95_acde48001122row3_col4,#T_073fa5e2_2f67_11eb_9e95_acde48001122row3_col5,#T_073fa5e2_2f67_11eb_9e95_acde48001122row3_col6,#T_073fa5e2_2f67_11eb_9e95_acde48001122row3_col7,#T_073fa5e2_2f67_11eb_9e95_acde48001122row4_col0,#T_073fa5e2_2f67_11eb_9e95_acde48001122row4_col1,#T_073fa5e2_2f67_11eb_9e95_acde48001122row4_col2,#T_073fa5e2_2f67_11eb_9e95_acde48001122row4_col3,#T_073fa5e2_2f67_11eb_9e95_acde48001122row4_col4,#T_073fa5e2_2f67_11eb_9e95_acde48001122row4_col5,#T_073fa5e2_2f67_11eb_9e95_acde48001122row4_col6,#T_073fa5e2_2f67_11eb_9e95_acde48001122row4_col7,#T_073fa5e2_2f67_11eb_9e95_acde48001122row5_col0,#T_073fa5e2_2f67_11eb_9e95_acde48001122row5_col1,#T_073fa5e2_2f67_11eb_9e95_acde48001122row5_col2,#T_073fa5e2_2f67_11eb_9e95_acde48001122row5_col3,#T_073fa5e2_2f67_11eb_9e95_acde48001122row5_col4,#T_073fa5e2_2f67_11eb_9e95_acde48001122row5_col5,#T_073fa5e2_2f67_11eb_9e95_acde48001122row5_col6,#T_073fa5e2_2f67_11eb_9e95_acde48001122row5_col7,#T_073fa5e2_2f67_11eb_9e95_acde48001122row6_col0,#T_073fa5e2_2f67_11eb_9e95_acde48001122row6_col1,#T_073fa5e2_2f67_11eb_9e95_acde48001122row6_col2,#T_073fa5e2_2f67_11eb_9e95_acde48001122row6_col3,#T_073fa5e2_2f67_11eb_9e95_acde48001122row6_col4,#T_073fa5e2_2f67_11eb_9e95_acde48001122row6_col5,#T_073fa5e2_2f67_11eb_9e95_acde48001122row6_col6,#T_073fa5e2_2f67_11eb_9e95_acde48001122row6_col7,#T_073fa5e2_2f67_11eb_9e95_acde48001122row7_col0,#T_073fa5e2_2f67_11eb_9e95_acde48001122row7_col1,#T_073fa5e2_2f67_11eb_9e95_acde48001122row7_col2,#T_073fa5e2_2f67_11eb_9e95_acde48001122row7_col3,#T_073fa5e2_2f67_11eb_9e95_acde48001122row7_col4,#T_073fa5e2_2f67_11eb_9e95_acde48001122row7_col5,#T_073fa5e2_2f67_11eb_9e95_acde48001122row7_col6,#T_073fa5e2_2f67_11eb_9e95_acde48001122row7_col7,#T_073fa5e2_2f67_11eb_9e95_acde48001122row8_col0,#T_073fa5e2_2f67_11eb_9e95_acde48001122row8_col1,#T_073fa5e2_2f67_11eb_9e95_acde48001122row8_col2,#T_073fa5e2_2f67_11eb_9e95_acde48001122row8_col3,#T_073fa5e2_2f67_11eb_9e95_acde48001122row8_col4,#T_073fa5e2_2f67_11eb_9e95_acde48001122row8_col5,#T_073fa5e2_2f67_11eb_9e95_acde48001122row8_col6,#T_073fa5e2_2f67_11eb_9e95_acde48001122row8_col7,#T_073fa5e2_2f67_11eb_9e95_acde48001122row9_col0,#T_073fa5e2_2f67_11eb_9e95_acde48001122row9_col1,#T_073fa5e2_2f67_11eb_9e95_acde48001122row9_col2,#T_073fa5e2_2f67_11eb_9e95_acde48001122row9_col3,#T_073fa5e2_2f67_11eb_9e95_acde48001122row9_col4,#T_073fa5e2_2f67_11eb_9e95_acde48001122row9_col5,#T_073fa5e2_2f67_11eb_9e95_acde48001122row9_col6,#T_073fa5e2_2f67_11eb_9e95_acde48001122row9_col7,#T_073fa5e2_2f67_11eb_9e95_acde48001122row10_col0,#T_073fa5e2_2f67_11eb_9e95_acde48001122row10_col1,#T_073fa5e2_2f67_11eb_9e95_acde48001122row10_col2,#T_073fa5e2_2f67_11eb_9e95_acde48001122row10_col3,#T_073fa5e2_2f67_11eb_9e95_acde48001122row10_col4,#T_073fa5e2_2f67_11eb_9e95_acde48001122row10_col5,#T_073fa5e2_2f67_11eb_9e95_acde48001122row10_col6,#T_073fa5e2_2f67_11eb_9e95_acde48001122row10_col7{\n",
       "            text-align:  left;\n",
       "        }#T_073fa5e2_2f67_11eb_9e95_acde48001122row0_col1,#T_073fa5e2_2f67_11eb_9e95_acde48001122row0_col2,#T_073fa5e2_2f67_11eb_9e95_acde48001122row0_col3,#T_073fa5e2_2f67_11eb_9e95_acde48001122row0_col5,#T_073fa5e2_2f67_11eb_9e95_acde48001122row0_col6,#T_073fa5e2_2f67_11eb_9e95_acde48001122row0_col7,#T_073fa5e2_2f67_11eb_9e95_acde48001122row2_col4{\n",
       "            background-color:  yellow;\n",
       "            text-align:  left;\n",
       "        }#T_073fa5e2_2f67_11eb_9e95_acde48001122row0_col8,#T_073fa5e2_2f67_11eb_9e95_acde48001122row1_col8,#T_073fa5e2_2f67_11eb_9e95_acde48001122row2_col8,#T_073fa5e2_2f67_11eb_9e95_acde48001122row3_col8,#T_073fa5e2_2f67_11eb_9e95_acde48001122row4_col8,#T_073fa5e2_2f67_11eb_9e95_acde48001122row5_col8,#T_073fa5e2_2f67_11eb_9e95_acde48001122row6_col8,#T_073fa5e2_2f67_11eb_9e95_acde48001122row7_col8,#T_073fa5e2_2f67_11eb_9e95_acde48001122row8_col8,#T_073fa5e2_2f67_11eb_9e95_acde48001122row9_col8,#T_073fa5e2_2f67_11eb_9e95_acde48001122row10_col8{\n",
       "            background-color:  lightgrey;\n",
       "            text-align:  left;\n",
       "        }</style><table id=\"T_073fa5e2_2f67_11eb_9e95_acde48001122\" ><thead>    <tr>        <th class=\"blank level0\" ></th>        <th class=\"col_heading level0 col0\" >Model</th>        <th class=\"col_heading level0 col1\" >Accuracy</th>        <th class=\"col_heading level0 col2\" >AUC</th>        <th class=\"col_heading level0 col3\" >Recall</th>        <th class=\"col_heading level0 col4\" >Prec.</th>        <th class=\"col_heading level0 col5\" >F1</th>        <th class=\"col_heading level0 col6\" >Kappa</th>        <th class=\"col_heading level0 col7\" >MCC</th>        <th class=\"col_heading level0 col8\" >TT (Sec)</th>    </tr></thead><tbody>\n",
       "                <tr>\n",
       "                        <th id=\"T_073fa5e2_2f67_11eb_9e95_acde48001122level0_row0\" class=\"row_heading level0 row0\" >0</th>\n",
       "                        <td id=\"T_073fa5e2_2f67_11eb_9e95_acde48001122row0_col0\" class=\"data row0 col0\" >CatBoost Classifier</td>\n",
       "                        <td id=\"T_073fa5e2_2f67_11eb_9e95_acde48001122row0_col1\" class=\"data row0 col1\" >0.9327</td>\n",
       "                        <td id=\"T_073fa5e2_2f67_11eb_9e95_acde48001122row0_col2\" class=\"data row0 col2\" >0.9794</td>\n",
       "                        <td id=\"T_073fa5e2_2f67_11eb_9e95_acde48001122row0_col3\" class=\"data row0 col3\" >0.9063</td>\n",
       "                        <td id=\"T_073fa5e2_2f67_11eb_9e95_acde48001122row0_col4\" class=\"data row0 col4\" >0.9246</td>\n",
       "                        <td id=\"T_073fa5e2_2f67_11eb_9e95_acde48001122row0_col5\" class=\"data row0 col5\" >0.9154</td>\n",
       "                        <td id=\"T_073fa5e2_2f67_11eb_9e95_acde48001122row0_col6\" class=\"data row0 col6\" >0.8595</td>\n",
       "                        <td id=\"T_073fa5e2_2f67_11eb_9e95_acde48001122row0_col7\" class=\"data row0 col7\" >0.8596</td>\n",
       "                        <td id=\"T_073fa5e2_2f67_11eb_9e95_acde48001122row0_col8\" class=\"data row0 col8\" >17.0987</td>\n",
       "            </tr>\n",
       "            <tr>\n",
       "                        <th id=\"T_073fa5e2_2f67_11eb_9e95_acde48001122level0_row1\" class=\"row_heading level0 row1\" >1</th>\n",
       "                        <td id=\"T_073fa5e2_2f67_11eb_9e95_acde48001122row1_col0\" class=\"data row1 col0\" >Light Gradient Boosting Machine</td>\n",
       "                        <td id=\"T_073fa5e2_2f67_11eb_9e95_acde48001122row1_col1\" class=\"data row1 col1\" >0.9082</td>\n",
       "                        <td id=\"T_073fa5e2_2f67_11eb_9e95_acde48001122row1_col2\" class=\"data row1 col2\" >0.9664</td>\n",
       "                        <td id=\"T_073fa5e2_2f67_11eb_9e95_acde48001122row1_col3\" class=\"data row1 col3\" >0.8648</td>\n",
       "                        <td id=\"T_073fa5e2_2f67_11eb_9e95_acde48001122row1_col4\" class=\"data row1 col4\" >0.9026</td>\n",
       "                        <td id=\"T_073fa5e2_2f67_11eb_9e95_acde48001122row1_col5\" class=\"data row1 col5\" >0.8833</td>\n",
       "                        <td id=\"T_073fa5e2_2f67_11eb_9e95_acde48001122row1_col6\" class=\"data row1 col6\" >0.8077</td>\n",
       "                        <td id=\"T_073fa5e2_2f67_11eb_9e95_acde48001122row1_col7\" class=\"data row1 col7\" >0.8083</td>\n",
       "                        <td id=\"T_073fa5e2_2f67_11eb_9e95_acde48001122row1_col8\" class=\"data row1 col8\" >2.5843</td>\n",
       "            </tr>\n",
       "            <tr>\n",
       "                        <th id=\"T_073fa5e2_2f67_11eb_9e95_acde48001122level0_row2\" class=\"row_heading level0 row2\" >2</th>\n",
       "                        <td id=\"T_073fa5e2_2f67_11eb_9e95_acde48001122row2_col0\" class=\"data row2 col0\" >Extra Trees Classifier</td>\n",
       "                        <td id=\"T_073fa5e2_2f67_11eb_9e95_acde48001122row2_col1\" class=\"data row2 col1\" >0.9053</td>\n",
       "                        <td id=\"T_073fa5e2_2f67_11eb_9e95_acde48001122row2_col2\" class=\"data row2 col2\" >0.9682</td>\n",
       "                        <td id=\"T_073fa5e2_2f67_11eb_9e95_acde48001122row2_col3\" class=\"data row2 col3\" >0.8305</td>\n",
       "                        <td id=\"T_073fa5e2_2f67_11eb_9e95_acde48001122row2_col4\" class=\"data row2 col4\" >0.9261</td>\n",
       "                        <td id=\"T_073fa5e2_2f67_11eb_9e95_acde48001122row2_col5\" class=\"data row2 col5\" >0.8757</td>\n",
       "                        <td id=\"T_073fa5e2_2f67_11eb_9e95_acde48001122row2_col6\" class=\"data row2 col6\" >0.7996</td>\n",
       "                        <td id=\"T_073fa5e2_2f67_11eb_9e95_acde48001122row2_col7\" class=\"data row2 col7\" >0.8027</td>\n",
       "                        <td id=\"T_073fa5e2_2f67_11eb_9e95_acde48001122row2_col8\" class=\"data row2 col8\" >4.3189</td>\n",
       "            </tr>\n",
       "            <tr>\n",
       "                        <th id=\"T_073fa5e2_2f67_11eb_9e95_acde48001122level0_row3\" class=\"row_heading level0 row3\" >3</th>\n",
       "                        <td id=\"T_073fa5e2_2f67_11eb_9e95_acde48001122row3_col0\" class=\"data row3 col0\" >Decision Tree Classifier</td>\n",
       "                        <td id=\"T_073fa5e2_2f67_11eb_9e95_acde48001122row3_col1\" class=\"data row3 col1\" >0.8394</td>\n",
       "                        <td id=\"T_073fa5e2_2f67_11eb_9e95_acde48001122row3_col2\" class=\"data row3 col2\" >0.8331</td>\n",
       "                        <td id=\"T_073fa5e2_2f67_11eb_9e95_acde48001122row3_col3\" class=\"data row3 col3\" >0.8011</td>\n",
       "                        <td id=\"T_073fa5e2_2f67_11eb_9e95_acde48001122row3_col4\" class=\"data row3 col4\" >0.7994</td>\n",
       "                        <td id=\"T_073fa5e2_2f67_11eb_9e95_acde48001122row3_col5\" class=\"data row3 col5\" >0.8003</td>\n",
       "                        <td id=\"T_073fa5e2_2f67_11eb_9e95_acde48001122row3_col6\" class=\"data row3 col6\" >0.6660</td>\n",
       "                        <td id=\"T_073fa5e2_2f67_11eb_9e95_acde48001122row3_col7\" class=\"data row3 col7\" >0.6660</td>\n",
       "                        <td id=\"T_073fa5e2_2f67_11eb_9e95_acde48001122row3_col8\" class=\"data row3 col8\" >7.3213</td>\n",
       "            </tr>\n",
       "            <tr>\n",
       "                        <th id=\"T_073fa5e2_2f67_11eb_9e95_acde48001122level0_row4\" class=\"row_heading level0 row4\" >4</th>\n",
       "                        <td id=\"T_073fa5e2_2f67_11eb_9e95_acde48001122row4_col0\" class=\"data row4 col0\" >Random Forest Classifier</td>\n",
       "                        <td id=\"T_073fa5e2_2f67_11eb_9e95_acde48001122row4_col1\" class=\"data row4 col1\" >0.8819</td>\n",
       "                        <td id=\"T_073fa5e2_2f67_11eb_9e95_acde48001122row4_col2\" class=\"data row4 col2\" >0.9464</td>\n",
       "                        <td id=\"T_073fa5e2_2f67_11eb_9e95_acde48001122row4_col3\" class=\"data row4 col3\" >0.7853</td>\n",
       "                        <td id=\"T_073fa5e2_2f67_11eb_9e95_acde48001122row4_col4\" class=\"data row4 col4\" >0.9082</td>\n",
       "                        <td id=\"T_073fa5e2_2f67_11eb_9e95_acde48001122row4_col5\" class=\"data row4 col5\" >0.8423</td>\n",
       "                        <td id=\"T_073fa5e2_2f67_11eb_9e95_acde48001122row4_col6\" class=\"data row4 col6\" >0.7487</td>\n",
       "                        <td id=\"T_073fa5e2_2f67_11eb_9e95_acde48001122row4_col7\" class=\"data row4 col7\" >0.7538</td>\n",
       "                        <td id=\"T_073fa5e2_2f67_11eb_9e95_acde48001122row4_col8\" class=\"data row4 col8\" >1.6942</td>\n",
       "            </tr>\n",
       "            <tr>\n",
       "                        <th id=\"T_073fa5e2_2f67_11eb_9e95_acde48001122level0_row5\" class=\"row_heading level0 row5\" >5</th>\n",
       "                        <td id=\"T_073fa5e2_2f67_11eb_9e95_acde48001122row5_col0\" class=\"data row5 col0\" >Quadratic Discriminant Analysis</td>\n",
       "                        <td id=\"T_073fa5e2_2f67_11eb_9e95_acde48001122row5_col1\" class=\"data row5 col1\" >0.7770</td>\n",
       "                        <td id=\"T_073fa5e2_2f67_11eb_9e95_acde48001122row5_col2\" class=\"data row5 col2\" >0.9050</td>\n",
       "                        <td id=\"T_073fa5e2_2f67_11eb_9e95_acde48001122row5_col3\" class=\"data row5 col3\" >0.6937</td>\n",
       "                        <td id=\"T_073fa5e2_2f67_11eb_9e95_acde48001122row5_col4\" class=\"data row5 col4\" >0.7842</td>\n",
       "                        <td id=\"T_073fa5e2_2f67_11eb_9e95_acde48001122row5_col5\" class=\"data row5 col5\" >0.6932</td>\n",
       "                        <td id=\"T_073fa5e2_2f67_11eb_9e95_acde48001122row5_col6\" class=\"data row5 col6\" >0.5379</td>\n",
       "                        <td id=\"T_073fa5e2_2f67_11eb_9e95_acde48001122row5_col7\" class=\"data row5 col7\" >0.5491</td>\n",
       "                        <td id=\"T_073fa5e2_2f67_11eb_9e95_acde48001122row5_col8\" class=\"data row5 col8\" >0.5436</td>\n",
       "            </tr>\n",
       "            <tr>\n",
       "                        <th id=\"T_073fa5e2_2f67_11eb_9e95_acde48001122level0_row6\" class=\"row_heading level0 row6\" >6</th>\n",
       "                        <td id=\"T_073fa5e2_2f67_11eb_9e95_acde48001122row6_col0\" class=\"data row6 col0\" >Naive Bayes</td>\n",
       "                        <td id=\"T_073fa5e2_2f67_11eb_9e95_acde48001122row6_col1\" class=\"data row6 col1\" >0.7068</td>\n",
       "                        <td id=\"T_073fa5e2_2f67_11eb_9e95_acde48001122row6_col2\" class=\"data row6 col2\" >0.7692</td>\n",
       "                        <td id=\"T_073fa5e2_2f67_11eb_9e95_acde48001122row6_col3\" class=\"data row6 col3\" >0.5569</td>\n",
       "                        <td id=\"T_073fa5e2_2f67_11eb_9e95_acde48001122row6_col4\" class=\"data row6 col4\" >0.6599</td>\n",
       "                        <td id=\"T_073fa5e2_2f67_11eb_9e95_acde48001122row6_col5\" class=\"data row6 col5\" >0.6040</td>\n",
       "                        <td id=\"T_073fa5e2_2f67_11eb_9e95_acde48001122row6_col6\" class=\"data row6 col6\" >0.3738</td>\n",
       "                        <td id=\"T_073fa5e2_2f67_11eb_9e95_acde48001122row6_col7\" class=\"data row6 col7\" >0.3773</td>\n",
       "                        <td id=\"T_073fa5e2_2f67_11eb_9e95_acde48001122row6_col8\" class=\"data row6 col8\" >0.0942</td>\n",
       "            </tr>\n",
       "            <tr>\n",
       "                        <th id=\"T_073fa5e2_2f67_11eb_9e95_acde48001122level0_row7\" class=\"row_heading level0 row7\" >7</th>\n",
       "                        <td id=\"T_073fa5e2_2f67_11eb_9e95_acde48001122row7_col0\" class=\"data row7 col0\" >Logistic Regression</td>\n",
       "                        <td id=\"T_073fa5e2_2f67_11eb_9e95_acde48001122row7_col1\" class=\"data row7 col1\" >0.6954</td>\n",
       "                        <td id=\"T_073fa5e2_2f67_11eb_9e95_acde48001122row7_col2\" class=\"data row7 col2\" >0.7394</td>\n",
       "                        <td id=\"T_073fa5e2_2f67_11eb_9e95_acde48001122row7_col3\" class=\"data row7 col3\" >0.5427</td>\n",
       "                        <td id=\"T_073fa5e2_2f67_11eb_9e95_acde48001122row7_col4\" class=\"data row7 col4\" >0.6431</td>\n",
       "                        <td id=\"T_073fa5e2_2f67_11eb_9e95_acde48001122row7_col5\" class=\"data row7 col5\" >0.5886</td>\n",
       "                        <td id=\"T_073fa5e2_2f67_11eb_9e95_acde48001122row7_col6\" class=\"data row7 col6\" >0.3495</td>\n",
       "                        <td id=\"T_073fa5e2_2f67_11eb_9e95_acde48001122row7_col7\" class=\"data row7 col7\" >0.3527</td>\n",
       "                        <td id=\"T_073fa5e2_2f67_11eb_9e95_acde48001122row7_col8\" class=\"data row7 col8\" >1.1431</td>\n",
       "            </tr>\n",
       "            <tr>\n",
       "                        <th id=\"T_073fa5e2_2f67_11eb_9e95_acde48001122level0_row8\" class=\"row_heading level0 row8\" >8</th>\n",
       "                        <td id=\"T_073fa5e2_2f67_11eb_9e95_acde48001122row8_col0\" class=\"data row8 col0\" >Linear Discriminant Analysis</td>\n",
       "                        <td id=\"T_073fa5e2_2f67_11eb_9e95_acde48001122row8_col1\" class=\"data row8 col1\" >0.7016</td>\n",
       "                        <td id=\"T_073fa5e2_2f67_11eb_9e95_acde48001122row8_col2\" class=\"data row8 col2\" >0.7580</td>\n",
       "                        <td id=\"T_073fa5e2_2f67_11eb_9e95_acde48001122row8_col3\" class=\"data row8 col3\" >0.5095</td>\n",
       "                        <td id=\"T_073fa5e2_2f67_11eb_9e95_acde48001122row8_col4\" class=\"data row8 col4\" >0.6686</td>\n",
       "                        <td id=\"T_073fa5e2_2f67_11eb_9e95_acde48001122row8_col5\" class=\"data row8 col5\" >0.5783</td>\n",
       "                        <td id=\"T_073fa5e2_2f67_11eb_9e95_acde48001122row8_col6\" class=\"data row8 col6\" >0.3539</td>\n",
       "                        <td id=\"T_073fa5e2_2f67_11eb_9e95_acde48001122row8_col7\" class=\"data row8 col7\" >0.3617</td>\n",
       "                        <td id=\"T_073fa5e2_2f67_11eb_9e95_acde48001122row8_col8\" class=\"data row8 col8\" >1.0182</td>\n",
       "            </tr>\n",
       "            <tr>\n",
       "                        <th id=\"T_073fa5e2_2f67_11eb_9e95_acde48001122level0_row9\" class=\"row_heading level0 row9\" >9</th>\n",
       "                        <td id=\"T_073fa5e2_2f67_11eb_9e95_acde48001122row9_col0\" class=\"data row9 col0\" >Ridge Classifier</td>\n",
       "                        <td id=\"T_073fa5e2_2f67_11eb_9e95_acde48001122row9_col1\" class=\"data row9 col1\" >0.7011</td>\n",
       "                        <td id=\"T_073fa5e2_2f67_11eb_9e95_acde48001122row9_col2\" class=\"data row9 col2\" >0.0000</td>\n",
       "                        <td id=\"T_073fa5e2_2f67_11eb_9e95_acde48001122row9_col3\" class=\"data row9 col3\" >0.5050</td>\n",
       "                        <td id=\"T_073fa5e2_2f67_11eb_9e95_acde48001122row9_col4\" class=\"data row9 col4\" >0.6695</td>\n",
       "                        <td id=\"T_073fa5e2_2f67_11eb_9e95_acde48001122row9_col5\" class=\"data row9 col5\" >0.5757</td>\n",
       "                        <td id=\"T_073fa5e2_2f67_11eb_9e95_acde48001122row9_col6\" class=\"data row9 col6\" >0.3519</td>\n",
       "                        <td id=\"T_073fa5e2_2f67_11eb_9e95_acde48001122row9_col7\" class=\"data row9 col7\" >0.3603</td>\n",
       "                        <td id=\"T_073fa5e2_2f67_11eb_9e95_acde48001122row9_col8\" class=\"data row9 col8\" >0.1442</td>\n",
       "            </tr>\n",
       "            <tr>\n",
       "                        <th id=\"T_073fa5e2_2f67_11eb_9e95_acde48001122level0_row10\" class=\"row_heading level0 row10\" >10</th>\n",
       "                        <td id=\"T_073fa5e2_2f67_11eb_9e95_acde48001122row10_col0\" class=\"data row10 col0\" >K Neighbors Classifier</td>\n",
       "                        <td id=\"T_073fa5e2_2f67_11eb_9e95_acde48001122row10_col1\" class=\"data row10 col1\" >0.5573</td>\n",
       "                        <td id=\"T_073fa5e2_2f67_11eb_9e95_acde48001122row10_col2\" class=\"data row10 col2\" >0.5349</td>\n",
       "                        <td id=\"T_073fa5e2_2f67_11eb_9e95_acde48001122row10_col3\" class=\"data row10 col3\" >0.3602</td>\n",
       "                        <td id=\"T_073fa5e2_2f67_11eb_9e95_acde48001122row10_col4\" class=\"data row10 col4\" >0.4378</td>\n",
       "                        <td id=\"T_073fa5e2_2f67_11eb_9e95_acde48001122row10_col5\" class=\"data row10 col5\" >0.3952</td>\n",
       "                        <td id=\"T_073fa5e2_2f67_11eb_9e95_acde48001122row10_col6\" class=\"data row10 col6\" >0.0513</td>\n",
       "                        <td id=\"T_073fa5e2_2f67_11eb_9e95_acde48001122row10_col7\" class=\"data row10 col7\" >0.0519</td>\n",
       "                        <td id=\"T_073fa5e2_2f67_11eb_9e95_acde48001122row10_col8\" class=\"data row10 col8\" >0.5823</td>\n",
       "            </tr>\n",
       "    </tbody></table>"
      ],
      "text/plain": [
       "<pandas.io.formats.style.Styler at 0x7f885f459b38>"
      ]
     },
     "metadata": {},
     "output_type": "display_data"
    },
    {
     "name": "stdout",
     "output_type": "stream",
     "text": [
      "CPU times: user 52min 6s, sys: 1min 31s, total: 53min 37s\n",
      "Wall time: 9min 45s\n"
     ]
    }
   ],
   "source": [
    "%%time\n",
    "best_model = compare_models(sort = 'Recall',\n",
    "                              exclude = ['xgboost', 'gbc','ada','svm'])"
   ]
  },
  {
   "cell_type": "code",
   "execution_count": 10,
   "metadata": {},
   "outputs": [
    {
     "data": {
      "text/html": [
       "<style  type=\"text/css\" >\n",
       "#T_f1c5d464_2ecb_11eb_970f_acde48001122row10_col0,#T_f1c5d464_2ecb_11eb_970f_acde48001122row10_col1,#T_f1c5d464_2ecb_11eb_970f_acde48001122row10_col2,#T_f1c5d464_2ecb_11eb_970f_acde48001122row10_col3,#T_f1c5d464_2ecb_11eb_970f_acde48001122row10_col4,#T_f1c5d464_2ecb_11eb_970f_acde48001122row10_col5,#T_f1c5d464_2ecb_11eb_970f_acde48001122row10_col6{\n",
       "            background:  yellow;\n",
       "        }</style><table id=\"T_f1c5d464_2ecb_11eb_970f_acde48001122\" ><thead>    <tr>        <th class=\"blank level0\" ></th>        <th class=\"col_heading level0 col0\" >Accuracy</th>        <th class=\"col_heading level0 col1\" >AUC</th>        <th class=\"col_heading level0 col2\" >Recall</th>        <th class=\"col_heading level0 col3\" >Prec.</th>        <th class=\"col_heading level0 col4\" >F1</th>        <th class=\"col_heading level0 col5\" >Kappa</th>        <th class=\"col_heading level0 col6\" >MCC</th>    </tr></thead><tbody>\n",
       "                <tr>\n",
       "                        <th id=\"T_f1c5d464_2ecb_11eb_970f_acde48001122level0_row0\" class=\"row_heading level0 row0\" >0</th>\n",
       "                        <td id=\"T_f1c5d464_2ecb_11eb_970f_acde48001122row0_col0\" class=\"data row0 col0\" >0.9305</td>\n",
       "                        <td id=\"T_f1c5d464_2ecb_11eb_970f_acde48001122row0_col1\" class=\"data row0 col1\" >0.9765</td>\n",
       "                        <td id=\"T_f1c5d464_2ecb_11eb_970f_acde48001122row0_col2\" class=\"data row0 col2\" >0.9059</td>\n",
       "                        <td id=\"T_f1c5d464_2ecb_11eb_970f_acde48001122row0_col3\" class=\"data row0 col3\" >0.9197</td>\n",
       "                        <td id=\"T_f1c5d464_2ecb_11eb_970f_acde48001122row0_col4\" class=\"data row0 col4\" >0.9128</td>\n",
       "                        <td id=\"T_f1c5d464_2ecb_11eb_970f_acde48001122row0_col5\" class=\"data row0 col5\" >0.8550</td>\n",
       "                        <td id=\"T_f1c5d464_2ecb_11eb_970f_acde48001122row0_col6\" class=\"data row0 col6\" >0.8550</td>\n",
       "            </tr>\n",
       "            <tr>\n",
       "                        <th id=\"T_f1c5d464_2ecb_11eb_970f_acde48001122level0_row1\" class=\"row_heading level0 row1\" >1</th>\n",
       "                        <td id=\"T_f1c5d464_2ecb_11eb_970f_acde48001122row1_col0\" class=\"data row1 col0\" >0.9376</td>\n",
       "                        <td id=\"T_f1c5d464_2ecb_11eb_970f_acde48001122row1_col1\" class=\"data row1 col1\" >0.9815</td>\n",
       "                        <td id=\"T_f1c5d464_2ecb_11eb_970f_acde48001122row1_col2\" class=\"data row1 col2\" >0.9109</td>\n",
       "                        <td id=\"T_f1c5d464_2ecb_11eb_970f_acde48001122row1_col3\" class=\"data row1 col3\" >0.9321</td>\n",
       "                        <td id=\"T_f1c5d464_2ecb_11eb_970f_acde48001122row1_col4\" class=\"data row1 col4\" >0.9214</td>\n",
       "                        <td id=\"T_f1c5d464_2ecb_11eb_970f_acde48001122row1_col5\" class=\"data row1 col5\" >0.8696</td>\n",
       "                        <td id=\"T_f1c5d464_2ecb_11eb_970f_acde48001122row1_col6\" class=\"data row1 col6\" >0.8698</td>\n",
       "            </tr>\n",
       "            <tr>\n",
       "                        <th id=\"T_f1c5d464_2ecb_11eb_970f_acde48001122level0_row2\" class=\"row_heading level0 row2\" >2</th>\n",
       "                        <td id=\"T_f1c5d464_2ecb_11eb_970f_acde48001122row2_col0\" class=\"data row2 col0\" >0.9295</td>\n",
       "                        <td id=\"T_f1c5d464_2ecb_11eb_970f_acde48001122row2_col1\" class=\"data row2 col1\" >0.9791</td>\n",
       "                        <td id=\"T_f1c5d464_2ecb_11eb_970f_acde48001122row2_col2\" class=\"data row2 col2\" >0.9019</td>\n",
       "                        <td id=\"T_f1c5d464_2ecb_11eb_970f_acde48001122row2_col3\" class=\"data row2 col3\" >0.9208</td>\n",
       "                        <td id=\"T_f1c5d464_2ecb_11eb_970f_acde48001122row2_col4\" class=\"data row2 col4\" >0.9113</td>\n",
       "                        <td id=\"T_f1c5d464_2ecb_11eb_970f_acde48001122row2_col5\" class=\"data row2 col5\" >0.8527</td>\n",
       "                        <td id=\"T_f1c5d464_2ecb_11eb_970f_acde48001122row2_col6\" class=\"data row2 col6\" >0.8529</td>\n",
       "            </tr>\n",
       "            <tr>\n",
       "                        <th id=\"T_f1c5d464_2ecb_11eb_970f_acde48001122level0_row3\" class=\"row_heading level0 row3\" >3</th>\n",
       "                        <td id=\"T_f1c5d464_2ecb_11eb_970f_acde48001122row3_col0\" class=\"data row3 col0\" >0.9315</td>\n",
       "                        <td id=\"T_f1c5d464_2ecb_11eb_970f_acde48001122row3_col1\" class=\"data row3 col1\" >0.9787</td>\n",
       "                        <td id=\"T_f1c5d464_2ecb_11eb_970f_acde48001122row3_col2\" class=\"data row3 col2\" >0.9022</td>\n",
       "                        <td id=\"T_f1c5d464_2ecb_11eb_970f_acde48001122row3_col3\" class=\"data row3 col3\" >0.9253</td>\n",
       "                        <td id=\"T_f1c5d464_2ecb_11eb_970f_acde48001122row3_col4\" class=\"data row3 col4\" >0.9136</td>\n",
       "                        <td id=\"T_f1c5d464_2ecb_11eb_970f_acde48001122row3_col5\" class=\"data row3 col5\" >0.8568</td>\n",
       "                        <td id=\"T_f1c5d464_2ecb_11eb_970f_acde48001122row3_col6\" class=\"data row3 col6\" >0.8570</td>\n",
       "            </tr>\n",
       "            <tr>\n",
       "                        <th id=\"T_f1c5d464_2ecb_11eb_970f_acde48001122level0_row4\" class=\"row_heading level0 row4\" >4</th>\n",
       "                        <td id=\"T_f1c5d464_2ecb_11eb_970f_acde48001122row4_col0\" class=\"data row4 col0\" >0.9344</td>\n",
       "                        <td id=\"T_f1c5d464_2ecb_11eb_970f_acde48001122row4_col1\" class=\"data row4 col1\" >0.9799</td>\n",
       "                        <td id=\"T_f1c5d464_2ecb_11eb_970f_acde48001122row4_col2\" class=\"data row4 col2\" >0.9102</td>\n",
       "                        <td id=\"T_f1c5d464_2ecb_11eb_970f_acde48001122row4_col3\" class=\"data row4 col3\" >0.9252</td>\n",
       "                        <td id=\"T_f1c5d464_2ecb_11eb_970f_acde48001122row4_col4\" class=\"data row4 col4\" >0.9176</td>\n",
       "                        <td id=\"T_f1c5d464_2ecb_11eb_970f_acde48001122row4_col5\" class=\"data row4 col5\" >0.8631</td>\n",
       "                        <td id=\"T_f1c5d464_2ecb_11eb_970f_acde48001122row4_col6\" class=\"data row4 col6\" >0.8631</td>\n",
       "            </tr>\n",
       "            <tr>\n",
       "                        <th id=\"T_f1c5d464_2ecb_11eb_970f_acde48001122level0_row5\" class=\"row_heading level0 row5\" >5</th>\n",
       "                        <td id=\"T_f1c5d464_2ecb_11eb_970f_acde48001122row5_col0\" class=\"data row5 col0\" >0.9347</td>\n",
       "                        <td id=\"T_f1c5d464_2ecb_11eb_970f_acde48001122row5_col1\" class=\"data row5 col1\" >0.9785</td>\n",
       "                        <td id=\"T_f1c5d464_2ecb_11eb_970f_acde48001122row5_col2\" class=\"data row5 col2\" >0.9097</td>\n",
       "                        <td id=\"T_f1c5d464_2ecb_11eb_970f_acde48001122row5_col3\" class=\"data row5 col3\" >0.9263</td>\n",
       "                        <td id=\"T_f1c5d464_2ecb_11eb_970f_acde48001122row5_col4\" class=\"data row5 col4\" >0.9179</td>\n",
       "                        <td id=\"T_f1c5d464_2ecb_11eb_970f_acde48001122row5_col5\" class=\"data row5 col5\" >0.8637</td>\n",
       "                        <td id=\"T_f1c5d464_2ecb_11eb_970f_acde48001122row5_col6\" class=\"data row5 col6\" >0.8637</td>\n",
       "            </tr>\n",
       "            <tr>\n",
       "                        <th id=\"T_f1c5d464_2ecb_11eb_970f_acde48001122level0_row6\" class=\"row_heading level0 row6\" >6</th>\n",
       "                        <td id=\"T_f1c5d464_2ecb_11eb_970f_acde48001122row6_col0\" class=\"data row6 col0\" >0.9290</td>\n",
       "                        <td id=\"T_f1c5d464_2ecb_11eb_970f_acde48001122row6_col1\" class=\"data row6 col1\" >0.9778</td>\n",
       "                        <td id=\"T_f1c5d464_2ecb_11eb_970f_acde48001122row6_col2\" class=\"data row6 col2\" >0.9007</td>\n",
       "                        <td id=\"T_f1c5d464_2ecb_11eb_970f_acde48001122row6_col3\" class=\"data row6 col3\" >0.9207</td>\n",
       "                        <td id=\"T_f1c5d464_2ecb_11eb_970f_acde48001122row6_col4\" class=\"data row6 col4\" >0.9106</td>\n",
       "                        <td id=\"T_f1c5d464_2ecb_11eb_970f_acde48001122row6_col5\" class=\"data row6 col5\" >0.8516</td>\n",
       "                        <td id=\"T_f1c5d464_2ecb_11eb_970f_acde48001122row6_col6\" class=\"data row6 col6\" >0.8518</td>\n",
       "            </tr>\n",
       "            <tr>\n",
       "                        <th id=\"T_f1c5d464_2ecb_11eb_970f_acde48001122level0_row7\" class=\"row_heading level0 row7\" >7</th>\n",
       "                        <td id=\"T_f1c5d464_2ecb_11eb_970f_acde48001122row7_col0\" class=\"data row7 col0\" >0.9342</td>\n",
       "                        <td id=\"T_f1c5d464_2ecb_11eb_970f_acde48001122row7_col1\" class=\"data row7 col1\" >0.9805</td>\n",
       "                        <td id=\"T_f1c5d464_2ecb_11eb_970f_acde48001122row7_col2\" class=\"data row7 col2\" >0.9069</td>\n",
       "                        <td id=\"T_f1c5d464_2ecb_11eb_970f_acde48001122row7_col3\" class=\"data row7 col3\" >0.9275</td>\n",
       "                        <td id=\"T_f1c5d464_2ecb_11eb_970f_acde48001122row7_col4\" class=\"data row7 col4\" >0.9171</td>\n",
       "                        <td id=\"T_f1c5d464_2ecb_11eb_970f_acde48001122row7_col5\" class=\"data row7 col5\" >0.8625</td>\n",
       "                        <td id=\"T_f1c5d464_2ecb_11eb_970f_acde48001122row7_col6\" class=\"data row7 col6\" >0.8626</td>\n",
       "            </tr>\n",
       "            <tr>\n",
       "                        <th id=\"T_f1c5d464_2ecb_11eb_970f_acde48001122level0_row8\" class=\"row_heading level0 row8\" >8</th>\n",
       "                        <td id=\"T_f1c5d464_2ecb_11eb_970f_acde48001122row8_col0\" class=\"data row8 col0\" >0.9351</td>\n",
       "                        <td id=\"T_f1c5d464_2ecb_11eb_970f_acde48001122row8_col1\" class=\"data row8 col1\" >0.9810</td>\n",
       "                        <td id=\"T_f1c5d464_2ecb_11eb_970f_acde48001122row8_col2\" class=\"data row8 col2\" >0.9134</td>\n",
       "                        <td id=\"T_f1c5d464_2ecb_11eb_970f_acde48001122row8_col3\" class=\"data row8 col3\" >0.9240</td>\n",
       "                        <td id=\"T_f1c5d464_2ecb_11eb_970f_acde48001122row8_col4\" class=\"data row8 col4\" >0.9187</td>\n",
       "                        <td id=\"T_f1c5d464_2ecb_11eb_970f_acde48001122row8_col5\" class=\"data row8 col5\" >0.8646</td>\n",
       "                        <td id=\"T_f1c5d464_2ecb_11eb_970f_acde48001122row8_col6\" class=\"data row8 col6\" >0.8647</td>\n",
       "            </tr>\n",
       "            <tr>\n",
       "                        <th id=\"T_f1c5d464_2ecb_11eb_970f_acde48001122level0_row9\" class=\"row_heading level0 row9\" >9</th>\n",
       "                        <td id=\"T_f1c5d464_2ecb_11eb_970f_acde48001122row9_col0\" class=\"data row9 col0\" >0.9308</td>\n",
       "                        <td id=\"T_f1c5d464_2ecb_11eb_970f_acde48001122row9_col1\" class=\"data row9 col1\" >0.9801</td>\n",
       "                        <td id=\"T_f1c5d464_2ecb_11eb_970f_acde48001122row9_col2\" class=\"data row9 col2\" >0.9014</td>\n",
       "                        <td id=\"T_f1c5d464_2ecb_11eb_970f_acde48001122row9_col3\" class=\"data row9 col3\" >0.9245</td>\n",
       "                        <td id=\"T_f1c5d464_2ecb_11eb_970f_acde48001122row9_col4\" class=\"data row9 col4\" >0.9128</td>\n",
       "                        <td id=\"T_f1c5d464_2ecb_11eb_970f_acde48001122row9_col5\" class=\"data row9 col5\" >0.8555</td>\n",
       "                        <td id=\"T_f1c5d464_2ecb_11eb_970f_acde48001122row9_col6\" class=\"data row9 col6\" >0.8557</td>\n",
       "            </tr>\n",
       "            <tr>\n",
       "                        <th id=\"T_f1c5d464_2ecb_11eb_970f_acde48001122level0_row10\" class=\"row_heading level0 row10\" >Mean</th>\n",
       "                        <td id=\"T_f1c5d464_2ecb_11eb_970f_acde48001122row10_col0\" class=\"data row10 col0\" >0.9327</td>\n",
       "                        <td id=\"T_f1c5d464_2ecb_11eb_970f_acde48001122row10_col1\" class=\"data row10 col1\" >0.9794</td>\n",
       "                        <td id=\"T_f1c5d464_2ecb_11eb_970f_acde48001122row10_col2\" class=\"data row10 col2\" >0.9063</td>\n",
       "                        <td id=\"T_f1c5d464_2ecb_11eb_970f_acde48001122row10_col3\" class=\"data row10 col3\" >0.9246</td>\n",
       "                        <td id=\"T_f1c5d464_2ecb_11eb_970f_acde48001122row10_col4\" class=\"data row10 col4\" >0.9154</td>\n",
       "                        <td id=\"T_f1c5d464_2ecb_11eb_970f_acde48001122row10_col5\" class=\"data row10 col5\" >0.8595</td>\n",
       "                        <td id=\"T_f1c5d464_2ecb_11eb_970f_acde48001122row10_col6\" class=\"data row10 col6\" >0.8596</td>\n",
       "            </tr>\n",
       "            <tr>\n",
       "                        <th id=\"T_f1c5d464_2ecb_11eb_970f_acde48001122level0_row11\" class=\"row_heading level0 row11\" >SD</th>\n",
       "                        <td id=\"T_f1c5d464_2ecb_11eb_970f_acde48001122row11_col0\" class=\"data row11 col0\" >0.0027</td>\n",
       "                        <td id=\"T_f1c5d464_2ecb_11eb_970f_acde48001122row11_col1\" class=\"data row11 col1\" >0.0015</td>\n",
       "                        <td id=\"T_f1c5d464_2ecb_11eb_970f_acde48001122row11_col2\" class=\"data row11 col2\" >0.0044</td>\n",
       "                        <td id=\"T_f1c5d464_2ecb_11eb_970f_acde48001122row11_col3\" class=\"data row11 col3\" >0.0035</td>\n",
       "                        <td id=\"T_f1c5d464_2ecb_11eb_970f_acde48001122row11_col4\" class=\"data row11 col4\" >0.0034</td>\n",
       "                        <td id=\"T_f1c5d464_2ecb_11eb_970f_acde48001122row11_col5\" class=\"data row11 col5\" >0.0056</td>\n",
       "                        <td id=\"T_f1c5d464_2ecb_11eb_970f_acde48001122row11_col6\" class=\"data row11 col6\" >0.0056</td>\n",
       "            </tr>\n",
       "    </tbody></table>"
      ],
      "text/plain": [
       "<pandas.io.formats.style.Styler at 0x7f88c2ab1a20>"
      ]
     },
     "metadata": {},
     "output_type": "display_data"
    }
   ],
   "source": [
    "%%time\n",
    "catboost = create_model('catboost')"
   ]
  },
  {
   "cell_type": "code",
   "execution_count": 13,
   "metadata": {},
   "outputs": [
    {
     "data": {
      "text/html": [
       "<style  type=\"text/css\" >\n",
       "#T_4ecee21e_2ece_11eb_b331_acde48001122row10_col0,#T_4ecee21e_2ece_11eb_b331_acde48001122row10_col1,#T_4ecee21e_2ece_11eb_b331_acde48001122row10_col2,#T_4ecee21e_2ece_11eb_b331_acde48001122row10_col3,#T_4ecee21e_2ece_11eb_b331_acde48001122row10_col4,#T_4ecee21e_2ece_11eb_b331_acde48001122row10_col5,#T_4ecee21e_2ece_11eb_b331_acde48001122row10_col6{\n",
       "            background:  yellow;\n",
       "        }</style><table id=\"T_4ecee21e_2ece_11eb_b331_acde48001122\" ><thead>    <tr>        <th class=\"blank level0\" ></th>        <th class=\"col_heading level0 col0\" >Accuracy</th>        <th class=\"col_heading level0 col1\" >AUC</th>        <th class=\"col_heading level0 col2\" >Recall</th>        <th class=\"col_heading level0 col3\" >Prec.</th>        <th class=\"col_heading level0 col4\" >F1</th>        <th class=\"col_heading level0 col5\" >Kappa</th>        <th class=\"col_heading level0 col6\" >MCC</th>    </tr></thead><tbody>\n",
       "                <tr>\n",
       "                        <th id=\"T_4ecee21e_2ece_11eb_b331_acde48001122level0_row0\" class=\"row_heading level0 row0\" >0</th>\n",
       "                        <td id=\"T_4ecee21e_2ece_11eb_b331_acde48001122row0_col0\" class=\"data row0 col0\" >0.9396</td>\n",
       "                        <td id=\"T_4ecee21e_2ece_11eb_b331_acde48001122row0_col1\" class=\"data row0 col1\" >0.9813</td>\n",
       "                        <td id=\"T_4ecee21e_2ece_11eb_b331_acde48001122row0_col2\" class=\"data row0 col2\" >0.9212</td>\n",
       "                        <td id=\"T_4ecee21e_2ece_11eb_b331_acde48001122row0_col3\" class=\"data row0 col3\" >0.9279</td>\n",
       "                        <td id=\"T_4ecee21e_2ece_11eb_b331_acde48001122row0_col4\" class=\"data row0 col4\" >0.9245</td>\n",
       "                        <td id=\"T_4ecee21e_2ece_11eb_b331_acde48001122row0_col5\" class=\"data row0 col5\" >0.8741</td>\n",
       "                        <td id=\"T_4ecee21e_2ece_11eb_b331_acde48001122row0_col6\" class=\"data row0 col6\" >0.8741</td>\n",
       "            </tr>\n",
       "            <tr>\n",
       "                        <th id=\"T_4ecee21e_2ece_11eb_b331_acde48001122level0_row1\" class=\"row_heading level0 row1\" >1</th>\n",
       "                        <td id=\"T_4ecee21e_2ece_11eb_b331_acde48001122row1_col0\" class=\"data row1 col0\" >0.9464</td>\n",
       "                        <td id=\"T_4ecee21e_2ece_11eb_b331_acde48001122row1_col1\" class=\"data row1 col1\" >0.9858</td>\n",
       "                        <td id=\"T_4ecee21e_2ece_11eb_b331_acde48001122row1_col2\" class=\"data row1 col2\" >0.9222</td>\n",
       "                        <td id=\"T_4ecee21e_2ece_11eb_b331_acde48001122row1_col3\" class=\"data row1 col3\" >0.9431</td>\n",
       "                        <td id=\"T_4ecee21e_2ece_11eb_b331_acde48001122row1_col4\" class=\"data row1 col4\" >0.9325</td>\n",
       "                        <td id=\"T_4ecee21e_2ece_11eb_b331_acde48001122row1_col5\" class=\"data row1 col5\" >0.8880</td>\n",
       "                        <td id=\"T_4ecee21e_2ece_11eb_b331_acde48001122row1_col6\" class=\"data row1 col6\" >0.8882</td>\n",
       "            </tr>\n",
       "            <tr>\n",
       "                        <th id=\"T_4ecee21e_2ece_11eb_b331_acde48001122level0_row2\" class=\"row_heading level0 row2\" >2</th>\n",
       "                        <td id=\"T_4ecee21e_2ece_11eb_b331_acde48001122row2_col0\" class=\"data row2 col0\" >0.9419</td>\n",
       "                        <td id=\"T_4ecee21e_2ece_11eb_b331_acde48001122row2_col1\" class=\"data row2 col1\" >0.9840</td>\n",
       "                        <td id=\"T_4ecee21e_2ece_11eb_b331_acde48001122row2_col2\" class=\"data row2 col2\" >0.9217</td>\n",
       "                        <td id=\"T_4ecee21e_2ece_11eb_b331_acde48001122row2_col3\" class=\"data row2 col3\" >0.9328</td>\n",
       "                        <td id=\"T_4ecee21e_2ece_11eb_b331_acde48001122row2_col4\" class=\"data row2 col4\" >0.9272</td>\n",
       "                        <td id=\"T_4ecee21e_2ece_11eb_b331_acde48001122row2_col5\" class=\"data row2 col5\" >0.8788</td>\n",
       "                        <td id=\"T_4ecee21e_2ece_11eb_b331_acde48001122row2_col6\" class=\"data row2 col6\" >0.8789</td>\n",
       "            </tr>\n",
       "            <tr>\n",
       "                        <th id=\"T_4ecee21e_2ece_11eb_b331_acde48001122level0_row3\" class=\"row_heading level0 row3\" >3</th>\n",
       "                        <td id=\"T_4ecee21e_2ece_11eb_b331_acde48001122row3_col0\" class=\"data row3 col0\" >0.9413</td>\n",
       "                        <td id=\"T_4ecee21e_2ece_11eb_b331_acde48001122row3_col1\" class=\"data row3 col1\" >0.9830</td>\n",
       "                        <td id=\"T_4ecee21e_2ece_11eb_b331_acde48001122row3_col2\" class=\"data row3 col2\" >0.9174</td>\n",
       "                        <td id=\"T_4ecee21e_2ece_11eb_b331_acde48001122row3_col3\" class=\"data row3 col3\" >0.9351</td>\n",
       "                        <td id=\"T_4ecee21e_2ece_11eb_b331_acde48001122row3_col4\" class=\"data row3 col4\" >0.9262</td>\n",
       "                        <td id=\"T_4ecee21e_2ece_11eb_b331_acde48001122row3_col5\" class=\"data row3 col5\" >0.8774</td>\n",
       "                        <td id=\"T_4ecee21e_2ece_11eb_b331_acde48001122row3_col6\" class=\"data row3 col6\" >0.8776</td>\n",
       "            </tr>\n",
       "            <tr>\n",
       "                        <th id=\"T_4ecee21e_2ece_11eb_b331_acde48001122level0_row4\" class=\"row_heading level0 row4\" >4</th>\n",
       "                        <td id=\"T_4ecee21e_2ece_11eb_b331_acde48001122row4_col0\" class=\"data row4 col0\" >0.9454</td>\n",
       "                        <td id=\"T_4ecee21e_2ece_11eb_b331_acde48001122row4_col1\" class=\"data row4 col1\" >0.9849</td>\n",
       "                        <td id=\"T_4ecee21e_2ece_11eb_b331_acde48001122row4_col2\" class=\"data row4 col2\" >0.9251</td>\n",
       "                        <td id=\"T_4ecee21e_2ece_11eb_b331_acde48001122row4_col3\" class=\"data row4 col3\" >0.9380</td>\n",
       "                        <td id=\"T_4ecee21e_2ece_11eb_b331_acde48001122row4_col4\" class=\"data row4 col4\" >0.9315</td>\n",
       "                        <td id=\"T_4ecee21e_2ece_11eb_b331_acde48001122row4_col5\" class=\"data row4 col5\" >0.8861</td>\n",
       "                        <td id=\"T_4ecee21e_2ece_11eb_b331_acde48001122row4_col6\" class=\"data row4 col6\" >0.8862</td>\n",
       "            </tr>\n",
       "            <tr>\n",
       "                        <th id=\"T_4ecee21e_2ece_11eb_b331_acde48001122level0_row5\" class=\"row_heading level0 row5\" >5</th>\n",
       "                        <td id=\"T_4ecee21e_2ece_11eb_b331_acde48001122row5_col0\" class=\"data row5 col0\" >0.9434</td>\n",
       "                        <td id=\"T_4ecee21e_2ece_11eb_b331_acde48001122row5_col1\" class=\"data row5 col1\" >0.9829</td>\n",
       "                        <td id=\"T_4ecee21e_2ece_11eb_b331_acde48001122row5_col2\" class=\"data row5 col2\" >0.9216</td>\n",
       "                        <td id=\"T_4ecee21e_2ece_11eb_b331_acde48001122row5_col3\" class=\"data row5 col3\" >0.9364</td>\n",
       "                        <td id=\"T_4ecee21e_2ece_11eb_b331_acde48001122row5_col4\" class=\"data row5 col4\" >0.9289</td>\n",
       "                        <td id=\"T_4ecee21e_2ece_11eb_b331_acde48001122row5_col5\" class=\"data row5 col5\" >0.8819</td>\n",
       "                        <td id=\"T_4ecee21e_2ece_11eb_b331_acde48001122row5_col6\" class=\"data row5 col6\" >0.8820</td>\n",
       "            </tr>\n",
       "            <tr>\n",
       "                        <th id=\"T_4ecee21e_2ece_11eb_b331_acde48001122level0_row6\" class=\"row_heading level0 row6\" >6</th>\n",
       "                        <td id=\"T_4ecee21e_2ece_11eb_b331_acde48001122row6_col0\" class=\"data row6 col0\" >0.9417</td>\n",
       "                        <td id=\"T_4ecee21e_2ece_11eb_b331_acde48001122row6_col1\" class=\"data row6 col1\" >0.9833</td>\n",
       "                        <td id=\"T_4ecee21e_2ece_11eb_b331_acde48001122row6_col2\" class=\"data row6 col2\" >0.9186</td>\n",
       "                        <td id=\"T_4ecee21e_2ece_11eb_b331_acde48001122row6_col3\" class=\"data row6 col3\" >0.9350</td>\n",
       "                        <td id=\"T_4ecee21e_2ece_11eb_b331_acde48001122row6_col4\" class=\"data row6 col4\" >0.9267</td>\n",
       "                        <td id=\"T_4ecee21e_2ece_11eb_b331_acde48001122row6_col5\" class=\"data row6 col5\" >0.8783</td>\n",
       "                        <td id=\"T_4ecee21e_2ece_11eb_b331_acde48001122row6_col6\" class=\"data row6 col6\" >0.8784</td>\n",
       "            </tr>\n",
       "            <tr>\n",
       "                        <th id=\"T_4ecee21e_2ece_11eb_b331_acde48001122level0_row7\" class=\"row_heading level0 row7\" >7</th>\n",
       "                        <td id=\"T_4ecee21e_2ece_11eb_b331_acde48001122row7_col0\" class=\"data row7 col0\" >0.9414</td>\n",
       "                        <td id=\"T_4ecee21e_2ece_11eb_b331_acde48001122row7_col1\" class=\"data row7 col1\" >0.9850</td>\n",
       "                        <td id=\"T_4ecee21e_2ece_11eb_b331_acde48001122row7_col2\" class=\"data row7 col2\" >0.9211</td>\n",
       "                        <td id=\"T_4ecee21e_2ece_11eb_b331_acde48001122row7_col3\" class=\"data row7 col3\" >0.9321</td>\n",
       "                        <td id=\"T_4ecee21e_2ece_11eb_b331_acde48001122row7_col4\" class=\"data row7 col4\" >0.9266</td>\n",
       "                        <td id=\"T_4ecee21e_2ece_11eb_b331_acde48001122row7_col5\" class=\"data row7 col5\" >0.8778</td>\n",
       "                        <td id=\"T_4ecee21e_2ece_11eb_b331_acde48001122row7_col6\" class=\"data row7 col6\" >0.8778</td>\n",
       "            </tr>\n",
       "            <tr>\n",
       "                        <th id=\"T_4ecee21e_2ece_11eb_b331_acde48001122level0_row8\" class=\"row_heading level0 row8\" >8</th>\n",
       "                        <td id=\"T_4ecee21e_2ece_11eb_b331_acde48001122row8_col0\" class=\"data row8 col0\" >0.9428</td>\n",
       "                        <td id=\"T_4ecee21e_2ece_11eb_b331_acde48001122row8_col1\" class=\"data row8 col1\" >0.9849</td>\n",
       "                        <td id=\"T_4ecee21e_2ece_11eb_b331_acde48001122row8_col2\" class=\"data row8 col2\" >0.9249</td>\n",
       "                        <td id=\"T_4ecee21e_2ece_11eb_b331_acde48001122row8_col3\" class=\"data row8 col3\" >0.9321</td>\n",
       "                        <td id=\"T_4ecee21e_2ece_11eb_b331_acde48001122row8_col4\" class=\"data row8 col4\" >0.9285</td>\n",
       "                        <td id=\"T_4ecee21e_2ece_11eb_b331_acde48001122row8_col5\" class=\"data row8 col5\" >0.8808</td>\n",
       "                        <td id=\"T_4ecee21e_2ece_11eb_b331_acde48001122row8_col6\" class=\"data row8 col6\" >0.8808</td>\n",
       "            </tr>\n",
       "            <tr>\n",
       "                        <th id=\"T_4ecee21e_2ece_11eb_b331_acde48001122level0_row9\" class=\"row_heading level0 row9\" >9</th>\n",
       "                        <td id=\"T_4ecee21e_2ece_11eb_b331_acde48001122row9_col0\" class=\"data row9 col0\" >0.9425</td>\n",
       "                        <td id=\"T_4ecee21e_2ece_11eb_b331_acde48001122row9_col1\" class=\"data row9 col1\" >0.9843</td>\n",
       "                        <td id=\"T_4ecee21e_2ece_11eb_b331_acde48001122row9_col2\" class=\"data row9 col2\" >0.9181</td>\n",
       "                        <td id=\"T_4ecee21e_2ece_11eb_b331_acde48001122row9_col3\" class=\"data row9 col3\" >0.9373</td>\n",
       "                        <td id=\"T_4ecee21e_2ece_11eb_b331_acde48001122row9_col4\" class=\"data row9 col4\" >0.9276</td>\n",
       "                        <td id=\"T_4ecee21e_2ece_11eb_b331_acde48001122row9_col5\" class=\"data row9 col5\" >0.8799</td>\n",
       "                        <td id=\"T_4ecee21e_2ece_11eb_b331_acde48001122row9_col6\" class=\"data row9 col6\" >0.8800</td>\n",
       "            </tr>\n",
       "            <tr>\n",
       "                        <th id=\"T_4ecee21e_2ece_11eb_b331_acde48001122level0_row10\" class=\"row_heading level0 row10\" >Mean</th>\n",
       "                        <td id=\"T_4ecee21e_2ece_11eb_b331_acde48001122row10_col0\" class=\"data row10 col0\" >0.9426</td>\n",
       "                        <td id=\"T_4ecee21e_2ece_11eb_b331_acde48001122row10_col1\" class=\"data row10 col1\" >0.9839</td>\n",
       "                        <td id=\"T_4ecee21e_2ece_11eb_b331_acde48001122row10_col2\" class=\"data row10 col2\" >0.9212</td>\n",
       "                        <td id=\"T_4ecee21e_2ece_11eb_b331_acde48001122row10_col3\" class=\"data row10 col3\" >0.9350</td>\n",
       "                        <td id=\"T_4ecee21e_2ece_11eb_b331_acde48001122row10_col4\" class=\"data row10 col4\" >0.9280</td>\n",
       "                        <td id=\"T_4ecee21e_2ece_11eb_b331_acde48001122row10_col5\" class=\"data row10 col5\" >0.8803</td>\n",
       "                        <td id=\"T_4ecee21e_2ece_11eb_b331_acde48001122row10_col6\" class=\"data row10 col6\" >0.8804</td>\n",
       "            </tr>\n",
       "            <tr>\n",
       "                        <th id=\"T_4ecee21e_2ece_11eb_b331_acde48001122level0_row11\" class=\"row_heading level0 row11\" >SD</th>\n",
       "                        <td id=\"T_4ecee21e_2ece_11eb_b331_acde48001122row11_col0\" class=\"data row11 col0\" >0.0019</td>\n",
       "                        <td id=\"T_4ecee21e_2ece_11eb_b331_acde48001122row11_col1\" class=\"data row11 col1\" >0.0013</td>\n",
       "                        <td id=\"T_4ecee21e_2ece_11eb_b331_acde48001122row11_col2\" class=\"data row11 col2\" >0.0025</td>\n",
       "                        <td id=\"T_4ecee21e_2ece_11eb_b331_acde48001122row11_col3\" class=\"data row11 col3\" >0.0039</td>\n",
       "                        <td id=\"T_4ecee21e_2ece_11eb_b331_acde48001122row11_col4\" class=\"data row11 col4\" >0.0023</td>\n",
       "                        <td id=\"T_4ecee21e_2ece_11eb_b331_acde48001122row11_col5\" class=\"data row11 col5\" >0.0039</td>\n",
       "                        <td id=\"T_4ecee21e_2ece_11eb_b331_acde48001122row11_col6\" class=\"data row11 col6\" >0.0040</td>\n",
       "            </tr>\n",
       "    </tbody></table>"
      ],
      "text/plain": [
       "<pandas.io.formats.style.Styler at 0x7f888a6276d8>"
      ]
     },
     "metadata": {},
     "output_type": "display_data"
    },
    {
     "name": "stdout",
     "output_type": "stream",
     "text": [
      "CPU times: user 42min 27s, sys: 2min 18s, total: 44min 46s\n",
      "Wall time: 12min 50s\n"
     ]
    }
   ],
   "source": [
    "%%time\n",
    "tuned_catBoost = tune_model(catboost, optimize = 'Recall')"
   ]
  },
  {
   "cell_type": "code",
   "execution_count": 31,
   "metadata": {},
   "outputs": [
    {
     "data": {
      "image/png": "[encoded data removed]",
      "text/plain": [
       "<Figure size 576x684 with 2 Axes>"
      ]
     },
     "metadata": {
      "needs_background": "light"
     },
     "output_type": "display_data"
    },
    {
     "name": "stdout",
     "output_type": "stream",
     "text": [
      "CPU times: user 54min 56s, sys: 14.7 s, total: 55min 10s\n",
      "Wall time: 7min 47s\n"
     ]
    }
   ],
   "source": [
    "%%time\n",
    "interpret_model(tuned_catBoost)"
   ]
  },
  {
   "cell_type": "code",
   "execution_count": 21,
   "metadata": {},
   "outputs": [
    {
     "name": "stdout",
     "output_type": "stream",
     "text": [
      "CPU times: user 418 ms, sys: 36.1 ms, total: 454 ms\n",
      "Wall time: 295 ms\n"
     ]
    }
   ],
   "source": [
    "%%time\n",
    "predictions = predict_model(tuned_catBoost, data = data_unseen)"
   ]
  },
  {
   "cell_type": "code",
   "execution_count": 40,
   "metadata": {},
   "outputs": [],
   "source": [
    "from sklearn.metrics import confusion_matrix\n",
    "from sklearn.metrics import recall_score\n",
    "from sklearn.metrics import precision_score\n",
    "\n",
    "y_true = predictions['y']\n",
    "y_pred = predictions['Label']\n",
    "y_pred = pd.to_numeric(y_pred)\n",
    "\n",
    "cf_matrix = confusion_matrix(y_true, y_pred)\n",
    "\n"
   ]
  },
  {
   "cell_type": "code",
   "execution_count": 36,
   "metadata": {},
   "outputs": [],
   "source": [
    "import numpy as np\n",
    "import matplotlib.pyplot as plt\n",
    "import seaborn as sns\n",
    "\n",
    "def make_confusion_matrix(cf,\n",
    "                          group_names=None,\n",
    "                          categories='auto',\n",
    "                          count=True,\n",
    "                          percent=True,\n",
    "                          cbar=True,\n",
    "                          xyticks=True,\n",
    "                          xyplotlabels=True,\n",
    "                          sum_stats=True,\n",
    "                          figsize=None,\n",
    "                          cmap='Blues',\n",
    "                          title=None):\n",
    "    '''\n",
    "    This function will make a pretty plot of an sklearn Confusion Matrix cm using a Seaborn heatmap visualization.\n",
    "\n",
    "    Arguments\n",
    "    ---------\n",
    "    cf:            confusion matrix to be passed in\n",
    "\n",
    "    group_names:   List of strings that represent the labels row by row to be shown in each square.\n",
    "\n",
    "    categories:    List of strings containing the categories to be displayed on the x,y axis. Default is 'auto'\n",
    "\n",
    "    count:         If True, show the raw number in the confusion matrix. Default is True.\n",
    "\n",
    "    normalize:     If True, show the proportions for each category. Default is True.\n",
    "\n",
    "    cbar:          If True, show the color bar. The cbar values are based off the values in the confusion matrix.\n",
    "                   Default is True.\n",
    "\n",
    "    xyticks:       If True, show x and y ticks. Default is True.\n",
    "\n",
    "    xyplotlabels:  If True, show 'True Label' and 'Predicted Label' on the figure. Default is True.\n",
    "\n",
    "    sum_stats:     If True, display summary statistics below the figure. Default is True.\n",
    "\n",
    "    figsize:       Tuple representing the figure size. Default will be the matplotlib rcParams value.\n",
    "\n",
    "    cmap:          Colormap of the values displayed from matplotlib.pyplot.cm. Default is 'Blues'\n",
    "                   See http://matplotlib.org/examples/color/colormaps_reference.html\n",
    "                   \n",
    "    title:         Title for the heatmap. Default is None.\n",
    "\n",
    "    '''\n",
    "\n",
    "\n",
    "    # CODE TO GENERATE TEXT INSIDE EACH SQUARE\n",
    "    blanks = ['' for i in range(cf.size)]\n",
    "\n",
    "    if group_names and len(group_names)==cf.size:\n",
    "        group_labels = [\"{}\\n\".format(value) for value in group_names]\n",
    "    else:\n",
    "        group_labels = blanks\n",
    "\n",
    "    if count:\n",
    "        group_counts = [\"{0:0.0f}\\n\".format(value) for value in cf.flatten()]\n",
    "    else:\n",
    "        group_counts = blanks\n",
    "\n",
    "    if percent:\n",
    "        group_percentages = [\"{0:.2%}\".format(value) for value in cf.flatten()/np.sum(cf)]\n",
    "    else:\n",
    "        group_percentages = blanks\n",
    "\n",
    "    box_labels = [f\"{v1}{v2}{v3}\".strip() for v1, v2, v3 in zip(group_labels,group_counts,group_percentages)]\n",
    "    box_labels = np.asarray(box_labels).reshape(cf.shape[0],cf.shape[1])\n",
    "\n",
    "\n",
    "    # CODE TO GENERATE SUMMARY STATISTICS & TEXT FOR SUMMARY STATS\n",
    "    if sum_stats:\n",
    "        #Accuracy is sum of diagonal divided by total observations\n",
    "        accuracy  = np.trace(cf) / float(np.sum(cf))\n",
    "\n",
    "        #if it is a binary confusion matrix, show some more stats\n",
    "        if len(cf)==2:\n",
    "            #Metrics for Binary Confusion Matrices\n",
    "            precision = cf[1,1] / sum(cf[:,1])\n",
    "            recall    = cf[1,1] / sum(cf[1,:])\n",
    "            f1_score  = 2*precision*recall / (precision + recall)\n",
    "            stats_text = \"\\n\\nAccuracy={:0.3f}\\nPrecision={:0.3f}\\nRecall={:0.3f}\\nF1 Score={:0.3f}\".format(\n",
    "                accuracy,precision,recall,f1_score)\n",
    "        else:\n",
    "            stats_text = \"\\n\\nAccuracy={:0.3f}\".format(accuracy)\n",
    "    else:\n",
    "        stats_text = \"\"\n",
    "\n",
    "\n",
    "    # SET FIGURE PARAMETERS ACCORDING TO OTHER ARGUMENTS\n",
    "    if figsize==None:\n",
    "        #Get default figure size if not set\n",
    "        figsize = plt.rcParams.get('figure.figsize')\n",
    "\n",
    "    if xyticks==False:\n",
    "        #Do not show categories if xyticks is False\n",
    "        categories=False\n",
    "\n",
    "\n",
    "    # MAKE THE HEATMAP VISUALIZATION\n",
    "    plt.figure(figsize=figsize)\n",
    "    sns.heatmap(cf,annot=box_labels,fmt=\"\",cmap=cmap,cbar=cbar,xticklabels=categories,yticklabels=categories)\n",
    "\n",
    "    if xyplotlabels:\n",
    "        plt.ylabel('True label')\n",
    "        plt.xlabel('Predicted label' + stats_text)\n",
    "    else:\n",
    "        plt.xlabel(stats_text)\n",
    "    \n",
    "    if title:\n",
    "        plt.title(title)\n"
   ]
  },
  {
   "cell_type": "code",
   "execution_count": 44,
   "metadata": {},
   "outputs": [
    {
     "data": {
      "image/png": "[encoded data removed]",
      "text/plain": [
       "<Figure size 432x288 with 2 Axes>"
      ]
     },
     "metadata": {
      "needs_background": "light"
     },
     "output_type": "display_data"
    }
   ],
   "source": [
    "labels = ['True Neg','False Pos','False Neg','True Pos']\n",
    "categories = ['Zero', 'One']\n",
    "make_confusion_matrix(cf_matrix, \n",
    "                      group_names=labels,\n",
    "                      categories=categories)"
   ]
  },
  {
   "cell_type": "code",
   "execution_count": 45,
   "metadata": {},
   "outputs": [
    {
     "data": {
      "text/plain": [
       "array([[9137,  404],\n",
       "       [ 480, 5818]])"
      ]
     },
     "execution_count": 45,
     "metadata": {},
     "output_type": "execute_result"
    }
   ],
   "source": [
    "cf_matrix"
   ]
  },
  {
   "cell_type": "code",
   "execution_count": 71,
   "metadata": {},
   "outputs": [],
   "source": [
    "def cost_func(cf):\n",
    "    fp = cf[0,1]\n",
    "    fn = cf[1,0]\n",
    "\n",
    "    fp_cost = fp * 500\n",
    "    fn_cost = fn * 10\n",
    "    total_cost = fp_cost + fn_cost\n",
    "    preds = np.sum(cf_matrix)\n",
    "    cpp = round(total_cost/preds)\n",
    "\n",
    "    print('Cost of False Positives','${:,}'.format(fp_cost))\n",
    "    print('Cost of False Negatives','${:,}'.format(fn_cost))\n",
    "    print('Total Cost of',preds,'prediction','${:,}'.format(total_cost))\n",
    "    print('Cost per prediction','${:,}'.format(cpp))"
   ]
  },
  {
   "cell_type": "code",
   "execution_count": 72,
   "metadata": {},
   "outputs": [
    {
     "name": "stdout",
     "output_type": "stream",
     "text": [
      "Cost of False Positives $202,000\n",
      "Cost of False Negatives $4,800\n",
      "Total Cost of 15839 prediction $206,800\n",
      "Cost per prediction $13\n"
     ]
    }
   ],
   "source": [
    "cost_func(cf_matrix)"
   ]
  },
  {
   "cell_type": "code",
   "execution_count": 56,
   "metadata": {},
   "outputs": [
    {
     "data": {
      "text/plain": [
       "15839"
      ]
     },
     "execution_count": 56,
     "metadata": {},
     "output_type": "execute_result"
    }
   ],
   "source": [
    "np.sum(cf_matrix)"
   ]
  },
  {
   "cell_type": "code",
   "execution_count": 70,
   "metadata": {},
   "outputs": [
    {
     "data": {
      "text/plain": [
       "205907"
      ]
     },
     "execution_count": 70,
     "metadata": {},
     "output_type": "execute_result"
    }
   ],
   "source": [
    "13 * 15839"
   ]
  },
  {
   "cell_type": "code",
   "execution_count": 75,
   "metadata": {},
   "outputs": [
    {
     "data": {
      "text/html": [
       "<div>\n",
       "<style scoped>\n",
       "    .dataframe tbody tr th:only-of-type {\n",
       "        vertical-align: middle;\n",
       "    }\n",
       "\n",
       "    .dataframe tbody tr th {\n",
       "        vertical-align: top;\n",
       "    }\n",
       "\n",
       "    .dataframe thead th {\n",
       "        text-align: right;\n",
       "    }\n",
       "</style>\n",
       "<table border=\"1\" class=\"dataframe\">\n",
       "  <thead>\n",
       "    <tr style=\"text-align: right;\">\n",
       "      <th></th>\n",
       "      <th>Name</th>\n",
       "      <th>Reference</th>\n",
       "      <th>Turbo</th>\n",
       "    </tr>\n",
       "    <tr>\n",
       "      <th>ID</th>\n",
       "      <th></th>\n",
       "      <th></th>\n",
       "      <th></th>\n",
       "    </tr>\n",
       "  </thead>\n",
       "  <tbody>\n",
       "    <tr>\n",
       "      <th>lr</th>\n",
       "      <td>Logistic Regression</td>\n",
       "      <td>sklearn.linear_model.LogisticRegression</td>\n",
       "      <td>True</td>\n",
       "    </tr>\n",
       "    <tr>\n",
       "      <th>knn</th>\n",
       "      <td>K Neighbors Classifier</td>\n",
       "      <td>sklearn.neighbors.KNeighborsClassifier</td>\n",
       "      <td>True</td>\n",
       "    </tr>\n",
       "    <tr>\n",
       "      <th>nb</th>\n",
       "      <td>Naive Bayes</td>\n",
       "      <td>sklearn.naive_bayes.GaussianNB</td>\n",
       "      <td>True</td>\n",
       "    </tr>\n",
       "    <tr>\n",
       "      <th>dt</th>\n",
       "      <td>Decision Tree Classifier</td>\n",
       "      <td>sklearn.tree.DecisionTreeClassifier</td>\n",
       "      <td>True</td>\n",
       "    </tr>\n",
       "    <tr>\n",
       "      <th>svm</th>\n",
       "      <td>SVM - Linear Kernel</td>\n",
       "      <td>sklearn.linear_model.SGDClassifier</td>\n",
       "      <td>True</td>\n",
       "    </tr>\n",
       "    <tr>\n",
       "      <th>rbfsvm</th>\n",
       "      <td>SVM - Radial Kernel</td>\n",
       "      <td>sklearn.svm.SVC</td>\n",
       "      <td>False</td>\n",
       "    </tr>\n",
       "    <tr>\n",
       "      <th>gpc</th>\n",
       "      <td>Gaussian Process Classifier</td>\n",
       "      <td>sklearn.gaussian_process.GPC</td>\n",
       "      <td>False</td>\n",
       "    </tr>\n",
       "    <tr>\n",
       "      <th>mlp</th>\n",
       "      <td>MLP Classifier</td>\n",
       "      <td>sklearn.neural_network.MLPClassifier</td>\n",
       "      <td>False</td>\n",
       "    </tr>\n",
       "    <tr>\n",
       "      <th>ridge</th>\n",
       "      <td>Ridge Classifier</td>\n",
       "      <td>sklearn.linear_model.RidgeClassifier</td>\n",
       "      <td>True</td>\n",
       "    </tr>\n",
       "    <tr>\n",
       "      <th>rf</th>\n",
       "      <td>Random Forest Classifier</td>\n",
       "      <td>sklearn.ensemble.RandomForestClassifier</td>\n",
       "      <td>True</td>\n",
       "    </tr>\n",
       "    <tr>\n",
       "      <th>qda</th>\n",
       "      <td>Quadratic Discriminant Analysis</td>\n",
       "      <td>sklearn.discriminant_analysis.QDA</td>\n",
       "      <td>True</td>\n",
       "    </tr>\n",
       "    <tr>\n",
       "      <th>ada</th>\n",
       "      <td>Ada Boost Classifier</td>\n",
       "      <td>sklearn.ensemble.AdaBoostClassifier</td>\n",
       "      <td>True</td>\n",
       "    </tr>\n",
       "    <tr>\n",
       "      <th>gbc</th>\n",
       "      <td>Gradient Boosting Classifier</td>\n",
       "      <td>sklearn.ensemble.GradientBoostingClassifier</td>\n",
       "      <td>True</td>\n",
       "    </tr>\n",
       "    <tr>\n",
       "      <th>lda</th>\n",
       "      <td>Linear Discriminant Analysis</td>\n",
       "      <td>sklearn.discriminant_analysis.LDA</td>\n",
       "      <td>True</td>\n",
       "    </tr>\n",
       "    <tr>\n",
       "      <th>et</th>\n",
       "      <td>Extra Trees Classifier</td>\n",
       "      <td>sklearn.ensemble.ExtraTreesClassifier</td>\n",
       "      <td>True</td>\n",
       "    </tr>\n",
       "    <tr>\n",
       "      <th>xgboost</th>\n",
       "      <td>Extreme Gradient Boosting</td>\n",
       "      <td>xgboost.readthedocs.io</td>\n",
       "      <td>True</td>\n",
       "    </tr>\n",
       "    <tr>\n",
       "      <th>lightgbm</th>\n",
       "      <td>Light Gradient Boosting Machine</td>\n",
       "      <td>github.com/microsoft/LightGBM</td>\n",
       "      <td>True</td>\n",
       "    </tr>\n",
       "    <tr>\n",
       "      <th>catboost</th>\n",
       "      <td>CatBoost Classifier</td>\n",
       "      <td>catboost.ai</td>\n",
       "      <td>True</td>\n",
       "    </tr>\n",
       "  </tbody>\n",
       "</table>\n",
       "</div>"
      ],
      "text/plain": [
       "                                     Name  \\\n",
       "ID                                          \n",
       "lr                    Logistic Regression   \n",
       "knn                K Neighbors Classifier   \n",
       "nb                            Naive Bayes   \n",
       "dt               Decision Tree Classifier   \n",
       "svm                   SVM - Linear Kernel   \n",
       "rbfsvm                SVM - Radial Kernel   \n",
       "gpc           Gaussian Process Classifier   \n",
       "mlp                        MLP Classifier   \n",
       "ridge                    Ridge Classifier   \n",
       "rf               Random Forest Classifier   \n",
       "qda       Quadratic Discriminant Analysis   \n",
       "ada                  Ada Boost Classifier   \n",
       "gbc          Gradient Boosting Classifier   \n",
       "lda          Linear Discriminant Analysis   \n",
       "et                 Extra Trees Classifier   \n",
       "xgboost         Extreme Gradient Boosting   \n",
       "lightgbm  Light Gradient Boosting Machine   \n",
       "catboost              CatBoost Classifier   \n",
       "\n",
       "                                            Reference  Turbo  \n",
       "ID                                                            \n",
       "lr            sklearn.linear_model.LogisticRegression   True  \n",
       "knn            sklearn.neighbors.KNeighborsClassifier   True  \n",
       "nb                     sklearn.naive_bayes.GaussianNB   True  \n",
       "dt                sklearn.tree.DecisionTreeClassifier   True  \n",
       "svm                sklearn.linear_model.SGDClassifier   True  \n",
       "rbfsvm                                sklearn.svm.SVC  False  \n",
       "gpc                      sklearn.gaussian_process.GPC  False  \n",
       "mlp              sklearn.neural_network.MLPClassifier  False  \n",
       "ridge            sklearn.linear_model.RidgeClassifier   True  \n",
       "rf            sklearn.ensemble.RandomForestClassifier   True  \n",
       "qda                 sklearn.discriminant_analysis.QDA   True  \n",
       "ada               sklearn.ensemble.AdaBoostClassifier   True  \n",
       "gbc       sklearn.ensemble.GradientBoostingClassifier   True  \n",
       "lda                 sklearn.discriminant_analysis.LDA   True  \n",
       "et              sklearn.ensemble.ExtraTreesClassifier   True  \n",
       "xgboost                        xgboost.readthedocs.io   True  \n",
       "lightgbm                github.com/microsoft/LightGBM   True  \n",
       "catboost                                  catboost.ai   True  "
      ]
     },
     "execution_count": 75,
     "metadata": {},
     "output_type": "execute_result"
    }
   ],
   "source": [
    "models()"
   ]
  },
  {
   "cell_type": "code",
   "execution_count": 74,
   "metadata": {},
   "outputs": [
    {
     "name": "stdout",
     "output_type": "stream",
     "text": [
      "<function models at 0x7f88d1dedd08>\n"
     ]
    }
   ],
   "source": [
    "print(models)"
   ]
  },
  {
   "cell_type": "code",
   "execution_count": null,
   "metadata": {},
   "outputs": [],
   "source": []
  }
 ],
 "metadata": {
  "kernelspec": {
   "display_name": "Python 3",
   "language": "python",
   "name": "python3"
  },
  "language_info": {
   "codemirror_mode": {
    "name": "ipython",
    "version": 3
   },
   "file_extension": ".py",
   "mimetype": "text/x-python",
   "name": "python",
   "nbconvert_exporter": "python",
   "pygments_lexer": "ipython3",
   "version": "3.6.11"
  }
 },
 "nbformat": 4,
 "nbformat_minor": 4
}
