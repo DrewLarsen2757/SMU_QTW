{
 "cells": [
  {
   "cell_type": "code",
   "execution_count": 1,
   "metadata": {},
   "outputs": [],
   "source": [
    "import pandas as pd\n",
    "from sklearn.linear_model import LinearRegression\n",
    "import warnings\n",
    "warnings.filterwarnings('ignore')\n",
    "import pandas_profiling\n",
    "import datetime\n",
    "import json\n",
    "import os\n",
    "import pprint\n",
    "import random\n",
    "import string\n",
    "import sys\n",
    "import tensorflow as tf\n",
    "import matplotlib.pyplot as plt\n",
    "import seaborn as sns\n",
    "sns.set()"
   ]
  },
  {
   "cell_type": "markdown",
   "metadata": {},
   "source": [
    "## Business Understanding  \n",
    "\n",
    "Using the data that was provided to us, we are trying to classify the y variable by minimizing the cost function: False Negatives cost \\\\$500, False Positives cost \\\\$10, True Positives cost \\\\$0 and True Negatives cost \\\\$0. We were given 50 variables and a target variable, and asked to use the variables to model the target variable. Thus, we are not sure why this problem is important, how to interpret the individual variables, and we bring no domain knowledge into this problem. The results below are purely the result of trends that are present in the dataset. \n",
    "\n",
    "Our assumptions are that the data, as provided to us, is either the entire population in question, or a random sample taken from the entire population in question. We assume that the cost function provided to us is correct, and that False Negatives truly cost \\\\$500, False Positives truly cost \\\\$10, True Positives truly cost \\\\$0 and True Negatives truly cost \\\\$0. \n",
    "\n",
    "## Data Evaluation / Engineering\n",
    "\n",
    "Read the data in."
   ]
  },
  {
   "cell_type": "code",
   "execution_count": 2,
   "metadata": {},
   "outputs": [
    {
     "data": {
      "text/html": [
       "<div>\n",
       "<style scoped>\n",
       "    .dataframe tbody tr th:only-of-type {\n",
       "        vertical-align: middle;\n",
       "    }\n",
       "\n",
       "    .dataframe tbody tr th {\n",
       "        vertical-align: top;\n",
       "    }\n",
       "\n",
       "    .dataframe thead th {\n",
       "        text-align: right;\n",
       "    }\n",
       "</style>\n",
       "<table border=\"1\" class=\"dataframe\">\n",
       "  <thead>\n",
       "    <tr style=\"text-align: right;\">\n",
       "      <th></th>\n",
       "      <th>x0</th>\n",
       "      <th>x1</th>\n",
       "      <th>x2</th>\n",
       "      <th>x3</th>\n",
       "      <th>x4</th>\n",
       "      <th>x5</th>\n",
       "      <th>x6</th>\n",
       "      <th>x7</th>\n",
       "      <th>x8</th>\n",
       "      <th>x9</th>\n",
       "      <th>...</th>\n",
       "      <th>x41</th>\n",
       "      <th>x42</th>\n",
       "      <th>x43</th>\n",
       "      <th>x44</th>\n",
       "      <th>x45</th>\n",
       "      <th>x46</th>\n",
       "      <th>x47</th>\n",
       "      <th>x48</th>\n",
       "      <th>x49</th>\n",
       "      <th>y</th>\n",
       "    </tr>\n",
       "  </thead>\n",
       "  <tbody>\n",
       "    <tr>\n",
       "      <th>0</th>\n",
       "      <td>-0.166563</td>\n",
       "      <td>-3.961588</td>\n",
       "      <td>4.621113</td>\n",
       "      <td>2.481908</td>\n",
       "      <td>-1.800135</td>\n",
       "      <td>0.804684</td>\n",
       "      <td>6.718751</td>\n",
       "      <td>-14.789997</td>\n",
       "      <td>-1.040673</td>\n",
       "      <td>-4.204950</td>\n",
       "      <td>...</td>\n",
       "      <td>-1.497117</td>\n",
       "      <td>5.414063</td>\n",
       "      <td>-2.325655</td>\n",
       "      <td>1.674827</td>\n",
       "      <td>-0.264332</td>\n",
       "      <td>60.781427</td>\n",
       "      <td>-7.689696</td>\n",
       "      <td>0.151589</td>\n",
       "      <td>-8.040166</td>\n",
       "      <td>0</td>\n",
       "    </tr>\n",
       "    <tr>\n",
       "      <th>1</th>\n",
       "      <td>-0.149894</td>\n",
       "      <td>-0.585676</td>\n",
       "      <td>27.839856</td>\n",
       "      <td>4.152333</td>\n",
       "      <td>6.426802</td>\n",
       "      <td>-2.426943</td>\n",
       "      <td>40.477058</td>\n",
       "      <td>-6.725709</td>\n",
       "      <td>0.896421</td>\n",
       "      <td>0.330165</td>\n",
       "      <td>...</td>\n",
       "      <td>36.292790</td>\n",
       "      <td>4.490915</td>\n",
       "      <td>0.762561</td>\n",
       "      <td>6.526662</td>\n",
       "      <td>1.007927</td>\n",
       "      <td>15.805696</td>\n",
       "      <td>-4.896678</td>\n",
       "      <td>-0.320283</td>\n",
       "      <td>16.719974</td>\n",
       "      <td>0</td>\n",
       "    </tr>\n",
       "    <tr>\n",
       "      <th>2</th>\n",
       "      <td>-0.321707</td>\n",
       "      <td>-1.429819</td>\n",
       "      <td>12.251561</td>\n",
       "      <td>6.586874</td>\n",
       "      <td>-5.304647</td>\n",
       "      <td>-11.311090</td>\n",
       "      <td>17.812850</td>\n",
       "      <td>11.060572</td>\n",
       "      <td>5.325880</td>\n",
       "      <td>-2.632984</td>\n",
       "      <td>...</td>\n",
       "      <td>-0.368491</td>\n",
       "      <td>9.088864</td>\n",
       "      <td>-0.689886</td>\n",
       "      <td>-2.731118</td>\n",
       "      <td>0.754200</td>\n",
       "      <td>30.856417</td>\n",
       "      <td>-7.428573</td>\n",
       "      <td>-2.090804</td>\n",
       "      <td>-7.869421</td>\n",
       "      <td>0</td>\n",
       "    </tr>\n",
       "    <tr>\n",
       "      <th>3</th>\n",
       "      <td>-0.245594</td>\n",
       "      <td>5.076677</td>\n",
       "      <td>-24.149632</td>\n",
       "      <td>3.637307</td>\n",
       "      <td>6.505811</td>\n",
       "      <td>2.290224</td>\n",
       "      <td>-35.111751</td>\n",
       "      <td>-18.913592</td>\n",
       "      <td>-0.337041</td>\n",
       "      <td>-5.568076</td>\n",
       "      <td>...</td>\n",
       "      <td>15.691546</td>\n",
       "      <td>-7.467775</td>\n",
       "      <td>2.940789</td>\n",
       "      <td>-6.424112</td>\n",
       "      <td>0.419776</td>\n",
       "      <td>-72.424569</td>\n",
       "      <td>5.361375</td>\n",
       "      <td>1.806070</td>\n",
       "      <td>-7.670847</td>\n",
       "      <td>0</td>\n",
       "    </tr>\n",
       "    <tr>\n",
       "      <th>4</th>\n",
       "      <td>-0.273366</td>\n",
       "      <td>0.306326</td>\n",
       "      <td>-11.352593</td>\n",
       "      <td>1.676758</td>\n",
       "      <td>2.928441</td>\n",
       "      <td>-0.616824</td>\n",
       "      <td>-16.505817</td>\n",
       "      <td>27.532281</td>\n",
       "      <td>1.199715</td>\n",
       "      <td>-4.309105</td>\n",
       "      <td>...</td>\n",
       "      <td>-13.911297</td>\n",
       "      <td>-5.229937</td>\n",
       "      <td>1.783928</td>\n",
       "      <td>3.957801</td>\n",
       "      <td>-0.096988</td>\n",
       "      <td>-14.085435</td>\n",
       "      <td>-0.208351</td>\n",
       "      <td>-0.894942</td>\n",
       "      <td>15.724742</td>\n",
       "      <td>1</td>\n",
       "    </tr>\n",
       "  </tbody>\n",
       "</table>\n",
       "<p>5 rows × 51 columns</p>\n",
       "</div>"
      ],
      "text/plain": [
       "         x0        x1         x2        x3        x4         x5         x6  \\\n",
       "0 -0.166563 -3.961588   4.621113  2.481908 -1.800135   0.804684   6.718751   \n",
       "1 -0.149894 -0.585676  27.839856  4.152333  6.426802  -2.426943  40.477058   \n",
       "2 -0.321707 -1.429819  12.251561  6.586874 -5.304647 -11.311090  17.812850   \n",
       "3 -0.245594  5.076677 -24.149632  3.637307  6.505811   2.290224 -35.111751   \n",
       "4 -0.273366  0.306326 -11.352593  1.676758  2.928441  -0.616824 -16.505817   \n",
       "\n",
       "          x7        x8        x9  ...        x41       x42       x43  \\\n",
       "0 -14.789997 -1.040673 -4.204950  ...  -1.497117  5.414063 -2.325655   \n",
       "1  -6.725709  0.896421  0.330165  ...  36.292790  4.490915  0.762561   \n",
       "2  11.060572  5.325880 -2.632984  ...  -0.368491  9.088864 -0.689886   \n",
       "3 -18.913592 -0.337041 -5.568076  ...  15.691546 -7.467775  2.940789   \n",
       "4  27.532281  1.199715 -4.309105  ... -13.911297 -5.229937  1.783928   \n",
       "\n",
       "        x44       x45        x46       x47       x48        x49  y  \n",
       "0  1.674827 -0.264332  60.781427 -7.689696  0.151589  -8.040166  0  \n",
       "1  6.526662  1.007927  15.805696 -4.896678 -0.320283  16.719974  0  \n",
       "2 -2.731118  0.754200  30.856417 -7.428573 -2.090804  -7.869421  0  \n",
       "3 -6.424112  0.419776 -72.424569  5.361375  1.806070  -7.670847  0  \n",
       "4  3.957801 -0.096988 -14.085435 -0.208351 -0.894942  15.724742  1  \n",
       "\n",
       "[5 rows x 51 columns]"
      ]
     },
     "execution_count": 2,
     "metadata": {},
     "output_type": "execute_result"
    }
   ],
   "source": [
    "df = pd.read_csv(\"/home/drew/School/Semester4/QTW/Final_Case_Materials/final_project.csv\")\n",
    "df.head()"
   ]
  },
  {
   "cell_type": "markdown",
   "metadata": {},
   "source": [
    "**The majority of the data is float64. We will take a deeper look at the variables, starting with the numeric variables.** "
   ]
  },
  {
   "cell_type": "code",
   "execution_count": 3,
   "metadata": {
    "collapsed": true,
    "jupyter": {
     "outputs_hidden": true
    },
    "scrolled": true
   },
   "outputs": [
    {
     "data": {
      "text/plain": [
       "x0     float64\n",
       "x1     float64\n",
       "x2     float64\n",
       "x3     float64\n",
       "x4     float64\n",
       "x5     float64\n",
       "x6     float64\n",
       "x7     float64\n",
       "x8     float64\n",
       "x9     float64\n",
       "x10    float64\n",
       "x11    float64\n",
       "x12    float64\n",
       "x13    float64\n",
       "x14    float64\n",
       "x15    float64\n",
       "x16    float64\n",
       "x17    float64\n",
       "x18    float64\n",
       "x19    float64\n",
       "x20    float64\n",
       "x21    float64\n",
       "x22    float64\n",
       "x23    float64\n",
       "x24     object\n",
       "x25    float64\n",
       "x26    float64\n",
       "x27    float64\n",
       "x28    float64\n",
       "x29     object\n",
       "x30     object\n",
       "x31    float64\n",
       "x32     object\n",
       "x33    float64\n",
       "x34    float64\n",
       "x35    float64\n",
       "x36    float64\n",
       "x37     object\n",
       "x38    float64\n",
       "x39    float64\n",
       "x40    float64\n",
       "x41    float64\n",
       "x42    float64\n",
       "x43    float64\n",
       "x44    float64\n",
       "x45    float64\n",
       "x46    float64\n",
       "x47    float64\n",
       "x48    float64\n",
       "x49    float64\n",
       "y        int64\n",
       "dtype: object"
      ]
     },
     "execution_count": 3,
     "metadata": {},
     "output_type": "execute_result"
    }
   ],
   "source": [
    "df.dtypes"
   ]
  },
  {
   "cell_type": "markdown",
   "metadata": {},
   "source": [
    "**There are between 20 and 50 NA's in each column.**"
   ]
  },
  {
   "cell_type": "code",
   "execution_count": 4,
   "metadata": {
    "collapsed": true,
    "jupyter": {
     "outputs_hidden": true
    },
    "scrolled": true
   },
   "outputs": [
    {
     "data": {
      "text/plain": [
       "x0     26\n",
       "x1     25\n",
       "x2     38\n",
       "x3     37\n",
       "x4     26\n",
       "x5     37\n",
       "x6     26\n",
       "x7     27\n",
       "x8     21\n",
       "x9     30\n",
       "x10    43\n",
       "x11    30\n",
       "x12    36\n",
       "x13    31\n",
       "x14    34\n",
       "x15    35\n",
       "x16    26\n",
       "x17    27\n",
       "x18    40\n",
       "x19    35\n",
       "x20    38\n",
       "x21    29\n",
       "x22    27\n",
       "x23    47\n",
       "x24    28\n",
       "x25    22\n",
       "x26    36\n",
       "x27    30\n",
       "x28    35\n",
       "x29    30\n",
       "x30    30\n",
       "x31    39\n",
       "x32    31\n",
       "x33    41\n",
       "x34    41\n",
       "x35    30\n",
       "x36    27\n",
       "x37    23\n",
       "x38    31\n",
       "x39    23\n",
       "x40    36\n",
       "x41    40\n",
       "x42    26\n",
       "x43    37\n",
       "x44    40\n",
       "x45    29\n",
       "x46    31\n",
       "x47    37\n",
       "x48    32\n",
       "x49    32\n",
       "y       0\n",
       "dtype: int64"
      ]
     },
     "execution_count": 4,
     "metadata": {},
     "output_type": "execute_result"
    }
   ],
   "source": [
    "df.isna().sum()"
   ]
  },
  {
   "cell_type": "markdown",
   "metadata": {},
   "source": [
    "**If we were to drop all of the NA's, we would lose about 1% of the data. We can proceed with dropping NA's without fear of losing too much data.** "
   ]
  },
  {
   "cell_type": "code",
   "execution_count": 5,
   "metadata": {},
   "outputs": [
    {
     "name": "stdout",
     "output_type": "stream",
     "text": [
      "Total Observations 160000\n",
      "Number of observations left after removing N/A values 158392\n",
      "Percentage of data removed 0.98995\n"
     ]
    }
   ],
   "source": [
    "print('Total Observations',len(df))\n",
    "print('Number of observations left after removing N/A values',len(df.dropna()))\n",
    "print('Percentage of data removed',len(df.dropna()) / len(df))"
   ]
  },
  {
   "cell_type": "markdown",
   "metadata": {},
   "source": [
    "**Looks like we have a variety of ranges for the rest of our numeric variables. All variables have a minimum in the negatives, while all variables have a maximum in the positives. y is a binary 0 or 1, as expected. It appears that all the numeric variables are cleaned, so we will move onto the 'object' columns.**"
   ]
  },
  {
   "cell_type": "code",
   "execution_count": 6,
   "metadata": {},
   "outputs": [
    {
     "data": {
      "text/html": [
       "<div>\n",
       "<style scoped>\n",
       "    .dataframe tbody tr th:only-of-type {\n",
       "        vertical-align: middle;\n",
       "    }\n",
       "\n",
       "    .dataframe tbody tr th {\n",
       "        vertical-align: top;\n",
       "    }\n",
       "\n",
       "    .dataframe thead th {\n",
       "        text-align: right;\n",
       "    }\n",
       "</style>\n",
       "<table border=\"1\" class=\"dataframe\">\n",
       "  <thead>\n",
       "    <tr style=\"text-align: right;\">\n",
       "      <th></th>\n",
       "      <th>x0</th>\n",
       "      <th>x1</th>\n",
       "      <th>x2</th>\n",
       "      <th>x3</th>\n",
       "      <th>x4</th>\n",
       "      <th>x5</th>\n",
       "      <th>x6</th>\n",
       "      <th>x7</th>\n",
       "      <th>x8</th>\n",
       "      <th>x9</th>\n",
       "      <th>...</th>\n",
       "      <th>x41</th>\n",
       "      <th>x42</th>\n",
       "      <th>x43</th>\n",
       "      <th>x44</th>\n",
       "      <th>x45</th>\n",
       "      <th>x46</th>\n",
       "      <th>x47</th>\n",
       "      <th>x48</th>\n",
       "      <th>x49</th>\n",
       "      <th>y</th>\n",
       "    </tr>\n",
       "  </thead>\n",
       "  <tbody>\n",
       "    <tr>\n",
       "      <th>count</th>\n",
       "      <td>158392.000000</td>\n",
       "      <td>158392.000000</td>\n",
       "      <td>158392.000000</td>\n",
       "      <td>158392.000000</td>\n",
       "      <td>158392.000000</td>\n",
       "      <td>158392.000000</td>\n",
       "      <td>158392.000000</td>\n",
       "      <td>158392.000000</td>\n",
       "      <td>158392.000000</td>\n",
       "      <td>158392.000000</td>\n",
       "      <td>...</td>\n",
       "      <td>158392.000000</td>\n",
       "      <td>158392.000000</td>\n",
       "      <td>158392.000000</td>\n",
       "      <td>158392.000000</td>\n",
       "      <td>158392.000000</td>\n",
       "      <td>158392.000000</td>\n",
       "      <td>158392.000000</td>\n",
       "      <td>158392.000000</td>\n",
       "      <td>158392.000000</td>\n",
       "      <td>158392.000000</td>\n",
       "    </tr>\n",
       "    <tr>\n",
       "      <th>mean</th>\n",
       "      <td>-0.000808</td>\n",
       "      <td>0.003705</td>\n",
       "      <td>-1.148314</td>\n",
       "      <td>-0.023012</td>\n",
       "      <td>-0.000266</td>\n",
       "      <td>0.013282</td>\n",
       "      <td>-1.669562</td>\n",
       "      <td>-7.697877</td>\n",
       "      <td>-0.028853</td>\n",
       "      <td>0.004320</td>\n",
       "      <td>...</td>\n",
       "      <td>6.706030</td>\n",
       "      <td>-1.832959</td>\n",
       "      <td>-0.002174</td>\n",
       "      <td>-0.007254</td>\n",
       "      <td>0.000996</td>\n",
       "      <td>-12.751993</td>\n",
       "      <td>0.028262</td>\n",
       "      <td>0.000160</td>\n",
       "      <td>-0.672052</td>\n",
       "      <td>0.401195</td>\n",
       "    </tr>\n",
       "    <tr>\n",
       "      <th>std</th>\n",
       "      <td>0.371064</td>\n",
       "      <td>6.340297</td>\n",
       "      <td>13.274738</td>\n",
       "      <td>8.066624</td>\n",
       "      <td>6.383306</td>\n",
       "      <td>7.672102</td>\n",
       "      <td>19.300472</td>\n",
       "      <td>30.541562</td>\n",
       "      <td>8.904048</td>\n",
       "      <td>6.354359</td>\n",
       "      <td>...</td>\n",
       "      <td>18.675642</td>\n",
       "      <td>5.110079</td>\n",
       "      <td>1.535282</td>\n",
       "      <td>4.163766</td>\n",
       "      <td>0.396604</td>\n",
       "      <td>36.608634</td>\n",
       "      <td>4.787974</td>\n",
       "      <td>1.935087</td>\n",
       "      <td>15.033134</td>\n",
       "      <td>0.490142</td>\n",
       "    </tr>\n",
       "    <tr>\n",
       "      <th>min</th>\n",
       "      <td>-1.592635</td>\n",
       "      <td>-26.278302</td>\n",
       "      <td>-59.394048</td>\n",
       "      <td>-33.864827</td>\n",
       "      <td>-28.467536</td>\n",
       "      <td>-33.822988</td>\n",
       "      <td>-86.354483</td>\n",
       "      <td>-181.506976</td>\n",
       "      <td>-37.691045</td>\n",
       "      <td>-27.980659</td>\n",
       "      <td>...</td>\n",
       "      <td>-82.167224</td>\n",
       "      <td>-27.933750</td>\n",
       "      <td>-6.876234</td>\n",
       "      <td>-17.983487</td>\n",
       "      <td>-1.753221</td>\n",
       "      <td>-201.826828</td>\n",
       "      <td>-21.086333</td>\n",
       "      <td>-8.490155</td>\n",
       "      <td>-65.791191</td>\n",
       "      <td>0.000000</td>\n",
       "    </tr>\n",
       "    <tr>\n",
       "      <th>25%</th>\n",
       "      <td>-0.251246</td>\n",
       "      <td>-4.259016</td>\n",
       "      <td>-10.166609</td>\n",
       "      <td>-5.453044</td>\n",
       "      <td>-4.313987</td>\n",
       "      <td>-5.152419</td>\n",
       "      <td>-14.781485</td>\n",
       "      <td>-27.315875</td>\n",
       "      <td>-6.034094</td>\n",
       "      <td>-4.260304</td>\n",
       "      <td>...</td>\n",
       "      <td>-5.802178</td>\n",
       "      <td>-5.159340</td>\n",
       "      <td>-1.039992</td>\n",
       "      <td>-2.814168</td>\n",
       "      <td>-0.266369</td>\n",
       "      <td>-36.432779</td>\n",
       "      <td>-3.216974</td>\n",
       "      <td>-1.320800</td>\n",
       "      <td>-10.929046</td>\n",
       "      <td>0.000000</td>\n",
       "    </tr>\n",
       "    <tr>\n",
       "      <th>50%</th>\n",
       "      <td>-0.001818</td>\n",
       "      <td>0.010023</td>\n",
       "      <td>-1.342199</td>\n",
       "      <td>-0.028470</td>\n",
       "      <td>-0.001138</td>\n",
       "      <td>0.015135</td>\n",
       "      <td>-1.951457</td>\n",
       "      <td>-6.959275</td>\n",
       "      <td>-0.016173</td>\n",
       "      <td>0.003098</td>\n",
       "      <td>...</td>\n",
       "      <td>6.847926</td>\n",
       "      <td>-1.922935</td>\n",
       "      <td>-0.004279</td>\n",
       "      <td>-0.012278</td>\n",
       "      <td>0.001841</td>\n",
       "      <td>-12.975088</td>\n",
       "      <td>0.036234</td>\n",
       "      <td>-0.011800</td>\n",
       "      <td>-0.569139</td>\n",
       "      <td>0.000000</td>\n",
       "    </tr>\n",
       "    <tr>\n",
       "      <th>75%</th>\n",
       "      <td>0.248622</td>\n",
       "      <td>4.286606</td>\n",
       "      <td>7.878130</td>\n",
       "      <td>5.448332</td>\n",
       "      <td>4.308644</td>\n",
       "      <td>5.191172</td>\n",
       "      <td>11.454209</td>\n",
       "      <td>12.215119</td>\n",
       "      <td>5.978646</td>\n",
       "      <td>4.303807</td>\n",
       "      <td>...</td>\n",
       "      <td>19.269855</td>\n",
       "      <td>1.452018</td>\n",
       "      <td>1.033870</td>\n",
       "      <td>2.781096</td>\n",
       "      <td>0.269194</td>\n",
       "      <td>11.445524</td>\n",
       "      <td>3.269134</td>\n",
       "      <td>1.318161</td>\n",
       "      <td>9.649839</td>\n",
       "      <td>1.000000</td>\n",
       "    </tr>\n",
       "    <tr>\n",
       "      <th>max</th>\n",
       "      <td>1.600849</td>\n",
       "      <td>27.988178</td>\n",
       "      <td>63.545653</td>\n",
       "      <td>38.906025</td>\n",
       "      <td>26.247812</td>\n",
       "      <td>35.550110</td>\n",
       "      <td>92.390605</td>\n",
       "      <td>149.150634</td>\n",
       "      <td>39.049831</td>\n",
       "      <td>27.377842</td>\n",
       "      <td>...</td>\n",
       "      <td>100.050432</td>\n",
       "      <td>22.668041</td>\n",
       "      <td>6.680922</td>\n",
       "      <td>19.069759</td>\n",
       "      <td>1.669205</td>\n",
       "      <td>150.859415</td>\n",
       "      <td>20.836854</td>\n",
       "      <td>8.226552</td>\n",
       "      <td>66.877604</td>\n",
       "      <td>1.000000</td>\n",
       "    </tr>\n",
       "  </tbody>\n",
       "</table>\n",
       "<p>8 rows × 46 columns</p>\n",
       "</div>"
      ],
      "text/plain": [
       "                  x0             x1             x2             x3  \\\n",
       "count  158392.000000  158392.000000  158392.000000  158392.000000   \n",
       "mean       -0.000808       0.003705      -1.148314      -0.023012   \n",
       "std         0.371064       6.340297      13.274738       8.066624   \n",
       "min        -1.592635     -26.278302     -59.394048     -33.864827   \n",
       "25%        -0.251246      -4.259016     -10.166609      -5.453044   \n",
       "50%        -0.001818       0.010023      -1.342199      -0.028470   \n",
       "75%         0.248622       4.286606       7.878130       5.448332   \n",
       "max         1.600849      27.988178      63.545653      38.906025   \n",
       "\n",
       "                  x4             x5             x6             x7  \\\n",
       "count  158392.000000  158392.000000  158392.000000  158392.000000   \n",
       "mean       -0.000266       0.013282      -1.669562      -7.697877   \n",
       "std         6.383306       7.672102      19.300472      30.541562   \n",
       "min       -28.467536     -33.822988     -86.354483    -181.506976   \n",
       "25%        -4.313987      -5.152419     -14.781485     -27.315875   \n",
       "50%        -0.001138       0.015135      -1.951457      -6.959275   \n",
       "75%         4.308644       5.191172      11.454209      12.215119   \n",
       "max        26.247812      35.550110      92.390605     149.150634   \n",
       "\n",
       "                  x8             x9  ...            x41            x42  \\\n",
       "count  158392.000000  158392.000000  ...  158392.000000  158392.000000   \n",
       "mean       -0.028853       0.004320  ...       6.706030      -1.832959   \n",
       "std         8.904048       6.354359  ...      18.675642       5.110079   \n",
       "min       -37.691045     -27.980659  ...     -82.167224     -27.933750   \n",
       "25%        -6.034094      -4.260304  ...      -5.802178      -5.159340   \n",
       "50%        -0.016173       0.003098  ...       6.847926      -1.922935   \n",
       "75%         5.978646       4.303807  ...      19.269855       1.452018   \n",
       "max        39.049831      27.377842  ...     100.050432      22.668041   \n",
       "\n",
       "                 x43            x44            x45            x46  \\\n",
       "count  158392.000000  158392.000000  158392.000000  158392.000000   \n",
       "mean       -0.002174      -0.007254       0.000996     -12.751993   \n",
       "std         1.535282       4.163766       0.396604      36.608634   \n",
       "min        -6.876234     -17.983487      -1.753221    -201.826828   \n",
       "25%        -1.039992      -2.814168      -0.266369     -36.432779   \n",
       "50%        -0.004279      -0.012278       0.001841     -12.975088   \n",
       "75%         1.033870       2.781096       0.269194      11.445524   \n",
       "max         6.680922      19.069759       1.669205     150.859415   \n",
       "\n",
       "                 x47            x48            x49              y  \n",
       "count  158392.000000  158392.000000  158392.000000  158392.000000  \n",
       "mean        0.028262       0.000160      -0.672052       0.401195  \n",
       "std         4.787974       1.935087      15.033134       0.490142  \n",
       "min       -21.086333      -8.490155     -65.791191       0.000000  \n",
       "25%        -3.216974      -1.320800     -10.929046       0.000000  \n",
       "50%         0.036234      -0.011800      -0.569139       0.000000  \n",
       "75%         3.269134       1.318161       9.649839       1.000000  \n",
       "max        20.836854       8.226552      66.877604       1.000000  \n",
       "\n",
       "[8 rows x 46 columns]"
      ]
     },
     "execution_count": 6,
     "metadata": {},
     "output_type": "execute_result"
    }
   ],
   "source": [
    "df_numeric = df.dropna()\n",
    "df_numeric = df_numeric.drop(columns = ['x24', 'x29', 'x30', 'x32', 'x37'])\n",
    "df_numeric.describe()"
   ]
  },
  {
   "cell_type": "markdown",
   "metadata": {},
   "source": [
    "**Our target varible 'y' is a collection of 0s and 1s. There is about a 40/60 split in the target variable.**"
   ]
  },
  {
   "cell_type": "code",
   "execution_count": 7,
   "metadata": {},
   "outputs": [
    {
     "name": "stdout",
     "output_type": "stream",
     "text": [
      "[0 1]\n",
      "0    94846\n",
      "1    63546\n",
      "Name: y, dtype: int64\n",
      "0    0.598805\n",
      "1    0.401195\n",
      "Name: y, dtype: float64\n"
     ]
    }
   ],
   "source": [
    "print(df_numeric['y'].unique())\n",
    "print(df_numeric['y'].value_counts())\n",
    "print(df_numeric['y'].value_counts() / df_numeric['y'].count())"
   ]
  },
  {
   "cell_type": "markdown",
   "metadata": {},
   "source": [
    "**x24 is a column of what looks like continents, between europe, asia, america and nan. This is definitely not a numeric column that is being read in as a string, but we'll want to do some clean up to this column.** "
   ]
  },
  {
   "cell_type": "code",
   "execution_count": 8,
   "metadata": {},
   "outputs": [
    {
     "data": {
      "text/plain": [
       "array(['euorpe', 'asia', 'america', nan], dtype=object)"
      ]
     },
     "execution_count": 8,
     "metadata": {},
     "output_type": "execute_result"
    }
   ],
   "source": [
    "df['x24'].unique()"
   ]
  },
  {
   "cell_type": "markdown",
   "metadata": {},
   "source": [
    "**x29 needs to be cleaned. It is a column of months, where most months are 3 letters, but some are longer.**"
   ]
  },
  {
   "cell_type": "code",
   "execution_count": 9,
   "metadata": {},
   "outputs": [
    {
     "data": {
      "text/plain": [
       "array(['July', 'Aug', 'Jun', 'May', 'sept.', 'Apr', 'Nov', 'Oct', nan,\n",
       "       'Mar', 'Feb', 'Dev', 'January'], dtype=object)"
      ]
     },
     "execution_count": 9,
     "metadata": {},
     "output_type": "execute_result"
    }
   ],
   "source": [
    "df['x29'].unique()"
   ]
  },
  {
   "cell_type": "markdown",
   "metadata": {},
   "source": [
    "**x30 is a column of weekdays, monday through friday. Some days are misspelled. This column needs some cleaning.**"
   ]
  },
  {
   "cell_type": "code",
   "execution_count": 10,
   "metadata": {},
   "outputs": [
    {
     "data": {
      "text/plain": [
       "array(['tuesday', 'wednesday', 'thurday', 'monday', 'friday', nan],\n",
       "      dtype=object)"
      ]
     },
     "execution_count": 10,
     "metadata": {},
     "output_type": "execute_result"
    }
   ],
   "source": [
    "df['x30'].unique()"
   ]
  },
  {
   "cell_type": "markdown",
   "metadata": {},
   "source": [
    "**x32 is a column of percents that is being read in as str instead of numeric. This needs to be cleaned and turned into a numeric variable.**"
   ]
  },
  {
   "cell_type": "code",
   "execution_count": 11,
   "metadata": {},
   "outputs": [
    {
     "data": {
      "text/plain": [
       "array(['0.0%', '-0.02%', '-0.01%', '0.01%', '-0.03%', '0.02%', '-0.0%',\n",
       "       '-0.04%', nan, '0.03%', '0.04%', '-0.05%', '0.05%'], dtype=object)"
      ]
     },
     "execution_count": 11,
     "metadata": {},
     "output_type": "execute_result"
    }
   ],
   "source": [
    "df['x32'].unique()"
   ]
  },
  {
   "cell_type": "markdown",
   "metadata": {},
   "source": [
    "**x37 is a row of dollar values that were read in as str instead of numeric. This variable needs to be cleaned and turned into a numeric variable.** "
   ]
  },
  {
   "cell_type": "code",
   "execution_count": 12,
   "metadata": {},
   "outputs": [
    {
     "data": {
      "text/plain": [
       "array(['$1313.96', '$1962.78', '$430.47', ..., '$1588.65', '$439.21',\n",
       "       '$-1229.34'], dtype=object)"
      ]
     },
     "execution_count": 12,
     "metadata": {},
     "output_type": "execute_result"
    }
   ],
   "source": [
    "df['x37'].unique()"
   ]
  },
  {
   "cell_type": "markdown",
   "metadata": {},
   "source": [
    "**Aside from dropping the NA's, it doesn't look like we need to do much cleaning with the variables that are already numeric. Thus, cleaning will focus on 'x24', 'x29', 'x30', 'x32' and 'x37'. First, we drop NA's.**"
   ]
  },
  {
   "cell_type": "code",
   "execution_count": 13,
   "metadata": {},
   "outputs": [],
   "source": [
    "df_na = df.dropna()"
   ]
  },
  {
   "cell_type": "markdown",
   "metadata": {},
   "source": [
    "**x24 has 'euorpe', 'asia' and 'america' as possible values. We will fix the spelling of europe and capitalize the first letter of each continent name.** "
   ]
  },
  {
   "cell_type": "code",
   "execution_count": 14,
   "metadata": {},
   "outputs": [
    {
     "data": {
      "text/plain": [
       "array(['euorpe', 'asia', 'america'], dtype=object)"
      ]
     },
     "execution_count": 14,
     "metadata": {},
     "output_type": "execute_result"
    }
   ],
   "source": [
    "df_na['x24'].unique()"
   ]
  },
  {
   "cell_type": "code",
   "execution_count": 15,
   "metadata": {},
   "outputs": [
    {
     "data": {
      "text/plain": [
       "array(['Europe', 'Asia', 'America'], dtype=object)"
      ]
     },
     "execution_count": 15,
     "metadata": {},
     "output_type": "execute_result"
    }
   ],
   "source": [
    "df_na['x24'] = df_na['x24'].str.replace('euorpe', 'Europe')\n",
    "df_na['x24'] = df_na['x24'].str.replace('asia', 'Asia')\n",
    "df_na['x24'] = df_na['x24'].str.replace('america', 'America')\n",
    "df_na['x24'].unique()"
   ]
  },
  {
   "cell_type": "markdown",
   "metadata": {},
   "source": [
    "**We move on to the 'x29' variable, which has months in various forms. We will stick with the 3 letter form of each month, since most months are spelled that way. That means 'July', 'sept.', 'Dec' and 'January' need to be fixed.**"
   ]
  },
  {
   "cell_type": "code",
   "execution_count": 16,
   "metadata": {},
   "outputs": [
    {
     "data": {
      "text/plain": [
       "array(['July', 'Aug', 'Jun', 'May', 'sept.', 'Apr', 'Nov', 'Oct', 'Mar',\n",
       "       'Feb', 'Dev', 'January'], dtype=object)"
      ]
     },
     "execution_count": 16,
     "metadata": {},
     "output_type": "execute_result"
    }
   ],
   "source": [
    "df_na['x29'].unique()"
   ]
  },
  {
   "cell_type": "code",
   "execution_count": 17,
   "metadata": {},
   "outputs": [
    {
     "data": {
      "text/plain": [
       "array(['Jul', 'Aug', 'Jun', 'May', 'Sep', 'Apr', 'Nov', 'Oct', 'Mar',\n",
       "       'Feb', 'Dec', 'Jan'], dtype=object)"
      ]
     },
     "execution_count": 17,
     "metadata": {},
     "output_type": "execute_result"
    }
   ],
   "source": [
    "df_na['x29'] = df_na['x29'].str.replace('July', 'Jul')\n",
    "df_na['x29'] = df_na['x29'].str.replace('sept.', 'Sep')\n",
    "df_na['x29'] = df_na['x29'].str.replace('Dev', 'Dec')\n",
    "df_na['x29'] = df_na['x29'].str.replace('January', 'Jan')\n",
    "df_na['x29'].unique()"
   ]
  },
  {
   "cell_type": "markdown",
   "metadata": {},
   "source": [
    "**Here, we look at the x30 variable, which seems to be days of the week. We'll capitalize like we had with the continents, and fix the spelling of 'thurday'.**"
   ]
  },
  {
   "cell_type": "code",
   "execution_count": 18,
   "metadata": {},
   "outputs": [
    {
     "data": {
      "text/plain": [
       "array(['tuesday', 'wednesday', 'thurday', 'monday', 'friday'],\n",
       "      dtype=object)"
      ]
     },
     "execution_count": 18,
     "metadata": {},
     "output_type": "execute_result"
    }
   ],
   "source": [
    "df_na['x30'].unique()"
   ]
  },
  {
   "cell_type": "code",
   "execution_count": 19,
   "metadata": {},
   "outputs": [
    {
     "data": {
      "text/plain": [
       "array(['Tuesday', 'Wednesday', 'Thursday', 'Monday', 'Friday'],\n",
       "      dtype=object)"
      ]
     },
     "execution_count": 19,
     "metadata": {},
     "output_type": "execute_result"
    }
   ],
   "source": [
    "df_na['x30'] = df_na['x30'].str.replace('tuesday', 'Tuesday')\n",
    "df_na['x30'] = df_na['x30'].str.replace('wednesday', 'Wednesday')\n",
    "df_na['x30'] = df_na['x30'].str.replace('thurday', 'Thursday')\n",
    "df_na['x30'] = df_na['x30'].str.replace('monday', 'Monday')\n",
    "df_na['x30'] = df_na['x30'].str.replace('friday', 'Friday')\n",
    "df_na['x30'].unique()"
   ]
  },
  {
   "cell_type": "markdown",
   "metadata": {},
   "source": [
    "**Here, we investigate the 'x32' variable. These are percents that still have % at the end, so pandas interprets them as strings. We will remove the % at the end, convert to numeric, and divide each value by 100 to convert percent to decimal. Note that the result only has 11 unique values instead of 12, as -0.0% and 0.0% were interpreted as two different values initially.**"
   ]
  },
  {
   "cell_type": "code",
   "execution_count": 20,
   "metadata": {},
   "outputs": [
    {
     "data": {
      "text/plain": [
       "array(['0.0%', '-0.02%', '-0.01%', '0.01%', '-0.03%', '0.02%', '-0.0%',\n",
       "       '-0.04%', '0.03%', '0.04%', '-0.05%', '0.05%'], dtype=object)"
      ]
     },
     "execution_count": 20,
     "metadata": {},
     "output_type": "execute_result"
    }
   ],
   "source": [
    "df_na['x32'].unique()"
   ]
  },
  {
   "cell_type": "code",
   "execution_count": 21,
   "metadata": {},
   "outputs": [
    {
     "data": {
      "text/plain": [
       "array([ 0.    , -0.0002, -0.0001,  0.0001, -0.0003,  0.0002, -0.0004,\n",
       "        0.0003,  0.0004, -0.0005,  0.0005])"
      ]
     },
     "execution_count": 21,
     "metadata": {},
     "output_type": "execute_result"
    }
   ],
   "source": [
    "df_na['x32'] = df_na['x32'].str.replace('%', '')\n",
    "df_na['x32'] = df_na['x32'].astype('float64')\n",
    "df_na['x32'] = df_na['x32'] / 100\n",
    "df_na['x32'].unique()"
   ]
  },
  {
   "cell_type": "markdown",
   "metadata": {},
   "source": [
    "**Finally, we have x37. This variable was interpreted as a string due to the leading dollar sign. We will remove this dollar sign and convert the result to numeric.** "
   ]
  },
  {
   "cell_type": "code",
   "execution_count": 22,
   "metadata": {},
   "outputs": [
    {
     "data": {
      "text/plain": [
       "array(['$1313.96', '$1962.78', '$430.47', ..., '$1588.65', '$439.21',\n",
       "       '$-1229.34'], dtype=object)"
      ]
     },
     "execution_count": 22,
     "metadata": {},
     "output_type": "execute_result"
    }
   ],
   "source": [
    "df_na['x37'].unique()"
   ]
  },
  {
   "cell_type": "code",
   "execution_count": 23,
   "metadata": {},
   "outputs": [
    {
     "data": {
      "text/plain": [
       "array([ 1313.96,  1962.78,   430.47, ...,  1588.65,   439.21, -1229.34])"
      ]
     },
     "execution_count": 23,
     "metadata": {},
     "output_type": "execute_result"
    }
   ],
   "source": [
    "df_na['x37'] = df_na['x37'].str.replace('$', '').astype('float64').round(2)\n",
    "df_na['x37'].unique()"
   ]
  },
  {
   "cell_type": "code",
   "execution_count": 24,
   "metadata": {},
   "outputs": [],
   "source": [
    "df_clean = df_na"
   ]
  },
  {
   "cell_type": "markdown",
   "metadata": {},
   "source": [
    "**We have no NA's in our df_clean, and our variables are all numeric other than x24, x29 and x30, which is expected. We are ready to move forward with EDA and modelling.**"
   ]
  },
  {
   "cell_type": "code",
   "execution_count": 25,
   "metadata": {},
   "outputs": [
    {
     "data": {
      "text/plain": [
       "0"
      ]
     },
     "execution_count": 25,
     "metadata": {},
     "output_type": "execute_result"
    }
   ],
   "source": [
    "df_clean.isna().sum().sum()"
   ]
  },
  {
   "cell_type": "code",
   "execution_count": 26,
   "metadata": {
    "scrolled": true
   },
   "outputs": [
    {
     "data": {
      "text/plain": [
       "x0     float64\n",
       "x1     float64\n",
       "x2     float64\n",
       "x3     float64\n",
       "x4     float64\n",
       "x5     float64\n",
       "x6     float64\n",
       "x7     float64\n",
       "x8     float64\n",
       "x9     float64\n",
       "x10    float64\n",
       "x11    float64\n",
       "x12    float64\n",
       "x13    float64\n",
       "x14    float64\n",
       "x15    float64\n",
       "x16    float64\n",
       "x17    float64\n",
       "x18    float64\n",
       "x19    float64\n",
       "x20    float64\n",
       "x21    float64\n",
       "x22    float64\n",
       "x23    float64\n",
       "x24     object\n",
       "x25    float64\n",
       "x26    float64\n",
       "x27    float64\n",
       "x28    float64\n",
       "x29     object\n",
       "x30     object\n",
       "x31    float64\n",
       "x32    float64\n",
       "x33    float64\n",
       "x34    float64\n",
       "x35    float64\n",
       "x36    float64\n",
       "x37    float64\n",
       "x38    float64\n",
       "x39    float64\n",
       "x40    float64\n",
       "x41    float64\n",
       "x42    float64\n",
       "x43    float64\n",
       "x44    float64\n",
       "x45    float64\n",
       "x46    float64\n",
       "x47    float64\n",
       "x48    float64\n",
       "x49    float64\n",
       "y        int64\n",
       "dtype: object"
      ]
     },
     "execution_count": 26,
     "metadata": {},
     "output_type": "execute_result"
    }
   ],
   "source": [
    "df_clean.dtypes"
   ]
  },
  {
   "cell_type": "markdown",
   "metadata": {},
   "source": [
    "### Variable Analysis"
   ]
  },
  {
   "cell_type": "markdown",
   "metadata": {},
   "source": [
    "**Below, we create our Pandas Profiling html file. Because it is so large, it cannot be displayed in the Jupyter Notebook. Please see the supplemental FinalProjectEDA.html file.**"
   ]
  },
  {
   "cell_type": "code",
   "execution_count": 29,
   "metadata": {},
   "outputs": [
    {
     "data": {
      "application/vnd.jupyter.widget-view+json": {
       "model_id": "8abc8c13e88c4c8fa313f9bbd36b7df6",
       "version_major": 2,
       "version_minor": 0
      },
      "text/plain": [
       "HBox(children=(FloatProgress(value=0.0, description='Summarize dataset', max=66.0, style=ProgressStyle(descrip…"
      ]
     },
     "metadata": {},
     "output_type": "display_data"
    },
    {
     "name": "stdout",
     "output_type": "stream",
     "text": [
      "\n"
     ]
    },
    {
     "data": {
      "application/vnd.jupyter.widget-view+json": {
       "model_id": "fe26188157554678a54b177f4b0cdc12",
       "version_major": 2,
       "version_minor": 0
      },
      "text/plain": [
       "HBox(children=(FloatProgress(value=0.0, description='Generate report structure', max=1.0, style=ProgressStyle(…"
      ]
     },
     "metadata": {},
     "output_type": "display_data"
    },
    {
     "name": "stdout",
     "output_type": "stream",
     "text": [
      "\n"
     ]
    },
    {
     "data": {
      "application/vnd.jupyter.widget-view+json": {
       "model_id": "005c9ca7728644388020094d5f14e3bf",
       "version_major": 2,
       "version_minor": 0
      },
      "text/plain": [
       "HBox(children=(FloatProgress(value=0.0, description='Render HTML', max=1.0, style=ProgressStyle(description_wi…"
      ]
     },
     "metadata": {},
     "output_type": "display_data"
    },
    {
     "name": "stdout",
     "output_type": "stream",
     "text": [
      "\n"
     ]
    },
    {
     "data": {
      "application/vnd.jupyter.widget-view+json": {
       "model_id": "320511fa2337478bbbb4e430bb5c874d",
       "version_major": 2,
       "version_minor": 0
      },
      "text/plain": [
       "HBox(children=(FloatProgress(value=0.0, description='Export report to file', max=1.0, style=ProgressStyle(desc…"
      ]
     },
     "metadata": {},
     "output_type": "display_data"
    },
    {
     "name": "stdout",
     "output_type": "stream",
     "text": [
      "\n"
     ]
    }
   ],
   "source": [
    "pandas_profiling = df_clean.profile_report()\n",
    "pandas_profiling.to_file('FinalProjectEDA.html')"
   ]
  },
  {
   "cell_type": "markdown",
   "metadata": {},
   "source": [
    "<b><u>Below are some important notes from our Exploratory Data Analysis</b></u>  \n",
    "\n",
    "Missing Values: There are no missing values remaining in this dataset, due to the removal of NA's in the data cleanup section. \n",
    "\n",
    "Correlated Variables: x2 and x6 are highly correlated, x38 and x41 are highly correlated. In our analysis we will keep all 4 of these variables since, although they are highly correlated, they still may contain useful information on their own. \n",
    "\n",
    "Assumptions: It appears that all of the numeric variables are normally distributed. The df_index variable will not be used in our analysis. \n",
    "\n",
    "Sampling technique: We will address our sampling technique in our Model Building and Evaluation section. \n",
    "\n",
    "Balance of Target Variable: Our target variable, the y column, is split about 60/40 in favor of 0. We don't believe that this is enough of an imbalance for balancing to be necessary, so we will proceed with using the slightly off balance data that we currently have. \n",
    "\n",
    "Other Notes: Our categorical variables are not evenly distributed. For example, the vast majority of values in the x24 column are \"Asia\".\n",
    "\n",
    "## Modeling Preparation:\n",
    "\n",
    "Given that we have been tasked with a binary classification problem and there is an imbalanced cost of \\\\$10 for false positive predictions and a \\\\$500 cost for false negative predictions, we have decided to evaluate our baseline models using two primary metrics: Recall and F1-score. If there were an equal cost for incorrect predicitons we may have used Accuracy but the F1-score is a good metric to use when avoiding false negatives and false positives is crucial. Since there is an overweight cost to predicting a false negative, Recall is the metric that we will primarily compare our candidate models becasue maximizing recall means that we should have the fewest number of false negatives. The F1-score gives us a good idea how the models are performing overall eventhough we are trying to maximize recall we don't want to do it at the expense of predicting more false positives which also have a cost.\n",
    "\n",
    "* **Accuracy** - ratio of correctly predicted observation to the total observations. \n",
    "\n",
    "* **Precision** - ratio of correctly predicted positive observations to the total predicted positive observations.  \n",
    "\n",
    "* **Recall** - ratio of correctly predicted positive observations to the all observations in actual class - yes. The question recall answers is: Of all the passengers that truly survived, how many did we label?  \n",
    "\n",
    "* **F1 Score** - the weighted average of Precision and Recall. Therefore, this score takes both false positives and false negatives into account.  \n",
    "\n",
    "Intuitively F1-score is not as easy to understand as accuracy, but F1 is usually more useful than accuracy, especially if you have an uneven class distribution. Accuracy works best if false positives and false negatives have similar cost. If the cost of false positives and false negatives are very different, it’s better to look at both Precision and Recall. \n",
    "\n",
    "A useful approach will be one that minimizes cost, and we hope to do better than predicting everything as \"true\" as a way to minimize cost. Assuming the true distribution of true vs. false is 40/60, the average cost per prediction is 10 x (1-.4) = \\\\$6 per prediction. Thus, our goal is to produce a model that has a cost per prediction less than \\\\$6.\n",
    "\n",
    "To aid us in finding the model with the best Recall and f1-score we will be using the **PyCaret** package. PyCaret is a powerful package that allows us to compare different binary classification models to each other in a convient low code package. To train our baseline test models we will use 90% of our original cleaned data. The remaining 10% of the data that was held out will be use to score the final models.  \n",
    "\n",
    "\n",
    "## Model Building & Evaluation\n",
    "\n"
   ]
  },
  {
   "cell_type": "code",
   "execution_count": 27,
   "metadata": {},
   "outputs": [],
   "source": [
    "dataset = df_clean"
   ]
  },
  {
   "cell_type": "markdown",
   "metadata": {},
   "source": [
    "**Split the data into 90% training data and 10% validation data. We will use 90% to create a test/train set, and a final 10% split as a final validation**"
   ]
  },
  {
   "cell_type": "code",
   "execution_count": 28,
   "metadata": {},
   "outputs": [
    {
     "name": "stdout",
     "output_type": "stream",
     "text": [
      "Data for Modeling: (142553, 51)\n",
      "Unseen Data For Predictions: (15839, 51)\n"
     ]
    }
   ],
   "source": [
    "data = dataset.sample(frac=0.90, random_state=786)\n",
    "data_unseen = dataset.drop(data.index)\n",
    "data.reset_index(inplace=True, drop=True)\n",
    "data_unseen.reset_index(inplace=True, drop=True)\n",
    "print('Data for Modeling: ' + str(data.shape))\n",
    "print('Unseen Data For Predictions: ' + str(data_unseen.shape))"
   ]
  },
  {
   "cell_type": "markdown",
   "metadata": {},
   "source": [
    "**Initialize Pycaret package**\n",
    "\n",
    "The pycaret package will run through a setup opperation where we will specify our target value 'y' and confirm the setup looks correct before moving to the comparision step."
   ]
  },
  {
   "cell_type": "code",
   "execution_count": 29,
   "metadata": {},
   "outputs": [],
   "source": [
    "from pycaret.classification import *"
   ]
  },
  {
   "cell_type": "markdown",
   "metadata": {},
   "source": [
    "Below are the results of the pycaret setup operation. We imput the dataset, the target variable as 'y', and the session_id to be sure that this analysis can be repeated. "
   ]
  },
  {
   "cell_type": "code",
   "execution_count": 30,
   "metadata": {},
   "outputs": [
    {
     "data": {
      "text/html": [
       "<style  type=\"text/css\" >\n",
       "</style><table id=\"T_89b5ab8a_3194_11eb_9016_2981648ffe23\" ><thead>    <tr>        <th class=\"blank level0\" ></th>        <th class=\"col_heading level0 col0\" >Description</th>        <th class=\"col_heading level0 col1\" >Value</th>    </tr></thead><tbody>\n",
       "                <tr>\n",
       "                        <th id=\"T_89b5ab8a_3194_11eb_9016_2981648ffe23level0_row0\" class=\"row_heading level0 row0\" >0</th>\n",
       "                        <td id=\"T_89b5ab8a_3194_11eb_9016_2981648ffe23row0_col0\" class=\"data row0 col0\" >session_id</td>\n",
       "                        <td id=\"T_89b5ab8a_3194_11eb_9016_2981648ffe23row0_col1\" class=\"data row0 col1\" >123</td>\n",
       "            </tr>\n",
       "            <tr>\n",
       "                        <th id=\"T_89b5ab8a_3194_11eb_9016_2981648ffe23level0_row1\" class=\"row_heading level0 row1\" >1</th>\n",
       "                        <td id=\"T_89b5ab8a_3194_11eb_9016_2981648ffe23row1_col0\" class=\"data row1 col0\" >Target</td>\n",
       "                        <td id=\"T_89b5ab8a_3194_11eb_9016_2981648ffe23row1_col1\" class=\"data row1 col1\" >y</td>\n",
       "            </tr>\n",
       "            <tr>\n",
       "                        <th id=\"T_89b5ab8a_3194_11eb_9016_2981648ffe23level0_row2\" class=\"row_heading level0 row2\" >2</th>\n",
       "                        <td id=\"T_89b5ab8a_3194_11eb_9016_2981648ffe23row2_col0\" class=\"data row2 col0\" >Target Type</td>\n",
       "                        <td id=\"T_89b5ab8a_3194_11eb_9016_2981648ffe23row2_col1\" class=\"data row2 col1\" >Binary</td>\n",
       "            </tr>\n",
       "            <tr>\n",
       "                        <th id=\"T_89b5ab8a_3194_11eb_9016_2981648ffe23level0_row3\" class=\"row_heading level0 row3\" >3</th>\n",
       "                        <td id=\"T_89b5ab8a_3194_11eb_9016_2981648ffe23row3_col0\" class=\"data row3 col0\" >Label Encoded</td>\n",
       "                        <td id=\"T_89b5ab8a_3194_11eb_9016_2981648ffe23row3_col1\" class=\"data row3 col1\" >0: 0, 1: 1</td>\n",
       "            </tr>\n",
       "            <tr>\n",
       "                        <th id=\"T_89b5ab8a_3194_11eb_9016_2981648ffe23level0_row4\" class=\"row_heading level0 row4\" >4</th>\n",
       "                        <td id=\"T_89b5ab8a_3194_11eb_9016_2981648ffe23row4_col0\" class=\"data row4 col0\" >Original Data</td>\n",
       "                        <td id=\"T_89b5ab8a_3194_11eb_9016_2981648ffe23row4_col1\" class=\"data row4 col1\" >(142553, 51)</td>\n",
       "            </tr>\n",
       "            <tr>\n",
       "                        <th id=\"T_89b5ab8a_3194_11eb_9016_2981648ffe23level0_row5\" class=\"row_heading level0 row5\" >5</th>\n",
       "                        <td id=\"T_89b5ab8a_3194_11eb_9016_2981648ffe23row5_col0\" class=\"data row5 col0\" >Missing Values</td>\n",
       "                        <td id=\"T_89b5ab8a_3194_11eb_9016_2981648ffe23row5_col1\" class=\"data row5 col1\" >False</td>\n",
       "            </tr>\n",
       "            <tr>\n",
       "                        <th id=\"T_89b5ab8a_3194_11eb_9016_2981648ffe23level0_row6\" class=\"row_heading level0 row6\" >6</th>\n",
       "                        <td id=\"T_89b5ab8a_3194_11eb_9016_2981648ffe23row6_col0\" class=\"data row6 col0\" >Numeric Features</td>\n",
       "                        <td id=\"T_89b5ab8a_3194_11eb_9016_2981648ffe23row6_col1\" class=\"data row6 col1\" >47</td>\n",
       "            </tr>\n",
       "            <tr>\n",
       "                        <th id=\"T_89b5ab8a_3194_11eb_9016_2981648ffe23level0_row7\" class=\"row_heading level0 row7\" >7</th>\n",
       "                        <td id=\"T_89b5ab8a_3194_11eb_9016_2981648ffe23row7_col0\" class=\"data row7 col0\" >Categorical Features</td>\n",
       "                        <td id=\"T_89b5ab8a_3194_11eb_9016_2981648ffe23row7_col1\" class=\"data row7 col1\" >3</td>\n",
       "            </tr>\n",
       "            <tr>\n",
       "                        <th id=\"T_89b5ab8a_3194_11eb_9016_2981648ffe23level0_row8\" class=\"row_heading level0 row8\" >8</th>\n",
       "                        <td id=\"T_89b5ab8a_3194_11eb_9016_2981648ffe23row8_col0\" class=\"data row8 col0\" >Ordinal Features</td>\n",
       "                        <td id=\"T_89b5ab8a_3194_11eb_9016_2981648ffe23row8_col1\" class=\"data row8 col1\" >False</td>\n",
       "            </tr>\n",
       "            <tr>\n",
       "                        <th id=\"T_89b5ab8a_3194_11eb_9016_2981648ffe23level0_row9\" class=\"row_heading level0 row9\" >9</th>\n",
       "                        <td id=\"T_89b5ab8a_3194_11eb_9016_2981648ffe23row9_col0\" class=\"data row9 col0\" >High Cardinality Features</td>\n",
       "                        <td id=\"T_89b5ab8a_3194_11eb_9016_2981648ffe23row9_col1\" class=\"data row9 col1\" >False</td>\n",
       "            </tr>\n",
       "            <tr>\n",
       "                        <th id=\"T_89b5ab8a_3194_11eb_9016_2981648ffe23level0_row10\" class=\"row_heading level0 row10\" >10</th>\n",
       "                        <td id=\"T_89b5ab8a_3194_11eb_9016_2981648ffe23row10_col0\" class=\"data row10 col0\" >High Cardinality Method</td>\n",
       "                        <td id=\"T_89b5ab8a_3194_11eb_9016_2981648ffe23row10_col1\" class=\"data row10 col1\" >None</td>\n",
       "            </tr>\n",
       "            <tr>\n",
       "                        <th id=\"T_89b5ab8a_3194_11eb_9016_2981648ffe23level0_row11\" class=\"row_heading level0 row11\" >11</th>\n",
       "                        <td id=\"T_89b5ab8a_3194_11eb_9016_2981648ffe23row11_col0\" class=\"data row11 col0\" >Transformed Train Set</td>\n",
       "                        <td id=\"T_89b5ab8a_3194_11eb_9016_2981648ffe23row11_col1\" class=\"data row11 col1\" >(99787, 65)</td>\n",
       "            </tr>\n",
       "            <tr>\n",
       "                        <th id=\"T_89b5ab8a_3194_11eb_9016_2981648ffe23level0_row12\" class=\"row_heading level0 row12\" >12</th>\n",
       "                        <td id=\"T_89b5ab8a_3194_11eb_9016_2981648ffe23row12_col0\" class=\"data row12 col0\" >Transformed Test Set</td>\n",
       "                        <td id=\"T_89b5ab8a_3194_11eb_9016_2981648ffe23row12_col1\" class=\"data row12 col1\" >(42766, 65)</td>\n",
       "            </tr>\n",
       "            <tr>\n",
       "                        <th id=\"T_89b5ab8a_3194_11eb_9016_2981648ffe23level0_row13\" class=\"row_heading level0 row13\" >13</th>\n",
       "                        <td id=\"T_89b5ab8a_3194_11eb_9016_2981648ffe23row13_col0\" class=\"data row13 col0\" >Shuffle Train-Test</td>\n",
       "                        <td id=\"T_89b5ab8a_3194_11eb_9016_2981648ffe23row13_col1\" class=\"data row13 col1\" >True</td>\n",
       "            </tr>\n",
       "            <tr>\n",
       "                        <th id=\"T_89b5ab8a_3194_11eb_9016_2981648ffe23level0_row14\" class=\"row_heading level0 row14\" >14</th>\n",
       "                        <td id=\"T_89b5ab8a_3194_11eb_9016_2981648ffe23row14_col0\" class=\"data row14 col0\" >Stratify Train-Test</td>\n",
       "                        <td id=\"T_89b5ab8a_3194_11eb_9016_2981648ffe23row14_col1\" class=\"data row14 col1\" >False</td>\n",
       "            </tr>\n",
       "            <tr>\n",
       "                        <th id=\"T_89b5ab8a_3194_11eb_9016_2981648ffe23level0_row15\" class=\"row_heading level0 row15\" >15</th>\n",
       "                        <td id=\"T_89b5ab8a_3194_11eb_9016_2981648ffe23row15_col0\" class=\"data row15 col0\" >Fold Generator</td>\n",
       "                        <td id=\"T_89b5ab8a_3194_11eb_9016_2981648ffe23row15_col1\" class=\"data row15 col1\" >StratifiedKFold</td>\n",
       "            </tr>\n",
       "            <tr>\n",
       "                        <th id=\"T_89b5ab8a_3194_11eb_9016_2981648ffe23level0_row16\" class=\"row_heading level0 row16\" >16</th>\n",
       "                        <td id=\"T_89b5ab8a_3194_11eb_9016_2981648ffe23row16_col0\" class=\"data row16 col0\" >Fold Number</td>\n",
       "                        <td id=\"T_89b5ab8a_3194_11eb_9016_2981648ffe23row16_col1\" class=\"data row16 col1\" >10</td>\n",
       "            </tr>\n",
       "            <tr>\n",
       "                        <th id=\"T_89b5ab8a_3194_11eb_9016_2981648ffe23level0_row17\" class=\"row_heading level0 row17\" >17</th>\n",
       "                        <td id=\"T_89b5ab8a_3194_11eb_9016_2981648ffe23row17_col0\" class=\"data row17 col0\" >CPU Jobs</td>\n",
       "                        <td id=\"T_89b5ab8a_3194_11eb_9016_2981648ffe23row17_col1\" class=\"data row17 col1\" >-1</td>\n",
       "            </tr>\n",
       "            <tr>\n",
       "                        <th id=\"T_89b5ab8a_3194_11eb_9016_2981648ffe23level0_row18\" class=\"row_heading level0 row18\" >18</th>\n",
       "                        <td id=\"T_89b5ab8a_3194_11eb_9016_2981648ffe23row18_col0\" class=\"data row18 col0\" >Use GPU</td>\n",
       "                        <td id=\"T_89b5ab8a_3194_11eb_9016_2981648ffe23row18_col1\" class=\"data row18 col1\" >False</td>\n",
       "            </tr>\n",
       "            <tr>\n",
       "                        <th id=\"T_89b5ab8a_3194_11eb_9016_2981648ffe23level0_row19\" class=\"row_heading level0 row19\" >19</th>\n",
       "                        <td id=\"T_89b5ab8a_3194_11eb_9016_2981648ffe23row19_col0\" class=\"data row19 col0\" >Log Experiment</td>\n",
       "                        <td id=\"T_89b5ab8a_3194_11eb_9016_2981648ffe23row19_col1\" class=\"data row19 col1\" >False</td>\n",
       "            </tr>\n",
       "            <tr>\n",
       "                        <th id=\"T_89b5ab8a_3194_11eb_9016_2981648ffe23level0_row20\" class=\"row_heading level0 row20\" >20</th>\n",
       "                        <td id=\"T_89b5ab8a_3194_11eb_9016_2981648ffe23row20_col0\" class=\"data row20 col0\" >Experiment Name</td>\n",
       "                        <td id=\"T_89b5ab8a_3194_11eb_9016_2981648ffe23row20_col1\" class=\"data row20 col1\" >clf-default-name</td>\n",
       "            </tr>\n",
       "            <tr>\n",
       "                        <th id=\"T_89b5ab8a_3194_11eb_9016_2981648ffe23level0_row21\" class=\"row_heading level0 row21\" >21</th>\n",
       "                        <td id=\"T_89b5ab8a_3194_11eb_9016_2981648ffe23row21_col0\" class=\"data row21 col0\" >USI</td>\n",
       "                        <td id=\"T_89b5ab8a_3194_11eb_9016_2981648ffe23row21_col1\" class=\"data row21 col1\" >94a1</td>\n",
       "            </tr>\n",
       "            <tr>\n",
       "                        <th id=\"T_89b5ab8a_3194_11eb_9016_2981648ffe23level0_row22\" class=\"row_heading level0 row22\" >22</th>\n",
       "                        <td id=\"T_89b5ab8a_3194_11eb_9016_2981648ffe23row22_col0\" class=\"data row22 col0\" >Imputation Type</td>\n",
       "                        <td id=\"T_89b5ab8a_3194_11eb_9016_2981648ffe23row22_col1\" class=\"data row22 col1\" >simple</td>\n",
       "            </tr>\n",
       "            <tr>\n",
       "                        <th id=\"T_89b5ab8a_3194_11eb_9016_2981648ffe23level0_row23\" class=\"row_heading level0 row23\" >23</th>\n",
       "                        <td id=\"T_89b5ab8a_3194_11eb_9016_2981648ffe23row23_col0\" class=\"data row23 col0\" >Iterative Imputation Iteration</td>\n",
       "                        <td id=\"T_89b5ab8a_3194_11eb_9016_2981648ffe23row23_col1\" class=\"data row23 col1\" >None</td>\n",
       "            </tr>\n",
       "            <tr>\n",
       "                        <th id=\"T_89b5ab8a_3194_11eb_9016_2981648ffe23level0_row24\" class=\"row_heading level0 row24\" >24</th>\n",
       "                        <td id=\"T_89b5ab8a_3194_11eb_9016_2981648ffe23row24_col0\" class=\"data row24 col0\" >Numeric Imputer</td>\n",
       "                        <td id=\"T_89b5ab8a_3194_11eb_9016_2981648ffe23row24_col1\" class=\"data row24 col1\" >mean</td>\n",
       "            </tr>\n",
       "            <tr>\n",
       "                        <th id=\"T_89b5ab8a_3194_11eb_9016_2981648ffe23level0_row25\" class=\"row_heading level0 row25\" >25</th>\n",
       "                        <td id=\"T_89b5ab8a_3194_11eb_9016_2981648ffe23row25_col0\" class=\"data row25 col0\" >Iterative Imputation Numeric Model</td>\n",
       "                        <td id=\"T_89b5ab8a_3194_11eb_9016_2981648ffe23row25_col1\" class=\"data row25 col1\" >None</td>\n",
       "            </tr>\n",
       "            <tr>\n",
       "                        <th id=\"T_89b5ab8a_3194_11eb_9016_2981648ffe23level0_row26\" class=\"row_heading level0 row26\" >26</th>\n",
       "                        <td id=\"T_89b5ab8a_3194_11eb_9016_2981648ffe23row26_col0\" class=\"data row26 col0\" >Categorical Imputer</td>\n",
       "                        <td id=\"T_89b5ab8a_3194_11eb_9016_2981648ffe23row26_col1\" class=\"data row26 col1\" >constant</td>\n",
       "            </tr>\n",
       "            <tr>\n",
       "                        <th id=\"T_89b5ab8a_3194_11eb_9016_2981648ffe23level0_row27\" class=\"row_heading level0 row27\" >27</th>\n",
       "                        <td id=\"T_89b5ab8a_3194_11eb_9016_2981648ffe23row27_col0\" class=\"data row27 col0\" >Iterative Imputation Categorical Model</td>\n",
       "                        <td id=\"T_89b5ab8a_3194_11eb_9016_2981648ffe23row27_col1\" class=\"data row27 col1\" >None</td>\n",
       "            </tr>\n",
       "            <tr>\n",
       "                        <th id=\"T_89b5ab8a_3194_11eb_9016_2981648ffe23level0_row28\" class=\"row_heading level0 row28\" >28</th>\n",
       "                        <td id=\"T_89b5ab8a_3194_11eb_9016_2981648ffe23row28_col0\" class=\"data row28 col0\" >Unknown Categoricals Handling</td>\n",
       "                        <td id=\"T_89b5ab8a_3194_11eb_9016_2981648ffe23row28_col1\" class=\"data row28 col1\" >least_frequent</td>\n",
       "            </tr>\n",
       "            <tr>\n",
       "                        <th id=\"T_89b5ab8a_3194_11eb_9016_2981648ffe23level0_row29\" class=\"row_heading level0 row29\" >29</th>\n",
       "                        <td id=\"T_89b5ab8a_3194_11eb_9016_2981648ffe23row29_col0\" class=\"data row29 col0\" >Normalize</td>\n",
       "                        <td id=\"T_89b5ab8a_3194_11eb_9016_2981648ffe23row29_col1\" class=\"data row29 col1\" >False</td>\n",
       "            </tr>\n",
       "            <tr>\n",
       "                        <th id=\"T_89b5ab8a_3194_11eb_9016_2981648ffe23level0_row30\" class=\"row_heading level0 row30\" >30</th>\n",
       "                        <td id=\"T_89b5ab8a_3194_11eb_9016_2981648ffe23row30_col0\" class=\"data row30 col0\" >Normalize Method</td>\n",
       "                        <td id=\"T_89b5ab8a_3194_11eb_9016_2981648ffe23row30_col1\" class=\"data row30 col1\" >None</td>\n",
       "            </tr>\n",
       "            <tr>\n",
       "                        <th id=\"T_89b5ab8a_3194_11eb_9016_2981648ffe23level0_row31\" class=\"row_heading level0 row31\" >31</th>\n",
       "                        <td id=\"T_89b5ab8a_3194_11eb_9016_2981648ffe23row31_col0\" class=\"data row31 col0\" >Transformation</td>\n",
       "                        <td id=\"T_89b5ab8a_3194_11eb_9016_2981648ffe23row31_col1\" class=\"data row31 col1\" >False</td>\n",
       "            </tr>\n",
       "            <tr>\n",
       "                        <th id=\"T_89b5ab8a_3194_11eb_9016_2981648ffe23level0_row32\" class=\"row_heading level0 row32\" >32</th>\n",
       "                        <td id=\"T_89b5ab8a_3194_11eb_9016_2981648ffe23row32_col0\" class=\"data row32 col0\" >Transformation Method</td>\n",
       "                        <td id=\"T_89b5ab8a_3194_11eb_9016_2981648ffe23row32_col1\" class=\"data row32 col1\" >None</td>\n",
       "            </tr>\n",
       "            <tr>\n",
       "                        <th id=\"T_89b5ab8a_3194_11eb_9016_2981648ffe23level0_row33\" class=\"row_heading level0 row33\" >33</th>\n",
       "                        <td id=\"T_89b5ab8a_3194_11eb_9016_2981648ffe23row33_col0\" class=\"data row33 col0\" >PCA</td>\n",
       "                        <td id=\"T_89b5ab8a_3194_11eb_9016_2981648ffe23row33_col1\" class=\"data row33 col1\" >False</td>\n",
       "            </tr>\n",
       "            <tr>\n",
       "                        <th id=\"T_89b5ab8a_3194_11eb_9016_2981648ffe23level0_row34\" class=\"row_heading level0 row34\" >34</th>\n",
       "                        <td id=\"T_89b5ab8a_3194_11eb_9016_2981648ffe23row34_col0\" class=\"data row34 col0\" >PCA Method</td>\n",
       "                        <td id=\"T_89b5ab8a_3194_11eb_9016_2981648ffe23row34_col1\" class=\"data row34 col1\" >None</td>\n",
       "            </tr>\n",
       "            <tr>\n",
       "                        <th id=\"T_89b5ab8a_3194_11eb_9016_2981648ffe23level0_row35\" class=\"row_heading level0 row35\" >35</th>\n",
       "                        <td id=\"T_89b5ab8a_3194_11eb_9016_2981648ffe23row35_col0\" class=\"data row35 col0\" >PCA Components</td>\n",
       "                        <td id=\"T_89b5ab8a_3194_11eb_9016_2981648ffe23row35_col1\" class=\"data row35 col1\" >None</td>\n",
       "            </tr>\n",
       "            <tr>\n",
       "                        <th id=\"T_89b5ab8a_3194_11eb_9016_2981648ffe23level0_row36\" class=\"row_heading level0 row36\" >36</th>\n",
       "                        <td id=\"T_89b5ab8a_3194_11eb_9016_2981648ffe23row36_col0\" class=\"data row36 col0\" >Ignore Low Variance</td>\n",
       "                        <td id=\"T_89b5ab8a_3194_11eb_9016_2981648ffe23row36_col1\" class=\"data row36 col1\" >False</td>\n",
       "            </tr>\n",
       "            <tr>\n",
       "                        <th id=\"T_89b5ab8a_3194_11eb_9016_2981648ffe23level0_row37\" class=\"row_heading level0 row37\" >37</th>\n",
       "                        <td id=\"T_89b5ab8a_3194_11eb_9016_2981648ffe23row37_col0\" class=\"data row37 col0\" >Combine Rare Levels</td>\n",
       "                        <td id=\"T_89b5ab8a_3194_11eb_9016_2981648ffe23row37_col1\" class=\"data row37 col1\" >False</td>\n",
       "            </tr>\n",
       "            <tr>\n",
       "                        <th id=\"T_89b5ab8a_3194_11eb_9016_2981648ffe23level0_row38\" class=\"row_heading level0 row38\" >38</th>\n",
       "                        <td id=\"T_89b5ab8a_3194_11eb_9016_2981648ffe23row38_col0\" class=\"data row38 col0\" >Rare Level Threshold</td>\n",
       "                        <td id=\"T_89b5ab8a_3194_11eb_9016_2981648ffe23row38_col1\" class=\"data row38 col1\" >None</td>\n",
       "            </tr>\n",
       "            <tr>\n",
       "                        <th id=\"T_89b5ab8a_3194_11eb_9016_2981648ffe23level0_row39\" class=\"row_heading level0 row39\" >39</th>\n",
       "                        <td id=\"T_89b5ab8a_3194_11eb_9016_2981648ffe23row39_col0\" class=\"data row39 col0\" >Numeric Binning</td>\n",
       "                        <td id=\"T_89b5ab8a_3194_11eb_9016_2981648ffe23row39_col1\" class=\"data row39 col1\" >False</td>\n",
       "            </tr>\n",
       "            <tr>\n",
       "                        <th id=\"T_89b5ab8a_3194_11eb_9016_2981648ffe23level0_row40\" class=\"row_heading level0 row40\" >40</th>\n",
       "                        <td id=\"T_89b5ab8a_3194_11eb_9016_2981648ffe23row40_col0\" class=\"data row40 col0\" >Remove Outliers</td>\n",
       "                        <td id=\"T_89b5ab8a_3194_11eb_9016_2981648ffe23row40_col1\" class=\"data row40 col1\" >False</td>\n",
       "            </tr>\n",
       "            <tr>\n",
       "                        <th id=\"T_89b5ab8a_3194_11eb_9016_2981648ffe23level0_row41\" class=\"row_heading level0 row41\" >41</th>\n",
       "                        <td id=\"T_89b5ab8a_3194_11eb_9016_2981648ffe23row41_col0\" class=\"data row41 col0\" >Outliers Threshold</td>\n",
       "                        <td id=\"T_89b5ab8a_3194_11eb_9016_2981648ffe23row41_col1\" class=\"data row41 col1\" >None</td>\n",
       "            </tr>\n",
       "            <tr>\n",
       "                        <th id=\"T_89b5ab8a_3194_11eb_9016_2981648ffe23level0_row42\" class=\"row_heading level0 row42\" >42</th>\n",
       "                        <td id=\"T_89b5ab8a_3194_11eb_9016_2981648ffe23row42_col0\" class=\"data row42 col0\" >Remove Multicollinearity</td>\n",
       "                        <td id=\"T_89b5ab8a_3194_11eb_9016_2981648ffe23row42_col1\" class=\"data row42 col1\" >False</td>\n",
       "            </tr>\n",
       "            <tr>\n",
       "                        <th id=\"T_89b5ab8a_3194_11eb_9016_2981648ffe23level0_row43\" class=\"row_heading level0 row43\" >43</th>\n",
       "                        <td id=\"T_89b5ab8a_3194_11eb_9016_2981648ffe23row43_col0\" class=\"data row43 col0\" >Multicollinearity Threshold</td>\n",
       "                        <td id=\"T_89b5ab8a_3194_11eb_9016_2981648ffe23row43_col1\" class=\"data row43 col1\" >None</td>\n",
       "            </tr>\n",
       "            <tr>\n",
       "                        <th id=\"T_89b5ab8a_3194_11eb_9016_2981648ffe23level0_row44\" class=\"row_heading level0 row44\" >44</th>\n",
       "                        <td id=\"T_89b5ab8a_3194_11eb_9016_2981648ffe23row44_col0\" class=\"data row44 col0\" >Clustering</td>\n",
       "                        <td id=\"T_89b5ab8a_3194_11eb_9016_2981648ffe23row44_col1\" class=\"data row44 col1\" >False</td>\n",
       "            </tr>\n",
       "            <tr>\n",
       "                        <th id=\"T_89b5ab8a_3194_11eb_9016_2981648ffe23level0_row45\" class=\"row_heading level0 row45\" >45</th>\n",
       "                        <td id=\"T_89b5ab8a_3194_11eb_9016_2981648ffe23row45_col0\" class=\"data row45 col0\" >Clustering Iteration</td>\n",
       "                        <td id=\"T_89b5ab8a_3194_11eb_9016_2981648ffe23row45_col1\" class=\"data row45 col1\" >None</td>\n",
       "            </tr>\n",
       "            <tr>\n",
       "                        <th id=\"T_89b5ab8a_3194_11eb_9016_2981648ffe23level0_row46\" class=\"row_heading level0 row46\" >46</th>\n",
       "                        <td id=\"T_89b5ab8a_3194_11eb_9016_2981648ffe23row46_col0\" class=\"data row46 col0\" >Polynomial Features</td>\n",
       "                        <td id=\"T_89b5ab8a_3194_11eb_9016_2981648ffe23row46_col1\" class=\"data row46 col1\" >False</td>\n",
       "            </tr>\n",
       "            <tr>\n",
       "                        <th id=\"T_89b5ab8a_3194_11eb_9016_2981648ffe23level0_row47\" class=\"row_heading level0 row47\" >47</th>\n",
       "                        <td id=\"T_89b5ab8a_3194_11eb_9016_2981648ffe23row47_col0\" class=\"data row47 col0\" >Polynomial Degree</td>\n",
       "                        <td id=\"T_89b5ab8a_3194_11eb_9016_2981648ffe23row47_col1\" class=\"data row47 col1\" >None</td>\n",
       "            </tr>\n",
       "            <tr>\n",
       "                        <th id=\"T_89b5ab8a_3194_11eb_9016_2981648ffe23level0_row48\" class=\"row_heading level0 row48\" >48</th>\n",
       "                        <td id=\"T_89b5ab8a_3194_11eb_9016_2981648ffe23row48_col0\" class=\"data row48 col0\" >Trignometry Features</td>\n",
       "                        <td id=\"T_89b5ab8a_3194_11eb_9016_2981648ffe23row48_col1\" class=\"data row48 col1\" >False</td>\n",
       "            </tr>\n",
       "            <tr>\n",
       "                        <th id=\"T_89b5ab8a_3194_11eb_9016_2981648ffe23level0_row49\" class=\"row_heading level0 row49\" >49</th>\n",
       "                        <td id=\"T_89b5ab8a_3194_11eb_9016_2981648ffe23row49_col0\" class=\"data row49 col0\" >Polynomial Threshold</td>\n",
       "                        <td id=\"T_89b5ab8a_3194_11eb_9016_2981648ffe23row49_col1\" class=\"data row49 col1\" >None</td>\n",
       "            </tr>\n",
       "            <tr>\n",
       "                        <th id=\"T_89b5ab8a_3194_11eb_9016_2981648ffe23level0_row50\" class=\"row_heading level0 row50\" >50</th>\n",
       "                        <td id=\"T_89b5ab8a_3194_11eb_9016_2981648ffe23row50_col0\" class=\"data row50 col0\" >Group Features</td>\n",
       "                        <td id=\"T_89b5ab8a_3194_11eb_9016_2981648ffe23row50_col1\" class=\"data row50 col1\" >False</td>\n",
       "            </tr>\n",
       "            <tr>\n",
       "                        <th id=\"T_89b5ab8a_3194_11eb_9016_2981648ffe23level0_row51\" class=\"row_heading level0 row51\" >51</th>\n",
       "                        <td id=\"T_89b5ab8a_3194_11eb_9016_2981648ffe23row51_col0\" class=\"data row51 col0\" >Feature Selection</td>\n",
       "                        <td id=\"T_89b5ab8a_3194_11eb_9016_2981648ffe23row51_col1\" class=\"data row51 col1\" >False</td>\n",
       "            </tr>\n",
       "            <tr>\n",
       "                        <th id=\"T_89b5ab8a_3194_11eb_9016_2981648ffe23level0_row52\" class=\"row_heading level0 row52\" >52</th>\n",
       "                        <td id=\"T_89b5ab8a_3194_11eb_9016_2981648ffe23row52_col0\" class=\"data row52 col0\" >Features Selection Threshold</td>\n",
       "                        <td id=\"T_89b5ab8a_3194_11eb_9016_2981648ffe23row52_col1\" class=\"data row52 col1\" >None</td>\n",
       "            </tr>\n",
       "            <tr>\n",
       "                        <th id=\"T_89b5ab8a_3194_11eb_9016_2981648ffe23level0_row53\" class=\"row_heading level0 row53\" >53</th>\n",
       "                        <td id=\"T_89b5ab8a_3194_11eb_9016_2981648ffe23row53_col0\" class=\"data row53 col0\" >Feature Interaction</td>\n",
       "                        <td id=\"T_89b5ab8a_3194_11eb_9016_2981648ffe23row53_col1\" class=\"data row53 col1\" >False</td>\n",
       "            </tr>\n",
       "            <tr>\n",
       "                        <th id=\"T_89b5ab8a_3194_11eb_9016_2981648ffe23level0_row54\" class=\"row_heading level0 row54\" >54</th>\n",
       "                        <td id=\"T_89b5ab8a_3194_11eb_9016_2981648ffe23row54_col0\" class=\"data row54 col0\" >Feature Ratio</td>\n",
       "                        <td id=\"T_89b5ab8a_3194_11eb_9016_2981648ffe23row54_col1\" class=\"data row54 col1\" >False</td>\n",
       "            </tr>\n",
       "            <tr>\n",
       "                        <th id=\"T_89b5ab8a_3194_11eb_9016_2981648ffe23level0_row55\" class=\"row_heading level0 row55\" >55</th>\n",
       "                        <td id=\"T_89b5ab8a_3194_11eb_9016_2981648ffe23row55_col0\" class=\"data row55 col0\" >Interaction Threshold</td>\n",
       "                        <td id=\"T_89b5ab8a_3194_11eb_9016_2981648ffe23row55_col1\" class=\"data row55 col1\" >None</td>\n",
       "            </tr>\n",
       "            <tr>\n",
       "                        <th id=\"T_89b5ab8a_3194_11eb_9016_2981648ffe23level0_row56\" class=\"row_heading level0 row56\" >56</th>\n",
       "                        <td id=\"T_89b5ab8a_3194_11eb_9016_2981648ffe23row56_col0\" class=\"data row56 col0\" >Fix Imbalance</td>\n",
       "                        <td id=\"T_89b5ab8a_3194_11eb_9016_2981648ffe23row56_col1\" class=\"data row56 col1\" >False</td>\n",
       "            </tr>\n",
       "            <tr>\n",
       "                        <th id=\"T_89b5ab8a_3194_11eb_9016_2981648ffe23level0_row57\" class=\"row_heading level0 row57\" >57</th>\n",
       "                        <td id=\"T_89b5ab8a_3194_11eb_9016_2981648ffe23row57_col0\" class=\"data row57 col0\" >Fix Imbalance Method</td>\n",
       "                        <td id=\"T_89b5ab8a_3194_11eb_9016_2981648ffe23row57_col1\" class=\"data row57 col1\" >SMOTE</td>\n",
       "            </tr>\n",
       "    </tbody></table>"
      ],
      "text/plain": [
       "<pandas.io.formats.style.Styler at 0x7f891f71c2e0>"
      ]
     },
     "metadata": {},
     "output_type": "display_data"
    },
    {
     "name": "stdout",
     "output_type": "stream",
     "text": [
      "CPU times: user 4.99 s, sys: 563 ms, total: 5.56 s\n",
      "Wall time: 8.58 s\n"
     ]
    }
   ],
   "source": [
    "%%time\n",
    "exp_clf101 = setup(data = data, target = 'y', session_id=123)"
   ]
  },
  {
   "cell_type": "markdown",
   "metadata": {},
   "source": [
    "Below we define our cost function: \\\\$500 for False Negatives, \\\\$10 for false positives"
   ]
  },
  {
   "cell_type": "code",
   "execution_count": 34,
   "metadata": {
    "colab": {
     "base_uri": "https://localhost:8080/"
    },
    "id": "GYH5N1zCOCJE",
    "outputId": "0465e7ef-6b7a-4f90-8fec-bcd7373437e3"
   },
   "outputs": [],
   "source": [
    "def cost(FN, FP):\n",
    "  'taking the count of False positive (TP) and  count of False Negative'\n",
    "  return 500*FN + 10*FP"
   ]
  },
  {
   "cell_type": "markdown",
   "metadata": {},
   "source": [
    "After setup we will run the compare_models function(). This will run a 10 fold cross validation on each or our canidate models. In k-fold cross-validation, the original sample is randomly partitioned into k equal sized subsamples. Of the k subsamples, a single subsample is retained as the validation data for testing the model, and the remaining k − 1 subsamples are used as training data. The cross-validation process is then repeated k times, with each of the k subsamples used exactly once as the validation data. The k results can then be averaged to produce a single estimation. In our case K=10 folds.\n",
    "\n",
    "The first time this process was run we did not exclude any models but the process took over an hour to run so to speed up debugging and use of this notebook we are excluding some of the models that took the most time to train but did not produce superior recall or F1 scores.\n",
    "\n",
    "Based on the comparison we can see that decision tree based models seem to perform best on the data we have been given. The top two models CatBoost Classifier and Light Gradient Boosting Machine are boosted tree based models. Boosting means that each tree is dependent on prior trees. The algorithm learns by fitting the residual of the trees that preceded it. Thus, boosting in a decision tree ensemble tends to improve accuracy with some small risk of less coverage. Boosted models are really good at binary classification but because they are ensemble models meaning they consist of more than one model working together adding complexity to how the model works these models can be difficult to interpret compared to just a decision tree model."
   ]
  },
  {
   "cell_type": "code",
   "execution_count": 76,
   "metadata": {},
   "outputs": [
    {
     "data": {
      "text/html": [
       "<style  type=\"text/css\" >\n",
       "    #T_073fa5e2_2f67_11eb_9e95_acde48001122 th {\n",
       "          text-align: left;\n",
       "    }#T_073fa5e2_2f67_11eb_9e95_acde48001122row0_col0,#T_073fa5e2_2f67_11eb_9e95_acde48001122row0_col4,#T_073fa5e2_2f67_11eb_9e95_acde48001122row1_col0,#T_073fa5e2_2f67_11eb_9e95_acde48001122row1_col1,#T_073fa5e2_2f67_11eb_9e95_acde48001122row1_col2,#T_073fa5e2_2f67_11eb_9e95_acde48001122row1_col3,#T_073fa5e2_2f67_11eb_9e95_acde48001122row1_col4,#T_073fa5e2_2f67_11eb_9e95_acde48001122row1_col5,#T_073fa5e2_2f67_11eb_9e95_acde48001122row1_col6,#T_073fa5e2_2f67_11eb_9e95_acde48001122row1_col7,#T_073fa5e2_2f67_11eb_9e95_acde48001122row2_col0,#T_073fa5e2_2f67_11eb_9e95_acde48001122row2_col1,#T_073fa5e2_2f67_11eb_9e95_acde48001122row2_col2,#T_073fa5e2_2f67_11eb_9e95_acde48001122row2_col3,#T_073fa5e2_2f67_11eb_9e95_acde48001122row2_col5,#T_073fa5e2_2f67_11eb_9e95_acde48001122row2_col6,#T_073fa5e2_2f67_11eb_9e95_acde48001122row2_col7,#T_073fa5e2_2f67_11eb_9e95_acde48001122row3_col0,#T_073fa5e2_2f67_11eb_9e95_acde48001122row3_col1,#T_073fa5e2_2f67_11eb_9e95_acde48001122row3_col2,#T_073fa5e2_2f67_11eb_9e95_acde48001122row3_col3,#T_073fa5e2_2f67_11eb_9e95_acde48001122row3_col4,#T_073fa5e2_2f67_11eb_9e95_acde48001122row3_col5,#T_073fa5e2_2f67_11eb_9e95_acde48001122row3_col6,#T_073fa5e2_2f67_11eb_9e95_acde48001122row3_col7,#T_073fa5e2_2f67_11eb_9e95_acde48001122row4_col0,#T_073fa5e2_2f67_11eb_9e95_acde48001122row4_col1,#T_073fa5e2_2f67_11eb_9e95_acde48001122row4_col2,#T_073fa5e2_2f67_11eb_9e95_acde48001122row4_col3,#T_073fa5e2_2f67_11eb_9e95_acde48001122row4_col4,#T_073fa5e2_2f67_11eb_9e95_acde48001122row4_col5,#T_073fa5e2_2f67_11eb_9e95_acde48001122row4_col6,#T_073fa5e2_2f67_11eb_9e95_acde48001122row4_col7,#T_073fa5e2_2f67_11eb_9e95_acde48001122row5_col0,#T_073fa5e2_2f67_11eb_9e95_acde48001122row5_col1,#T_073fa5e2_2f67_11eb_9e95_acde48001122row5_col2,#T_073fa5e2_2f67_11eb_9e95_acde48001122row5_col3,#T_073fa5e2_2f67_11eb_9e95_acde48001122row5_col4,#T_073fa5e2_2f67_11eb_9e95_acde48001122row5_col5,#T_073fa5e2_2f67_11eb_9e95_acde48001122row5_col6,#T_073fa5e2_2f67_11eb_9e95_acde48001122row5_col7,#T_073fa5e2_2f67_11eb_9e95_acde48001122row6_col0,#T_073fa5e2_2f67_11eb_9e95_acde48001122row6_col1,#T_073fa5e2_2f67_11eb_9e95_acde48001122row6_col2,#T_073fa5e2_2f67_11eb_9e95_acde48001122row6_col3,#T_073fa5e2_2f67_11eb_9e95_acde48001122row6_col4,#T_073fa5e2_2f67_11eb_9e95_acde48001122row6_col5,#T_073fa5e2_2f67_11eb_9e95_acde48001122row6_col6,#T_073fa5e2_2f67_11eb_9e95_acde48001122row6_col7,#T_073fa5e2_2f67_11eb_9e95_acde48001122row7_col0,#T_073fa5e2_2f67_11eb_9e95_acde48001122row7_col1,#T_073fa5e2_2f67_11eb_9e95_acde48001122row7_col2,#T_073fa5e2_2f67_11eb_9e95_acde48001122row7_col3,#T_073fa5e2_2f67_11eb_9e95_acde48001122row7_col4,#T_073fa5e2_2f67_11eb_9e95_acde48001122row7_col5,#T_073fa5e2_2f67_11eb_9e95_acde48001122row7_col6,#T_073fa5e2_2f67_11eb_9e95_acde48001122row7_col7,#T_073fa5e2_2f67_11eb_9e95_acde48001122row8_col0,#T_073fa5e2_2f67_11eb_9e95_acde48001122row8_col1,#T_073fa5e2_2f67_11eb_9e95_acde48001122row8_col2,#T_073fa5e2_2f67_11eb_9e95_acde48001122row8_col3,#T_073fa5e2_2f67_11eb_9e95_acde48001122row8_col4,#T_073fa5e2_2f67_11eb_9e95_acde48001122row8_col5,#T_073fa5e2_2f67_11eb_9e95_acde48001122row8_col6,#T_073fa5e2_2f67_11eb_9e95_acde48001122row8_col7,#T_073fa5e2_2f67_11eb_9e95_acde48001122row9_col0,#T_073fa5e2_2f67_11eb_9e95_acde48001122row9_col1,#T_073fa5e2_2f67_11eb_9e95_acde48001122row9_col2,#T_073fa5e2_2f67_11eb_9e95_acde48001122row9_col3,#T_073fa5e2_2f67_11eb_9e95_acde48001122row9_col4,#T_073fa5e2_2f67_11eb_9e95_acde48001122row9_col5,#T_073fa5e2_2f67_11eb_9e95_acde48001122row9_col6,#T_073fa5e2_2f67_11eb_9e95_acde48001122row9_col7,#T_073fa5e2_2f67_11eb_9e95_acde48001122row10_col0,#T_073fa5e2_2f67_11eb_9e95_acde48001122row10_col1,#T_073fa5e2_2f67_11eb_9e95_acde48001122row10_col2,#T_073fa5e2_2f67_11eb_9e95_acde48001122row10_col3,#T_073fa5e2_2f67_11eb_9e95_acde48001122row10_col4,#T_073fa5e2_2f67_11eb_9e95_acde48001122row10_col5,#T_073fa5e2_2f67_11eb_9e95_acde48001122row10_col6,#T_073fa5e2_2f67_11eb_9e95_acde48001122row10_col7{\n",
       "            text-align:  left;\n",
       "        }#T_073fa5e2_2f67_11eb_9e95_acde48001122row0_col1,#T_073fa5e2_2f67_11eb_9e95_acde48001122row0_col2,#T_073fa5e2_2f67_11eb_9e95_acde48001122row0_col3,#T_073fa5e2_2f67_11eb_9e95_acde48001122row0_col5,#T_073fa5e2_2f67_11eb_9e95_acde48001122row0_col6,#T_073fa5e2_2f67_11eb_9e95_acde48001122row0_col7,#T_073fa5e2_2f67_11eb_9e95_acde48001122row2_col4{\n",
       "            background-color:  yellow;\n",
       "            text-align:  left;\n",
       "        }#T_073fa5e2_2f67_11eb_9e95_acde48001122row0_col8,#T_073fa5e2_2f67_11eb_9e95_acde48001122row1_col8,#T_073fa5e2_2f67_11eb_9e95_acde48001122row2_col8,#T_073fa5e2_2f67_11eb_9e95_acde48001122row3_col8,#T_073fa5e2_2f67_11eb_9e95_acde48001122row4_col8,#T_073fa5e2_2f67_11eb_9e95_acde48001122row5_col8,#T_073fa5e2_2f67_11eb_9e95_acde48001122row6_col8,#T_073fa5e2_2f67_11eb_9e95_acde48001122row7_col8,#T_073fa5e2_2f67_11eb_9e95_acde48001122row8_col8,#T_073fa5e2_2f67_11eb_9e95_acde48001122row9_col8,#T_073fa5e2_2f67_11eb_9e95_acde48001122row10_col8{\n",
       "            background-color:  lightgrey;\n",
       "            text-align:  left;\n",
       "        }</style><table id=\"T_073fa5e2_2f67_11eb_9e95_acde48001122\" ><thead>    <tr>        <th class=\"blank level0\" ></th>        <th class=\"col_heading level0 col0\" >Model</th>        <th class=\"col_heading level0 col1\" >Accuracy</th>        <th class=\"col_heading level0 col2\" >AUC</th>        <th class=\"col_heading level0 col3\" >Recall</th>        <th class=\"col_heading level0 col4\" >Prec.</th>        <th class=\"col_heading level0 col5\" >F1</th>        <th class=\"col_heading level0 col6\" >Kappa</th>        <th class=\"col_heading level0 col7\" >MCC</th>        <th class=\"col_heading level0 col8\" >TT (Sec)</th>    </tr></thead><tbody>\n",
       "                <tr>\n",
       "                        <th id=\"T_073fa5e2_2f67_11eb_9e95_acde48001122level0_row0\" class=\"row_heading level0 row0\" >0</th>\n",
       "                        <td id=\"T_073fa5e2_2f67_11eb_9e95_acde48001122row0_col0\" class=\"data row0 col0\" >CatBoost Classifier</td>\n",
       "                        <td id=\"T_073fa5e2_2f67_11eb_9e95_acde48001122row0_col1\" class=\"data row0 col1\" >0.9327</td>\n",
       "                        <td id=\"T_073fa5e2_2f67_11eb_9e95_acde48001122row0_col2\" class=\"data row0 col2\" >0.9794</td>\n",
       "                        <td id=\"T_073fa5e2_2f67_11eb_9e95_acde48001122row0_col3\" class=\"data row0 col3\" >0.9063</td>\n",
       "                        <td id=\"T_073fa5e2_2f67_11eb_9e95_acde48001122row0_col4\" class=\"data row0 col4\" >0.9246</td>\n",
       "                        <td id=\"T_073fa5e2_2f67_11eb_9e95_acde48001122row0_col5\" class=\"data row0 col5\" >0.9154</td>\n",
       "                        <td id=\"T_073fa5e2_2f67_11eb_9e95_acde48001122row0_col6\" class=\"data row0 col6\" >0.8595</td>\n",
       "                        <td id=\"T_073fa5e2_2f67_11eb_9e95_acde48001122row0_col7\" class=\"data row0 col7\" >0.8596</td>\n",
       "                        <td id=\"T_073fa5e2_2f67_11eb_9e95_acde48001122row0_col8\" class=\"data row0 col8\" >17.0987</td>\n",
       "            </tr>\n",
       "            <tr>\n",
       "                        <th id=\"T_073fa5e2_2f67_11eb_9e95_acde48001122level0_row1\" class=\"row_heading level0 row1\" >1</th>\n",
       "                        <td id=\"T_073fa5e2_2f67_11eb_9e95_acde48001122row1_col0\" class=\"data row1 col0\" >Light Gradient Boosting Machine</td>\n",
       "                        <td id=\"T_073fa5e2_2f67_11eb_9e95_acde48001122row1_col1\" class=\"data row1 col1\" >0.9082</td>\n",
       "                        <td id=\"T_073fa5e2_2f67_11eb_9e95_acde48001122row1_col2\" class=\"data row1 col2\" >0.9664</td>\n",
       "                        <td id=\"T_073fa5e2_2f67_11eb_9e95_acde48001122row1_col3\" class=\"data row1 col3\" >0.8648</td>\n",
       "                        <td id=\"T_073fa5e2_2f67_11eb_9e95_acde48001122row1_col4\" class=\"data row1 col4\" >0.9026</td>\n",
       "                        <td id=\"T_073fa5e2_2f67_11eb_9e95_acde48001122row1_col5\" class=\"data row1 col5\" >0.8833</td>\n",
       "                        <td id=\"T_073fa5e2_2f67_11eb_9e95_acde48001122row1_col6\" class=\"data row1 col6\" >0.8077</td>\n",
       "                        <td id=\"T_073fa5e2_2f67_11eb_9e95_acde48001122row1_col7\" class=\"data row1 col7\" >0.8083</td>\n",
       "                        <td id=\"T_073fa5e2_2f67_11eb_9e95_acde48001122row1_col8\" class=\"data row1 col8\" >2.5843</td>\n",
       "            </tr>\n",
       "            <tr>\n",
       "                        <th id=\"T_073fa5e2_2f67_11eb_9e95_acde48001122level0_row2\" class=\"row_heading level0 row2\" >2</th>\n",
       "                        <td id=\"T_073fa5e2_2f67_11eb_9e95_acde48001122row2_col0\" class=\"data row2 col0\" >Extra Trees Classifier</td>\n",
       "                        <td id=\"T_073fa5e2_2f67_11eb_9e95_acde48001122row2_col1\" class=\"data row2 col1\" >0.9053</td>\n",
       "                        <td id=\"T_073fa5e2_2f67_11eb_9e95_acde48001122row2_col2\" class=\"data row2 col2\" >0.9682</td>\n",
       "                        <td id=\"T_073fa5e2_2f67_11eb_9e95_acde48001122row2_col3\" class=\"data row2 col3\" >0.8305</td>\n",
       "                        <td id=\"T_073fa5e2_2f67_11eb_9e95_acde48001122row2_col4\" class=\"data row2 col4\" >0.9261</td>\n",
       "                        <td id=\"T_073fa5e2_2f67_11eb_9e95_acde48001122row2_col5\" class=\"data row2 col5\" >0.8757</td>\n",
       "                        <td id=\"T_073fa5e2_2f67_11eb_9e95_acde48001122row2_col6\" class=\"data row2 col6\" >0.7996</td>\n",
       "                        <td id=\"T_073fa5e2_2f67_11eb_9e95_acde48001122row2_col7\" class=\"data row2 col7\" >0.8027</td>\n",
       "                        <td id=\"T_073fa5e2_2f67_11eb_9e95_acde48001122row2_col8\" class=\"data row2 col8\" >4.3189</td>\n",
       "            </tr>\n",
       "            <tr>\n",
       "                        <th id=\"T_073fa5e2_2f67_11eb_9e95_acde48001122level0_row3\" class=\"row_heading level0 row3\" >3</th>\n",
       "                        <td id=\"T_073fa5e2_2f67_11eb_9e95_acde48001122row3_col0\" class=\"data row3 col0\" >Decision Tree Classifier</td>\n",
       "                        <td id=\"T_073fa5e2_2f67_11eb_9e95_acde48001122row3_col1\" class=\"data row3 col1\" >0.8394</td>\n",
       "                        <td id=\"T_073fa5e2_2f67_11eb_9e95_acde48001122row3_col2\" class=\"data row3 col2\" >0.8331</td>\n",
       "                        <td id=\"T_073fa5e2_2f67_11eb_9e95_acde48001122row3_col3\" class=\"data row3 col3\" >0.8011</td>\n",
       "                        <td id=\"T_073fa5e2_2f67_11eb_9e95_acde48001122row3_col4\" class=\"data row3 col4\" >0.7994</td>\n",
       "                        <td id=\"T_073fa5e2_2f67_11eb_9e95_acde48001122row3_col5\" class=\"data row3 col5\" >0.8003</td>\n",
       "                        <td id=\"T_073fa5e2_2f67_11eb_9e95_acde48001122row3_col6\" class=\"data row3 col6\" >0.6660</td>\n",
       "                        <td id=\"T_073fa5e2_2f67_11eb_9e95_acde48001122row3_col7\" class=\"data row3 col7\" >0.6660</td>\n",
       "                        <td id=\"T_073fa5e2_2f67_11eb_9e95_acde48001122row3_col8\" class=\"data row3 col8\" >7.3213</td>\n",
       "            </tr>\n",
       "            <tr>\n",
       "                        <th id=\"T_073fa5e2_2f67_11eb_9e95_acde48001122level0_row4\" class=\"row_heading level0 row4\" >4</th>\n",
       "                        <td id=\"T_073fa5e2_2f67_11eb_9e95_acde48001122row4_col0\" class=\"data row4 col0\" >Random Forest Classifier</td>\n",
       "                        <td id=\"T_073fa5e2_2f67_11eb_9e95_acde48001122row4_col1\" class=\"data row4 col1\" >0.8819</td>\n",
       "                        <td id=\"T_073fa5e2_2f67_11eb_9e95_acde48001122row4_col2\" class=\"data row4 col2\" >0.9464</td>\n",
       "                        <td id=\"T_073fa5e2_2f67_11eb_9e95_acde48001122row4_col3\" class=\"data row4 col3\" >0.7853</td>\n",
       "                        <td id=\"T_073fa5e2_2f67_11eb_9e95_acde48001122row4_col4\" class=\"data row4 col4\" >0.9082</td>\n",
       "                        <td id=\"T_073fa5e2_2f67_11eb_9e95_acde48001122row4_col5\" class=\"data row4 col5\" >0.8423</td>\n",
       "                        <td id=\"T_073fa5e2_2f67_11eb_9e95_acde48001122row4_col6\" class=\"data row4 col6\" >0.7487</td>\n",
       "                        <td id=\"T_073fa5e2_2f67_11eb_9e95_acde48001122row4_col7\" class=\"data row4 col7\" >0.7538</td>\n",
       "                        <td id=\"T_073fa5e2_2f67_11eb_9e95_acde48001122row4_col8\" class=\"data row4 col8\" >1.6942</td>\n",
       "            </tr>\n",
       "            <tr>\n",
       "                        <th id=\"T_073fa5e2_2f67_11eb_9e95_acde48001122level0_row5\" class=\"row_heading level0 row5\" >5</th>\n",
       "                        <td id=\"T_073fa5e2_2f67_11eb_9e95_acde48001122row5_col0\" class=\"data row5 col0\" >Quadratic Discriminant Analysis</td>\n",
       "                        <td id=\"T_073fa5e2_2f67_11eb_9e95_acde48001122row5_col1\" class=\"data row5 col1\" >0.7770</td>\n",
       "                        <td id=\"T_073fa5e2_2f67_11eb_9e95_acde48001122row5_col2\" class=\"data row5 col2\" >0.9050</td>\n",
       "                        <td id=\"T_073fa5e2_2f67_11eb_9e95_acde48001122row5_col3\" class=\"data row5 col3\" >0.6937</td>\n",
       "                        <td id=\"T_073fa5e2_2f67_11eb_9e95_acde48001122row5_col4\" class=\"data row5 col4\" >0.7842</td>\n",
       "                        <td id=\"T_073fa5e2_2f67_11eb_9e95_acde48001122row5_col5\" class=\"data row5 col5\" >0.6932</td>\n",
       "                        <td id=\"T_073fa5e2_2f67_11eb_9e95_acde48001122row5_col6\" class=\"data row5 col6\" >0.5379</td>\n",
       "                        <td id=\"T_073fa5e2_2f67_11eb_9e95_acde48001122row5_col7\" class=\"data row5 col7\" >0.5491</td>\n",
       "                        <td id=\"T_073fa5e2_2f67_11eb_9e95_acde48001122row5_col8\" class=\"data row5 col8\" >0.5436</td>\n",
       "            </tr>\n",
       "            <tr>\n",
       "                        <th id=\"T_073fa5e2_2f67_11eb_9e95_acde48001122level0_row6\" class=\"row_heading level0 row6\" >6</th>\n",
       "                        <td id=\"T_073fa5e2_2f67_11eb_9e95_acde48001122row6_col0\" class=\"data row6 col0\" >Naive Bayes</td>\n",
       "                        <td id=\"T_073fa5e2_2f67_11eb_9e95_acde48001122row6_col1\" class=\"data row6 col1\" >0.7068</td>\n",
       "                        <td id=\"T_073fa5e2_2f67_11eb_9e95_acde48001122row6_col2\" class=\"data row6 col2\" >0.7692</td>\n",
       "                        <td id=\"T_073fa5e2_2f67_11eb_9e95_acde48001122row6_col3\" class=\"data row6 col3\" >0.5569</td>\n",
       "                        <td id=\"T_073fa5e2_2f67_11eb_9e95_acde48001122row6_col4\" class=\"data row6 col4\" >0.6599</td>\n",
       "                        <td id=\"T_073fa5e2_2f67_11eb_9e95_acde48001122row6_col5\" class=\"data row6 col5\" >0.6040</td>\n",
       "                        <td id=\"T_073fa5e2_2f67_11eb_9e95_acde48001122row6_col6\" class=\"data row6 col6\" >0.3738</td>\n",
       "                        <td id=\"T_073fa5e2_2f67_11eb_9e95_acde48001122row6_col7\" class=\"data row6 col7\" >0.3773</td>\n",
       "                        <td id=\"T_073fa5e2_2f67_11eb_9e95_acde48001122row6_col8\" class=\"data row6 col8\" >0.0942</td>\n",
       "            </tr>\n",
       "            <tr>\n",
       "                        <th id=\"T_073fa5e2_2f67_11eb_9e95_acde48001122level0_row7\" class=\"row_heading level0 row7\" >7</th>\n",
       "                        <td id=\"T_073fa5e2_2f67_11eb_9e95_acde48001122row7_col0\" class=\"data row7 col0\" >Logistic Regression</td>\n",
       "                        <td id=\"T_073fa5e2_2f67_11eb_9e95_acde48001122row7_col1\" class=\"data row7 col1\" >0.6954</td>\n",
       "                        <td id=\"T_073fa5e2_2f67_11eb_9e95_acde48001122row7_col2\" class=\"data row7 col2\" >0.7394</td>\n",
       "                        <td id=\"T_073fa5e2_2f67_11eb_9e95_acde48001122row7_col3\" class=\"data row7 col3\" >0.5427</td>\n",
       "                        <td id=\"T_073fa5e2_2f67_11eb_9e95_acde48001122row7_col4\" class=\"data row7 col4\" >0.6431</td>\n",
       "                        <td id=\"T_073fa5e2_2f67_11eb_9e95_acde48001122row7_col5\" class=\"data row7 col5\" >0.5886</td>\n",
       "                        <td id=\"T_073fa5e2_2f67_11eb_9e95_acde48001122row7_col6\" class=\"data row7 col6\" >0.3495</td>\n",
       "                        <td id=\"T_073fa5e2_2f67_11eb_9e95_acde48001122row7_col7\" class=\"data row7 col7\" >0.3527</td>\n",
       "                        <td id=\"T_073fa5e2_2f67_11eb_9e95_acde48001122row7_col8\" class=\"data row7 col8\" >1.1431</td>\n",
       "            </tr>\n",
       "            <tr>\n",
       "                        <th id=\"T_073fa5e2_2f67_11eb_9e95_acde48001122level0_row8\" class=\"row_heading level0 row8\" >8</th>\n",
       "                        <td id=\"T_073fa5e2_2f67_11eb_9e95_acde48001122row8_col0\" class=\"data row8 col0\" >Linear Discriminant Analysis</td>\n",
       "                        <td id=\"T_073fa5e2_2f67_11eb_9e95_acde48001122row8_col1\" class=\"data row8 col1\" >0.7016</td>\n",
       "                        <td id=\"T_073fa5e2_2f67_11eb_9e95_acde48001122row8_col2\" class=\"data row8 col2\" >0.7580</td>\n",
       "                        <td id=\"T_073fa5e2_2f67_11eb_9e95_acde48001122row8_col3\" class=\"data row8 col3\" >0.5095</td>\n",
       "                        <td id=\"T_073fa5e2_2f67_11eb_9e95_acde48001122row8_col4\" class=\"data row8 col4\" >0.6686</td>\n",
       "                        <td id=\"T_073fa5e2_2f67_11eb_9e95_acde48001122row8_col5\" class=\"data row8 col5\" >0.5783</td>\n",
       "                        <td id=\"T_073fa5e2_2f67_11eb_9e95_acde48001122row8_col6\" class=\"data row8 col6\" >0.3539</td>\n",
       "                        <td id=\"T_073fa5e2_2f67_11eb_9e95_acde48001122row8_col7\" class=\"data row8 col7\" >0.3617</td>\n",
       "                        <td id=\"T_073fa5e2_2f67_11eb_9e95_acde48001122row8_col8\" class=\"data row8 col8\" >1.0182</td>\n",
       "            </tr>\n",
       "            <tr>\n",
       "                        <th id=\"T_073fa5e2_2f67_11eb_9e95_acde48001122level0_row9\" class=\"row_heading level0 row9\" >9</th>\n",
       "                        <td id=\"T_073fa5e2_2f67_11eb_9e95_acde48001122row9_col0\" class=\"data row9 col0\" >Ridge Classifier</td>\n",
       "                        <td id=\"T_073fa5e2_2f67_11eb_9e95_acde48001122row9_col1\" class=\"data row9 col1\" >0.7011</td>\n",
       "                        <td id=\"T_073fa5e2_2f67_11eb_9e95_acde48001122row9_col2\" class=\"data row9 col2\" >0.0000</td>\n",
       "                        <td id=\"T_073fa5e2_2f67_11eb_9e95_acde48001122row9_col3\" class=\"data row9 col3\" >0.5050</td>\n",
       "                        <td id=\"T_073fa5e2_2f67_11eb_9e95_acde48001122row9_col4\" class=\"data row9 col4\" >0.6695</td>\n",
       "                        <td id=\"T_073fa5e2_2f67_11eb_9e95_acde48001122row9_col5\" class=\"data row9 col5\" >0.5757</td>\n",
       "                        <td id=\"T_073fa5e2_2f67_11eb_9e95_acde48001122row9_col6\" class=\"data row9 col6\" >0.3519</td>\n",
       "                        <td id=\"T_073fa5e2_2f67_11eb_9e95_acde48001122row9_col7\" class=\"data row9 col7\" >0.3603</td>\n",
       "                        <td id=\"T_073fa5e2_2f67_11eb_9e95_acde48001122row9_col8\" class=\"data row9 col8\" >0.1442</td>\n",
       "            </tr>\n",
       "            <tr>\n",
       "                        <th id=\"T_073fa5e2_2f67_11eb_9e95_acde48001122level0_row10\" class=\"row_heading level0 row10\" >10</th>\n",
       "                        <td id=\"T_073fa5e2_2f67_11eb_9e95_acde48001122row10_col0\" class=\"data row10 col0\" >K Neighbors Classifier</td>\n",
       "                        <td id=\"T_073fa5e2_2f67_11eb_9e95_acde48001122row10_col1\" class=\"data row10 col1\" >0.5573</td>\n",
       "                        <td id=\"T_073fa5e2_2f67_11eb_9e95_acde48001122row10_col2\" class=\"data row10 col2\" >0.5349</td>\n",
       "                        <td id=\"T_073fa5e2_2f67_11eb_9e95_acde48001122row10_col3\" class=\"data row10 col3\" >0.3602</td>\n",
       "                        <td id=\"T_073fa5e2_2f67_11eb_9e95_acde48001122row10_col4\" class=\"data row10 col4\" >0.4378</td>\n",
       "                        <td id=\"T_073fa5e2_2f67_11eb_9e95_acde48001122row10_col5\" class=\"data row10 col5\" >0.3952</td>\n",
       "                        <td id=\"T_073fa5e2_2f67_11eb_9e95_acde48001122row10_col6\" class=\"data row10 col6\" >0.0513</td>\n",
       "                        <td id=\"T_073fa5e2_2f67_11eb_9e95_acde48001122row10_col7\" class=\"data row10 col7\" >0.0519</td>\n",
       "                        <td id=\"T_073fa5e2_2f67_11eb_9e95_acde48001122row10_col8\" class=\"data row10 col8\" >0.5823</td>\n",
       "            </tr>\n",
       "    </tbody></table>"
      ],
      "text/plain": [
       "<pandas.io.formats.style.Styler at 0x7f885f459b38>"
      ]
     },
     "metadata": {},
     "output_type": "display_data"
    },
    {
     "name": "stdout",
     "output_type": "stream",
     "text": [
      "CPU times: user 52min 6s, sys: 1min 31s, total: 53min 37s\n",
      "Wall time: 9min 45s\n"
     ]
    }
   ],
   "source": [
    "%%time\n",
    "best_model = compare_models(sort = 'Recall',\n",
    "                              exclude = ['xgboost', 'gbc','ada','svm'])"
   ]
  },
  {
   "cell_type": "markdown",
   "metadata": {
    "id": "Pek5yZxCrqId"
   },
   "source": [
    "We used recall to score our models. Recall is more important than precision when false negatives cost much more than false positives. When optimizing out models chosen by F1, we will use recall as a metric in order to minimize false negatives. \n",
    "\n",
    "Below, you can see confirmation that our best model is the catboost model. "
   ]
  },
  {
   "cell_type": "code",
   "execution_count": null,
   "metadata": {
    "colab": {
     "base_uri": "https://localhost:8080/",
     "height": 1000,
     "referenced_widgets": [
      "20f82a89cdea49b58df4521ab3047946",
      "5bfecf23a594486aac63e4e7c49ab6b5",
      "82a915dd04e746358418a0a6054960b9",
      "ac74622a039b43f28ae68aaf592ef644",
      "f8363754e0f14accb72a6c0a42bb7a66",
      "1febf603342b4530bfad4e00f78cafed",
      "a580a0fadb954686b8fc1afcf0ad351c"
     ]
    },
    "id": "JS-M2NMajtCS",
    "outputId": "c202f874-a685-4f4b-bba8-b8fc12afeb59"
   },
   "outputs": [
    {
     "name": "stdout",
     "output_type": "stream",
     "text": [
      " the best base model is definced as <catboost.core.CatBoostClassifier object at 0x7f3984cc4d30>\n"
     ]
    },
    {
     "data": {
      "application/vnd.jupyter.widget-view+json": {
       "model_id": "20f82a89cdea49b58df4521ab3047946",
       "version_major": 2,
       "version_minor": 0
      },
      "text/plain": [
       "interactive(children=(ToggleButtons(description='Plot Type:', icons=('',), options=(('Hyperparameters', 'param…"
      ]
     },
     "metadata": {
      "tags": []
     },
     "output_type": "display_data"
    },
    {
     "name": "stdout",
     "output_type": "stream",
     "text": [
      "time: 371 ms\n"
     ]
    }
   ],
   "source": [
    "print( \" the best base model is definced as {}\". format(best_model))\n",
    "evaluate_model(best_model)"
   ]
  },
  {
   "cell_type": "markdown",
   "metadata": {
    "id": "dL5jZKQ0Kzsc"
   },
   "source": [
    "### Create and Fine Tune Models\n",
    "After assessing and comparing the models from pycaret, we will select 2~3 that we will train, fine tune and evaluate the cost function. We selected the following:\n",
    "1.    Random Forest\n",
    "2.    Catboost\n",
    "3.    Logistic Regression\n",
    "\n",
    "These models were selected in this order as random forest is a simple version of our top models, and 4 out of 5 of our top models are tree based models. We then move into the more complicated but our highest scoring model: the CatBoost Classifier. Finally, we then look at logistic regression as a simple model that is significantly different than our first two models. "
   ]
  },
  {
   "cell_type": "markdown",
   "metadata": {
    "id": "OktClM6SlIAB"
   },
   "source": [
    "#### 1. Random forest"
   ]
  },
  {
   "cell_type": "markdown",
   "metadata": {},
   "source": [
    "Below, we train our models using 10-fold cross validation."
   ]
  },
  {
   "cell_type": "code",
   "execution_count": null,
   "metadata": {
    "colab": {
     "base_uri": "https://localhost:8080/",
     "height": 438,
     "referenced_widgets": [
      "f22fcec403824554996385ec9f9ca00b",
      "085f564d55fc42afa0419e0d06cf98eb",
      "e3d8cb2bba244ae892fd899a98a699a9"
     ]
    },
    "id": "wklmId04j-XQ",
    "outputId": "35966050-7d2a-4b80-cb73-b17758637a5b"
   },
   "outputs": [
    {
     "data": {
      "text/html": [
       "<div>\n",
       "<style scoped>\n",
       "    .dataframe tbody tr th:only-of-type {\n",
       "        vertical-align: middle;\n",
       "    }\n",
       "\n",
       "    .dataframe tbody tr th {\n",
       "        vertical-align: top;\n",
       "    }\n",
       "\n",
       "    .dataframe thead th {\n",
       "        text-align: right;\n",
       "    }\n",
       "</style>\n",
       "<table border=\"1\" class=\"dataframe\">\n",
       "  <thead>\n",
       "    <tr style=\"text-align: right;\">\n",
       "      <th></th>\n",
       "      <th>Accuracy</th>\n",
       "      <th>AUC</th>\n",
       "      <th>Recall</th>\n",
       "      <th>Prec.</th>\n",
       "      <th>F1</th>\n",
       "      <th>Kappa</th>\n",
       "      <th>MCC</th>\n",
       "    </tr>\n",
       "  </thead>\n",
       "  <tbody>\n",
       "    <tr>\n",
       "      <th>0</th>\n",
       "      <td>0.9135</td>\n",
       "      <td>0.9707</td>\n",
       "      <td>0.8487</td>\n",
       "      <td>0.9297</td>\n",
       "      <td>0.8873</td>\n",
       "      <td>0.8174</td>\n",
       "      <td>0.8196</td>\n",
       "    </tr>\n",
       "    <tr>\n",
       "      <th>1</th>\n",
       "      <td>0.9164</td>\n",
       "      <td>0.9716</td>\n",
       "      <td>0.8541</td>\n",
       "      <td>0.9319</td>\n",
       "      <td>0.8913</td>\n",
       "      <td>0.8236</td>\n",
       "      <td>0.8257</td>\n",
       "    </tr>\n",
       "    <tr>\n",
       "      <th>2</th>\n",
       "      <td>0.9160</td>\n",
       "      <td>0.9707</td>\n",
       "      <td>0.8576</td>\n",
       "      <td>0.9276</td>\n",
       "      <td>0.8913</td>\n",
       "      <td>0.8230</td>\n",
       "      <td>0.8247</td>\n",
       "    </tr>\n",
       "    <tr>\n",
       "      <th>3</th>\n",
       "      <td>0.9164</td>\n",
       "      <td>0.9723</td>\n",
       "      <td>0.8579</td>\n",
       "      <td>0.9284</td>\n",
       "      <td>0.8917</td>\n",
       "      <td>0.8238</td>\n",
       "      <td>0.8255</td>\n",
       "    </tr>\n",
       "    <tr>\n",
       "      <th>4</th>\n",
       "      <td>0.9170</td>\n",
       "      <td>0.9709</td>\n",
       "      <td>0.8559</td>\n",
       "      <td>0.9317</td>\n",
       "      <td>0.8922</td>\n",
       "      <td>0.8249</td>\n",
       "      <td>0.8269</td>\n",
       "    </tr>\n",
       "    <tr>\n",
       "      <th>5</th>\n",
       "      <td>0.9153</td>\n",
       "      <td>0.9723</td>\n",
       "      <td>0.8594</td>\n",
       "      <td>0.9242</td>\n",
       "      <td>0.8906</td>\n",
       "      <td>0.8217</td>\n",
       "      <td>0.8231</td>\n",
       "    </tr>\n",
       "    <tr>\n",
       "      <th>6</th>\n",
       "      <td>0.9187</td>\n",
       "      <td>0.9731</td>\n",
       "      <td>0.8664</td>\n",
       "      <td>0.9263</td>\n",
       "      <td>0.8953</td>\n",
       "      <td>0.8290</td>\n",
       "      <td>0.8303</td>\n",
       "    </tr>\n",
       "    <tr>\n",
       "      <th>7</th>\n",
       "      <td>0.9128</td>\n",
       "      <td>0.9687</td>\n",
       "      <td>0.8554</td>\n",
       "      <td>0.9217</td>\n",
       "      <td>0.8873</td>\n",
       "      <td>0.8163</td>\n",
       "      <td>0.8179</td>\n",
       "    </tr>\n",
       "    <tr>\n",
       "      <th>8</th>\n",
       "      <td>0.9138</td>\n",
       "      <td>0.9707</td>\n",
       "      <td>0.8526</td>\n",
       "      <td>0.9267</td>\n",
       "      <td>0.8881</td>\n",
       "      <td>0.8182</td>\n",
       "      <td>0.8201</td>\n",
       "    </tr>\n",
       "    <tr>\n",
       "      <th>9</th>\n",
       "      <td>0.9199</td>\n",
       "      <td>0.9733</td>\n",
       "      <td>0.8676</td>\n",
       "      <td>0.9281</td>\n",
       "      <td>0.8968</td>\n",
       "      <td>0.8315</td>\n",
       "      <td>0.8328</td>\n",
       "    </tr>\n",
       "    <tr>\n",
       "      <th>Mean</th>\n",
       "      <td>0.9160</td>\n",
       "      <td>0.9714</td>\n",
       "      <td>0.8575</td>\n",
       "      <td>0.9276</td>\n",
       "      <td>0.8912</td>\n",
       "      <td>0.8230</td>\n",
       "      <td>0.8247</td>\n",
       "    </tr>\n",
       "    <tr>\n",
       "      <th>SD</th>\n",
       "      <td>0.0021</td>\n",
       "      <td>0.0013</td>\n",
       "      <td>0.0055</td>\n",
       "      <td>0.0030</td>\n",
       "      <td>0.0030</td>\n",
       "      <td>0.0046</td>\n",
       "      <td>0.0045</td>\n",
       "    </tr>\n",
       "  </tbody>\n",
       "</table>\n",
       "</div>"
      ],
      "text/plain": [
       "      Accuracy     AUC  Recall   Prec.      F1   Kappa     MCC\n",
       "0       0.9135  0.9707  0.8487  0.9297  0.8873  0.8174  0.8196\n",
       "1       0.9164  0.9716  0.8541  0.9319  0.8913  0.8236  0.8257\n",
       "2       0.9160  0.9707  0.8576  0.9276  0.8913  0.8230  0.8247\n",
       "3       0.9164  0.9723  0.8579  0.9284  0.8917  0.8238  0.8255\n",
       "4       0.9170  0.9709  0.8559  0.9317  0.8922  0.8249  0.8269\n",
       "5       0.9153  0.9723  0.8594  0.9242  0.8906  0.8217  0.8231\n",
       "6       0.9187  0.9731  0.8664  0.9263  0.8953  0.8290  0.8303\n",
       "7       0.9128  0.9687  0.8554  0.9217  0.8873  0.8163  0.8179\n",
       "8       0.9138  0.9707  0.8526  0.9267  0.8881  0.8182  0.8201\n",
       "9       0.9199  0.9733  0.8676  0.9281  0.8968  0.8315  0.8328\n",
       "Mean    0.9160  0.9714  0.8575  0.9276  0.8912  0.8230  0.8247\n",
       "SD      0.0021  0.0013  0.0055  0.0030  0.0030  0.0046  0.0045"
      ]
     },
     "metadata": {
      "tags": []
     },
     "output_type": "display_data"
    },
    {
     "name": "stdout",
     "output_type": "stream",
     "text": [
      "time: 43.8 s\n"
     ]
    }
   ],
   "source": [
    "## train and test model using CV of 10 fold\n",
    "rf = create_model('rf')"
   ]
  },
  {
   "cell_type": "markdown",
   "metadata": {},
   "source": [
    "Below, we automatically tune our model using auto gridsearch. We minimize the cost by optimizing based on Recall, which does drop our accuracy, precision and F1 score. Increasing those metrics would be good, but the most important thing is minimizing false negatives. "
   ]
  },
  {
   "cell_type": "code",
   "execution_count": null,
   "metadata": {
    "colab": {
     "base_uri": "https://localhost:8080/",
     "height": 438,
     "referenced_widgets": [
      "e087d0860e004788837cd8125941a875",
      "ce513aedd864422c9170f1382dcdfb22",
      "4053d1cd9e1a4716a1816bda7468ed03"
     ]
    },
    "id": "iNrKzOYXlzAK",
    "outputId": "3e56fd86-aa26-4503-bbf7-ce84531afa09"
   },
   "outputs": [
    {
     "data": {
      "text/html": [
       "<div>\n",
       "<style scoped>\n",
       "    .dataframe tbody tr th:only-of-type {\n",
       "        vertical-align: middle;\n",
       "    }\n",
       "\n",
       "    .dataframe tbody tr th {\n",
       "        vertical-align: top;\n",
       "    }\n",
       "\n",
       "    .dataframe thead th {\n",
       "        text-align: right;\n",
       "    }\n",
       "</style>\n",
       "<table border=\"1\" class=\"dataframe\">\n",
       "  <thead>\n",
       "    <tr style=\"text-align: right;\">\n",
       "      <th></th>\n",
       "      <th>Accuracy</th>\n",
       "      <th>AUC</th>\n",
       "      <th>Recall</th>\n",
       "      <th>Prec.</th>\n",
       "      <th>F1</th>\n",
       "      <th>Kappa</th>\n",
       "      <th>MCC</th>\n",
       "    </tr>\n",
       "  </thead>\n",
       "  <tbody>\n",
       "    <tr>\n",
       "      <th>0</th>\n",
       "      <td>0.4012</td>\n",
       "      <td>0.5</td>\n",
       "      <td>1.0</td>\n",
       "      <td>0.4012</td>\n",
       "      <td>0.5727</td>\n",
       "      <td>0.0</td>\n",
       "      <td>0.0</td>\n",
       "    </tr>\n",
       "    <tr>\n",
       "      <th>1</th>\n",
       "      <td>0.4012</td>\n",
       "      <td>0.5</td>\n",
       "      <td>1.0</td>\n",
       "      <td>0.4012</td>\n",
       "      <td>0.5727</td>\n",
       "      <td>0.0</td>\n",
       "      <td>0.0</td>\n",
       "    </tr>\n",
       "    <tr>\n",
       "      <th>2</th>\n",
       "      <td>0.4012</td>\n",
       "      <td>0.5</td>\n",
       "      <td>1.0</td>\n",
       "      <td>0.4012</td>\n",
       "      <td>0.5727</td>\n",
       "      <td>0.0</td>\n",
       "      <td>0.0</td>\n",
       "    </tr>\n",
       "    <tr>\n",
       "      <th>3</th>\n",
       "      <td>0.4011</td>\n",
       "      <td>0.5</td>\n",
       "      <td>1.0</td>\n",
       "      <td>0.4011</td>\n",
       "      <td>0.5726</td>\n",
       "      <td>0.0</td>\n",
       "      <td>0.0</td>\n",
       "    </tr>\n",
       "    <tr>\n",
       "      <th>4</th>\n",
       "      <td>0.4011</td>\n",
       "      <td>0.5</td>\n",
       "      <td>1.0</td>\n",
       "      <td>0.4011</td>\n",
       "      <td>0.5726</td>\n",
       "      <td>0.0</td>\n",
       "      <td>0.0</td>\n",
       "    </tr>\n",
       "    <tr>\n",
       "      <th>5</th>\n",
       "      <td>0.4011</td>\n",
       "      <td>0.5</td>\n",
       "      <td>1.0</td>\n",
       "      <td>0.4011</td>\n",
       "      <td>0.5726</td>\n",
       "      <td>0.0</td>\n",
       "      <td>0.0</td>\n",
       "    </tr>\n",
       "    <tr>\n",
       "      <th>6</th>\n",
       "      <td>0.4011</td>\n",
       "      <td>0.5</td>\n",
       "      <td>1.0</td>\n",
       "      <td>0.4011</td>\n",
       "      <td>0.5726</td>\n",
       "      <td>0.0</td>\n",
       "      <td>0.0</td>\n",
       "    </tr>\n",
       "    <tr>\n",
       "      <th>7</th>\n",
       "      <td>0.4012</td>\n",
       "      <td>0.5</td>\n",
       "      <td>1.0</td>\n",
       "      <td>0.4012</td>\n",
       "      <td>0.5726</td>\n",
       "      <td>0.0</td>\n",
       "      <td>0.0</td>\n",
       "    </tr>\n",
       "    <tr>\n",
       "      <th>8</th>\n",
       "      <td>0.4012</td>\n",
       "      <td>0.5</td>\n",
       "      <td>1.0</td>\n",
       "      <td>0.4012</td>\n",
       "      <td>0.5726</td>\n",
       "      <td>0.0</td>\n",
       "      <td>0.0</td>\n",
       "    </tr>\n",
       "    <tr>\n",
       "      <th>9</th>\n",
       "      <td>0.4012</td>\n",
       "      <td>0.5</td>\n",
       "      <td>1.0</td>\n",
       "      <td>0.4012</td>\n",
       "      <td>0.5726</td>\n",
       "      <td>0.0</td>\n",
       "      <td>0.0</td>\n",
       "    </tr>\n",
       "    <tr>\n",
       "      <th>Mean</th>\n",
       "      <td>0.4012</td>\n",
       "      <td>0.5</td>\n",
       "      <td>1.0</td>\n",
       "      <td>0.4012</td>\n",
       "      <td>0.5726</td>\n",
       "      <td>0.0</td>\n",
       "      <td>0.0</td>\n",
       "    </tr>\n",
       "    <tr>\n",
       "      <th>SD</th>\n",
       "      <td>0.0000</td>\n",
       "      <td>0.0</td>\n",
       "      <td>0.0</td>\n",
       "      <td>0.0000</td>\n",
       "      <td>0.0000</td>\n",
       "      <td>0.0</td>\n",
       "      <td>0.0</td>\n",
       "    </tr>\n",
       "  </tbody>\n",
       "</table>\n",
       "</div>"
      ],
      "text/plain": [
       "      Accuracy  AUC  Recall   Prec.      F1  Kappa  MCC\n",
       "0       0.4012  0.5     1.0  0.4012  0.5727    0.0  0.0\n",
       "1       0.4012  0.5     1.0  0.4012  0.5727    0.0  0.0\n",
       "2       0.4012  0.5     1.0  0.4012  0.5727    0.0  0.0\n",
       "3       0.4011  0.5     1.0  0.4011  0.5726    0.0  0.0\n",
       "4       0.4011  0.5     1.0  0.4011  0.5726    0.0  0.0\n",
       "5       0.4011  0.5     1.0  0.4011  0.5726    0.0  0.0\n",
       "6       0.4011  0.5     1.0  0.4011  0.5726    0.0  0.0\n",
       "7       0.4012  0.5     1.0  0.4012  0.5726    0.0  0.0\n",
       "8       0.4012  0.5     1.0  0.4012  0.5726    0.0  0.0\n",
       "9       0.4012  0.5     1.0  0.4012  0.5726    0.0  0.0\n",
       "Mean    0.4012  0.5     1.0  0.4012  0.5726    0.0  0.0\n",
       "SD      0.0000  0.0     0.0  0.0000  0.0000    0.0  0.0"
      ]
     },
     "metadata": {
      "tags": []
     },
     "output_type": "display_data"
    },
    {
     "name": "stdout",
     "output_type": "stream",
     "text": [
      "time: 14min 53s\n"
     ]
    }
   ],
   "source": [
    "tuned_rf = tune_model(rf, optimize = 'Recall')"
   ]
  },
  {
   "cell_type": "markdown",
   "metadata": {},
   "source": [
    "You can see the specifications of our tuned random forest model below. \n",
    "\n",
    "Please see a greater explanation of the specifications here: https://scikit-learn.org/stable/modules/generated/sklearn.ensemble.RandomForestClassifier.html"
   ]
  },
  {
   "cell_type": "code",
   "execution_count": null,
   "metadata": {
    "colab": {
     "base_uri": "https://localhost:8080/"
    },
    "id": "aAqaIsMJmcMv",
    "outputId": "e050f0a3-9c5b-4dac-f180-59695a50e506"
   },
   "outputs": [
    {
     "name": "stdout",
     "output_type": "stream",
     "text": [
      "RandomForestClassifier(bootstrap=True, ccp_alpha=0.0, class_weight='balanced',\n",
      "                       criterion='gini', max_depth=9, max_features=1.0,\n",
      "                       max_leaf_nodes=None, max_samples=None,\n",
      "                       min_impurity_decrease=0.1, min_impurity_split=None,\n",
      "                       min_samples_leaf=4, min_samples_split=7,\n",
      "                       min_weight_fraction_leaf=0.0, n_estimators=100,\n",
      "                       n_jobs=-1, oob_score=False, random_state=123, verbose=0,\n",
      "                       warm_start=False)\n",
      "time: 1.55 ms\n"
     ]
    }
   ],
   "source": [
    "print(tuned_rf)"
   ]
  },
  {
   "cell_type": "markdown",
   "metadata": {},
   "source": [
    "According to our confusion matrix below, you can see that the random forest classifier that maximized recall just prediced everything as a \"True.\" This is a simple way to minimize false negatives, but it isn't the best model. "
   ]
  },
  {
   "cell_type": "code",
   "execution_count": null,
   "metadata": {
    "colab": {
     "base_uri": "https://localhost:8080/",
     "height": 418,
     "referenced_widgets": [
      "31e3d57fd78c49ce81fc0b87321d0afa"
     ]
    },
    "id": "VHRr4hmYYllG",
    "outputId": "6117712b-0f97-4bd9-8850-e617d3bad81c"
   },
   "outputs": [
    {
     "data": {
      "image/png": "[encoded data removed]",
      "text/plain": [
       "<Figure size 576x396 with 1 Axes>"
      ]
     },
     "metadata": {
      "tags": []
     },
     "output_type": "display_data"
    },
    {
     "name": "stdout",
     "output_type": "stream",
     "text": [
      "time: 780 ms\n"
     ]
    }
   ],
   "source": [
    "plot_model(tuned_rf, plot = 'confusion_matrix')"
   ]
  },
  {
   "cell_type": "markdown",
   "metadata": {},
   "source": [
    "The cost of predicting everything as positive is \\\\$255510 for this dataset, or about \\\\$5.97 per prediction. This is in line with our expected cost of about \\\\$6 for predicting only only positives."
   ]
  },
  {
   "cell_type": "code",
   "execution_count": null,
   "metadata": {
    "colab": {
     "base_uri": "https://localhost:8080/"
    },
    "id": "8_SIuE6YZcyB",
    "outputId": "e2042ab9-8e9e-4ef3-b08b-14c396254066"
   },
   "outputs": [
    {
     "name": "stdout",
     "output_type": "stream",
     "text": [
      "the cost assiciate to the tuned model is $255510\n",
      "time: 1.18 ms\n"
     ]
    }
   ],
   "source": [
    "print(\"the cost assiciate to the tuned model is ${}\".format(cost(0,25551))) #cost(FN, FP):"
   ]
  },
  {
   "cell_type": "markdown",
   "metadata": {},
   "source": [
    "To see if we can improve on that cost, we also optimize on F1 score. The 10-fold cross validation can be seen below. Since most metrics are fairly close over the 10 iterations, this is evidence against overfitting, which is a good thing. "
   ]
  },
  {
   "cell_type": "code",
   "execution_count": null,
   "metadata": {
    "colab": {
     "base_uri": "https://localhost:8080/",
     "height": 438,
     "referenced_widgets": [
      "d12f535bca174e5cb705dfbd2175edae",
      "b296068f680243d08c3a82545da8fac8",
      "a92e437e69504dee912563508042375d"
     ]
    },
    "id": "sYxJPCv6Nnro",
    "outputId": "f1bc15bf-6014-489f-eb40-59cef74468b6"
   },
   "outputs": [
    {
     "data": {
      "text/html": [
       "<div>\n",
       "<style scoped>\n",
       "    .dataframe tbody tr th:only-of-type {\n",
       "        vertical-align: middle;\n",
       "    }\n",
       "\n",
       "    .dataframe tbody tr th {\n",
       "        vertical-align: top;\n",
       "    }\n",
       "\n",
       "    .dataframe thead th {\n",
       "        text-align: right;\n",
       "    }\n",
       "</style>\n",
       "<table border=\"1\" class=\"dataframe\">\n",
       "  <thead>\n",
       "    <tr style=\"text-align: right;\">\n",
       "      <th></th>\n",
       "      <th>Accuracy</th>\n",
       "      <th>AUC</th>\n",
       "      <th>Recall</th>\n",
       "      <th>Prec.</th>\n",
       "      <th>F1</th>\n",
       "      <th>Kappa</th>\n",
       "      <th>MCC</th>\n",
       "    </tr>\n",
       "  </thead>\n",
       "  <tbody>\n",
       "    <tr>\n",
       "      <th>0</th>\n",
       "      <td>0.7859</td>\n",
       "      <td>0.8478</td>\n",
       "      <td>0.7512</td>\n",
       "      <td>0.7250</td>\n",
       "      <td>0.7379</td>\n",
       "      <td>0.5570</td>\n",
       "      <td>0.5572</td>\n",
       "    </tr>\n",
       "    <tr>\n",
       "      <th>1</th>\n",
       "      <td>0.7839</td>\n",
       "      <td>0.8490</td>\n",
       "      <td>0.7682</td>\n",
       "      <td>0.7147</td>\n",
       "      <td>0.7405</td>\n",
       "      <td>0.5558</td>\n",
       "      <td>0.5569</td>\n",
       "    </tr>\n",
       "    <tr>\n",
       "      <th>2</th>\n",
       "      <td>0.7762</td>\n",
       "      <td>0.8403</td>\n",
       "      <td>0.7450</td>\n",
       "      <td>0.7111</td>\n",
       "      <td>0.7276</td>\n",
       "      <td>0.5379</td>\n",
       "      <td>0.5383</td>\n",
       "    </tr>\n",
       "    <tr>\n",
       "      <th>3</th>\n",
       "      <td>0.7793</td>\n",
       "      <td>0.8417</td>\n",
       "      <td>0.7434</td>\n",
       "      <td>0.7169</td>\n",
       "      <td>0.7299</td>\n",
       "      <td>0.5435</td>\n",
       "      <td>0.5438</td>\n",
       "    </tr>\n",
       "    <tr>\n",
       "      <th>4</th>\n",
       "      <td>0.7793</td>\n",
       "      <td>0.8403</td>\n",
       "      <td>0.7372</td>\n",
       "      <td>0.7196</td>\n",
       "      <td>0.7283</td>\n",
       "      <td>0.5426</td>\n",
       "      <td>0.5427</td>\n",
       "    </tr>\n",
       "    <tr>\n",
       "      <th>5</th>\n",
       "      <td>0.7782</td>\n",
       "      <td>0.8426</td>\n",
       "      <td>0.7517</td>\n",
       "      <td>0.7117</td>\n",
       "      <td>0.7311</td>\n",
       "      <td>0.5427</td>\n",
       "      <td>0.5433</td>\n",
       "    </tr>\n",
       "    <tr>\n",
       "      <th>6</th>\n",
       "      <td>0.7831</td>\n",
       "      <td>0.8444</td>\n",
       "      <td>0.7622</td>\n",
       "      <td>0.7157</td>\n",
       "      <td>0.7382</td>\n",
       "      <td>0.5534</td>\n",
       "      <td>0.5542</td>\n",
       "    </tr>\n",
       "    <tr>\n",
       "      <th>7</th>\n",
       "      <td>0.7742</td>\n",
       "      <td>0.8438</td>\n",
       "      <td>0.7734</td>\n",
       "      <td>0.6970</td>\n",
       "      <td>0.7332</td>\n",
       "      <td>0.5384</td>\n",
       "      <td>0.5406</td>\n",
       "    </tr>\n",
       "    <tr>\n",
       "      <th>8</th>\n",
       "      <td>0.7766</td>\n",
       "      <td>0.8428</td>\n",
       "      <td>0.7399</td>\n",
       "      <td>0.7137</td>\n",
       "      <td>0.7266</td>\n",
       "      <td>0.5379</td>\n",
       "      <td>0.5381</td>\n",
       "    </tr>\n",
       "    <tr>\n",
       "      <th>9</th>\n",
       "      <td>0.7798</td>\n",
       "      <td>0.8495</td>\n",
       "      <td>0.7654</td>\n",
       "      <td>0.7089</td>\n",
       "      <td>0.7361</td>\n",
       "      <td>0.5477</td>\n",
       "      <td>0.5489</td>\n",
       "    </tr>\n",
       "    <tr>\n",
       "      <th>Mean</th>\n",
       "      <td>0.7797</td>\n",
       "      <td>0.8442</td>\n",
       "      <td>0.7538</td>\n",
       "      <td>0.7134</td>\n",
       "      <td>0.7330</td>\n",
       "      <td>0.5457</td>\n",
       "      <td>0.5464</td>\n",
       "    </tr>\n",
       "    <tr>\n",
       "      <th>SD</th>\n",
       "      <td>0.0035</td>\n",
       "      <td>0.0033</td>\n",
       "      <td>0.0121</td>\n",
       "      <td>0.0070</td>\n",
       "      <td>0.0047</td>\n",
       "      <td>0.0070</td>\n",
       "      <td>0.0070</td>\n",
       "    </tr>\n",
       "  </tbody>\n",
       "</table>\n",
       "</div>"
      ],
      "text/plain": [
       "      Accuracy     AUC  Recall   Prec.      F1   Kappa     MCC\n",
       "0       0.7859  0.8478  0.7512  0.7250  0.7379  0.5570  0.5572\n",
       "1       0.7839  0.8490  0.7682  0.7147  0.7405  0.5558  0.5569\n",
       "2       0.7762  0.8403  0.7450  0.7111  0.7276  0.5379  0.5383\n",
       "3       0.7793  0.8417  0.7434  0.7169  0.7299  0.5435  0.5438\n",
       "4       0.7793  0.8403  0.7372  0.7196  0.7283  0.5426  0.5427\n",
       "5       0.7782  0.8426  0.7517  0.7117  0.7311  0.5427  0.5433\n",
       "6       0.7831  0.8444  0.7622  0.7157  0.7382  0.5534  0.5542\n",
       "7       0.7742  0.8438  0.7734  0.6970  0.7332  0.5384  0.5406\n",
       "8       0.7766  0.8428  0.7399  0.7137  0.7266  0.5379  0.5381\n",
       "9       0.7798  0.8495  0.7654  0.7089  0.7361  0.5477  0.5489\n",
       "Mean    0.7797  0.8442  0.7538  0.7134  0.7330  0.5457  0.5464\n",
       "SD      0.0035  0.0033  0.0121  0.0070  0.0047  0.0070  0.0070"
      ]
     },
     "metadata": {
      "tags": []
     },
     "output_type": "display_data"
    },
    {
     "name": "stdout",
     "output_type": "stream",
     "text": [
      "time: 21min 34s\n"
     ]
    }
   ],
   "source": [
    "tuned_rf_f1 = tune_model(rf, optimize = 'f1') "
   ]
  },
  {
   "cell_type": "markdown",
   "metadata": {},
   "source": [
    "You can see the final specifications of our random forest model tuned using F1 score below.\n",
    "\n",
    "Please see a greater explanation of the specifications here: https://scikit-learn.org/stable/modules/generated/sklearn.ensemble.RandomForestClassifier.html"
   ]
  },
  {
   "cell_type": "code",
   "execution_count": null,
   "metadata": {
    "colab": {
     "base_uri": "https://localhost:8080/"
    },
    "id": "eSmGd2uV8XDL",
    "outputId": "b6ab957d-25f1-4236-ed67-371e9156963a"
   },
   "outputs": [
    {
     "name": "stdout",
     "output_type": "stream",
     "text": [
      "RandomForestClassifier(bootstrap=False, ccp_alpha=0.0,\n",
      "                       class_weight='balanced_subsample', criterion='gini',\n",
      "                       max_depth=6, max_features=1.0, max_leaf_nodes=None,\n",
      "                       max_samples=None, min_impurity_decrease=0,\n",
      "                       min_impurity_split=None, min_samples_leaf=4,\n",
      "                       min_samples_split=7, min_weight_fraction_leaf=0.0,\n",
      "                       n_estimators=200, n_jobs=-1, oob_score=False,\n",
      "                       random_state=123, verbose=0, warm_start=False)\n",
      "time: 1.44 ms\n"
     ]
    }
   ],
   "source": [
    "print(tuned_rf_f1)"
   ]
  },
  {
   "cell_type": "markdown",
   "metadata": {},
   "source": [
    "Below is our confusion matrix for the random forest model tuned using F1 score. It is clear that our predictions are much more balanced in this iteration, as this model actually predicted \"False\" values. "
   ]
  },
  {
   "cell_type": "code",
   "execution_count": null,
   "metadata": {
    "colab": {
     "base_uri": "https://localhost:8080/",
     "height": 418
    },
    "id": "9ePrCxsn8afg",
    "outputId": "e37a1917-5034-4d9e-9492-6827bca1e28b"
   },
   "outputs": [
    {
     "data": {
      "image/png": "[encoded data removed]",
      "text/plain": [
       "<Figure size 576x396 with 1 Axes>"
      ]
     },
     "metadata": {
      "tags": []
     },
     "output_type": "display_data"
    },
    {
     "name": "stdout",
     "output_type": "stream",
     "text": [
      "time: 1.08 s\n"
     ]
    }
   ],
   "source": [
    "plot_model(tuned_rf_f1, plot = 'confusion_matrix')"
   ]
  },
  {
   "cell_type": "markdown",
   "metadata": {},
   "source": [
    "Despite much higher accuracy, F1 and AUC than the model that was optimized using recall, the model optimized using F1 score has a much higher cost: \\\\$2221650. This comes out to a cost per prediction of about \\\\$51.95."
   ]
  },
  {
   "cell_type": "code",
   "execution_count": null,
   "metadata": {
    "colab": {
     "base_uri": "https://localhost:8080/"
    },
    "id": "BXSgOPPY8gUd",
    "outputId": "05c7c055-88f3-49d4-d1df-3f8dc219e736"
   },
   "outputs": [
    {
     "name": "stdout",
     "output_type": "stream",
     "text": [
      "the cost assiciate to the tuned model is $2221650\n",
      "time: 1.11 ms\n"
     ]
    }
   ],
   "source": [
    "print(\"the cost assiciate to the tuned model is ${}\".format(cost(4342,5065))) #cost(FN, FP):"
   ]
  },
  {
   "cell_type": "markdown",
   "metadata": {
    "id": "CKYsvi1_-9f6"
   },
   "source": [
    "#### 2. Cat boost"
   ]
  },
  {
   "cell_type": "markdown",
   "metadata": {},
   "source": [
    "Here, we create catboost models."
   ]
  },
  {
   "cell_type": "code",
   "execution_count": 31,
   "metadata": {
    "scrolled": true
   },
   "outputs": [
    {
     "data": {
      "text/html": [
       "<style  type=\"text/css\" >\n",
       "    #T_1b111eca_3195_11eb_9016_2981648ffe23row10_col0 {\n",
       "            background:  yellow;\n",
       "        }    #T_1b111eca_3195_11eb_9016_2981648ffe23row10_col1 {\n",
       "            background:  yellow;\n",
       "        }    #T_1b111eca_3195_11eb_9016_2981648ffe23row10_col2 {\n",
       "            background:  yellow;\n",
       "        }    #T_1b111eca_3195_11eb_9016_2981648ffe23row10_col3 {\n",
       "            background:  yellow;\n",
       "        }    #T_1b111eca_3195_11eb_9016_2981648ffe23row10_col4 {\n",
       "            background:  yellow;\n",
       "        }    #T_1b111eca_3195_11eb_9016_2981648ffe23row10_col5 {\n",
       "            background:  yellow;\n",
       "        }    #T_1b111eca_3195_11eb_9016_2981648ffe23row10_col6 {\n",
       "            background:  yellow;\n",
       "        }</style><table id=\"T_1b111eca_3195_11eb_9016_2981648ffe23\" ><thead>    <tr>        <th class=\"blank level0\" ></th>        <th class=\"col_heading level0 col0\" >Accuracy</th>        <th class=\"col_heading level0 col1\" >AUC</th>        <th class=\"col_heading level0 col2\" >Recall</th>        <th class=\"col_heading level0 col3\" >Prec.</th>        <th class=\"col_heading level0 col4\" >F1</th>        <th class=\"col_heading level0 col5\" >Kappa</th>        <th class=\"col_heading level0 col6\" >MCC</th>    </tr></thead><tbody>\n",
       "                <tr>\n",
       "                        <th id=\"T_1b111eca_3195_11eb_9016_2981648ffe23level0_row0\" class=\"row_heading level0 row0\" >0</th>\n",
       "                        <td id=\"T_1b111eca_3195_11eb_9016_2981648ffe23row0_col0\" class=\"data row0 col0\" >0.9338</td>\n",
       "                        <td id=\"T_1b111eca_3195_11eb_9016_2981648ffe23row0_col1\" class=\"data row0 col1\" >0.9805</td>\n",
       "                        <td id=\"T_1b111eca_3195_11eb_9016_2981648ffe23row0_col2\" class=\"data row0 col2\" >0.9023</td>\n",
       "                        <td id=\"T_1b111eca_3195_11eb_9016_2981648ffe23row0_col3\" class=\"data row0 col3\" >0.9305</td>\n",
       "                        <td id=\"T_1b111eca_3195_11eb_9016_2981648ffe23row0_col4\" class=\"data row0 col4\" >0.9162</td>\n",
       "                        <td id=\"T_1b111eca_3195_11eb_9016_2981648ffe23row0_col5\" class=\"data row0 col5\" >0.8615</td>\n",
       "                        <td id=\"T_1b111eca_3195_11eb_9016_2981648ffe23row0_col6\" class=\"data row0 col6\" >0.8617</td>\n",
       "            </tr>\n",
       "            <tr>\n",
       "                        <th id=\"T_1b111eca_3195_11eb_9016_2981648ffe23level0_row1\" class=\"row_heading level0 row1\" >1</th>\n",
       "                        <td id=\"T_1b111eca_3195_11eb_9016_2981648ffe23row1_col0\" class=\"data row1 col0\" >0.9343</td>\n",
       "                        <td id=\"T_1b111eca_3195_11eb_9016_2981648ffe23row1_col1\" class=\"data row1 col1\" >0.9806</td>\n",
       "                        <td id=\"T_1b111eca_3195_11eb_9016_2981648ffe23row1_col2\" class=\"data row1 col2\" >0.9071</td>\n",
       "                        <td id=\"T_1b111eca_3195_11eb_9016_2981648ffe23row1_col3\" class=\"data row1 col3\" >0.9275</td>\n",
       "                        <td id=\"T_1b111eca_3195_11eb_9016_2981648ffe23row1_col4\" class=\"data row1 col4\" >0.9172</td>\n",
       "                        <td id=\"T_1b111eca_3195_11eb_9016_2981648ffe23row1_col5\" class=\"data row1 col5\" >0.8627</td>\n",
       "                        <td id=\"T_1b111eca_3195_11eb_9016_2981648ffe23row1_col6\" class=\"data row1 col6\" >0.8628</td>\n",
       "            </tr>\n",
       "            <tr>\n",
       "                        <th id=\"T_1b111eca_3195_11eb_9016_2981648ffe23level0_row2\" class=\"row_heading level0 row2\" >2</th>\n",
       "                        <td id=\"T_1b111eca_3195_11eb_9016_2981648ffe23row2_col0\" class=\"data row2 col0\" >0.9348</td>\n",
       "                        <td id=\"T_1b111eca_3195_11eb_9016_2981648ffe23row2_col1\" class=\"data row2 col1\" >0.9802</td>\n",
       "                        <td id=\"T_1b111eca_3195_11eb_9016_2981648ffe23row2_col2\" class=\"data row2 col2\" >0.9086</td>\n",
       "                        <td id=\"T_1b111eca_3195_11eb_9016_2981648ffe23row2_col3\" class=\"data row2 col3\" >0.9274</td>\n",
       "                        <td id=\"T_1b111eca_3195_11eb_9016_2981648ffe23row2_col4\" class=\"data row2 col4\" >0.9179</td>\n",
       "                        <td id=\"T_1b111eca_3195_11eb_9016_2981648ffe23row2_col5\" class=\"data row2 col5\" >0.8638</td>\n",
       "                        <td id=\"T_1b111eca_3195_11eb_9016_2981648ffe23row2_col6\" class=\"data row2 col6\" >0.8639</td>\n",
       "            </tr>\n",
       "            <tr>\n",
       "                        <th id=\"T_1b111eca_3195_11eb_9016_2981648ffe23level0_row3\" class=\"row_heading level0 row3\" >3</th>\n",
       "                        <td id=\"T_1b111eca_3195_11eb_9016_2981648ffe23row3_col0\" class=\"data row3 col0\" >0.9350</td>\n",
       "                        <td id=\"T_1b111eca_3195_11eb_9016_2981648ffe23row3_col1\" class=\"data row3 col1\" >0.9808</td>\n",
       "                        <td id=\"T_1b111eca_3195_11eb_9016_2981648ffe23row3_col2\" class=\"data row3 col2\" >0.9101</td>\n",
       "                        <td id=\"T_1b111eca_3195_11eb_9016_2981648ffe23row3_col3\" class=\"data row3 col3\" >0.9265</td>\n",
       "                        <td id=\"T_1b111eca_3195_11eb_9016_2981648ffe23row3_col4\" class=\"data row3 col4\" >0.9182</td>\n",
       "                        <td id=\"T_1b111eca_3195_11eb_9016_2981648ffe23row3_col5\" class=\"data row3 col5\" >0.8642</td>\n",
       "                        <td id=\"T_1b111eca_3195_11eb_9016_2981648ffe23row3_col6\" class=\"data row3 col6\" >0.8643</td>\n",
       "            </tr>\n",
       "            <tr>\n",
       "                        <th id=\"T_1b111eca_3195_11eb_9016_2981648ffe23level0_row4\" class=\"row_heading level0 row4\" >4</th>\n",
       "                        <td id=\"T_1b111eca_3195_11eb_9016_2981648ffe23row4_col0\" class=\"data row4 col0\" >0.9340</td>\n",
       "                        <td id=\"T_1b111eca_3195_11eb_9016_2981648ffe23row4_col1\" class=\"data row4 col1\" >0.9800</td>\n",
       "                        <td id=\"T_1b111eca_3195_11eb_9016_2981648ffe23row4_col2\" class=\"data row4 col2\" >0.9051</td>\n",
       "                        <td id=\"T_1b111eca_3195_11eb_9016_2981648ffe23row4_col3\" class=\"data row4 col3\" >0.9285</td>\n",
       "                        <td id=\"T_1b111eca_3195_11eb_9016_2981648ffe23row4_col4\" class=\"data row4 col4\" >0.9166</td>\n",
       "                        <td id=\"T_1b111eca_3195_11eb_9016_2981648ffe23row4_col5\" class=\"data row4 col5\" >0.8620</td>\n",
       "                        <td id=\"T_1b111eca_3195_11eb_9016_2981648ffe23row4_col6\" class=\"data row4 col6\" >0.8622</td>\n",
       "            </tr>\n",
       "            <tr>\n",
       "                        <th id=\"T_1b111eca_3195_11eb_9016_2981648ffe23level0_row5\" class=\"row_heading level0 row5\" >5</th>\n",
       "                        <td id=\"T_1b111eca_3195_11eb_9016_2981648ffe23row5_col0\" class=\"data row5 col0\" >0.9323</td>\n",
       "                        <td id=\"T_1b111eca_3195_11eb_9016_2981648ffe23row5_col1\" class=\"data row5 col1\" >0.9802</td>\n",
       "                        <td id=\"T_1b111eca_3195_11eb_9016_2981648ffe23row5_col2\" class=\"data row5 col2\" >0.9081</td>\n",
       "                        <td id=\"T_1b111eca_3195_11eb_9016_2981648ffe23row5_col3\" class=\"data row5 col3\" >0.9219</td>\n",
       "                        <td id=\"T_1b111eca_3195_11eb_9016_2981648ffe23row5_col4\" class=\"data row5 col4\" >0.9149</td>\n",
       "                        <td id=\"T_1b111eca_3195_11eb_9016_2981648ffe23row5_col5\" class=\"data row5 col5\" >0.8587</td>\n",
       "                        <td id=\"T_1b111eca_3195_11eb_9016_2981648ffe23row5_col6\" class=\"data row5 col6\" >0.8587</td>\n",
       "            </tr>\n",
       "            <tr>\n",
       "                        <th id=\"T_1b111eca_3195_11eb_9016_2981648ffe23level0_row6\" class=\"row_heading level0 row6\" >6</th>\n",
       "                        <td id=\"T_1b111eca_3195_11eb_9016_2981648ffe23row6_col0\" class=\"data row6 col0\" >0.9347</td>\n",
       "                        <td id=\"T_1b111eca_3195_11eb_9016_2981648ffe23row6_col1\" class=\"data row6 col1\" >0.9814</td>\n",
       "                        <td id=\"T_1b111eca_3195_11eb_9016_2981648ffe23row6_col2\" class=\"data row6 col2\" >0.9138</td>\n",
       "                        <td id=\"T_1b111eca_3195_11eb_9016_2981648ffe23row6_col3\" class=\"data row6 col3\" >0.9226</td>\n",
       "                        <td id=\"T_1b111eca_3195_11eb_9016_2981648ffe23row6_col4\" class=\"data row6 col4\" >0.9182</td>\n",
       "                        <td id=\"T_1b111eca_3195_11eb_9016_2981648ffe23row6_col5\" class=\"data row6 col5\" >0.8638</td>\n",
       "                        <td id=\"T_1b111eca_3195_11eb_9016_2981648ffe23row6_col6\" class=\"data row6 col6\" >0.8638</td>\n",
       "            </tr>\n",
       "            <tr>\n",
       "                        <th id=\"T_1b111eca_3195_11eb_9016_2981648ffe23level0_row7\" class=\"row_heading level0 row7\" >7</th>\n",
       "                        <td id=\"T_1b111eca_3195_11eb_9016_2981648ffe23row7_col0\" class=\"data row7 col0\" >0.9330</td>\n",
       "                        <td id=\"T_1b111eca_3195_11eb_9016_2981648ffe23row7_col1\" class=\"data row7 col1\" >0.9789</td>\n",
       "                        <td id=\"T_1b111eca_3195_11eb_9016_2981648ffe23row7_col2\" class=\"data row7 col2\" >0.9051</td>\n",
       "                        <td id=\"T_1b111eca_3195_11eb_9016_2981648ffe23row7_col3\" class=\"data row7 col3\" >0.9261</td>\n",
       "                        <td id=\"T_1b111eca_3195_11eb_9016_2981648ffe23row7_col4\" class=\"data row7 col4\" >0.9155</td>\n",
       "                        <td id=\"T_1b111eca_3195_11eb_9016_2981648ffe23row7_col5\" class=\"data row7 col5\" >0.8599</td>\n",
       "                        <td id=\"T_1b111eca_3195_11eb_9016_2981648ffe23row7_col6\" class=\"data row7 col6\" >0.8601</td>\n",
       "            </tr>\n",
       "            <tr>\n",
       "                        <th id=\"T_1b111eca_3195_11eb_9016_2981648ffe23level0_row8\" class=\"row_heading level0 row8\" >8</th>\n",
       "                        <td id=\"T_1b111eca_3195_11eb_9016_2981648ffe23row8_col0\" class=\"data row8 col0\" >0.9357</td>\n",
       "                        <td id=\"T_1b111eca_3195_11eb_9016_2981648ffe23row8_col1\" class=\"data row8 col1\" >0.9803</td>\n",
       "                        <td id=\"T_1b111eca_3195_11eb_9016_2981648ffe23row8_col2\" class=\"data row8 col2\" >0.9088</td>\n",
       "                        <td id=\"T_1b111eca_3195_11eb_9016_2981648ffe23row8_col3\" class=\"data row8 col3\" >0.9292</td>\n",
       "                        <td id=\"T_1b111eca_3195_11eb_9016_2981648ffe23row8_col4\" class=\"data row8 col4\" >0.9189</td>\n",
       "                        <td id=\"T_1b111eca_3195_11eb_9016_2981648ffe23row8_col5\" class=\"data row8 col5\" >0.8656</td>\n",
       "                        <td id=\"T_1b111eca_3195_11eb_9016_2981648ffe23row8_col6\" class=\"data row8 col6\" >0.8657</td>\n",
       "            </tr>\n",
       "            <tr>\n",
       "                        <th id=\"T_1b111eca_3195_11eb_9016_2981648ffe23level0_row9\" class=\"row_heading level0 row9\" >9</th>\n",
       "                        <td id=\"T_1b111eca_3195_11eb_9016_2981648ffe23row9_col0\" class=\"data row9 col0\" >0.9387</td>\n",
       "                        <td id=\"T_1b111eca_3195_11eb_9016_2981648ffe23row9_col1\" class=\"data row9 col1\" >0.9814</td>\n",
       "                        <td id=\"T_1b111eca_3195_11eb_9016_2981648ffe23row9_col2\" class=\"data row9 col2\" >0.9196</td>\n",
       "                        <td id=\"T_1b111eca_3195_11eb_9016_2981648ffe23row9_col3\" class=\"data row9 col3\" >0.9270</td>\n",
       "                        <td id=\"T_1b111eca_3195_11eb_9016_2981648ffe23row9_col4\" class=\"data row9 col4\" >0.9233</td>\n",
       "                        <td id=\"T_1b111eca_3195_11eb_9016_2981648ffe23row9_col5\" class=\"data row9 col5\" >0.8722</td>\n",
       "                        <td id=\"T_1b111eca_3195_11eb_9016_2981648ffe23row9_col6\" class=\"data row9 col6\" >0.8722</td>\n",
       "            </tr>\n",
       "            <tr>\n",
       "                        <th id=\"T_1b111eca_3195_11eb_9016_2981648ffe23level0_row10\" class=\"row_heading level0 row10\" >Mean</th>\n",
       "                        <td id=\"T_1b111eca_3195_11eb_9016_2981648ffe23row10_col0\" class=\"data row10 col0\" >0.9346</td>\n",
       "                        <td id=\"T_1b111eca_3195_11eb_9016_2981648ffe23row10_col1\" class=\"data row10 col1\" >0.9804</td>\n",
       "                        <td id=\"T_1b111eca_3195_11eb_9016_2981648ffe23row10_col2\" class=\"data row10 col2\" >0.9089</td>\n",
       "                        <td id=\"T_1b111eca_3195_11eb_9016_2981648ffe23row10_col3\" class=\"data row10 col3\" >0.9267</td>\n",
       "                        <td id=\"T_1b111eca_3195_11eb_9016_2981648ffe23row10_col4\" class=\"data row10 col4\" >0.9177</td>\n",
       "                        <td id=\"T_1b111eca_3195_11eb_9016_2981648ffe23row10_col5\" class=\"data row10 col5\" >0.8634</td>\n",
       "                        <td id=\"T_1b111eca_3195_11eb_9016_2981648ffe23row10_col6\" class=\"data row10 col6\" >0.8636</td>\n",
       "            </tr>\n",
       "            <tr>\n",
       "                        <th id=\"T_1b111eca_3195_11eb_9016_2981648ffe23level0_row11\" class=\"row_heading level0 row11\" >SD</th>\n",
       "                        <td id=\"T_1b111eca_3195_11eb_9016_2981648ffe23row11_col0\" class=\"data row11 col0\" >0.0017</td>\n",
       "                        <td id=\"T_1b111eca_3195_11eb_9016_2981648ffe23row11_col1\" class=\"data row11 col1\" >0.0007</td>\n",
       "                        <td id=\"T_1b111eca_3195_11eb_9016_2981648ffe23row11_col2\" class=\"data row11 col2\" >0.0046</td>\n",
       "                        <td id=\"T_1b111eca_3195_11eb_9016_2981648ffe23row11_col3\" class=\"data row11 col3\" >0.0026</td>\n",
       "                        <td id=\"T_1b111eca_3195_11eb_9016_2981648ffe23row11_col4\" class=\"data row11 col4\" >0.0022</td>\n",
       "                        <td id=\"T_1b111eca_3195_11eb_9016_2981648ffe23row11_col5\" class=\"data row11 col5\" >0.0035</td>\n",
       "                        <td id=\"T_1b111eca_3195_11eb_9016_2981648ffe23row11_col6\" class=\"data row11 col6\" >0.0035</td>\n",
       "            </tr>\n",
       "    </tbody></table>"
      ],
      "text/plain": [
       "<pandas.io.formats.style.Styler at 0x7f8981539700>"
      ]
     },
     "metadata": {},
     "output_type": "display_data"
    },
    {
     "name": "stdout",
     "output_type": "stream",
     "text": [
      "CPU times: user 2min 24s, sys: 4.2 s, total: 2min 29s\n",
      "Wall time: 3min 43s\n"
     ]
    }
   ],
   "source": [
    "%%time\n",
    "catboost = create_model('catboost')"
   ]
  },
  {
   "cell_type": "markdown",
   "metadata": {},
   "source": [
    "Here, we tune our catboost models. We optimize our catboost model on recall, as we are interested in minimizing false negatives. "
   ]
  },
  {
   "cell_type": "code",
   "execution_count": 32,
   "metadata": {},
   "outputs": [
    {
     "data": {
      "text/html": [
       "<style  type=\"text/css\" >\n",
       "    #T_0df11f78_3196_11eb_9016_2981648ffe23row10_col0 {\n",
       "            background:  yellow;\n",
       "        }    #T_0df11f78_3196_11eb_9016_2981648ffe23row10_col1 {\n",
       "            background:  yellow;\n",
       "        }    #T_0df11f78_3196_11eb_9016_2981648ffe23row10_col2 {\n",
       "            background:  yellow;\n",
       "        }    #T_0df11f78_3196_11eb_9016_2981648ffe23row10_col3 {\n",
       "            background:  yellow;\n",
       "        }    #T_0df11f78_3196_11eb_9016_2981648ffe23row10_col4 {\n",
       "            background:  yellow;\n",
       "        }    #T_0df11f78_3196_11eb_9016_2981648ffe23row10_col5 {\n",
       "            background:  yellow;\n",
       "        }    #T_0df11f78_3196_11eb_9016_2981648ffe23row10_col6 {\n",
       "            background:  yellow;\n",
       "        }</style><table id=\"T_0df11f78_3196_11eb_9016_2981648ffe23\" ><thead>    <tr>        <th class=\"blank level0\" ></th>        <th class=\"col_heading level0 col0\" >Accuracy</th>        <th class=\"col_heading level0 col1\" >AUC</th>        <th class=\"col_heading level0 col2\" >Recall</th>        <th class=\"col_heading level0 col3\" >Prec.</th>        <th class=\"col_heading level0 col4\" >F1</th>        <th class=\"col_heading level0 col5\" >Kappa</th>        <th class=\"col_heading level0 col6\" >MCC</th>    </tr></thead><tbody>\n",
       "                <tr>\n",
       "                        <th id=\"T_0df11f78_3196_11eb_9016_2981648ffe23level0_row0\" class=\"row_heading level0 row0\" >0</th>\n",
       "                        <td id=\"T_0df11f78_3196_11eb_9016_2981648ffe23row0_col0\" class=\"data row0 col0\" >0.9077</td>\n",
       "                        <td id=\"T_0df11f78_3196_11eb_9016_2981648ffe23row0_col1\" class=\"data row0 col1\" >0.9672</td>\n",
       "                        <td id=\"T_0df11f78_3196_11eb_9016_2981648ffe23row0_col2\" class=\"data row0 col2\" >0.8541</td>\n",
       "                        <td id=\"T_0df11f78_3196_11eb_9016_2981648ffe23row0_col3\" class=\"data row0 col3\" >0.9103</td>\n",
       "                        <td id=\"T_0df11f78_3196_11eb_9016_2981648ffe23row0_col4\" class=\"data row0 col4\" >0.8813</td>\n",
       "                        <td id=\"T_0df11f78_3196_11eb_9016_2981648ffe23row0_col5\" class=\"data row0 col5\" >0.8059</td>\n",
       "                        <td id=\"T_0df11f78_3196_11eb_9016_2981648ffe23row0_col6\" class=\"data row0 col6\" >0.8070</td>\n",
       "            </tr>\n",
       "            <tr>\n",
       "                        <th id=\"T_0df11f78_3196_11eb_9016_2981648ffe23level0_row1\" class=\"row_heading level0 row1\" >1</th>\n",
       "                        <td id=\"T_0df11f78_3196_11eb_9016_2981648ffe23row1_col0\" class=\"data row1 col0\" >0.9083</td>\n",
       "                        <td id=\"T_0df11f78_3196_11eb_9016_2981648ffe23row1_col1\" class=\"data row1 col1\" >0.9669</td>\n",
       "                        <td id=\"T_0df11f78_3196_11eb_9016_2981648ffe23row1_col2\" class=\"data row1 col2\" >0.8599</td>\n",
       "                        <td id=\"T_0df11f78_3196_11eb_9016_2981648ffe23row1_col3\" class=\"data row1 col3\" >0.9068</td>\n",
       "                        <td id=\"T_0df11f78_3196_11eb_9016_2981648ffe23row1_col4\" class=\"data row1 col4\" >0.8827</td>\n",
       "                        <td id=\"T_0df11f78_3196_11eb_9016_2981648ffe23row1_col5\" class=\"data row1 col5\" >0.8075</td>\n",
       "                        <td id=\"T_0df11f78_3196_11eb_9016_2981648ffe23row1_col6\" class=\"data row1 col6\" >0.8083</td>\n",
       "            </tr>\n",
       "            <tr>\n",
       "                        <th id=\"T_0df11f78_3196_11eb_9016_2981648ffe23level0_row2\" class=\"row_heading level0 row2\" >2</th>\n",
       "                        <td id=\"T_0df11f78_3196_11eb_9016_2981648ffe23row2_col0\" class=\"data row2 col0\" >0.9066</td>\n",
       "                        <td id=\"T_0df11f78_3196_11eb_9016_2981648ffe23row2_col1\" class=\"data row2 col1\" >0.9667</td>\n",
       "                        <td id=\"T_0df11f78_3196_11eb_9016_2981648ffe23row2_col2\" class=\"data row2 col2\" >0.8586</td>\n",
       "                        <td id=\"T_0df11f78_3196_11eb_9016_2981648ffe23row2_col3\" class=\"data row2 col3\" >0.9038</td>\n",
       "                        <td id=\"T_0df11f78_3196_11eb_9016_2981648ffe23row2_col4\" class=\"data row2 col4\" >0.8806</td>\n",
       "                        <td id=\"T_0df11f78_3196_11eb_9016_2981648ffe23row2_col5\" class=\"data row2 col5\" >0.8040</td>\n",
       "                        <td id=\"T_0df11f78_3196_11eb_9016_2981648ffe23row2_col6\" class=\"data row2 col6\" >0.8047</td>\n",
       "            </tr>\n",
       "            <tr>\n",
       "                        <th id=\"T_0df11f78_3196_11eb_9016_2981648ffe23level0_row3\" class=\"row_heading level0 row3\" >3</th>\n",
       "                        <td id=\"T_0df11f78_3196_11eb_9016_2981648ffe23row3_col0\" class=\"data row3 col0\" >0.9089</td>\n",
       "                        <td id=\"T_0df11f78_3196_11eb_9016_2981648ffe23row3_col1\" class=\"data row3 col1\" >0.9688</td>\n",
       "                        <td id=\"T_0df11f78_3196_11eb_9016_2981648ffe23row3_col2\" class=\"data row3 col2\" >0.8589</td>\n",
       "                        <td id=\"T_0df11f78_3196_11eb_9016_2981648ffe23row3_col3\" class=\"data row3 col3\" >0.9090</td>\n",
       "                        <td id=\"T_0df11f78_3196_11eb_9016_2981648ffe23row3_col4\" class=\"data row3 col4\" >0.8832</td>\n",
       "                        <td id=\"T_0df11f78_3196_11eb_9016_2981648ffe23row3_col5\" class=\"data row3 col5\" >0.8087</td>\n",
       "                        <td id=\"T_0df11f78_3196_11eb_9016_2981648ffe23row3_col6\" class=\"data row3 col6\" >0.8095</td>\n",
       "            </tr>\n",
       "            <tr>\n",
       "                        <th id=\"T_0df11f78_3196_11eb_9016_2981648ffe23level0_row4\" class=\"row_heading level0 row4\" >4</th>\n",
       "                        <td id=\"T_0df11f78_3196_11eb_9016_2981648ffe23row4_col0\" class=\"data row4 col0\" >0.9082</td>\n",
       "                        <td id=\"T_0df11f78_3196_11eb_9016_2981648ffe23row4_col1\" class=\"data row4 col1\" >0.9669</td>\n",
       "                        <td id=\"T_0df11f78_3196_11eb_9016_2981648ffe23row4_col2\" class=\"data row4 col2\" >0.8559</td>\n",
       "                        <td id=\"T_0df11f78_3196_11eb_9016_2981648ffe23row4_col3\" class=\"data row4 col3\" >0.9100</td>\n",
       "                        <td id=\"T_0df11f78_3196_11eb_9016_2981648ffe23row4_col4\" class=\"data row4 col4\" >0.8821</td>\n",
       "                        <td id=\"T_0df11f78_3196_11eb_9016_2981648ffe23row4_col5\" class=\"data row4 col5\" >0.8071</td>\n",
       "                        <td id=\"T_0df11f78_3196_11eb_9016_2981648ffe23row4_col6\" class=\"data row4 col6\" >0.8081</td>\n",
       "            </tr>\n",
       "            <tr>\n",
       "                        <th id=\"T_0df11f78_3196_11eb_9016_2981648ffe23level0_row5\" class=\"row_heading level0 row5\" >5</th>\n",
       "                        <td id=\"T_0df11f78_3196_11eb_9016_2981648ffe23row5_col0\" class=\"data row5 col0\" >0.9062</td>\n",
       "                        <td id=\"T_0df11f78_3196_11eb_9016_2981648ffe23row5_col1\" class=\"data row5 col1\" >0.9661</td>\n",
       "                        <td id=\"T_0df11f78_3196_11eb_9016_2981648ffe23row5_col2\" class=\"data row5 col2\" >0.8656</td>\n",
       "                        <td id=\"T_0df11f78_3196_11eb_9016_2981648ffe23row5_col3\" class=\"data row5 col3\" >0.8970</td>\n",
       "                        <td id=\"T_0df11f78_3196_11eb_9016_2981648ffe23row5_col4\" class=\"data row5 col4\" >0.8810</td>\n",
       "                        <td id=\"T_0df11f78_3196_11eb_9016_2981648ffe23row5_col5\" class=\"data row5 col5\" >0.8036</td>\n",
       "                        <td id=\"T_0df11f78_3196_11eb_9016_2981648ffe23row5_col6\" class=\"data row5 col6\" >0.8040</td>\n",
       "            </tr>\n",
       "            <tr>\n",
       "                        <th id=\"T_0df11f78_3196_11eb_9016_2981648ffe23level0_row6\" class=\"row_heading level0 row6\" >6</th>\n",
       "                        <td id=\"T_0df11f78_3196_11eb_9016_2981648ffe23row6_col0\" class=\"data row6 col0\" >0.9115</td>\n",
       "                        <td id=\"T_0df11f78_3196_11eb_9016_2981648ffe23row6_col1\" class=\"data row6 col1\" >0.9679</td>\n",
       "                        <td id=\"T_0df11f78_3196_11eb_9016_2981648ffe23row6_col2\" class=\"data row6 col2\" >0.8711</td>\n",
       "                        <td id=\"T_0df11f78_3196_11eb_9016_2981648ffe23row6_col3\" class=\"data row6 col3\" >0.9048</td>\n",
       "                        <td id=\"T_0df11f78_3196_11eb_9016_2981648ffe23row6_col4\" class=\"data row6 col4\" >0.8876</td>\n",
       "                        <td id=\"T_0df11f78_3196_11eb_9016_2981648ffe23row6_col5\" class=\"data row6 col5\" >0.8147</td>\n",
       "                        <td id=\"T_0df11f78_3196_11eb_9016_2981648ffe23row6_col6\" class=\"data row6 col6\" >0.8151</td>\n",
       "            </tr>\n",
       "            <tr>\n",
       "                        <th id=\"T_0df11f78_3196_11eb_9016_2981648ffe23level0_row7\" class=\"row_heading level0 row7\" >7</th>\n",
       "                        <td id=\"T_0df11f78_3196_11eb_9016_2981648ffe23row7_col0\" class=\"data row7 col0\" >0.9061</td>\n",
       "                        <td id=\"T_0df11f78_3196_11eb_9016_2981648ffe23row7_col1\" class=\"data row7 col1\" >0.9648</td>\n",
       "                        <td id=\"T_0df11f78_3196_11eb_9016_2981648ffe23row7_col2\" class=\"data row7 col2\" >0.8604</td>\n",
       "                        <td id=\"T_0df11f78_3196_11eb_9016_2981648ffe23row7_col3\" class=\"data row7 col3\" >0.9011</td>\n",
       "                        <td id=\"T_0df11f78_3196_11eb_9016_2981648ffe23row7_col4\" class=\"data row7 col4\" >0.8803</td>\n",
       "                        <td id=\"T_0df11f78_3196_11eb_9016_2981648ffe23row7_col5\" class=\"data row7 col5\" >0.8031</td>\n",
       "                        <td id=\"T_0df11f78_3196_11eb_9016_2981648ffe23row7_col6\" class=\"data row7 col6\" >0.8037</td>\n",
       "            </tr>\n",
       "            <tr>\n",
       "                        <th id=\"T_0df11f78_3196_11eb_9016_2981648ffe23level0_row8\" class=\"row_heading level0 row8\" >8</th>\n",
       "                        <td id=\"T_0df11f78_3196_11eb_9016_2981648ffe23row8_col0\" class=\"data row8 col0\" >0.9065</td>\n",
       "                        <td id=\"T_0df11f78_3196_11eb_9016_2981648ffe23row8_col1\" class=\"data row8 col1\" >0.9663</td>\n",
       "                        <td id=\"T_0df11f78_3196_11eb_9016_2981648ffe23row8_col2\" class=\"data row8 col2\" >0.8621</td>\n",
       "                        <td id=\"T_0df11f78_3196_11eb_9016_2981648ffe23row8_col3\" class=\"data row8 col3\" >0.9006</td>\n",
       "                        <td id=\"T_0df11f78_3196_11eb_9016_2981648ffe23row8_col4\" class=\"data row8 col4\" >0.8809</td>\n",
       "                        <td id=\"T_0df11f78_3196_11eb_9016_2981648ffe23row8_col5\" class=\"data row8 col5\" >0.8040</td>\n",
       "                        <td id=\"T_0df11f78_3196_11eb_9016_2981648ffe23row8_col6\" class=\"data row8 col6\" >0.8045</td>\n",
       "            </tr>\n",
       "            <tr>\n",
       "                        <th id=\"T_0df11f78_3196_11eb_9016_2981648ffe23level0_row9\" class=\"row_heading level0 row9\" >9</th>\n",
       "                        <td id=\"T_0df11f78_3196_11eb_9016_2981648ffe23row9_col0\" class=\"data row9 col0\" >0.9097</td>\n",
       "                        <td id=\"T_0df11f78_3196_11eb_9016_2981648ffe23row9_col1\" class=\"data row9 col1\" >0.9685</td>\n",
       "                        <td id=\"T_0df11f78_3196_11eb_9016_2981648ffe23row9_col2\" class=\"data row9 col2\" >0.8644</td>\n",
       "                        <td id=\"T_0df11f78_3196_11eb_9016_2981648ffe23row9_col3\" class=\"data row9 col3\" >0.9062</td>\n",
       "                        <td id=\"T_0df11f78_3196_11eb_9016_2981648ffe23row9_col4\" class=\"data row9 col4\" >0.8848</td>\n",
       "                        <td id=\"T_0df11f78_3196_11eb_9016_2981648ffe23row9_col5\" class=\"data row9 col5\" >0.8106</td>\n",
       "                        <td id=\"T_0df11f78_3196_11eb_9016_2981648ffe23row9_col6\" class=\"data row9 col6\" >0.8112</td>\n",
       "            </tr>\n",
       "            <tr>\n",
       "                        <th id=\"T_0df11f78_3196_11eb_9016_2981648ffe23level0_row10\" class=\"row_heading level0 row10\" >Mean</th>\n",
       "                        <td id=\"T_0df11f78_3196_11eb_9016_2981648ffe23row10_col0\" class=\"data row10 col0\" >0.9080</td>\n",
       "                        <td id=\"T_0df11f78_3196_11eb_9016_2981648ffe23row10_col1\" class=\"data row10 col1\" >0.9670</td>\n",
       "                        <td id=\"T_0df11f78_3196_11eb_9016_2981648ffe23row10_col2\" class=\"data row10 col2\" >0.8611</td>\n",
       "                        <td id=\"T_0df11f78_3196_11eb_9016_2981648ffe23row10_col3\" class=\"data row10 col3\" >0.9050</td>\n",
       "                        <td id=\"T_0df11f78_3196_11eb_9016_2981648ffe23row10_col4\" class=\"data row10 col4\" >0.8825</td>\n",
       "                        <td id=\"T_0df11f78_3196_11eb_9016_2981648ffe23row10_col5\" class=\"data row10 col5\" >0.8069</td>\n",
       "                        <td id=\"T_0df11f78_3196_11eb_9016_2981648ffe23row10_col6\" class=\"data row10 col6\" >0.8076</td>\n",
       "            </tr>\n",
       "            <tr>\n",
       "                        <th id=\"T_0df11f78_3196_11eb_9016_2981648ffe23level0_row11\" class=\"row_heading level0 row11\" >SD</th>\n",
       "                        <td id=\"T_0df11f78_3196_11eb_9016_2981648ffe23row11_col0\" class=\"data row11 col0\" >0.0017</td>\n",
       "                        <td id=\"T_0df11f78_3196_11eb_9016_2981648ffe23row11_col1\" class=\"data row11 col1\" >0.0011</td>\n",
       "                        <td id=\"T_0df11f78_3196_11eb_9016_2981648ffe23row11_col2\" class=\"data row11 col2\" >0.0047</td>\n",
       "                        <td id=\"T_0df11f78_3196_11eb_9016_2981648ffe23row11_col3\" class=\"data row11 col3\" >0.0042</td>\n",
       "                        <td id=\"T_0df11f78_3196_11eb_9016_2981648ffe23row11_col4\" class=\"data row11 col4\" >0.0022</td>\n",
       "                        <td id=\"T_0df11f78_3196_11eb_9016_2981648ffe23row11_col5\" class=\"data row11 col5\" >0.0035</td>\n",
       "                        <td id=\"T_0df11f78_3196_11eb_9016_2981648ffe23row11_col6\" class=\"data row11 col6\" >0.0035</td>\n",
       "            </tr>\n",
       "    </tbody></table>"
      ],
      "text/plain": [
       "<pandas.io.formats.style.Styler at 0x7f894d57d4f0>"
      ]
     },
     "metadata": {},
     "output_type": "display_data"
    },
    {
     "name": "stdout",
     "output_type": "stream",
     "text": [
      "CPU times: user 47.9 s, sys: 1.36 s, total: 49.3 s\n",
      "Wall time: 6min 47s\n"
     ]
    }
   ],
   "source": [
    "%%time\n",
    "tuned_catBoost = tune_model(catboost, optimize = 'Recall')"
   ]
  },
  {
   "cell_type": "markdown",
   "metadata": {},
   "source": [
    "Below, you can see a confusion matrix for the tuned CatBoost model. "
   ]
  },
  {
   "cell_type": "code",
   "execution_count": 33,
   "metadata": {},
   "outputs": [
    {
     "data": {
      "image/png": "[encoded data removed]",
      "text/plain": [
       "<Figure size 576x396 with 1 Axes>"
      ]
     },
     "metadata": {},
     "output_type": "display_data"
    }
   ],
   "source": [
    "plot_model(tuned_catBoost, plot = 'confusion_matrix')"
   ]
  },
  {
   "cell_type": "markdown",
   "metadata": {},
   "source": [
    "The cost of the catboost model fit using F1 is \\\\$1186590, which is less both of the random forest models. The cost per prediction of this model is \\\\$27.75."
   ]
  },
  {
   "cell_type": "code",
   "execution_count": 35,
   "metadata": {},
   "outputs": [
    {
     "name": "stdout",
     "output_type": "stream",
     "text": [
      "the cost assiciate to the tuned model is $1186590\n"
     ]
    }
   ],
   "source": [
    "print(\"the cost assiciate to the tuned model is ${}\".format(cost(2343,1509))) #cost(FN, FP):\n"
   ]
  },
  {
   "cell_type": "markdown",
   "metadata": {},
   "source": [
    "Like our random forest model, we decided to fit the catboost model by optimizing using F1 score. Below, we create the model again. "
   ]
  },
  {
   "cell_type": "code",
   "execution_count": null,
   "metadata": {
    "colab": {
     "base_uri": "https://localhost:8080/",
     "height": 438,
     "referenced_widgets": [
      "f068a52a77a24b28bf9acf541b63eda0",
      "456b1c130123463c827ccd56cb0cfe69",
      "17dbe1358a5e46eb98d9249e92a7b38a"
     ]
    },
    "id": "1BcWQ74O-9f6",
    "outputId": "9ed67222-9fa0-402b-c2fb-730ef13350db"
   },
   "outputs": [
    {
     "data": {
      "text/html": [
       "<div>\n",
       "<style scoped>\n",
       "    .dataframe tbody tr th:only-of-type {\n",
       "        vertical-align: middle;\n",
       "    }\n",
       "\n",
       "    .dataframe tbody tr th {\n",
       "        vertical-align: top;\n",
       "    }\n",
       "\n",
       "    .dataframe thead th {\n",
       "        text-align: right;\n",
       "    }\n",
       "</style>\n",
       "<table border=\"1\" class=\"dataframe\">\n",
       "  <thead>\n",
       "    <tr style=\"text-align: right;\">\n",
       "      <th></th>\n",
       "      <th>Accuracy</th>\n",
       "      <th>AUC</th>\n",
       "      <th>Recall</th>\n",
       "      <th>Prec.</th>\n",
       "      <th>F1</th>\n",
       "      <th>Kappa</th>\n",
       "      <th>MCC</th>\n",
       "    </tr>\n",
       "  </thead>\n",
       "  <tbody>\n",
       "    <tr>\n",
       "      <th>0</th>\n",
       "      <td>0.9341</td>\n",
       "      <td>0.9800</td>\n",
       "      <td>0.9031</td>\n",
       "      <td>0.9305</td>\n",
       "      <td>0.9166</td>\n",
       "      <td>0.8621</td>\n",
       "      <td>0.8624</td>\n",
       "    </tr>\n",
       "    <tr>\n",
       "      <th>1</th>\n",
       "      <td>0.9338</td>\n",
       "      <td>0.9803</td>\n",
       "      <td>0.9063</td>\n",
       "      <td>0.9269</td>\n",
       "      <td>0.9165</td>\n",
       "      <td>0.8616</td>\n",
       "      <td>0.8618</td>\n",
       "    </tr>\n",
       "    <tr>\n",
       "      <th>2</th>\n",
       "      <td>0.9377</td>\n",
       "      <td>0.9807</td>\n",
       "      <td>0.9111</td>\n",
       "      <td>0.9320</td>\n",
       "      <td>0.9214</td>\n",
       "      <td>0.8698</td>\n",
       "      <td>0.8699</td>\n",
       "    </tr>\n",
       "    <tr>\n",
       "      <th>3</th>\n",
       "      <td>0.9371</td>\n",
       "      <td>0.9808</td>\n",
       "      <td>0.9123</td>\n",
       "      <td>0.9295</td>\n",
       "      <td>0.9208</td>\n",
       "      <td>0.8686</td>\n",
       "      <td>0.8687</td>\n",
       "    </tr>\n",
       "    <tr>\n",
       "      <th>4</th>\n",
       "      <td>0.9354</td>\n",
       "      <td>0.9806</td>\n",
       "      <td>0.9093</td>\n",
       "      <td>0.9281</td>\n",
       "      <td>0.9186</td>\n",
       "      <td>0.8650</td>\n",
       "      <td>0.8651</td>\n",
       "    </tr>\n",
       "    <tr>\n",
       "      <th>5</th>\n",
       "      <td>0.9331</td>\n",
       "      <td>0.9799</td>\n",
       "      <td>0.9096</td>\n",
       "      <td>0.9225</td>\n",
       "      <td>0.9160</td>\n",
       "      <td>0.8603</td>\n",
       "      <td>0.8604</td>\n",
       "    </tr>\n",
       "    <tr>\n",
       "      <th>6</th>\n",
       "      <td>0.9359</td>\n",
       "      <td>0.9815</td>\n",
       "      <td>0.9166</td>\n",
       "      <td>0.9230</td>\n",
       "      <td>0.9198</td>\n",
       "      <td>0.8664</td>\n",
       "      <td>0.8664</td>\n",
       "    </tr>\n",
       "    <tr>\n",
       "      <th>7</th>\n",
       "      <td>0.9335</td>\n",
       "      <td>0.9788</td>\n",
       "      <td>0.9046</td>\n",
       "      <td>0.9277</td>\n",
       "      <td>0.9160</td>\n",
       "      <td>0.8609</td>\n",
       "      <td>0.8611</td>\n",
       "    </tr>\n",
       "    <tr>\n",
       "      <th>8</th>\n",
       "      <td>0.9354</td>\n",
       "      <td>0.9806</td>\n",
       "      <td>0.9096</td>\n",
       "      <td>0.9279</td>\n",
       "      <td>0.9186</td>\n",
       "      <td>0.8650</td>\n",
       "      <td>0.8651</td>\n",
       "    </tr>\n",
       "    <tr>\n",
       "      <th>9</th>\n",
       "      <td>0.9381</td>\n",
       "      <td>0.9808</td>\n",
       "      <td>0.9193</td>\n",
       "      <td>0.9258</td>\n",
       "      <td>0.9225</td>\n",
       "      <td>0.8709</td>\n",
       "      <td>0.8710</td>\n",
       "    </tr>\n",
       "    <tr>\n",
       "      <th>Mean</th>\n",
       "      <td>0.9354</td>\n",
       "      <td>0.9804</td>\n",
       "      <td>0.9102</td>\n",
       "      <td>0.9274</td>\n",
       "      <td>0.9187</td>\n",
       "      <td>0.8651</td>\n",
       "      <td>0.8652</td>\n",
       "    </tr>\n",
       "    <tr>\n",
       "      <th>SD</th>\n",
       "      <td>0.0017</td>\n",
       "      <td>0.0007</td>\n",
       "      <td>0.0048</td>\n",
       "      <td>0.0029</td>\n",
       "      <td>0.0023</td>\n",
       "      <td>0.0036</td>\n",
       "      <td>0.0036</td>\n",
       "    </tr>\n",
       "  </tbody>\n",
       "</table>\n",
       "</div>"
      ],
      "text/plain": [
       "      Accuracy     AUC  Recall   Prec.      F1   Kappa     MCC\n",
       "0       0.9341  0.9800  0.9031  0.9305  0.9166  0.8621  0.8624\n",
       "1       0.9338  0.9803  0.9063  0.9269  0.9165  0.8616  0.8618\n",
       "2       0.9377  0.9807  0.9111  0.9320  0.9214  0.8698  0.8699\n",
       "3       0.9371  0.9808  0.9123  0.9295  0.9208  0.8686  0.8687\n",
       "4       0.9354  0.9806  0.9093  0.9281  0.9186  0.8650  0.8651\n",
       "5       0.9331  0.9799  0.9096  0.9225  0.9160  0.8603  0.8604\n",
       "6       0.9359  0.9815  0.9166  0.9230  0.9198  0.8664  0.8664\n",
       "7       0.9335  0.9788  0.9046  0.9277  0.9160  0.8609  0.8611\n",
       "8       0.9354  0.9806  0.9096  0.9279  0.9186  0.8650  0.8651\n",
       "9       0.9381  0.9808  0.9193  0.9258  0.9225  0.8709  0.8710\n",
       "Mean    0.9354  0.9804  0.9102  0.9274  0.9187  0.8651  0.8652\n",
       "SD      0.0017  0.0007  0.0048  0.0029  0.0023  0.0036  0.0036"
      ]
     },
     "metadata": {
      "tags": []
     },
     "output_type": "display_data"
    },
    {
     "name": "stdout",
     "output_type": "stream",
     "text": [
      "time: 5min 14s\n"
     ]
    }
   ],
   "source": [
    "catboost = create_model('catboost')"
   ]
  },
  {
   "cell_type": "markdown",
   "metadata": {},
   "source": [
    "Here, we tune the model using F1 score. There is not evidence of overfitting. "
   ]
  },
  {
   "cell_type": "code",
   "execution_count": null,
   "metadata": {
    "colab": {
     "base_uri": "https://localhost:8080/",
     "height": 438,
     "referenced_widgets": [
      "dd8a245bc172479aa69e3843dccfac81",
      "285747aaa8c941c4ada148b472b57335",
      "5b8605f39b994fa1adf52483b7d7e860"
     ]
    },
    "id": "zhwxxkIG-9f7",
    "outputId": "48320a89-321e-4d41-c855-7f48f1e91495"
   },
   "outputs": [
    {
     "data": {
      "text/html": [
       "<div>\n",
       "<style scoped>\n",
       "    .dataframe tbody tr th:only-of-type {\n",
       "        vertical-align: middle;\n",
       "    }\n",
       "\n",
       "    .dataframe tbody tr th {\n",
       "        vertical-align: top;\n",
       "    }\n",
       "\n",
       "    .dataframe thead th {\n",
       "        text-align: right;\n",
       "    }\n",
       "</style>\n",
       "<table border=\"1\" class=\"dataframe\">\n",
       "  <thead>\n",
       "    <tr style=\"text-align: right;\">\n",
       "      <th></th>\n",
       "      <th>Accuracy</th>\n",
       "      <th>AUC</th>\n",
       "      <th>Recall</th>\n",
       "      <th>Prec.</th>\n",
       "      <th>F1</th>\n",
       "      <th>Kappa</th>\n",
       "      <th>MCC</th>\n",
       "    </tr>\n",
       "  </thead>\n",
       "  <tbody>\n",
       "    <tr>\n",
       "      <th>0</th>\n",
       "      <td>0.9070</td>\n",
       "      <td>0.9669</td>\n",
       "      <td>0.8541</td>\n",
       "      <td>0.9086</td>\n",
       "      <td>0.8805</td>\n",
       "      <td>0.8045</td>\n",
       "      <td>0.8056</td>\n",
       "    </tr>\n",
       "    <tr>\n",
       "      <th>1</th>\n",
       "      <td>0.9087</td>\n",
       "      <td>0.9670</td>\n",
       "      <td>0.8631</td>\n",
       "      <td>0.9049</td>\n",
       "      <td>0.8835</td>\n",
       "      <td>0.8085</td>\n",
       "      <td>0.8092</td>\n",
       "    </tr>\n",
       "    <tr>\n",
       "      <th>2</th>\n",
       "      <td>0.9063</td>\n",
       "      <td>0.9666</td>\n",
       "      <td>0.8591</td>\n",
       "      <td>0.9027</td>\n",
       "      <td>0.8804</td>\n",
       "      <td>0.8034</td>\n",
       "      <td>0.8041</td>\n",
       "    </tr>\n",
       "    <tr>\n",
       "      <th>3</th>\n",
       "      <td>0.9084</td>\n",
       "      <td>0.9685</td>\n",
       "      <td>0.8596</td>\n",
       "      <td>0.9072</td>\n",
       "      <td>0.8828</td>\n",
       "      <td>0.8077</td>\n",
       "      <td>0.8085</td>\n",
       "    </tr>\n",
       "    <tr>\n",
       "      <th>4</th>\n",
       "      <td>0.9071</td>\n",
       "      <td>0.9670</td>\n",
       "      <td>0.8539</td>\n",
       "      <td>0.9090</td>\n",
       "      <td>0.8806</td>\n",
       "      <td>0.8047</td>\n",
       "      <td>0.8058</td>\n",
       "    </tr>\n",
       "    <tr>\n",
       "      <th>5</th>\n",
       "      <td>0.9068</td>\n",
       "      <td>0.9659</td>\n",
       "      <td>0.8634</td>\n",
       "      <td>0.9002</td>\n",
       "      <td>0.8814</td>\n",
       "      <td>0.8047</td>\n",
       "      <td>0.8052</td>\n",
       "    </tr>\n",
       "    <tr>\n",
       "      <th>6</th>\n",
       "      <td>0.9089</td>\n",
       "      <td>0.9676</td>\n",
       "      <td>0.8686</td>\n",
       "      <td>0.9008</td>\n",
       "      <td>0.8844</td>\n",
       "      <td>0.8093</td>\n",
       "      <td>0.8096</td>\n",
       "    </tr>\n",
       "    <tr>\n",
       "      <th>7</th>\n",
       "      <td>0.9062</td>\n",
       "      <td>0.9649</td>\n",
       "      <td>0.8586</td>\n",
       "      <td>0.9028</td>\n",
       "      <td>0.8802</td>\n",
       "      <td>0.8032</td>\n",
       "      <td>0.8039</td>\n",
       "    </tr>\n",
       "    <tr>\n",
       "      <th>8</th>\n",
       "      <td>0.9079</td>\n",
       "      <td>0.9668</td>\n",
       "      <td>0.8601</td>\n",
       "      <td>0.9056</td>\n",
       "      <td>0.8823</td>\n",
       "      <td>0.8067</td>\n",
       "      <td>0.8074</td>\n",
       "    </tr>\n",
       "    <tr>\n",
       "      <th>9</th>\n",
       "      <td>0.9096</td>\n",
       "      <td>0.9687</td>\n",
       "      <td>0.8631</td>\n",
       "      <td>0.9071</td>\n",
       "      <td>0.8845</td>\n",
       "      <td>0.8103</td>\n",
       "      <td>0.8110</td>\n",
       "    </tr>\n",
       "    <tr>\n",
       "      <th>Mean</th>\n",
       "      <td>0.9077</td>\n",
       "      <td>0.9670</td>\n",
       "      <td>0.8604</td>\n",
       "      <td>0.9049</td>\n",
       "      <td>0.8821</td>\n",
       "      <td>0.8063</td>\n",
       "      <td>0.8070</td>\n",
       "    </tr>\n",
       "    <tr>\n",
       "      <th>SD</th>\n",
       "      <td>0.0011</td>\n",
       "      <td>0.0011</td>\n",
       "      <td>0.0042</td>\n",
       "      <td>0.0030</td>\n",
       "      <td>0.0016</td>\n",
       "      <td>0.0024</td>\n",
       "      <td>0.0024</td>\n",
       "    </tr>\n",
       "  </tbody>\n",
       "</table>\n",
       "</div>"
      ],
      "text/plain": [
       "      Accuracy     AUC  Recall   Prec.      F1   Kappa     MCC\n",
       "0       0.9070  0.9669  0.8541  0.9086  0.8805  0.8045  0.8056\n",
       "1       0.9087  0.9670  0.8631  0.9049  0.8835  0.8085  0.8092\n",
       "2       0.9063  0.9666  0.8591  0.9027  0.8804  0.8034  0.8041\n",
       "3       0.9084  0.9685  0.8596  0.9072  0.8828  0.8077  0.8085\n",
       "4       0.9071  0.9670  0.8539  0.9090  0.8806  0.8047  0.8058\n",
       "5       0.9068  0.9659  0.8634  0.9002  0.8814  0.8047  0.8052\n",
       "6       0.9089  0.9676  0.8686  0.9008  0.8844  0.8093  0.8096\n",
       "7       0.9062  0.9649  0.8586  0.9028  0.8802  0.8032  0.8039\n",
       "8       0.9079  0.9668  0.8601  0.9056  0.8823  0.8067  0.8074\n",
       "9       0.9096  0.9687  0.8631  0.9071  0.8845  0.8103  0.8110\n",
       "Mean    0.9077  0.9670  0.8604  0.9049  0.8821  0.8063  0.8070\n",
       "SD      0.0011  0.0011  0.0042  0.0030  0.0016  0.0024  0.0024"
      ]
     },
     "metadata": {
      "tags": []
     },
     "output_type": "display_data"
    },
    {
     "name": "stdout",
     "output_type": "stream",
     "text": [
      "time: 4min 15s\n"
     ]
    }
   ],
   "source": [
    "tuned_catboost_f1 = tune_model(catboost, optimize = 'f1') "
   ]
  },
  {
   "cell_type": "markdown",
   "metadata": {},
   "source": [
    "Below, you can see the confusion matrix of the catboost model. "
   ]
  },
  {
   "cell_type": "code",
   "execution_count": null,
   "metadata": {
    "colab": {
     "base_uri": "https://localhost:8080/",
     "height": 418
    },
    "id": "wwiTApPK-9f7",
    "outputId": "d06067f2-8d06-47a7-fe90-3566568ee675"
   },
   "outputs": [
    {
     "data": {
      "image/png": "[encoded data removed]",
      "text/plain": [
       "<Figure size 576x396 with 1 Axes>"
      ]
     },
     "metadata": {
      "tags": []
     },
     "output_type": "display_data"
    },
    {
     "name": "stdout",
     "output_type": "stream",
     "text": [
      "time: 493 ms\n"
     ]
    }
   ],
   "source": [
    "plot_model(tuned_catboost_f1, plot = 'confusion_matrix')"
   ]
  },
  {
   "cell_type": "markdown",
   "metadata": {},
   "source": [
    "The cost of the catboost model fit using F1 is \\\\$1194090, which is less than the random forest model but more than the catboost model fit using recall. The cost per prediction of this model is \\\\$27.92. Both CatBoost models give fairly similar cost per predictions."
   ]
  },
  {
   "cell_type": "code",
   "execution_count": null,
   "metadata": {
    "colab": {
     "base_uri": "https://localhost:8080/"
    },
    "id": "ZP6C7e_q-9f8",
    "outputId": "5f1c4924-5871-482c-ed0a-5e1d251ea2b7"
   },
   "outputs": [
    {
     "name": "stdout",
     "output_type": "stream",
     "text": [
      "the cost assiciate to the tuned model is $1194090\n",
      "time: 972 µs\n"
     ]
    }
   ],
   "source": [
    "print(\"the cost assiciate to the tuned model is ${}\".format(cost(2357,1559))) #cost(FN, FP):\n"
   ]
  },
  {
   "cell_type": "markdown",
   "metadata": {
    "id": "3XCPhojrHB1Y"
   },
   "source": [
    "### 3. Logistic Regression"
   ]
  },
  {
   "cell_type": "markdown",
   "metadata": {
    "id": "oQ9mnFrPHB1Y"
   },
   "source": [
    "Here, we create our linear regression model."
   ]
  },
  {
   "cell_type": "code",
   "execution_count": null,
   "metadata": {
    "colab": {
     "base_uri": "https://localhost:8080/",
     "height": 438,
     "referenced_widgets": [
      "05a6ba6c201b42f29ad73bb3bea5c88d",
      "ff8e30830796488bbca4244c6ff659f0",
      "ac18725b6f564a3a823f5703580665fa"
     ]
    },
    "id": "A4s9VnhGHB1Y",
    "outputId": "227332a6-a18a-4880-c1b5-f8c41d84061f"
   },
   "outputs": [
    {
     "data": {
      "text/html": [
       "<div>\n",
       "<style scoped>\n",
       "    .dataframe tbody tr th:only-of-type {\n",
       "        vertical-align: middle;\n",
       "    }\n",
       "\n",
       "    .dataframe tbody tr th {\n",
       "        vertical-align: top;\n",
       "    }\n",
       "\n",
       "    .dataframe thead th {\n",
       "        text-align: right;\n",
       "    }\n",
       "</style>\n",
       "<table border=\"1\" class=\"dataframe\">\n",
       "  <thead>\n",
       "    <tr style=\"text-align: right;\">\n",
       "      <th></th>\n",
       "      <th>Accuracy</th>\n",
       "      <th>AUC</th>\n",
       "      <th>Recall</th>\n",
       "      <th>Prec.</th>\n",
       "      <th>F1</th>\n",
       "      <th>Kappa</th>\n",
       "      <th>MCC</th>\n",
       "    </tr>\n",
       "  </thead>\n",
       "  <tbody>\n",
       "    <tr>\n",
       "      <th>0</th>\n",
       "      <td>0.6988</td>\n",
       "      <td>0.7425</td>\n",
       "      <td>0.5417</td>\n",
       "      <td>0.6494</td>\n",
       "      <td>0.5907</td>\n",
       "      <td>0.3554</td>\n",
       "      <td>0.3591</td>\n",
       "    </tr>\n",
       "    <tr>\n",
       "      <th>1</th>\n",
       "      <td>0.7056</td>\n",
       "      <td>0.7518</td>\n",
       "      <td>0.5669</td>\n",
       "      <td>0.6534</td>\n",
       "      <td>0.6071</td>\n",
       "      <td>0.3736</td>\n",
       "      <td>0.3760</td>\n",
       "    </tr>\n",
       "    <tr>\n",
       "      <th>2</th>\n",
       "      <td>0.6965</td>\n",
       "      <td>0.7379</td>\n",
       "      <td>0.5415</td>\n",
       "      <td>0.6450</td>\n",
       "      <td>0.5887</td>\n",
       "      <td>0.3511</td>\n",
       "      <td>0.3545</td>\n",
       "    </tr>\n",
       "    <tr>\n",
       "      <th>3</th>\n",
       "      <td>0.7038</td>\n",
       "      <td>0.7453</td>\n",
       "      <td>0.5433</td>\n",
       "      <td>0.6585</td>\n",
       "      <td>0.5954</td>\n",
       "      <td>0.3651</td>\n",
       "      <td>0.3693</td>\n",
       "    </tr>\n",
       "    <tr>\n",
       "      <th>4</th>\n",
       "      <td>0.6930</td>\n",
       "      <td>0.7372</td>\n",
       "      <td>0.5346</td>\n",
       "      <td>0.6405</td>\n",
       "      <td>0.5828</td>\n",
       "      <td>0.3430</td>\n",
       "      <td>0.3465</td>\n",
       "    </tr>\n",
       "    <tr>\n",
       "      <th>5</th>\n",
       "      <td>0.6953</td>\n",
       "      <td>0.7279</td>\n",
       "      <td>0.5376</td>\n",
       "      <td>0.6439</td>\n",
       "      <td>0.5860</td>\n",
       "      <td>0.3480</td>\n",
       "      <td>0.3515</td>\n",
       "    </tr>\n",
       "    <tr>\n",
       "      <th>6</th>\n",
       "      <td>0.7053</td>\n",
       "      <td>0.7573</td>\n",
       "      <td>0.5593</td>\n",
       "      <td>0.6554</td>\n",
       "      <td>0.6036</td>\n",
       "      <td>0.3714</td>\n",
       "      <td>0.3743</td>\n",
       "    </tr>\n",
       "    <tr>\n",
       "      <th>7</th>\n",
       "      <td>0.6924</td>\n",
       "      <td>0.7415</td>\n",
       "      <td>0.5481</td>\n",
       "      <td>0.6352</td>\n",
       "      <td>0.5884</td>\n",
       "      <td>0.3450</td>\n",
       "      <td>0.3474</td>\n",
       "    </tr>\n",
       "    <tr>\n",
       "      <th>8</th>\n",
       "      <td>0.6951</td>\n",
       "      <td>0.7396</td>\n",
       "      <td>0.5463</td>\n",
       "      <td>0.6408</td>\n",
       "      <td>0.5898</td>\n",
       "      <td>0.3497</td>\n",
       "      <td>0.3525</td>\n",
       "    </tr>\n",
       "    <tr>\n",
       "      <th>9</th>\n",
       "      <td>0.6977</td>\n",
       "      <td>0.7425</td>\n",
       "      <td>0.5533</td>\n",
       "      <td>0.6433</td>\n",
       "      <td>0.5950</td>\n",
       "      <td>0.3560</td>\n",
       "      <td>0.3586</td>\n",
       "    </tr>\n",
       "    <tr>\n",
       "      <th>Mean</th>\n",
       "      <td>0.6983</td>\n",
       "      <td>0.7424</td>\n",
       "      <td>0.5473</td>\n",
       "      <td>0.6466</td>\n",
       "      <td>0.5927</td>\n",
       "      <td>0.3558</td>\n",
       "      <td>0.3590</td>\n",
       "    </tr>\n",
       "    <tr>\n",
       "      <th>SD</th>\n",
       "      <td>0.0047</td>\n",
       "      <td>0.0077</td>\n",
       "      <td>0.0095</td>\n",
       "      <td>0.0070</td>\n",
       "      <td>0.0073</td>\n",
       "      <td>0.0102</td>\n",
       "      <td>0.0102</td>\n",
       "    </tr>\n",
       "  </tbody>\n",
       "</table>\n",
       "</div>"
      ],
      "text/plain": [
       "      Accuracy     AUC  Recall   Prec.      F1   Kappa     MCC\n",
       "0       0.6988  0.7425  0.5417  0.6494  0.5907  0.3554  0.3591\n",
       "1       0.7056  0.7518  0.5669  0.6534  0.6071  0.3736  0.3760\n",
       "2       0.6965  0.7379  0.5415  0.6450  0.5887  0.3511  0.3545\n",
       "3       0.7038  0.7453  0.5433  0.6585  0.5954  0.3651  0.3693\n",
       "4       0.6930  0.7372  0.5346  0.6405  0.5828  0.3430  0.3465\n",
       "5       0.6953  0.7279  0.5376  0.6439  0.5860  0.3480  0.3515\n",
       "6       0.7053  0.7573  0.5593  0.6554  0.6036  0.3714  0.3743\n",
       "7       0.6924  0.7415  0.5481  0.6352  0.5884  0.3450  0.3474\n",
       "8       0.6951  0.7396  0.5463  0.6408  0.5898  0.3497  0.3525\n",
       "9       0.6977  0.7425  0.5533  0.6433  0.5950  0.3560  0.3586\n",
       "Mean    0.6983  0.7424  0.5473  0.6466  0.5927  0.3558  0.3590\n",
       "SD      0.0047  0.0077  0.0095  0.0070  0.0073  0.0102  0.0102"
      ]
     },
     "metadata": {
      "tags": []
     },
     "output_type": "display_data"
    },
    {
     "name": "stdout",
     "output_type": "stream",
     "text": [
      "time: 13.7 s\n"
     ]
    }
   ],
   "source": [
    "lr = create_model('lr')"
   ]
  },
  {
   "cell_type": "markdown",
   "metadata": {
    "id": "HHfr9iy8HB1Z"
   },
   "source": [
    "Again, we tune our model using auto gridsearch, first optimizing on recall. "
   ]
  },
  {
   "cell_type": "code",
   "execution_count": null,
   "metadata": {
    "colab": {
     "base_uri": "https://localhost:8080/",
     "height": 438,
     "referenced_widgets": [
      "3e096aa1785d4789ab4548cfe6ad15e7",
      "ffa8a945051c49b09ead0c969f6e8c0e",
      "6e86bc77b71f49319e769646707fc621"
     ]
    },
    "id": "Kgqns4PfHB1Z",
    "outputId": "87154aef-0760-486f-c77b-4b8855f22d17"
   },
   "outputs": [
    {
     "data": {
      "text/html": [
       "<div>\n",
       "<style scoped>\n",
       "    .dataframe tbody tr th:only-of-type {\n",
       "        vertical-align: middle;\n",
       "    }\n",
       "\n",
       "    .dataframe tbody tr th {\n",
       "        vertical-align: top;\n",
       "    }\n",
       "\n",
       "    .dataframe thead th {\n",
       "        text-align: right;\n",
       "    }\n",
       "</style>\n",
       "<table border=\"1\" class=\"dataframe\">\n",
       "  <thead>\n",
       "    <tr style=\"text-align: right;\">\n",
       "      <th></th>\n",
       "      <th>Accuracy</th>\n",
       "      <th>AUC</th>\n",
       "      <th>Recall</th>\n",
       "      <th>Prec.</th>\n",
       "      <th>F1</th>\n",
       "      <th>Kappa</th>\n",
       "      <th>MCC</th>\n",
       "    </tr>\n",
       "  </thead>\n",
       "  <tbody>\n",
       "    <tr>\n",
       "      <th>0</th>\n",
       "      <td>0.7014</td>\n",
       "      <td>0.7528</td>\n",
       "      <td>0.6801</td>\n",
       "      <td>0.6158</td>\n",
       "      <td>0.6463</td>\n",
       "      <td>0.3890</td>\n",
       "      <td>0.3905</td>\n",
       "    </tr>\n",
       "    <tr>\n",
       "      <th>1</th>\n",
       "      <td>0.7033</td>\n",
       "      <td>0.7560</td>\n",
       "      <td>0.6951</td>\n",
       "      <td>0.6153</td>\n",
       "      <td>0.6528</td>\n",
       "      <td>0.3954</td>\n",
       "      <td>0.3976</td>\n",
       "    </tr>\n",
       "    <tr>\n",
       "      <th>2</th>\n",
       "      <td>0.7042</td>\n",
       "      <td>0.7522</td>\n",
       "      <td>0.6878</td>\n",
       "      <td>0.6180</td>\n",
       "      <td>0.6511</td>\n",
       "      <td>0.3956</td>\n",
       "      <td>0.3973</td>\n",
       "    </tr>\n",
       "    <tr>\n",
       "      <th>3</th>\n",
       "      <td>0.7048</td>\n",
       "      <td>0.7522</td>\n",
       "      <td>0.6787</td>\n",
       "      <td>0.6207</td>\n",
       "      <td>0.6484</td>\n",
       "      <td>0.3949</td>\n",
       "      <td>0.3960</td>\n",
       "    </tr>\n",
       "    <tr>\n",
       "      <th>4</th>\n",
       "      <td>0.6928</td>\n",
       "      <td>0.7380</td>\n",
       "      <td>0.6538</td>\n",
       "      <td>0.6090</td>\n",
       "      <td>0.6306</td>\n",
       "      <td>0.3682</td>\n",
       "      <td>0.3688</td>\n",
       "    </tr>\n",
       "    <tr>\n",
       "      <th>5</th>\n",
       "      <td>0.7001</td>\n",
       "      <td>0.7498</td>\n",
       "      <td>0.6850</td>\n",
       "      <td>0.6129</td>\n",
       "      <td>0.6469</td>\n",
       "      <td>0.3876</td>\n",
       "      <td>0.3894</td>\n",
       "    </tr>\n",
       "    <tr>\n",
       "      <th>6</th>\n",
       "      <td>0.7066</td>\n",
       "      <td>0.7615</td>\n",
       "      <td>0.6907</td>\n",
       "      <td>0.6207</td>\n",
       "      <td>0.6538</td>\n",
       "      <td>0.4005</td>\n",
       "      <td>0.4022</td>\n",
       "    </tr>\n",
       "    <tr>\n",
       "      <th>7</th>\n",
       "      <td>0.7011</td>\n",
       "      <td>0.7534</td>\n",
       "      <td>0.6925</td>\n",
       "      <td>0.6129</td>\n",
       "      <td>0.6502</td>\n",
       "      <td>0.3910</td>\n",
       "      <td>0.3933</td>\n",
       "    </tr>\n",
       "    <tr>\n",
       "      <th>8</th>\n",
       "      <td>0.7006</td>\n",
       "      <td>0.7485</td>\n",
       "      <td>0.6850</td>\n",
       "      <td>0.6137</td>\n",
       "      <td>0.6474</td>\n",
       "      <td>0.3887</td>\n",
       "      <td>0.3904</td>\n",
       "    </tr>\n",
       "    <tr>\n",
       "      <th>9</th>\n",
       "      <td>0.6990</td>\n",
       "      <td>0.7486</td>\n",
       "      <td>0.6862</td>\n",
       "      <td>0.6113</td>\n",
       "      <td>0.6466</td>\n",
       "      <td>0.3860</td>\n",
       "      <td>0.3880</td>\n",
       "    </tr>\n",
       "    <tr>\n",
       "      <th>Mean</th>\n",
       "      <td>0.7014</td>\n",
       "      <td>0.7513</td>\n",
       "      <td>0.6835</td>\n",
       "      <td>0.6150</td>\n",
       "      <td>0.6474</td>\n",
       "      <td>0.3897</td>\n",
       "      <td>0.3914</td>\n",
       "    </tr>\n",
       "    <tr>\n",
       "      <th>SD</th>\n",
       "      <td>0.0036</td>\n",
       "      <td>0.0057</td>\n",
       "      <td>0.0110</td>\n",
       "      <td>0.0037</td>\n",
       "      <td>0.0061</td>\n",
       "      <td>0.0083</td>\n",
       "      <td>0.0086</td>\n",
       "    </tr>\n",
       "  </tbody>\n",
       "</table>\n",
       "</div>"
      ],
      "text/plain": [
       "      Accuracy     AUC  Recall   Prec.      F1   Kappa     MCC\n",
       "0       0.7014  0.7528  0.6801  0.6158  0.6463  0.3890  0.3905\n",
       "1       0.7033  0.7560  0.6951  0.6153  0.6528  0.3954  0.3976\n",
       "2       0.7042  0.7522  0.6878  0.6180  0.6511  0.3956  0.3973\n",
       "3       0.7048  0.7522  0.6787  0.6207  0.6484  0.3949  0.3960\n",
       "4       0.6928  0.7380  0.6538  0.6090  0.6306  0.3682  0.3688\n",
       "5       0.7001  0.7498  0.6850  0.6129  0.6469  0.3876  0.3894\n",
       "6       0.7066  0.7615  0.6907  0.6207  0.6538  0.4005  0.4022\n",
       "7       0.7011  0.7534  0.6925  0.6129  0.6502  0.3910  0.3933\n",
       "8       0.7006  0.7485  0.6850  0.6137  0.6474  0.3887  0.3904\n",
       "9       0.6990  0.7486  0.6862  0.6113  0.6466  0.3860  0.3880\n",
       "Mean    0.7014  0.7513  0.6835  0.6150  0.6474  0.3897  0.3914\n",
       "SD      0.0036  0.0057  0.0110  0.0037  0.0061  0.0083  0.0086"
      ]
     },
     "metadata": {
      "tags": []
     },
     "output_type": "display_data"
    },
    {
     "name": "stdout",
     "output_type": "stream",
     "text": [
      "time: 50 s\n"
     ]
    }
   ],
   "source": [
    "tuned_lr = tune_model(lr, optimize = 'Recall')"
   ]
  },
  {
   "cell_type": "markdown",
   "metadata": {},
   "source": [
    "Below are the specifications of our final linear regression model that was tuned on recall. \n",
    "\n",
    "Please see a greater explanation of the specifications here: https://scikit-learn.org/stable/modules/generated/sklearn.linear_model.LogisticRegression.html"
   ]
  },
  {
   "cell_type": "code",
   "execution_count": null,
   "metadata": {
    "colab": {
     "base_uri": "https://localhost:8080/"
    },
    "id": "PyiqUnKzHB1Z",
    "outputId": "c94979b8-b441-45e2-e0b3-18c55b4e4d28"
   },
   "outputs": [
    {
     "name": "stdout",
     "output_type": "stream",
     "text": [
      "LogisticRegression(C=0.024, class_weight='balanced', dual=False,\n",
      "                   fit_intercept=True, intercept_scaling=1, l1_ratio=None,\n",
      "                   max_iter=1000, multi_class='auto', n_jobs=None, penalty='l2',\n",
      "                   random_state=123, solver='lbfgs', tol=0.0001, verbose=0,\n",
      "                   warm_start=False)\n",
      "time: 1.53 ms\n"
     ]
    }
   ],
   "source": [
    "print(tuned_lr)"
   ]
  },
  {
   "cell_type": "markdown",
   "metadata": {},
   "source": [
    "Below, you can see the confusion matrix of our linear regression model. "
   ]
  },
  {
   "cell_type": "code",
   "execution_count": null,
   "metadata": {
    "colab": {
     "base_uri": "https://localhost:8080/",
     "height": 418
    },
    "id": "pnDwArjbHB1a",
    "outputId": "057c8791-ad0a-4c90-d2a0-d4f073b16b58"
   },
   "outputs": [
    {
     "data": {
      "image/png": "[encoded data removed]",
      "text/plain": [
       "<Figure size 576x396 with 1 Axes>"
      ]
     },
     "metadata": {
      "tags": []
     },
     "output_type": "display_data"
    },
    {
     "name": "stdout",
     "output_type": "stream",
     "text": [
      "time: 562 ms\n"
     ]
    }
   ],
   "source": [
    "plot_model(tuned_lr, plot = 'confusion_matrix')"
   ]
  },
  {
   "cell_type": "markdown",
   "metadata": {},
   "source": [
    "The cost of the linear regression model fit using recall is \\\\$2761530, which is more than every model that we have tried so far. The cost per prediction of this model is \\\\$64.57."
   ]
  },
  {
   "cell_type": "code",
   "execution_count": null,
   "metadata": {
    "colab": {
     "base_uri": "https://localhost:8080/"
    },
    "id": "PfejXioZHB1a",
    "outputId": "c86e22f3-56e4-46b0-d4d0-be7c9ec42977"
   },
   "outputs": [
    {
     "name": "stdout",
     "output_type": "stream",
     "text": [
      "the cost assiciate to the tuned model is $2761530\n",
      "time: 995 µs\n"
     ]
    }
   ],
   "source": [
    "print(\"the cost assiciate to the tuned model is ${}\".format(cost(5376,7353))) #cost(FN, FP):"
   ]
  },
  {
   "cell_type": "markdown",
   "metadata": {},
   "source": [
    "Similar to our random forest and CatBoost model, we also optimize our linear regression model using F1 score. "
   ]
  },
  {
   "cell_type": "code",
   "execution_count": null,
   "metadata": {
    "colab": {
     "base_uri": "https://localhost:8080/",
     "height": 438,
     "referenced_widgets": [
      "f3ab14fdd67841fe879262b9319cd6a7",
      "b53000a45e8b4af6a639bc81f12090df",
      "a26c75ec27074af1893a9822e344fc04"
     ]
    },
    "id": "w8x3fOr9HB1a",
    "outputId": "8359f886-86a1-408b-f4db-8a2cca5cdac2"
   },
   "outputs": [
    {
     "data": {
      "text/html": [
       "<div>\n",
       "<style scoped>\n",
       "    .dataframe tbody tr th:only-of-type {\n",
       "        vertical-align: middle;\n",
       "    }\n",
       "\n",
       "    .dataframe tbody tr th {\n",
       "        vertical-align: top;\n",
       "    }\n",
       "\n",
       "    .dataframe thead th {\n",
       "        text-align: right;\n",
       "    }\n",
       "</style>\n",
       "<table border=\"1\" class=\"dataframe\">\n",
       "  <thead>\n",
       "    <tr style=\"text-align: right;\">\n",
       "      <th></th>\n",
       "      <th>Accuracy</th>\n",
       "      <th>AUC</th>\n",
       "      <th>Recall</th>\n",
       "      <th>Prec.</th>\n",
       "      <th>F1</th>\n",
       "      <th>Kappa</th>\n",
       "      <th>MCC</th>\n",
       "    </tr>\n",
       "  </thead>\n",
       "  <tbody>\n",
       "    <tr>\n",
       "      <th>0</th>\n",
       "      <td>0.7014</td>\n",
       "      <td>0.7528</td>\n",
       "      <td>0.6801</td>\n",
       "      <td>0.6158</td>\n",
       "      <td>0.6463</td>\n",
       "      <td>0.3890</td>\n",
       "      <td>0.3905</td>\n",
       "    </tr>\n",
       "    <tr>\n",
       "      <th>1</th>\n",
       "      <td>0.7033</td>\n",
       "      <td>0.7560</td>\n",
       "      <td>0.6951</td>\n",
       "      <td>0.6153</td>\n",
       "      <td>0.6528</td>\n",
       "      <td>0.3954</td>\n",
       "      <td>0.3976</td>\n",
       "    </tr>\n",
       "    <tr>\n",
       "      <th>2</th>\n",
       "      <td>0.7042</td>\n",
       "      <td>0.7522</td>\n",
       "      <td>0.6878</td>\n",
       "      <td>0.6180</td>\n",
       "      <td>0.6511</td>\n",
       "      <td>0.3956</td>\n",
       "      <td>0.3973</td>\n",
       "    </tr>\n",
       "    <tr>\n",
       "      <th>3</th>\n",
       "      <td>0.7048</td>\n",
       "      <td>0.7522</td>\n",
       "      <td>0.6787</td>\n",
       "      <td>0.6207</td>\n",
       "      <td>0.6484</td>\n",
       "      <td>0.3949</td>\n",
       "      <td>0.3960</td>\n",
       "    </tr>\n",
       "    <tr>\n",
       "      <th>4</th>\n",
       "      <td>0.6928</td>\n",
       "      <td>0.7380</td>\n",
       "      <td>0.6538</td>\n",
       "      <td>0.6090</td>\n",
       "      <td>0.6306</td>\n",
       "      <td>0.3682</td>\n",
       "      <td>0.3688</td>\n",
       "    </tr>\n",
       "    <tr>\n",
       "      <th>5</th>\n",
       "      <td>0.7001</td>\n",
       "      <td>0.7498</td>\n",
       "      <td>0.6850</td>\n",
       "      <td>0.6129</td>\n",
       "      <td>0.6469</td>\n",
       "      <td>0.3876</td>\n",
       "      <td>0.3894</td>\n",
       "    </tr>\n",
       "    <tr>\n",
       "      <th>6</th>\n",
       "      <td>0.7066</td>\n",
       "      <td>0.7615</td>\n",
       "      <td>0.6907</td>\n",
       "      <td>0.6207</td>\n",
       "      <td>0.6538</td>\n",
       "      <td>0.4005</td>\n",
       "      <td>0.4022</td>\n",
       "    </tr>\n",
       "    <tr>\n",
       "      <th>7</th>\n",
       "      <td>0.7011</td>\n",
       "      <td>0.7534</td>\n",
       "      <td>0.6925</td>\n",
       "      <td>0.6129</td>\n",
       "      <td>0.6502</td>\n",
       "      <td>0.3910</td>\n",
       "      <td>0.3933</td>\n",
       "    </tr>\n",
       "    <tr>\n",
       "      <th>8</th>\n",
       "      <td>0.7006</td>\n",
       "      <td>0.7485</td>\n",
       "      <td>0.6850</td>\n",
       "      <td>0.6137</td>\n",
       "      <td>0.6474</td>\n",
       "      <td>0.3887</td>\n",
       "      <td>0.3904</td>\n",
       "    </tr>\n",
       "    <tr>\n",
       "      <th>9</th>\n",
       "      <td>0.6990</td>\n",
       "      <td>0.7486</td>\n",
       "      <td>0.6862</td>\n",
       "      <td>0.6113</td>\n",
       "      <td>0.6466</td>\n",
       "      <td>0.3860</td>\n",
       "      <td>0.3880</td>\n",
       "    </tr>\n",
       "    <tr>\n",
       "      <th>Mean</th>\n",
       "      <td>0.7014</td>\n",
       "      <td>0.7513</td>\n",
       "      <td>0.6835</td>\n",
       "      <td>0.6150</td>\n",
       "      <td>0.6474</td>\n",
       "      <td>0.3897</td>\n",
       "      <td>0.3914</td>\n",
       "    </tr>\n",
       "    <tr>\n",
       "      <th>SD</th>\n",
       "      <td>0.0036</td>\n",
       "      <td>0.0057</td>\n",
       "      <td>0.0110</td>\n",
       "      <td>0.0037</td>\n",
       "      <td>0.0061</td>\n",
       "      <td>0.0083</td>\n",
       "      <td>0.0086</td>\n",
       "    </tr>\n",
       "  </tbody>\n",
       "</table>\n",
       "</div>"
      ],
      "text/plain": [
       "      Accuracy     AUC  Recall   Prec.      F1   Kappa     MCC\n",
       "0       0.7014  0.7528  0.6801  0.6158  0.6463  0.3890  0.3905\n",
       "1       0.7033  0.7560  0.6951  0.6153  0.6528  0.3954  0.3976\n",
       "2       0.7042  0.7522  0.6878  0.6180  0.6511  0.3956  0.3973\n",
       "3       0.7048  0.7522  0.6787  0.6207  0.6484  0.3949  0.3960\n",
       "4       0.6928  0.7380  0.6538  0.6090  0.6306  0.3682  0.3688\n",
       "5       0.7001  0.7498  0.6850  0.6129  0.6469  0.3876  0.3894\n",
       "6       0.7066  0.7615  0.6907  0.6207  0.6538  0.4005  0.4022\n",
       "7       0.7011  0.7534  0.6925  0.6129  0.6502  0.3910  0.3933\n",
       "8       0.7006  0.7485  0.6850  0.6137  0.6474  0.3887  0.3904\n",
       "9       0.6990  0.7486  0.6862  0.6113  0.6466  0.3860  0.3880\n",
       "Mean    0.7014  0.7513  0.6835  0.6150  0.6474  0.3897  0.3914\n",
       "SD      0.0036  0.0057  0.0110  0.0037  0.0061  0.0083  0.0086"
      ]
     },
     "metadata": {
      "tags": []
     },
     "output_type": "display_data"
    },
    {
     "name": "stdout",
     "output_type": "stream",
     "text": [
      "time: 49.3 s\n"
     ]
    }
   ],
   "source": [
    "tuned_lr_f1 = tune_model(lr, optimize = 'f1') "
   ]
  },
  {
   "cell_type": "markdown",
   "metadata": {},
   "source": [
    "Below, you can see the final specifications of our linear regression model fit using F1 score. \n",
    "\n",
    "Please see a greater explanation of the specifications here: https://scikit-learn.org/stable/modules/generated/sklearn.linear_model.LogisticRegression.html"
   ]
  },
  {
   "cell_type": "code",
   "execution_count": null,
   "metadata": {
    "colab": {
     "base_uri": "https://localhost:8080/"
    },
    "id": "cC25ON00HB1a",
    "outputId": "d5f1ba52-469b-485e-c956-42a99704044e"
   },
   "outputs": [
    {
     "name": "stdout",
     "output_type": "stream",
     "text": [
      "LogisticRegression(C=0.024, class_weight='balanced', dual=False,\n",
      "                   fit_intercept=True, intercept_scaling=1, l1_ratio=None,\n",
      "                   max_iter=1000, multi_class='auto', n_jobs=None, penalty='l2',\n",
      "                   random_state=123, solver='lbfgs', tol=0.0001, verbose=0,\n",
      "                   warm_start=False)\n",
      "time: 1.39 ms\n"
     ]
    }
   ],
   "source": [
    "print(tuned_lr_f1)"
   ]
  },
  {
   "cell_type": "markdown",
   "metadata": {},
   "source": [
    "Below, we plot our confusion matrix for our linear regression model fit using F1 score. "
   ]
  },
  {
   "cell_type": "code",
   "execution_count": null,
   "metadata": {
    "colab": {
     "base_uri": "https://localhost:8080/",
     "height": 418
    },
    "id": "vC0yZPXGHB1a",
    "outputId": "f5380834-395b-4621-dff4-ce8c76c00bdd"
   },
   "outputs": [
    {
     "data": {
      "image/png": "[encoded data removed]",
      "text/plain": [
       "<Figure size 576x396 with 1 Axes>"
      ]
     },
     "metadata": {
      "tags": []
     },
     "output_type": "display_data"
    },
    {
     "name": "stdout",
     "output_type": "stream",
     "text": [
      "time: 558 ms\n"
     ]
    }
   ],
   "source": [
    "plot_model(tuned_lr_f1, plot = 'confusion_matrix')"
   ]
  },
  {
   "cell_type": "markdown",
   "metadata": {},
   "source": [
    "The cost of the linear regression model fit using recall is \\\\$2761530, which is more than every model that we have tried so far. The cost per prediction of this model is \\\\$64.57. Given that the models gave the same performance, it looks like F1 score and Recall result in the same linear regression model. "
   ]
  },
  {
   "cell_type": "code",
   "execution_count": null,
   "metadata": {
    "colab": {
     "base_uri": "https://localhost:8080/"
    },
    "id": "aDN2cpX4HB1a",
    "outputId": "9155ab77-f42f-4dde-c6a8-7760304aa11c"
   },
   "outputs": [
    {
     "name": "stdout",
     "output_type": "stream",
     "text": [
      "the cost assiciate to the tuned model is $2761530\n",
      "time: 1.09 ms\n"
     ]
    }
   ],
   "source": [
    "## print cost value\n",
    "print(\"the cost assiciate to the tuned model is ${}\".format(cost(5376,7353))) #cost(FN, FP):\n"
   ]
  },
  {
   "cell_type": "markdown",
   "metadata": {
    "id": "Vh_8lG-fOcA1"
   },
   "source": [
    "### Comparing Fine Tuned Models\n",
    "Our best performing model in terms of Cost per Prediction is the Random Forest model that predicted that everything was \"True\", while our second best model was the CatBoost model that was tuned with recall. The CatBoost model tuned with recall had a fairly similar cost per prediction as the CatBoost model tuned with F1, and the linear regression model tuned with Recall gave the exact same model as the linear regression model tuned with F1. We could not find a model that gave a better cost per prediction than simply classifying everything as \"True\".\n",
    "\n",
    "|Model | Tuning |  Cost per Prediction | \n",
    "|:--------|:-------- |:-------- |\n",
    "|Random Forest | Recall | \\\\$5.97|\n",
    "|Random Forest | F1 | \\\\$51.95 |\n",
    "|CatBoost | Recall | \\\\$27.75 |\n",
    "|CatBoost | F1 | \\\\$27.92 |\n",
    "|Linear Regression | Recall | \\\\$64.57 |\n",
    "|Linear Regression | F1 | \\\\$64.57 |\n"
   ]
  },
  {
   "cell_type": "markdown",
   "metadata": {
    "id": "osRFcjpjVGq3"
   },
   "source": [
    "## Model Interpretability & Explainability"
   ]
  },
  {
   "cell_type": "markdown",
   "metadata": {},
   "source": [
    "In our final comparison, we will be comparing the CatBoost model that was tuned using recall, and the first random forest model that predicted all values as \"True\". These were our best performing models in terms of cost per prediction."
   ]
  },
  {
   "cell_type": "markdown",
   "metadata": {},
   "source": [
    "### CatBoost"
   ]
  },
  {
   "cell_type": "markdown",
   "metadata": {},
   "source": [
    "Below we have a plot of feature importances for the variables in our model. Catboost models are faily complex, so we use SHAP value to calculate feature importance. A large negative SHAP value will pull the model more toward predicting \"False\", while a large positive SHAP value will pull the model more toward predicting \"True\". For example, variable x23 is fairly important. A high value in x23 will pull the model toward predicting \"False\", while a low value in x23 will pull the model toward predicting \"True\". According to SHAP, the top 5 most important variables are:   \n",
    "1) x23 - higher values pull prediction toward \"False\"  \n",
    "2) x49 - higher values pull prediction toward \"True\"  \n",
    "3) x42 - higher values pull prediction toward \"False\"  \n",
    "4) x28 - higher values pull prediction toward \"False\"  \n",
    "5) x20 - higher values pull prediction toward \"False\"  "
   ]
  },
  {
   "cell_type": "code",
   "execution_count": 31,
   "metadata": {},
   "outputs": [
    {
     "data": {
      "image/png": "[encoded data removed]",
      "text/plain": [
       "<Figure size 576x684 with 2 Axes>"
      ]
     },
     "metadata": {
      "needs_background": "light"
     },
     "output_type": "display_data"
    },
    {
     "name": "stdout",
     "output_type": "stream",
     "text": [
      "CPU times: user 54min 56s, sys: 14.7 s, total: 55min 10s\n",
      "Wall time: 7min 47s\n"
     ]
    }
   ],
   "source": [
    "%%time\n",
    "interpret_model(tuned_catBoost)"
   ]
  },
  {
   "cell_type": "markdown",
   "metadata": {},
   "source": [
    "Below, we make predictions on the holdout set. You can see the amount of time it took to run the predictions as well. "
   ]
  },
  {
   "cell_type": "code",
   "execution_count": 21,
   "metadata": {},
   "outputs": [
    {
     "name": "stdout",
     "output_type": "stream",
     "text": [
      "CPU times: user 418 ms, sys: 36.1 ms, total: 454 ms\n",
      "Wall time: 295 ms\n"
     ]
    }
   ],
   "source": [
    "%%time\n",
    "predictions = predict_model(tuned_catBoost, data = data_unseen)"
   ]
  },
  {
   "cell_type": "code",
   "execution_count": 40,
   "metadata": {},
   "outputs": [],
   "source": [
    "from sklearn.metrics import confusion_matrix\n",
    "from sklearn.metrics import recall_score\n",
    "from sklearn.metrics import precision_score\n",
    "\n",
    "y_true = predictions['y']\n",
    "y_pred = predictions['Label']\n",
    "y_pred = pd.to_numeric(y_pred)\n",
    "\n",
    "cf_matrix = confusion_matrix(y_true, y_pred)\n",
    "\n"
   ]
  },
  {
   "cell_type": "markdown",
   "metadata": {},
   "source": [
    "Below, we define a function to make the confusion matrix that you will see later."
   ]
  },
  {
   "cell_type": "code",
   "execution_count": 36,
   "metadata": {},
   "outputs": [],
   "source": [
    "import numpy as np\n",
    "import matplotlib.pyplot as plt\n",
    "import seaborn as sns\n",
    "\n",
    "def make_confusion_matrix(cf,\n",
    "                          group_names=None,\n",
    "                          categories='auto',\n",
    "                          count=True,\n",
    "                          percent=True,\n",
    "                          cbar=True,\n",
    "                          xyticks=True,\n",
    "                          xyplotlabels=True,\n",
    "                          sum_stats=True,\n",
    "                          figsize=None,\n",
    "                          cmap='Blues',\n",
    "                          title=None):\n",
    "    '''\n",
    "    This function will make a pretty plot of an sklearn Confusion Matrix cm using a Seaborn heatmap visualization.\n",
    "\n",
    "    Arguments\n",
    "    ---------\n",
    "    cf:            confusion matrix to be passed in\n",
    "\n",
    "    group_names:   List of strings that represent the labels row by row to be shown in each square.\n",
    "\n",
    "    categories:    List of strings containing the categories to be displayed on the x,y axis. Default is 'auto'\n",
    "\n",
    "    count:         If True, show the raw number in the confusion matrix. Default is True.\n",
    "\n",
    "    normalize:     If True, show the proportions for each category. Default is True.\n",
    "\n",
    "    cbar:          If True, show the color bar. The cbar values are based off the values in the confusion matrix.\n",
    "                   Default is True.\n",
    "\n",
    "    xyticks:       If True, show x and y ticks. Default is True.\n",
    "\n",
    "    xyplotlabels:  If True, show 'True Label' and 'Predicted Label' on the figure. Default is True.\n",
    "\n",
    "    sum_stats:     If True, display summary statistics below the figure. Default is True.\n",
    "\n",
    "    figsize:       Tuple representing the figure size. Default will be the matplotlib rcParams value.\n",
    "\n",
    "    cmap:          Colormap of the values displayed from matplotlib.pyplot.cm. Default is 'Blues'\n",
    "                   See http://matplotlib.org/examples/color/colormaps_reference.html\n",
    "                   \n",
    "    title:         Title for the heatmap. Default is None.\n",
    "\n",
    "    '''\n",
    "\n",
    "\n",
    "    # CODE TO GENERATE TEXT INSIDE EACH SQUARE\n",
    "    blanks = ['' for i in range(cf.size)]\n",
    "\n",
    "    if group_names and len(group_names)==cf.size:\n",
    "        group_labels = [\"{}\\n\".format(value) for value in group_names]\n",
    "    else:\n",
    "        group_labels = blanks\n",
    "\n",
    "    if count:\n",
    "        group_counts = [\"{0:0.0f}\\n\".format(value) for value in cf.flatten()]\n",
    "    else:\n",
    "        group_counts = blanks\n",
    "\n",
    "    if percent:\n",
    "        group_percentages = [\"{0:.2%}\".format(value) for value in cf.flatten()/np.sum(cf)]\n",
    "    else:\n",
    "        group_percentages = blanks\n",
    "\n",
    "    box_labels = [f\"{v1}{v2}{v3}\".strip() for v1, v2, v3 in zip(group_labels,group_counts,group_percentages)]\n",
    "    box_labels = np.asarray(box_labels).reshape(cf.shape[0],cf.shape[1])\n",
    "\n",
    "\n",
    "    # CODE TO GENERATE SUMMARY STATISTICS & TEXT FOR SUMMARY STATS\n",
    "    if sum_stats:\n",
    "        #Accuracy is sum of diagonal divided by total observations\n",
    "        accuracy  = np.trace(cf) / float(np.sum(cf))\n",
    "\n",
    "        #if it is a binary confusion matrix, show some more stats\n",
    "        if len(cf)==2:\n",
    "            #Metrics for Binary Confusion Matrices\n",
    "            precision = cf[1,1] / sum(cf[:,1])\n",
    "            recall    = cf[1,1] / sum(cf[1,:])\n",
    "            f1_score  = 2*precision*recall / (precision + recall)\n",
    "            stats_text = \"\\n\\nAccuracy={:0.3f}\\nPrecision={:0.3f}\\nRecall={:0.3f}\\nF1 Score={:0.3f}\".format(\n",
    "                accuracy,precision,recall,f1_score)\n",
    "        else:\n",
    "            stats_text = \"\\n\\nAccuracy={:0.3f}\".format(accuracy)\n",
    "    else:\n",
    "        stats_text = \"\"\n",
    "\n",
    "\n",
    "    # SET FIGURE PARAMETERS ACCORDING TO OTHER ARGUMENTS\n",
    "    if figsize==None:\n",
    "        #Get default figure size if not set\n",
    "        figsize = plt.rcParams.get('figure.figsize')\n",
    "\n",
    "    if xyticks==False:\n",
    "        #Do not show categories if xyticks is False\n",
    "        categories=False\n",
    "\n",
    "\n",
    "    # MAKE THE HEATMAP VISUALIZATION\n",
    "    plt.figure(figsize=figsize)\n",
    "    sns.heatmap(cf,annot=box_labels,fmt=\"\",cmap=cmap,cbar=cbar,xticklabels=categories,yticklabels=categories)\n",
    "\n",
    "    if xyplotlabels:\n",
    "        plt.ylabel('True label')\n",
    "        plt.xlabel('Predicted label' + stats_text)\n",
    "    else:\n",
    "        plt.xlabel(stats_text)\n",
    "    \n",
    "    if title:\n",
    "        plt.title(title)\n"
   ]
  },
  {
   "cell_type": "markdown",
   "metadata": {},
   "source": [
    "Here, you can see our confusion matrix of our catboost model tuned on recall for our holdout set. False Positives and False Negatives are both between 400 and 500. Our accuracy, precision, recall and F1 scores are all between .92 and .95. "
   ]
  },
  {
   "cell_type": "code",
   "execution_count": 44,
   "metadata": {},
   "outputs": [
    {
     "data": {
      "image/png": "[encoded data removed]",
      "text/plain": [
       "<Figure size 432x288 with 2 Axes>"
      ]
     },
     "metadata": {
      "needs_background": "light"
     },
     "output_type": "display_data"
    }
   ],
   "source": [
    "labels = ['True Neg','False Pos','False Neg','True Pos']\n",
    "categories = ['Zero', 'One']\n",
    "make_confusion_matrix(cf_matrix, \n",
    "                      group_names=labels,\n",
    "                      categories=categories)"
   ]
  },
  {
   "cell_type": "markdown",
   "metadata": {},
   "source": [
    "Below, we show the cost of the CatBoost model. At \\\\$15.41 per prediction, it is still cheaper to simply predict \"True\" for each prediction. "
   ]
  },
  {
   "cell_type": "code",
   "execution_count": 16,
   "metadata": {},
   "outputs": [
    {
     "name": "stdout",
     "output_type": "stream",
     "text": [
      "Cost of False Positives: $4040\n",
      "Cost of False Negatives: $240000\n",
      "Total Cost of 15839 predictions: $ 244040\n",
      "Cost per prediction $ 15.41\n"
     ]
    }
   ],
   "source": [
    "print('Cost of False Positives: $' + str(404*10))\n",
    "print('Cost of False Negatives: $' + str(480*500))\n",
    "print('Total Cost of','15839','predictions: $',str(404*10 + 480*500))\n",
    "print('Cost per prediction $', str(round((404*10 + 480*500)/15839, 2)))"
   ]
  },
  {
   "cell_type": "markdown",
   "metadata": {
    "id": "EsCs8jvJVYoj"
   },
   "source": [
    "### Random Forest Tuned with Recall"
   ]
  },
  {
   "cell_type": "markdown",
   "metadata": {},
   "source": [
    "Below, you can see the parameters in the random forest model that was tuned with recall. "
   ]
  },
  {
   "cell_type": "code",
   "execution_count": null,
   "metadata": {
    "colab": {
     "base_uri": "https://localhost:8080/",
     "height": 655
    },
    "id": "ygg_ZVIQVHdj",
    "outputId": "c7ec80fe-96f5-4869-940d-13353dcc31bb"
   },
   "outputs": [
    {
     "data": {
      "text/html": [
       "<div>\n",
       "<style scoped>\n",
       "    .dataframe tbody tr th:only-of-type {\n",
       "        vertical-align: middle;\n",
       "    }\n",
       "\n",
       "    .dataframe tbody tr th {\n",
       "        vertical-align: top;\n",
       "    }\n",
       "\n",
       "    .dataframe thead th {\n",
       "        text-align: right;\n",
       "    }\n",
       "</style>\n",
       "<table border=\"1\" class=\"dataframe\">\n",
       "  <thead>\n",
       "    <tr style=\"text-align: right;\">\n",
       "      <th></th>\n",
       "      <th>Parameters</th>\n",
       "    </tr>\n",
       "  </thead>\n",
       "  <tbody>\n",
       "    <tr>\n",
       "      <th>bootstrap</th>\n",
       "      <td>True</td>\n",
       "    </tr>\n",
       "    <tr>\n",
       "      <th>ccp_alpha</th>\n",
       "      <td>0.0</td>\n",
       "    </tr>\n",
       "    <tr>\n",
       "      <th>class_weight</th>\n",
       "      <td>balanced</td>\n",
       "    </tr>\n",
       "    <tr>\n",
       "      <th>criterion</th>\n",
       "      <td>gini</td>\n",
       "    </tr>\n",
       "    <tr>\n",
       "      <th>max_depth</th>\n",
       "      <td>9</td>\n",
       "    </tr>\n",
       "    <tr>\n",
       "      <th>max_features</th>\n",
       "      <td>1.0</td>\n",
       "    </tr>\n",
       "    <tr>\n",
       "      <th>max_leaf_nodes</th>\n",
       "      <td>None</td>\n",
       "    </tr>\n",
       "    <tr>\n",
       "      <th>max_samples</th>\n",
       "      <td>None</td>\n",
       "    </tr>\n",
       "    <tr>\n",
       "      <th>min_impurity_decrease</th>\n",
       "      <td>0.1</td>\n",
       "    </tr>\n",
       "    <tr>\n",
       "      <th>min_impurity_split</th>\n",
       "      <td>None</td>\n",
       "    </tr>\n",
       "    <tr>\n",
       "      <th>min_samples_leaf</th>\n",
       "      <td>4</td>\n",
       "    </tr>\n",
       "    <tr>\n",
       "      <th>min_samples_split</th>\n",
       "      <td>7</td>\n",
       "    </tr>\n",
       "    <tr>\n",
       "      <th>min_weight_fraction_leaf</th>\n",
       "      <td>0.0</td>\n",
       "    </tr>\n",
       "    <tr>\n",
       "      <th>n_estimators</th>\n",
       "      <td>100</td>\n",
       "    </tr>\n",
       "    <tr>\n",
       "      <th>n_jobs</th>\n",
       "      <td>-1</td>\n",
       "    </tr>\n",
       "    <tr>\n",
       "      <th>oob_score</th>\n",
       "      <td>False</td>\n",
       "    </tr>\n",
       "    <tr>\n",
       "      <th>random_state</th>\n",
       "      <td>123</td>\n",
       "    </tr>\n",
       "    <tr>\n",
       "      <th>verbose</th>\n",
       "      <td>0</td>\n",
       "    </tr>\n",
       "    <tr>\n",
       "      <th>warm_start</th>\n",
       "      <td>False</td>\n",
       "    </tr>\n",
       "  </tbody>\n",
       "</table>\n",
       "</div>"
      ],
      "text/plain": [
       "                         Parameters\n",
       "bootstrap                      True\n",
       "ccp_alpha                       0.0\n",
       "class_weight               balanced\n",
       "criterion                      gini\n",
       "max_depth                         9\n",
       "max_features                    1.0\n",
       "max_leaf_nodes                 None\n",
       "max_samples                    None\n",
       "min_impurity_decrease           0.1\n",
       "min_impurity_split             None\n",
       "min_samples_leaf                  4\n",
       "min_samples_split                 7\n",
       "min_weight_fraction_leaf        0.0\n",
       "n_estimators                    100\n",
       "n_jobs                           -1\n",
       "oob_score                     False\n",
       "random_state                    123\n",
       "verbose                           0\n",
       "warm_start                    False"
      ]
     },
     "metadata": {
      "tags": []
     },
     "output_type": "display_data"
    },
    {
     "name": "stdout",
     "output_type": "stream",
     "text": [
      "time: 290 ms\n"
     ]
    }
   ],
   "source": [
    "plot_model(tuned_rf, plot = 'parameter')"
   ]
  },
  {
   "cell_type": "markdown",
   "metadata": {
    "id": "fP9_2j3IcV_u"
   },
   "source": [
    "Below is our AUC plot for our Random Forest Classifier. An AUC above the line y=x is considered to be a model that does better than just guessing randomly. Our AUC is below the line y=x due to the fact that we are only guessing \"True\" with this model. Despite the low cost associated, the AUC is pretty poor. "
   ]
  },
  {
   "cell_type": "code",
   "execution_count": null,
   "metadata": {
    "colab": {
     "base_uri": "https://localhost:8080/",
     "height": 393,
     "referenced_widgets": [
      "d4392160f7064080896ca3a0d99f0b13",
      "beeab82fbe804cefa8b51067dae2bfd3",
      "7ade6e9732fd4d71936bf2bc49f83c92"
     ]
    },
    "id": "Tc0HxMEgVrBh",
    "outputId": "38c137ca-56b9-4c87-fb65-e62d85eaa612"
   },
   "outputs": [
    {
     "data": {
      "image/png": "[encoded data removed]",
      "text/plain": [
       "<Figure size 576x396 with 1 Axes>"
      ]
     },
     "metadata": {
      "tags": []
     },
     "output_type": "display_data"
    },
    {
     "name": "stdout",
     "output_type": "stream",
     "text": [
      "time: 915 ms\n"
     ]
    }
   ],
   "source": [
    "plot_model(tuned_rf, plot = 'auc')"
   ]
  },
  {
   "cell_type": "markdown",
   "metadata": {
    "id": "Y1OpJ0xKdlRY"
   },
   "source": [
    "Below is our feature importance plot. It looks fairly strange: No variable has any importance. Again, this is due to us predicting \"True\" for every single prediction. No variable has any discriminatory power, so no variable has any importance. "
   ]
  },
  {
   "cell_type": "code",
   "execution_count": null,
   "metadata": {
    "colab": {
     "base_uri": "https://localhost:8080/",
     "height": 495
    },
    "id": "s7KGQF9ZdqPu",
    "outputId": "d22c50a1-47eb-4c2f-8f71-ba409c01eeec"
   },
   "outputs": [
    {
     "data": {
      "image/png": "[encoded data removed]",
      "text/plain": [
       "<Figure size 800x500 with 1 Axes>"
      ]
     },
     "metadata": {
      "tags": []
     },
     "output_type": "display_data"
    },
    {
     "name": "stdout",
     "output_type": "stream",
     "text": [
      "time: 528 ms\n"
     ]
    }
   ],
   "source": [
    "plot_model(tuned_rf, plot='feature')"
   ]
  },
  {
   "cell_type": "markdown",
   "metadata": {},
   "source": [
    "As we know that the percentage of negatives in the dataset is about 60%, we know that the cost of this model is going to be about \\\\$6. This is significantly less than the cost of the CatBoost model. "
   ]
  },
  {
   "cell_type": "markdown",
   "metadata": {},
   "source": [
    "## Conclusion"
   ]
  },
  {
   "cell_type": "markdown",
   "metadata": {},
   "source": [
    "We were given a dataset and asked to minimize the cost function \\\\$10 for false positives, \\\\$500 for false negatives, and \\\\$0 for both true positives and true negatives. After fitting 6 models, including the top model as identified by Pycaret, we could not beat our goal of less than \\\\$6 per prediction. We were able to determine that the top 5 variables for classifying a data point as \"True\" or \"False\" were x23, x49, x42, x28 and x20. \n",
    "\n",
    "Unfortunately, due to the fact that alse negatives are 50 times more expensive than false positives, we were not able to create a model that performed better than simply predicting every data point as \"True\". We propose that you classify every one of these data points as \"True\" and deal with the cost of false positives rather than risking the cost of false negatives. \n",
    "\n",
    "We recommend testing state of the art neural network models. These were too complex for the scope of this case study, but might be able to uncover trends in the data that could be used to classify some data points as \"False\" but are still able to avoid false negatives as much as possible. "
   ]
  }
 ],
 "metadata": {
  "kernelspec": {
   "display_name": "Python 3",
   "language": "python",
   "name": "python3"
  },
  "language_info": {
   "codemirror_mode": {
    "name": "ipython",
    "version": 3
   },
   "file_extension": ".py",
   "mimetype": "text/x-python",
   "name": "python",
   "nbconvert_exporter": "python",
   "pygments_lexer": "ipython3",
   "version": "3.6.11"
  }
 },
 "nbformat": 4,
 "nbformat_minor": 4
}
