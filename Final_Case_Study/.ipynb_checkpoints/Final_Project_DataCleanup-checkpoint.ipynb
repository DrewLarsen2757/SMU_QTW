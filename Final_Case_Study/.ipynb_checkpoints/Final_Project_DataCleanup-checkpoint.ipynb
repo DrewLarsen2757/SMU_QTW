{
 "cells": [
  {
   "cell_type": "code",
   "execution_count": 1,
   "metadata": {},
   "outputs": [],
   "source": [
    "import pandas as pd\n",
    "from sklearn.linear_model import LinearRegression\n",
    "import warnings\n",
    "warnings.filterwarnings('ignore')\n",
    "import pandas_profiling"
   ]
  },
  {
   "cell_type": "markdown",
   "metadata": {},
   "source": [
    "## Business Understanding"
   ]
  },
  {
   "cell_type": "markdown",
   "metadata": {},
   "source": [
    "Using the data that was provided to us, we are trying to classify the y variable by minimizing the cost function: False Positives cost \\\\$10, False Negatives cost \\\\$500, True Positives cost \\\\$0 and True Negatives cost \\\\$0. We were given 50 variables and a target variable, and asked to use the variables to model the target variable. Thus, we are not sure why this problem is important, how to interpret the individual variables, and we bring no domain knowledge into this problem. The results below are purely the result of trends that are present in the dataset. \n",
    "\n",
    "Our assumptions are that the data, as provided to us, is either the entire population in question, or a random sample taken from the entire population in question. We assume that the cost function provided to us is correct, and that False Positives truly cost \\\\$10, False Negatives truly cost \\\\$500, True Positives truly cost \\\\$0 and True Negatives truly cost \\\\$0. "
   ]
  },
  {
   "cell_type": "markdown",
   "metadata": {},
   "source": [
    "## Data Evaluation / Engineering"
   ]
  },
  {
   "cell_type": "markdown",
   "metadata": {},
   "source": [
    "### Data Cleanup"
   ]
  },
  {
   "cell_type": "markdown",
   "metadata": {},
   "source": [
    "Read the data in."
   ]
  },
  {
   "cell_type": "code",
   "execution_count": 2,
   "metadata": {},
   "outputs": [
    {
     "data": {
      "text/html": [
       "<div>\n",
       "<style scoped>\n",
       "    .dataframe tbody tr th:only-of-type {\n",
       "        vertical-align: middle;\n",
       "    }\n",
       "\n",
       "    .dataframe tbody tr th {\n",
       "        vertical-align: top;\n",
       "    }\n",
       "\n",
       "    .dataframe thead th {\n",
       "        text-align: right;\n",
       "    }\n",
       "</style>\n",
       "<table border=\"1\" class=\"dataframe\">\n",
       "  <thead>\n",
       "    <tr style=\"text-align: right;\">\n",
       "      <th></th>\n",
       "      <th>x0</th>\n",
       "      <th>x1</th>\n",
       "      <th>x2</th>\n",
       "      <th>x3</th>\n",
       "      <th>x4</th>\n",
       "      <th>x5</th>\n",
       "      <th>x6</th>\n",
       "      <th>x7</th>\n",
       "      <th>x8</th>\n",
       "      <th>x9</th>\n",
       "      <th>...</th>\n",
       "      <th>x41</th>\n",
       "      <th>x42</th>\n",
       "      <th>x43</th>\n",
       "      <th>x44</th>\n",
       "      <th>x45</th>\n",
       "      <th>x46</th>\n",
       "      <th>x47</th>\n",
       "      <th>x48</th>\n",
       "      <th>x49</th>\n",
       "      <th>y</th>\n",
       "    </tr>\n",
       "  </thead>\n",
       "  <tbody>\n",
       "    <tr>\n",
       "      <th>0</th>\n",
       "      <td>-0.166563</td>\n",
       "      <td>-3.961588</td>\n",
       "      <td>4.621113</td>\n",
       "      <td>2.481908</td>\n",
       "      <td>-1.800135</td>\n",
       "      <td>0.804684</td>\n",
       "      <td>6.718751</td>\n",
       "      <td>-14.789997</td>\n",
       "      <td>-1.040673</td>\n",
       "      <td>-4.204950</td>\n",
       "      <td>...</td>\n",
       "      <td>-1.497117</td>\n",
       "      <td>5.414063</td>\n",
       "      <td>-2.325655</td>\n",
       "      <td>1.674827</td>\n",
       "      <td>-0.264332</td>\n",
       "      <td>60.781427</td>\n",
       "      <td>-7.689696</td>\n",
       "      <td>0.151589</td>\n",
       "      <td>-8.040166</td>\n",
       "      <td>0</td>\n",
       "    </tr>\n",
       "    <tr>\n",
       "      <th>1</th>\n",
       "      <td>-0.149894</td>\n",
       "      <td>-0.585676</td>\n",
       "      <td>27.839856</td>\n",
       "      <td>4.152333</td>\n",
       "      <td>6.426802</td>\n",
       "      <td>-2.426943</td>\n",
       "      <td>40.477058</td>\n",
       "      <td>-6.725709</td>\n",
       "      <td>0.896421</td>\n",
       "      <td>0.330165</td>\n",
       "      <td>...</td>\n",
       "      <td>36.292790</td>\n",
       "      <td>4.490915</td>\n",
       "      <td>0.762561</td>\n",
       "      <td>6.526662</td>\n",
       "      <td>1.007927</td>\n",
       "      <td>15.805696</td>\n",
       "      <td>-4.896678</td>\n",
       "      <td>-0.320283</td>\n",
       "      <td>16.719974</td>\n",
       "      <td>0</td>\n",
       "    </tr>\n",
       "    <tr>\n",
       "      <th>2</th>\n",
       "      <td>-0.321707</td>\n",
       "      <td>-1.429819</td>\n",
       "      <td>12.251561</td>\n",
       "      <td>6.586874</td>\n",
       "      <td>-5.304647</td>\n",
       "      <td>-11.311090</td>\n",
       "      <td>17.812850</td>\n",
       "      <td>11.060572</td>\n",
       "      <td>5.325880</td>\n",
       "      <td>-2.632984</td>\n",
       "      <td>...</td>\n",
       "      <td>-0.368491</td>\n",
       "      <td>9.088864</td>\n",
       "      <td>-0.689886</td>\n",
       "      <td>-2.731118</td>\n",
       "      <td>0.754200</td>\n",
       "      <td>30.856417</td>\n",
       "      <td>-7.428573</td>\n",
       "      <td>-2.090804</td>\n",
       "      <td>-7.869421</td>\n",
       "      <td>0</td>\n",
       "    </tr>\n",
       "    <tr>\n",
       "      <th>3</th>\n",
       "      <td>-0.245594</td>\n",
       "      <td>5.076677</td>\n",
       "      <td>-24.149632</td>\n",
       "      <td>3.637307</td>\n",
       "      <td>6.505811</td>\n",
       "      <td>2.290224</td>\n",
       "      <td>-35.111751</td>\n",
       "      <td>-18.913592</td>\n",
       "      <td>-0.337041</td>\n",
       "      <td>-5.568076</td>\n",
       "      <td>...</td>\n",
       "      <td>15.691546</td>\n",
       "      <td>-7.467775</td>\n",
       "      <td>2.940789</td>\n",
       "      <td>-6.424112</td>\n",
       "      <td>0.419776</td>\n",
       "      <td>-72.424569</td>\n",
       "      <td>5.361375</td>\n",
       "      <td>1.806070</td>\n",
       "      <td>-7.670847</td>\n",
       "      <td>0</td>\n",
       "    </tr>\n",
       "    <tr>\n",
       "      <th>4</th>\n",
       "      <td>-0.273366</td>\n",
       "      <td>0.306326</td>\n",
       "      <td>-11.352593</td>\n",
       "      <td>1.676758</td>\n",
       "      <td>2.928441</td>\n",
       "      <td>-0.616824</td>\n",
       "      <td>-16.505817</td>\n",
       "      <td>27.532281</td>\n",
       "      <td>1.199715</td>\n",
       "      <td>-4.309105</td>\n",
       "      <td>...</td>\n",
       "      <td>-13.911297</td>\n",
       "      <td>-5.229937</td>\n",
       "      <td>1.783928</td>\n",
       "      <td>3.957801</td>\n",
       "      <td>-0.096988</td>\n",
       "      <td>-14.085435</td>\n",
       "      <td>-0.208351</td>\n",
       "      <td>-0.894942</td>\n",
       "      <td>15.724742</td>\n",
       "      <td>1</td>\n",
       "    </tr>\n",
       "  </tbody>\n",
       "</table>\n",
       "<p>5 rows × 51 columns</p>\n",
       "</div>"
      ],
      "text/plain": [
       "         x0        x1         x2        x3        x4         x5         x6  \\\n",
       "0 -0.166563 -3.961588   4.621113  2.481908 -1.800135   0.804684   6.718751   \n",
       "1 -0.149894 -0.585676  27.839856  4.152333  6.426802  -2.426943  40.477058   \n",
       "2 -0.321707 -1.429819  12.251561  6.586874 -5.304647 -11.311090  17.812850   \n",
       "3 -0.245594  5.076677 -24.149632  3.637307  6.505811   2.290224 -35.111751   \n",
       "4 -0.273366  0.306326 -11.352593  1.676758  2.928441  -0.616824 -16.505817   \n",
       "\n",
       "          x7        x8        x9  ...        x41       x42       x43  \\\n",
       "0 -14.789997 -1.040673 -4.204950  ...  -1.497117  5.414063 -2.325655   \n",
       "1  -6.725709  0.896421  0.330165  ...  36.292790  4.490915  0.762561   \n",
       "2  11.060572  5.325880 -2.632984  ...  -0.368491  9.088864 -0.689886   \n",
       "3 -18.913592 -0.337041 -5.568076  ...  15.691546 -7.467775  2.940789   \n",
       "4  27.532281  1.199715 -4.309105  ... -13.911297 -5.229937  1.783928   \n",
       "\n",
       "        x44       x45        x46       x47       x48        x49  y  \n",
       "0  1.674827 -0.264332  60.781427 -7.689696  0.151589  -8.040166  0  \n",
       "1  6.526662  1.007927  15.805696 -4.896678 -0.320283  16.719974  0  \n",
       "2 -2.731118  0.754200  30.856417 -7.428573 -2.090804  -7.869421  0  \n",
       "3 -6.424112  0.419776 -72.424569  5.361375  1.806070  -7.670847  0  \n",
       "4  3.957801 -0.096988 -14.085435 -0.208351 -0.894942  15.724742  1  \n",
       "\n",
       "[5 rows x 51 columns]"
      ]
     },
     "execution_count": 2,
     "metadata": {},
     "output_type": "execute_result"
    }
   ],
   "source": [
    "df = pd.read_csv('/home/drew/School/Semester4/QTW/Final_Case_Materials/final_project.csv')\n",
    "df.head()"
   ]
  },
  {
   "cell_type": "markdown",
   "metadata": {},
   "source": [
    "The majority of the data is float64. We will take a deeper look at the variables, starting with the numeric variables. "
   ]
  },
  {
   "cell_type": "code",
   "execution_count": 3,
   "metadata": {},
   "outputs": [
    {
     "data": {
      "text/plain": [
       "x0     float64\n",
       "x1     float64\n",
       "x2     float64\n",
       "x3     float64\n",
       "x4     float64\n",
       "x5     float64\n",
       "x6     float64\n",
       "x7     float64\n",
       "x8     float64\n",
       "x9     float64\n",
       "x10    float64\n",
       "x11    float64\n",
       "x12    float64\n",
       "x13    float64\n",
       "x14    float64\n",
       "x15    float64\n",
       "x16    float64\n",
       "x17    float64\n",
       "x18    float64\n",
       "x19    float64\n",
       "x20    float64\n",
       "x21    float64\n",
       "x22    float64\n",
       "x23    float64\n",
       "x24     object\n",
       "x25    float64\n",
       "x26    float64\n",
       "x27    float64\n",
       "x28    float64\n",
       "x29     object\n",
       "x30     object\n",
       "x31    float64\n",
       "x32     object\n",
       "x33    float64\n",
       "x34    float64\n",
       "x35    float64\n",
       "x36    float64\n",
       "x37     object\n",
       "x38    float64\n",
       "x39    float64\n",
       "x40    float64\n",
       "x41    float64\n",
       "x42    float64\n",
       "x43    float64\n",
       "x44    float64\n",
       "x45    float64\n",
       "x46    float64\n",
       "x47    float64\n",
       "x48    float64\n",
       "x49    float64\n",
       "y        int64\n",
       "dtype: object"
      ]
     },
     "execution_count": 3,
     "metadata": {},
     "output_type": "execute_result"
    }
   ],
   "source": [
    "df.dtypes"
   ]
  },
  {
   "cell_type": "markdown",
   "metadata": {},
   "source": [
    "There are between 20 and 50 NA's in each column. "
   ]
  },
  {
   "cell_type": "code",
   "execution_count": 4,
   "metadata": {},
   "outputs": [
    {
     "data": {
      "text/plain": [
       "x0     26\n",
       "x1     25\n",
       "x2     38\n",
       "x3     37\n",
       "x4     26\n",
       "x5     37\n",
       "x6     26\n",
       "x7     27\n",
       "x8     21\n",
       "x9     30\n",
       "x10    43\n",
       "x11    30\n",
       "x12    36\n",
       "x13    31\n",
       "x14    34\n",
       "x15    35\n",
       "x16    26\n",
       "x17    27\n",
       "x18    40\n",
       "x19    35\n",
       "x20    38\n",
       "x21    29\n",
       "x22    27\n",
       "x23    47\n",
       "x24    28\n",
       "x25    22\n",
       "x26    36\n",
       "x27    30\n",
       "x28    35\n",
       "x29    30\n",
       "x30    30\n",
       "x31    39\n",
       "x32    31\n",
       "x33    41\n",
       "x34    41\n",
       "x35    30\n",
       "x36    27\n",
       "x37    23\n",
       "x38    31\n",
       "x39    23\n",
       "x40    36\n",
       "x41    40\n",
       "x42    26\n",
       "x43    37\n",
       "x44    40\n",
       "x45    29\n",
       "x46    31\n",
       "x47    37\n",
       "x48    32\n",
       "x49    32\n",
       "y       0\n",
       "dtype: int64"
      ]
     },
     "execution_count": 4,
     "metadata": {},
     "output_type": "execute_result"
    }
   ],
   "source": [
    "df.isna().sum()"
   ]
  },
  {
   "cell_type": "markdown",
   "metadata": {},
   "source": [
    "If we were to drop all of the NA's, we would lose about 1% of the data. We can proceed with dropping NA's without fear of losing too much data. "
   ]
  },
  {
   "cell_type": "code",
   "execution_count": 5,
   "metadata": {},
   "outputs": [
    {
     "name": "stdout",
     "output_type": "stream",
     "text": [
      "160000\n",
      "158392\n",
      "0.98995\n"
     ]
    }
   ],
   "source": [
    "print(len(df))\n",
    "print(len(df.dropna()))\n",
    "print(len(df.dropna()) / len(df))"
   ]
  },
  {
   "cell_type": "markdown",
   "metadata": {},
   "source": [
    "Looks like we have a variety of ranges for the rest of our numeric variables. All variables have a minimum in the negatives, while all variables have a maximum in the positives. y is a binary 0 or 1, as expected. It appears that all the numeric variables are cleaned, so we will move onto the 'object' columns. "
   ]
  },
  {
   "cell_type": "code",
   "execution_count": 6,
   "metadata": {},
   "outputs": [
    {
     "data": {
      "text/plain": [
       "x0       3.193484\n",
       "x1      54.266480\n",
       "x2     122.939701\n",
       "x3      72.770852\n",
       "x4      54.715347\n",
       "x5      69.373098\n",
       "x6     178.745088\n",
       "x7     330.657610\n",
       "x8      76.740876\n",
       "x9      55.358501\n",
       "x10     74.252154\n",
       "x11     74.453313\n",
       "x12    137.477321\n",
       "x13     81.115692\n",
       "x14     63.451554\n",
       "x15     30.784918\n",
       "x16     48.004106\n",
       "x17     71.452946\n",
       "x18     39.851672\n",
       "x19     69.148946\n",
       "x20     54.491956\n",
       "x21     89.739357\n",
       "x22     48.507205\n",
       "x23    125.130841\n",
       "x25     11.678822\n",
       "x26      7.809135\n",
       "x27     60.648629\n",
       "x28    140.650550\n",
       "x31     23.536528\n",
       "x33     15.238574\n",
       "x34     70.958034\n",
       "x35     19.900575\n",
       "x36     13.865568\n",
       "x38    164.765540\n",
       "x39     43.647238\n",
       "x40    162.883674\n",
       "x41    182.217656\n",
       "x42     50.601790\n",
       "x43     13.557155\n",
       "x44     37.053246\n",
       "x45      3.422426\n",
       "x46    352.686244\n",
       "x47     41.923187\n",
       "x48     16.716707\n",
       "x49    132.668795\n",
       "y        1.000000\n",
       "dtype: float64"
      ]
     },
     "execution_count": 6,
     "metadata": {},
     "output_type": "execute_result"
    }
   ],
   "source": [
    "df_numeric = df.dropna()\n",
    "df_numeric = df_numeric.drop(columns = ['x24', 'x29', 'x30', 'x32', 'x37'])\n",
    "df_numeric.max() - df_numeric.min()"
   ]
  },
  {
   "cell_type": "code",
   "execution_count": 7,
   "metadata": {},
   "outputs": [
    {
     "data": {
      "text/plain": [
       "x0      -1.592635\n",
       "x1     -26.278302\n",
       "x2     -59.394048\n",
       "x3     -33.864827\n",
       "x4     -28.467536\n",
       "x5     -33.822988\n",
       "x6     -86.354483\n",
       "x7    -181.506976\n",
       "x8     -37.691045\n",
       "x9     -27.980659\n",
       "x10    -36.306571\n",
       "x11    -38.092869\n",
       "x12    -64.197967\n",
       "x13    -38.723514\n",
       "x14    -30.905214\n",
       "x15    -17.002359\n",
       "x16    -26.042983\n",
       "x17    -34.395898\n",
       "x18    -20.198686\n",
       "x19    -35.633396\n",
       "x20    -26.677396\n",
       "x21    -43.501854\n",
       "x22    -23.644193\n",
       "x23    -66.640341\n",
       "x25     -6.364653\n",
       "x26     -3.857484\n",
       "x27    -32.003555\n",
       "x28    -72.896705\n",
       "x31    -12.289364\n",
       "x33     -7.451454\n",
       "x34    -36.116606\n",
       "x35    -10.008149\n",
       "x36     -6.866024\n",
       "x38    -74.297559\n",
       "x39    -22.101647\n",
       "x40    -74.059196\n",
       "x41    -82.167224\n",
       "x42    -27.933750\n",
       "x43     -6.876234\n",
       "x44    -17.983487\n",
       "x45     -1.753221\n",
       "x46   -201.826828\n",
       "x47    -21.086333\n",
       "x48     -8.490155\n",
       "x49    -65.791191\n",
       "y        0.000000\n",
       "dtype: float64"
      ]
     },
     "execution_count": 7,
     "metadata": {},
     "output_type": "execute_result"
    }
   ],
   "source": [
    "df_numeric.min()"
   ]
  },
  {
   "cell_type": "code",
   "execution_count": 8,
   "metadata": {},
   "outputs": [
    {
     "data": {
      "text/plain": [
       "x0       1.600849\n",
       "x1      27.988178\n",
       "x2      63.545653\n",
       "x3      38.906025\n",
       "x4      26.247812\n",
       "x5      35.550110\n",
       "x6      92.390605\n",
       "x7     149.150634\n",
       "x8      39.049831\n",
       "x9      27.377842\n",
       "x10     37.945583\n",
       "x11     36.360443\n",
       "x12     73.279354\n",
       "x13     42.392177\n",
       "x14     32.546340\n",
       "x15     13.782559\n",
       "x16     21.961123\n",
       "x17     37.057048\n",
       "x18     19.652986\n",
       "x19     33.515550\n",
       "x20     27.814560\n",
       "x21     46.237503\n",
       "x22     24.863012\n",
       "x23     58.490500\n",
       "x25      5.314169\n",
       "x26      3.951652\n",
       "x27     28.645074\n",
       "x28     67.753845\n",
       "x31     11.247163\n",
       "x33      7.787120\n",
       "x34     34.841428\n",
       "x35      9.892426\n",
       "x36      6.999544\n",
       "x38     90.467981\n",
       "x39     21.545591\n",
       "x40     88.824477\n",
       "x41    100.050432\n",
       "x42     22.668041\n",
       "x43      6.680922\n",
       "x44     19.069759\n",
       "x45      1.669205\n",
       "x46    150.859415\n",
       "x47     20.836854\n",
       "x48      8.226552\n",
       "x49     66.877604\n",
       "y        1.000000\n",
       "dtype: float64"
      ]
     },
     "execution_count": 8,
     "metadata": {},
     "output_type": "execute_result"
    }
   ],
   "source": [
    "df_numeric.max()"
   ]
  },
  {
   "cell_type": "markdown",
   "metadata": {},
   "source": [
    "Our target varible 'y' is a collection of 0s and 1s. There is about a 40/60 split in the target variable. "
   ]
  },
  {
   "cell_type": "code",
   "execution_count": 9,
   "metadata": {},
   "outputs": [
    {
     "name": "stdout",
     "output_type": "stream",
     "text": [
      "[0 1]\n",
      "0    94846\n",
      "1    63546\n",
      "Name: y, dtype: int64\n",
      "0    0.598805\n",
      "1    0.401195\n",
      "Name: y, dtype: float64\n"
     ]
    }
   ],
   "source": [
    "print(df_numeric['y'].unique())\n",
    "print(df_numeric['y'].value_counts())\n",
    "print(df_numeric['y'].value_counts() / df_numeric['y'].count())"
   ]
  },
  {
   "cell_type": "markdown",
   "metadata": {},
   "source": [
    "x24 is a column of what looks like continents, between europe, asia, america and nan. This is definitely not a numeric column that is being read in as a string, but we'll want to do some clean up to this column. "
   ]
  },
  {
   "cell_type": "code",
   "execution_count": 10,
   "metadata": {},
   "outputs": [
    {
     "data": {
      "text/plain": [
       "array(['euorpe', 'asia', 'america', nan], dtype=object)"
      ]
     },
     "execution_count": 10,
     "metadata": {},
     "output_type": "execute_result"
    }
   ],
   "source": [
    "df['x24'].unique()"
   ]
  },
  {
   "cell_type": "markdown",
   "metadata": {},
   "source": [
    "x29 needs to be cleaned. It is a column of months, where most months are 3 letters, but some are longer."
   ]
  },
  {
   "cell_type": "code",
   "execution_count": 11,
   "metadata": {},
   "outputs": [
    {
     "data": {
      "text/plain": [
       "array(['July', 'Aug', 'Jun', 'May', 'sept.', 'Apr', 'Nov', 'Oct', nan,\n",
       "       'Mar', 'Feb', 'Dev', 'January'], dtype=object)"
      ]
     },
     "execution_count": 11,
     "metadata": {},
     "output_type": "execute_result"
    }
   ],
   "source": [
    "df['x29'].unique()"
   ]
  },
  {
   "cell_type": "markdown",
   "metadata": {},
   "source": [
    "x30 is a column of weekdays, monday through friday. Some days are misspelled. This column needs some cleaning."
   ]
  },
  {
   "cell_type": "code",
   "execution_count": 12,
   "metadata": {},
   "outputs": [
    {
     "data": {
      "text/plain": [
       "array(['tuesday', 'wednesday', 'thurday', 'monday', 'friday', nan],\n",
       "      dtype=object)"
      ]
     },
     "execution_count": 12,
     "metadata": {},
     "output_type": "execute_result"
    }
   ],
   "source": [
    "df['x30'].unique()"
   ]
  },
  {
   "cell_type": "markdown",
   "metadata": {},
   "source": [
    "x32 is a column of percents that is being read in as str instead of numeric. This needs to be cleaned and turned into a numeric variable."
   ]
  },
  {
   "cell_type": "code",
   "execution_count": 13,
   "metadata": {},
   "outputs": [
    {
     "data": {
      "text/plain": [
       "array(['0.0%', '-0.02%', '-0.01%', '0.01%', '-0.03%', '0.02%', '-0.0%',\n",
       "       '-0.04%', nan, '0.03%', '0.04%', '-0.05%', '0.05%'], dtype=object)"
      ]
     },
     "execution_count": 13,
     "metadata": {},
     "output_type": "execute_result"
    }
   ],
   "source": [
    "df['x32'].unique()"
   ]
  },
  {
   "cell_type": "markdown",
   "metadata": {},
   "source": [
    "x37 is a row of dollar values that were read in as str instead of numeric. This variable needs to be cleaned and turned into a numeric variable. "
   ]
  },
  {
   "cell_type": "code",
   "execution_count": 14,
   "metadata": {},
   "outputs": [
    {
     "data": {
      "text/plain": [
       "array(['$1313.96', '$1962.78', '$430.47', ..., '$1588.65', '$439.21',\n",
       "       '$-1229.34'], dtype=object)"
      ]
     },
     "execution_count": 14,
     "metadata": {},
     "output_type": "execute_result"
    }
   ],
   "source": [
    "df['x37'].unique()"
   ]
  },
  {
   "cell_type": "markdown",
   "metadata": {},
   "source": [
    "Aside from dropping the NA's, it doesn't look like we need to do much cleaning with the variables that are already numeric. Thus, cleaning will focus on 'x24', 'x29', 'x30', 'x32' and 'x37'. First, we drop NA's."
   ]
  },
  {
   "cell_type": "code",
   "execution_count": 15,
   "metadata": {},
   "outputs": [],
   "source": [
    "df_na = df.dropna()"
   ]
  },
  {
   "cell_type": "markdown",
   "metadata": {},
   "source": [
    "x24 has 'euorpe', 'asia' and 'america' as possible values. We will fix the spelling of europe and capitalize the first letter of each continent name. "
   ]
  },
  {
   "cell_type": "code",
   "execution_count": 16,
   "metadata": {},
   "outputs": [
    {
     "data": {
      "text/plain": [
       "array(['euorpe', 'asia', 'america'], dtype=object)"
      ]
     },
     "execution_count": 16,
     "metadata": {},
     "output_type": "execute_result"
    }
   ],
   "source": [
    "df_na['x24'].unique()"
   ]
  },
  {
   "cell_type": "code",
   "execution_count": 17,
   "metadata": {},
   "outputs": [
    {
     "data": {
      "text/plain": [
       "array(['Europe', 'Asia', 'America'], dtype=object)"
      ]
     },
     "execution_count": 17,
     "metadata": {},
     "output_type": "execute_result"
    }
   ],
   "source": [
    "df_na['x24'] = df_na['x24'].str.replace('euorpe', 'Europe')\n",
    "df_na['x24'] = df_na['x24'].str.replace('asia', 'Asia')\n",
    "df_na['x24'] = df_na['x24'].str.replace('america', 'America')\n",
    "df_na['x24'].unique()"
   ]
  },
  {
   "cell_type": "markdown",
   "metadata": {},
   "source": [
    "We move on to the 'x29' variable, which has months in various forms. We will stick with the 3 letter form of each month, since most months are spelled that way. That means 'July', 'sept.', 'Dec' and 'January' need to be fixed. "
   ]
  },
  {
   "cell_type": "code",
   "execution_count": 18,
   "metadata": {},
   "outputs": [
    {
     "data": {
      "text/plain": [
       "array(['July', 'Aug', 'Jun', 'May', 'sept.', 'Apr', 'Nov', 'Oct', 'Mar',\n",
       "       'Feb', 'Dev', 'January'], dtype=object)"
      ]
     },
     "execution_count": 18,
     "metadata": {},
     "output_type": "execute_result"
    }
   ],
   "source": [
    "df_na['x29'].unique()"
   ]
  },
  {
   "cell_type": "code",
   "execution_count": 19,
   "metadata": {},
   "outputs": [
    {
     "data": {
      "text/plain": [
       "array(['Jul', 'Aug', 'Jun', 'May', 'Sep', 'Apr', 'Nov', 'Oct', 'Mar',\n",
       "       'Feb', 'Dec', 'Jan'], dtype=object)"
      ]
     },
     "execution_count": 19,
     "metadata": {},
     "output_type": "execute_result"
    }
   ],
   "source": [
    "df_na['x29'] = df_na['x29'].str.replace('July', 'Jul')\n",
    "df_na['x29'] = df_na['x29'].str.replace('sept.', 'Sep')\n",
    "df_na['x29'] = df_na['x29'].str.replace('Dev', 'Dec')\n",
    "df_na['x29'] = df_na['x29'].str.replace('January', 'Jan')\n",
    "df_na['x29'].unique()"
   ]
  },
  {
   "cell_type": "markdown",
   "metadata": {},
   "source": [
    "Here, we look at the x30 variable, which seems to be days of the week. We'll capitalize like we had with the continents, and fix the spelling of 'thurday'."
   ]
  },
  {
   "cell_type": "code",
   "execution_count": 20,
   "metadata": {},
   "outputs": [
    {
     "data": {
      "text/plain": [
       "array(['tuesday', 'wednesday', 'thurday', 'monday', 'friday'],\n",
       "      dtype=object)"
      ]
     },
     "execution_count": 20,
     "metadata": {},
     "output_type": "execute_result"
    }
   ],
   "source": [
    "df_na['x30'].unique()"
   ]
  },
  {
   "cell_type": "code",
   "execution_count": 21,
   "metadata": {},
   "outputs": [
    {
     "data": {
      "text/plain": [
       "array(['Tuesday', 'Wednesday', 'Thursday', 'Monday', 'Friday'],\n",
       "      dtype=object)"
      ]
     },
     "execution_count": 21,
     "metadata": {},
     "output_type": "execute_result"
    }
   ],
   "source": [
    "df_na['x30'] = df_na['x30'].str.replace('tuesday', 'Tuesday')\n",
    "df_na['x30'] = df_na['x30'].str.replace('wednesday', 'Wednesday')\n",
    "df_na['x30'] = df_na['x30'].str.replace('thurday', 'Thursday')\n",
    "df_na['x30'] = df_na['x30'].str.replace('monday', 'Monday')\n",
    "df_na['x30'] = df_na['x30'].str.replace('friday', 'Friday')\n",
    "df_na['x30'].unique()"
   ]
  },
  {
   "cell_type": "markdown",
   "metadata": {},
   "source": [
    "Here, we investigate the 'x32' variable. These are percents that still have % at the end, so pandas interprets them as strings. We will remove the % at the end, convert to numeric, and divide each value by 100 to convert percent to decimal. Note that the result only has 11 unique values instead of 12, as -0.0% and 0.0% were interpreted as two different values initially. "
   ]
  },
  {
   "cell_type": "code",
   "execution_count": 22,
   "metadata": {},
   "outputs": [
    {
     "data": {
      "text/plain": [
       "array(['0.0%', '-0.02%', '-0.01%', '0.01%', '-0.03%', '0.02%', '-0.0%',\n",
       "       '-0.04%', '0.03%', '0.04%', '-0.05%', '0.05%'], dtype=object)"
      ]
     },
     "execution_count": 22,
     "metadata": {},
     "output_type": "execute_result"
    }
   ],
   "source": [
    "df_na['x32'].unique()"
   ]
  },
  {
   "cell_type": "code",
   "execution_count": 23,
   "metadata": {},
   "outputs": [
    {
     "data": {
      "text/plain": [
       "array([ 0.    , -0.0002, -0.0001,  0.0001, -0.0003,  0.0002, -0.0004,\n",
       "        0.0003,  0.0004, -0.0005,  0.0005])"
      ]
     },
     "execution_count": 23,
     "metadata": {},
     "output_type": "execute_result"
    }
   ],
   "source": [
    "df_na['x32'] = df_na['x32'].str.replace('%', '')\n",
    "df_na['x32'] = df_na['x32'].astype('float64')\n",
    "df_na['x32'] = df_na['x32'] / 100\n",
    "df_na['x32'].unique()"
   ]
  },
  {
   "cell_type": "markdown",
   "metadata": {},
   "source": [
    "Finally, we have x37. This variable was interpreted as a string due to the leading dollar sign. We will remove this dollar sign and convert the result to numeric. "
   ]
  },
  {
   "cell_type": "code",
   "execution_count": 24,
   "metadata": {},
   "outputs": [
    {
     "data": {
      "text/plain": [
       "array(['$1313.96', '$1962.78', '$430.47', ..., '$1588.65', '$439.21',\n",
       "       '$-1229.34'], dtype=object)"
      ]
     },
     "execution_count": 24,
     "metadata": {},
     "output_type": "execute_result"
    }
   ],
   "source": [
    "df_na['x37'].unique()"
   ]
  },
  {
   "cell_type": "code",
   "execution_count": 25,
   "metadata": {},
   "outputs": [
    {
     "data": {
      "text/plain": [
       "array([ 1313.96,  1962.78,   430.47, ...,  1588.65,   439.21, -1229.34])"
      ]
     },
     "execution_count": 25,
     "metadata": {},
     "output_type": "execute_result"
    }
   ],
   "source": [
    "df_na['x37'] = df_na['x37'].str.replace('$', '').astype('float64').round(2)\n",
    "df_na['x37'].unique()"
   ]
  },
  {
   "cell_type": "code",
   "execution_count": 26,
   "metadata": {},
   "outputs": [],
   "source": [
    "df_clean = df_na"
   ]
  },
  {
   "cell_type": "markdown",
   "metadata": {},
   "source": [
    "We have no NA's in our df_clean, and our variables are all numeric other than x24, x29 and x30, which is expected. We are ready to move forward with EDA and modelling."
   ]
  },
  {
   "cell_type": "code",
   "execution_count": 27,
   "metadata": {},
   "outputs": [
    {
     "data": {
      "text/plain": [
       "0"
      ]
     },
     "execution_count": 27,
     "metadata": {},
     "output_type": "execute_result"
    }
   ],
   "source": [
    "df_clean.isna().sum().sum()"
   ]
  },
  {
   "cell_type": "code",
   "execution_count": 28,
   "metadata": {},
   "outputs": [
    {
     "data": {
      "text/plain": [
       "x0     float64\n",
       "x1     float64\n",
       "x2     float64\n",
       "x3     float64\n",
       "x4     float64\n",
       "x5     float64\n",
       "x6     float64\n",
       "x7     float64\n",
       "x8     float64\n",
       "x9     float64\n",
       "x10    float64\n",
       "x11    float64\n",
       "x12    float64\n",
       "x13    float64\n",
       "x14    float64\n",
       "x15    float64\n",
       "x16    float64\n",
       "x17    float64\n",
       "x18    float64\n",
       "x19    float64\n",
       "x20    float64\n",
       "x21    float64\n",
       "x22    float64\n",
       "x23    float64\n",
       "x24     object\n",
       "x25    float64\n",
       "x26    float64\n",
       "x27    float64\n",
       "x28    float64\n",
       "x29     object\n",
       "x30     object\n",
       "x31    float64\n",
       "x32    float64\n",
       "x33    float64\n",
       "x34    float64\n",
       "x35    float64\n",
       "x36    float64\n",
       "x37    float64\n",
       "x38    float64\n",
       "x39    float64\n",
       "x40    float64\n",
       "x41    float64\n",
       "x42    float64\n",
       "x43    float64\n",
       "x44    float64\n",
       "x45    float64\n",
       "x46    float64\n",
       "x47    float64\n",
       "x48    float64\n",
       "x49    float64\n",
       "y        int64\n",
       "dtype: object"
      ]
     },
     "execution_count": 28,
     "metadata": {},
     "output_type": "execute_result"
    }
   ],
   "source": [
    "df_clean.dtypes"
   ]
  },
  {
   "cell_type": "markdown",
   "metadata": {},
   "source": [
    "### Variable Analysis"
   ]
  },
  {
   "cell_type": "markdown",
   "metadata": {},
   "source": [
    "Below, we create our Pandas Profiling html file. Because it is so large, it cannot be displayed in the Jupyter Notebook. Please see the supplemental FinalProjectEDA.html file. "
   ]
  },
  {
   "cell_type": "code",
   "execution_count": 29,
   "metadata": {
    "collapsed": true
   },
   "outputs": [
    {
     "data": {
      "application/vnd.jupyter.widget-view+json": {
       "model_id": "8abc8c13e88c4c8fa313f9bbd36b7df6",
       "version_major": 2,
       "version_minor": 0
      },
      "text/plain": [
       "HBox(children=(FloatProgress(value=0.0, description='Summarize dataset', max=66.0, style=ProgressStyle(descrip…"
      ]
     },
     "metadata": {},
     "output_type": "display_data"
    },
    {
     "name": "stdout",
     "output_type": "stream",
     "text": [
      "\n"
     ]
    },
    {
     "data": {
      "application/vnd.jupyter.widget-view+json": {
       "model_id": "fe26188157554678a54b177f4b0cdc12",
       "version_major": 2,
       "version_minor": 0
      },
      "text/plain": [
       "HBox(children=(FloatProgress(value=0.0, description='Generate report structure', max=1.0, style=ProgressStyle(…"
      ]
     },
     "metadata": {},
     "output_type": "display_data"
    },
    {
     "name": "stdout",
     "output_type": "stream",
     "text": [
      "\n"
     ]
    },
    {
     "data": {
      "application/vnd.jupyter.widget-view+json": {
       "model_id": "005c9ca7728644388020094d5f14e3bf",
       "version_major": 2,
       "version_minor": 0
      },
      "text/plain": [
       "HBox(children=(FloatProgress(value=0.0, description='Render HTML', max=1.0, style=ProgressStyle(description_wi…"
      ]
     },
     "metadata": {},
     "output_type": "display_data"
    },
    {
     "name": "stdout",
     "output_type": "stream",
     "text": [
      "\n"
     ]
    },
    {
     "data": {
      "application/vnd.jupyter.widget-view+json": {
       "model_id": "320511fa2337478bbbb4e430bb5c874d",
       "version_major": 2,
       "version_minor": 0
      },
      "text/plain": [
       "HBox(children=(FloatProgress(value=0.0, description='Export report to file', max=1.0, style=ProgressStyle(desc…"
      ]
     },
     "metadata": {},
     "output_type": "display_data"
    },
    {
     "name": "stdout",
     "output_type": "stream",
     "text": [
      "\n"
     ]
    }
   ],
   "source": [
    "pandas_profiling = df_clean.profile_report()\n",
    "pandas_profiling.to_file('FinalProjectEDA.html')"
   ]
  },
  {
   "cell_type": "markdown",
   "metadata": {},
   "source": [
    "Below are some important notes from our Exploratory Data Analysis\n",
    "\n",
    "Missing Values: There are no missing values remaining in this dataset, due to the removal of NA's in the data cleanup section. \n",
    "\n",
    "Correlated Variables: x2 and x6 are highly correlated, x38 and x41 are highly correlated. If we were doing an analysis where interpretation was important, having highly correlated variables can complicate things since the variables aren't independent. Since we are mainly concerned with reducing the cost, we will use all variables in our analysis, as there still may be information present in one correlated variable that isn't present in the other.  \n",
    "\n",
    "Assumptions: It appears that all of the numeric variables are normally distributed. The df_index variable will not be used in our analysis. \n",
    "\n",
    "Sampling technique: We will address our sampling technique in our Model Building and Evaluation section. \n",
    "\n",
    "Balance of Target Variable: Our target variable, the y column, is split about 60/40 in favor of 0. We don't believe that this is enough of an imbalance for balancing to be necessary, so we will proceed with using the slightly off balance data that we currently have. \n",
    "\n",
    "Other Notes: Our categorical variables are not evenly distributed. For example, the vast majority of values in the x24 column are \"Asia\". "
   ]
  }
 ],
 "metadata": {
  "kernelspec": {
   "display_name": "Python 3",
   "language": "python",
   "name": "python3"
  },
  "language_info": {
   "codemirror_mode": {
    "name": "ipython",
    "version": 3
   },
   "file_extension": ".py",
   "mimetype": "text/x-python",
   "name": "python",
   "nbconvert_exporter": "python",
   "pygments_lexer": "ipython3",
   "version": "3.8.3"
  }
 },
 "nbformat": 4,
 "nbformat_minor": 4
}
