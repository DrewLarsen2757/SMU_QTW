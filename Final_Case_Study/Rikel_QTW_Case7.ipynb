{
  "nbformat": 4,
  "nbformat_minor": 0,
  "metadata": {
    "colab": {
      "name": "Rikel_QTW_Case7.ipynb",
      "provenance": [],
      "machine_shape": "hm"
    },
    "kernelspec": {
      "name": "python3",
      "display_name": "Python 3"
    },
    "accelerator": "TPU",
    "widgets": {
      "application/vnd.jupyter.widget-state+json": {
        "6cd2c2846953446f96bc95461dd7e28a": {
          "model_module": "@jupyter-widgets/controls",
          "model_name": "IntProgressModel",
          "state": {
            "_view_name": "ProgressView",
            "style": "IPY_MODEL_ec97bec31cb34629a1cc588a47dd14f9",
            "_dom_classes": [],
            "description": "Processing: ",
            "_model_name": "IntProgressModel",
            "bar_style": "",
            "max": 3,
            "_view_module": "@jupyter-widgets/controls",
            "_model_module_version": "1.5.0",
            "value": 3,
            "_view_count": null,
            "_view_module_version": "1.5.0",
            "orientation": "horizontal",
            "min": 0,
            "description_tooltip": null,
            "_model_module": "@jupyter-widgets/controls",
            "layout": "IPY_MODEL_6d0c8520b1c8419ebbf3f2ecb2a21884"
          }
        },
        "ec97bec31cb34629a1cc588a47dd14f9": {
          "model_module": "@jupyter-widgets/controls",
          "model_name": "ProgressStyleModel",
          "state": {
            "_view_name": "StyleView",
            "_model_name": "ProgressStyleModel",
            "description_width": "",
            "_view_module": "@jupyter-widgets/base",
            "_model_module_version": "1.5.0",
            "_view_count": null,
            "_view_module_version": "1.2.0",
            "bar_color": null,
            "_model_module": "@jupyter-widgets/controls"
          }
        },
        "6d0c8520b1c8419ebbf3f2ecb2a21884": {
          "model_module": "@jupyter-widgets/base",
          "model_name": "LayoutModel",
          "state": {
            "_view_name": "LayoutView",
            "grid_template_rows": null,
            "right": null,
            "justify_content": null,
            "_view_module": "@jupyter-widgets/base",
            "overflow": null,
            "_model_module_version": "1.2.0",
            "_view_count": null,
            "flex_flow": null,
            "width": null,
            "min_width": null,
            "border": null,
            "align_items": null,
            "bottom": null,
            "_model_module": "@jupyter-widgets/base",
            "top": null,
            "grid_column": null,
            "overflow_y": null,
            "overflow_x": null,
            "grid_auto_flow": null,
            "grid_area": null,
            "grid_template_columns": null,
            "flex": null,
            "_model_name": "LayoutModel",
            "justify_items": null,
            "grid_row": null,
            "max_height": null,
            "align_content": null,
            "visibility": null,
            "align_self": null,
            "height": null,
            "min_height": null,
            "padding": null,
            "grid_auto_rows": null,
            "grid_gap": null,
            "max_width": null,
            "order": null,
            "_view_module_version": "1.2.0",
            "grid_template_areas": null,
            "object_position": null,
            "object_fit": null,
            "grid_auto_columns": null,
            "margin": null,
            "display": null,
            "left": null
          }
        },
        "9d2d1eda53e24cce8bb39abbe7c92f4d": {
          "model_module": "@jupyter-widgets/controls",
          "model_name": "TextModel",
          "state": {
            "_view_name": "TextView",
            "style": "IPY_MODEL_23f4b9e6311d44c0b223137dbf980f6a",
            "_dom_classes": [],
            "description": "",
            "_model_name": "TextModel",
            "placeholder": "​",
            "_view_module": "@jupyter-widgets/controls",
            "_model_module_version": "1.5.0",
            "value": "Following data types have been inferred automatically, if they are correct press enter to continue or type 'quit' otherwise.",
            "_view_count": null,
            "disabled": false,
            "_view_module_version": "1.5.0",
            "continuous_update": true,
            "description_tooltip": null,
            "_model_module": "@jupyter-widgets/controls",
            "layout": "IPY_MODEL_e872c858725648ce9f3185db838f6ef6"
          }
        },
        "23f4b9e6311d44c0b223137dbf980f6a": {
          "model_module": "@jupyter-widgets/controls",
          "model_name": "DescriptionStyleModel",
          "state": {
            "_view_name": "StyleView",
            "_model_name": "DescriptionStyleModel",
            "description_width": "",
            "_view_module": "@jupyter-widgets/base",
            "_model_module_version": "1.5.0",
            "_view_count": null,
            "_view_module_version": "1.2.0",
            "_model_module": "@jupyter-widgets/controls"
          }
        },
        "e872c858725648ce9f3185db838f6ef6": {
          "model_module": "@jupyter-widgets/base",
          "model_name": "LayoutModel",
          "state": {
            "_view_name": "LayoutView",
            "grid_template_rows": null,
            "right": null,
            "justify_content": null,
            "_view_module": "@jupyter-widgets/base",
            "overflow": null,
            "_model_module_version": "1.2.0",
            "_view_count": null,
            "flex_flow": null,
            "width": "100%",
            "min_width": null,
            "border": null,
            "align_items": null,
            "bottom": null,
            "_model_module": "@jupyter-widgets/base",
            "top": null,
            "grid_column": null,
            "overflow_y": null,
            "overflow_x": null,
            "grid_auto_flow": null,
            "grid_area": null,
            "grid_template_columns": null,
            "flex": null,
            "_model_name": "LayoutModel",
            "justify_items": null,
            "grid_row": null,
            "max_height": null,
            "align_content": null,
            "visibility": null,
            "align_self": null,
            "height": null,
            "min_height": null,
            "padding": null,
            "grid_auto_rows": null,
            "grid_gap": null,
            "max_width": null,
            "order": null,
            "_view_module_version": "1.2.0",
            "grid_template_areas": null,
            "object_position": null,
            "object_fit": null,
            "grid_auto_columns": null,
            "margin": null,
            "display": null,
            "left": null
          }
        },
        "4c33021de9d34b89b76b0e23f13bfd47": {
          "model_module": "@jupyter-widgets/controls",
          "model_name": "IntProgressModel",
          "state": {
            "_view_name": "ProgressView",
            "style": "IPY_MODEL_1ebe513c522346459ca26d155bf40c45",
            "_dom_classes": [],
            "description": "Processing: ",
            "_model_name": "IntProgressModel",
            "bar_style": "",
            "max": 79,
            "_view_module": "@jupyter-widgets/controls",
            "_model_module_version": "1.5.0",
            "value": 79,
            "_view_count": null,
            "_view_module_version": "1.5.0",
            "orientation": "horizontal",
            "min": 0,
            "description_tooltip": null,
            "_model_module": "@jupyter-widgets/controls",
            "layout": "IPY_MODEL_a9242474f74941488e3689d12128e302"
          }
        },
        "1ebe513c522346459ca26d155bf40c45": {
          "model_module": "@jupyter-widgets/controls",
          "model_name": "ProgressStyleModel",
          "state": {
            "_view_name": "StyleView",
            "_model_name": "ProgressStyleModel",
            "description_width": "",
            "_view_module": "@jupyter-widgets/base",
            "_model_module_version": "1.5.0",
            "_view_count": null,
            "_view_module_version": "1.2.0",
            "bar_color": null,
            "_model_module": "@jupyter-widgets/controls"
          }
        },
        "a9242474f74941488e3689d12128e302": {
          "model_module": "@jupyter-widgets/base",
          "model_name": "LayoutModel",
          "state": {
            "_view_name": "LayoutView",
            "grid_template_rows": null,
            "right": null,
            "justify_content": null,
            "_view_module": "@jupyter-widgets/base",
            "overflow": null,
            "_model_module_version": "1.2.0",
            "_view_count": null,
            "flex_flow": null,
            "width": null,
            "min_width": null,
            "border": null,
            "align_items": null,
            "bottom": null,
            "_model_module": "@jupyter-widgets/base",
            "top": null,
            "grid_column": null,
            "overflow_y": null,
            "overflow_x": null,
            "grid_auto_flow": null,
            "grid_area": null,
            "grid_template_columns": null,
            "flex": null,
            "_model_name": "LayoutModel",
            "justify_items": null,
            "grid_row": null,
            "max_height": null,
            "align_content": null,
            "visibility": null,
            "align_self": null,
            "height": null,
            "min_height": null,
            "padding": null,
            "grid_auto_rows": null,
            "grid_gap": null,
            "max_width": null,
            "order": null,
            "_view_module_version": "1.2.0",
            "grid_template_areas": null,
            "object_position": null,
            "object_fit": null,
            "grid_auto_columns": null,
            "margin": null,
            "display": null,
            "left": null
          }
        },
        "20f82a89cdea49b58df4521ab3047946": {
          "model_module": "@jupyter-widgets/controls",
          "model_name": "VBoxModel",
          "state": {
            "_view_name": "VBoxView",
            "_dom_classes": [
              "widget-interact"
            ],
            "_model_name": "VBoxModel",
            "_view_module": "@jupyter-widgets/controls",
            "_model_module_version": "1.5.0",
            "_view_count": null,
            "_view_module_version": "1.5.0",
            "box_style": "",
            "layout": "IPY_MODEL_5bfecf23a594486aac63e4e7c49ab6b5",
            "_model_module": "@jupyter-widgets/controls",
            "children": [
              "IPY_MODEL_82a915dd04e746358418a0a6054960b9",
              "IPY_MODEL_ac74622a039b43f28ae68aaf592ef644"
            ]
          }
        },
        "5bfecf23a594486aac63e4e7c49ab6b5": {
          "model_module": "@jupyter-widgets/base",
          "model_name": "LayoutModel",
          "state": {
            "_view_name": "LayoutView",
            "grid_template_rows": null,
            "right": null,
            "justify_content": null,
            "_view_module": "@jupyter-widgets/base",
            "overflow": null,
            "_model_module_version": "1.2.0",
            "_view_count": null,
            "flex_flow": null,
            "width": null,
            "min_width": null,
            "border": null,
            "align_items": null,
            "bottom": null,
            "_model_module": "@jupyter-widgets/base",
            "top": null,
            "grid_column": null,
            "overflow_y": null,
            "overflow_x": null,
            "grid_auto_flow": null,
            "grid_area": null,
            "grid_template_columns": null,
            "flex": null,
            "_model_name": "LayoutModel",
            "justify_items": null,
            "grid_row": null,
            "max_height": null,
            "align_content": null,
            "visibility": null,
            "align_self": null,
            "height": null,
            "min_height": null,
            "padding": null,
            "grid_auto_rows": null,
            "grid_gap": null,
            "max_width": null,
            "order": null,
            "_view_module_version": "1.2.0",
            "grid_template_areas": null,
            "object_position": null,
            "object_fit": null,
            "grid_auto_columns": null,
            "margin": null,
            "display": null,
            "left": null
          }
        },
        "82a915dd04e746358418a0a6054960b9": {
          "model_module": "@jupyter-widgets/controls",
          "model_name": "ToggleButtonsModel",
          "state": {
            "_options_labels": [
              "Hyperparameters",
              "AUC",
              "Confusion Matrix",
              "Threshold",
              "Precision Recall",
              "Prediction Error",
              "Class Report",
              "Feature Selection",
              "Learning Curve",
              "Manifold Learning",
              "Calibration Curve",
              "Validation Curve",
              "Dimensions",
              "Feature Importance",
              "Feature Importance (All)",
              "Decision Boundary",
              "Lift Chart",
              "Gain Chart",
              "Decision Tree"
            ],
            "_view_name": "ToggleButtonsView",
            "style": "IPY_MODEL_f8363754e0f14accb72a6c0a42bb7a66",
            "_dom_classes": [],
            "description": "Plot Type:",
            "_model_name": "ToggleButtonsModel",
            "tooltips": [],
            "index": 0,
            "button_style": "",
            "_view_module": "@jupyter-widgets/controls",
            "_model_module_version": "1.5.0",
            "_view_count": null,
            "disabled": false,
            "_view_module_version": "1.5.0",
            "icons": [
              ""
            ],
            "description_tooltip": null,
            "_model_module": "@jupyter-widgets/controls",
            "layout": "IPY_MODEL_1febf603342b4530bfad4e00f78cafed"
          }
        },
        "ac74622a039b43f28ae68aaf592ef644": {
          "model_module": "@jupyter-widgets/output",
          "model_name": "OutputModel",
          "state": {
            "_view_name": "OutputView",
            "msg_id": "",
            "_dom_classes": [],
            "_model_name": "OutputModel",
            "outputs": [
              {
                "output_type": "display_data",
                "metadata": {
                  "tags": []
                },
                "text/html": "<div>\n<style scoped>\n    .dataframe tbody tr th:only-of-type {\n        vertical-align: middle;\n    }\n\n    .dataframe tbody tr th {\n        vertical-align: top;\n    }\n\n    .dataframe thead th {\n        text-align: right;\n    }\n</style>\n<table border=\"1\" class=\"dataframe\">\n  <thead>\n    <tr style=\"text-align: right;\">\n      <th></th>\n      <th>Parameters</th>\n    </tr>\n  </thead>\n  <tbody>\n    <tr>\n      <th>nan_mode</th>\n      <td>Min</td>\n    </tr>\n    <tr>\n      <th>eval_metric</th>\n      <td>Logloss</td>\n    </tr>\n    <tr>\n      <th>iterations</th>\n      <td>1000</td>\n    </tr>\n    <tr>\n      <th>sampling_frequency</th>\n      <td>PerTree</td>\n    </tr>\n    <tr>\n      <th>leaf_estimation_method</th>\n      <td>Newton</td>\n    </tr>\n    <tr>\n      <th>grow_policy</th>\n      <td>SymmetricTree</td>\n    </tr>\n    <tr>\n      <th>penalties_coefficient</th>\n      <td>1</td>\n    </tr>\n    <tr>\n      <th>boosting_type</th>\n      <td>Plain</td>\n    </tr>\n    <tr>\n      <th>model_shrink_mode</th>\n      <td>Constant</td>\n    </tr>\n    <tr>\n      <th>feature_border_type</th>\n      <td>GreedyLogSum</td>\n    </tr>\n    <tr>\n      <th>bayesian_matrix_reg</th>\n      <td>0.10000000149011612</td>\n    </tr>\n    <tr>\n      <th>l2_leaf_reg</th>\n      <td>3</td>\n    </tr>\n    <tr>\n      <th>random_strength</th>\n      <td>1</td>\n    </tr>\n    <tr>\n      <th>rsm</th>\n      <td>1</td>\n    </tr>\n    <tr>\n      <th>boost_from_average</th>\n      <td>False</td>\n    </tr>\n    <tr>\n      <th>model_size_reg</th>\n      <td>0.5</td>\n    </tr>\n    <tr>\n      <th>subsample</th>\n      <td>0.800000011920929</td>\n    </tr>\n    <tr>\n      <th>use_best_model</th>\n      <td>False</td>\n    </tr>\n    <tr>\n      <th>class_names</th>\n      <td>[0, 1]</td>\n    </tr>\n    <tr>\n      <th>random_seed</th>\n      <td>123</td>\n    </tr>\n    <tr>\n      <th>depth</th>\n      <td>6</td>\n    </tr>\n    <tr>\n      <th>posterior_sampling</th>\n      <td>False</td>\n    </tr>\n    <tr>\n      <th>border_count</th>\n      <td>254</td>\n    </tr>\n    <tr>\n      <th>classes_count</th>\n      <td>0</td>\n    </tr>\n    <tr>\n      <th>auto_class_weights</th>\n      <td>None</td>\n    </tr>\n    <tr>\n      <th>sparse_features_conflict_fraction</th>\n      <td>0</td>\n    </tr>\n    <tr>\n      <th>leaf_estimation_backtracking</th>\n      <td>AnyImprovement</td>\n    </tr>\n    <tr>\n      <th>best_model_min_trees</th>\n      <td>1</td>\n    </tr>\n    <tr>\n      <th>model_shrink_rate</th>\n      <td>0</td>\n    </tr>\n    <tr>\n      <th>min_data_in_leaf</th>\n      <td>1</td>\n    </tr>\n    <tr>\n      <th>loss_function</th>\n      <td>Logloss</td>\n    </tr>\n    <tr>\n      <th>learning_rate</th>\n      <td>0.0735429972410202</td>\n    </tr>\n    <tr>\n      <th>score_function</th>\n      <td>Cosine</td>\n    </tr>\n    <tr>\n      <th>task_type</th>\n      <td>CPU</td>\n    </tr>\n    <tr>\n      <th>leaf_estimation_iterations</th>\n      <td>10</td>\n    </tr>\n    <tr>\n      <th>bootstrap_type</th>\n      <td>MVS</td>\n    </tr>\n    <tr>\n      <th>max_leaves</th>\n      <td>64</td>\n    </tr>\n  </tbody>\n</table>\n</div>",
                "text/plain": "                                            Parameters\nnan_mode                                           Min\neval_metric                                    Logloss\niterations                                        1000\nsampling_frequency                             PerTree\nleaf_estimation_method                          Newton\ngrow_policy                              SymmetricTree\npenalties_coefficient                                1\nboosting_type                                    Plain\nmodel_shrink_mode                             Constant\nfeature_border_type                       GreedyLogSum\nbayesian_matrix_reg                0.10000000149011612\nl2_leaf_reg                                          3\nrandom_strength                                      1\nrsm                                                  1\nboost_from_average                               False\nmodel_size_reg                                     0.5\nsubsample                            0.800000011920929\nuse_best_model                                   False\nclass_names                                     [0, 1]\nrandom_seed                                        123\ndepth                                                6\nposterior_sampling                               False\nborder_count                                       254\nclasses_count                                        0\nauto_class_weights                                None\nsparse_features_conflict_fraction                    0\nleaf_estimation_backtracking            AnyImprovement\nbest_model_min_trees                                 1\nmodel_shrink_rate                                    0\nmin_data_in_leaf                                     1\nloss_function                                  Logloss\nlearning_rate                       0.0735429972410202\nscore_function                                  Cosine\ntask_type                                          CPU\nleaf_estimation_iterations                          10\nbootstrap_type                                     MVS\nmax_leaves                                          64"
              }
            ],
            "_view_module": "@jupyter-widgets/output",
            "_model_module_version": "1.0.0",
            "_view_count": null,
            "_view_module_version": "1.0.0",
            "layout": "IPY_MODEL_a580a0fadb954686b8fc1afcf0ad351c",
            "_model_module": "@jupyter-widgets/output"
          }
        },
        "f8363754e0f14accb72a6c0a42bb7a66": {
          "model_module": "@jupyter-widgets/controls",
          "model_name": "ToggleButtonsStyleModel",
          "state": {
            "_view_name": "StyleView",
            "button_width": "",
            "_model_name": "ToggleButtonsStyleModel",
            "description_width": "",
            "_view_module": "@jupyter-widgets/base",
            "_model_module_version": "1.5.0",
            "_view_count": null,
            "font_weight": "",
            "_view_module_version": "1.2.0",
            "_model_module": "@jupyter-widgets/controls"
          }
        },
        "1febf603342b4530bfad4e00f78cafed": {
          "model_module": "@jupyter-widgets/base",
          "model_name": "LayoutModel",
          "state": {
            "_view_name": "LayoutView",
            "grid_template_rows": null,
            "right": null,
            "justify_content": null,
            "_view_module": "@jupyter-widgets/base",
            "overflow": null,
            "_model_module_version": "1.2.0",
            "_view_count": null,
            "flex_flow": null,
            "width": null,
            "min_width": null,
            "border": null,
            "align_items": null,
            "bottom": null,
            "_model_module": "@jupyter-widgets/base",
            "top": null,
            "grid_column": null,
            "overflow_y": null,
            "overflow_x": null,
            "grid_auto_flow": null,
            "grid_area": null,
            "grid_template_columns": null,
            "flex": null,
            "_model_name": "LayoutModel",
            "justify_items": null,
            "grid_row": null,
            "max_height": null,
            "align_content": null,
            "visibility": null,
            "align_self": null,
            "height": null,
            "min_height": null,
            "padding": null,
            "grid_auto_rows": null,
            "grid_gap": null,
            "max_width": null,
            "order": null,
            "_view_module_version": "1.2.0",
            "grid_template_areas": null,
            "object_position": null,
            "object_fit": null,
            "grid_auto_columns": null,
            "margin": null,
            "display": null,
            "left": null
          }
        },
        "a580a0fadb954686b8fc1afcf0ad351c": {
          "model_module": "@jupyter-widgets/base",
          "model_name": "LayoutModel",
          "state": {
            "_view_name": "LayoutView",
            "grid_template_rows": null,
            "right": null,
            "justify_content": null,
            "_view_module": "@jupyter-widgets/base",
            "overflow": null,
            "_model_module_version": "1.2.0",
            "_view_count": null,
            "flex_flow": null,
            "width": null,
            "min_width": null,
            "border": null,
            "align_items": null,
            "bottom": null,
            "_model_module": "@jupyter-widgets/base",
            "top": null,
            "grid_column": null,
            "overflow_y": null,
            "overflow_x": null,
            "grid_auto_flow": null,
            "grid_area": null,
            "grid_template_columns": null,
            "flex": null,
            "_model_name": "LayoutModel",
            "justify_items": null,
            "grid_row": null,
            "max_height": null,
            "align_content": null,
            "visibility": null,
            "align_self": null,
            "height": null,
            "min_height": null,
            "padding": null,
            "grid_auto_rows": null,
            "grid_gap": null,
            "max_width": null,
            "order": null,
            "_view_module_version": "1.2.0",
            "grid_template_areas": null,
            "object_position": null,
            "object_fit": null,
            "grid_auto_columns": null,
            "margin": null,
            "display": null,
            "left": null
          }
        },
        "f22fcec403824554996385ec9f9ca00b": {
          "model_module": "@jupyter-widgets/controls",
          "model_name": "IntProgressModel",
          "state": {
            "_view_name": "ProgressView",
            "style": "IPY_MODEL_085f564d55fc42afa0419e0d06cf98eb",
            "_dom_classes": [],
            "description": "Processing: ",
            "_model_name": "IntProgressModel",
            "bar_style": "",
            "max": 4,
            "_view_module": "@jupyter-widgets/controls",
            "_model_module_version": "1.5.0",
            "value": 4,
            "_view_count": null,
            "_view_module_version": "1.5.0",
            "orientation": "horizontal",
            "min": 0,
            "description_tooltip": null,
            "_model_module": "@jupyter-widgets/controls",
            "layout": "IPY_MODEL_e3d8cb2bba244ae892fd899a98a699a9"
          }
        },
        "085f564d55fc42afa0419e0d06cf98eb": {
          "model_module": "@jupyter-widgets/controls",
          "model_name": "ProgressStyleModel",
          "state": {
            "_view_name": "StyleView",
            "_model_name": "ProgressStyleModel",
            "description_width": "",
            "_view_module": "@jupyter-widgets/base",
            "_model_module_version": "1.5.0",
            "_view_count": null,
            "_view_module_version": "1.2.0",
            "bar_color": null,
            "_model_module": "@jupyter-widgets/controls"
          }
        },
        "e3d8cb2bba244ae892fd899a98a699a9": {
          "model_module": "@jupyter-widgets/base",
          "model_name": "LayoutModel",
          "state": {
            "_view_name": "LayoutView",
            "grid_template_rows": null,
            "right": null,
            "justify_content": null,
            "_view_module": "@jupyter-widgets/base",
            "overflow": null,
            "_model_module_version": "1.2.0",
            "_view_count": null,
            "flex_flow": null,
            "width": null,
            "min_width": null,
            "border": null,
            "align_items": null,
            "bottom": null,
            "_model_module": "@jupyter-widgets/base",
            "top": null,
            "grid_column": null,
            "overflow_y": null,
            "overflow_x": null,
            "grid_auto_flow": null,
            "grid_area": null,
            "grid_template_columns": null,
            "flex": null,
            "_model_name": "LayoutModel",
            "justify_items": null,
            "grid_row": null,
            "max_height": null,
            "align_content": null,
            "visibility": null,
            "align_self": null,
            "height": null,
            "min_height": null,
            "padding": null,
            "grid_auto_rows": null,
            "grid_gap": null,
            "max_width": null,
            "order": null,
            "_view_module_version": "1.2.0",
            "grid_template_areas": null,
            "object_position": null,
            "object_fit": null,
            "grid_auto_columns": null,
            "margin": null,
            "display": null,
            "left": null
          }
        },
        "e087d0860e004788837cd8125941a875": {
          "model_module": "@jupyter-widgets/controls",
          "model_name": "IntProgressModel",
          "state": {
            "_view_name": "ProgressView",
            "style": "IPY_MODEL_ce513aedd864422c9170f1382dcdfb22",
            "_dom_classes": [],
            "description": "Processing: ",
            "_model_name": "IntProgressModel",
            "bar_style": "",
            "max": 7,
            "_view_module": "@jupyter-widgets/controls",
            "_model_module_version": "1.5.0",
            "value": 7,
            "_view_count": null,
            "_view_module_version": "1.5.0",
            "orientation": "horizontal",
            "min": 0,
            "description_tooltip": null,
            "_model_module": "@jupyter-widgets/controls",
            "layout": "IPY_MODEL_4053d1cd9e1a4716a1816bda7468ed03"
          }
        },
        "ce513aedd864422c9170f1382dcdfb22": {
          "model_module": "@jupyter-widgets/controls",
          "model_name": "ProgressStyleModel",
          "state": {
            "_view_name": "StyleView",
            "_model_name": "ProgressStyleModel",
            "description_width": "",
            "_view_module": "@jupyter-widgets/base",
            "_model_module_version": "1.5.0",
            "_view_count": null,
            "_view_module_version": "1.2.0",
            "bar_color": null,
            "_model_module": "@jupyter-widgets/controls"
          }
        },
        "4053d1cd9e1a4716a1816bda7468ed03": {
          "model_module": "@jupyter-widgets/base",
          "model_name": "LayoutModel",
          "state": {
            "_view_name": "LayoutView",
            "grid_template_rows": null,
            "right": null,
            "justify_content": null,
            "_view_module": "@jupyter-widgets/base",
            "overflow": null,
            "_model_module_version": "1.2.0",
            "_view_count": null,
            "flex_flow": null,
            "width": null,
            "min_width": null,
            "border": null,
            "align_items": null,
            "bottom": null,
            "_model_module": "@jupyter-widgets/base",
            "top": null,
            "grid_column": null,
            "overflow_y": null,
            "overflow_x": null,
            "grid_auto_flow": null,
            "grid_area": null,
            "grid_template_columns": null,
            "flex": null,
            "_model_name": "LayoutModel",
            "justify_items": null,
            "grid_row": null,
            "max_height": null,
            "align_content": null,
            "visibility": null,
            "align_self": null,
            "height": null,
            "min_height": null,
            "padding": null,
            "grid_auto_rows": null,
            "grid_gap": null,
            "max_width": null,
            "order": null,
            "_view_module_version": "1.2.0",
            "grid_template_areas": null,
            "object_position": null,
            "object_fit": null,
            "grid_auto_columns": null,
            "margin": null,
            "display": null,
            "left": null
          }
        },
        "31e3d57fd78c49ce81fc0b87321d0afa": {
          "model_module": "@jupyter-widgets/controls",
          "model_name": "IntProgressModel",
          "state": {
            "_view_name": "ProgressView",
            "style": "IPY_MODEL_3eefd7c86d0c41939d7840d8cc96ff84",
            "_dom_classes": [],
            "description": "Processing: ",
            "_model_name": "IntProgressModel",
            "bar_style": "",
            "max": 5,
            "_view_module": "@jupyter-widgets/controls",
            "_model_module_version": "1.5.0",
            "value": 5,
            "_view_count": null,
            "_view_module_version": "1.5.0",
            "orientation": "horizontal",
            "min": 0,
            "description_tooltip": null,
            "_model_module": "@jupyter-widgets/controls",
            "layout": "IPY_MODEL_c8b4f0ce088043f6ad1a073ab931e3d4"
          }
        },
        "d12f535bca174e5cb705dfbd2175edae": {
          "model_module": "@jupyter-widgets/controls",
          "model_name": "IntProgressModel",
          "state": {
            "_view_name": "ProgressView",
            "style": "IPY_MODEL_b296068f680243d08c3a82545da8fac8",
            "_dom_classes": [],
            "description": "Processing: ",
            "_model_name": "IntProgressModel",
            "bar_style": "",
            "max": 7,
            "_view_module": "@jupyter-widgets/controls",
            "_model_module_version": "1.5.0",
            "value": 7,
            "_view_count": null,
            "_view_module_version": "1.5.0",
            "orientation": "horizontal",
            "min": 0,
            "description_tooltip": null,
            "_model_module": "@jupyter-widgets/controls",
            "layout": "IPY_MODEL_a92e437e69504dee912563508042375d"
          }
        },
        "b296068f680243d08c3a82545da8fac8": {
          "model_module": "@jupyter-widgets/controls",
          "model_name": "ProgressStyleModel",
          "state": {
            "_view_name": "StyleView",
            "_model_name": "ProgressStyleModel",
            "description_width": "",
            "_view_module": "@jupyter-widgets/base",
            "_model_module_version": "1.5.0",
            "_view_count": null,
            "_view_module_version": "1.2.0",
            "bar_color": null,
            "_model_module": "@jupyter-widgets/controls"
          }
        },
        "a92e437e69504dee912563508042375d": {
          "model_module": "@jupyter-widgets/base",
          "model_name": "LayoutModel",
          "state": {
            "_view_name": "LayoutView",
            "grid_template_rows": null,
            "right": null,
            "justify_content": null,
            "_view_module": "@jupyter-widgets/base",
            "overflow": null,
            "_model_module_version": "1.2.0",
            "_view_count": null,
            "flex_flow": null,
            "width": null,
            "min_width": null,
            "border": null,
            "align_items": null,
            "bottom": null,
            "_model_module": "@jupyter-widgets/base",
            "top": null,
            "grid_column": null,
            "overflow_y": null,
            "overflow_x": null,
            "grid_auto_flow": null,
            "grid_area": null,
            "grid_template_columns": null,
            "flex": null,
            "_model_name": "LayoutModel",
            "justify_items": null,
            "grid_row": null,
            "max_height": null,
            "align_content": null,
            "visibility": null,
            "align_self": null,
            "height": null,
            "min_height": null,
            "padding": null,
            "grid_auto_rows": null,
            "grid_gap": null,
            "max_width": null,
            "order": null,
            "_view_module_version": "1.2.0",
            "grid_template_areas": null,
            "object_position": null,
            "object_fit": null,
            "grid_auto_columns": null,
            "margin": null,
            "display": null,
            "left": null
          }
        },
        "f068a52a77a24b28bf9acf541b63eda0": {
          "model_module": "@jupyter-widgets/controls",
          "model_name": "IntProgressModel",
          "state": {
            "_view_name": "ProgressView",
            "style": "IPY_MODEL_456b1c130123463c827ccd56cb0cfe69",
            "_dom_classes": [],
            "description": "Processing: ",
            "_model_name": "IntProgressModel",
            "bar_style": "",
            "max": 4,
            "_view_module": "@jupyter-widgets/controls",
            "_model_module_version": "1.5.0",
            "value": 4,
            "_view_count": null,
            "_view_module_version": "1.5.0",
            "orientation": "horizontal",
            "min": 0,
            "description_tooltip": null,
            "_model_module": "@jupyter-widgets/controls",
            "layout": "IPY_MODEL_17dbe1358a5e46eb98d9249e92a7b38a"
          }
        },
        "456b1c130123463c827ccd56cb0cfe69": {
          "model_module": "@jupyter-widgets/controls",
          "model_name": "ProgressStyleModel",
          "state": {
            "_view_name": "StyleView",
            "_model_name": "ProgressStyleModel",
            "description_width": "",
            "_view_module": "@jupyter-widgets/base",
            "_model_module_version": "1.5.0",
            "_view_count": null,
            "_view_module_version": "1.2.0",
            "bar_color": null,
            "_model_module": "@jupyter-widgets/controls"
          }
        },
        "17dbe1358a5e46eb98d9249e92a7b38a": {
          "model_module": "@jupyter-widgets/base",
          "model_name": "LayoutModel",
          "state": {
            "_view_name": "LayoutView",
            "grid_template_rows": null,
            "right": null,
            "justify_content": null,
            "_view_module": "@jupyter-widgets/base",
            "overflow": null,
            "_model_module_version": "1.2.0",
            "_view_count": null,
            "flex_flow": null,
            "width": null,
            "min_width": null,
            "border": null,
            "align_items": null,
            "bottom": null,
            "_model_module": "@jupyter-widgets/base",
            "top": null,
            "grid_column": null,
            "overflow_y": null,
            "overflow_x": null,
            "grid_auto_flow": null,
            "grid_area": null,
            "grid_template_columns": null,
            "flex": null,
            "_model_name": "LayoutModel",
            "justify_items": null,
            "grid_row": null,
            "max_height": null,
            "align_content": null,
            "visibility": null,
            "align_self": null,
            "height": null,
            "min_height": null,
            "padding": null,
            "grid_auto_rows": null,
            "grid_gap": null,
            "max_width": null,
            "order": null,
            "_view_module_version": "1.2.0",
            "grid_template_areas": null,
            "object_position": null,
            "object_fit": null,
            "grid_auto_columns": null,
            "margin": null,
            "display": null,
            "left": null
          }
        },
        "d8141e33e2934a5a8dae11ecbbe2c48c": {
          "model_module": "@jupyter-widgets/controls",
          "model_name": "IntProgressModel",
          "state": {
            "_view_name": "ProgressView",
            "style": "IPY_MODEL_af05b1d4407646779d32bfc93f2801e6",
            "_dom_classes": [],
            "description": "Processing: ",
            "_model_name": "IntProgressModel",
            "bar_style": "",
            "max": 7,
            "_view_module": "@jupyter-widgets/controls",
            "_model_module_version": "1.5.0",
            "value": 7,
            "_view_count": null,
            "_view_module_version": "1.5.0",
            "orientation": "horizontal",
            "min": 0,
            "description_tooltip": null,
            "_model_module": "@jupyter-widgets/controls",
            "layout": "IPY_MODEL_9d05a58440a7400da1339185ee9af306"
          }
        },
        "af05b1d4407646779d32bfc93f2801e6": {
          "model_module": "@jupyter-widgets/controls",
          "model_name": "ProgressStyleModel",
          "state": {
            "_view_name": "StyleView",
            "_model_name": "ProgressStyleModel",
            "description_width": "",
            "_view_module": "@jupyter-widgets/base",
            "_model_module_version": "1.5.0",
            "_view_count": null,
            "_view_module_version": "1.2.0",
            "bar_color": null,
            "_model_module": "@jupyter-widgets/controls"
          }
        },
        "9d05a58440a7400da1339185ee9af306": {
          "model_module": "@jupyter-widgets/base",
          "model_name": "LayoutModel",
          "state": {
            "_view_name": "LayoutView",
            "grid_template_rows": null,
            "right": null,
            "justify_content": null,
            "_view_module": "@jupyter-widgets/base",
            "overflow": null,
            "_model_module_version": "1.2.0",
            "_view_count": null,
            "flex_flow": null,
            "width": null,
            "min_width": null,
            "border": null,
            "align_items": null,
            "bottom": null,
            "_model_module": "@jupyter-widgets/base",
            "top": null,
            "grid_column": null,
            "overflow_y": null,
            "overflow_x": null,
            "grid_auto_flow": null,
            "grid_area": null,
            "grid_template_columns": null,
            "flex": null,
            "_model_name": "LayoutModel",
            "justify_items": null,
            "grid_row": null,
            "max_height": null,
            "align_content": null,
            "visibility": null,
            "align_self": null,
            "height": null,
            "min_height": null,
            "padding": null,
            "grid_auto_rows": null,
            "grid_gap": null,
            "max_width": null,
            "order": null,
            "_view_module_version": "1.2.0",
            "grid_template_areas": null,
            "object_position": null,
            "object_fit": null,
            "grid_auto_columns": null,
            "margin": null,
            "display": null,
            "left": null
          }
        },
        "dd8a245bc172479aa69e3843dccfac81": {
          "model_module": "@jupyter-widgets/controls",
          "model_name": "IntProgressModel",
          "state": {
            "_view_name": "ProgressView",
            "style": "IPY_MODEL_285747aaa8c941c4ada148b472b57335",
            "_dom_classes": [],
            "description": "Processing: ",
            "_model_name": "IntProgressModel",
            "bar_style": "",
            "max": 7,
            "_view_module": "@jupyter-widgets/controls",
            "_model_module_version": "1.5.0",
            "value": 7,
            "_view_count": null,
            "_view_module_version": "1.5.0",
            "orientation": "horizontal",
            "min": 0,
            "description_tooltip": null,
            "_model_module": "@jupyter-widgets/controls",
            "layout": "IPY_MODEL_5b8605f39b994fa1adf52483b7d7e860"
          }
        },
        "285747aaa8c941c4ada148b472b57335": {
          "model_module": "@jupyter-widgets/controls",
          "model_name": "ProgressStyleModel",
          "state": {
            "_view_name": "StyleView",
            "_model_name": "ProgressStyleModel",
            "description_width": "",
            "_view_module": "@jupyter-widgets/base",
            "_model_module_version": "1.5.0",
            "_view_count": null,
            "_view_module_version": "1.2.0",
            "bar_color": null,
            "_model_module": "@jupyter-widgets/controls"
          }
        },
        "5b8605f39b994fa1adf52483b7d7e860": {
          "model_module": "@jupyter-widgets/base",
          "model_name": "LayoutModel",
          "state": {
            "_view_name": "LayoutView",
            "grid_template_rows": null,
            "right": null,
            "justify_content": null,
            "_view_module": "@jupyter-widgets/base",
            "overflow": null,
            "_model_module_version": "1.2.0",
            "_view_count": null,
            "flex_flow": null,
            "width": null,
            "min_width": null,
            "border": null,
            "align_items": null,
            "bottom": null,
            "_model_module": "@jupyter-widgets/base",
            "top": null,
            "grid_column": null,
            "overflow_y": null,
            "overflow_x": null,
            "grid_auto_flow": null,
            "grid_area": null,
            "grid_template_columns": null,
            "flex": null,
            "_model_name": "LayoutModel",
            "justify_items": null,
            "grid_row": null,
            "max_height": null,
            "align_content": null,
            "visibility": null,
            "align_self": null,
            "height": null,
            "min_height": null,
            "padding": null,
            "grid_auto_rows": null,
            "grid_gap": null,
            "max_width": null,
            "order": null,
            "_view_module_version": "1.2.0",
            "grid_template_areas": null,
            "object_position": null,
            "object_fit": null,
            "grid_auto_columns": null,
            "margin": null,
            "display": null,
            "left": null
          }
        },
        "05a6ba6c201b42f29ad73bb3bea5c88d": {
          "model_module": "@jupyter-widgets/controls",
          "model_name": "IntProgressModel",
          "state": {
            "_view_name": "ProgressView",
            "style": "IPY_MODEL_ff8e30830796488bbca4244c6ff659f0",
            "_dom_classes": [],
            "description": "Processing: ",
            "_model_name": "IntProgressModel",
            "bar_style": "",
            "max": 4,
            "_view_module": "@jupyter-widgets/controls",
            "_model_module_version": "1.5.0",
            "value": 4,
            "_view_count": null,
            "_view_module_version": "1.5.0",
            "orientation": "horizontal",
            "min": 0,
            "description_tooltip": null,
            "_model_module": "@jupyter-widgets/controls",
            "layout": "IPY_MODEL_ac18725b6f564a3a823f5703580665fa"
          }
        },
        "ff8e30830796488bbca4244c6ff659f0": {
          "model_module": "@jupyter-widgets/controls",
          "model_name": "ProgressStyleModel",
          "state": {
            "_view_name": "StyleView",
            "_model_name": "ProgressStyleModel",
            "description_width": "",
            "_view_module": "@jupyter-widgets/base",
            "_model_module_version": "1.5.0",
            "_view_count": null,
            "_view_module_version": "1.2.0",
            "bar_color": null,
            "_model_module": "@jupyter-widgets/controls"
          }
        },
        "ac18725b6f564a3a823f5703580665fa": {
          "model_module": "@jupyter-widgets/base",
          "model_name": "LayoutModel",
          "state": {
            "_view_name": "LayoutView",
            "grid_template_rows": null,
            "right": null,
            "justify_content": null,
            "_view_module": "@jupyter-widgets/base",
            "overflow": null,
            "_model_module_version": "1.2.0",
            "_view_count": null,
            "flex_flow": null,
            "width": null,
            "min_width": null,
            "border": null,
            "align_items": null,
            "bottom": null,
            "_model_module": "@jupyter-widgets/base",
            "top": null,
            "grid_column": null,
            "overflow_y": null,
            "overflow_x": null,
            "grid_auto_flow": null,
            "grid_area": null,
            "grid_template_columns": null,
            "flex": null,
            "_model_name": "LayoutModel",
            "justify_items": null,
            "grid_row": null,
            "max_height": null,
            "align_content": null,
            "visibility": null,
            "align_self": null,
            "height": null,
            "min_height": null,
            "padding": null,
            "grid_auto_rows": null,
            "grid_gap": null,
            "max_width": null,
            "order": null,
            "_view_module_version": "1.2.0",
            "grid_template_areas": null,
            "object_position": null,
            "object_fit": null,
            "grid_auto_columns": null,
            "margin": null,
            "display": null,
            "left": null
          }
        },
        "3e096aa1785d4789ab4548cfe6ad15e7": {
          "model_module": "@jupyter-widgets/controls",
          "model_name": "IntProgressModel",
          "state": {
            "_view_name": "ProgressView",
            "style": "IPY_MODEL_ffa8a945051c49b09ead0c969f6e8c0e",
            "_dom_classes": [],
            "description": "Processing: ",
            "_model_name": "IntProgressModel",
            "bar_style": "",
            "max": 7,
            "_view_module": "@jupyter-widgets/controls",
            "_model_module_version": "1.5.0",
            "value": 7,
            "_view_count": null,
            "_view_module_version": "1.5.0",
            "orientation": "horizontal",
            "min": 0,
            "description_tooltip": null,
            "_model_module": "@jupyter-widgets/controls",
            "layout": "IPY_MODEL_6e86bc77b71f49319e769646707fc621"
          }
        },
        "ffa8a945051c49b09ead0c969f6e8c0e": {
          "model_module": "@jupyter-widgets/controls",
          "model_name": "ProgressStyleModel",
          "state": {
            "_view_name": "StyleView",
            "_model_name": "ProgressStyleModel",
            "description_width": "",
            "_view_module": "@jupyter-widgets/base",
            "_model_module_version": "1.5.0",
            "_view_count": null,
            "_view_module_version": "1.2.0",
            "bar_color": null,
            "_model_module": "@jupyter-widgets/controls"
          }
        },
        "6e86bc77b71f49319e769646707fc621": {
          "model_module": "@jupyter-widgets/base",
          "model_name": "LayoutModel",
          "state": {
            "_view_name": "LayoutView",
            "grid_template_rows": null,
            "right": null,
            "justify_content": null,
            "_view_module": "@jupyter-widgets/base",
            "overflow": null,
            "_model_module_version": "1.2.0",
            "_view_count": null,
            "flex_flow": null,
            "width": null,
            "min_width": null,
            "border": null,
            "align_items": null,
            "bottom": null,
            "_model_module": "@jupyter-widgets/base",
            "top": null,
            "grid_column": null,
            "overflow_y": null,
            "overflow_x": null,
            "grid_auto_flow": null,
            "grid_area": null,
            "grid_template_columns": null,
            "flex": null,
            "_model_name": "LayoutModel",
            "justify_items": null,
            "grid_row": null,
            "max_height": null,
            "align_content": null,
            "visibility": null,
            "align_self": null,
            "height": null,
            "min_height": null,
            "padding": null,
            "grid_auto_rows": null,
            "grid_gap": null,
            "max_width": null,
            "order": null,
            "_view_module_version": "1.2.0",
            "grid_template_areas": null,
            "object_position": null,
            "object_fit": null,
            "grid_auto_columns": null,
            "margin": null,
            "display": null,
            "left": null
          }
        },
        "f3ab14fdd67841fe879262b9319cd6a7": {
          "model_module": "@jupyter-widgets/controls",
          "model_name": "IntProgressModel",
          "state": {
            "_view_name": "ProgressView",
            "style": "IPY_MODEL_b53000a45e8b4af6a639bc81f12090df",
            "_dom_classes": [],
            "description": "Processing: ",
            "_model_name": "IntProgressModel",
            "bar_style": "",
            "max": 7,
            "_view_module": "@jupyter-widgets/controls",
            "_model_module_version": "1.5.0",
            "value": 7,
            "_view_count": null,
            "_view_module_version": "1.5.0",
            "orientation": "horizontal",
            "min": 0,
            "description_tooltip": null,
            "_model_module": "@jupyter-widgets/controls",
            "layout": "IPY_MODEL_a26c75ec27074af1893a9822e344fc04"
          }
        },
        "b53000a45e8b4af6a639bc81f12090df": {
          "model_module": "@jupyter-widgets/controls",
          "model_name": "ProgressStyleModel",
          "state": {
            "_view_name": "StyleView",
            "_model_name": "ProgressStyleModel",
            "description_width": "",
            "_view_module": "@jupyter-widgets/base",
            "_model_module_version": "1.5.0",
            "_view_count": null,
            "_view_module_version": "1.2.0",
            "bar_color": null,
            "_model_module": "@jupyter-widgets/controls"
          }
        },
        "a26c75ec27074af1893a9822e344fc04": {
          "model_module": "@jupyter-widgets/base",
          "model_name": "LayoutModel",
          "state": {
            "_view_name": "LayoutView",
            "grid_template_rows": null,
            "right": null,
            "justify_content": null,
            "_view_module": "@jupyter-widgets/base",
            "overflow": null,
            "_model_module_version": "1.2.0",
            "_view_count": null,
            "flex_flow": null,
            "width": null,
            "min_width": null,
            "border": null,
            "align_items": null,
            "bottom": null,
            "_model_module": "@jupyter-widgets/base",
            "top": null,
            "grid_column": null,
            "overflow_y": null,
            "overflow_x": null,
            "grid_auto_flow": null,
            "grid_area": null,
            "grid_template_columns": null,
            "flex": null,
            "_model_name": "LayoutModel",
            "justify_items": null,
            "grid_row": null,
            "max_height": null,
            "align_content": null,
            "visibility": null,
            "align_self": null,
            "height": null,
            "min_height": null,
            "padding": null,
            "grid_auto_rows": null,
            "grid_gap": null,
            "max_width": null,
            "order": null,
            "_view_module_version": "1.2.0",
            "grid_template_areas": null,
            "object_position": null,
            "object_fit": null,
            "grid_auto_columns": null,
            "margin": null,
            "display": null,
            "left": null
          }
        },
        "d4392160f7064080896ca3a0d99f0b13": {
          "model_module": "@jupyter-widgets/controls",
          "model_name": "IntProgressModel",
          "state": {
            "_view_name": "ProgressView",
            "style": "IPY_MODEL_beeab82fbe804cefa8b51067dae2bfd3",
            "_dom_classes": [],
            "description": "Processing: ",
            "_model_name": "IntProgressModel",
            "bar_style": "",
            "max": 5,
            "_view_module": "@jupyter-widgets/controls",
            "_model_module_version": "1.5.0",
            "value": 5,
            "_view_count": null,
            "_view_module_version": "1.5.0",
            "orientation": "horizontal",
            "min": 0,
            "description_tooltip": null,
            "_model_module": "@jupyter-widgets/controls",
            "layout": "IPY_MODEL_7ade6e9732fd4d71936bf2bc49f83c92"
          }
        },
        "beeab82fbe804cefa8b51067dae2bfd3": {
          "model_module": "@jupyter-widgets/controls",
          "model_name": "ProgressStyleModel",
          "state": {
            "_view_name": "StyleView",
            "_model_name": "ProgressStyleModel",
            "description_width": "",
            "_view_module": "@jupyter-widgets/base",
            "_model_module_version": "1.5.0",
            "_view_count": null,
            "_view_module_version": "1.2.0",
            "bar_color": null,
            "_model_module": "@jupyter-widgets/controls"
          }
        },
        "7ade6e9732fd4d71936bf2bc49f83c92": {
          "model_module": "@jupyter-widgets/base",
          "model_name": "LayoutModel",
          "state": {
            "_view_name": "LayoutView",
            "grid_template_rows": null,
            "right": null,
            "justify_content": null,
            "_view_module": "@jupyter-widgets/base",
            "overflow": null,
            "_model_module_version": "1.2.0",
            "_view_count": null,
            "flex_flow": null,
            "width": null,
            "min_width": null,
            "border": null,
            "align_items": null,
            "bottom": null,
            "_model_module": "@jupyter-widgets/base",
            "top": null,
            "grid_column": null,
            "overflow_y": null,
            "overflow_x": null,
            "grid_auto_flow": null,
            "grid_area": null,
            "grid_template_columns": null,
            "flex": null,
            "_model_name": "LayoutModel",
            "justify_items": null,
            "grid_row": null,
            "max_height": null,
            "align_content": null,
            "visibility": null,
            "align_self": null,
            "height": null,
            "min_height": null,
            "padding": null,
            "grid_auto_rows": null,
            "grid_gap": null,
            "max_width": null,
            "order": null,
            "_view_module_version": "1.2.0",
            "grid_template_areas": null,
            "object_position": null,
            "object_fit": null,
            "grid_auto_columns": null,
            "margin": null,
            "display": null,
            "left": null
          }
        },
        "51284dd8154149679adac0535746beda": {
          "model_module": "@jupyter-widgets/controls",
          "model_name": "IntProgressModel",
          "state": {
            "_view_name": "ProgressView",
            "style": "IPY_MODEL_4d72f1d6f26541a4a5dde94534536afa",
            "_dom_classes": [],
            "description": "Processing: ",
            "_model_name": "IntProgressModel",
            "bar_style": "",
            "max": 5,
            "_view_module": "@jupyter-widgets/controls",
            "_model_module_version": "1.5.0",
            "value": 5,
            "_view_count": null,
            "_view_module_version": "1.5.0",
            "orientation": "horizontal",
            "min": 0,
            "description_tooltip": null,
            "_model_module": "@jupyter-widgets/controls",
            "layout": "IPY_MODEL_e86771d78ae8492683ad79da290bd2f2"
          }
        }
      }
    }
  },
  "cells": [
    {
      "cell_type": "code",
      "metadata": {
        "id": "RKhwSONjkj3l"
      },
      "source": [
        ""
      ],
      "execution_count": null,
      "outputs": []
    },
    {
      "cell_type": "code",
      "metadata": {
        "id": "0zfXfJqFHzZL"
      },
      "source": [
        "import datetime\n",
        "import json\n",
        "import os\n",
        "import pprint\n",
        "import random\n",
        "import string\n",
        "import sys\n",
        "import tensorflow as tf\n",
        "import pandas as pd\n",
        "import matplotlib.pyplot as plt\n",
        "import seaborn as sns\n",
        "sns.set()"
      ],
      "execution_count": null,
      "outputs": []
    },
    {
      "cell_type": "code",
      "metadata": {
        "id": "wXndM1xsuDYQ",
        "colab": {
          "base_uri": "https://localhost:8080/"
        },
        "outputId": "388e8ba4-ee6a-499b-8beb-42289eaf33ec"
      },
      "source": [
        "# Measure test execution time\n",
        "!pip install ipython-autotime\n",
        "%load_ext autotime"
      ],
      "execution_count": null,
      "outputs": [
        {
          "output_type": "stream",
          "text": [
            "Collecting ipython-autotime\n",
            "  Downloading https://files.pythonhosted.org/packages/3f/58/a4a65efcce5c81a67b6893ade862736de355a3a718af5533d30c991831ce/ipython_autotime-0.2.0-py2.py3-none-any.whl\n",
            "Requirement already satisfied: ipython in /usr/local/lib/python3.6/dist-packages (from ipython-autotime) (5.5.0)\n",
            "Requirement already satisfied: traitlets>=4.2 in /usr/local/lib/python3.6/dist-packages (from ipython->ipython-autotime) (4.3.3)\n",
            "Requirement already satisfied: pickleshare in /usr/local/lib/python3.6/dist-packages (from ipython->ipython-autotime) (0.7.5)\n",
            "Requirement already satisfied: pexpect; sys_platform != \"win32\" in /usr/local/lib/python3.6/dist-packages (from ipython->ipython-autotime) (4.8.0)\n",
            "Requirement already satisfied: pygments in /usr/local/lib/python3.6/dist-packages (from ipython->ipython-autotime) (2.6.1)\n",
            "Requirement already satisfied: prompt-toolkit<2.0.0,>=1.0.4 in /usr/local/lib/python3.6/dist-packages (from ipython->ipython-autotime) (1.0.18)\n",
            "Requirement already satisfied: simplegeneric>0.8 in /usr/local/lib/python3.6/dist-packages (from ipython->ipython-autotime) (0.8.1)\n",
            "Requirement already satisfied: setuptools>=18.5 in /usr/local/lib/python3.6/dist-packages (from ipython->ipython-autotime) (50.3.2)\n",
            "Requirement already satisfied: decorator in /usr/local/lib/python3.6/dist-packages (from ipython->ipython-autotime) (4.4.2)\n",
            "Requirement already satisfied: ipython-genutils in /usr/local/lib/python3.6/dist-packages (from traitlets>=4.2->ipython->ipython-autotime) (0.2.0)\n",
            "Requirement already satisfied: six in /usr/local/lib/python3.6/dist-packages (from traitlets>=4.2->ipython->ipython-autotime) (1.15.0)\n",
            "Requirement already satisfied: ptyprocess>=0.5 in /usr/local/lib/python3.6/dist-packages (from pexpect; sys_platform != \"win32\"->ipython->ipython-autotime) (0.6.0)\n",
            "Requirement already satisfied: wcwidth in /usr/local/lib/python3.6/dist-packages (from prompt-toolkit<2.0.0,>=1.0.4->ipython->ipython-autotime) (0.2.5)\n",
            "Installing collected packages: ipython-autotime\n",
            "Successfully installed ipython-autotime-0.2.0\n",
            "time: 179 µs\n"
          ],
          "name": "stdout"
        }
      ]
    },
    {
      "cell_type": "markdown",
      "metadata": {
        "id": "qT-mOxTUIV9T"
      },
      "source": [
        "## Setting up colab with TPU and PYCARET"
      ]
    },
    {
      "cell_type": "code",
      "metadata": {
        "id": "QFdlBO8Y4s3l",
        "colab": {
          "base_uri": "https://localhost:8080/"
        },
        "outputId": "89c33e73-858e-4bfd-8363-cb9a0cdb1d8e"
      },
      "source": [
        "assert 'COLAB_TPU_ADDR' in os.environ, 'ERROR: Not connected to a TPU runtime; please see the first cell in this notebook for instructions!'\n",
        "TPU_ADDRESS = 'grpc://' + os.environ['COLAB_TPU_ADDR']\n",
        "print('TPU address is => ', TPU_ADDRESS)\n"
      ],
      "execution_count": null,
      "outputs": [
        {
          "output_type": "stream",
          "text": [
            "TPU address is =>  grpc://10.43.146.122:8470\n",
            "time: 1.69 ms\n"
          ],
          "name": "stdout"
        }
      ]
    },
    {
      "cell_type": "code",
      "metadata": {
        "colab": {
          "base_uri": "https://localhost:8080/"
        },
        "id": "xazAXrWrlLz-",
        "outputId": "7959008a-75ea-46d7-9138-fc63b72585af"
      },
      "source": [
        "#import pycaret\n",
        "!pip install pycaret"
      ],
      "execution_count": null,
      "outputs": [
        {
          "output_type": "stream",
          "text": [
            "Collecting pycaret\n",
            "\u001b[?25l  Downloading https://files.pythonhosted.org/packages/f0/d0/390ff0f120c05795d45b353cedc81120f9c6558aae285a73e8fab62f322d/pycaret-2.2.1-py3-none-any.whl (248kB)\n",
            "\r\u001b[K     |█▎                              | 10kB 16.3MB/s eta 0:00:01\r\u001b[K     |██▋                             | 20kB 22.7MB/s eta 0:00:01\r\u001b[K     |████                            | 30kB 13.1MB/s eta 0:00:01\r\u001b[K     |█████▎                          | 40kB 10.6MB/s eta 0:00:01\r\u001b[K     |██████▋                         | 51kB 5.0MB/s eta 0:00:01\r\u001b[K     |████████                        | 61kB 5.5MB/s eta 0:00:01\r\u001b[K     |█████████▏                      | 71kB 5.8MB/s eta 0:00:01\r\u001b[K     |██████████▌                     | 81kB 6.2MB/s eta 0:00:01\r\u001b[K     |███████████▉                    | 92kB 6.2MB/s eta 0:00:01\r\u001b[K     |█████████████▏                  | 102kB 6.8MB/s eta 0:00:01\r\u001b[K     |██████████████▌                 | 112kB 6.8MB/s eta 0:00:01\r\u001b[K     |███████████████▉                | 122kB 6.8MB/s eta 0:00:01\r\u001b[K     |█████████████████               | 133kB 6.8MB/s eta 0:00:01\r\u001b[K     |██████████████████▍             | 143kB 6.8MB/s eta 0:00:01\r\u001b[K     |███████████████████▊            | 153kB 6.8MB/s eta 0:00:01\r\u001b[K     |█████████████████████           | 163kB 6.8MB/s eta 0:00:01\r\u001b[K     |██████████████████████▍         | 174kB 6.8MB/s eta 0:00:01\r\u001b[K     |███████████████████████▊        | 184kB 6.8MB/s eta 0:00:01\r\u001b[K     |█████████████████████████       | 194kB 6.8MB/s eta 0:00:01\r\u001b[K     |██████████████████████████▎     | 204kB 6.8MB/s eta 0:00:01\r\u001b[K     |███████████████████████████▋    | 215kB 6.8MB/s eta 0:00:01\r\u001b[K     |█████████████████████████████   | 225kB 6.8MB/s eta 0:00:01\r\u001b[K     |██████████████████████████████▎ | 235kB 6.8MB/s eta 0:00:01\r\u001b[K     |███████████████████████████████▋| 245kB 6.8MB/s eta 0:00:01\r\u001b[K     |████████████████████████████████| 256kB 6.8MB/s \n",
            "\u001b[?25hRequirement already satisfied: joblib in /usr/local/lib/python3.6/dist-packages (from pycaret) (0.17.0)\n",
            "Requirement already satisfied: IPython in /usr/local/lib/python3.6/dist-packages (from pycaret) (5.5.0)\n",
            "Requirement already satisfied: pandas in /usr/local/lib/python3.6/dist-packages (from pycaret) (1.1.4)\n",
            "Requirement already satisfied: cufflinks>=0.17.0 in /usr/local/lib/python3.6/dist-packages (from pycaret) (0.17.3)\n",
            "Collecting scikit-plot\n",
            "  Downloading https://files.pythonhosted.org/packages/7c/47/32520e259340c140a4ad27c1b97050dd3254fdc517b1d59974d47037510e/scikit_plot-0.3.7-py3-none-any.whl\n",
            "Requirement already satisfied: seaborn in /usr/local/lib/python3.6/dist-packages (from pycaret) (0.11.0)\n",
            "Requirement already satisfied: umap-learn in /usr/local/lib/python3.6/dist-packages (from pycaret) (0.4.6)\n",
            "Collecting imbalanced-learn>=0.7.0\n",
            "\u001b[?25l  Downloading https://files.pythonhosted.org/packages/c8/81/8db4d87b03b998fda7c6f835d807c9ae4e3b141f978597b8d7f31600be15/imbalanced_learn-0.7.0-py3-none-any.whl (167kB)\n",
            "\u001b[K     |████████████████████████████████| 174kB 53.2MB/s \n",
            "\u001b[?25hRequirement already satisfied: nltk in /usr/local/lib/python3.6/dist-packages (from pycaret) (3.2.5)\n",
            "Collecting pandas-profiling>=2.8.0\n",
            "\u001b[?25l  Downloading https://files.pythonhosted.org/packages/32/79/5d03ed1172e3e67a997a6a795bcdd2ab58f84851969d01a91455383795b6/pandas_profiling-2.9.0-py2.py3-none-any.whl (258kB)\n",
            "\u001b[K     |████████████████████████████████| 266kB 52.2MB/s \n",
            "\u001b[?25hCollecting mlflow\n",
            "\u001b[?25l  Downloading https://files.pythonhosted.org/packages/b6/69/c6b3911ccb421adc779390ca2ea54cb888a54e282d50e8d20ce751b5c7ab/mlflow-1.12.1-py3-none-any.whl (13.9MB)\n",
            "\u001b[K     |████████████████████████████████| 13.9MB 20.3MB/s \n",
            "\u001b[?25hRequirement already satisfied: wordcloud in /usr/local/lib/python3.6/dist-packages (from pycaret) (1.5.0)\n",
            "Requirement already satisfied: numpy>=1.17 in /usr/local/lib/python3.6/dist-packages (from pycaret) (1.18.5)\n",
            "Collecting yellowbrick>=1.0.1\n",
            "\u001b[?25l  Downloading https://files.pythonhosted.org/packages/1f/ad/ae6744ddb9c7053916bed95430152b9a41b7d410e16a1cc7cd744a611d90/yellowbrick-1.2-py3-none-any.whl (269kB)\n",
            "\u001b[K     |████████████████████████████████| 276kB 55.5MB/s \n",
            "\u001b[?25hRequirement already satisfied: matplotlib in /usr/local/lib/python3.6/dist-packages (from pycaret) (3.2.2)\n",
            "Requirement already satisfied: spacy in /usr/local/lib/python3.6/dist-packages (from pycaret) (2.2.4)\n",
            "Collecting pyod\n",
            "\u001b[?25l  Downloading https://files.pythonhosted.org/packages/2b/1d/22a6c4e796fff1066bf80bf59b4494d6e3582e22012a61721f4cb730b3c3/pyod-0.8.4.tar.gz (98kB)\n",
            "\u001b[K     |████████████████████████████████| 102kB 11.4MB/s \n",
            "\u001b[?25hRequirement already satisfied: textblob in /usr/local/lib/python3.6/dist-packages (from pycaret) (0.15.3)\n",
            "Requirement already satisfied: gensim in /usr/local/lib/python3.6/dist-packages (from pycaret) (3.6.0)\n",
            "Requirement already satisfied: mlxtend in /usr/local/lib/python3.6/dist-packages (from pycaret) (0.14.0)\n",
            "Collecting catboost>=0.23.2\n",
            "\u001b[?25l  Downloading https://files.pythonhosted.org/packages/7e/c1/c1c4707013f9e2f8a96899dd3a87f66c9167d6d776a6dc8fe7ec8678d446/catboost-0.24.3-cp36-none-manylinux1_x86_64.whl (66.3MB)\n",
            "\u001b[K     |████████████████████████████████| 66.3MB 91kB/s \n",
            "\u001b[?25hCollecting lightgbm>=2.3.1\n",
            "\u001b[?25l  Downloading https://files.pythonhosted.org/packages/d6/4d/99073804bd31f15678f24a79e96981dcbaa840bc9926dfd132e9638d51bb/lightgbm-3.1.0-py2.py3-none-manylinux1_x86_64.whl (1.8MB)\n",
            "\u001b[K     |████████████████████████████████| 1.8MB 47.5MB/s \n",
            "\u001b[?25hRequirement already satisfied: ipywidgets in /usr/local/lib/python3.6/dist-packages (from pycaret) (7.5.1)\n",
            "Collecting scikit-learn>=0.23.2\n",
            "\u001b[?25l  Downloading https://files.pythonhosted.org/packages/5c/a1/273def87037a7fb010512bbc5901c31cfddfca8080bc63b42b26e3cc55b3/scikit_learn-0.23.2-cp36-cp36m-manylinux1_x86_64.whl (6.8MB)\n",
            "\u001b[K     |████████████████████████████████| 6.8MB 51.9MB/s \n",
            "\u001b[?25hCollecting xgboost>=1.1.0\n",
            "\u001b[?25l  Downloading https://files.pythonhosted.org/packages/35/cc/fd3d5fc6b6616a03385a0f6492cc77a253940d1026406ecc07597095e381/xgboost-1.2.1-py3-none-manylinux2010_x86_64.whl (148.9MB)\n",
            "\u001b[K     |████████████████████████████████| 148.9MB 44kB/s \n",
            "\u001b[?25hCollecting pyLDAvis\n",
            "\u001b[?25l  Downloading https://files.pythonhosted.org/packages/a5/3a/af82e070a8a96e13217c8f362f9a73e82d61ac8fff3a2561946a97f96266/pyLDAvis-2.1.2.tar.gz (1.6MB)\n",
            "\u001b[K     |████████████████████████████████| 1.6MB 54.8MB/s \n",
            "\u001b[?25hCollecting kmodes>=0.10.1\n",
            "  Downloading https://files.pythonhosted.org/packages/b2/55/d8ec1ae1f7e1e202a8a4184c6852a3ee993b202b0459672c699d0ac18fc8/kmodes-0.10.2-py2.py3-none-any.whl\n",
            "Requirement already satisfied: plotly>=4.4.1 in /usr/local/lib/python3.6/dist-packages (from pycaret) (4.4.1)\n",
            "Requirement already satisfied: pexpect; sys_platform != \"win32\" in /usr/local/lib/python3.6/dist-packages (from IPython->pycaret) (4.8.0)\n",
            "Requirement already satisfied: simplegeneric>0.8 in /usr/local/lib/python3.6/dist-packages (from IPython->pycaret) (0.8.1)\n",
            "Requirement already satisfied: decorator in /usr/local/lib/python3.6/dist-packages (from IPython->pycaret) (4.4.2)\n",
            "Requirement already satisfied: traitlets>=4.2 in /usr/local/lib/python3.6/dist-packages (from IPython->pycaret) (4.3.3)\n",
            "Requirement already satisfied: pygments in /usr/local/lib/python3.6/dist-packages (from IPython->pycaret) (2.6.1)\n",
            "Requirement already satisfied: prompt-toolkit<2.0.0,>=1.0.4 in /usr/local/lib/python3.6/dist-packages (from IPython->pycaret) (1.0.18)\n",
            "Requirement already satisfied: setuptools>=18.5 in /usr/local/lib/python3.6/dist-packages (from IPython->pycaret) (50.3.2)\n",
            "Requirement already satisfied: pickleshare in /usr/local/lib/python3.6/dist-packages (from IPython->pycaret) (0.7.5)\n",
            "Requirement already satisfied: python-dateutil>=2.7.3 in /usr/local/lib/python3.6/dist-packages (from pandas->pycaret) (2.8.1)\n",
            "Requirement already satisfied: pytz>=2017.2 in /usr/local/lib/python3.6/dist-packages (from pandas->pycaret) (2018.9)\n",
            "Requirement already satisfied: six>=1.9.0 in /usr/local/lib/python3.6/dist-packages (from cufflinks>=0.17.0->pycaret) (1.15.0)\n",
            "Requirement already satisfied: colorlover>=0.2.1 in /usr/local/lib/python3.6/dist-packages (from cufflinks>=0.17.0->pycaret) (0.3.0)\n",
            "Requirement already satisfied: scipy>=0.9 in /usr/local/lib/python3.6/dist-packages (from scikit-plot->pycaret) (1.4.1)\n",
            "Requirement already satisfied: numba!=0.47,>=0.46 in /usr/local/lib/python3.6/dist-packages (from umap-learn->pycaret) (0.48.0)\n",
            "Collecting tangled-up-in-unicode>=0.0.6\n",
            "\u001b[?25l  Downloading https://files.pythonhosted.org/packages/4a/e2/e588ab9298d4989ce7fdb2b97d18aac878d99dbdc379a4476a09d9271b68/tangled_up_in_unicode-0.0.6-py3-none-any.whl (3.1MB)\n",
            "\u001b[K     |████████████████████████████████| 3.1MB 39.9MB/s \n",
            "\u001b[?25hCollecting confuse>=1.0.0\n",
            "  Downloading https://files.pythonhosted.org/packages/6d/55/b4726d81e5d6509fa3441f770f8a9524612627dc1b2a7d6209d1d20083fe/confuse-1.4.0-py2.py3-none-any.whl\n",
            "Collecting visions[type_image_path]==0.5.0\n",
            "\u001b[?25l  Downloading https://files.pythonhosted.org/packages/26/e3/9416e94e767d59a86edcbcb8e1c8f42874d272c3b343676074879e9db0e0/visions-0.5.0-py3-none-any.whl (64kB)\n",
            "\u001b[K     |████████████████████████████████| 71kB 8.3MB/s \n",
            "\u001b[?25hCollecting phik>=0.9.10\n",
            "\u001b[?25l  Downloading https://files.pythonhosted.org/packages/01/5a/7ef1c04ce62cd72f900c06298dc2385840550d5c653a0dbc19109a5477e6/phik-0.10.0-py3-none-any.whl (599kB)\n",
            "\u001b[K     |████████████████████████████████| 604kB 56.8MB/s \n",
            "\u001b[?25hRequirement already satisfied: attrs>=19.3.0 in /usr/local/lib/python3.6/dist-packages (from pandas-profiling>=2.8.0->pycaret) (20.3.0)\n",
            "Requirement already satisfied: jinja2>=2.11.1 in /usr/local/lib/python3.6/dist-packages (from pandas-profiling>=2.8.0->pycaret) (2.11.2)\n",
            "Requirement already satisfied: requests>=2.23.0 in /usr/local/lib/python3.6/dist-packages (from pandas-profiling>=2.8.0->pycaret) (2.23.0)\n",
            "Collecting htmlmin>=0.1.12\n",
            "  Downloading https://files.pythonhosted.org/packages/b3/e7/fcd59e12169de19f0131ff2812077f964c6b960e7c09804d30a7bf2ab461/htmlmin-0.1.12.tar.gz\n",
            "Requirement already satisfied: missingno>=0.4.2 in /usr/local/lib/python3.6/dist-packages (from pandas-profiling>=2.8.0->pycaret) (0.4.2)\n",
            "Collecting tqdm>=4.43.0\n",
            "\u001b[?25l  Downloading https://files.pythonhosted.org/packages/02/bc/857fff709f7ce9eabdc502d6fa71f4b7e964200b1bcd00f0a2f59667d1bf/tqdm-4.53.0-py2.py3-none-any.whl (70kB)\n",
            "\u001b[K     |████████████████████████████████| 71kB 8.0MB/s \n",
            "\u001b[?25hRequirement already satisfied: sqlparse>=0.3.1 in /usr/local/lib/python3.6/dist-packages (from mlflow->pycaret) (0.4.1)\n",
            "Collecting gunicorn; platform_system != \"Windows\"\n",
            "\u001b[?25l  Downloading https://files.pythonhosted.org/packages/69/ca/926f7cd3a2014b16870086b2d0fdc84a9e49473c68a8dff8b57f7c156f43/gunicorn-20.0.4-py2.py3-none-any.whl (77kB)\n",
            "\u001b[K     |████████████████████████████████| 81kB 8.8MB/s \n",
            "\u001b[?25hCollecting azure-storage-blob\n",
            "\u001b[?25l  Downloading https://files.pythonhosted.org/packages/e7/5d/0bb4ed37da2523c393789b1d8ecbf56b1d35fa344af30fe423da2c06cbe9/azure_storage_blob-12.6.0-py2.py3-none-any.whl (328kB)\n",
            "\u001b[K     |████████████████████████████████| 337kB 57.2MB/s \n",
            "\u001b[?25hCollecting docker>=4.0.0\n",
            "\u001b[?25l  Downloading https://files.pythonhosted.org/packages/ef/b7/eb7b7138bb5e6d28cf84fa586fe594619ca097b6207caa5f2ebe0c66a4ed/docker-4.4.0-py2.py3-none-any.whl (146kB)\n",
            "\u001b[K     |████████████████████████████████| 153kB 58.9MB/s \n",
            "\u001b[?25hRequirement already satisfied: protobuf>=3.6.0 in /usr/local/lib/python3.6/dist-packages (from mlflow->pycaret) (3.12.4)\n",
            "Requirement already satisfied: click>=7.0 in /usr/local/lib/python3.6/dist-packages (from mlflow->pycaret) (7.1.2)\n",
            "Collecting prometheus-flask-exporter\n",
            "  Downloading https://files.pythonhosted.org/packages/4c/d5/8a046d683c2cc084b6a502812827ede69b1064f95d93f94b83f809b21723/prometheus_flask_exporter-0.18.1.tar.gz\n",
            "Collecting gitpython>=2.1.0\n",
            "\u001b[?25l  Downloading https://files.pythonhosted.org/packages/24/d1/a7f8fe3df258549b303415157328bfcc63e9b11d06a7ad7a3327f3d32606/GitPython-3.1.11-py3-none-any.whl (159kB)\n",
            "\u001b[K     |████████████████████████████████| 163kB 44.2MB/s \n",
            "\u001b[?25hRequirement already satisfied: Flask in /usr/local/lib/python3.6/dist-packages (from mlflow->pycaret) (1.1.2)\n",
            "Collecting querystring-parser\n",
            "  Downloading https://files.pythonhosted.org/packages/88/6b/572b2590fd55114118bf08bde63c0a421dcc82d593700f3e2ad89908a8a9/querystring_parser-1.2.4-py2.py3-none-any.whl\n",
            "Requirement already satisfied: cloudpickle in /usr/local/lib/python3.6/dist-packages (from mlflow->pycaret) (1.3.0)\n",
            "Requirement already satisfied: sqlalchemy in /usr/local/lib/python3.6/dist-packages (from mlflow->pycaret) (1.3.20)\n",
            "Requirement already satisfied: pyyaml in /usr/local/lib/python3.6/dist-packages (from mlflow->pycaret) (3.13)\n",
            "Collecting alembic<=1.4.1\n",
            "\u001b[?25l  Downloading https://files.pythonhosted.org/packages/e0/e9/359dbb77c35c419df0aedeb1d53e71e7e3f438ff64a8fdb048c907404de3/alembic-1.4.1.tar.gz (1.1MB)\n",
            "\u001b[K     |████████████████████████████████| 1.1MB 55.0MB/s \n",
            "\u001b[?25hRequirement already satisfied: entrypoints in /usr/local/lib/python3.6/dist-packages (from mlflow->pycaret) (0.3)\n",
            "Collecting databricks-cli>=0.8.7\n",
            "\u001b[?25l  Downloading https://files.pythonhosted.org/packages/40/88/ae1f78cf582b707c605c77df49b4c8786a4465edc51adb25d2f98ef4c4de/databricks-cli-0.14.1.tar.gz (54kB)\n",
            "\u001b[K     |████████████████████████████████| 61kB 6.8MB/s \n",
            "\u001b[?25hRequirement already satisfied: pillow in /usr/local/lib/python3.6/dist-packages (from wordcloud->pycaret) (7.0.0)\n",
            "Requirement already satisfied: cycler>=0.10.0 in /usr/local/lib/python3.6/dist-packages (from yellowbrick>=1.0.1->pycaret) (0.10.0)\n",
            "Requirement already satisfied: kiwisolver>=1.0.1 in /usr/local/lib/python3.6/dist-packages (from matplotlib->pycaret) (1.3.1)\n",
            "Requirement already satisfied: pyparsing!=2.0.4,!=2.1.2,!=2.1.6,>=2.0.1 in /usr/local/lib/python3.6/dist-packages (from matplotlib->pycaret) (2.4.7)\n",
            "Requirement already satisfied: blis<0.5.0,>=0.4.0 in /usr/local/lib/python3.6/dist-packages (from spacy->pycaret) (0.4.1)\n",
            "Requirement already satisfied: cymem<2.1.0,>=2.0.2 in /usr/local/lib/python3.6/dist-packages (from spacy->pycaret) (2.0.4)\n",
            "Requirement already satisfied: preshed<3.1.0,>=3.0.2 in /usr/local/lib/python3.6/dist-packages (from spacy->pycaret) (3.0.4)\n",
            "Requirement already satisfied: plac<1.2.0,>=0.9.6 in /usr/local/lib/python3.6/dist-packages (from spacy->pycaret) (1.1.3)\n",
            "Requirement already satisfied: srsly<1.1.0,>=1.0.2 in /usr/local/lib/python3.6/dist-packages (from spacy->pycaret) (1.0.4)\n",
            "Requirement already satisfied: catalogue<1.1.0,>=0.0.7 in /usr/local/lib/python3.6/dist-packages (from spacy->pycaret) (1.0.0)\n",
            "Requirement already satisfied: wasabi<1.1.0,>=0.4.0 in /usr/local/lib/python3.6/dist-packages (from spacy->pycaret) (0.8.0)\n",
            "Requirement already satisfied: murmurhash<1.1.0,>=0.28.0 in /usr/local/lib/python3.6/dist-packages (from spacy->pycaret) (1.0.4)\n",
            "Requirement already satisfied: thinc==7.4.0 in /usr/local/lib/python3.6/dist-packages (from spacy->pycaret) (7.4.0)\n",
            "Collecting combo\n",
            "  Downloading https://files.pythonhosted.org/packages/0a/2a/61b6ac584e75d8df16dc27962aa5fe99d76b09da5b6710e83d4862c84001/combo-0.1.1.tar.gz\n",
            "Requirement already satisfied: statsmodels in /usr/local/lib/python3.6/dist-packages (from pyod->pycaret) (0.10.2)\n",
            "Collecting suod\n",
            "\u001b[?25l  Downloading https://files.pythonhosted.org/packages/a1/87/9170cabe1b5e10a7d095c0e28f2e30e7c1886a13f063de85d3cfacc06f4b/suod-0.0.4.tar.gz (2.1MB)\n",
            "\u001b[K     |████████████████████████████████| 2.1MB 49.1MB/s \n",
            "\u001b[?25hRequirement already satisfied: smart-open>=1.2.1 in /usr/local/lib/python3.6/dist-packages (from gensim->pycaret) (3.0.0)\n",
            "Requirement already satisfied: graphviz in /usr/local/lib/python3.6/dist-packages (from catboost>=0.23.2->pycaret) (0.10.1)\n",
            "Requirement already satisfied: nbformat>=4.2.0 in /usr/local/lib/python3.6/dist-packages (from ipywidgets->pycaret) (5.0.8)\n",
            "Requirement already satisfied: ipykernel>=4.5.1 in /usr/local/lib/python3.6/dist-packages (from ipywidgets->pycaret) (4.10.1)\n",
            "Requirement already satisfied: widgetsnbextension~=3.5.0 in /usr/local/lib/python3.6/dist-packages (from ipywidgets->pycaret) (3.5.1)\n",
            "Collecting threadpoolctl>=2.0.0\n",
            "  Downloading https://files.pythonhosted.org/packages/f7/12/ec3f2e203afa394a149911729357aa48affc59c20e2c1c8297a60f33f133/threadpoolctl-2.1.0-py3-none-any.whl\n",
            "Requirement already satisfied: wheel>=0.23.0 in /usr/local/lib/python3.6/dist-packages (from pyLDAvis->pycaret) (0.35.1)\n",
            "Requirement already satisfied: numexpr in /usr/local/lib/python3.6/dist-packages (from pyLDAvis->pycaret) (2.7.1)\n",
            "Requirement already satisfied: pytest in /usr/local/lib/python3.6/dist-packages (from pyLDAvis->pycaret) (3.6.4)\n",
            "Requirement already satisfied: future in /usr/local/lib/python3.6/dist-packages (from pyLDAvis->pycaret) (0.16.0)\n",
            "Collecting funcy\n",
            "  Downloading https://files.pythonhosted.org/packages/66/89/479de0afbbfb98d1c4b887936808764627300208bb771fcd823403645a36/funcy-1.15-py2.py3-none-any.whl\n",
            "Requirement already satisfied: retrying>=1.3.3 in /usr/local/lib/python3.6/dist-packages (from plotly>=4.4.1->pycaret) (1.3.3)\n",
            "Requirement already satisfied: ptyprocess>=0.5 in /usr/local/lib/python3.6/dist-packages (from pexpect; sys_platform != \"win32\"->IPython->pycaret) (0.6.0)\n",
            "Requirement already satisfied: ipython-genutils in /usr/local/lib/python3.6/dist-packages (from traitlets>=4.2->IPython->pycaret) (0.2.0)\n",
            "Requirement already satisfied: wcwidth in /usr/local/lib/python3.6/dist-packages (from prompt-toolkit<2.0.0,>=1.0.4->IPython->pycaret) (0.2.5)\n",
            "Requirement already satisfied: llvmlite<0.32.0,>=0.31.0dev0 in /usr/local/lib/python3.6/dist-packages (from numba!=0.47,>=0.46->umap-learn->pycaret) (0.31.0)\n",
            "Requirement already satisfied: networkx>=2.4 in /usr/local/lib/python3.6/dist-packages (from visions[type_image_path]==0.5.0->pandas-profiling>=2.8.0->pycaret) (2.5)\n",
            "Collecting imagehash; extra == \"type_image_path\"\n",
            "\u001b[?25l  Downloading https://files.pythonhosted.org/packages/8e/18/9dbb772b5ef73a3069c66bb5bf29b9fb4dd57af0d5790c781c3f559bcca6/ImageHash-4.2.0-py2.py3-none-any.whl (295kB)\n",
            "\u001b[K     |████████████████████████████████| 296kB 54.8MB/s \n",
            "\u001b[?25hRequirement already satisfied: MarkupSafe>=0.23 in /usr/local/lib/python3.6/dist-packages (from jinja2>=2.11.1->pandas-profiling>=2.8.0->pycaret) (1.1.1)\n",
            "Requirement already satisfied: urllib3!=1.25.0,!=1.25.1,<1.26,>=1.21.1 in /usr/local/lib/python3.6/dist-packages (from requests>=2.23.0->pandas-profiling>=2.8.0->pycaret) (1.24.3)\n",
            "Requirement already satisfied: idna<3,>=2.5 in /usr/local/lib/python3.6/dist-packages (from requests>=2.23.0->pandas-profiling>=2.8.0->pycaret) (2.10)\n",
            "Requirement already satisfied: certifi>=2017.4.17 in /usr/local/lib/python3.6/dist-packages (from requests>=2.23.0->pandas-profiling>=2.8.0->pycaret) (2020.11.8)\n",
            "Requirement already satisfied: chardet<4,>=3.0.2 in /usr/local/lib/python3.6/dist-packages (from requests>=2.23.0->pandas-profiling>=2.8.0->pycaret) (3.0.4)\n",
            "Collecting azure-core<2.0.0,>=1.9.0\n",
            "\u001b[?25l  Downloading https://files.pythonhosted.org/packages/f8/4b/ea7faaafac956a168ab9a95a7ebe583f9d308e8332a68af0ed3128ef520c/azure_core-1.9.0-py2.py3-none-any.whl (124kB)\n",
            "\u001b[K     |████████████████████████████████| 133kB 56.2MB/s \n",
            "\u001b[?25hCollecting cryptography>=2.1.4\n",
            "\u001b[?25l  Downloading https://files.pythonhosted.org/packages/4c/a2/6565c5271a79e3c96d7a079053b4d8408a740d4bf365f0f5f244a807bd09/cryptography-3.2.1-cp35-abi3-manylinux2010_x86_64.whl (2.6MB)\n",
            "\u001b[K     |████████████████████████████████| 2.6MB 53.6MB/s \n",
            "\u001b[?25hCollecting msrest>=0.6.10\n",
            "\u001b[?25l  Downloading https://files.pythonhosted.org/packages/fa/f5/9e315fe8cb985b0ce052b34bcb767883dc739f46fadb62f05a7e6d6eedbe/msrest-0.6.19-py2.py3-none-any.whl (84kB)\n",
            "\u001b[K     |████████████████████████████████| 92kB 8.5MB/s \n",
            "\u001b[?25hCollecting websocket-client>=0.32.0\n",
            "\u001b[?25l  Downloading https://files.pythonhosted.org/packages/4c/5f/f61b420143ed1c8dc69f9eaec5ff1ac36109d52c80de49d66e0c36c3dfdf/websocket_client-0.57.0-py2.py3-none-any.whl (200kB)\n",
            "\u001b[K     |████████████████████████████████| 204kB 57.6MB/s \n",
            "\u001b[?25hRequirement already satisfied: prometheus_client in /usr/local/lib/python3.6/dist-packages (from prometheus-flask-exporter->mlflow->pycaret) (0.9.0)\n",
            "Collecting gitdb<5,>=4.0.1\n",
            "\u001b[?25l  Downloading https://files.pythonhosted.org/packages/48/11/d1800bca0a3bae820b84b7d813ad1eff15a48a64caea9c823fc8c1b119e8/gitdb-4.0.5-py3-none-any.whl (63kB)\n",
            "\u001b[K     |████████████████████████████████| 71kB 9.4MB/s \n",
            "\u001b[?25hRequirement already satisfied: itsdangerous>=0.24 in /usr/local/lib/python3.6/dist-packages (from Flask->mlflow->pycaret) (1.1.0)\n",
            "Requirement already satisfied: Werkzeug>=0.15 in /usr/local/lib/python3.6/dist-packages (from Flask->mlflow->pycaret) (1.0.1)\n",
            "Collecting Mako\n",
            "\u001b[?25l  Downloading https://files.pythonhosted.org/packages/a6/37/0e706200d22172eb8fa17d68a7ae22dec7631a0a92266634fb518a88a5b2/Mako-1.1.3-py2.py3-none-any.whl (75kB)\n",
            "\u001b[K     |████████████████████████████████| 81kB 10.5MB/s \n",
            "\u001b[?25hCollecting python-editor>=0.3\n",
            "  Downloading https://files.pythonhosted.org/packages/c6/d3/201fc3abe391bbae6606e6f1d598c15d367033332bd54352b12f35513717/python_editor-1.0.4-py3-none-any.whl\n",
            "Requirement already satisfied: tabulate>=0.7.7 in /usr/local/lib/python3.6/dist-packages (from databricks-cli>=0.8.7->mlflow->pycaret) (0.8.7)\n",
            "Requirement already satisfied: importlib-metadata>=0.20; python_version < \"3.8\" in /usr/local/lib/python3.6/dist-packages (from catalogue<1.1.0,>=0.0.7->spacy->pycaret) (2.0.0)\n",
            "Requirement already satisfied: patsy>=0.4.0 in /usr/local/lib/python3.6/dist-packages (from statsmodels->pyod->pycaret) (0.5.1)\n",
            "Requirement already satisfied: jsonschema!=2.5.0,>=2.4 in /usr/local/lib/python3.6/dist-packages (from nbformat>=4.2.0->ipywidgets->pycaret) (2.6.0)\n",
            "Requirement already satisfied: jupyter-core in /usr/local/lib/python3.6/dist-packages (from nbformat>=4.2.0->ipywidgets->pycaret) (4.7.0)\n",
            "Requirement already satisfied: tornado>=4.0 in /usr/local/lib/python3.6/dist-packages (from ipykernel>=4.5.1->ipywidgets->pycaret) (5.1.1)\n",
            "Requirement already satisfied: jupyter-client in /usr/local/lib/python3.6/dist-packages (from ipykernel>=4.5.1->ipywidgets->pycaret) (5.3.5)\n",
            "Requirement already satisfied: notebook>=4.4.1 in /usr/local/lib/python3.6/dist-packages (from widgetsnbextension~=3.5.0->ipywidgets->pycaret) (5.3.1)\n",
            "Requirement already satisfied: pluggy<0.8,>=0.5 in /usr/local/lib/python3.6/dist-packages (from pytest->pyLDAvis->pycaret) (0.7.1)\n",
            "Requirement already satisfied: atomicwrites>=1.0 in /usr/local/lib/python3.6/dist-packages (from pytest->pyLDAvis->pycaret) (1.4.0)\n",
            "Requirement already satisfied: more-itertools>=4.0.0 in /usr/local/lib/python3.6/dist-packages (from pytest->pyLDAvis->pycaret) (8.6.0)\n",
            "Requirement already satisfied: py>=1.5.0 in /usr/local/lib/python3.6/dist-packages (from pytest->pyLDAvis->pycaret) (1.9.0)\n",
            "Requirement already satisfied: PyWavelets in /usr/local/lib/python3.6/dist-packages (from imagehash; extra == \"type_image_path\"->visions[type_image_path]==0.5.0->pandas-profiling>=2.8.0->pycaret) (1.1.1)\n",
            "Requirement already satisfied: cffi!=1.11.3,>=1.8 in /usr/local/lib/python3.6/dist-packages (from cryptography>=2.1.4->azure-storage-blob->mlflow->pycaret) (1.14.3)\n",
            "Collecting isodate>=0.6.0\n",
            "\u001b[?25l  Downloading https://files.pythonhosted.org/packages/9b/9f/b36f7774ff5ea8e428fdcfc4bb332c39ee5b9362ddd3d40d9516a55221b2/isodate-0.6.0-py2.py3-none-any.whl (45kB)\n",
            "\u001b[K     |████████████████████████████████| 51kB 6.6MB/s \n",
            "\u001b[?25hRequirement already satisfied: requests-oauthlib>=0.5.0 in /usr/local/lib/python3.6/dist-packages (from msrest>=0.6.10->azure-storage-blob->mlflow->pycaret) (1.3.0)\n",
            "Collecting smmap<4,>=3.0.1\n",
            "  Downloading https://files.pythonhosted.org/packages/b0/9a/4d409a6234eb940e6a78dfdfc66156e7522262f5f2fecca07dc55915952d/smmap-3.0.4-py2.py3-none-any.whl\n",
            "Requirement already satisfied: zipp>=0.5 in /usr/local/lib/python3.6/dist-packages (from importlib-metadata>=0.20; python_version < \"3.8\"->catalogue<1.1.0,>=0.0.7->spacy->pycaret) (3.4.0)\n",
            "Requirement already satisfied: pyzmq>=13 in /usr/local/lib/python3.6/dist-packages (from jupyter-client->ipykernel>=4.5.1->ipywidgets->pycaret) (20.0.0)\n",
            "Requirement already satisfied: terminado>=0.8.1 in /usr/local/lib/python3.6/dist-packages (from notebook>=4.4.1->widgetsnbextension~=3.5.0->ipywidgets->pycaret) (0.9.1)\n",
            "Requirement already satisfied: Send2Trash in /usr/local/lib/python3.6/dist-packages (from notebook>=4.4.1->widgetsnbextension~=3.5.0->ipywidgets->pycaret) (1.5.0)\n",
            "Requirement already satisfied: nbconvert in /usr/local/lib/python3.6/dist-packages (from notebook>=4.4.1->widgetsnbextension~=3.5.0->ipywidgets->pycaret) (5.6.1)\n",
            "Requirement already satisfied: pycparser in /usr/local/lib/python3.6/dist-packages (from cffi!=1.11.3,>=1.8->cryptography>=2.1.4->azure-storage-blob->mlflow->pycaret) (2.20)\n",
            "Requirement already satisfied: oauthlib>=3.0.0 in /usr/local/lib/python3.6/dist-packages (from requests-oauthlib>=0.5.0->msrest>=0.6.10->azure-storage-blob->mlflow->pycaret) (3.1.0)\n",
            "Requirement already satisfied: mistune<2,>=0.8.1 in /usr/local/lib/python3.6/dist-packages (from nbconvert->notebook>=4.4.1->widgetsnbextension~=3.5.0->ipywidgets->pycaret) (0.8.4)\n",
            "Requirement already satisfied: bleach in /usr/local/lib/python3.6/dist-packages (from nbconvert->notebook>=4.4.1->widgetsnbextension~=3.5.0->ipywidgets->pycaret) (3.2.1)\n",
            "Requirement already satisfied: testpath in /usr/local/lib/python3.6/dist-packages (from nbconvert->notebook>=4.4.1->widgetsnbextension~=3.5.0->ipywidgets->pycaret) (0.4.4)\n",
            "Requirement already satisfied: defusedxml in /usr/local/lib/python3.6/dist-packages (from nbconvert->notebook>=4.4.1->widgetsnbextension~=3.5.0->ipywidgets->pycaret) (0.6.0)\n",
            "Requirement already satisfied: pandocfilters>=1.4.1 in /usr/local/lib/python3.6/dist-packages (from nbconvert->notebook>=4.4.1->widgetsnbextension~=3.5.0->ipywidgets->pycaret) (1.4.3)\n",
            "Requirement already satisfied: packaging in /usr/local/lib/python3.6/dist-packages (from bleach->nbconvert->notebook>=4.4.1->widgetsnbextension~=3.5.0->ipywidgets->pycaret) (20.4)\n",
            "Requirement already satisfied: webencodings in /usr/local/lib/python3.6/dist-packages (from bleach->nbconvert->notebook>=4.4.1->widgetsnbextension~=3.5.0->ipywidgets->pycaret) (0.5.1)\n",
            "Building wheels for collected packages: pyod, pyLDAvis, htmlmin, prometheus-flask-exporter, alembic, databricks-cli, combo, suod\n",
            "  Building wheel for pyod (setup.py) ... \u001b[?25l\u001b[?25hdone\n",
            "  Created wheel for pyod: filename=pyod-0.8.4-cp36-none-any.whl size=112083 sha256=86200545b311e8b4d074f2bf2b994058d9422062b2b61633865644d128963673\n",
            "  Stored in directory: /root/.cache/pip/wheels/ad/31/0a/c2d4ba2d066145c55f0cb2846e59b18d874cb59c5d9adc81cf\n",
            "  Building wheel for pyLDAvis (setup.py) ... \u001b[?25l\u001b[?25hdone\n",
            "  Created wheel for pyLDAvis: filename=pyLDAvis-2.1.2-py2.py3-none-any.whl size=97712 sha256=6976cfcad806d749c8335d8e58c1072c68f199b4ec8d944ccf812d7f799e361b\n",
            "  Stored in directory: /root/.cache/pip/wheels/98/71/24/513a99e58bb6b8465bae4d2d5e9dba8f0bef8179e3051ac414\n",
            "  Building wheel for htmlmin (setup.py) ... \u001b[?25l\u001b[?25hdone\n",
            "  Created wheel for htmlmin: filename=htmlmin-0.1.12-cp36-none-any.whl size=27085 sha256=597698db2247162385ee572d180b0ae0da953b0eedd2806ca64ef3794a1acd7a\n",
            "  Stored in directory: /root/.cache/pip/wheels/43/07/ac/7c5a9d708d65247ac1f94066cf1db075540b85716c30255459\n",
            "  Building wheel for prometheus-flask-exporter (setup.py) ... \u001b[?25l\u001b[?25hdone\n",
            "  Created wheel for prometheus-flask-exporter: filename=prometheus_flask_exporter-0.18.1-cp36-none-any.whl size=17157 sha256=47085f82dbe89479655da95eae7eafed110db9106e9889486cf0d09491c83145\n",
            "  Stored in directory: /root/.cache/pip/wheels/b4/1f/b8/66bd9bc3a9d6c6987ff6c4dfeb6f1fe97b5a0e5ed5849c0437\n",
            "  Building wheel for alembic (setup.py) ... \u001b[?25l\u001b[?25hdone\n",
            "  Created wheel for alembic: filename=alembic-1.4.1-py2.py3-none-any.whl size=158155 sha256=396b40957ab513e27e18d20e417caf04b7d5ac3a83bd7a4a1378c3ca7935feb6\n",
            "  Stored in directory: /root/.cache/pip/wheels/84/07/f7/12f7370ca47a66030c2edeedcc23dec26ea0ac22dcb4c4a0f3\n",
            "  Building wheel for databricks-cli (setup.py) ... \u001b[?25l\u001b[?25hdone\n",
            "  Created wheel for databricks-cli: filename=databricks_cli-0.14.1-cp36-none-any.whl size=100579 sha256=81db8c35f1e8b4c597a3b5e99e2be6c2d995eca7129f270169f684804751a322\n",
            "  Stored in directory: /root/.cache/pip/wheels/82/91/ac/5d417ee5ccbb76c8cca096cf4cfb9ed9d49d889d1d1ca0fc39\n",
            "  Building wheel for combo (setup.py) ... \u001b[?25l\u001b[?25hdone\n",
            "  Created wheel for combo: filename=combo-0.1.1-cp36-none-any.whl size=42113 sha256=64477be469c263748727b1c3e45f394e7873e141490d829e18df98c353227157\n",
            "  Stored in directory: /root/.cache/pip/wheels/55/ec/e5/a2331372c676c467e70c6646e646edf6997d5c4905b8c0f5e6\n",
            "  Building wheel for suod (setup.py) ... \u001b[?25l\u001b[?25hdone\n",
            "  Created wheel for suod: filename=suod-0.0.4-cp36-none-any.whl size=2167158 sha256=d970ff3a5f87539e2a27d5cf5efa2e08242d7b66faf664e912323a51533f8e59\n",
            "  Stored in directory: /root/.cache/pip/wheels/57/55/e5/a4fca65bba231f6d0115059b589148774b41faea25b3f2aa27\n",
            "Successfully built pyod pyLDAvis htmlmin prometheus-flask-exporter alembic databricks-cli combo suod\n",
            "Installing collected packages: threadpoolctl, scikit-learn, scikit-plot, imbalanced-learn, tangled-up-in-unicode, confuse, imagehash, visions, phik, htmlmin, tqdm, pandas-profiling, gunicorn, azure-core, cryptography, isodate, msrest, azure-storage-blob, websocket-client, docker, prometheus-flask-exporter, smmap, gitdb, gitpython, querystring-parser, Mako, python-editor, alembic, databricks-cli, mlflow, yellowbrick, combo, suod, pyod, catboost, lightgbm, xgboost, funcy, pyLDAvis, kmodes, pycaret\n",
            "  Found existing installation: scikit-learn 0.22.2.post1\n",
            "    Uninstalling scikit-learn-0.22.2.post1:\n",
            "      Successfully uninstalled scikit-learn-0.22.2.post1\n",
            "  Found existing installation: imbalanced-learn 0.4.3\n",
            "    Uninstalling imbalanced-learn-0.4.3:\n",
            "      Successfully uninstalled imbalanced-learn-0.4.3\n",
            "  Found existing installation: tqdm 4.41.1\n",
            "    Uninstalling tqdm-4.41.1:\n",
            "      Successfully uninstalled tqdm-4.41.1\n",
            "  Found existing installation: pandas-profiling 1.4.1\n",
            "    Uninstalling pandas-profiling-1.4.1:\n",
            "      Successfully uninstalled pandas-profiling-1.4.1\n",
            "  Found existing installation: yellowbrick 0.9.1\n",
            "    Uninstalling yellowbrick-0.9.1:\n",
            "      Successfully uninstalled yellowbrick-0.9.1\n",
            "  Found existing installation: lightgbm 2.2.3\n",
            "    Uninstalling lightgbm-2.2.3:\n",
            "      Successfully uninstalled lightgbm-2.2.3\n",
            "  Found existing installation: xgboost 0.90\n",
            "    Uninstalling xgboost-0.90:\n",
            "      Successfully uninstalled xgboost-0.90\n",
            "Successfully installed Mako-1.1.3 alembic-1.4.1 azure-core-1.9.0 azure-storage-blob-12.6.0 catboost-0.24.3 combo-0.1.1 confuse-1.4.0 cryptography-3.2.1 databricks-cli-0.14.1 docker-4.4.0 funcy-1.15 gitdb-4.0.5 gitpython-3.1.11 gunicorn-20.0.4 htmlmin-0.1.12 imagehash-4.2.0 imbalanced-learn-0.7.0 isodate-0.6.0 kmodes-0.10.2 lightgbm-3.1.0 mlflow-1.12.1 msrest-0.6.19 pandas-profiling-2.9.0 phik-0.10.0 prometheus-flask-exporter-0.18.1 pyLDAvis-2.1.2 pycaret-2.2.1 pyod-0.8.4 python-editor-1.0.4 querystring-parser-1.2.4 scikit-learn-0.23.2 scikit-plot-0.3.7 smmap-3.0.4 suod-0.0.4 tangled-up-in-unicode-0.0.6 threadpoolctl-2.1.0 tqdm-4.53.0 visions-0.5.0 websocket-client-0.57.0 xgboost-1.2.1 yellowbrick-1.2\n",
            "time: 60 s\n"
          ],
          "name": "stdout"
        }
      ]
    },
    {
      "cell_type": "code",
      "metadata": {
        "id": "GYH5N1zCOCJE",
        "colab": {
          "base_uri": "https://localhost:8080/"
        },
        "outputId": "0465e7ef-6b7a-4f90-8fec-bcd7373437e3"
      },
      "source": [
        "# define cost helper function:\n",
        "def cost(FN, FP):\n",
        "  'taking the count of False positive (TP) and  count of False Negative'\n",
        "  return 500*FN + 10*FP"
      ],
      "execution_count": null,
      "outputs": [
        {
          "output_type": "stream",
          "text": [
            "time: 1.4 ms\n"
          ],
          "name": "stdout"
        }
      ]
    },
    {
      "cell_type": "code",
      "metadata": {
        "colab": {
          "base_uri": "https://localhost:8080/"
        },
        "id": "bjA_Gdaqt6xg",
        "outputId": "824401d3-f076-4eff-8ae8-31e20623ef73"
      },
      "source": [
        "import pandas as pd\n",
        "\n",
        "path = \"https://github.com/DrewLarsen2757/SMU_QTW/raw/master/Final_Case_Study/Cleaned_final_dataset.zip\"\n",
        "dataset = pd.read_csv(path)\n",
        "\n",
        "dataset.shape"
      ],
      "execution_count": null,
      "outputs": [
        {
          "output_type": "execute_result",
          "data": {
            "text/plain": [
              "(158392, 52)"
            ]
          },
          "metadata": {
            "tags": []
          },
          "execution_count": 6
        },
        {
          "output_type": "stream",
          "text": [
            "time: 4.65 s\n"
          ],
          "name": "stdout"
        }
      ]
    },
    {
      "cell_type": "code",
      "metadata": {
        "colab": {
          "base_uri": "https://localhost:8080/"
        },
        "id": "RowMaHGXnQcU",
        "outputId": "fb25bd20-9b79-4ea8-c1ea-3f6ad110bec2"
      },
      "source": [
        "data = dataset.sample(frac=0.90, random_state=786)\n",
        "data_unseen = dataset.drop(data.index)\n",
        "data.reset_index(inplace=True, drop=True)\n",
        "data_unseen.reset_index(inplace=True, drop=True)\n",
        "print('Data for Modeling: ' + str(data.shape))\n",
        "print('Unseen Data For Predictions: ' + str(data_unseen.shape))"
      ],
      "execution_count": null,
      "outputs": [
        {
          "output_type": "stream",
          "text": [
            "Data for Modeling: (142553, 52)\n",
            "Unseen Data For Predictions: (15839, 52)\n",
            "time: 127 ms\n"
          ],
          "name": "stdout"
        }
      ]
    },
    {
      "cell_type": "code",
      "metadata": {
        "colab": {
          "base_uri": "https://localhost:8080/"
        },
        "id": "sBFgPPUmmuNn",
        "outputId": "efbc5107-9027-4e31-a00d-82dc12580912"
      },
      "source": [
        "from pycaret.classification import *"
      ],
      "execution_count": null,
      "outputs": [
        {
          "output_type": "stream",
          "text": [
            "time: 2.29 s\n"
          ],
          "name": "stdout"
        }
      ]
    },
    {
      "cell_type": "code",
      "metadata": {
        "colab": {
          "base_uri": "https://localhost:8080/",
          "height": 1000,
          "referenced_widgets": [
            "6cd2c2846953446f96bc95461dd7e28a",
            "ec97bec31cb34629a1cc588a47dd14f9",
            "6d0c8520b1c8419ebbf3f2ecb2a21884",
            "9d2d1eda53e24cce8bb39abbe7c92f4d",
            "23f4b9e6311d44c0b223137dbf980f6a",
            "e872c858725648ce9f3185db838f6ef6"
          ]
        },
        "id": "4rnGGZrDyQvr",
        "outputId": "17c19f13-d2d3-48d7-86fd-da390c0c57d3"
      },
      "source": [
        "pycaret_session = setup(data = data, target = 'y', session_id=123)"
      ],
      "execution_count": null,
      "outputs": [
        {
          "output_type": "display_data",
          "data": {
            "text/html": [
              "<div>\n",
              "<style scoped>\n",
              "    .dataframe tbody tr th:only-of-type {\n",
              "        vertical-align: middle;\n",
              "    }\n",
              "\n",
              "    .dataframe tbody tr th {\n",
              "        vertical-align: top;\n",
              "    }\n",
              "\n",
              "    .dataframe thead th {\n",
              "        text-align: right;\n",
              "    }\n",
              "</style>\n",
              "<table border=\"1\" class=\"dataframe\">\n",
              "  <thead>\n",
              "    <tr style=\"text-align: right;\">\n",
              "      <th></th>\n",
              "      <th>Description</th>\n",
              "      <th>Value</th>\n",
              "    </tr>\n",
              "  </thead>\n",
              "  <tbody>\n",
              "    <tr>\n",
              "      <th>0</th>\n",
              "      <td>session_id</td>\n",
              "      <td>123</td>\n",
              "    </tr>\n",
              "    <tr>\n",
              "      <th>1</th>\n",
              "      <td>Target</td>\n",
              "      <td>y</td>\n",
              "    </tr>\n",
              "    <tr>\n",
              "      <th>2</th>\n",
              "      <td>Target Type</td>\n",
              "      <td>Binary</td>\n",
              "    </tr>\n",
              "    <tr>\n",
              "      <th>3</th>\n",
              "      <td>Label Encoded</td>\n",
              "      <td>0: 0, 1: 1</td>\n",
              "    </tr>\n",
              "    <tr>\n",
              "      <th>4</th>\n",
              "      <td>Original Data</td>\n",
              "      <td>(142553, 52)</td>\n",
              "    </tr>\n",
              "    <tr>\n",
              "      <th>5</th>\n",
              "      <td>Missing Values</td>\n",
              "      <td>False</td>\n",
              "    </tr>\n",
              "    <tr>\n",
              "      <th>6</th>\n",
              "      <td>Numeric Features</td>\n",
              "      <td>48</td>\n",
              "    </tr>\n",
              "    <tr>\n",
              "      <th>7</th>\n",
              "      <td>Categorical Features</td>\n",
              "      <td>3</td>\n",
              "    </tr>\n",
              "    <tr>\n",
              "      <th>8</th>\n",
              "      <td>Ordinal Features</td>\n",
              "      <td>False</td>\n",
              "    </tr>\n",
              "    <tr>\n",
              "      <th>9</th>\n",
              "      <td>High Cardinality Features</td>\n",
              "      <td>False</td>\n",
              "    </tr>\n",
              "    <tr>\n",
              "      <th>10</th>\n",
              "      <td>High Cardinality Method</td>\n",
              "      <td>None</td>\n",
              "    </tr>\n",
              "    <tr>\n",
              "      <th>11</th>\n",
              "      <td>Transformed Train Set</td>\n",
              "      <td>(99787, 66)</td>\n",
              "    </tr>\n",
              "    <tr>\n",
              "      <th>12</th>\n",
              "      <td>Transformed Test Set</td>\n",
              "      <td>(42766, 66)</td>\n",
              "    </tr>\n",
              "    <tr>\n",
              "      <th>13</th>\n",
              "      <td>Shuffle Train-Test</td>\n",
              "      <td>True</td>\n",
              "    </tr>\n",
              "    <tr>\n",
              "      <th>14</th>\n",
              "      <td>Stratify Train-Test</td>\n",
              "      <td>False</td>\n",
              "    </tr>\n",
              "    <tr>\n",
              "      <th>15</th>\n",
              "      <td>Fold Generator</td>\n",
              "      <td>StratifiedKFold</td>\n",
              "    </tr>\n",
              "    <tr>\n",
              "      <th>16</th>\n",
              "      <td>Fold Number</td>\n",
              "      <td>10</td>\n",
              "    </tr>\n",
              "    <tr>\n",
              "      <th>17</th>\n",
              "      <td>CPU Jobs</td>\n",
              "      <td>-1</td>\n",
              "    </tr>\n",
              "    <tr>\n",
              "      <th>18</th>\n",
              "      <td>Use GPU</td>\n",
              "      <td>False</td>\n",
              "    </tr>\n",
              "    <tr>\n",
              "      <th>19</th>\n",
              "      <td>Log Experiment</td>\n",
              "      <td>False</td>\n",
              "    </tr>\n",
              "    <tr>\n",
              "      <th>20</th>\n",
              "      <td>Experiment Name</td>\n",
              "      <td>clf-default-name</td>\n",
              "    </tr>\n",
              "    <tr>\n",
              "      <th>21</th>\n",
              "      <td>USI</td>\n",
              "      <td>8fcd</td>\n",
              "    </tr>\n",
              "    <tr>\n",
              "      <th>22</th>\n",
              "      <td>Imputation Type</td>\n",
              "      <td>simple</td>\n",
              "    </tr>\n",
              "    <tr>\n",
              "      <th>23</th>\n",
              "      <td>Iterative Imputation Iteration</td>\n",
              "      <td>None</td>\n",
              "    </tr>\n",
              "    <tr>\n",
              "      <th>24</th>\n",
              "      <td>Numeric Imputer</td>\n",
              "      <td>mean</td>\n",
              "    </tr>\n",
              "    <tr>\n",
              "      <th>25</th>\n",
              "      <td>Iterative Imputation Numeric Model</td>\n",
              "      <td>None</td>\n",
              "    </tr>\n",
              "    <tr>\n",
              "      <th>26</th>\n",
              "      <td>Categorical Imputer</td>\n",
              "      <td>constant</td>\n",
              "    </tr>\n",
              "    <tr>\n",
              "      <th>27</th>\n",
              "      <td>Iterative Imputation Categorical Model</td>\n",
              "      <td>None</td>\n",
              "    </tr>\n",
              "    <tr>\n",
              "      <th>28</th>\n",
              "      <td>Unknown Categoricals Handling</td>\n",
              "      <td>least_frequent</td>\n",
              "    </tr>\n",
              "    <tr>\n",
              "      <th>29</th>\n",
              "      <td>Normalize</td>\n",
              "      <td>False</td>\n",
              "    </tr>\n",
              "    <tr>\n",
              "      <th>30</th>\n",
              "      <td>Normalize Method</td>\n",
              "      <td>None</td>\n",
              "    </tr>\n",
              "    <tr>\n",
              "      <th>31</th>\n",
              "      <td>Transformation</td>\n",
              "      <td>False</td>\n",
              "    </tr>\n",
              "    <tr>\n",
              "      <th>32</th>\n",
              "      <td>Transformation Method</td>\n",
              "      <td>None</td>\n",
              "    </tr>\n",
              "    <tr>\n",
              "      <th>33</th>\n",
              "      <td>PCA</td>\n",
              "      <td>False</td>\n",
              "    </tr>\n",
              "    <tr>\n",
              "      <th>34</th>\n",
              "      <td>PCA Method</td>\n",
              "      <td>None</td>\n",
              "    </tr>\n",
              "    <tr>\n",
              "      <th>35</th>\n",
              "      <td>PCA Components</td>\n",
              "      <td>None</td>\n",
              "    </tr>\n",
              "    <tr>\n",
              "      <th>36</th>\n",
              "      <td>Ignore Low Variance</td>\n",
              "      <td>False</td>\n",
              "    </tr>\n",
              "    <tr>\n",
              "      <th>37</th>\n",
              "      <td>Combine Rare Levels</td>\n",
              "      <td>False</td>\n",
              "    </tr>\n",
              "    <tr>\n",
              "      <th>38</th>\n",
              "      <td>Rare Level Threshold</td>\n",
              "      <td>None</td>\n",
              "    </tr>\n",
              "    <tr>\n",
              "      <th>39</th>\n",
              "      <td>Numeric Binning</td>\n",
              "      <td>False</td>\n",
              "    </tr>\n",
              "    <tr>\n",
              "      <th>40</th>\n",
              "      <td>Remove Outliers</td>\n",
              "      <td>False</td>\n",
              "    </tr>\n",
              "    <tr>\n",
              "      <th>41</th>\n",
              "      <td>Outliers Threshold</td>\n",
              "      <td>None</td>\n",
              "    </tr>\n",
              "    <tr>\n",
              "      <th>42</th>\n",
              "      <td>Remove Multicollinearity</td>\n",
              "      <td>False</td>\n",
              "    </tr>\n",
              "    <tr>\n",
              "      <th>43</th>\n",
              "      <td>Multicollinearity Threshold</td>\n",
              "      <td>None</td>\n",
              "    </tr>\n",
              "    <tr>\n",
              "      <th>44</th>\n",
              "      <td>Clustering</td>\n",
              "      <td>False</td>\n",
              "    </tr>\n",
              "    <tr>\n",
              "      <th>45</th>\n",
              "      <td>Clustering Iteration</td>\n",
              "      <td>None</td>\n",
              "    </tr>\n",
              "    <tr>\n",
              "      <th>46</th>\n",
              "      <td>Polynomial Features</td>\n",
              "      <td>False</td>\n",
              "    </tr>\n",
              "    <tr>\n",
              "      <th>47</th>\n",
              "      <td>Polynomial Degree</td>\n",
              "      <td>None</td>\n",
              "    </tr>\n",
              "    <tr>\n",
              "      <th>48</th>\n",
              "      <td>Trignometry Features</td>\n",
              "      <td>False</td>\n",
              "    </tr>\n",
              "    <tr>\n",
              "      <th>49</th>\n",
              "      <td>Polynomial Threshold</td>\n",
              "      <td>None</td>\n",
              "    </tr>\n",
              "    <tr>\n",
              "      <th>50</th>\n",
              "      <td>Group Features</td>\n",
              "      <td>False</td>\n",
              "    </tr>\n",
              "    <tr>\n",
              "      <th>51</th>\n",
              "      <td>Feature Selection</td>\n",
              "      <td>False</td>\n",
              "    </tr>\n",
              "    <tr>\n",
              "      <th>52</th>\n",
              "      <td>Features Selection Threshold</td>\n",
              "      <td>None</td>\n",
              "    </tr>\n",
              "    <tr>\n",
              "      <th>53</th>\n",
              "      <td>Feature Interaction</td>\n",
              "      <td>False</td>\n",
              "    </tr>\n",
              "    <tr>\n",
              "      <th>54</th>\n",
              "      <td>Feature Ratio</td>\n",
              "      <td>False</td>\n",
              "    </tr>\n",
              "    <tr>\n",
              "      <th>55</th>\n",
              "      <td>Interaction Threshold</td>\n",
              "      <td>None</td>\n",
              "    </tr>\n",
              "    <tr>\n",
              "      <th>56</th>\n",
              "      <td>Fix Imbalance</td>\n",
              "      <td>False</td>\n",
              "    </tr>\n",
              "    <tr>\n",
              "      <th>57</th>\n",
              "      <td>Fix Imbalance Method</td>\n",
              "      <td>SMOTE</td>\n",
              "    </tr>\n",
              "  </tbody>\n",
              "</table>\n",
              "</div>"
            ],
            "text/plain": [
              "                               Description             Value\n",
              "0                               session_id               123\n",
              "1                                   Target                 y\n",
              "2                              Target Type            Binary\n",
              "3                            Label Encoded        0: 0, 1: 1\n",
              "4                            Original Data      (142553, 52)\n",
              "5                           Missing Values             False\n",
              "6                         Numeric Features                48\n",
              "7                     Categorical Features                 3\n",
              "8                         Ordinal Features             False\n",
              "9                High Cardinality Features             False\n",
              "10                 High Cardinality Method              None\n",
              "11                   Transformed Train Set       (99787, 66)\n",
              "12                    Transformed Test Set       (42766, 66)\n",
              "13                      Shuffle Train-Test              True\n",
              "14                     Stratify Train-Test             False\n",
              "15                          Fold Generator   StratifiedKFold\n",
              "16                             Fold Number                10\n",
              "17                                CPU Jobs                -1\n",
              "18                                 Use GPU             False\n",
              "19                          Log Experiment             False\n",
              "20                         Experiment Name  clf-default-name\n",
              "21                                     USI              8fcd\n",
              "22                         Imputation Type            simple\n",
              "23          Iterative Imputation Iteration              None\n",
              "24                         Numeric Imputer              mean\n",
              "25      Iterative Imputation Numeric Model              None\n",
              "26                     Categorical Imputer          constant\n",
              "27  Iterative Imputation Categorical Model              None\n",
              "28           Unknown Categoricals Handling    least_frequent\n",
              "29                               Normalize             False\n",
              "30                        Normalize Method              None\n",
              "31                          Transformation             False\n",
              "32                   Transformation Method              None\n",
              "33                                     PCA             False\n",
              "34                              PCA Method              None\n",
              "35                          PCA Components              None\n",
              "36                     Ignore Low Variance             False\n",
              "37                     Combine Rare Levels             False\n",
              "38                    Rare Level Threshold              None\n",
              "39                         Numeric Binning             False\n",
              "40                         Remove Outliers             False\n",
              "41                      Outliers Threshold              None\n",
              "42                Remove Multicollinearity             False\n",
              "43             Multicollinearity Threshold              None\n",
              "44                              Clustering             False\n",
              "45                    Clustering Iteration              None\n",
              "46                     Polynomial Features             False\n",
              "47                       Polynomial Degree              None\n",
              "48                    Trignometry Features             False\n",
              "49                    Polynomial Threshold              None\n",
              "50                          Group Features             False\n",
              "51                       Feature Selection             False\n",
              "52            Features Selection Threshold              None\n",
              "53                     Feature Interaction             False\n",
              "54                           Feature Ratio             False\n",
              "55                   Interaction Threshold              None\n",
              "56                           Fix Imbalance             False\n",
              "57                    Fix Imbalance Method             SMOTE"
            ]
          },
          "metadata": {
            "tags": []
          }
        },
        {
          "output_type": "stream",
          "text": [
            "time: 3min 50s\n"
          ],
          "name": "stdout"
        }
      ]
    },
    {
      "cell_type": "code",
      "metadata": {
        "colab": {
          "base_uri": "https://localhost:8080/",
          "height": 531,
          "referenced_widgets": [
            "4c33021de9d34b89b76b0e23f13bfd47",
            "1ebe513c522346459ca26d155bf40c45",
            "a9242474f74941488e3689d12128e302"
          ]
        },
        "id": "To89fuJSzA40",
        "outputId": "6d7c3086-3aa4-434d-cc99-6f63b4caa75a"
      },
      "source": [
        "best_model = compare_models()# default "
      ],
      "execution_count": null,
      "outputs": [
        {
          "output_type": "display_data",
          "data": {
            "text/html": [
              "<div>\n",
              "<style scoped>\n",
              "    .dataframe tbody tr th:only-of-type {\n",
              "        vertical-align: middle;\n",
              "    }\n",
              "\n",
              "    .dataframe tbody tr th {\n",
              "        vertical-align: top;\n",
              "    }\n",
              "\n",
              "    .dataframe thead th {\n",
              "        text-align: right;\n",
              "    }\n",
              "</style>\n",
              "<table border=\"1\" class=\"dataframe\">\n",
              "  <thead>\n",
              "    <tr style=\"text-align: right;\">\n",
              "      <th></th>\n",
              "      <th>Model</th>\n",
              "      <th>Accuracy</th>\n",
              "      <th>AUC</th>\n",
              "      <th>Recall</th>\n",
              "      <th>Prec.</th>\n",
              "      <th>F1</th>\n",
              "      <th>Kappa</th>\n",
              "      <th>MCC</th>\n",
              "      <th>TT (Sec)</th>\n",
              "    </tr>\n",
              "  </thead>\n",
              "  <tbody>\n",
              "    <tr>\n",
              "      <th>catboost</th>\n",
              "      <td>CatBoost Classifier</td>\n",
              "      <td>0.9354</td>\n",
              "      <td>0.9804</td>\n",
              "      <td>0.9102</td>\n",
              "      <td>0.9274</td>\n",
              "      <td>0.9187</td>\n",
              "      <td>0.8651</td>\n",
              "      <td>0.8652</td>\n",
              "      <td>30.631</td>\n",
              "    </tr>\n",
              "    <tr>\n",
              "      <th>xgboost</th>\n",
              "      <td>Extreme Gradient Boosting</td>\n",
              "      <td>0.9221</td>\n",
              "      <td>0.9739</td>\n",
              "      <td>0.8902</td>\n",
              "      <td>0.9135</td>\n",
              "      <td>0.9017</td>\n",
              "      <td>0.8372</td>\n",
              "      <td>0.8374</td>\n",
              "      <td>8.941</td>\n",
              "    </tr>\n",
              "    <tr>\n",
              "      <th>rf</th>\n",
              "      <td>Random Forest Classifier</td>\n",
              "      <td>0.9160</td>\n",
              "      <td>0.9714</td>\n",
              "      <td>0.8575</td>\n",
              "      <td>0.9276</td>\n",
              "      <td>0.8912</td>\n",
              "      <td>0.8230</td>\n",
              "      <td>0.8247</td>\n",
              "      <td>3.658</td>\n",
              "    </tr>\n",
              "    <tr>\n",
              "      <th>lightgbm</th>\n",
              "      <td>Light Gradient Boosting Machine</td>\n",
              "      <td>0.9072</td>\n",
              "      <td>0.9665</td>\n",
              "      <td>0.8643</td>\n",
              "      <td>0.9004</td>\n",
              "      <td>0.8820</td>\n",
              "      <td>0.8055</td>\n",
              "      <td>0.8060</td>\n",
              "      <td>0.565</td>\n",
              "    </tr>\n",
              "    <tr>\n",
              "      <th>et</th>\n",
              "      <td>Extra Trees Classifier</td>\n",
              "      <td>0.9058</td>\n",
              "      <td>0.9684</td>\n",
              "      <td>0.8296</td>\n",
              "      <td>0.9281</td>\n",
              "      <td>0.8761</td>\n",
              "      <td>0.8005</td>\n",
              "      <td>0.8038</td>\n",
              "      <td>2.022</td>\n",
              "    </tr>\n",
              "    <tr>\n",
              "      <th>dt</th>\n",
              "      <td>Decision Tree Classifier</td>\n",
              "      <td>0.8393</td>\n",
              "      <td>0.8334</td>\n",
              "      <td>0.8038</td>\n",
              "      <td>0.7973</td>\n",
              "      <td>0.8005</td>\n",
              "      <td>0.6660</td>\n",
              "      <td>0.6660</td>\n",
              "      <td>1.282</td>\n",
              "    </tr>\n",
              "    <tr>\n",
              "      <th>gbc</th>\n",
              "      <td>Gradient Boosting Classifier</td>\n",
              "      <td>0.8383</td>\n",
              "      <td>0.9147</td>\n",
              "      <td>0.7474</td>\n",
              "      <td>0.8324</td>\n",
              "      <td>0.7876</td>\n",
              "      <td>0.6576</td>\n",
              "      <td>0.6601</td>\n",
              "      <td>21.743</td>\n",
              "    </tr>\n",
              "    <tr>\n",
              "      <th>ada</th>\n",
              "      <td>Ada Boost Classifier</td>\n",
              "      <td>0.7377</td>\n",
              "      <td>0.8060</td>\n",
              "      <td>0.6043</td>\n",
              "      <td>0.7008</td>\n",
              "      <td>0.6490</td>\n",
              "      <td>0.4414</td>\n",
              "      <td>0.4445</td>\n",
              "      <td>4.246</td>\n",
              "    </tr>\n",
              "    <tr>\n",
              "      <th>ridge</th>\n",
              "      <td>Ridge Classifier</td>\n",
              "      <td>0.7014</td>\n",
              "      <td>0.0000</td>\n",
              "      <td>0.5046</td>\n",
              "      <td>0.6697</td>\n",
              "      <td>0.5755</td>\n",
              "      <td>0.3522</td>\n",
              "      <td>0.3606</td>\n",
              "      <td>0.118</td>\n",
              "    </tr>\n",
              "    <tr>\n",
              "      <th>lda</th>\n",
              "      <td>Linear Discriminant Analysis</td>\n",
              "      <td>0.7014</td>\n",
              "      <td>0.7589</td>\n",
              "      <td>0.5086</td>\n",
              "      <td>0.6679</td>\n",
              "      <td>0.5775</td>\n",
              "      <td>0.3530</td>\n",
              "      <td>0.3609</td>\n",
              "      <td>0.615</td>\n",
              "    </tr>\n",
              "    <tr>\n",
              "      <th>nb</th>\n",
              "      <td>Naive Bayes</td>\n",
              "      <td>0.6998</td>\n",
              "      <td>0.7648</td>\n",
              "      <td>0.5245</td>\n",
              "      <td>0.6578</td>\n",
              "      <td>0.5836</td>\n",
              "      <td>0.3535</td>\n",
              "      <td>0.3591</td>\n",
              "      <td>0.192</td>\n",
              "    </tr>\n",
              "    <tr>\n",
              "      <th>lr</th>\n",
              "      <td>Logistic Regression</td>\n",
              "      <td>0.6983</td>\n",
              "      <td>0.7424</td>\n",
              "      <td>0.5473</td>\n",
              "      <td>0.6466</td>\n",
              "      <td>0.5927</td>\n",
              "      <td>0.3558</td>\n",
              "      <td>0.3590</td>\n",
              "      <td>1.248</td>\n",
              "    </tr>\n",
              "    <tr>\n",
              "      <th>svm</th>\n",
              "      <td>SVM - Linear Kernel</td>\n",
              "      <td>0.5699</td>\n",
              "      <td>0.0000</td>\n",
              "      <td>0.5696</td>\n",
              "      <td>0.5537</td>\n",
              "      <td>0.4359</td>\n",
              "      <td>0.1348</td>\n",
              "      <td>0.1868</td>\n",
              "      <td>2.704</td>\n",
              "    </tr>\n",
              "    <tr>\n",
              "      <th>knn</th>\n",
              "      <td>K Neighbors Classifier</td>\n",
              "      <td>0.5560</td>\n",
              "      <td>0.5344</td>\n",
              "      <td>0.3561</td>\n",
              "      <td>0.4349</td>\n",
              "      <td>0.3915</td>\n",
              "      <td>0.0475</td>\n",
              "      <td>0.0481</td>\n",
              "      <td>0.520</td>\n",
              "    </tr>\n",
              "    <tr>\n",
              "      <th>qda</th>\n",
              "      <td>Quadratic Discriminant Analysis</td>\n",
              "      <td>0.4968</td>\n",
              "      <td>0.5042</td>\n",
              "      <td>0.5415</td>\n",
              "      <td>0.4044</td>\n",
              "      <td>0.4398</td>\n",
              "      <td>0.0078</td>\n",
              "      <td>0.0102</td>\n",
              "      <td>0.210</td>\n",
              "    </tr>\n",
              "  </tbody>\n",
              "</table>\n",
              "</div>"
            ],
            "text/plain": [
              "                                    Model  Accuracy     AUC  Recall   Prec.  \\\n",
              "catboost              CatBoost Classifier    0.9354  0.9804  0.9102  0.9274   \n",
              "xgboost         Extreme Gradient Boosting    0.9221  0.9739  0.8902  0.9135   \n",
              "rf               Random Forest Classifier    0.9160  0.9714  0.8575  0.9276   \n",
              "lightgbm  Light Gradient Boosting Machine    0.9072  0.9665  0.8643  0.9004   \n",
              "et                 Extra Trees Classifier    0.9058  0.9684  0.8296  0.9281   \n",
              "dt               Decision Tree Classifier    0.8393  0.8334  0.8038  0.7973   \n",
              "gbc          Gradient Boosting Classifier    0.8383  0.9147  0.7474  0.8324   \n",
              "ada                  Ada Boost Classifier    0.7377  0.8060  0.6043  0.7008   \n",
              "ridge                    Ridge Classifier    0.7014  0.0000  0.5046  0.6697   \n",
              "lda          Linear Discriminant Analysis    0.7014  0.7589  0.5086  0.6679   \n",
              "nb                            Naive Bayes    0.6998  0.7648  0.5245  0.6578   \n",
              "lr                    Logistic Regression    0.6983  0.7424  0.5473  0.6466   \n",
              "svm                   SVM - Linear Kernel    0.5699  0.0000  0.5696  0.5537   \n",
              "knn                K Neighbors Classifier    0.5560  0.5344  0.3561  0.4349   \n",
              "qda       Quadratic Discriminant Analysis    0.4968  0.5042  0.5415  0.4044   \n",
              "\n",
              "              F1   Kappa     MCC  TT (Sec)  \n",
              "catboost  0.9187  0.8651  0.8652    30.631  \n",
              "xgboost   0.9017  0.8372  0.8374     8.941  \n",
              "rf        0.8912  0.8230  0.8247     3.658  \n",
              "lightgbm  0.8820  0.8055  0.8060     0.565  \n",
              "et        0.8761  0.8005  0.8038     2.022  \n",
              "dt        0.8005  0.6660  0.6660     1.282  \n",
              "gbc       0.7876  0.6576  0.6601    21.743  \n",
              "ada       0.6490  0.4414  0.4445     4.246  \n",
              "ridge     0.5755  0.3522  0.3606     0.118  \n",
              "lda       0.5775  0.3530  0.3609     0.615  \n",
              "nb        0.5836  0.3535  0.3591     0.192  \n",
              "lr        0.5927  0.3558  0.3590     1.248  \n",
              "svm       0.4359  0.1348  0.1868     2.704  \n",
              "knn       0.3915  0.0475  0.0481     0.520  \n",
              "qda       0.4398  0.0078  0.0102     0.210  "
            ]
          },
          "metadata": {
            "tags": []
          }
        },
        {
          "output_type": "stream",
          "text": [
            "time: 13min 39s\n"
          ],
          "name": "stdout"
        }
      ]
    },
    {
      "cell_type": "code",
      "metadata": {
        "id": "05eDDau4q02E"
      },
      "source": [
        ""
      ],
      "execution_count": null,
      "outputs": []
    },
    {
      "cell_type": "markdown",
      "metadata": {
        "id": "Pek5yZxCrqId"
      },
      "source": [
        "## precision vs recall vs f1 score staring with f1 as the average of trade off between precision and recall:\n",
        "\n",
        "## starting with f 1 score for general assessment of model peformance\n",
        "Precision is more important than recall when you would like to have less False Positives in trade off to have more False Negatives. Meaning, getting a False Positive is very costly, and a False Negative is not as much.\n",
        "\n",
        "In a zombie apocalypse, of course you would try to accept as many as healthy people you can into your safe zone, but you really dont want to mistakenly pass a zombie into the safe zone. So if your method causes some of the healthy people mistakenly not to get into the safe zone, then so be it."
      ]
    },
    {
      "cell_type": "code",
      "metadata": {
        "id": "JS-M2NMajtCS",
        "colab": {
          "base_uri": "https://localhost:8080/",
          "height": 1000,
          "referenced_widgets": [
            "20f82a89cdea49b58df4521ab3047946",
            "5bfecf23a594486aac63e4e7c49ab6b5",
            "82a915dd04e746358418a0a6054960b9",
            "ac74622a039b43f28ae68aaf592ef644",
            "f8363754e0f14accb72a6c0a42bb7a66",
            "1febf603342b4530bfad4e00f78cafed",
            "a580a0fadb954686b8fc1afcf0ad351c"
          ]
        },
        "outputId": "c202f874-a685-4f4b-bba8-b8fc12afeb59"
      },
      "source": [
        "# after the  basic model comparaison here is the best model\n",
        "print( \" the best base model is definced as {}\". format(best_model))\n",
        "evaluate_model(best_model)\n"
      ],
      "execution_count": null,
      "outputs": [
        {
          "output_type": "stream",
          "text": [
            " the best base model is definced as <catboost.core.CatBoostClassifier object at 0x7f3984cc4d30>\n"
          ],
          "name": "stdout"
        },
        {
          "output_type": "display_data",
          "data": {
            "application/vnd.jupyter.widget-view+json": {
              "model_id": "20f82a89cdea49b58df4521ab3047946",
              "version_minor": 0,
              "version_major": 2
            },
            "text/plain": [
              "interactive(children=(ToggleButtons(description='Plot Type:', icons=('',), options=(('Hyperparameters', 'param…"
            ]
          },
          "metadata": {
            "tags": []
          }
        },
        {
          "output_type": "stream",
          "text": [
            "time: 371 ms\n"
          ],
          "name": "stdout"
        }
      ]
    },
    {
      "cell_type": "markdown",
      "metadata": {
        "id": "YLmaY7z1kCN4"
      },
      "source": [
        "## steps:\n",
        "## 1. after quick assessment  create few model using the general assesment on the baseline\n",
        "## 2. after creating  and fine turning each model do a quick comoaraison cost function to evauate which one give a lower cost. \n",
        "\n",
        "## 3. select the best model and finalize it   by plot it  AUC , precision recall  and feature importance\n",
        "\n",
        "## 4. last step will be on  predicting on the hold set and evaluate the cost on the hold set \n",
        "## 5. and some intepretation of the final model"
      ]
    },
    {
      "cell_type": "code",
      "metadata": {
        "id": "sAiiuehwrLa7",
        "colab": {
          "base_uri": "https://localhost:8080/"
        },
        "outputId": "a0864810-f9bd-4d71-8402-99c342f40975"
      },
      "source": [
        "# 'For the remaining part of this tutorial, we will work with the below models as our candidate models. The selections are for illustration purposes only and do not necessarily mean they are the top performing or ideal for this type of data.\n",
        "\n",
        "# Decision Tree Classifier ('dt')\n",
        "# K Neighbors Classifier ('knn')\n",
        "# Random Forest Classifier ('rf')'\n",
        "\n",
        "\n",
        "\n",
        "# out of the 16 model we will select the following: \n",
        "\n",
        "# 1.    random forest\n",
        "# 2.    logistic regression "
      ],
      "execution_count": null,
      "outputs": [
        {
          "output_type": "stream",
          "text": [
            "time: 1.58 ms\n"
          ],
          "name": "stdout"
        }
      ]
    },
    {
      "cell_type": "markdown",
      "metadata": {
        "id": "dL5jZKQ0Kzsc"
      },
      "source": [
        "## CREATE AND FINE TUNE MODEL\n",
        "After assessing and comparing the 16 model from pycaret, we will select 2~3 that we will train and fine tune and evaluate the cost function. we selected the following:\n",
        "1.    random forest\n",
        "2.    logistic regression \n",
        "3.    catboost"
      ]
    },
    {
      "cell_type": "markdown",
      "metadata": {
        "id": "OktClM6SlIAB"
      },
      "source": [
        "### 1. Random forest"
      ]
    },
    {
      "cell_type": "markdown",
      "metadata": {
        "id": "2CK90lSRMw7S"
      },
      "source": [
        "####        a. create a model        "
      ]
    },
    {
      "cell_type": "code",
      "metadata": {
        "id": "wklmId04j-XQ",
        "colab": {
          "base_uri": "https://localhost:8080/",
          "height": 438,
          "referenced_widgets": [
            "f22fcec403824554996385ec9f9ca00b",
            "085f564d55fc42afa0419e0d06cf98eb",
            "e3d8cb2bba244ae892fd899a98a699a9"
          ]
        },
        "outputId": "35966050-7d2a-4b80-cb73-b17758637a5b"
      },
      "source": [
        "## train and test model using CV of 10 fold\n",
        "rf = create_model('rf')"
      ],
      "execution_count": null,
      "outputs": [
        {
          "output_type": "display_data",
          "data": {
            "text/html": [
              "<div>\n",
              "<style scoped>\n",
              "    .dataframe tbody tr th:only-of-type {\n",
              "        vertical-align: middle;\n",
              "    }\n",
              "\n",
              "    .dataframe tbody tr th {\n",
              "        vertical-align: top;\n",
              "    }\n",
              "\n",
              "    .dataframe thead th {\n",
              "        text-align: right;\n",
              "    }\n",
              "</style>\n",
              "<table border=\"1\" class=\"dataframe\">\n",
              "  <thead>\n",
              "    <tr style=\"text-align: right;\">\n",
              "      <th></th>\n",
              "      <th>Accuracy</th>\n",
              "      <th>AUC</th>\n",
              "      <th>Recall</th>\n",
              "      <th>Prec.</th>\n",
              "      <th>F1</th>\n",
              "      <th>Kappa</th>\n",
              "      <th>MCC</th>\n",
              "    </tr>\n",
              "  </thead>\n",
              "  <tbody>\n",
              "    <tr>\n",
              "      <th>0</th>\n",
              "      <td>0.9135</td>\n",
              "      <td>0.9707</td>\n",
              "      <td>0.8487</td>\n",
              "      <td>0.9297</td>\n",
              "      <td>0.8873</td>\n",
              "      <td>0.8174</td>\n",
              "      <td>0.8196</td>\n",
              "    </tr>\n",
              "    <tr>\n",
              "      <th>1</th>\n",
              "      <td>0.9164</td>\n",
              "      <td>0.9716</td>\n",
              "      <td>0.8541</td>\n",
              "      <td>0.9319</td>\n",
              "      <td>0.8913</td>\n",
              "      <td>0.8236</td>\n",
              "      <td>0.8257</td>\n",
              "    </tr>\n",
              "    <tr>\n",
              "      <th>2</th>\n",
              "      <td>0.9160</td>\n",
              "      <td>0.9707</td>\n",
              "      <td>0.8576</td>\n",
              "      <td>0.9276</td>\n",
              "      <td>0.8913</td>\n",
              "      <td>0.8230</td>\n",
              "      <td>0.8247</td>\n",
              "    </tr>\n",
              "    <tr>\n",
              "      <th>3</th>\n",
              "      <td>0.9164</td>\n",
              "      <td>0.9723</td>\n",
              "      <td>0.8579</td>\n",
              "      <td>0.9284</td>\n",
              "      <td>0.8917</td>\n",
              "      <td>0.8238</td>\n",
              "      <td>0.8255</td>\n",
              "    </tr>\n",
              "    <tr>\n",
              "      <th>4</th>\n",
              "      <td>0.9170</td>\n",
              "      <td>0.9709</td>\n",
              "      <td>0.8559</td>\n",
              "      <td>0.9317</td>\n",
              "      <td>0.8922</td>\n",
              "      <td>0.8249</td>\n",
              "      <td>0.8269</td>\n",
              "    </tr>\n",
              "    <tr>\n",
              "      <th>5</th>\n",
              "      <td>0.9153</td>\n",
              "      <td>0.9723</td>\n",
              "      <td>0.8594</td>\n",
              "      <td>0.9242</td>\n",
              "      <td>0.8906</td>\n",
              "      <td>0.8217</td>\n",
              "      <td>0.8231</td>\n",
              "    </tr>\n",
              "    <tr>\n",
              "      <th>6</th>\n",
              "      <td>0.9187</td>\n",
              "      <td>0.9731</td>\n",
              "      <td>0.8664</td>\n",
              "      <td>0.9263</td>\n",
              "      <td>0.8953</td>\n",
              "      <td>0.8290</td>\n",
              "      <td>0.8303</td>\n",
              "    </tr>\n",
              "    <tr>\n",
              "      <th>7</th>\n",
              "      <td>0.9128</td>\n",
              "      <td>0.9687</td>\n",
              "      <td>0.8554</td>\n",
              "      <td>0.9217</td>\n",
              "      <td>0.8873</td>\n",
              "      <td>0.8163</td>\n",
              "      <td>0.8179</td>\n",
              "    </tr>\n",
              "    <tr>\n",
              "      <th>8</th>\n",
              "      <td>0.9138</td>\n",
              "      <td>0.9707</td>\n",
              "      <td>0.8526</td>\n",
              "      <td>0.9267</td>\n",
              "      <td>0.8881</td>\n",
              "      <td>0.8182</td>\n",
              "      <td>0.8201</td>\n",
              "    </tr>\n",
              "    <tr>\n",
              "      <th>9</th>\n",
              "      <td>0.9199</td>\n",
              "      <td>0.9733</td>\n",
              "      <td>0.8676</td>\n",
              "      <td>0.9281</td>\n",
              "      <td>0.8968</td>\n",
              "      <td>0.8315</td>\n",
              "      <td>0.8328</td>\n",
              "    </tr>\n",
              "    <tr>\n",
              "      <th>Mean</th>\n",
              "      <td>0.9160</td>\n",
              "      <td>0.9714</td>\n",
              "      <td>0.8575</td>\n",
              "      <td>0.9276</td>\n",
              "      <td>0.8912</td>\n",
              "      <td>0.8230</td>\n",
              "      <td>0.8247</td>\n",
              "    </tr>\n",
              "    <tr>\n",
              "      <th>SD</th>\n",
              "      <td>0.0021</td>\n",
              "      <td>0.0013</td>\n",
              "      <td>0.0055</td>\n",
              "      <td>0.0030</td>\n",
              "      <td>0.0030</td>\n",
              "      <td>0.0046</td>\n",
              "      <td>0.0045</td>\n",
              "    </tr>\n",
              "  </tbody>\n",
              "</table>\n",
              "</div>"
            ],
            "text/plain": [
              "      Accuracy     AUC  Recall   Prec.      F1   Kappa     MCC\n",
              "0       0.9135  0.9707  0.8487  0.9297  0.8873  0.8174  0.8196\n",
              "1       0.9164  0.9716  0.8541  0.9319  0.8913  0.8236  0.8257\n",
              "2       0.9160  0.9707  0.8576  0.9276  0.8913  0.8230  0.8247\n",
              "3       0.9164  0.9723  0.8579  0.9284  0.8917  0.8238  0.8255\n",
              "4       0.9170  0.9709  0.8559  0.9317  0.8922  0.8249  0.8269\n",
              "5       0.9153  0.9723  0.8594  0.9242  0.8906  0.8217  0.8231\n",
              "6       0.9187  0.9731  0.8664  0.9263  0.8953  0.8290  0.8303\n",
              "7       0.9128  0.9687  0.8554  0.9217  0.8873  0.8163  0.8179\n",
              "8       0.9138  0.9707  0.8526  0.9267  0.8881  0.8182  0.8201\n",
              "9       0.9199  0.9733  0.8676  0.9281  0.8968  0.8315  0.8328\n",
              "Mean    0.9160  0.9714  0.8575  0.9276  0.8912  0.8230  0.8247\n",
              "SD      0.0021  0.0013  0.0055  0.0030  0.0030  0.0046  0.0045"
            ]
          },
          "metadata": {
            "tags": []
          }
        },
        {
          "output_type": "stream",
          "text": [
            "time: 43.8 s\n"
          ],
          "name": "stdout"
        }
      ]
    },
    {
      "cell_type": "code",
      "metadata": {
        "id": "RNzppFYYkMfV",
        "colab": {
          "base_uri": "https://localhost:8080/"
        },
        "outputId": "f33371f3-9aee-4732-b0ae-f9cb8b9f93f8"
      },
      "source": [
        "# print  basic model\n",
        "print(rf)"
      ],
      "execution_count": null,
      "outputs": [
        {
          "output_type": "stream",
          "text": [
            "RandomForestClassifier(bootstrap=True, ccp_alpha=0.0, class_weight=None,\n",
            "                       criterion='gini', max_depth=None, max_features='auto',\n",
            "                       max_leaf_nodes=None, max_samples=None,\n",
            "                       min_impurity_decrease=0.0, min_impurity_split=None,\n",
            "                       min_samples_leaf=1, min_samples_split=2,\n",
            "                       min_weight_fraction_leaf=0.0, n_estimators=100,\n",
            "                       n_jobs=-1, oob_score=False, random_state=123, verbose=0,\n",
            "                       warm_start=False)\n",
            "time: 1.58 ms\n"
          ],
          "name": "stdout"
        }
      ]
    },
    {
      "cell_type": "markdown",
      "metadata": {
        "id": "DGEwMIYAMnMq"
      },
      "source": [
        "#### b. Tune a model"
      ]
    },
    {
      "cell_type": "code",
      "metadata": {
        "id": "iNrKzOYXlzAK",
        "colab": {
          "base_uri": "https://localhost:8080/",
          "height": 438,
          "referenced_widgets": [
            "e087d0860e004788837cd8125941a875",
            "ce513aedd864422c9170f1382dcdfb22",
            "4053d1cd9e1a4716a1816bda7468ed03"
          ]
        },
        "outputId": "3e56fd86-aa26-4503-bbf7-ce84531afa09"
      },
      "source": [
        " #tune the model using auto gridsearch\n",
        " #based on user cost function the minimal cost is achieve using a highest recall\n",
        " #tuned using recall\n",
        " tuned_rf = tune_model(rf, optimize = 'Recall')"
      ],
      "execution_count": null,
      "outputs": [
        {
          "output_type": "display_data",
          "data": {
            "text/html": [
              "<div>\n",
              "<style scoped>\n",
              "    .dataframe tbody tr th:only-of-type {\n",
              "        vertical-align: middle;\n",
              "    }\n",
              "\n",
              "    .dataframe tbody tr th {\n",
              "        vertical-align: top;\n",
              "    }\n",
              "\n",
              "    .dataframe thead th {\n",
              "        text-align: right;\n",
              "    }\n",
              "</style>\n",
              "<table border=\"1\" class=\"dataframe\">\n",
              "  <thead>\n",
              "    <tr style=\"text-align: right;\">\n",
              "      <th></th>\n",
              "      <th>Accuracy</th>\n",
              "      <th>AUC</th>\n",
              "      <th>Recall</th>\n",
              "      <th>Prec.</th>\n",
              "      <th>F1</th>\n",
              "      <th>Kappa</th>\n",
              "      <th>MCC</th>\n",
              "    </tr>\n",
              "  </thead>\n",
              "  <tbody>\n",
              "    <tr>\n",
              "      <th>0</th>\n",
              "      <td>0.4012</td>\n",
              "      <td>0.5</td>\n",
              "      <td>1.0</td>\n",
              "      <td>0.4012</td>\n",
              "      <td>0.5727</td>\n",
              "      <td>0.0</td>\n",
              "      <td>0.0</td>\n",
              "    </tr>\n",
              "    <tr>\n",
              "      <th>1</th>\n",
              "      <td>0.4012</td>\n",
              "      <td>0.5</td>\n",
              "      <td>1.0</td>\n",
              "      <td>0.4012</td>\n",
              "      <td>0.5727</td>\n",
              "      <td>0.0</td>\n",
              "      <td>0.0</td>\n",
              "    </tr>\n",
              "    <tr>\n",
              "      <th>2</th>\n",
              "      <td>0.4012</td>\n",
              "      <td>0.5</td>\n",
              "      <td>1.0</td>\n",
              "      <td>0.4012</td>\n",
              "      <td>0.5727</td>\n",
              "      <td>0.0</td>\n",
              "      <td>0.0</td>\n",
              "    </tr>\n",
              "    <tr>\n",
              "      <th>3</th>\n",
              "      <td>0.4011</td>\n",
              "      <td>0.5</td>\n",
              "      <td>1.0</td>\n",
              "      <td>0.4011</td>\n",
              "      <td>0.5726</td>\n",
              "      <td>0.0</td>\n",
              "      <td>0.0</td>\n",
              "    </tr>\n",
              "    <tr>\n",
              "      <th>4</th>\n",
              "      <td>0.4011</td>\n",
              "      <td>0.5</td>\n",
              "      <td>1.0</td>\n",
              "      <td>0.4011</td>\n",
              "      <td>0.5726</td>\n",
              "      <td>0.0</td>\n",
              "      <td>0.0</td>\n",
              "    </tr>\n",
              "    <tr>\n",
              "      <th>5</th>\n",
              "      <td>0.4011</td>\n",
              "      <td>0.5</td>\n",
              "      <td>1.0</td>\n",
              "      <td>0.4011</td>\n",
              "      <td>0.5726</td>\n",
              "      <td>0.0</td>\n",
              "      <td>0.0</td>\n",
              "    </tr>\n",
              "    <tr>\n",
              "      <th>6</th>\n",
              "      <td>0.4011</td>\n",
              "      <td>0.5</td>\n",
              "      <td>1.0</td>\n",
              "      <td>0.4011</td>\n",
              "      <td>0.5726</td>\n",
              "      <td>0.0</td>\n",
              "      <td>0.0</td>\n",
              "    </tr>\n",
              "    <tr>\n",
              "      <th>7</th>\n",
              "      <td>0.4012</td>\n",
              "      <td>0.5</td>\n",
              "      <td>1.0</td>\n",
              "      <td>0.4012</td>\n",
              "      <td>0.5726</td>\n",
              "      <td>0.0</td>\n",
              "      <td>0.0</td>\n",
              "    </tr>\n",
              "    <tr>\n",
              "      <th>8</th>\n",
              "      <td>0.4012</td>\n",
              "      <td>0.5</td>\n",
              "      <td>1.0</td>\n",
              "      <td>0.4012</td>\n",
              "      <td>0.5726</td>\n",
              "      <td>0.0</td>\n",
              "      <td>0.0</td>\n",
              "    </tr>\n",
              "    <tr>\n",
              "      <th>9</th>\n",
              "      <td>0.4012</td>\n",
              "      <td>0.5</td>\n",
              "      <td>1.0</td>\n",
              "      <td>0.4012</td>\n",
              "      <td>0.5726</td>\n",
              "      <td>0.0</td>\n",
              "      <td>0.0</td>\n",
              "    </tr>\n",
              "    <tr>\n",
              "      <th>Mean</th>\n",
              "      <td>0.4012</td>\n",
              "      <td>0.5</td>\n",
              "      <td>1.0</td>\n",
              "      <td>0.4012</td>\n",
              "      <td>0.5726</td>\n",
              "      <td>0.0</td>\n",
              "      <td>0.0</td>\n",
              "    </tr>\n",
              "    <tr>\n",
              "      <th>SD</th>\n",
              "      <td>0.0000</td>\n",
              "      <td>0.0</td>\n",
              "      <td>0.0</td>\n",
              "      <td>0.0000</td>\n",
              "      <td>0.0000</td>\n",
              "      <td>0.0</td>\n",
              "      <td>0.0</td>\n",
              "    </tr>\n",
              "  </tbody>\n",
              "</table>\n",
              "</div>"
            ],
            "text/plain": [
              "      Accuracy  AUC  Recall   Prec.      F1  Kappa  MCC\n",
              "0       0.4012  0.5     1.0  0.4012  0.5727    0.0  0.0\n",
              "1       0.4012  0.5     1.0  0.4012  0.5727    0.0  0.0\n",
              "2       0.4012  0.5     1.0  0.4012  0.5727    0.0  0.0\n",
              "3       0.4011  0.5     1.0  0.4011  0.5726    0.0  0.0\n",
              "4       0.4011  0.5     1.0  0.4011  0.5726    0.0  0.0\n",
              "5       0.4011  0.5     1.0  0.4011  0.5726    0.0  0.0\n",
              "6       0.4011  0.5     1.0  0.4011  0.5726    0.0  0.0\n",
              "7       0.4012  0.5     1.0  0.4012  0.5726    0.0  0.0\n",
              "8       0.4012  0.5     1.0  0.4012  0.5726    0.0  0.0\n",
              "9       0.4012  0.5     1.0  0.4012  0.5726    0.0  0.0\n",
              "Mean    0.4012  0.5     1.0  0.4012  0.5726    0.0  0.0\n",
              "SD      0.0000  0.0     0.0  0.0000  0.0000    0.0  0.0"
            ]
          },
          "metadata": {
            "tags": []
          }
        },
        {
          "output_type": "stream",
          "text": [
            "time: 14min 53s\n"
          ],
          "name": "stdout"
        }
      ]
    },
    {
      "cell_type": "code",
      "metadata": {
        "id": "aAqaIsMJmcMv",
        "colab": {
          "base_uri": "https://localhost:8080/"
        },
        "outputId": "e050f0a3-9c5b-4dac-f180-59695a50e506"
      },
      "source": [
        "#print model parameter\n",
        "print(tuned_rf)"
      ],
      "execution_count": null,
      "outputs": [
        {
          "output_type": "stream",
          "text": [
            "RandomForestClassifier(bootstrap=True, ccp_alpha=0.0, class_weight='balanced',\n",
            "                       criterion='gini', max_depth=9, max_features=1.0,\n",
            "                       max_leaf_nodes=None, max_samples=None,\n",
            "                       min_impurity_decrease=0.1, min_impurity_split=None,\n",
            "                       min_samples_leaf=4, min_samples_split=7,\n",
            "                       min_weight_fraction_leaf=0.0, n_estimators=100,\n",
            "                       n_jobs=-1, oob_score=False, random_state=123, verbose=0,\n",
            "                       warm_start=False)\n",
            "time: 1.55 ms\n"
          ],
          "name": "stdout"
        }
      ]
    },
    {
      "cell_type": "code",
      "metadata": {
        "id": "VHRr4hmYYllG",
        "colab": {
          "base_uri": "https://localhost:8080/",
          "height": 418,
          "referenced_widgets": [
            "31e3d57fd78c49ce81fc0b87321d0afa"
          ]
        },
        "outputId": "6117712b-0f97-4bd9-8850-e617d3bad81c"
      },
      "source": [
        "#confusion matrix and cost function\n",
        "plot_model(tuned_rf, plot = 'confusion_matrix')"
      ],
      "execution_count": null,
      "outputs": [
        {
          "output_type": "display_data",
          "data": {
            "image/png": "[encoded data removed]",
            "text/plain": [
              "<Figure size 576x396 with 1 Axes>"
            ]
          },
          "metadata": {
            "tags": []
          }
        },
        {
          "output_type": "stream",
          "text": [
            "time: 780 ms\n"
          ],
          "name": "stdout"
        }
      ]
    },
    {
      "cell_type": "code",
      "metadata": {
        "id": "8_SIuE6YZcyB",
        "colab": {
          "base_uri": "https://localhost:8080/"
        },
        "outputId": "e2042ab9-8e9e-4ef3-b08b-14c396254066"
      },
      "source": [
        "## print cost value\n",
        "print(\"the cost assiciate to the tuned model is ${}\".format(cost(0,25551))) #cost(FN, FP):"
      ],
      "execution_count": null,
      "outputs": [
        {
          "output_type": "stream",
          "text": [
            "the cost assiciate to the tuned model is $255510\n",
            "time: 1.18 ms\n"
          ],
          "name": "stdout"
        }
      ]
    },
    {
      "cell_type": "code",
      "metadata": {
        "id": "sYxJPCv6Nnro",
        "colab": {
          "base_uri": "https://localhost:8080/",
          "height": 438,
          "referenced_widgets": [
            "d12f535bca174e5cb705dfbd2175edae",
            "b296068f680243d08c3a82545da8fac8",
            "a92e437e69504dee912563508042375d"
          ]
        },
        "outputId": "f1bc15bf-6014-489f-eb40-59cef74468b6"
      },
      "source": [
        "# tune using f1 score \n",
        "tuned_rf_f1 = tune_model(rf, optimize = 'f1') "
      ],
      "execution_count": null,
      "outputs": [
        {
          "output_type": "display_data",
          "data": {
            "text/html": [
              "<div>\n",
              "<style scoped>\n",
              "    .dataframe tbody tr th:only-of-type {\n",
              "        vertical-align: middle;\n",
              "    }\n",
              "\n",
              "    .dataframe tbody tr th {\n",
              "        vertical-align: top;\n",
              "    }\n",
              "\n",
              "    .dataframe thead th {\n",
              "        text-align: right;\n",
              "    }\n",
              "</style>\n",
              "<table border=\"1\" class=\"dataframe\">\n",
              "  <thead>\n",
              "    <tr style=\"text-align: right;\">\n",
              "      <th></th>\n",
              "      <th>Accuracy</th>\n",
              "      <th>AUC</th>\n",
              "      <th>Recall</th>\n",
              "      <th>Prec.</th>\n",
              "      <th>F1</th>\n",
              "      <th>Kappa</th>\n",
              "      <th>MCC</th>\n",
              "    </tr>\n",
              "  </thead>\n",
              "  <tbody>\n",
              "    <tr>\n",
              "      <th>0</th>\n",
              "      <td>0.7859</td>\n",
              "      <td>0.8478</td>\n",
              "      <td>0.7512</td>\n",
              "      <td>0.7250</td>\n",
              "      <td>0.7379</td>\n",
              "      <td>0.5570</td>\n",
              "      <td>0.5572</td>\n",
              "    </tr>\n",
              "    <tr>\n",
              "      <th>1</th>\n",
              "      <td>0.7839</td>\n",
              "      <td>0.8490</td>\n",
              "      <td>0.7682</td>\n",
              "      <td>0.7147</td>\n",
              "      <td>0.7405</td>\n",
              "      <td>0.5558</td>\n",
              "      <td>0.5569</td>\n",
              "    </tr>\n",
              "    <tr>\n",
              "      <th>2</th>\n",
              "      <td>0.7762</td>\n",
              "      <td>0.8403</td>\n",
              "      <td>0.7450</td>\n",
              "      <td>0.7111</td>\n",
              "      <td>0.7276</td>\n",
              "      <td>0.5379</td>\n",
              "      <td>0.5383</td>\n",
              "    </tr>\n",
              "    <tr>\n",
              "      <th>3</th>\n",
              "      <td>0.7793</td>\n",
              "      <td>0.8417</td>\n",
              "      <td>0.7434</td>\n",
              "      <td>0.7169</td>\n",
              "      <td>0.7299</td>\n",
              "      <td>0.5435</td>\n",
              "      <td>0.5438</td>\n",
              "    </tr>\n",
              "    <tr>\n",
              "      <th>4</th>\n",
              "      <td>0.7793</td>\n",
              "      <td>0.8403</td>\n",
              "      <td>0.7372</td>\n",
              "      <td>0.7196</td>\n",
              "      <td>0.7283</td>\n",
              "      <td>0.5426</td>\n",
              "      <td>0.5427</td>\n",
              "    </tr>\n",
              "    <tr>\n",
              "      <th>5</th>\n",
              "      <td>0.7782</td>\n",
              "      <td>0.8426</td>\n",
              "      <td>0.7517</td>\n",
              "      <td>0.7117</td>\n",
              "      <td>0.7311</td>\n",
              "      <td>0.5427</td>\n",
              "      <td>0.5433</td>\n",
              "    </tr>\n",
              "    <tr>\n",
              "      <th>6</th>\n",
              "      <td>0.7831</td>\n",
              "      <td>0.8444</td>\n",
              "      <td>0.7622</td>\n",
              "      <td>0.7157</td>\n",
              "      <td>0.7382</td>\n",
              "      <td>0.5534</td>\n",
              "      <td>0.5542</td>\n",
              "    </tr>\n",
              "    <tr>\n",
              "      <th>7</th>\n",
              "      <td>0.7742</td>\n",
              "      <td>0.8438</td>\n",
              "      <td>0.7734</td>\n",
              "      <td>0.6970</td>\n",
              "      <td>0.7332</td>\n",
              "      <td>0.5384</td>\n",
              "      <td>0.5406</td>\n",
              "    </tr>\n",
              "    <tr>\n",
              "      <th>8</th>\n",
              "      <td>0.7766</td>\n",
              "      <td>0.8428</td>\n",
              "      <td>0.7399</td>\n",
              "      <td>0.7137</td>\n",
              "      <td>0.7266</td>\n",
              "      <td>0.5379</td>\n",
              "      <td>0.5381</td>\n",
              "    </tr>\n",
              "    <tr>\n",
              "      <th>9</th>\n",
              "      <td>0.7798</td>\n",
              "      <td>0.8495</td>\n",
              "      <td>0.7654</td>\n",
              "      <td>0.7089</td>\n",
              "      <td>0.7361</td>\n",
              "      <td>0.5477</td>\n",
              "      <td>0.5489</td>\n",
              "    </tr>\n",
              "    <tr>\n",
              "      <th>Mean</th>\n",
              "      <td>0.7797</td>\n",
              "      <td>0.8442</td>\n",
              "      <td>0.7538</td>\n",
              "      <td>0.7134</td>\n",
              "      <td>0.7330</td>\n",
              "      <td>0.5457</td>\n",
              "      <td>0.5464</td>\n",
              "    </tr>\n",
              "    <tr>\n",
              "      <th>SD</th>\n",
              "      <td>0.0035</td>\n",
              "      <td>0.0033</td>\n",
              "      <td>0.0121</td>\n",
              "      <td>0.0070</td>\n",
              "      <td>0.0047</td>\n",
              "      <td>0.0070</td>\n",
              "      <td>0.0070</td>\n",
              "    </tr>\n",
              "  </tbody>\n",
              "</table>\n",
              "</div>"
            ],
            "text/plain": [
              "      Accuracy     AUC  Recall   Prec.      F1   Kappa     MCC\n",
              "0       0.7859  0.8478  0.7512  0.7250  0.7379  0.5570  0.5572\n",
              "1       0.7839  0.8490  0.7682  0.7147  0.7405  0.5558  0.5569\n",
              "2       0.7762  0.8403  0.7450  0.7111  0.7276  0.5379  0.5383\n",
              "3       0.7793  0.8417  0.7434  0.7169  0.7299  0.5435  0.5438\n",
              "4       0.7793  0.8403  0.7372  0.7196  0.7283  0.5426  0.5427\n",
              "5       0.7782  0.8426  0.7517  0.7117  0.7311  0.5427  0.5433\n",
              "6       0.7831  0.8444  0.7622  0.7157  0.7382  0.5534  0.5542\n",
              "7       0.7742  0.8438  0.7734  0.6970  0.7332  0.5384  0.5406\n",
              "8       0.7766  0.8428  0.7399  0.7137  0.7266  0.5379  0.5381\n",
              "9       0.7798  0.8495  0.7654  0.7089  0.7361  0.5477  0.5489\n",
              "Mean    0.7797  0.8442  0.7538  0.7134  0.7330  0.5457  0.5464\n",
              "SD      0.0035  0.0033  0.0121  0.0070  0.0047  0.0070  0.0070"
            ]
          },
          "metadata": {
            "tags": []
          }
        },
        {
          "output_type": "stream",
          "text": [
            "time: 21min 34s\n"
          ],
          "name": "stdout"
        }
      ]
    },
    {
      "cell_type": "code",
      "metadata": {
        "colab": {
          "base_uri": "https://localhost:8080/"
        },
        "id": "eSmGd2uV8XDL",
        "outputId": "b6ab957d-25f1-4236-ed67-371e9156963a"
      },
      "source": [
        "#print model parameter\n",
        "print(tuned_rf_f1)"
      ],
      "execution_count": null,
      "outputs": [
        {
          "output_type": "stream",
          "text": [
            "RandomForestClassifier(bootstrap=False, ccp_alpha=0.0,\n",
            "                       class_weight='balanced_subsample', criterion='gini',\n",
            "                       max_depth=6, max_features=1.0, max_leaf_nodes=None,\n",
            "                       max_samples=None, min_impurity_decrease=0,\n",
            "                       min_impurity_split=None, min_samples_leaf=4,\n",
            "                       min_samples_split=7, min_weight_fraction_leaf=0.0,\n",
            "                       n_estimators=200, n_jobs=-1, oob_score=False,\n",
            "                       random_state=123, verbose=0, warm_start=False)\n",
            "time: 1.44 ms\n"
          ],
          "name": "stdout"
        }
      ]
    },
    {
      "cell_type": "code",
      "metadata": {
        "colab": {
          "base_uri": "https://localhost:8080/",
          "height": 418
        },
        "id": "9ePrCxsn8afg",
        "outputId": "e37a1917-5034-4d9e-9492-6827bca1e28b"
      },
      "source": [
        "#confusion matrix and cost function\n",
        "plot_model(tuned_rf_f1, plot = 'confusion_matrix')"
      ],
      "execution_count": null,
      "outputs": [
        {
          "output_type": "display_data",
          "data": {
            "image/png": "[encoded data removed]",
            "text/plain": [
              "<Figure size 576x396 with 1 Axes>"
            ]
          },
          "metadata": {
            "tags": []
          }
        },
        {
          "output_type": "stream",
          "text": [
            "time: 1.08 s\n"
          ],
          "name": "stdout"
        }
      ]
    },
    {
      "cell_type": "code",
      "metadata": {
        "colab": {
          "base_uri": "https://localhost:8080/"
        },
        "id": "BXSgOPPY8gUd",
        "outputId": "05c7c055-88f3-49d4-d1df-3f8dc219e736"
      },
      "source": [
        "## print cost value\n",
        "print(\"the cost assiciate to the tuned model is ${}\".format(cost(4342,5065))) #cost(FN, FP):\n"
      ],
      "execution_count": null,
      "outputs": [
        {
          "output_type": "stream",
          "text": [
            "the cost assiciate to the tuned model is $2221650\n",
            "time: 1.11 ms\n"
          ],
          "name": "stdout"
        }
      ]
    },
    {
      "cell_type": "markdown",
      "metadata": {
        "id": "Pabqgt5B9qyn"
      },
      "source": [
        "looking at the two turned model based on recall and  f1 score , we can clearly see that we will be saving ~ 2 Million if we using  best model under recall  instead of f1 score "
      ]
    },
    {
      "cell_type": "code",
      "metadata": {
        "id": "XrE-ThLB-89A"
      },
      "source": [
        ""
      ],
      "execution_count": null,
      "outputs": []
    },
    {
      "cell_type": "markdown",
      "metadata": {
        "id": "CKYsvi1_-9f6"
      },
      "source": [
        "### 1. Cat boost"
      ]
    },
    {
      "cell_type": "markdown",
      "metadata": {
        "id": "Y8Yj_cDb-9f6"
      },
      "source": [
        "####        a. create a model        "
      ]
    },
    {
      "cell_type": "code",
      "metadata": {
        "colab": {
          "base_uri": "https://localhost:8080/",
          "height": 438,
          "referenced_widgets": [
            "f068a52a77a24b28bf9acf541b63eda0",
            "456b1c130123463c827ccd56cb0cfe69",
            "17dbe1358a5e46eb98d9249e92a7b38a"
          ]
        },
        "id": "1BcWQ74O-9f6",
        "outputId": "9ed67222-9fa0-402b-c2fb-730ef13350db"
      },
      "source": [
        "## train and test model using CV of 10 fold\n",
        "catboost = create_model('catboost')"
      ],
      "execution_count": null,
      "outputs": [
        {
          "output_type": "display_data",
          "data": {
            "text/html": [
              "<div>\n",
              "<style scoped>\n",
              "    .dataframe tbody tr th:only-of-type {\n",
              "        vertical-align: middle;\n",
              "    }\n",
              "\n",
              "    .dataframe tbody tr th {\n",
              "        vertical-align: top;\n",
              "    }\n",
              "\n",
              "    .dataframe thead th {\n",
              "        text-align: right;\n",
              "    }\n",
              "</style>\n",
              "<table border=\"1\" class=\"dataframe\">\n",
              "  <thead>\n",
              "    <tr style=\"text-align: right;\">\n",
              "      <th></th>\n",
              "      <th>Accuracy</th>\n",
              "      <th>AUC</th>\n",
              "      <th>Recall</th>\n",
              "      <th>Prec.</th>\n",
              "      <th>F1</th>\n",
              "      <th>Kappa</th>\n",
              "      <th>MCC</th>\n",
              "    </tr>\n",
              "  </thead>\n",
              "  <tbody>\n",
              "    <tr>\n",
              "      <th>0</th>\n",
              "      <td>0.9341</td>\n",
              "      <td>0.9800</td>\n",
              "      <td>0.9031</td>\n",
              "      <td>0.9305</td>\n",
              "      <td>0.9166</td>\n",
              "      <td>0.8621</td>\n",
              "      <td>0.8624</td>\n",
              "    </tr>\n",
              "    <tr>\n",
              "      <th>1</th>\n",
              "      <td>0.9338</td>\n",
              "      <td>0.9803</td>\n",
              "      <td>0.9063</td>\n",
              "      <td>0.9269</td>\n",
              "      <td>0.9165</td>\n",
              "      <td>0.8616</td>\n",
              "      <td>0.8618</td>\n",
              "    </tr>\n",
              "    <tr>\n",
              "      <th>2</th>\n",
              "      <td>0.9377</td>\n",
              "      <td>0.9807</td>\n",
              "      <td>0.9111</td>\n",
              "      <td>0.9320</td>\n",
              "      <td>0.9214</td>\n",
              "      <td>0.8698</td>\n",
              "      <td>0.8699</td>\n",
              "    </tr>\n",
              "    <tr>\n",
              "      <th>3</th>\n",
              "      <td>0.9371</td>\n",
              "      <td>0.9808</td>\n",
              "      <td>0.9123</td>\n",
              "      <td>0.9295</td>\n",
              "      <td>0.9208</td>\n",
              "      <td>0.8686</td>\n",
              "      <td>0.8687</td>\n",
              "    </tr>\n",
              "    <tr>\n",
              "      <th>4</th>\n",
              "      <td>0.9354</td>\n",
              "      <td>0.9806</td>\n",
              "      <td>0.9093</td>\n",
              "      <td>0.9281</td>\n",
              "      <td>0.9186</td>\n",
              "      <td>0.8650</td>\n",
              "      <td>0.8651</td>\n",
              "    </tr>\n",
              "    <tr>\n",
              "      <th>5</th>\n",
              "      <td>0.9331</td>\n",
              "      <td>0.9799</td>\n",
              "      <td>0.9096</td>\n",
              "      <td>0.9225</td>\n",
              "      <td>0.9160</td>\n",
              "      <td>0.8603</td>\n",
              "      <td>0.8604</td>\n",
              "    </tr>\n",
              "    <tr>\n",
              "      <th>6</th>\n",
              "      <td>0.9359</td>\n",
              "      <td>0.9815</td>\n",
              "      <td>0.9166</td>\n",
              "      <td>0.9230</td>\n",
              "      <td>0.9198</td>\n",
              "      <td>0.8664</td>\n",
              "      <td>0.8664</td>\n",
              "    </tr>\n",
              "    <tr>\n",
              "      <th>7</th>\n",
              "      <td>0.9335</td>\n",
              "      <td>0.9788</td>\n",
              "      <td>0.9046</td>\n",
              "      <td>0.9277</td>\n",
              "      <td>0.9160</td>\n",
              "      <td>0.8609</td>\n",
              "      <td>0.8611</td>\n",
              "    </tr>\n",
              "    <tr>\n",
              "      <th>8</th>\n",
              "      <td>0.9354</td>\n",
              "      <td>0.9806</td>\n",
              "      <td>0.9096</td>\n",
              "      <td>0.9279</td>\n",
              "      <td>0.9186</td>\n",
              "      <td>0.8650</td>\n",
              "      <td>0.8651</td>\n",
              "    </tr>\n",
              "    <tr>\n",
              "      <th>9</th>\n",
              "      <td>0.9381</td>\n",
              "      <td>0.9808</td>\n",
              "      <td>0.9193</td>\n",
              "      <td>0.9258</td>\n",
              "      <td>0.9225</td>\n",
              "      <td>0.8709</td>\n",
              "      <td>0.8710</td>\n",
              "    </tr>\n",
              "    <tr>\n",
              "      <th>Mean</th>\n",
              "      <td>0.9354</td>\n",
              "      <td>0.9804</td>\n",
              "      <td>0.9102</td>\n",
              "      <td>0.9274</td>\n",
              "      <td>0.9187</td>\n",
              "      <td>0.8651</td>\n",
              "      <td>0.8652</td>\n",
              "    </tr>\n",
              "    <tr>\n",
              "      <th>SD</th>\n",
              "      <td>0.0017</td>\n",
              "      <td>0.0007</td>\n",
              "      <td>0.0048</td>\n",
              "      <td>0.0029</td>\n",
              "      <td>0.0023</td>\n",
              "      <td>0.0036</td>\n",
              "      <td>0.0036</td>\n",
              "    </tr>\n",
              "  </tbody>\n",
              "</table>\n",
              "</div>"
            ],
            "text/plain": [
              "      Accuracy     AUC  Recall   Prec.      F1   Kappa     MCC\n",
              "0       0.9341  0.9800  0.9031  0.9305  0.9166  0.8621  0.8624\n",
              "1       0.9338  0.9803  0.9063  0.9269  0.9165  0.8616  0.8618\n",
              "2       0.9377  0.9807  0.9111  0.9320  0.9214  0.8698  0.8699\n",
              "3       0.9371  0.9808  0.9123  0.9295  0.9208  0.8686  0.8687\n",
              "4       0.9354  0.9806  0.9093  0.9281  0.9186  0.8650  0.8651\n",
              "5       0.9331  0.9799  0.9096  0.9225  0.9160  0.8603  0.8604\n",
              "6       0.9359  0.9815  0.9166  0.9230  0.9198  0.8664  0.8664\n",
              "7       0.9335  0.9788  0.9046  0.9277  0.9160  0.8609  0.8611\n",
              "8       0.9354  0.9806  0.9096  0.9279  0.9186  0.8650  0.8651\n",
              "9       0.9381  0.9808  0.9193  0.9258  0.9225  0.8709  0.8710\n",
              "Mean    0.9354  0.9804  0.9102  0.9274  0.9187  0.8651  0.8652\n",
              "SD      0.0017  0.0007  0.0048  0.0029  0.0023  0.0036  0.0036"
            ]
          },
          "metadata": {
            "tags": []
          }
        },
        {
          "output_type": "stream",
          "text": [
            "time: 5min 14s\n"
          ],
          "name": "stdout"
        }
      ]
    },
    {
      "cell_type": "code",
      "metadata": {
        "colab": {
          "base_uri": "https://localhost:8080/"
        },
        "id": "Q-1hi_Id-9f7",
        "outputId": "6f327b3d-61f9-4587-a16e-12c6aa63f55b"
      },
      "source": [
        "# print  basic model\n",
        "print(catboost)"
      ],
      "execution_count": null,
      "outputs": [
        {
          "output_type": "stream",
          "text": [
            "<catboost.core.CatBoostClassifier object at 0x7f3973a9b438>\n",
            "time: 1.06 ms\n"
          ],
          "name": "stdout"
        }
      ]
    },
    {
      "cell_type": "markdown",
      "metadata": {
        "id": "FC9W-mfW-9f7"
      },
      "source": [
        "#### b. Tune a model"
      ]
    },
    {
      "cell_type": "code",
      "metadata": {
        "colab": {
          "base_uri": "https://localhost:8080/",
          "height": 438,
          "referenced_widgets": [
            "d8141e33e2934a5a8dae11ecbbe2c48c",
            "af05b1d4407646779d32bfc93f2801e6",
            "9d05a58440a7400da1339185ee9af306"
          ]
        },
        "id": "Ce2rCLYO-9f7",
        "outputId": "ba5008e7-90d0-4509-8ffa-9e9d87871ba8"
      },
      "source": [
        " #tune the model using auto gridsearch\n",
        " #based on user cost function the minimal cost is achieve using a highest recall\n",
        " #tuned using recall\n",
        " tuned_catboost = tune_model(catboost, optimize = 'Recall')"
      ],
      "execution_count": null,
      "outputs": [
        {
          "output_type": "display_data",
          "data": {
            "text/html": [
              "<div>\n",
              "<style scoped>\n",
              "    .dataframe tbody tr th:only-of-type {\n",
              "        vertical-align: middle;\n",
              "    }\n",
              "\n",
              "    .dataframe tbody tr th {\n",
              "        vertical-align: top;\n",
              "    }\n",
              "\n",
              "    .dataframe thead th {\n",
              "        text-align: right;\n",
              "    }\n",
              "</style>\n",
              "<table border=\"1\" class=\"dataframe\">\n",
              "  <thead>\n",
              "    <tr style=\"text-align: right;\">\n",
              "      <th></th>\n",
              "      <th>Accuracy</th>\n",
              "      <th>AUC</th>\n",
              "      <th>Recall</th>\n",
              "      <th>Prec.</th>\n",
              "      <th>F1</th>\n",
              "      <th>Kappa</th>\n",
              "      <th>MCC</th>\n",
              "    </tr>\n",
              "  </thead>\n",
              "  <tbody>\n",
              "    <tr>\n",
              "      <th>0</th>\n",
              "      <td>0.9070</td>\n",
              "      <td>0.9669</td>\n",
              "      <td>0.8541</td>\n",
              "      <td>0.9086</td>\n",
              "      <td>0.8805</td>\n",
              "      <td>0.8045</td>\n",
              "      <td>0.8056</td>\n",
              "    </tr>\n",
              "    <tr>\n",
              "      <th>1</th>\n",
              "      <td>0.9087</td>\n",
              "      <td>0.9670</td>\n",
              "      <td>0.8631</td>\n",
              "      <td>0.9049</td>\n",
              "      <td>0.8835</td>\n",
              "      <td>0.8085</td>\n",
              "      <td>0.8092</td>\n",
              "    </tr>\n",
              "    <tr>\n",
              "      <th>2</th>\n",
              "      <td>0.9063</td>\n",
              "      <td>0.9666</td>\n",
              "      <td>0.8591</td>\n",
              "      <td>0.9027</td>\n",
              "      <td>0.8804</td>\n",
              "      <td>0.8034</td>\n",
              "      <td>0.8041</td>\n",
              "    </tr>\n",
              "    <tr>\n",
              "      <th>3</th>\n",
              "      <td>0.9084</td>\n",
              "      <td>0.9685</td>\n",
              "      <td>0.8596</td>\n",
              "      <td>0.9072</td>\n",
              "      <td>0.8828</td>\n",
              "      <td>0.8077</td>\n",
              "      <td>0.8085</td>\n",
              "    </tr>\n",
              "    <tr>\n",
              "      <th>4</th>\n",
              "      <td>0.9071</td>\n",
              "      <td>0.9670</td>\n",
              "      <td>0.8539</td>\n",
              "      <td>0.9090</td>\n",
              "      <td>0.8806</td>\n",
              "      <td>0.8047</td>\n",
              "      <td>0.8058</td>\n",
              "    </tr>\n",
              "    <tr>\n",
              "      <th>5</th>\n",
              "      <td>0.9068</td>\n",
              "      <td>0.9659</td>\n",
              "      <td>0.8634</td>\n",
              "      <td>0.9002</td>\n",
              "      <td>0.8814</td>\n",
              "      <td>0.8047</td>\n",
              "      <td>0.8052</td>\n",
              "    </tr>\n",
              "    <tr>\n",
              "      <th>6</th>\n",
              "      <td>0.9089</td>\n",
              "      <td>0.9676</td>\n",
              "      <td>0.8686</td>\n",
              "      <td>0.9008</td>\n",
              "      <td>0.8844</td>\n",
              "      <td>0.8093</td>\n",
              "      <td>0.8096</td>\n",
              "    </tr>\n",
              "    <tr>\n",
              "      <th>7</th>\n",
              "      <td>0.9062</td>\n",
              "      <td>0.9649</td>\n",
              "      <td>0.8586</td>\n",
              "      <td>0.9028</td>\n",
              "      <td>0.8802</td>\n",
              "      <td>0.8032</td>\n",
              "      <td>0.8039</td>\n",
              "    </tr>\n",
              "    <tr>\n",
              "      <th>8</th>\n",
              "      <td>0.9079</td>\n",
              "      <td>0.9668</td>\n",
              "      <td>0.8601</td>\n",
              "      <td>0.9056</td>\n",
              "      <td>0.8823</td>\n",
              "      <td>0.8067</td>\n",
              "      <td>0.8074</td>\n",
              "    </tr>\n",
              "    <tr>\n",
              "      <th>9</th>\n",
              "      <td>0.9096</td>\n",
              "      <td>0.9687</td>\n",
              "      <td>0.8631</td>\n",
              "      <td>0.9071</td>\n",
              "      <td>0.8845</td>\n",
              "      <td>0.8103</td>\n",
              "      <td>0.8110</td>\n",
              "    </tr>\n",
              "    <tr>\n",
              "      <th>Mean</th>\n",
              "      <td>0.9077</td>\n",
              "      <td>0.9670</td>\n",
              "      <td>0.8604</td>\n",
              "      <td>0.9049</td>\n",
              "      <td>0.8821</td>\n",
              "      <td>0.8063</td>\n",
              "      <td>0.8070</td>\n",
              "    </tr>\n",
              "    <tr>\n",
              "      <th>SD</th>\n",
              "      <td>0.0011</td>\n",
              "      <td>0.0011</td>\n",
              "      <td>0.0042</td>\n",
              "      <td>0.0030</td>\n",
              "      <td>0.0016</td>\n",
              "      <td>0.0024</td>\n",
              "      <td>0.0024</td>\n",
              "    </tr>\n",
              "  </tbody>\n",
              "</table>\n",
              "</div>"
            ],
            "text/plain": [
              "      Accuracy     AUC  Recall   Prec.      F1   Kappa     MCC\n",
              "0       0.9070  0.9669  0.8541  0.9086  0.8805  0.8045  0.8056\n",
              "1       0.9087  0.9670  0.8631  0.9049  0.8835  0.8085  0.8092\n",
              "2       0.9063  0.9666  0.8591  0.9027  0.8804  0.8034  0.8041\n",
              "3       0.9084  0.9685  0.8596  0.9072  0.8828  0.8077  0.8085\n",
              "4       0.9071  0.9670  0.8539  0.9090  0.8806  0.8047  0.8058\n",
              "5       0.9068  0.9659  0.8634  0.9002  0.8814  0.8047  0.8052\n",
              "6       0.9089  0.9676  0.8686  0.9008  0.8844  0.8093  0.8096\n",
              "7       0.9062  0.9649  0.8586  0.9028  0.8802  0.8032  0.8039\n",
              "8       0.9079  0.9668  0.8601  0.9056  0.8823  0.8067  0.8074\n",
              "9       0.9096  0.9687  0.8631  0.9071  0.8845  0.8103  0.8110\n",
              "Mean    0.9077  0.9670  0.8604  0.9049  0.8821  0.8063  0.8070\n",
              "SD      0.0011  0.0011  0.0042  0.0030  0.0016  0.0024  0.0024"
            ]
          },
          "metadata": {
            "tags": []
          }
        },
        {
          "output_type": "stream",
          "text": [
            "time: 4min 54s\n"
          ],
          "name": "stdout"
        }
      ]
    },
    {
      "cell_type": "code",
      "metadata": {
        "colab": {
          "base_uri": "https://localhost:8080/"
        },
        "id": "OkUt72Bt-9f7",
        "outputId": "4fd07462-345a-4e47-8024-dd279d88b6af"
      },
      "source": [
        "#print model parameter\n",
        "print(tuned_catboost)"
      ],
      "execution_count": null,
      "outputs": [
        {
          "output_type": "stream",
          "text": [
            "<catboost.core.CatBoostClassifier object at 0x7f3973ad67f0>\n",
            "time: 1.27 ms\n"
          ],
          "name": "stdout"
        }
      ]
    },
    {
      "cell_type": "code",
      "metadata": {
        "colab": {
          "base_uri": "https://localhost:8080/",
          "height": 418
        },
        "id": "0sxQvvnD-9f7",
        "outputId": "ace2b653-b02c-4c0c-8012-b25e60d4b983"
      },
      "source": [
        "#confusion matrix and cost function\n",
        "plot_model(tuned_catboost, plot = 'confusion_matrix')"
      ],
      "execution_count": null,
      "outputs": [
        {
          "output_type": "display_data",
          "data": {
            "image/png": "[encoded data removed]",
            "text/plain": [
              "<Figure size 576x396 with 1 Axes>"
            ]
          },
          "metadata": {
            "tags": []
          }
        },
        {
          "output_type": "stream",
          "text": [
            "time: 540 ms\n"
          ],
          "name": "stdout"
        }
      ]
    },
    {
      "cell_type": "code",
      "metadata": {
        "colab": {
          "base_uri": "https://localhost:8080/"
        },
        "id": "Z38vP0Pq-9f7",
        "outputId": "ccb700be-3f00-487e-874b-da6ed17a5785"
      },
      "source": [
        "## print cost value\n",
        "print(\"the cost assiciate to the tuned model is ${}\".format(cost(2357,1559))) #cost(FN, FP):"
      ],
      "execution_count": null,
      "outputs": [
        {
          "output_type": "stream",
          "text": [
            "the cost assiciate to the tuned model is $1194090\n",
            "time: 1.03 ms\n"
          ],
          "name": "stdout"
        }
      ]
    },
    {
      "cell_type": "code",
      "metadata": {
        "colab": {
          "base_uri": "https://localhost:8080/",
          "height": 438,
          "referenced_widgets": [
            "dd8a245bc172479aa69e3843dccfac81",
            "285747aaa8c941c4ada148b472b57335",
            "5b8605f39b994fa1adf52483b7d7e860"
          ]
        },
        "id": "zhwxxkIG-9f7",
        "outputId": "48320a89-321e-4d41-c855-7f48f1e91495"
      },
      "source": [
        "# tune using f1 score \n",
        "tuned_catboost_f1 = tune_model(catboost, optimize = 'f1') "
      ],
      "execution_count": null,
      "outputs": [
        {
          "output_type": "display_data",
          "data": {
            "text/html": [
              "<div>\n",
              "<style scoped>\n",
              "    .dataframe tbody tr th:only-of-type {\n",
              "        vertical-align: middle;\n",
              "    }\n",
              "\n",
              "    .dataframe tbody tr th {\n",
              "        vertical-align: top;\n",
              "    }\n",
              "\n",
              "    .dataframe thead th {\n",
              "        text-align: right;\n",
              "    }\n",
              "</style>\n",
              "<table border=\"1\" class=\"dataframe\">\n",
              "  <thead>\n",
              "    <tr style=\"text-align: right;\">\n",
              "      <th></th>\n",
              "      <th>Accuracy</th>\n",
              "      <th>AUC</th>\n",
              "      <th>Recall</th>\n",
              "      <th>Prec.</th>\n",
              "      <th>F1</th>\n",
              "      <th>Kappa</th>\n",
              "      <th>MCC</th>\n",
              "    </tr>\n",
              "  </thead>\n",
              "  <tbody>\n",
              "    <tr>\n",
              "      <th>0</th>\n",
              "      <td>0.9070</td>\n",
              "      <td>0.9669</td>\n",
              "      <td>0.8541</td>\n",
              "      <td>0.9086</td>\n",
              "      <td>0.8805</td>\n",
              "      <td>0.8045</td>\n",
              "      <td>0.8056</td>\n",
              "    </tr>\n",
              "    <tr>\n",
              "      <th>1</th>\n",
              "      <td>0.9087</td>\n",
              "      <td>0.9670</td>\n",
              "      <td>0.8631</td>\n",
              "      <td>0.9049</td>\n",
              "      <td>0.8835</td>\n",
              "      <td>0.8085</td>\n",
              "      <td>0.8092</td>\n",
              "    </tr>\n",
              "    <tr>\n",
              "      <th>2</th>\n",
              "      <td>0.9063</td>\n",
              "      <td>0.9666</td>\n",
              "      <td>0.8591</td>\n",
              "      <td>0.9027</td>\n",
              "      <td>0.8804</td>\n",
              "      <td>0.8034</td>\n",
              "      <td>0.8041</td>\n",
              "    </tr>\n",
              "    <tr>\n",
              "      <th>3</th>\n",
              "      <td>0.9084</td>\n",
              "      <td>0.9685</td>\n",
              "      <td>0.8596</td>\n",
              "      <td>0.9072</td>\n",
              "      <td>0.8828</td>\n",
              "      <td>0.8077</td>\n",
              "      <td>0.8085</td>\n",
              "    </tr>\n",
              "    <tr>\n",
              "      <th>4</th>\n",
              "      <td>0.9071</td>\n",
              "      <td>0.9670</td>\n",
              "      <td>0.8539</td>\n",
              "      <td>0.9090</td>\n",
              "      <td>0.8806</td>\n",
              "      <td>0.8047</td>\n",
              "      <td>0.8058</td>\n",
              "    </tr>\n",
              "    <tr>\n",
              "      <th>5</th>\n",
              "      <td>0.9068</td>\n",
              "      <td>0.9659</td>\n",
              "      <td>0.8634</td>\n",
              "      <td>0.9002</td>\n",
              "      <td>0.8814</td>\n",
              "      <td>0.8047</td>\n",
              "      <td>0.8052</td>\n",
              "    </tr>\n",
              "    <tr>\n",
              "      <th>6</th>\n",
              "      <td>0.9089</td>\n",
              "      <td>0.9676</td>\n",
              "      <td>0.8686</td>\n",
              "      <td>0.9008</td>\n",
              "      <td>0.8844</td>\n",
              "      <td>0.8093</td>\n",
              "      <td>0.8096</td>\n",
              "    </tr>\n",
              "    <tr>\n",
              "      <th>7</th>\n",
              "      <td>0.9062</td>\n",
              "      <td>0.9649</td>\n",
              "      <td>0.8586</td>\n",
              "      <td>0.9028</td>\n",
              "      <td>0.8802</td>\n",
              "      <td>0.8032</td>\n",
              "      <td>0.8039</td>\n",
              "    </tr>\n",
              "    <tr>\n",
              "      <th>8</th>\n",
              "      <td>0.9079</td>\n",
              "      <td>0.9668</td>\n",
              "      <td>0.8601</td>\n",
              "      <td>0.9056</td>\n",
              "      <td>0.8823</td>\n",
              "      <td>0.8067</td>\n",
              "      <td>0.8074</td>\n",
              "    </tr>\n",
              "    <tr>\n",
              "      <th>9</th>\n",
              "      <td>0.9096</td>\n",
              "      <td>0.9687</td>\n",
              "      <td>0.8631</td>\n",
              "      <td>0.9071</td>\n",
              "      <td>0.8845</td>\n",
              "      <td>0.8103</td>\n",
              "      <td>0.8110</td>\n",
              "    </tr>\n",
              "    <tr>\n",
              "      <th>Mean</th>\n",
              "      <td>0.9077</td>\n",
              "      <td>0.9670</td>\n",
              "      <td>0.8604</td>\n",
              "      <td>0.9049</td>\n",
              "      <td>0.8821</td>\n",
              "      <td>0.8063</td>\n",
              "      <td>0.8070</td>\n",
              "    </tr>\n",
              "    <tr>\n",
              "      <th>SD</th>\n",
              "      <td>0.0011</td>\n",
              "      <td>0.0011</td>\n",
              "      <td>0.0042</td>\n",
              "      <td>0.0030</td>\n",
              "      <td>0.0016</td>\n",
              "      <td>0.0024</td>\n",
              "      <td>0.0024</td>\n",
              "    </tr>\n",
              "  </tbody>\n",
              "</table>\n",
              "</div>"
            ],
            "text/plain": [
              "      Accuracy     AUC  Recall   Prec.      F1   Kappa     MCC\n",
              "0       0.9070  0.9669  0.8541  0.9086  0.8805  0.8045  0.8056\n",
              "1       0.9087  0.9670  0.8631  0.9049  0.8835  0.8085  0.8092\n",
              "2       0.9063  0.9666  0.8591  0.9027  0.8804  0.8034  0.8041\n",
              "3       0.9084  0.9685  0.8596  0.9072  0.8828  0.8077  0.8085\n",
              "4       0.9071  0.9670  0.8539  0.9090  0.8806  0.8047  0.8058\n",
              "5       0.9068  0.9659  0.8634  0.9002  0.8814  0.8047  0.8052\n",
              "6       0.9089  0.9676  0.8686  0.9008  0.8844  0.8093  0.8096\n",
              "7       0.9062  0.9649  0.8586  0.9028  0.8802  0.8032  0.8039\n",
              "8       0.9079  0.9668  0.8601  0.9056  0.8823  0.8067  0.8074\n",
              "9       0.9096  0.9687  0.8631  0.9071  0.8845  0.8103  0.8110\n",
              "Mean    0.9077  0.9670  0.8604  0.9049  0.8821  0.8063  0.8070\n",
              "SD      0.0011  0.0011  0.0042  0.0030  0.0016  0.0024  0.0024"
            ]
          },
          "metadata": {
            "tags": []
          }
        },
        {
          "output_type": "stream",
          "text": [
            "time: 4min 15s\n"
          ],
          "name": "stdout"
        }
      ]
    },
    {
      "cell_type": "code",
      "metadata": {
        "colab": {
          "base_uri": "https://localhost:8080/"
        },
        "id": "3D9JXw-Z-9f7",
        "outputId": "79fd2e6d-764e-42f9-a995-3e1cb6bae256"
      },
      "source": [
        "#print model parameter\n",
        "print(tuned_catboost_f1)"
      ],
      "execution_count": null,
      "outputs": [
        {
          "output_type": "stream",
          "text": [
            "<catboost.core.CatBoostClassifier object at 0x7f398494c278>\n",
            "time: 897 µs\n"
          ],
          "name": "stdout"
        }
      ]
    },
    {
      "cell_type": "code",
      "metadata": {
        "colab": {
          "base_uri": "https://localhost:8080/",
          "height": 418
        },
        "id": "wwiTApPK-9f7",
        "outputId": "d06067f2-8d06-47a7-fe90-3566568ee675"
      },
      "source": [
        "#confusion matrix and cost function\n",
        "plot_model(tuned_catboost_f1, plot = 'confusion_matrix')"
      ],
      "execution_count": null,
      "outputs": [
        {
          "output_type": "display_data",
          "data": {
            "image/png": "[encoded data removed]",
            "text/plain": [
              "<Figure size 576x396 with 1 Axes>"
            ]
          },
          "metadata": {
            "tags": []
          }
        },
        {
          "output_type": "stream",
          "text": [
            "time: 493 ms\n"
          ],
          "name": "stdout"
        }
      ]
    },
    {
      "cell_type": "code",
      "metadata": {
        "colab": {
          "base_uri": "https://localhost:8080/"
        },
        "id": "ZP6C7e_q-9f8",
        "outputId": "5f1c4924-5871-482c-ed0a-5e1d251ea2b7"
      },
      "source": [
        "## print cost value\n",
        "print(\"the cost assiciate to the tuned model is ${}\".format(cost(2357,1559))) #cost(FN, FP):\n"
      ],
      "execution_count": null,
      "outputs": [
        {
          "output_type": "stream",
          "text": [
            "the cost assiciate to the tuned model is $1194090\n",
            "time: 972 µs\n"
          ],
          "name": "stdout"
        }
      ]
    },
    {
      "cell_type": "markdown",
      "metadata": {
        "id": "4VcJhvXv-9f8"
      },
      "source": [
        "looking at the two catboost turned model based on recall and  f1 score , we can clearly see that the both give the same performance "
      ]
    },
    {
      "cell_type": "code",
      "metadata": {
        "id": "XVFeLiR_Gyfh",
        "colab": {
          "base_uri": "https://localhost:8080/"
        },
        "outputId": "28bb1eda-8313-4bb7-8121-d680a4c716bd"
      },
      "source": [
        "#### third model logistic regression"
      ],
      "execution_count": null,
      "outputs": [
        {
          "output_type": "stream",
          "text": [
            "time: 620 µs\n"
          ],
          "name": "stdout"
        }
      ]
    },
    {
      "cell_type": "code",
      "metadata": {
        "id": "ByIOJt-HHA2Y"
      },
      "source": [
        ""
      ],
      "execution_count": null,
      "outputs": []
    },
    {
      "cell_type": "markdown",
      "metadata": {
        "id": "3XCPhojrHB1Y"
      },
      "source": [
        "### 1. Logistic Regression"
      ]
    },
    {
      "cell_type": "markdown",
      "metadata": {
        "id": "oQ9mnFrPHB1Y"
      },
      "source": [
        "####        a. create a model        "
      ]
    },
    {
      "cell_type": "code",
      "metadata": {
        "colab": {
          "base_uri": "https://localhost:8080/",
          "height": 438,
          "referenced_widgets": [
            "05a6ba6c201b42f29ad73bb3bea5c88d",
            "ff8e30830796488bbca4244c6ff659f0",
            "ac18725b6f564a3a823f5703580665fa"
          ]
        },
        "id": "A4s9VnhGHB1Y",
        "outputId": "227332a6-a18a-4880-c1b5-f8c41d84061f"
      },
      "source": [
        "## train and test model using CV of 10 fold\n",
        "lr = create_model('lr')"
      ],
      "execution_count": null,
      "outputs": [
        {
          "output_type": "display_data",
          "data": {
            "text/html": [
              "<div>\n",
              "<style scoped>\n",
              "    .dataframe tbody tr th:only-of-type {\n",
              "        vertical-align: middle;\n",
              "    }\n",
              "\n",
              "    .dataframe tbody tr th {\n",
              "        vertical-align: top;\n",
              "    }\n",
              "\n",
              "    .dataframe thead th {\n",
              "        text-align: right;\n",
              "    }\n",
              "</style>\n",
              "<table border=\"1\" class=\"dataframe\">\n",
              "  <thead>\n",
              "    <tr style=\"text-align: right;\">\n",
              "      <th></th>\n",
              "      <th>Accuracy</th>\n",
              "      <th>AUC</th>\n",
              "      <th>Recall</th>\n",
              "      <th>Prec.</th>\n",
              "      <th>F1</th>\n",
              "      <th>Kappa</th>\n",
              "      <th>MCC</th>\n",
              "    </tr>\n",
              "  </thead>\n",
              "  <tbody>\n",
              "    <tr>\n",
              "      <th>0</th>\n",
              "      <td>0.6988</td>\n",
              "      <td>0.7425</td>\n",
              "      <td>0.5417</td>\n",
              "      <td>0.6494</td>\n",
              "      <td>0.5907</td>\n",
              "      <td>0.3554</td>\n",
              "      <td>0.3591</td>\n",
              "    </tr>\n",
              "    <tr>\n",
              "      <th>1</th>\n",
              "      <td>0.7056</td>\n",
              "      <td>0.7518</td>\n",
              "      <td>0.5669</td>\n",
              "      <td>0.6534</td>\n",
              "      <td>0.6071</td>\n",
              "      <td>0.3736</td>\n",
              "      <td>0.3760</td>\n",
              "    </tr>\n",
              "    <tr>\n",
              "      <th>2</th>\n",
              "      <td>0.6965</td>\n",
              "      <td>0.7379</td>\n",
              "      <td>0.5415</td>\n",
              "      <td>0.6450</td>\n",
              "      <td>0.5887</td>\n",
              "      <td>0.3511</td>\n",
              "      <td>0.3545</td>\n",
              "    </tr>\n",
              "    <tr>\n",
              "      <th>3</th>\n",
              "      <td>0.7038</td>\n",
              "      <td>0.7453</td>\n",
              "      <td>0.5433</td>\n",
              "      <td>0.6585</td>\n",
              "      <td>0.5954</td>\n",
              "      <td>0.3651</td>\n",
              "      <td>0.3693</td>\n",
              "    </tr>\n",
              "    <tr>\n",
              "      <th>4</th>\n",
              "      <td>0.6930</td>\n",
              "      <td>0.7372</td>\n",
              "      <td>0.5346</td>\n",
              "      <td>0.6405</td>\n",
              "      <td>0.5828</td>\n",
              "      <td>0.3430</td>\n",
              "      <td>0.3465</td>\n",
              "    </tr>\n",
              "    <tr>\n",
              "      <th>5</th>\n",
              "      <td>0.6953</td>\n",
              "      <td>0.7279</td>\n",
              "      <td>0.5376</td>\n",
              "      <td>0.6439</td>\n",
              "      <td>0.5860</td>\n",
              "      <td>0.3480</td>\n",
              "      <td>0.3515</td>\n",
              "    </tr>\n",
              "    <tr>\n",
              "      <th>6</th>\n",
              "      <td>0.7053</td>\n",
              "      <td>0.7573</td>\n",
              "      <td>0.5593</td>\n",
              "      <td>0.6554</td>\n",
              "      <td>0.6036</td>\n",
              "      <td>0.3714</td>\n",
              "      <td>0.3743</td>\n",
              "    </tr>\n",
              "    <tr>\n",
              "      <th>7</th>\n",
              "      <td>0.6924</td>\n",
              "      <td>0.7415</td>\n",
              "      <td>0.5481</td>\n",
              "      <td>0.6352</td>\n",
              "      <td>0.5884</td>\n",
              "      <td>0.3450</td>\n",
              "      <td>0.3474</td>\n",
              "    </tr>\n",
              "    <tr>\n",
              "      <th>8</th>\n",
              "      <td>0.6951</td>\n",
              "      <td>0.7396</td>\n",
              "      <td>0.5463</td>\n",
              "      <td>0.6408</td>\n",
              "      <td>0.5898</td>\n",
              "      <td>0.3497</td>\n",
              "      <td>0.3525</td>\n",
              "    </tr>\n",
              "    <tr>\n",
              "      <th>9</th>\n",
              "      <td>0.6977</td>\n",
              "      <td>0.7425</td>\n",
              "      <td>0.5533</td>\n",
              "      <td>0.6433</td>\n",
              "      <td>0.5950</td>\n",
              "      <td>0.3560</td>\n",
              "      <td>0.3586</td>\n",
              "    </tr>\n",
              "    <tr>\n",
              "      <th>Mean</th>\n",
              "      <td>0.6983</td>\n",
              "      <td>0.7424</td>\n",
              "      <td>0.5473</td>\n",
              "      <td>0.6466</td>\n",
              "      <td>0.5927</td>\n",
              "      <td>0.3558</td>\n",
              "      <td>0.3590</td>\n",
              "    </tr>\n",
              "    <tr>\n",
              "      <th>SD</th>\n",
              "      <td>0.0047</td>\n",
              "      <td>0.0077</td>\n",
              "      <td>0.0095</td>\n",
              "      <td>0.0070</td>\n",
              "      <td>0.0073</td>\n",
              "      <td>0.0102</td>\n",
              "      <td>0.0102</td>\n",
              "    </tr>\n",
              "  </tbody>\n",
              "</table>\n",
              "</div>"
            ],
            "text/plain": [
              "      Accuracy     AUC  Recall   Prec.      F1   Kappa     MCC\n",
              "0       0.6988  0.7425  0.5417  0.6494  0.5907  0.3554  0.3591\n",
              "1       0.7056  0.7518  0.5669  0.6534  0.6071  0.3736  0.3760\n",
              "2       0.6965  0.7379  0.5415  0.6450  0.5887  0.3511  0.3545\n",
              "3       0.7038  0.7453  0.5433  0.6585  0.5954  0.3651  0.3693\n",
              "4       0.6930  0.7372  0.5346  0.6405  0.5828  0.3430  0.3465\n",
              "5       0.6953  0.7279  0.5376  0.6439  0.5860  0.3480  0.3515\n",
              "6       0.7053  0.7573  0.5593  0.6554  0.6036  0.3714  0.3743\n",
              "7       0.6924  0.7415  0.5481  0.6352  0.5884  0.3450  0.3474\n",
              "8       0.6951  0.7396  0.5463  0.6408  0.5898  0.3497  0.3525\n",
              "9       0.6977  0.7425  0.5533  0.6433  0.5950  0.3560  0.3586\n",
              "Mean    0.6983  0.7424  0.5473  0.6466  0.5927  0.3558  0.3590\n",
              "SD      0.0047  0.0077  0.0095  0.0070  0.0073  0.0102  0.0102"
            ]
          },
          "metadata": {
            "tags": []
          }
        },
        {
          "output_type": "stream",
          "text": [
            "time: 13.7 s\n"
          ],
          "name": "stdout"
        }
      ]
    },
    {
      "cell_type": "code",
      "metadata": {
        "colab": {
          "base_uri": "https://localhost:8080/"
        },
        "id": "zsnk8Z3MHB1Z",
        "outputId": "7729bb94-946b-4945-9491-74fed1916c71"
      },
      "source": [
        "# print  basic model\n",
        "print(lr)"
      ],
      "execution_count": null,
      "outputs": [
        {
          "output_type": "stream",
          "text": [
            "LogisticRegression(C=1.0, class_weight=None, dual=False, fit_intercept=True,\n",
            "                   intercept_scaling=1, l1_ratio=None, max_iter=1000,\n",
            "                   multi_class='auto', n_jobs=None, penalty='l2',\n",
            "                   random_state=123, solver='lbfgs', tol=0.0001, verbose=0,\n",
            "                   warm_start=False)\n",
            "time: 1.96 ms\n"
          ],
          "name": "stdout"
        }
      ]
    },
    {
      "cell_type": "markdown",
      "metadata": {
        "id": "HHfr9iy8HB1Z"
      },
      "source": [
        "#### b. Tune a model"
      ]
    },
    {
      "cell_type": "code",
      "metadata": {
        "colab": {
          "base_uri": "https://localhost:8080/",
          "height": 438,
          "referenced_widgets": [
            "3e096aa1785d4789ab4548cfe6ad15e7",
            "ffa8a945051c49b09ead0c969f6e8c0e",
            "6e86bc77b71f49319e769646707fc621"
          ]
        },
        "id": "Kgqns4PfHB1Z",
        "outputId": "87154aef-0760-486f-c77b-4b8855f22d17"
      },
      "source": [
        " #tune the model using auto gridsearch\n",
        " #based on user cost function the minimal cost is achieve using a highest recall\n",
        " #tuned using recall\n",
        " tuned_lr = tune_model(lr, optimize = 'Recall')"
      ],
      "execution_count": null,
      "outputs": [
        {
          "output_type": "display_data",
          "data": {
            "text/html": [
              "<div>\n",
              "<style scoped>\n",
              "    .dataframe tbody tr th:only-of-type {\n",
              "        vertical-align: middle;\n",
              "    }\n",
              "\n",
              "    .dataframe tbody tr th {\n",
              "        vertical-align: top;\n",
              "    }\n",
              "\n",
              "    .dataframe thead th {\n",
              "        text-align: right;\n",
              "    }\n",
              "</style>\n",
              "<table border=\"1\" class=\"dataframe\">\n",
              "  <thead>\n",
              "    <tr style=\"text-align: right;\">\n",
              "      <th></th>\n",
              "      <th>Accuracy</th>\n",
              "      <th>AUC</th>\n",
              "      <th>Recall</th>\n",
              "      <th>Prec.</th>\n",
              "      <th>F1</th>\n",
              "      <th>Kappa</th>\n",
              "      <th>MCC</th>\n",
              "    </tr>\n",
              "  </thead>\n",
              "  <tbody>\n",
              "    <tr>\n",
              "      <th>0</th>\n",
              "      <td>0.7014</td>\n",
              "      <td>0.7528</td>\n",
              "      <td>0.6801</td>\n",
              "      <td>0.6158</td>\n",
              "      <td>0.6463</td>\n",
              "      <td>0.3890</td>\n",
              "      <td>0.3905</td>\n",
              "    </tr>\n",
              "    <tr>\n",
              "      <th>1</th>\n",
              "      <td>0.7033</td>\n",
              "      <td>0.7560</td>\n",
              "      <td>0.6951</td>\n",
              "      <td>0.6153</td>\n",
              "      <td>0.6528</td>\n",
              "      <td>0.3954</td>\n",
              "      <td>0.3976</td>\n",
              "    </tr>\n",
              "    <tr>\n",
              "      <th>2</th>\n",
              "      <td>0.7042</td>\n",
              "      <td>0.7522</td>\n",
              "      <td>0.6878</td>\n",
              "      <td>0.6180</td>\n",
              "      <td>0.6511</td>\n",
              "      <td>0.3956</td>\n",
              "      <td>0.3973</td>\n",
              "    </tr>\n",
              "    <tr>\n",
              "      <th>3</th>\n",
              "      <td>0.7048</td>\n",
              "      <td>0.7522</td>\n",
              "      <td>0.6787</td>\n",
              "      <td>0.6207</td>\n",
              "      <td>0.6484</td>\n",
              "      <td>0.3949</td>\n",
              "      <td>0.3960</td>\n",
              "    </tr>\n",
              "    <tr>\n",
              "      <th>4</th>\n",
              "      <td>0.6928</td>\n",
              "      <td>0.7380</td>\n",
              "      <td>0.6538</td>\n",
              "      <td>0.6090</td>\n",
              "      <td>0.6306</td>\n",
              "      <td>0.3682</td>\n",
              "      <td>0.3688</td>\n",
              "    </tr>\n",
              "    <tr>\n",
              "      <th>5</th>\n",
              "      <td>0.7001</td>\n",
              "      <td>0.7498</td>\n",
              "      <td>0.6850</td>\n",
              "      <td>0.6129</td>\n",
              "      <td>0.6469</td>\n",
              "      <td>0.3876</td>\n",
              "      <td>0.3894</td>\n",
              "    </tr>\n",
              "    <tr>\n",
              "      <th>6</th>\n",
              "      <td>0.7066</td>\n",
              "      <td>0.7615</td>\n",
              "      <td>0.6907</td>\n",
              "      <td>0.6207</td>\n",
              "      <td>0.6538</td>\n",
              "      <td>0.4005</td>\n",
              "      <td>0.4022</td>\n",
              "    </tr>\n",
              "    <tr>\n",
              "      <th>7</th>\n",
              "      <td>0.7011</td>\n",
              "      <td>0.7534</td>\n",
              "      <td>0.6925</td>\n",
              "      <td>0.6129</td>\n",
              "      <td>0.6502</td>\n",
              "      <td>0.3910</td>\n",
              "      <td>0.3933</td>\n",
              "    </tr>\n",
              "    <tr>\n",
              "      <th>8</th>\n",
              "      <td>0.7006</td>\n",
              "      <td>0.7485</td>\n",
              "      <td>0.6850</td>\n",
              "      <td>0.6137</td>\n",
              "      <td>0.6474</td>\n",
              "      <td>0.3887</td>\n",
              "      <td>0.3904</td>\n",
              "    </tr>\n",
              "    <tr>\n",
              "      <th>9</th>\n",
              "      <td>0.6990</td>\n",
              "      <td>0.7486</td>\n",
              "      <td>0.6862</td>\n",
              "      <td>0.6113</td>\n",
              "      <td>0.6466</td>\n",
              "      <td>0.3860</td>\n",
              "      <td>0.3880</td>\n",
              "    </tr>\n",
              "    <tr>\n",
              "      <th>Mean</th>\n",
              "      <td>0.7014</td>\n",
              "      <td>0.7513</td>\n",
              "      <td>0.6835</td>\n",
              "      <td>0.6150</td>\n",
              "      <td>0.6474</td>\n",
              "      <td>0.3897</td>\n",
              "      <td>0.3914</td>\n",
              "    </tr>\n",
              "    <tr>\n",
              "      <th>SD</th>\n",
              "      <td>0.0036</td>\n",
              "      <td>0.0057</td>\n",
              "      <td>0.0110</td>\n",
              "      <td>0.0037</td>\n",
              "      <td>0.0061</td>\n",
              "      <td>0.0083</td>\n",
              "      <td>0.0086</td>\n",
              "    </tr>\n",
              "  </tbody>\n",
              "</table>\n",
              "</div>"
            ],
            "text/plain": [
              "      Accuracy     AUC  Recall   Prec.      F1   Kappa     MCC\n",
              "0       0.7014  0.7528  0.6801  0.6158  0.6463  0.3890  0.3905\n",
              "1       0.7033  0.7560  0.6951  0.6153  0.6528  0.3954  0.3976\n",
              "2       0.7042  0.7522  0.6878  0.6180  0.6511  0.3956  0.3973\n",
              "3       0.7048  0.7522  0.6787  0.6207  0.6484  0.3949  0.3960\n",
              "4       0.6928  0.7380  0.6538  0.6090  0.6306  0.3682  0.3688\n",
              "5       0.7001  0.7498  0.6850  0.6129  0.6469  0.3876  0.3894\n",
              "6       0.7066  0.7615  0.6907  0.6207  0.6538  0.4005  0.4022\n",
              "7       0.7011  0.7534  0.6925  0.6129  0.6502  0.3910  0.3933\n",
              "8       0.7006  0.7485  0.6850  0.6137  0.6474  0.3887  0.3904\n",
              "9       0.6990  0.7486  0.6862  0.6113  0.6466  0.3860  0.3880\n",
              "Mean    0.7014  0.7513  0.6835  0.6150  0.6474  0.3897  0.3914\n",
              "SD      0.0036  0.0057  0.0110  0.0037  0.0061  0.0083  0.0086"
            ]
          },
          "metadata": {
            "tags": []
          }
        },
        {
          "output_type": "stream",
          "text": [
            "time: 50 s\n"
          ],
          "name": "stdout"
        }
      ]
    },
    {
      "cell_type": "code",
      "metadata": {
        "colab": {
          "base_uri": "https://localhost:8080/"
        },
        "id": "PyiqUnKzHB1Z",
        "outputId": "c94979b8-b441-45e2-e0b3-18c55b4e4d28"
      },
      "source": [
        "#print model parameter\n",
        "print(tuned_lr)"
      ],
      "execution_count": null,
      "outputs": [
        {
          "output_type": "stream",
          "text": [
            "LogisticRegression(C=0.024, class_weight='balanced', dual=False,\n",
            "                   fit_intercept=True, intercept_scaling=1, l1_ratio=None,\n",
            "                   max_iter=1000, multi_class='auto', n_jobs=None, penalty='l2',\n",
            "                   random_state=123, solver='lbfgs', tol=0.0001, verbose=0,\n",
            "                   warm_start=False)\n",
            "time: 1.53 ms\n"
          ],
          "name": "stdout"
        }
      ]
    },
    {
      "cell_type": "code",
      "metadata": {
        "colab": {
          "base_uri": "https://localhost:8080/",
          "height": 418
        },
        "id": "pnDwArjbHB1a",
        "outputId": "057c8791-ad0a-4c90-d2a0-d4f073b16b58"
      },
      "source": [
        "#confusion matrix and cost function\n",
        "plot_model(tuned_lr, plot = 'confusion_matrix')"
      ],
      "execution_count": null,
      "outputs": [
        {
          "output_type": "display_data",
          "data": {
            "image/png": "[encoded data removed]",
            "text/plain": [
              "<Figure size 576x396 with 1 Axes>"
            ]
          },
          "metadata": {
            "tags": []
          }
        },
        {
          "output_type": "stream",
          "text": [
            "time: 562 ms\n"
          ],
          "name": "stdout"
        }
      ]
    },
    {
      "cell_type": "code",
      "metadata": {
        "colab": {
          "base_uri": "https://localhost:8080/"
        },
        "id": "PfejXioZHB1a",
        "outputId": "c86e22f3-56e4-46b0-d4d0-be7c9ec42977"
      },
      "source": [
        "## print cost value\n",
        "print(\"the cost assiciate to the tuned model is ${}\".format(cost(5376,7353))) #cost(FN, FP):"
      ],
      "execution_count": null,
      "outputs": [
        {
          "output_type": "stream",
          "text": [
            "the cost assiciate to the tuned model is $2761530\n",
            "time: 995 µs\n"
          ],
          "name": "stdout"
        }
      ]
    },
    {
      "cell_type": "code",
      "metadata": {
        "colab": {
          "base_uri": "https://localhost:8080/",
          "height": 438,
          "referenced_widgets": [
            "f3ab14fdd67841fe879262b9319cd6a7",
            "b53000a45e8b4af6a639bc81f12090df",
            "a26c75ec27074af1893a9822e344fc04"
          ]
        },
        "id": "w8x3fOr9HB1a",
        "outputId": "8359f886-86a1-408b-f4db-8a2cca5cdac2"
      },
      "source": [
        "# tune using f1 score \n",
        "tuned_lr_f1 = tune_model(lr, optimize = 'f1') "
      ],
      "execution_count": null,
      "outputs": [
        {
          "output_type": "display_data",
          "data": {
            "text/html": [
              "<div>\n",
              "<style scoped>\n",
              "    .dataframe tbody tr th:only-of-type {\n",
              "        vertical-align: middle;\n",
              "    }\n",
              "\n",
              "    .dataframe tbody tr th {\n",
              "        vertical-align: top;\n",
              "    }\n",
              "\n",
              "    .dataframe thead th {\n",
              "        text-align: right;\n",
              "    }\n",
              "</style>\n",
              "<table border=\"1\" class=\"dataframe\">\n",
              "  <thead>\n",
              "    <tr style=\"text-align: right;\">\n",
              "      <th></th>\n",
              "      <th>Accuracy</th>\n",
              "      <th>AUC</th>\n",
              "      <th>Recall</th>\n",
              "      <th>Prec.</th>\n",
              "      <th>F1</th>\n",
              "      <th>Kappa</th>\n",
              "      <th>MCC</th>\n",
              "    </tr>\n",
              "  </thead>\n",
              "  <tbody>\n",
              "    <tr>\n",
              "      <th>0</th>\n",
              "      <td>0.7014</td>\n",
              "      <td>0.7528</td>\n",
              "      <td>0.6801</td>\n",
              "      <td>0.6158</td>\n",
              "      <td>0.6463</td>\n",
              "      <td>0.3890</td>\n",
              "      <td>0.3905</td>\n",
              "    </tr>\n",
              "    <tr>\n",
              "      <th>1</th>\n",
              "      <td>0.7033</td>\n",
              "      <td>0.7560</td>\n",
              "      <td>0.6951</td>\n",
              "      <td>0.6153</td>\n",
              "      <td>0.6528</td>\n",
              "      <td>0.3954</td>\n",
              "      <td>0.3976</td>\n",
              "    </tr>\n",
              "    <tr>\n",
              "      <th>2</th>\n",
              "      <td>0.7042</td>\n",
              "      <td>0.7522</td>\n",
              "      <td>0.6878</td>\n",
              "      <td>0.6180</td>\n",
              "      <td>0.6511</td>\n",
              "      <td>0.3956</td>\n",
              "      <td>0.3973</td>\n",
              "    </tr>\n",
              "    <tr>\n",
              "      <th>3</th>\n",
              "      <td>0.7048</td>\n",
              "      <td>0.7522</td>\n",
              "      <td>0.6787</td>\n",
              "      <td>0.6207</td>\n",
              "      <td>0.6484</td>\n",
              "      <td>0.3949</td>\n",
              "      <td>0.3960</td>\n",
              "    </tr>\n",
              "    <tr>\n",
              "      <th>4</th>\n",
              "      <td>0.6928</td>\n",
              "      <td>0.7380</td>\n",
              "      <td>0.6538</td>\n",
              "      <td>0.6090</td>\n",
              "      <td>0.6306</td>\n",
              "      <td>0.3682</td>\n",
              "      <td>0.3688</td>\n",
              "    </tr>\n",
              "    <tr>\n",
              "      <th>5</th>\n",
              "      <td>0.7001</td>\n",
              "      <td>0.7498</td>\n",
              "      <td>0.6850</td>\n",
              "      <td>0.6129</td>\n",
              "      <td>0.6469</td>\n",
              "      <td>0.3876</td>\n",
              "      <td>0.3894</td>\n",
              "    </tr>\n",
              "    <tr>\n",
              "      <th>6</th>\n",
              "      <td>0.7066</td>\n",
              "      <td>0.7615</td>\n",
              "      <td>0.6907</td>\n",
              "      <td>0.6207</td>\n",
              "      <td>0.6538</td>\n",
              "      <td>0.4005</td>\n",
              "      <td>0.4022</td>\n",
              "    </tr>\n",
              "    <tr>\n",
              "      <th>7</th>\n",
              "      <td>0.7011</td>\n",
              "      <td>0.7534</td>\n",
              "      <td>0.6925</td>\n",
              "      <td>0.6129</td>\n",
              "      <td>0.6502</td>\n",
              "      <td>0.3910</td>\n",
              "      <td>0.3933</td>\n",
              "    </tr>\n",
              "    <tr>\n",
              "      <th>8</th>\n",
              "      <td>0.7006</td>\n",
              "      <td>0.7485</td>\n",
              "      <td>0.6850</td>\n",
              "      <td>0.6137</td>\n",
              "      <td>0.6474</td>\n",
              "      <td>0.3887</td>\n",
              "      <td>0.3904</td>\n",
              "    </tr>\n",
              "    <tr>\n",
              "      <th>9</th>\n",
              "      <td>0.6990</td>\n",
              "      <td>0.7486</td>\n",
              "      <td>0.6862</td>\n",
              "      <td>0.6113</td>\n",
              "      <td>0.6466</td>\n",
              "      <td>0.3860</td>\n",
              "      <td>0.3880</td>\n",
              "    </tr>\n",
              "    <tr>\n",
              "      <th>Mean</th>\n",
              "      <td>0.7014</td>\n",
              "      <td>0.7513</td>\n",
              "      <td>0.6835</td>\n",
              "      <td>0.6150</td>\n",
              "      <td>0.6474</td>\n",
              "      <td>0.3897</td>\n",
              "      <td>0.3914</td>\n",
              "    </tr>\n",
              "    <tr>\n",
              "      <th>SD</th>\n",
              "      <td>0.0036</td>\n",
              "      <td>0.0057</td>\n",
              "      <td>0.0110</td>\n",
              "      <td>0.0037</td>\n",
              "      <td>0.0061</td>\n",
              "      <td>0.0083</td>\n",
              "      <td>0.0086</td>\n",
              "    </tr>\n",
              "  </tbody>\n",
              "</table>\n",
              "</div>"
            ],
            "text/plain": [
              "      Accuracy     AUC  Recall   Prec.      F1   Kappa     MCC\n",
              "0       0.7014  0.7528  0.6801  0.6158  0.6463  0.3890  0.3905\n",
              "1       0.7033  0.7560  0.6951  0.6153  0.6528  0.3954  0.3976\n",
              "2       0.7042  0.7522  0.6878  0.6180  0.6511  0.3956  0.3973\n",
              "3       0.7048  0.7522  0.6787  0.6207  0.6484  0.3949  0.3960\n",
              "4       0.6928  0.7380  0.6538  0.6090  0.6306  0.3682  0.3688\n",
              "5       0.7001  0.7498  0.6850  0.6129  0.6469  0.3876  0.3894\n",
              "6       0.7066  0.7615  0.6907  0.6207  0.6538  0.4005  0.4022\n",
              "7       0.7011  0.7534  0.6925  0.6129  0.6502  0.3910  0.3933\n",
              "8       0.7006  0.7485  0.6850  0.6137  0.6474  0.3887  0.3904\n",
              "9       0.6990  0.7486  0.6862  0.6113  0.6466  0.3860  0.3880\n",
              "Mean    0.7014  0.7513  0.6835  0.6150  0.6474  0.3897  0.3914\n",
              "SD      0.0036  0.0057  0.0110  0.0037  0.0061  0.0083  0.0086"
            ]
          },
          "metadata": {
            "tags": []
          }
        },
        {
          "output_type": "stream",
          "text": [
            "time: 49.3 s\n"
          ],
          "name": "stdout"
        }
      ]
    },
    {
      "cell_type": "code",
      "metadata": {
        "colab": {
          "base_uri": "https://localhost:8080/"
        },
        "id": "cC25ON00HB1a",
        "outputId": "d5f1ba52-469b-485e-c956-42a99704044e"
      },
      "source": [
        "#print model parameter\n",
        "print(tuned_lr_f1)"
      ],
      "execution_count": null,
      "outputs": [
        {
          "output_type": "stream",
          "text": [
            "LogisticRegression(C=0.024, class_weight='balanced', dual=False,\n",
            "                   fit_intercept=True, intercept_scaling=1, l1_ratio=None,\n",
            "                   max_iter=1000, multi_class='auto', n_jobs=None, penalty='l2',\n",
            "                   random_state=123, solver='lbfgs', tol=0.0001, verbose=0,\n",
            "                   warm_start=False)\n",
            "time: 1.39 ms\n"
          ],
          "name": "stdout"
        }
      ]
    },
    {
      "cell_type": "code",
      "metadata": {
        "colab": {
          "base_uri": "https://localhost:8080/",
          "height": 418
        },
        "id": "vC0yZPXGHB1a",
        "outputId": "f5380834-395b-4621-dff4-ce8c76c00bdd"
      },
      "source": [
        "#confusion matrix and cost function\n",
        "plot_model(tuned_lr_f1, plot = 'confusion_matrix')"
      ],
      "execution_count": null,
      "outputs": [
        {
          "output_type": "display_data",
          "data": {
            "image/png": "[encoded data removed]",
            "text/plain": [
              "<Figure size 576x396 with 1 Axes>"
            ]
          },
          "metadata": {
            "tags": []
          }
        },
        {
          "output_type": "stream",
          "text": [
            "time: 558 ms\n"
          ],
          "name": "stdout"
        }
      ]
    },
    {
      "cell_type": "code",
      "metadata": {
        "colab": {
          "base_uri": "https://localhost:8080/"
        },
        "id": "aDN2cpX4HB1a",
        "outputId": "9155ab77-f42f-4dde-c6a8-7760304aa11c"
      },
      "source": [
        "## print cost value\n",
        "print(\"the cost assiciate to the tuned model is ${}\".format(cost(5376,7353))) #cost(FN, FP):\n"
      ],
      "execution_count": null,
      "outputs": [
        {
          "output_type": "stream",
          "text": [
            "the cost assiciate to the tuned model is $2761530\n",
            "time: 1.09 ms\n"
          ],
          "name": "stdout"
        }
      ]
    },
    {
      "cell_type": "markdown",
      "metadata": {
        "id": "ye6vDztHHB1a"
      },
      "source": [
        "looking at the two Logistic regression  turned model based on recall and  f1 score , we can clearly see that the both give the same performance "
      ]
    },
    {
      "cell_type": "markdown",
      "metadata": {
        "id": "Vh_8lG-fOcA1"
      },
      "source": [
        "## COMPARING FINE TUNE MODEL\n",
        "We notice that the  result from the turned on Catboost and Logistic regresssion give us the same cost estimate using either F1 or Recall metric criteria. On the hand we can see the Random Forest optimized between recall and F1 produced different cost estimate, Where  the  best F1 score of  0.74  give a cost of $2 221650 and the best recall of 1.0  give a cost of  255510 . Since we  cost reduction is the main objective, we will go ahead and use  the turned random forest with recall value of 1  as the  best model since it give the lowest cost as the final mode\n",
        "\n",
        "![image.png](data:image/png;base64,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)\n"
      ]
    },
    {
      "cell_type": "markdown",
      "metadata": {
        "id": "osRFcjpjVGq3"
      },
      "source": [
        "## Analize Final Model"
      ]
    },
    {
      "cell_type": "markdown",
      "metadata": {
        "id": "EsCs8jvJVYoj"
      },
      "source": [
        "### 1. model hyper paramters:"
      ]
    },
    {
      "cell_type": "code",
      "metadata": {
        "colab": {
          "base_uri": "https://localhost:8080/",
          "height": 655
        },
        "id": "ygg_ZVIQVHdj",
        "outputId": "c7ec80fe-96f5-4869-940d-13353dcc31bb"
      },
      "source": [
        "plot_model(tuned_rf, plot = 'parameter')"
      ],
      "execution_count": null,
      "outputs": [
        {
          "output_type": "display_data",
          "data": {
            "text/html": [
              "<div>\n",
              "<style scoped>\n",
              "    .dataframe tbody tr th:only-of-type {\n",
              "        vertical-align: middle;\n",
              "    }\n",
              "\n",
              "    .dataframe tbody tr th {\n",
              "        vertical-align: top;\n",
              "    }\n",
              "\n",
              "    .dataframe thead th {\n",
              "        text-align: right;\n",
              "    }\n",
              "</style>\n",
              "<table border=\"1\" class=\"dataframe\">\n",
              "  <thead>\n",
              "    <tr style=\"text-align: right;\">\n",
              "      <th></th>\n",
              "      <th>Parameters</th>\n",
              "    </tr>\n",
              "  </thead>\n",
              "  <tbody>\n",
              "    <tr>\n",
              "      <th>bootstrap</th>\n",
              "      <td>True</td>\n",
              "    </tr>\n",
              "    <tr>\n",
              "      <th>ccp_alpha</th>\n",
              "      <td>0.0</td>\n",
              "    </tr>\n",
              "    <tr>\n",
              "      <th>class_weight</th>\n",
              "      <td>balanced</td>\n",
              "    </tr>\n",
              "    <tr>\n",
              "      <th>criterion</th>\n",
              "      <td>gini</td>\n",
              "    </tr>\n",
              "    <tr>\n",
              "      <th>max_depth</th>\n",
              "      <td>9</td>\n",
              "    </tr>\n",
              "    <tr>\n",
              "      <th>max_features</th>\n",
              "      <td>1.0</td>\n",
              "    </tr>\n",
              "    <tr>\n",
              "      <th>max_leaf_nodes</th>\n",
              "      <td>None</td>\n",
              "    </tr>\n",
              "    <tr>\n",
              "      <th>max_samples</th>\n",
              "      <td>None</td>\n",
              "    </tr>\n",
              "    <tr>\n",
              "      <th>min_impurity_decrease</th>\n",
              "      <td>0.1</td>\n",
              "    </tr>\n",
              "    <tr>\n",
              "      <th>min_impurity_split</th>\n",
              "      <td>None</td>\n",
              "    </tr>\n",
              "    <tr>\n",
              "      <th>min_samples_leaf</th>\n",
              "      <td>4</td>\n",
              "    </tr>\n",
              "    <tr>\n",
              "      <th>min_samples_split</th>\n",
              "      <td>7</td>\n",
              "    </tr>\n",
              "    <tr>\n",
              "      <th>min_weight_fraction_leaf</th>\n",
              "      <td>0.0</td>\n",
              "    </tr>\n",
              "    <tr>\n",
              "      <th>n_estimators</th>\n",
              "      <td>100</td>\n",
              "    </tr>\n",
              "    <tr>\n",
              "      <th>n_jobs</th>\n",
              "      <td>-1</td>\n",
              "    </tr>\n",
              "    <tr>\n",
              "      <th>oob_score</th>\n",
              "      <td>False</td>\n",
              "    </tr>\n",
              "    <tr>\n",
              "      <th>random_state</th>\n",
              "      <td>123</td>\n",
              "    </tr>\n",
              "    <tr>\n",
              "      <th>verbose</th>\n",
              "      <td>0</td>\n",
              "    </tr>\n",
              "    <tr>\n",
              "      <th>warm_start</th>\n",
              "      <td>False</td>\n",
              "    </tr>\n",
              "  </tbody>\n",
              "</table>\n",
              "</div>"
            ],
            "text/plain": [
              "                         Parameters\n",
              "bootstrap                      True\n",
              "ccp_alpha                       0.0\n",
              "class_weight               balanced\n",
              "criterion                      gini\n",
              "max_depth                         9\n",
              "max_features                    1.0\n",
              "max_leaf_nodes                 None\n",
              "max_samples                    None\n",
              "min_impurity_decrease           0.1\n",
              "min_impurity_split             None\n",
              "min_samples_leaf                  4\n",
              "min_samples_split                 7\n",
              "min_weight_fraction_leaf        0.0\n",
              "n_estimators                    100\n",
              "n_jobs                           -1\n",
              "oob_score                     False\n",
              "random_state                    123\n",
              "verbose                           0\n",
              "warm_start                    False"
            ]
          },
          "metadata": {
            "tags": []
          }
        },
        {
          "output_type": "stream",
          "text": [
            "time: 290 ms\n"
          ],
          "name": "stdout"
        }
      ]
    },
    {
      "cell_type": "markdown",
      "metadata": {
        "id": "aXcHveWDcNLv"
      },
      "source": [
        "### 2. plot model"
      ]
    },
    {
      "cell_type": "markdown",
      "metadata": {
        "id": "fP9_2j3IcV_u"
      },
      "source": [
        "#####              Using AUC"
      ]
    },
    {
      "cell_type": "code",
      "metadata": {
        "colab": {
          "base_uri": "https://localhost:8080/",
          "height": 393,
          "referenced_widgets": [
            "d4392160f7064080896ca3a0d99f0b13",
            "beeab82fbe804cefa8b51067dae2bfd3",
            "7ade6e9732fd4d71936bf2bc49f83c92"
          ]
        },
        "id": "Tc0HxMEgVrBh",
        "outputId": "38c137ca-56b9-4c87-fb65-e62d85eaa612"
      },
      "source": [
        "plot_model(tuned_rf, plot = 'auc')"
      ],
      "execution_count": null,
      "outputs": [
        {
          "output_type": "display_data",
          "data": {
            "image/png": "[encoded data removed]",
            "text/plain": [
              "<Figure size 576x396 with 1 Axes>"
            ]
          },
          "metadata": {
            "tags": []
          }
        },
        {
          "output_type": "stream",
          "text": [
            "time: 915 ms\n"
          ],
          "name": "stdout"
        }
      ]
    },
    {
      "cell_type": "markdown",
      "metadata": {
        "id": "NkOGCPfvcvni"
      },
      "source": [
        "##### Using Precision -Recall"
      ]
    },
    {
      "cell_type": "code",
      "metadata": {
        "colab": {
          "base_uri": "https://localhost:8080/",
          "height": 393,
          "referenced_widgets": [
            "51284dd8154149679adac0535746beda"
          ]
        },
        "id": "zeeH2u7ecpks",
        "outputId": "1930b849-1faf-438b-e39c-bc486b94b6fb"
      },
      "source": [
        "plot_model(tuned_rf, plot = 'pr')"
      ],
      "execution_count": null,
      "outputs": [
        {
          "output_type": "display_data",
          "data": {
            "image/png": "[encoded data removed]",
            "text/plain": [
              "<Figure size 576x396 with 1 Axes>"
            ]
          },
          "metadata": {
            "tags": []
          }
        },
        {
          "output_type": "stream",
          "text": [
            "time: 815 ms\n"
          ],
          "name": "stdout"
        }
      ]
    },
    {
      "cell_type": "markdown",
      "metadata": {
        "id": "Y1OpJ0xKdlRY"
      },
      "source": [
        "#### 3. Feature importance"
      ]
    },
    {
      "cell_type": "code",
      "metadata": {
        "colab": {
          "base_uri": "https://localhost:8080/",
          "height": 495
        },
        "id": "s7KGQF9ZdqPu",
        "outputId": "d22c50a1-47eb-4c2f-8f71-ba409c01eeec"
      },
      "source": [
        "plot_model(tuned_rf, plot='feature')"
      ],
      "execution_count": null,
      "outputs": [
        {
          "output_type": "display_data",
          "data": {
            "image/png": "[encoded data removed]",
            "text/plain": [
              "<Figure size 800x500 with 1 Axes>"
            ]
          },
          "metadata": {
            "tags": []
          }
        },
        {
          "output_type": "stream",
          "text": [
            "time: 528 ms\n"
          ],
          "name": "stdout"
        }
      ]
    },
    {
      "cell_type": "markdown",
      "metadata": {
        "id": "vXU_SEkIeukQ"
      },
      "source": [
        "#### 4.0 Predict on test / hold-out Sample\n",
        "Before finalizing the model, it is advisable to perform one final check by predicting the test/hold-out set to evaluate the final model  cost and performance on the 30% of data(42766) that has been seperated of the data has been separated out as test/hold-out sample.\n",
        "\n"
      ]
    },
    {
      "cell_type": "code",
      "metadata": {
        "colab": {
          "base_uri": "https://localhost:8080/",
          "height": 97
        },
        "id": "j2fnbw3PdtNw",
        "outputId": "9db20d18-a029-4061-9522-c7facff9f00a"
      },
      "source": [
        "predict_model(tuned_rf);"
      ],
      "execution_count": null,
      "outputs": [
        {
          "output_type": "display_data",
          "data": {
            "text/html": [
              "<div>\n",
              "<style scoped>\n",
              "    .dataframe tbody tr th:only-of-type {\n",
              "        vertical-align: middle;\n",
              "    }\n",
              "\n",
              "    .dataframe tbody tr th {\n",
              "        vertical-align: top;\n",
              "    }\n",
              "\n",
              "    .dataframe thead th {\n",
              "        text-align: right;\n",
              "    }\n",
              "</style>\n",
              "<table border=\"1\" class=\"dataframe\">\n",
              "  <thead>\n",
              "    <tr style=\"text-align: right;\">\n",
              "      <th></th>\n",
              "      <th>Model</th>\n",
              "      <th>Accuracy</th>\n",
              "      <th>AUC</th>\n",
              "      <th>Recall</th>\n",
              "      <th>Prec.</th>\n",
              "      <th>F1</th>\n",
              "      <th>Kappa</th>\n",
              "      <th>MCC</th>\n",
              "    </tr>\n",
              "  </thead>\n",
              "  <tbody>\n",
              "    <tr>\n",
              "      <th>0</th>\n",
              "      <td>Random Forest Classifier</td>\n",
              "      <td>0.4025</td>\n",
              "      <td>0.5</td>\n",
              "      <td>1.0</td>\n",
              "      <td>0.4025</td>\n",
              "      <td>0.574</td>\n",
              "      <td>0.0</td>\n",
              "      <td>0.0</td>\n",
              "    </tr>\n",
              "  </tbody>\n",
              "</table>\n",
              "</div>"
            ],
            "text/plain": [
              "                      Model  Accuracy  AUC  Recall   Prec.     F1  Kappa  MCC\n",
              "0  Random Forest Classifier    0.4025  0.5     1.0  0.4025  0.574    0.0  0.0"
            ]
          },
          "metadata": {
            "tags": []
          }
        },
        {
          "output_type": "stream",
          "text": [
            "time: 694 ms\n"
          ],
          "name": "stdout"
        }
      ]
    },
    {
      "cell_type": "code",
      "metadata": {
        "id": "yq9siwu8mZql"
      },
      "source": [
        " interpret_model(tuned_rf)"
      ],
      "execution_count": null,
      "outputs": []
    },
    {
      "cell_type": "markdown",
      "metadata": {
        "id": "n_Khkt1gqDV7"
      },
      "source": [
        "#### 5.0 Finalize Model for Deployment"
      ]
    },
    {
      "cell_type": "code",
      "metadata": {
        "id": "-UIyXMGhqSZb"
      },
      "source": [
        "final_rf = finalize_model(tuned_rf)"
      ],
      "execution_count": null,
      "outputs": []
    },
    {
      "cell_type": "markdown",
      "metadata": {
        "id": "TRXdqyWzDwLI"
      },
      "source": [
        "#### 6.0 Predict on unseen data"
      ]
    },
    {
      "cell_type": "code",
      "metadata": {
        "id": "f4mXnnKetsBp"
      },
      "source": [
        "unseen_predictions = predict_model(final_rf, data=data_unseen)\n",
        "unseen_predictions.head()\n"
      ],
      "execution_count": null,
      "outputs": []
    },
    {
      "cell_type": "markdown",
      "metadata": {
        "id": "2zukZVE1EJdw"
      },
      "source": [
        "#### 7.0 cost of the  unseen data\n"
      ]
    },
    {
      "cell_type": "code",
      "metadata": {
        "id": "NbDe7kTvEKsJ"
      },
      "source": [
        "# cost(TN, TF)"
      ],
      "execution_count": null,
      "outputs": []
    }
  ]
}